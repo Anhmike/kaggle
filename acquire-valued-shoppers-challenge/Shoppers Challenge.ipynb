{
 "metadata": {
  "name": ""
 },
 "nbformat": 3,
 "nbformat_minor": 0,
 "worksheets": [
  {
   "cells": [
    {
     "cell_type": "markdown",
     "metadata": {},
     "source": [
      "## Problem Statement ##\n",
      "\n",
      "This data captures the process of offering incentives (a.k.a. coupons) to a large number of customers and forecasting those who will become loyal to the product. Let's say 100 customers are offered a discount to purchase two bottles of water. Of the 100 customers, 60 choose to redeem the offer. These 60 customers are the focus of this competition. You are asked to predict which of the 60 will return (during or after the promotional period) to purchase the same item again.\n",
      "\n",
      "To create this prediction, you are given a minimum of a year of shopping history prior to each customer's incentive, as well as the purchase histories of many other shoppers (some of whom will have received the same offer). The transaction history contains all items purchased, not just items related to the offer. Only one offer per customer is included in the data. The training set is comprised of offers issued before 2013-05-01. The test set is offers issued on or after 2013-05-01.\n",
      "\n",
      "### Files ###\n",
      "You are provided four relational files:\n",
      "\n",
      "- transactions.csv - contains transaction history for all customers for a period of at least 1 year prior to their offered incentive\n",
      "- trainHistory.csv - contains the incentive offered to each customer and information about the behavioral response to the offer\n",
      "- testHistory.csv - contains the incentive offered to each customer but does not include their response (you are predicting the repeater column for each id in this file)\n",
      "- offers.csv - contains information about the offers\n",
      "\n",
      "### Fields ###\n",
      "All of the fields are anonymized and categorized to protect customer and sales information. The specific meanings of the fields will not be provided (so don't bother asking). Part of the challenge of this competition is learning the taxonomy of items in a data-driven way.\n",
      "\n",
      "history:\n",
      "\n",
      "- __id__ - A unique id representing a customer\n",
      "- __chain__ - An integer representing a store chain\n",
      "- __offer__ - An id representing a certain offer\n",
      "- __market__ - An id representing a geographical region\n",
      "- __repeattrips__ - The number of times the customer made a repeat purchase\n",
      "- __repeater__ - A boolean, equal to repeattrips > 0\n",
      "- __offerdate__ - The date a customer received the offer\n",
      "\n",
      "transactions:\n",
      "\n",
      "- __id__ - see above\n",
      "- __chain__ - see above\n",
      "- __dept__ - An aggregate grouping of the Category (e.g. water)\n",
      "- __category__ - The product category (e.g. sparkling water)\n",
      "- __company__ - An id of the company that sells the item\n",
      "- __brand__ - An id of the brand to which the item belongs\n",
      "- __date__ - The date of purchase\n",
      "- __productsize__ - The amount of the product purchase (e.g. 16 oz of water)\n",
      "- __productmeasure__ - The units of the product purchase (e.g. ounces)\n",
      "- __purchasequantity__ - The number of units purchased\n",
      "- __purchaseamount__ - The dollar amount of the purchase\n",
      "\n",
      "offers:\n",
      "\n",
      "- __offer__ - see above\n",
      "- __category__ - see above\n",
      "- __quantity__ - The number of units one must purchase to get the discount\n",
      "- __company__ - see above\n",
      "- __offervalue__ - The dollar value of the offer\n",
      "- __brand__ - see above\n",
      "\n",
      "The transactions file can be joined to the history file by (id,chain). The history file can be joined to the offers file by (offer). The transactions file can be joined to the offers file by (category, brand, company). A negative value in __productquantity__ and __purchaseamount__ indicates a return."
     ]
    },
    {
     "cell_type": "markdown",
     "metadata": {},
     "source": [
      "## Exploratory Data Analysis ##\n",
      "\n",
      "#### Transactions Basic Counts ###\n",
      "\n",
      "- How many transactions? 349,655,789\n",
      "- unique users: 311,541\n",
      "- unique chains: 134\n",
      "- unique dept's: 83\n",
      "- categories: 836\n",
      "- companies: 32,773\n",
      "- brands: 35,689\n",
      "- dates: 505 days from 2012-03-02 to 2013-07-20\n",
      "- unique product sizes: 2,726 or 369 if rounded down.\n",
      "- unique product measures: 12\n",
      "- unique purchase quantities: 2,450\n",
      "- unique puchase amounts: 66,452 or 4308 if rounded down. \n",
      "- unique products (category, company, brand): 120,149\n",
      "\n",
      "\n",
      "\n",
      "- How many repeat purchases?\n",
      "- At how many chains does a shopper shop at?\n",
      "\n",
      "#### Transactions Temporal Stats ####\n",
      "\n",
      "- Number of transactions per day\n",
      "- What day of the week do people shop the most?\n",
      "- What day of the week to people redeem their offers?\n",
      "- Are there seasonal trends to the need of products?\n",
      "\n",
      "- Product / quantity graph\n",
      "\n",
      "#### Offer Stats ####\n",
      "\n",
      "- How many markets ? 34\n",
      "- What is the uptake of discounts per the units one must purchase (quantity)?\n",
      "- What is the range of offer value? From 0.75 to 5.0 : 0.75,  1.  ,  1.25,  1.5 ,  2.  ,  3.  ,  5. \n",
      "- What is the uptake per offer value?\n",
      "- What is the uptake per category/company/brand?\n",
      "- What is the $ spend per store chain per day?\n",
      "- Which departments have the most redemptions?\n"
     ]
    },
    {
     "cell_type": "code",
     "collapsed": false,
     "input": [
      "import csv\n",
      "import numpy as np\n",
      "import pandas as pd\n",
      "import json, ast\n",
      "import matplotlib.pyplot as plt\n",
      "%pylab inline"
     ],
     "language": "python",
     "metadata": {},
     "outputs": [
      {
       "output_type": "stream",
       "stream": "stdout",
       "text": [
        "Populating the interactive namespace from numpy and matplotlib\n"
       ]
      }
     ],
     "prompt_number": 1
    },
    {
     "cell_type": "code",
     "collapsed": false,
     "input": [
      "%cd Desktop/Shoppers/data\n",
      "\n",
      "fp = open('cat_co_brand.json',\"r\")\n",
      "s = fp.read()\n",
      "product_counts = ast.literal_eval(s)\n",
      "len(product_counts)"
     ],
     "language": "python",
     "metadata": {},
     "outputs": [
      {
       "output_type": "stream",
       "stream": "stdout",
       "text": [
        "/Users/Paul/Desktop/Shoppers/data\n"
       ]
      },
      {
       "metadata": {},
       "output_type": "pyout",
       "prompt_number": 2,
       "text": [
        "120149"
       ]
      }
     ],
     "prompt_number": 2
    },
    {
     "cell_type": "code",
     "collapsed": false,
     "input": [
      "df_product_counts = pd.DataFrame.from_dict(product_counts,orient='index')\n",
      "df_product_counts.reset_index(inplace=True)\n",
      "df_product_counts.columns = ['product','counts']\n",
      "df_product_counts.sort('counts',ascending=False)[:10]"
     ],
     "language": "python",
     "metadata": {},
     "outputs": [
      {
       "html": [
        "<div style=\"max-height:1000px;max-width:1500px;overflow:auto;\">\n",
        "<table border=\"1\" class=\"dataframe\">\n",
        "  <thead>\n",
        "    <tr style=\"text-align: right;\">\n",
        "      <th></th>\n",
        "      <th>product</th>\n",
        "      <th>counts</th>\n",
        "    </tr>\n",
        "  </thead>\n",
        "  <tbody>\n",
        "    <tr>\n",
        "      <th>87542 </th>\n",
        "      <td>            0.10000.0</td>\n",
        "      <td> 5088384</td>\n",
        "    </tr>\n",
        "    <tr>\n",
        "      <th>9199  </th>\n",
        "      <td> 9908.103338333.33170</td>\n",
        "      <td> 2399620</td>\n",
        "    </tr>\n",
        "    <tr>\n",
        "      <th>7470  </th>\n",
        "      <td> 9904.103338333.33170</td>\n",
        "      <td> 1699635</td>\n",
        "    </tr>\n",
        "    <tr>\n",
        "      <th>46323 </th>\n",
        "      <td> 3303.102840020.10241</td>\n",
        "      <td> 1445933</td>\n",
        "    </tr>\n",
        "    <tr>\n",
        "      <th>94214 </th>\n",
        "      <td>         9753.10000.0</td>\n",
        "      <td> 1327170</td>\n",
        "    </tr>\n",
        "    <tr>\n",
        "      <th>104126</th>\n",
        "      <td> 9904.1071575676.5278</td>\n",
        "      <td> 1259589</td>\n",
        "    </tr>\n",
        "    <tr>\n",
        "      <th>62057 </th>\n",
        "      <td> 3618.104900040.23359</td>\n",
        "      <td> 1196261</td>\n",
        "    </tr>\n",
        "    <tr>\n",
        "      <th>112411</th>\n",
        "      <td>  9909.107143070.5072</td>\n",
        "      <td> 1148035</td>\n",
        "    </tr>\n",
        "    <tr>\n",
        "      <th>48009 </th>\n",
        "      <td>  3601.104900040.3809</td>\n",
        "      <td> 1119344</td>\n",
        "    </tr>\n",
        "    <tr>\n",
        "      <th>25241 </th>\n",
        "      <td>  3703.105100050.2820</td>\n",
        "      <td> 1083012</td>\n",
        "    </tr>\n",
        "  </tbody>\n",
        "</table>\n",
        "<p>10 rows \u00d7 2 columns</p>\n",
        "</div>"
       ],
       "metadata": {},
       "output_type": "pyout",
       "prompt_number": 3,
       "text": [
        "                     product   counts\n",
        "87542              0.10000.0  5088384\n",
        "9199    9908.103338333.33170  2399620\n",
        "7470    9904.103338333.33170  1699635\n",
        "46323   3303.102840020.10241  1445933\n",
        "94214           9753.10000.0  1327170\n",
        "104126  9904.1071575676.5278  1259589\n",
        "62057   3618.104900040.23359  1196261\n",
        "112411   9909.107143070.5072  1148035\n",
        "48009    3601.104900040.3809  1119344\n",
        "25241    3703.105100050.2820  1083012\n",
        "\n",
        "[10 rows x 2 columns]"
       ]
      }
     ],
     "prompt_number": 3
    },
    {
     "cell_type": "code",
     "collapsed": false,
     "input": [
      "df_product_sorted = df_product_counts.sort('counts',ascending=False)"
     ],
     "language": "python",
     "metadata": {},
     "outputs": [],
     "prompt_number": 4
    },
    {
     "cell_type": "code",
     "collapsed": false,
     "input": [
      "df_product_sorted['counts'][:10].plot(use_index=False)"
     ],
     "language": "python",
     "metadata": {},
     "outputs": [
      {
       "metadata": {},
       "output_type": "pyout",
       "prompt_number": 7,
       "text": [
        "<matplotlib.axes.AxesSubplot at 0x10d6e4c90>"
       ]
      },
      {
       "metadata": {},
       "output_type": "display_data",
       "png": "[encoded data removed]",
       "text": [
        "<matplotlib.figure.Figure at 0x10d6c7ad0>"
       ]
      }
     ],
     "prompt_number": 7
    },
    {
     "cell_type": "code",
     "collapsed": false,
     "input": [
      "df_product_sorted['counts'][10:50].plot(use_index=False)"
     ],
     "language": "python",
     "metadata": {},
     "outputs": [
      {
       "metadata": {},
       "output_type": "pyout",
       "prompt_number": 8,
       "text": [
        "<matplotlib.axes.AxesSubplot at 0x10ce902d0>"
       ]
      },
      {
       "metadata": {},
       "output_type": "display_data",
       "png": "[encoded data removed]",
       "text": [
        "<matplotlib.figure.Figure at 0x10d6ebbd0>"
       ]
      }
     ],
     "prompt_number": 8
    },
    {
     "cell_type": "code",
     "collapsed": false,
     "input": [
      "df_product_sorted['counts'][50:200].plot(use_index=False)"
     ],
     "language": "python",
     "metadata": {},
     "outputs": [
      {
       "metadata": {},
       "output_type": "pyout",
       "prompt_number": 10,
       "text": [
        "<matplotlib.axes.AxesSubplot at 0x10a530690>"
       ]
      },
      {
       "metadata": {},
       "output_type": "display_data",
       "png": "[encoded data removed]",
       "text": [
        "<matplotlib.figure.Figure at 0x10a528e10>"
       ]
      }
     ],
     "prompt_number": 10
    },
    {
     "cell_type": "code",
     "collapsed": false,
     "input": [
      "df_product_sorted['counts'][200:].plot(use_index=False)"
     ],
     "language": "python",
     "metadata": {},
     "outputs": [
      {
       "metadata": {},
       "output_type": "pyout",
       "prompt_number": 11,
       "text": [
        "<matplotlib.axes.AxesSubplot at 0x10a691f10>"
       ]
      },
      {
       "metadata": {},
       "output_type": "display_data",
       "png": "[encoded data removed]",
       "text": [
        "<matplotlib.figure.Figure at 0x10ce95790>"
       ]
      }
     ],
     "prompt_number": 11
    },
    {
     "cell_type": "code",
     "collapsed": false,
     "input": [
      "df_product_sorted[:20]"
     ],
     "language": "python",
     "metadata": {},
     "outputs": [
      {
       "html": [
        "<div style=\"max-height:1000px;max-width:1500px;overflow:auto;\">\n",
        "<table border=\"1\" class=\"dataframe\">\n",
        "  <thead>\n",
        "    <tr style=\"text-align: right;\">\n",
        "      <th></th>\n",
        "      <th>product</th>\n",
        "      <th>counts</th>\n",
        "    </tr>\n",
        "  </thead>\n",
        "  <tbody>\n",
        "    <tr>\n",
        "      <th>87542 </th>\n",
        "      <td>            0.10000.0</td>\n",
        "      <td> 5088384</td>\n",
        "    </tr>\n",
        "    <tr>\n",
        "      <th>9199  </th>\n",
        "      <td> 9908.103338333.33170</td>\n",
        "      <td> 2399620</td>\n",
        "    </tr>\n",
        "    <tr>\n",
        "      <th>7470  </th>\n",
        "      <td> 9904.103338333.33170</td>\n",
        "      <td> 1699635</td>\n",
        "    </tr>\n",
        "    <tr>\n",
        "      <th>46323 </th>\n",
        "      <td> 3303.102840020.10241</td>\n",
        "      <td> 1445933</td>\n",
        "    </tr>\n",
        "    <tr>\n",
        "      <th>94214 </th>\n",
        "      <td>         9753.10000.0</td>\n",
        "      <td> 1327170</td>\n",
        "    </tr>\n",
        "    <tr>\n",
        "      <th>104126</th>\n",
        "      <td> 9904.1071575676.5278</td>\n",
        "      <td> 1259589</td>\n",
        "    </tr>\n",
        "    <tr>\n",
        "      <th>62057 </th>\n",
        "      <td> 3618.104900040.23359</td>\n",
        "      <td> 1196261</td>\n",
        "    </tr>\n",
        "    <tr>\n",
        "      <th>112411</th>\n",
        "      <td>  9909.107143070.5072</td>\n",
        "      <td> 1148035</td>\n",
        "    </tr>\n",
        "    <tr>\n",
        "      <th>48009 </th>\n",
        "      <td>  3601.104900040.3809</td>\n",
        "      <td> 1119344</td>\n",
        "    </tr>\n",
        "    <tr>\n",
        "      <th>25241 </th>\n",
        "      <td>  3703.105100050.2820</td>\n",
        "      <td> 1083012</td>\n",
        "    </tr>\n",
        "    <tr>\n",
        "      <th>57288 </th>\n",
        "      <td> 5125.101380010.10271</td>\n",
        "      <td> 1073172</td>\n",
        "    </tr>\n",
        "    <tr>\n",
        "      <th>119878</th>\n",
        "      <td>  6315.101111010.9907</td>\n",
        "      <td> 1032536</td>\n",
        "    </tr>\n",
        "    <tr>\n",
        "      <th>79825 </th>\n",
        "      <td>  9909.107127979.6732</td>\n",
        "      <td>  969615</td>\n",
        "    </tr>\n",
        "    <tr>\n",
        "      <th>65608 </th>\n",
        "      <td>  2105.105200050.7054</td>\n",
        "      <td>  936762</td>\n",
        "    </tr>\n",
        "    <tr>\n",
        "      <th>30174 </th>\n",
        "      <td> 5823.104470040.13310</td>\n",
        "      <td>  927088</td>\n",
        "    </tr>\n",
        "    <tr>\n",
        "      <th>72716 </th>\n",
        "      <td>  2301.107680878.1393</td>\n",
        "      <td>  888353</td>\n",
        "    </tr>\n",
        "    <tr>\n",
        "      <th>95394 </th>\n",
        "      <td>   501.101600010.3331</td>\n",
        "      <td>  877636</td>\n",
        "    </tr>\n",
        "    <tr>\n",
        "      <th>73304 </th>\n",
        "      <td> 6315.104119040.16347</td>\n",
        "      <td>  844206</td>\n",
        "    </tr>\n",
        "    <tr>\n",
        "      <th>18302 </th>\n",
        "      <td> 3601.101200010.13794</td>\n",
        "      <td>  816218</td>\n",
        "    </tr>\n",
        "    <tr>\n",
        "      <th>97027 </th>\n",
        "      <td>        0.10000.20405</td>\n",
        "      <td>  792577</td>\n",
        "    </tr>\n",
        "  </tbody>\n",
        "</table>\n",
        "<p>20 rows \u00d7 2 columns</p>\n",
        "</div>"
       ],
       "metadata": {},
       "output_type": "pyout",
       "prompt_number": 12,
       "text": [
        "                     product   counts\n",
        "87542              0.10000.0  5088384\n",
        "9199    9908.103338333.33170  2399620\n",
        "7470    9904.103338333.33170  1699635\n",
        "46323   3303.102840020.10241  1445933\n",
        "94214           9753.10000.0  1327170\n",
        "104126  9904.1071575676.5278  1259589\n",
        "62057   3618.104900040.23359  1196261\n",
        "112411   9909.107143070.5072  1148035\n",
        "48009    3601.104900040.3809  1119344\n",
        "25241    3703.105100050.2820  1083012\n",
        "57288   5125.101380010.10271  1073172\n",
        "119878   6315.101111010.9907  1032536\n",
        "79825    9909.107127979.6732   969615\n",
        "65608    2105.105200050.7054   936762\n",
        "30174   5823.104470040.13310   927088\n",
        "72716    2301.107680878.1393   888353\n",
        "95394     501.101600010.3331   877636\n",
        "73304   6315.104119040.16347   844206\n",
        "18302   3601.101200010.13794   816218\n",
        "97027          0.10000.20405   792577\n",
        "\n",
        "[20 rows x 2 columns]"
       ]
      }
     ],
     "prompt_number": 12
    },
    {
     "cell_type": "code",
     "collapsed": false,
     "input": [
      "df_trainHistory = pd.DataFrame.from_csv('trainHistory.csv')\n",
      "df_trainHistory[:4]"
     ],
     "language": "python",
     "metadata": {},
     "outputs": [
      {
       "html": [
        "<div style=\"max-height:1000px;max-width:1500px;overflow:auto;\">\n",
        "<table border=\"1\" class=\"dataframe\">\n",
        "  <thead>\n",
        "    <tr style=\"text-align: right;\">\n",
        "      <th></th>\n",
        "      <th>chain</th>\n",
        "      <th>offer</th>\n",
        "      <th>market</th>\n",
        "      <th>repeattrips</th>\n",
        "      <th>repeater</th>\n",
        "      <th>offerdate</th>\n",
        "    </tr>\n",
        "    <tr>\n",
        "      <th>id</th>\n",
        "      <th></th>\n",
        "      <th></th>\n",
        "      <th></th>\n",
        "      <th></th>\n",
        "      <th></th>\n",
        "      <th></th>\n",
        "    </tr>\n",
        "  </thead>\n",
        "  <tbody>\n",
        "    <tr>\n",
        "      <th>86246   </th>\n",
        "      <td> 205</td>\n",
        "      <td> 1208251</td>\n",
        "      <td> 34</td>\n",
        "      <td>  5</td>\n",
        "      <td> t</td>\n",
        "      <td> 2013-04-24</td>\n",
        "    </tr>\n",
        "    <tr>\n",
        "      <th>86252   </th>\n",
        "      <td> 205</td>\n",
        "      <td> 1197502</td>\n",
        "      <td> 34</td>\n",
        "      <td> 16</td>\n",
        "      <td> t</td>\n",
        "      <td> 2013-03-27</td>\n",
        "    </tr>\n",
        "    <tr>\n",
        "      <th>12682470</th>\n",
        "      <td>  18</td>\n",
        "      <td> 1197502</td>\n",
        "      <td> 11</td>\n",
        "      <td>  0</td>\n",
        "      <td> f</td>\n",
        "      <td> 2013-03-28</td>\n",
        "    </tr>\n",
        "    <tr>\n",
        "      <th>12996040</th>\n",
        "      <td>  15</td>\n",
        "      <td> 1197502</td>\n",
        "      <td>  9</td>\n",
        "      <td>  0</td>\n",
        "      <td> f</td>\n",
        "      <td> 2013-03-25</td>\n",
        "    </tr>\n",
        "  </tbody>\n",
        "</table>\n",
        "<p>4 rows \u00d7 6 columns</p>\n",
        "</div>"
       ],
       "metadata": {},
       "output_type": "pyout",
       "prompt_number": 15,
       "text": [
        "          chain    offer  market  repeattrips repeater   offerdate\n",
        "id                                                                \n",
        "86246       205  1208251      34            5        t  2013-04-24\n",
        "86252       205  1197502      34           16        t  2013-03-27\n",
        "12682470     18  1197502      11            0        f  2013-03-28\n",
        "12996040     15  1197502       9            0        f  2013-03-25\n",
        "\n",
        "[4 rows x 6 columns]"
       ]
      }
     ],
     "prompt_number": 15
    },
    {
     "cell_type": "code",
     "collapsed": false,
     "input": [
      "len(df_trainHistory.market.unique())"
     ],
     "language": "python",
     "metadata": {},
     "outputs": [
      {
       "metadata": {},
       "output_type": "pyout",
       "prompt_number": 17,
       "text": [
        "34"
       ]
      }
     ],
     "prompt_number": 17
    },
    {
     "cell_type": "code",
     "collapsed": false,
     "input": [
      "df_testHistory = pd.DataFrame.from_csv('testHistory.csv')\n",
      "df_testHistory[:4]"
     ],
     "language": "python",
     "metadata": {},
     "outputs": [
      {
       "html": [
        "<div style=\"max-height:1000px;max-width:1500px;overflow:auto;\">\n",
        "<table border=\"1\" class=\"dataframe\">\n",
        "  <thead>\n",
        "    <tr style=\"text-align: right;\">\n",
        "      <th></th>\n",
        "      <th>chain</th>\n",
        "      <th>offer</th>\n",
        "      <th>market</th>\n",
        "      <th>offerdate</th>\n",
        "    </tr>\n",
        "    <tr>\n",
        "      <th>id</th>\n",
        "      <th></th>\n",
        "      <th></th>\n",
        "      <th></th>\n",
        "      <th></th>\n",
        "    </tr>\n",
        "  </thead>\n",
        "  <tbody>\n",
        "    <tr>\n",
        "      <th>12262064</th>\n",
        "      <td> 95</td>\n",
        "      <td> 1219903</td>\n",
        "      <td> 39</td>\n",
        "      <td> 2013-06-27</td>\n",
        "    </tr>\n",
        "    <tr>\n",
        "      <th>12277270</th>\n",
        "      <td> 95</td>\n",
        "      <td> 1221658</td>\n",
        "      <td> 39</td>\n",
        "      <td> 2013-06-23</td>\n",
        "    </tr>\n",
        "    <tr>\n",
        "      <th>12332190</th>\n",
        "      <td> 95</td>\n",
        "      <td> 1213242</td>\n",
        "      <td> 39</td>\n",
        "      <td> 2013-06-15</td>\n",
        "    </tr>\n",
        "    <tr>\n",
        "      <th>12524696</th>\n",
        "      <td>  4</td>\n",
        "      <td> 1221665</td>\n",
        "      <td>  1</td>\n",
        "      <td> 2013-06-20</td>\n",
        "    </tr>\n",
        "  </tbody>\n",
        "</table>\n",
        "<p>4 rows \u00d7 4 columns</p>\n",
        "</div>"
       ],
       "metadata": {},
       "output_type": "pyout",
       "prompt_number": 18,
       "text": [
        "          chain    offer  market   offerdate\n",
        "id                                          \n",
        "12262064     95  1219903      39  2013-06-27\n",
        "12277270     95  1221658      39  2013-06-23\n",
        "12332190     95  1213242      39  2013-06-15\n",
        "12524696      4  1221665       1  2013-06-20\n",
        "\n",
        "[4 rows x 4 columns]"
       ]
      }
     ],
     "prompt_number": 18
    },
    {
     "cell_type": "code",
     "collapsed": false,
     "input": [
      "len(df_testHistory.market.unique())"
     ],
     "language": "python",
     "metadata": {},
     "outputs": [
      {
       "metadata": {},
       "output_type": "pyout",
       "prompt_number": 19,
       "text": [
        "34"
       ]
      }
     ],
     "prompt_number": 19
    },
    {
     "cell_type": "code",
     "collapsed": false,
     "input": [
      "# all markets in train set are in the test set, and vice-versa\n",
      "set(df_trainHistory.market) - set(df_testHistory.market)"
     ],
     "language": "python",
     "metadata": {},
     "outputs": [
      {
       "metadata": {},
       "output_type": "pyout",
       "prompt_number": 20,
       "text": [
        "set()"
       ]
      }
     ],
     "prompt_number": 20
    },
    {
     "cell_type": "code",
     "collapsed": false,
     "input": [
      "df_offers = pd.DataFrame.from_csv('offers.csv')\n",
      "df_offers[:4]"
     ],
     "language": "python",
     "metadata": {},
     "outputs": [
      {
       "html": [
        "<div style=\"max-height:1000px;max-width:1500px;overflow:auto;\">\n",
        "<table border=\"1\" class=\"dataframe\">\n",
        "  <thead>\n",
        "    <tr style=\"text-align: right;\">\n",
        "      <th></th>\n",
        "      <th>category</th>\n",
        "      <th>quantity</th>\n",
        "      <th>company</th>\n",
        "      <th>offervalue</th>\n",
        "      <th>brand</th>\n",
        "    </tr>\n",
        "    <tr>\n",
        "      <th>offer</th>\n",
        "      <th></th>\n",
        "      <th></th>\n",
        "      <th></th>\n",
        "      <th></th>\n",
        "      <th></th>\n",
        "    </tr>\n",
        "  </thead>\n",
        "  <tbody>\n",
        "    <tr>\n",
        "      <th>1190530</th>\n",
        "      <td> 9115</td>\n",
        "      <td> 1</td>\n",
        "      <td> 108500080</td>\n",
        "      <td> 5.00</td>\n",
        "      <td> 93904</td>\n",
        "    </tr>\n",
        "    <tr>\n",
        "      <th>1194044</th>\n",
        "      <td> 9909</td>\n",
        "      <td> 1</td>\n",
        "      <td> 107127979</td>\n",
        "      <td> 1.00</td>\n",
        "      <td>  6732</td>\n",
        "    </tr>\n",
        "    <tr>\n",
        "      <th>1197502</th>\n",
        "      <td> 3203</td>\n",
        "      <td> 1</td>\n",
        "      <td> 106414464</td>\n",
        "      <td> 0.75</td>\n",
        "      <td> 13474</td>\n",
        "    </tr>\n",
        "    <tr>\n",
        "      <th>1198271</th>\n",
        "      <td> 5558</td>\n",
        "      <td> 1</td>\n",
        "      <td> 107120272</td>\n",
        "      <td> 1.50</td>\n",
        "      <td>  5072</td>\n",
        "    </tr>\n",
        "  </tbody>\n",
        "</table>\n",
        "<p>4 rows \u00d7 5 columns</p>\n",
        "</div>"
       ],
       "metadata": {},
       "output_type": "pyout",
       "prompt_number": 21,
       "text": [
        "         category  quantity    company  offervalue  brand\n",
        "offer                                                    \n",
        "1190530      9115         1  108500080        5.00  93904\n",
        "1194044      9909         1  107127979        1.00   6732\n",
        "1197502      3203         1  106414464        0.75  13474\n",
        "1198271      5558         1  107120272        1.50   5072\n",
        "\n",
        "[4 rows x 5 columns]"
       ]
      }
     ],
     "prompt_number": 21
    },
    {
     "cell_type": "code",
     "collapsed": false,
     "input": [
      "a_offers = df_offers.offervalue.unique()\n",
      "a_offers.sort()\n",
      "a_offers[:]"
     ],
     "language": "python",
     "metadata": {},
     "outputs": [
      {
       "metadata": {},
       "output_type": "pyout",
       "prompt_number": 29,
       "text": [
        "array([ 0.75,  1.  ,  1.25,  1.5 ,  2.  ,  3.  ,  5.  ])"
       ]
      }
     ],
     "prompt_number": 29
    },
    {
     "cell_type": "code",
     "collapsed": false,
     "input": [
      "df_"
     ],
     "language": "python",
     "metadata": {},
     "outputs": [
      {
       "ename": "NameError",
       "evalue": "name 'df_transactions' is not defined",
       "output_type": "pyerr",
       "traceback": [
        "\u001b[0;31m---------------------------------------------------------------------------\u001b[0m\n\u001b[0;31mNameError\u001b[0m                                 Traceback (most recent call last)",
        "\u001b[0;32m<ipython-input-31-1385d9ac0b85>\u001b[0m in \u001b[0;36m<module>\u001b[0;34m()\u001b[0m\n\u001b[0;32m----> 1\u001b[0;31m \u001b[0mdf_transactions\u001b[0m\u001b[0;34m[\u001b[0m\u001b[0;34m:\u001b[0m\u001b[0;36m2\u001b[0m\u001b[0;34m]\u001b[0m\u001b[0;34m\u001b[0m\u001b[0m\n\u001b[0m",
        "\u001b[0;31mNameError\u001b[0m: name 'df_transactions' is not defined"
       ]
      }
     ],
     "prompt_number": 31
    },
    {
     "cell_type": "markdown",
     "metadata": {},
     "source": [
      "## Feature Engineering ##\n"
     ]
    },
    {
     "cell_type": "code",
     "collapsed": false,
     "input": [],
     "language": "python",
     "metadata": {},
     "outputs": []
    },
    {
     "cell_type": "markdown",
     "metadata": {},
     "source": [
      "## Model Building ##\n"
     ]
    },
    {
     "cell_type": "code",
     "collapsed": false,
     "input": [],
     "language": "python",
     "metadata": {},
     "outputs": []
    },
    {
     "cell_type": "markdown",
     "metadata": {},
     "source": [
      "## Results ##"
     ]
    },
    {
     "cell_type": "code",
     "collapsed": false,
     "input": [],
     "language": "python",
     "metadata": {},
     "outputs": []
    },
    {
     "cell_type": "markdown",
     "metadata": {},
     "source": []
    }
   ],
   "metadata": {}
  }
 ]
}