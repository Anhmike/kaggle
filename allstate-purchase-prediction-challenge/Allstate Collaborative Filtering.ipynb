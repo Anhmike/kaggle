{
 "metadata": {
  "name": "Allstate Collaborative Filtering"
 },
 "nbformat": 3,
 "nbformat_minor": 0,
 "worksheets": [
  {
   "cells": [
    {
     "cell_type": "markdown",
     "metadata": {},
     "source": "# Allstate Kaggle Competition - Collaborative Filtering"
    },
    {
     "cell_type": "markdown",
     "metadata": {},
     "source": "# Predict a purchased policy based on transaction history #\n\nAs a customer shops an insurance policy, he/she will receive a number of quotes with different coverage options before purchasing a plan. This is represented in this challenge as a series of rows that include a customer ID, information about the customer, information about the quoted policy, and the cost. Your task is to predict the purchased coverage options using a limited subset of the total interaction history. If the eventual purchase can be predicted sooner in the shopping window, the quoting process is shortened and the issuer is less likely to lose the customer's business.\n\nUsing a customer\u2019s shopping history, can you predict what policy they will end up choosing?\n\n### Evaluation ###\n\nSubmissions are evaluated on an all-or-none accuracy basis. You must predict every coverage option correctly to receive credit for a given customer. Your score is the percent of customers for whom you predict the exact purchased policy.\n\n### Submission File ###\n\nThe submission format is created by concatenating each plan option (A,B,C,D,E,F,G) as a single string, in order. The file should contain a header and have the following format:\n\n```\ncustomer_ID,plan\n10000001,1111111\n10000002,1111111\n10000003,1111111\n...\n```\n\n### Files ###\n\nThe training and test sets contain transaction history for customers that ended up purchasing a policy. For each customer_ID, you are given their quote history. In the training set you have the entire quote history, the last row of which contains the coverage options they purchased. In the test set, you have only a partial history of the quotes and do not have the purchased coverage options. These are truncated to certain lengths to simulate making predictions with less history (higher uncertainty) or more history (lower uncertainty).\n\nFor each customer_ID in the test set, you must predict the seven coverage options they end up purchasing.\n\n### What is a customer? ###\n\nEach customer has many shopping points, where a shopping point is defined by a customer with certain characteristics viewing a product and its associated cost at a particular time.\n\n- Some customer characteristics may change over time (e.g. as the customer changes or provides new information), and the cost depends on both the product and the customer characteristics.\n- A customer may represent a collection of people, as policies can cover more than one person.\n- A customer may purchase a product that was not viewed!\n\n### Product Options ###\n\nEach product has 7 customizable options selected by customers, each with 2, 3, or 4 ordinal values possible:\n\nOption Name | Possible Values\n:---:|:---:\nA | 0,1,2\nB | 0,1\nC | 1,2,3,4\nD | 1,2,3\nE | 0,1\nF | 0,1,2,3\nG | 1,2,3,4\n\n\nA product is simply a vector with length 7 whose values are chosen from each of the options listed above. The cost of a product is a function of both the product options and customer characteristics.\n\n### Variable Descriptions ###\n\n- __customer_ID__ - A unique identifier for the customer\n- __shopping_pt__ - Unique identifier for the shopping point of a given customer\n- __record_type__ - 0=shopping point, 1=purchase point\n- __day__ - Day of the week (0-6, 0=Monday)\n- __time__ - Time of day (HH:MM)\n- __state__ - State where shopping point occurred\n- __location__ - Location ID where shopping point occurred\n- __group_size__ - How many people will be covered under the policy (1, 2, 3 or 4)\n- __homeowner__ - Whether the customer owns a home or not (0=no, 1=yes)\n- __car_age__ - Age of the customer\u2019s car\n- __car_value__ - How valuable was the customer\u2019s car when new\n- __risk_factor__ - An ordinal assessment of how risky the customer is (1, 2, 3, 4)\n- __age_oldest__ - Age of the oldest person in customer's group\n- __age_youngest__ - Age of the youngest person in customer\u2019s group\n- __married_couple__ - Does the customer group contain a married couple (0=no, 1=yes)\n- __C_previous__ - What the customer formerly had or currently has for product option C (0=nothing, 1, 2, 3,4)\n- __duration_previous__ -  how long (in years) the customer was covered by their previous issuer\n- __A,B,C,D,E,F,G__ - the coverage options\n- __cost__ - cost of the quoted coverage options"
    },
    {
     "cell_type": "markdown",
     "metadata": {},
     "source": "## Initalizations"
    },
    {
     "cell_type": "code",
     "collapsed": false,
     "input": "import csv\nimport numpy as np\nimport pandas as pd\nimport matplotlib.pyplot as plt\n%pylab inline",
     "language": "python",
     "metadata": {},
     "outputs": [
      {
       "output_type": "stream",
       "stream": "stdout",
       "text": "Populating the interactive namespace from numpy and matplotlib\n"
      }
     ],
     "prompt_number": 1
    },
    {
     "cell_type": "code",
     "collapsed": false,
     "input": "csv_dir = '/Users/Paul/Desktop/Allstate/'\ndf_train = pd.read_csv(csv_dir + 'train.csv')\nl_options =['A','B','C','D','E','F','G']\ns_customers = pd.Series(df_train.customer_ID.unique())\n\nl_A = [0,1,2]\nl_B = [0,1]\nl_C = [1,2,3,4]\nl_D = [1,2,3]\nl_E = [0,1]\nl_F = [0,1,2,3]\nl_G = [1,2,3,4]\n\nl_columns = list(df_train.columns)",
     "language": "python",
     "metadata": {},
     "outputs": [],
     "prompt_number": 2
    },
    {
     "cell_type": "code",
     "collapsed": false,
     "input": "df_test = pd.read_csv(csv_dir + 'test_v2.csv')",
     "language": "python",
     "metadata": {},
     "outputs": [],
     "prompt_number": 3
    },
    {
     "cell_type": "markdown",
     "metadata": {},
     "source": "## Data Prep"
    },
    {
     "cell_type": "code",
     "collapsed": false,
     "input": "#generate options changes\ndef opt_changes(df):\n    cust_id = ''\n    changes = {opt: 0 for opt in l_options}\n    state = {opt: '' for opt in l_options}\n    counts = []\n    for idx, row in df.iterrows():\n        if row.customer_ID != cust_id:\n            # Remember these counts\n            changes['customer_ID'] = cust_id\n            counts.append(changes)\n            # Reset the counts\n            state = {opt: row[opt] for opt in l_options}\n            cust_id = row.customer_ID\n            changes = {opt: 0 for opt in l_options}\n        else:\n            for opt in l_options:\n                if state[opt] != row[opt]:\n                    changes[opt] += 1\n                state[opt] = row[opt]\n    return counts[1:]  # remove the first empty row",
     "language": "python",
     "metadata": {},
     "outputs": [],
     "prompt_number": 4
    },
    {
     "cell_type": "code",
     "collapsed": false,
     "input": "#split shop from purchase transactions\nl_shop = []\nl_purchase = []\nfor idx, row in df_train.iterrows():\n    if row.record_type == 0:\n        l_shop.append(row)\n    else:\n        l_purchase.append(row)",
     "language": "python",
     "metadata": {},
     "outputs": [],
     "prompt_number": 5
    },
    {
     "cell_type": "code",
     "collapsed": false,
     "input": "df_shop = pd.DataFrame(l_shop).set_index('customer_ID')\ndf_purchase = pd.DataFrame(l_purchase).set_index('customer_ID')",
     "language": "python",
     "metadata": {},
     "outputs": [],
     "prompt_number": 6
    },
    {
     "cell_type": "code",
     "collapsed": false,
     "input": "df_shop[:2]",
     "language": "python",
     "metadata": {},
     "outputs": [
      {
       "html": "<div style=\"max-height:1000px;max-width:1500px;overflow:auto;\">\n<table border=\"1\" class=\"dataframe\">\n  <thead>\n    <tr style=\"text-align: right;\">\n      <th></th>\n      <th>shopping_pt</th>\n      <th>record_type</th>\n      <th>day</th>\n      <th>time</th>\n      <th>state</th>\n      <th>location</th>\n      <th>group_size</th>\n      <th>homeowner</th>\n      <th>car_age</th>\n      <th>car_value</th>\n      <th>risk_factor</th>\n      <th>age_oldest</th>\n      <th>age_youngest</th>\n      <th>married_couple</th>\n      <th>C_previous</th>\n      <th>duration_previous</th>\n      <th>A</th>\n      <th>B</th>\n      <th>C</th>\n      <th>D</th>\n      <th></th>\n    </tr>\n    <tr>\n      <th>customer_ID</th>\n      <th></th>\n      <th></th>\n      <th></th>\n      <th></th>\n      <th></th>\n      <th></th>\n      <th></th>\n      <th></th>\n      <th></th>\n      <th></th>\n      <th></th>\n      <th></th>\n      <th></th>\n      <th></th>\n      <th></th>\n      <th></th>\n      <th></th>\n      <th></th>\n      <th></th>\n      <th></th>\n    </tr>\n  </thead>\n  <tbody>\n    <tr>\n      <th>10000000</th>\n      <td> 1</td>\n      <td> 0</td>\n      <td> 0</td>\n      <td> 08:35</td>\n      <td> IN</td>\n      <td> 10001</td>\n      <td> 2</td>\n      <td> 0</td>\n      <td> 2</td>\n      <td> g</td>\n      <td> 3</td>\n      <td> 46</td>\n      <td> 42</td>\n      <td> 1</td>\n      <td> 1</td>\n      <td> 2</td>\n      <td> 1</td>\n      <td> 0</td>\n      <td> 2</td>\n      <td> 2</td>\n      <td>...</td>\n    </tr>\n    <tr>\n      <th>10000000</th>\n      <td> 2</td>\n      <td> 0</td>\n      <td> 0</td>\n      <td> 08:38</td>\n      <td> IN</td>\n      <td> 10001</td>\n      <td> 2</td>\n      <td> 0</td>\n      <td> 2</td>\n      <td> g</td>\n      <td> 3</td>\n      <td> 46</td>\n      <td> 42</td>\n      <td> 1</td>\n      <td> 1</td>\n      <td> 2</td>\n      <td> 1</td>\n      <td> 0</td>\n      <td> 2</td>\n      <td> 2</td>\n      <td>...</td>\n    </tr>\n  </tbody>\n</table>\n<p>2 rows \u00d7 24 columns</p>\n</div>",
       "metadata": {},
       "output_type": "pyout",
       "prompt_number": 7,
       "text": "             shopping_pt  record_type  day   time state  location  group_size  \\\ncustomer_ID                                                                     \n10000000               1            0    0  08:35    IN     10001           2   \n10000000               2            0    0  08:38    IN     10001           2   \n\n             homeowner  car_age car_value  risk_factor  age_oldest  \\\ncustomer_ID                                                          \n10000000             0        2         g            3          46   \n10000000             0        2         g            3          46   \n\n             age_youngest  married_couple  C_previous  duration_previous  A  \\\ncustomer_ID                                                                   \n10000000               42               1           1                  2  1   \n10000000               42               1           1                  2  1   \n\n             B  C  D      \ncustomer_ID               \n10000000     0  2  2 ...  \n10000000     0  2  2 ...  \n\n[2 rows x 24 columns]"
      }
     ],
     "prompt_number": 7
    },
    {
     "cell_type": "code",
     "collapsed": false,
     "input": "df_shop_vectors = pd.DataFrame(df_shop[l_options].apply(lambda row: ''.join(map(str, row)),axis=1),\\\n                               index=df_shop.index, columns=['vector'])\ndf_shop_vectors[:5]",
     "language": "python",
     "metadata": {},
     "outputs": [
      {
       "html": "<div style=\"max-height:1000px;max-width:1500px;overflow:auto;\">\n<table border=\"1\" class=\"dataframe\">\n  <thead>\n    <tr style=\"text-align: right;\">\n      <th></th>\n      <th>vector</th>\n    </tr>\n    <tr>\n      <th>customer_ID</th>\n      <th></th>\n    </tr>\n  </thead>\n  <tbody>\n    <tr>\n      <th>10000000</th>\n      <td> 1022122</td>\n    </tr>\n    <tr>\n      <th>10000000</th>\n      <td> 1022121</td>\n    </tr>\n    <tr>\n      <th>10000000</th>\n      <td> 1022121</td>\n    </tr>\n    <tr>\n      <th>10000000</th>\n      <td> 1022121</td>\n    </tr>\n    <tr>\n      <th>10000000</th>\n      <td> 1022121</td>\n    </tr>\n  </tbody>\n</table>\n<p>5 rows \u00d7 1 columns</p>\n</div>",
       "metadata": {},
       "output_type": "pyout",
       "prompt_number": 8,
       "text": "              vector\ncustomer_ID         \n10000000     1022122\n10000000     1022121\n10000000     1022121\n10000000     1022121\n10000000     1022121\n\n[5 rows x 1 columns]"
      }
     ],
     "prompt_number": 8
    },
    {
     "cell_type": "code",
     "collapsed": false,
     "input": "df_purchase_vectors = pd.DataFrame(df_purchase[l_options].apply(lambda row: ''.join(map(str, row)),axis=1),\\\n                                   index=df_purchase.index, columns=['vector'])\ndf_purchase_vectors[:5]",
     "language": "python",
     "metadata": {},
     "outputs": [
      {
       "html": "<div style=\"max-height:1000px;max-width:1500px;overflow:auto;\">\n<table border=\"1\" class=\"dataframe\">\n  <thead>\n    <tr style=\"text-align: right;\">\n      <th></th>\n      <th>vector</th>\n    </tr>\n    <tr>\n      <th>customer_ID</th>\n      <th></th>\n    </tr>\n  </thead>\n  <tbody>\n    <tr>\n      <th>10000000</th>\n      <td> 1022121</td>\n    </tr>\n    <tr>\n      <th>10000005</th>\n      <td> 0032002</td>\n    </tr>\n    <tr>\n      <th>10000007</th>\n      <td> 0012001</td>\n    </tr>\n    <tr>\n      <th>10000013</th>\n      <td> 1132113</td>\n    </tr>\n    <tr>\n      <th>10000014</th>\n      <td> 1111022</td>\n    </tr>\n  </tbody>\n</table>\n<p>5 rows \u00d7 1 columns</p>\n</div>",
       "metadata": {},
       "output_type": "pyout",
       "prompt_number": 9,
       "text": "              vector\ncustomer_ID         \n10000000     1022121\n10000005     0032002\n10000007     0012001\n10000013     1132113\n10000014     1111022\n\n[5 rows x 1 columns]"
      }
     ],
     "prompt_number": 9
    },
    {
     "cell_type": "code",
     "collapsed": false,
     "input": "a_purchase_unique = df_purchase_vectors.vector.unique()\na_shop_unique = df_shop_vectors.vector.unique()\na_shop_unique[:2]",
     "language": "python",
     "metadata": {},
     "outputs": [
      {
       "metadata": {},
       "output_type": "pyout",
       "prompt_number": 10,
       "text": "array(['1022122', '1022121'], dtype=object)"
      }
     ],
     "prompt_number": 10
    },
    {
     "cell_type": "code",
     "collapsed": false,
     "input": "df_purchase_vectors_ranked = df_purchase_vectors.groupby('vector').count().sort(['vector'], ascending=False)\ndf_purchase_vectors_ranked[:5]",
     "language": "python",
     "metadata": {},
     "outputs": [
      {
       "html": "<div style=\"max-height:1000px;max-width:1500px;overflow:auto;\">\n<table border=\"1\" class=\"dataframe\">\n  <thead>\n    <tr style=\"text-align: right;\">\n      <th></th>\n      <th>vector</th>\n    </tr>\n    <tr>\n      <th>vector</th>\n      <th></th>\n    </tr>\n  </thead>\n  <tbody>\n    <tr>\n      <th>0011002</th>\n      <td> 1998</td>\n    </tr>\n    <tr>\n      <th>1133123</th>\n      <td> 1818</td>\n    </tr>\n    <tr>\n      <th>0033002</th>\n      <td> 1515</td>\n    </tr>\n    <tr>\n      <th>1133113</th>\n      <td> 1492</td>\n    </tr>\n    <tr>\n      <th>1133102</th>\n      <td> 1301</td>\n    </tr>\n  </tbody>\n</table>\n<p>5 rows \u00d7 1 columns</p>\n</div>",
       "metadata": {},
       "output_type": "pyout",
       "prompt_number": 11,
       "text": "         vector\nvector         \n0011002    1998\n1133123    1818\n0033002    1515\n1133113    1492\n1133102    1301\n\n[5 rows x 1 columns]"
      }
     ],
     "prompt_number": 11
    },
    {
     "cell_type": "code",
     "collapsed": false,
     "input": "df_shop_vectors_ranked = df_shop_vectors.groupby('vector').count().sort(['vector'], ascending=False)\ndf_shop_vectors_ranked[:5]",
     "language": "python",
     "metadata": {},
     "outputs": [
      {
       "html": "<div style=\"max-height:1000px;max-width:1500px;overflow:auto;\">\n<table border=\"1\" class=\"dataframe\">\n  <thead>\n    <tr style=\"text-align: right;\">\n      <th></th>\n      <th>vector</th>\n    </tr>\n    <tr>\n      <th>vector</th>\n      <th></th>\n    </tr>\n  </thead>\n  <tbody>\n    <tr>\n      <th>0011002</th>\n      <td> 15166</td>\n    </tr>\n    <tr>\n      <th>1133123</th>\n      <td> 11058</td>\n    </tr>\n    <tr>\n      <th>1133102</th>\n      <td>  9018</td>\n    </tr>\n    <tr>\n      <th>1133113</th>\n      <td>  8668</td>\n    </tr>\n    <tr>\n      <th>1033023</th>\n      <td>  8041</td>\n    </tr>\n  </tbody>\n</table>\n<p>5 rows \u00d7 1 columns</p>\n</div>",
       "metadata": {},
       "output_type": "pyout",
       "prompt_number": 12,
       "text": "         vector\nvector         \n0011002   15166\n1133123   11058\n1133102    9018\n1133113    8668\n1033023    8041\n\n[5 rows x 1 columns]"
      }
     ],
     "prompt_number": 12
    },
    {
     "cell_type": "code",
     "collapsed": false,
     "input": "# df_matrix = pd.DataFrame(index=a_shop_unique, columns=a_purchase_unique).fillna(0)\n# df_matrix[:2]",
     "language": "python",
     "metadata": {},
     "outputs": [],
     "prompt_number": 13
    },
    {
     "cell_type": "code",
     "collapsed": false,
     "input": "# df_matrix['1022121']['1022122'] = 0\n# df_matrix[:2]",
     "language": "python",
     "metadata": {},
     "outputs": [],
     "prompt_number": 14
    },
    {
     "cell_type": "code",
     "collapsed": false,
     "input": "# for i, v in df_shop_vectors.iterrows():\n#     df_matrix.loc[v.values[0],df_purchase_vectors.ix[i].vector] += 1\n\n# df_matrix[:2]",
     "language": "python",
     "metadata": {},
     "outputs": [],
     "prompt_number": 15
    },
    {
     "cell_type": "code",
     "collapsed": false,
     "input": "# df_purchase_vectors.ix[10000000].vector\n# df_matrix.ix['1022122']['1022121']",
     "language": "python",
     "metadata": {},
     "outputs": [],
     "prompt_number": 16
    },
    {
     "cell_type": "code",
     "collapsed": false,
     "input": "# df_matrix.to_csv(csv_dir + 'shop_purchase_matrix.csv',header=True)",
     "language": "python",
     "metadata": {},
     "outputs": [],
     "prompt_number": 17
    },
    {
     "cell_type": "code",
     "collapsed": false,
     "input": "# df_matrix_norm = df_matrix / len(df_train.index)\n# df_matrix_norm[:2]",
     "language": "python",
     "metadata": {},
     "outputs": [],
     "prompt_number": 18
    },
    {
     "cell_type": "code",
     "collapsed": false,
     "input": "#df_matrix_sorted = df_matrix.sort_index()",
     "language": "python",
     "metadata": {},
     "outputs": [],
     "prompt_number": 19
    },
    {
     "cell_type": "code",
     "collapsed": false,
     "input": "df_matrix_ranked = pd.DataFrame(index=list(df_shop_vectors_ranked.index), columns=list(df_purchase_vectors_ranked.index)).fillna(0)\ndf_matrix_ranked[:2]",
     "language": "python",
     "metadata": {},
     "outputs": [
      {
       "html": "<div style=\"max-height:1000px;max-width:1500px;overflow:auto;\">\n<table border=\"1\" class=\"dataframe\">\n  <thead>\n    <tr style=\"text-align: right;\">\n      <th></th>\n      <th>0011002</th>\n      <th>1133123</th>\n      <th>0033002</th>\n      <th>1133113</th>\n      <th>1133102</th>\n      <th>1133122</th>\n      <th>1033023</th>\n      <th>1133112</th>\n      <th>0012002</th>\n      <th>0011001</th>\n      <th>1033022</th>\n      <th>1033123</th>\n      <th>0022002</th>\n      <th>1033113</th>\n      <th>1133121</th>\n      <th>1033002</th>\n      <th>1033013</th>\n      <th>0023002</th>\n      <th>1033102</th>\n      <th>1033012</th>\n      <th></th>\n    </tr>\n  </thead>\n  <tbody>\n    <tr>\n      <th>0011002</th>\n      <td> 0</td>\n      <td> 0</td>\n      <td> 0</td>\n      <td> 0</td>\n      <td> 0</td>\n      <td> 0</td>\n      <td> 0</td>\n      <td> 0</td>\n      <td> 0</td>\n      <td> 0</td>\n      <td> 0</td>\n      <td> 0</td>\n      <td> 0</td>\n      <td> 0</td>\n      <td> 0</td>\n      <td> 0</td>\n      <td> 0</td>\n      <td> 0</td>\n      <td> 0</td>\n      <td> 0</td>\n      <td>...</td>\n    </tr>\n    <tr>\n      <th>1133123</th>\n      <td> 0</td>\n      <td> 0</td>\n      <td> 0</td>\n      <td> 0</td>\n      <td> 0</td>\n      <td> 0</td>\n      <td> 0</td>\n      <td> 0</td>\n      <td> 0</td>\n      <td> 0</td>\n      <td> 0</td>\n      <td> 0</td>\n      <td> 0</td>\n      <td> 0</td>\n      <td> 0</td>\n      <td> 0</td>\n      <td> 0</td>\n      <td> 0</td>\n      <td> 0</td>\n      <td> 0</td>\n      <td>...</td>\n    </tr>\n  </tbody>\n</table>\n<p>2 rows \u00d7 1522 columns</p>\n</div>",
       "metadata": {},
       "output_type": "pyout",
       "prompt_number": 20,
       "text": "         0011002  1133123  0033002  1133113  1133102  1133122  1033023  \\\n0011002        0        0        0        0        0        0        0   \n1133123        0        0        0        0        0        0        0   \n\n         1133112  0012002  0011001  1033022  1033123  0022002  1033113  \\\n0011002        0        0        0        0        0        0        0   \n1133123        0        0        0        0        0        0        0   \n\n         1133121  1033002  1033013  0023002  1033102  1033012      \n0011002        0        0        0        0        0        0 ...  \n1133123        0        0        0        0        0        0 ...  \n\n[2 rows x 1522 columns]"
      }
     ],
     "prompt_number": 20
    },
    {
     "cell_type": "code",
     "collapsed": false,
     "input": "for i, v in df_shop_vectors.iterrows():\n    df_matrix_ranked.loc[v.values[0],df_purchase_vectors.ix[i].vector] += 1\n\ndf_matrix_ranked[:5]",
     "language": "python",
     "metadata": {},
     "outputs": [
      {
       "html": "<div style=\"max-height:1000px;max-width:1500px;overflow:auto;\">\n<table border=\"1\" class=\"dataframe\">\n  <thead>\n    <tr style=\"text-align: right;\">\n      <th></th>\n      <th>0011002</th>\n      <th>1133123</th>\n      <th>0033002</th>\n      <th>1133113</th>\n      <th>1133102</th>\n      <th>1133122</th>\n      <th>1033023</th>\n      <th>1133112</th>\n      <th>0012002</th>\n      <th>0011001</th>\n      <th>1033022</th>\n      <th>1033123</th>\n      <th>0022002</th>\n      <th>1033113</th>\n      <th>1133121</th>\n      <th>1033002</th>\n      <th>1033013</th>\n      <th>0023002</th>\n      <th>1033102</th>\n      <th>1033012</th>\n      <th></th>\n    </tr>\n  </thead>\n  <tbody>\n    <tr>\n      <th>0011002</th>\n      <td> 6929</td>\n      <td>   39</td>\n      <td> 146</td>\n      <td>   35</td>\n      <td>    6</td>\n      <td>  83</td>\n      <td>   36</td>\n      <td>  50</td>\n      <td> 324</td>\n      <td> 934</td>\n      <td> 81</td>\n      <td>  29</td>\n      <td> 181</td>\n      <td>  16</td>\n      <td> 19</td>\n      <td>   7</td>\n      <td>  28</td>\n      <td> 69</td>\n      <td>  12</td>\n      <td> 37</td>\n      <td>...</td>\n    </tr>\n    <tr>\n      <th>1133123</th>\n      <td>    5</td>\n      <td> 6327</td>\n      <td>   3</td>\n      <td>  404</td>\n      <td>    1</td>\n      <td> 126</td>\n      <td>  269</td>\n      <td>  29</td>\n      <td>   3</td>\n      <td>   2</td>\n      <td>  3</td>\n      <td> 382</td>\n      <td>   0</td>\n      <td>  86</td>\n      <td> 65</td>\n      <td>   0</td>\n      <td>  37</td>\n      <td>  2</td>\n      <td>   0</td>\n      <td>  3</td>\n      <td>...</td>\n    </tr>\n    <tr>\n      <th>1133102</th>\n      <td>   21</td>\n      <td>    3</td>\n      <td> 131</td>\n      <td>    6</td>\n      <td> 5178</td>\n      <td>  24</td>\n      <td>    0</td>\n      <td>  18</td>\n      <td>  23</td>\n      <td>   6</td>\n      <td>  1</td>\n      <td>   1</td>\n      <td>  12</td>\n      <td>   0</td>\n      <td>  1</td>\n      <td> 176</td>\n      <td>   0</td>\n      <td> 47</td>\n      <td> 249</td>\n      <td>  0</td>\n      <td>...</td>\n    </tr>\n    <tr>\n      <th>1133113</th>\n      <td>    8</td>\n      <td>  277</td>\n      <td>   1</td>\n      <td> 5023</td>\n      <td>    0</td>\n      <td>  21</td>\n      <td>   43</td>\n      <td> 166</td>\n      <td>   6</td>\n      <td>   0</td>\n      <td>  1</td>\n      <td>  57</td>\n      <td>   4</td>\n      <td> 361</td>\n      <td>  7</td>\n      <td>   0</td>\n      <td> 139</td>\n      <td>  2</td>\n      <td>   0</td>\n      <td> 15</td>\n      <td>...</td>\n    </tr>\n    <tr>\n      <th>1033023</th>\n      <td>    4</td>\n      <td>  345</td>\n      <td>   5</td>\n      <td>  117</td>\n      <td>    0</td>\n      <td>  19</td>\n      <td> 3871</td>\n      <td>   6</td>\n      <td>   2</td>\n      <td>   0</td>\n      <td> 83</td>\n      <td> 366</td>\n      <td>   1</td>\n      <td> 114</td>\n      <td>  5</td>\n      <td>   0</td>\n      <td> 187</td>\n      <td>  3</td>\n      <td>   0</td>\n      <td>  8</td>\n      <td>...</td>\n    </tr>\n  </tbody>\n</table>\n<p>5 rows \u00d7 1522 columns</p>\n</div>",
       "metadata": {},
       "output_type": "pyout",
       "prompt_number": 21,
       "text": "         0011002  1133123  0033002  1133113  1133102  1133122  1033023  \\\n0011002     6929       39      146       35        6       83       36   \n1133123        5     6327        3      404        1      126      269   \n1133102       21        3      131        6     5178       24        0   \n1133113        8      277        1     5023        0       21       43   \n1033023        4      345        5      117        0       19     3871   \n\n         1133112  0012002  0011001  1033022  1033123  0022002  1033113  \\\n0011002       50      324      934       81       29      181       16   \n1133123       29        3        2        3      382        0       86   \n1133102       18       23        6        1        1       12        0   \n1133113      166        6        0        1       57        4      361   \n1033023        6        2        0       83      366        1      114   \n\n         1133121  1033002  1033013  0023002  1033102  1033012      \n0011002       19        7       28       69       12       37 ...  \n1133123       65        0       37        2        0        3 ...  \n1133102        1      176        0       47      249        0 ...  \n1133113        7        0      139        2        0       15 ...  \n1033023        5        0      187        3        0        8 ...  \n\n[5 rows x 1522 columns]"
      }
     ],
     "prompt_number": 21
    },
    {
     "cell_type": "code",
     "collapsed": false,
     "input": "df_matrix_ranked[:20]",
     "language": "python",
     "metadata": {},
     "outputs": [
      {
       "html": "<div style=\"max-height:1000px;max-width:1500px;overflow:auto;\">\n<table border=\"1\" class=\"dataframe\">\n  <thead>\n    <tr style=\"text-align: right;\">\n      <th></th>\n      <th>0011002</th>\n      <th>1133123</th>\n      <th>0033002</th>\n      <th>1133113</th>\n      <th>1133102</th>\n      <th>1133122</th>\n      <th>1033023</th>\n      <th>1133112</th>\n      <th>0012002</th>\n      <th>0011001</th>\n      <th>1033022</th>\n      <th>1033123</th>\n      <th>0022002</th>\n      <th>1033113</th>\n      <th>1133121</th>\n      <th>1033002</th>\n      <th>1033013</th>\n      <th>0023002</th>\n      <th>1033102</th>\n      <th>1033012</th>\n      <th></th>\n    </tr>\n  </thead>\n  <tbody>\n    <tr>\n      <th>0011002</th>\n      <td> 6929</td>\n      <td>   39</td>\n      <td>  146</td>\n      <td>   35</td>\n      <td>    6</td>\n      <td>   83</td>\n      <td>   36</td>\n      <td>   50</td>\n      <td>  324</td>\n      <td>  934</td>\n      <td>   81</td>\n      <td>   29</td>\n      <td>  181</td>\n      <td>  16</td>\n      <td>   19</td>\n      <td>    7</td>\n      <td>   28</td>\n      <td>  69</td>\n      <td>  12</td>\n      <td>   37</td>\n      <td>...</td>\n    </tr>\n    <tr>\n      <th>1133123</th>\n      <td>    5</td>\n      <td> 6327</td>\n      <td>    3</td>\n      <td>  404</td>\n      <td>    1</td>\n      <td>  126</td>\n      <td>  269</td>\n      <td>   29</td>\n      <td>    3</td>\n      <td>    2</td>\n      <td>    3</td>\n      <td>  382</td>\n      <td>    0</td>\n      <td>  86</td>\n      <td>   65</td>\n      <td>    0</td>\n      <td>   37</td>\n      <td>   2</td>\n      <td>   0</td>\n      <td>    3</td>\n      <td>...</td>\n    </tr>\n    <tr>\n      <th>1133102</th>\n      <td>   21</td>\n      <td>    3</td>\n      <td>  131</td>\n      <td>    6</td>\n      <td> 5178</td>\n      <td>   24</td>\n      <td>    0</td>\n      <td>   18</td>\n      <td>   23</td>\n      <td>    6</td>\n      <td>    1</td>\n      <td>    1</td>\n      <td>   12</td>\n      <td>   0</td>\n      <td>    1</td>\n      <td>  176</td>\n      <td>    0</td>\n      <td>  47</td>\n      <td> 249</td>\n      <td>    0</td>\n      <td>...</td>\n    </tr>\n    <tr>\n      <th>1133113</th>\n      <td>    8</td>\n      <td>  277</td>\n      <td>    1</td>\n      <td> 5023</td>\n      <td>    0</td>\n      <td>   21</td>\n      <td>   43</td>\n      <td>  166</td>\n      <td>    6</td>\n      <td>    0</td>\n      <td>    1</td>\n      <td>   57</td>\n      <td>    4</td>\n      <td> 361</td>\n      <td>    7</td>\n      <td>    0</td>\n      <td>  139</td>\n      <td>   2</td>\n      <td>   0</td>\n      <td>   15</td>\n      <td>...</td>\n    </tr>\n    <tr>\n      <th>1033023</th>\n      <td>    4</td>\n      <td>  345</td>\n      <td>    5</td>\n      <td>  117</td>\n      <td>    0</td>\n      <td>   19</td>\n      <td> 3871</td>\n      <td>    6</td>\n      <td>    2</td>\n      <td>    0</td>\n      <td>   83</td>\n      <td>  366</td>\n      <td>    1</td>\n      <td> 114</td>\n      <td>    5</td>\n      <td>    0</td>\n      <td>  187</td>\n      <td>   3</td>\n      <td>   0</td>\n      <td>    8</td>\n      <td>...</td>\n    </tr>\n    <tr>\n      <th>0033002</th>\n      <td>   92</td>\n      <td>    6</td>\n      <td> 4842</td>\n      <td>    7</td>\n      <td>   61</td>\n      <td>   39</td>\n      <td>    8</td>\n      <td>   26</td>\n      <td>   67</td>\n      <td>   13</td>\n      <td>   57</td>\n      <td>    7</td>\n      <td>  123</td>\n      <td>   0</td>\n      <td>    5</td>\n      <td>  104</td>\n      <td>    8</td>\n      <td> 198</td>\n      <td>  25</td>\n      <td>   47</td>\n      <td>...</td>\n    </tr>\n    <tr>\n      <th>1133122</th>\n      <td>   20</td>\n      <td>  477</td>\n      <td>   40</td>\n      <td>   62</td>\n      <td>   11</td>\n      <td> 3810</td>\n      <td>   38</td>\n      <td>  211</td>\n      <td>   10</td>\n      <td>    8</td>\n      <td>  131</td>\n      <td>   24</td>\n      <td>   21</td>\n      <td>   5</td>\n      <td>  318</td>\n      <td>    0</td>\n      <td>    5</td>\n      <td>  29</td>\n      <td>   7</td>\n      <td>   22</td>\n      <td>...</td>\n    </tr>\n    <tr>\n      <th>1033022</th>\n      <td>   45</td>\n      <td>   55</td>\n      <td>  214</td>\n      <td>   19</td>\n      <td>    0</td>\n      <td>  267</td>\n      <td>  295</td>\n      <td>   56</td>\n      <td>   23</td>\n      <td>    8</td>\n      <td> 3353</td>\n      <td>   50</td>\n      <td>   30</td>\n      <td>  21</td>\n      <td>   48</td>\n      <td>    8</td>\n      <td>   24</td>\n      <td>  36</td>\n      <td>   1</td>\n      <td>  193</td>\n      <td>...</td>\n    </tr>\n    <tr>\n      <th>1133112</th>\n      <td>   26</td>\n      <td>   75</td>\n      <td>   69</td>\n      <td>  471</td>\n      <td>    8</td>\n      <td>  141</td>\n      <td>   19</td>\n      <td> 3541</td>\n      <td>   19</td>\n      <td>    3</td>\n      <td>   35</td>\n      <td>    9</td>\n      <td>   17</td>\n      <td>  51</td>\n      <td>   46</td>\n      <td>    0</td>\n      <td>   29</td>\n      <td>  23</td>\n      <td>   1</td>\n      <td>   57</td>\n      <td>...</td>\n    </tr>\n    <tr>\n      <th>0011001</th>\n      <td> 1036</td>\n      <td>    7</td>\n      <td>   29</td>\n      <td>   12</td>\n      <td>    2</td>\n      <td>   19</td>\n      <td>    6</td>\n      <td>    9</td>\n      <td>   67</td>\n      <td> 3233</td>\n      <td>   10</td>\n      <td>    6</td>\n      <td>   30</td>\n      <td>   6</td>\n      <td>   53</td>\n      <td>    0</td>\n      <td>    5</td>\n      <td>  14</td>\n      <td>   3</td>\n      <td>   11</td>\n      <td>...</td>\n    </tr>\n    <tr>\n      <th>0011004</th>\n      <td>  564</td>\n      <td>   69</td>\n      <td>   56</td>\n      <td>   54</td>\n      <td>    3</td>\n      <td>   80</td>\n      <td>   30</td>\n      <td>   84</td>\n      <td>  122</td>\n      <td>  208</td>\n      <td>   77</td>\n      <td>   32</td>\n      <td>   66</td>\n      <td>  18</td>\n      <td>   61</td>\n      <td>    0</td>\n      <td>   30</td>\n      <td>  36</td>\n      <td>   1</td>\n      <td>   39</td>\n      <td>...</td>\n    </tr>\n    <tr>\n      <th>1033021</th>\n      <td>   32</td>\n      <td>   32</td>\n      <td>   77</td>\n      <td>   31</td>\n      <td>    0</td>\n      <td>  105</td>\n      <td>  115</td>\n      <td>   39</td>\n      <td>   18</td>\n      <td>   25</td>\n      <td>  340</td>\n      <td>   20</td>\n      <td>   18</td>\n      <td>  14</td>\n      <td>  242</td>\n      <td>    1</td>\n      <td>   23</td>\n      <td>  33</td>\n      <td>   0</td>\n      <td>   38</td>\n      <td>...</td>\n    </tr>\n    <tr>\n      <th>1033002</th>\n      <td>   14</td>\n      <td>    0</td>\n      <td>  208</td>\n      <td>    0</td>\n      <td>  256</td>\n      <td>    2</td>\n      <td>    4</td>\n      <td>    0</td>\n      <td>   14</td>\n      <td>    6</td>\n      <td>   12</td>\n      <td>    0</td>\n      <td>   10</td>\n      <td>   1</td>\n      <td>    2</td>\n      <td> 3309</td>\n      <td>    0</td>\n      <td>  43</td>\n      <td> 340</td>\n      <td>   14</td>\n      <td>...</td>\n    </tr>\n    <tr>\n      <th>1133121</th>\n      <td>   16</td>\n      <td>  257</td>\n      <td>    5</td>\n      <td>   30</td>\n      <td>    6</td>\n      <td>  396</td>\n      <td>    4</td>\n      <td>   57</td>\n      <td>    4</td>\n      <td>    7</td>\n      <td>    7</td>\n      <td>   26</td>\n      <td>    1</td>\n      <td>   2</td>\n      <td> 2587</td>\n      <td>    0</td>\n      <td>    2</td>\n      <td>   2</td>\n      <td>   0</td>\n      <td>   10</td>\n      <td>...</td>\n    </tr>\n    <tr>\n      <th>1011022</th>\n      <td>  155</td>\n      <td>   14</td>\n      <td>   24</td>\n      <td>    9</td>\n      <td>    0</td>\n      <td>   30</td>\n      <td>   29</td>\n      <td>   13</td>\n      <td>   14</td>\n      <td>   42</td>\n      <td>   33</td>\n      <td>   13</td>\n      <td>   18</td>\n      <td>  11</td>\n      <td>    6</td>\n      <td>    0</td>\n      <td>   17</td>\n      <td>   2</td>\n      <td>   0</td>\n      <td>    6</td>\n      <td>...</td>\n    </tr>\n    <tr>\n      <th>0012002</th>\n      <td>   71</td>\n      <td>    6</td>\n      <td>   36</td>\n      <td>    5</td>\n      <td>    6</td>\n      <td>    1</td>\n      <td>    1</td>\n      <td>    7</td>\n      <td> 3304</td>\n      <td>   28</td>\n      <td>    8</td>\n      <td>    1</td>\n      <td>   81</td>\n      <td>   0</td>\n      <td>    1</td>\n      <td>    0</td>\n      <td>    0</td>\n      <td>  42</td>\n      <td>   2</td>\n      <td>    1</td>\n      <td>...</td>\n    </tr>\n    <tr>\n      <th>0022002</th>\n      <td>  150</td>\n      <td>    7</td>\n      <td>   95</td>\n      <td>    3</td>\n      <td>    8</td>\n      <td>   12</td>\n      <td>    4</td>\n      <td>   15</td>\n      <td>  181</td>\n      <td>   14</td>\n      <td>   11</td>\n      <td>    1</td>\n      <td> 2964</td>\n      <td>   1</td>\n      <td>    8</td>\n      <td>    7</td>\n      <td>    0</td>\n      <td> 103</td>\n      <td>  15</td>\n      <td>   16</td>\n      <td>...</td>\n    </tr>\n    <tr>\n      <th>1033123</th>\n      <td>    0</td>\n      <td>  204</td>\n      <td>    8</td>\n      <td>   38</td>\n      <td>    0</td>\n      <td>   11</td>\n      <td>  109</td>\n      <td>    2</td>\n      <td>    1</td>\n      <td>    0</td>\n      <td>    0</td>\n      <td> 2969</td>\n      <td>    0</td>\n      <td> 147</td>\n      <td>    9</td>\n      <td>    0</td>\n      <td>   16</td>\n      <td>   0</td>\n      <td>   0</td>\n      <td>    2</td>\n      <td>...</td>\n    </tr>\n    <tr>\n      <th>1033012</th>\n      <td>   19</td>\n      <td>   11</td>\n      <td>  106</td>\n      <td>   50</td>\n      <td>    0</td>\n      <td>   23</td>\n      <td>   20</td>\n      <td>  109</td>\n      <td>    7</td>\n      <td>    2</td>\n      <td>   77</td>\n      <td>   14</td>\n      <td>   12</td>\n      <td>  66</td>\n      <td>    6</td>\n      <td>   20</td>\n      <td>  255</td>\n      <td>  15</td>\n      <td>   0</td>\n      <td> 2246</td>\n      <td>...</td>\n    </tr>\n    <tr>\n      <th>1033013</th>\n      <td>    6</td>\n      <td>   31</td>\n      <td>   14</td>\n      <td>  168</td>\n      <td>    0</td>\n      <td>    1</td>\n      <td>  111</td>\n      <td>   12</td>\n      <td>    1</td>\n      <td>    0</td>\n      <td>   13</td>\n      <td>   35</td>\n      <td>    0</td>\n      <td> 214</td>\n      <td>    2</td>\n      <td>    0</td>\n      <td> 2588</td>\n      <td>   0</td>\n      <td>   0</td>\n      <td>  106</td>\n      <td>...</td>\n    </tr>\n  </tbody>\n</table>\n<p>20 rows \u00d7 1522 columns</p>\n</div>",
       "metadata": {},
       "output_type": "pyout",
       "prompt_number": 22,
       "text": "         0011002  1133123  0033002  1133113  1133102  1133122  1033023  \\\n0011002     6929       39      146       35        6       83       36   \n1133123        5     6327        3      404        1      126      269   \n1133102       21        3      131        6     5178       24        0   \n1133113        8      277        1     5023        0       21       43   \n1033023        4      345        5      117        0       19     3871   \n0033002       92        6     4842        7       61       39        8   \n1133122       20      477       40       62       11     3810       38   \n1033022       45       55      214       19        0      267      295   \n1133112       26       75       69      471        8      141       19   \n0011001     1036        7       29       12        2       19        6   \n0011004      564       69       56       54        3       80       30   \n1033021       32       32       77       31        0      105      115   \n1033002       14        0      208        0      256        2        4   \n1133121       16      257        5       30        6      396        4   \n1011022      155       14       24        9        0       30       29   \n0012002       71        6       36        5        6        1        1   \n0022002      150        7       95        3        8       12        4   \n1033123        0      204        8       38        0       11      109   \n1033012       19       11      106       50        0       23       20   \n1033013        6       31       14      168        0        1      111   \n\n         1133112  0012002  0011001  1033022  1033123  0022002  1033113  \\\n0011002       50      324      934       81       29      181       16   \n1133123       29        3        2        3      382        0       86   \n1133102       18       23        6        1        1       12        0   \n1133113      166        6        0        1       57        4      361   \n1033023        6        2        0       83      366        1      114   \n0033002       26       67       13       57        7      123        0   \n1133122      211       10        8      131       24       21        5   \n1033022       56       23        8     3353       50       30       21   \n1133112     3541       19        3       35        9       17       51   \n0011001        9       67     3233       10        6       30        6   \n0011004       84      122      208       77       32       66       18   \n1033021       39       18       25      340       20       18       14   \n1033002        0       14        6       12        0       10        1   \n1133121       57        4        7        7       26        1        2   \n1011022       13       14       42       33       13       18       11   \n0012002        7     3304       28        8        1       81        0   \n0022002       15      181       14       11        1     2964        1   \n1033123        2        1        0        0     2969        0      147   \n1033012      109        7        2       77       14       12       66   \n1033013       12        1        0       13       35        0      214   \n\n         1133121  1033002  1033013  0023002  1033102  1033012      \n0011002       19        7       28       69       12       37 ...  \n1133123       65        0       37        2        0        3 ...  \n1133102        1      176        0       47      249        0 ...  \n1133113        7        0      139        2        0       15 ...  \n1033023        5        0      187        3        0        8 ...  \n0033002        5      104        8      198       25       47 ...  \n1133122      318        0        5       29        7       22 ...  \n1033022       48        8       24       36        1      193 ...  \n1133112       46        0       29       23        1       57 ...  \n0011001       53        0        5       14        3       11 ...  \n0011004       61        0       30       36        1       39 ...  \n1033021      242        1       23       33        0       38 ...  \n1033002        2     3309        0       43      340       14 ...  \n1133121     2587        0        2        2        0       10 ...  \n1011022        6        0       17        2        0        6 ...  \n0012002        1        0        0       42        2        1 ...  \n0022002        8        7        0      103       15       16 ...  \n1033123        9        0       16        0        0        2 ...  \n1033012        6       20      255       15        0     2246 ...  \n1033013        2        0     2588        0        0      106 ...  \n\n[20 rows x 1522 columns]"
      }
     ],
     "prompt_number": 22
    },
    {
     "cell_type": "code",
     "collapsed": false,
     "input": "df_matrix_ranked.ix['1133021'].argmax(axis=1)",
     "language": "python",
     "metadata": {},
     "outputs": [
      {
       "metadata": {},
       "output_type": "pyout",
       "prompt_number": 23,
       "text": "'1133021'"
      }
     ],
     "prompt_number": 23
    },
    {
     "cell_type": "code",
     "collapsed": false,
     "input": "df_matrix_ranked.to_csv(csv_dir + 'shop_purchase_matrix_ranked.csv',header=True)",
     "language": "python",
     "metadata": {},
     "outputs": [],
     "prompt_number": 33
    },
    {
     "cell_type": "code",
     "collapsed": false,
     "input": "# get the last row of every shop transaction in the train set\nl_shop_last = []\nfor i, j in pd.DataFrame(l_shop).groupby('customer_ID'):\n    row = j[j['shopping_pt'] == len(j)].values\n    l_shop_last.append(row[0])",
     "language": "python",
     "metadata": {},
     "outputs": [],
     "prompt_number": 24
    },
    {
     "cell_type": "code",
     "collapsed": false,
     "input": "df_shop_last = pd.DataFrame(l_shop_last,columns=df_train.columns).set_index('customer_ID')\ndf_shop_last[:3]",
     "language": "python",
     "metadata": {},
     "outputs": [
      {
       "html": "<div style=\"max-height:1000px;max-width:1500px;overflow:auto;\">\n<table border=\"1\" class=\"dataframe\">\n  <thead>\n    <tr style=\"text-align: right;\">\n      <th></th>\n      <th>shopping_pt</th>\n      <th>record_type</th>\n      <th>day</th>\n      <th>time</th>\n      <th>state</th>\n      <th>location</th>\n      <th>group_size</th>\n      <th>homeowner</th>\n      <th>car_age</th>\n      <th>car_value</th>\n      <th>risk_factor</th>\n      <th>age_oldest</th>\n      <th>age_youngest</th>\n      <th>married_couple</th>\n      <th>C_previous</th>\n      <th>duration_previous</th>\n      <th>A</th>\n      <th>B</th>\n      <th>C</th>\n      <th>D</th>\n      <th></th>\n    </tr>\n    <tr>\n      <th>customer_ID</th>\n      <th></th>\n      <th></th>\n      <th></th>\n      <th></th>\n      <th></th>\n      <th></th>\n      <th></th>\n      <th></th>\n      <th></th>\n      <th></th>\n      <th></th>\n      <th></th>\n      <th></th>\n      <th></th>\n      <th></th>\n      <th></th>\n      <th></th>\n      <th></th>\n      <th></th>\n      <th></th>\n    </tr>\n  </thead>\n  <tbody>\n    <tr>\n      <th>10000000</th>\n      <td> 8</td>\n      <td> 0</td>\n      <td> 0</td>\n      <td> 12:03</td>\n      <td> IN</td>\n      <td> 10001</td>\n      <td> 2</td>\n      <td> 0</td>\n      <td>  2</td>\n      <td> g</td>\n      <td>  3</td>\n      <td> 46</td>\n      <td> 42</td>\n      <td> 1</td>\n      <td> 1</td>\n      <td>  2</td>\n      <td> 1</td>\n      <td> 0</td>\n      <td> 2</td>\n      <td> 2</td>\n      <td>...</td>\n    </tr>\n    <tr>\n      <th>10000005</th>\n      <td> 5</td>\n      <td> 0</td>\n      <td> 3</td>\n      <td> 08:58</td>\n      <td> NY</td>\n      <td> 10006</td>\n      <td> 1</td>\n      <td> 0</td>\n      <td> 10</td>\n      <td> e</td>\n      <td>  4</td>\n      <td> 28</td>\n      <td> 28</td>\n      <td> 0</td>\n      <td> 3</td>\n      <td> 13</td>\n      <td> 0</td>\n      <td> 0</td>\n      <td> 3</td>\n      <td> 2</td>\n      <td>...</td>\n    </tr>\n    <tr>\n      <th>10000007</th>\n      <td> 7</td>\n      <td> 0</td>\n      <td> 4</td>\n      <td> 08:43</td>\n      <td> PA</td>\n      <td> 10008</td>\n      <td> 1</td>\n      <td> 0</td>\n      <td> 11</td>\n      <td> c</td>\n      <td>NaN</td>\n      <td> 43</td>\n      <td> 43</td>\n      <td> 0</td>\n      <td> 2</td>\n      <td>  4</td>\n      <td> 0</td>\n      <td> 0</td>\n      <td> 2</td>\n      <td> 2</td>\n      <td>...</td>\n    </tr>\n  </tbody>\n</table>\n<p>3 rows \u00d7 24 columns</p>\n</div>",
       "metadata": {},
       "output_type": "pyout",
       "prompt_number": 25,
       "text": "             shopping_pt  record_type  day   time state  location  group_size  \\\ncustomer_ID                                                                     \n10000000               8            0    0  12:03    IN     10001           2   \n10000005               5            0    3  08:58    NY     10006           1   \n10000007               7            0    4  08:43    PA     10008           1   \n\n             homeowner  car_age car_value  risk_factor  age_oldest  \\\ncustomer_ID                                                          \n10000000             0        2         g            3          46   \n10000005             0       10         e            4          28   \n10000007             0       11         c          NaN          43   \n\n             age_youngest  married_couple  C_previous  duration_previous  A  \\\ncustomer_ID                                                                   \n10000000               42               1           1                  2  1   \n10000005               28               0           3                 13  0   \n10000007               43               0           2                  4  0   \n\n             B  C  D      \ncustomer_ID               \n10000000     0  2  2 ...  \n10000005     0  3  2 ...  \n10000007     0  2  2 ...  \n\n[3 rows x 24 columns]"
      }
     ],
     "prompt_number": 25
    },
    {
     "cell_type": "code",
     "collapsed": false,
     "input": "# evaluation - compare what % of correct matches of predicted to actual \n# evaluation depends on the global l_options and maybe it should not\ndef evaluation(df_predicted, df_actual):\n    num_options = len(l_options)                            # number of options\n    df_r = df_predicted[l_options] == df_actual[l_options]  # find all options that do no match\n    df_diff = df_r[df_r.apply(np.sum,axis=1) < num_options] # select all rows with at least one False\n    return float(len(df_diff)) / float(len(df_predicted))   # total non-matching options / total options",
     "language": "python",
     "metadata": {},
     "outputs": [],
     "prompt_number": 26
    },
    {
     "cell_type": "code",
     "collapsed": false,
     "input": "evaluation(df_shop_last,df_purchase)\n",
     "language": "python",
     "metadata": {},
     "outputs": [
      {
       "metadata": {},
       "output_type": "pyout",
       "prompt_number": 62,
       "text": "0.3121050624168892"
      }
     ],
     "prompt_number": 62
    },
    {
     "cell_type": "code",
     "collapsed": false,
     "input": "df_shop_last_vectors = pd.DataFrame(df_shop_last[l_options].apply(lambda row: ''.join(map(str, row)),axis=1),\\\n                                    index=df_shop_last.index, columns=['vector'])",
     "language": "python",
     "metadata": {},
     "outputs": [],
     "prompt_number": 28
    },
    {
     "cell_type": "code",
     "collapsed": false,
     "input": "df_shop_last_vectors[:4]",
     "language": "python",
     "metadata": {},
     "outputs": [
      {
       "html": "<div style=\"max-height:1000px;max-width:1500px;overflow:auto;\">\n<table border=\"1\" class=\"dataframe\">\n  <thead>\n    <tr style=\"text-align: right;\">\n      <th></th>\n      <th>vector</th>\n    </tr>\n    <tr>\n      <th>customer_ID</th>\n      <th></th>\n    </tr>\n  </thead>\n  <tbody>\n    <tr>\n      <th>10000000</th>\n      <td> 1022121</td>\n    </tr>\n    <tr>\n      <th>10000005</th>\n      <td> 0032002</td>\n    </tr>\n    <tr>\n      <th>10000007</th>\n      <td> 0022001</td>\n    </tr>\n    <tr>\n      <th>10000013</th>\n      <td> 1132113</td>\n    </tr>\n  </tbody>\n</table>\n<p>4 rows \u00d7 1 columns</p>\n</div>",
       "metadata": {},
       "output_type": "pyout",
       "prompt_number": 29,
       "text": "              vector\ncustomer_ID         \n10000000     1022121\n10000005     0032002\n10000007     0022001\n10000013     1132113\n\n[4 rows x 1 columns]"
      }
     ],
     "prompt_number": 29
    },
    {
     "cell_type": "code",
     "collapsed": false,
     "input": "l_predict = []\nfor i, row in df_shop_last_vectors.iterrows():\n    l_predict.append([i, df_matrix_ranked.ix[row.vector].argmax(axis=1)])",
     "language": "python",
     "metadata": {},
     "outputs": [],
     "prompt_number": 51
    },
    {
     "cell_type": "code",
     "collapsed": false,
     "input": "df_predict = pd.DataFrame(l_predict,columns=['customer_ID','plan'])\ndf_predict[:2]",
     "language": "python",
     "metadata": {},
     "outputs": [
      {
       "html": "<div style=\"max-height:1000px;max-width:1500px;overflow:auto;\">\n<table border=\"1\" class=\"dataframe\">\n  <thead>\n    <tr style=\"text-align: right;\">\n      <th></th>\n      <th>customer_ID</th>\n      <th>plan</th>\n    </tr>\n  </thead>\n  <tbody>\n    <tr>\n      <th>0</th>\n      <td> 10000000</td>\n      <td> 1022121</td>\n    </tr>\n    <tr>\n      <th>1</th>\n      <td> 10000005</td>\n      <td> 0032002</td>\n    </tr>\n  </tbody>\n</table>\n<p>2 rows \u00d7 2 columns</p>\n</div>",
       "metadata": {},
       "output_type": "pyout",
       "prompt_number": 53,
       "text": "   customer_ID     plan\n0     10000000  1022121\n1     10000005  0032002\n\n[2 rows x 2 columns]"
      }
     ],
     "prompt_number": 53
    },
    {
     "cell_type": "code",
     "collapsed": false,
     "input": "df_predict.to_csv(csv_dir + 'matrix_predict.csv',header=True,index=False)",
     "language": "python",
     "metadata": {},
     "outputs": [],
     "prompt_number": 54
    },
    {
     "cell_type": "code",
     "collapsed": false,
     "input": "df_predict = df_predict.set_index('customer_ID')\ndf_predict[:2]",
     "language": "python",
     "metadata": {},
     "outputs": [
      {
       "html": "<div style=\"max-height:1000px;max-width:1500px;overflow:auto;\">\n<table border=\"1\" class=\"dataframe\">\n  <thead>\n    <tr style=\"text-align: right;\">\n      <th></th>\n      <th>plan</th>\n    </tr>\n    <tr>\n      <th>customer_ID</th>\n      <th></th>\n    </tr>\n  </thead>\n  <tbody>\n    <tr>\n      <th>10000000</th>\n      <td> 1022121</td>\n    </tr>\n    <tr>\n      <th>10000005</th>\n      <td> 0032002</td>\n    </tr>\n  </tbody>\n</table>\n<p>2 rows \u00d7 1 columns</p>\n</div>",
       "metadata": {},
       "output_type": "pyout",
       "prompt_number": 57,
       "text": "                plan\ncustomer_ID         \n10000000     1022121\n10000005     0032002\n\n[2 rows x 1 columns]"
      }
     ],
     "prompt_number": 57
    },
    {
     "cell_type": "code",
     "collapsed": false,
     "input": "(df_purchase_vectors.vector == df_predict.plan).astype(int).sum() / float(len(df_purchase_vectors.index))",
     "language": "python",
     "metadata": {},
     "outputs": [
      {
       "metadata": {},
       "output_type": "pyout",
       "prompt_number": 61,
       "text": "0.6883691203908916"
      }
     ],
     "prompt_number": 61
    },
    {
     "cell_type": "code",
     "collapsed": false,
     "input": "df_test_last = df_test.groupby('customer_ID').apply(lambda group: group[group['shopping_pt'] == len(group)]).set_index('customer_ID')\ndf_test_last[:2]",
     "language": "python",
     "metadata": {},
     "outputs": [
      {
       "html": "<div style=\"max-height:1000px;max-width:1500px;overflow:auto;\">\n<table border=\"1\" class=\"dataframe\">\n  <thead>\n    <tr style=\"text-align: right;\">\n      <th></th>\n      <th>shopping_pt</th>\n      <th>record_type</th>\n      <th>day</th>\n      <th>time</th>\n      <th>state</th>\n      <th>location</th>\n      <th>group_size</th>\n      <th>homeowner</th>\n      <th>car_age</th>\n      <th>car_value</th>\n      <th>risk_factor</th>\n      <th>age_oldest</th>\n      <th>age_youngest</th>\n      <th>married_couple</th>\n      <th>C_previous</th>\n      <th>duration_previous</th>\n      <th>A</th>\n      <th>B</th>\n      <th>C</th>\n      <th>D</th>\n      <th></th>\n    </tr>\n    <tr>\n      <th>customer_ID</th>\n      <th></th>\n      <th></th>\n      <th></th>\n      <th></th>\n      <th></th>\n      <th></th>\n      <th></th>\n      <th></th>\n      <th></th>\n      <th></th>\n      <th></th>\n      <th></th>\n      <th></th>\n      <th></th>\n      <th></th>\n      <th></th>\n      <th></th>\n      <th></th>\n      <th></th>\n      <th></th>\n    </tr>\n  </thead>\n  <tbody>\n    <tr>\n      <th>10000001</th>\n      <td> 2</td>\n      <td> 0</td>\n      <td> 1</td>\n      <td> 12:36</td>\n      <td> OK</td>\n      <td> 10002</td>\n      <td> 1</td>\n      <td> 0</td>\n      <td> 9</td>\n      <td> f</td>\n      <td>NaN</td>\n      <td> 24</td>\n      <td> 24</td>\n      <td> 0</td>\n      <td> 3</td>\n      <td>  9</td>\n      <td> 2</td>\n      <td> 1</td>\n      <td> 1</td>\n      <td> 3</td>\n      <td>...</td>\n    </tr>\n    <tr>\n      <th>10000002</th>\n      <td> 2</td>\n      <td> 0</td>\n      <td> 4</td>\n      <td> 12:21</td>\n      <td> PA</td>\n      <td> 10003</td>\n      <td> 1</td>\n      <td> 1</td>\n      <td> 7</td>\n      <td> f</td>\n      <td>NaN</td>\n      <td> 74</td>\n      <td> 74</td>\n      <td> 0</td>\n      <td> 2</td>\n      <td> 15</td>\n      <td> 2</td>\n      <td> 0</td>\n      <td> 2</td>\n      <td> 3</td>\n      <td>...</td>\n    </tr>\n  </tbody>\n</table>\n<p>2 rows \u00d7 24 columns</p>\n</div>",
       "metadata": {},
       "output_type": "pyout",
       "prompt_number": 64,
       "text": "             shopping_pt  record_type  day   time state  location  group_size  \\\ncustomer_ID                                                                     \n10000001               2            0    1  12:36    OK     10002           1   \n10000002               2            0    4  12:21    PA     10003           1   \n\n             homeowner  car_age car_value  risk_factor  age_oldest  \\\ncustomer_ID                                                          \n10000001             0        9         f          NaN          24   \n10000002             1        7         f          NaN          74   \n\n             age_youngest  married_couple  C_previous  duration_previous  A  \\\ncustomer_ID                                                                   \n10000001               24               0           3                  9  2   \n10000002               74               0           2                 15  2   \n\n             B  C  D      \ncustomer_ID               \n10000001     1  1  3 ...  \n10000002     0  2  3 ...  \n\n[2 rows x 24 columns]"
      }
     ],
     "prompt_number": 64
    },
    {
     "cell_type": "code",
     "collapsed": false,
     "input": "df_test_last_vectors = pd.DataFrame(df_test_last[l_options].apply(lambda row: ''.join(map(str, row)),axis=1),\\\n                                    index=df_test_last.index, columns=['vector'])",
     "language": "python",
     "metadata": {},
     "outputs": [],
     "prompt_number": 238
    },
    {
     "cell_type": "code",
     "collapsed": false,
     "input": "df_test_last_vectors[:2]",
     "language": "python",
     "metadata": {},
     "outputs": [
      {
       "html": "<div style=\"max-height:1000px;max-width:1500px;overflow:auto;\">\n<table border=\"1\" class=\"dataframe\">\n  <thead>\n    <tr style=\"text-align: right;\">\n      <th></th>\n      <th>vector</th>\n    </tr>\n    <tr>\n      <th>customer_ID</th>\n      <th></th>\n    </tr>\n  </thead>\n  <tbody>\n    <tr>\n      <th>10000001</th>\n      <td> 2113132</td>\n    </tr>\n    <tr>\n      <th>10000002</th>\n      <td> 2023122</td>\n    </tr>\n  </tbody>\n</table>\n<p>2 rows \u00d7 1 columns</p>\n</div>",
       "metadata": {},
       "output_type": "pyout",
       "prompt_number": 239,
       "text": "              vector\ncustomer_ID         \n10000001     2113132\n10000002     2023122\n\n[2 rows x 1 columns]"
      }
     ],
     "prompt_number": 239
    },
    {
     "cell_type": "code",
     "collapsed": false,
     "input": "l_test_predict = []\nnever_seen = []\nfor i, row in df_test_last_vectors.iterrows():\n    try:\n        l_test_predict.append([i, df_matrix_ranked.ix[row.vector].argmax(axis=1)])\n    except:\n        never_seen.append([i, row.vector])\n        l_test_predict.append([i, row.vector])\n        ",
     "language": "python",
     "metadata": {},
     "outputs": [],
     "prompt_number": 121
    },
    {
     "cell_type": "code",
     "collapsed": false,
     "input": "len(never_seen)",
     "language": "python",
     "metadata": {},
     "outputs": [
      {
       "metadata": {},
       "output_type": "pyout",
       "prompt_number": 140,
       "text": "44"
      }
     ],
     "prompt_number": 140
    },
    {
     "cell_type": "code",
     "collapsed": false,
     "input": "df_shop_vectors_ranked.ix['1133123']",
     "language": "python",
     "metadata": {},
     "outputs": [
      {
       "metadata": {},
       "output_type": "pyout",
       "prompt_number": 76,
       "text": "vector    11058\nName: 1133123, dtype: int64"
      }
     ],
     "prompt_number": 76
    },
    {
     "cell_type": "code",
     "collapsed": false,
     "input": "#this shop event does not exist\ndf_train.query('A==2 & B==1 & C==2 & D==1 & E==0 & F==1 & G==4')",
     "language": "python",
     "metadata": {},
     "outputs": [
      {
       "html": "<div style=\"max-height:1000px;max-width:1500px;overflow:auto;\">\n<table border=\"1\" class=\"dataframe\">\n  <tbody>\n    <tr>\n      <td>Int64Index([], dtype='int64')</td>\n      <td>Empty DataFrame</td>\n    </tr>\n  </tbody>\n</table>\n<p>0 rows \u00d7 25 columns</p>\n</div>",
       "metadata": {},
       "output_type": "pyout",
       "prompt_number": 78,
       "text": "Empty DataFrame\nColumns: [customer_ID, shopping_pt, record_type, day, time, state, location, group_size, homeowner, car_age, car_value, risk_factor, age_oldest, age_youngest, married_couple, C_previous, duration_previous, A, B, C, D, E, F, G, cost]\nIndex: []\n\n[0 rows x 25 columns]"
      }
     ],
     "prompt_number": 78
    },
    {
     "cell_type": "code",
     "collapsed": false,
     "input": "len(l_test_predict)",
     "language": "python",
     "metadata": {},
     "outputs": [
      {
       "metadata": {},
       "output_type": "pyout",
       "prompt_number": 81,
       "text": "55716"
      }
     ],
     "prompt_number": 81
    },
    {
     "cell_type": "code",
     "collapsed": false,
     "input": "df_test_predict = pd.DataFrame(l_test_predict, columns=['customer_ID','plan'])",
     "language": "python",
     "metadata": {},
     "outputs": [],
     "prompt_number": 112
    },
    {
     "cell_type": "code",
     "collapsed": false,
     "input": "df_test_predict.to_csv(csv_dir + 'matrix_test_predict.csv',header=True,index=False)",
     "language": "python",
     "metadata": {},
     "outputs": [],
     "prompt_number": 83
    },
    {
     "cell_type": "code",
     "collapsed": false,
     "input": "df_test_last_predict = pd.read_csv(csv_dir + 'test_last.csv', dtype={'plan': str})",
     "language": "python",
     "metadata": {},
     "outputs": [],
     "prompt_number": 110
    },
    {
     "cell_type": "code",
     "collapsed": false,
     "input": "df_test_last_predict[:5]",
     "language": "python",
     "metadata": {},
     "outputs": [
      {
       "html": "<div style=\"max-height:1000px;max-width:1500px;overflow:auto;\">\n<table border=\"1\" class=\"dataframe\">\n  <thead>\n    <tr style=\"text-align: right;\">\n      <th></th>\n      <th>customer_ID</th>\n      <th>plan</th>\n    </tr>\n  </thead>\n  <tbody>\n    <tr>\n      <th>0</th>\n      <td> 10000001</td>\n      <td> 2113132</td>\n    </tr>\n    <tr>\n      <th>1</th>\n      <td> 10000002</td>\n      <td> 2023122</td>\n    </tr>\n    <tr>\n      <th>2</th>\n      <td> 10000003</td>\n      <td> 1021022</td>\n    </tr>\n    <tr>\n      <th>3</th>\n      <td> 10000004</td>\n      <td> 2011123</td>\n    </tr>\n    <tr>\n      <th>4</th>\n      <td> 10000006</td>\n      <td> 0011001</td>\n    </tr>\n  </tbody>\n</table>\n<p>5 rows \u00d7 2 columns</p>\n</div>",
       "metadata": {},
       "output_type": "pyout",
       "prompt_number": 111,
       "text": "   customer_ID     plan\n0     10000001  2113132\n1     10000002  2023122\n2     10000003  1021022\n3     10000004  2011123\n4     10000006  0011001\n\n[5 rows x 2 columns]"
      }
     ],
     "prompt_number": 111
    },
    {
     "cell_type": "code",
     "collapsed": false,
     "input": "# df_test_predict.set_index('customer_ID')\n# df_test_last_predict.set_index('customer_ID')",
     "language": "python",
     "metadata": {},
     "outputs": [],
     "prompt_number": 113
    },
    {
     "cell_type": "code",
     "collapsed": false,
     "input": "(df_test_last_predict.plan == df_test_predict.plan).astype(int).sum() / float(len(df_test_predict.index))",
     "language": "python",
     "metadata": {},
     "outputs": [
      {
       "metadata": {},
       "output_type": "pyout",
       "prompt_number": 119,
       "text": "0.98826189963385747"
      }
     ],
     "prompt_number": 119
    },
    {
     "cell_type": "code",
     "collapsed": false,
     "input": "df_never_seen = pd.DataFrame(never_seen, columns=['customer_ID','plan'])\ndf_never_seen[:3]",
     "language": "python",
     "metadata": {},
     "outputs": [
      {
       "html": "<div style=\"max-height:1000px;max-width:1500px;overflow:auto;\">\n<table border=\"1\" class=\"dataframe\">\n  <thead>\n    <tr style=\"text-align: right;\">\n      <th></th>\n      <th>customer_ID</th>\n      <th>plan</th>\n    </tr>\n  </thead>\n  <tbody>\n    <tr>\n      <th>0</th>\n      <td> 10013772</td>\n      <td> 2121014</td>\n    </tr>\n    <tr>\n      <th>1</th>\n      <td> 10014106</td>\n      <td> 1142132</td>\n    </tr>\n    <tr>\n      <th>2</th>\n      <td> 10014349</td>\n      <td> 0122101</td>\n    </tr>\n  </tbody>\n</table>\n<p>3 rows \u00d7 2 columns</p>\n</div>",
       "metadata": {},
       "output_type": "pyout",
       "prompt_number": 123,
       "text": "   customer_ID     plan\n0     10013772  2121014\n1     10014106  1142132\n2     10014349  0122101\n\n[3 rows x 2 columns]"
      }
     ],
     "prompt_number": 123
    },
    {
     "cell_type": "code",
     "collapsed": false,
     "input": "len(df_never_seen.plan.unique())\ndf_never_seen.plan.unique()",
     "language": "python",
     "metadata": {},
     "outputs": [
      {
       "metadata": {},
       "output_type": "pyout",
       "prompt_number": 128,
       "text": "array(['2121014', '1142132', '0122101', '2021112', '2132001', '0031024',\n       '0021032', '0042011', '2042122', '1121131', '1141104', '1123131',\n       '1033132', '1042014', '0132114', '0121112', '2111003', '0022103',\n       '1112132', '2121023', '0143033', '1142011', '2031024', '1123033',\n       '2021024', '0122134', '0022133', '2121002', '2131114', '1021133',\n       '2142122', '2142033', '1111031', '1011034', '1121003', '0011133',\n       '0112124', '1032031', '2021131', '2031131', '2031013'], dtype=object)"
      }
     ],
     "prompt_number": 128
    },
    {
     "cell_type": "code",
     "collapsed": false,
     "input": "l_predict[:5]",
     "language": "python",
     "metadata": {},
     "outputs": [
      {
       "metadata": {},
       "output_type": "pyout",
       "prompt_number": 129,
       "text": "[[10000000, '1022121'],\n [10000005, '0032002'],\n [10000007, '0022001'],\n [10000013, '1132113'],\n [10000014, '1111022']]"
      }
     ],
     "prompt_number": 129
    },
    {
     "cell_type": "code",
     "collapsed": false,
     "input": "l_choices = []\nfor i, row in df_matrix_ranked.iterrows():\n    l_choices.append([i, df_matrix_ranked.ix[i].argmax(axis=1)])",
     "language": "python",
     "metadata": {},
     "outputs": [],
     "prompt_number": 130
    },
    {
     "cell_type": "code",
     "collapsed": false,
     "input": "l_choices[:10]",
     "language": "python",
     "metadata": {},
     "outputs": [
      {
       "metadata": {},
       "output_type": "pyout",
       "prompt_number": 132,
       "text": "[['0011002', '0011002'],\n ['1133123', '1133123'],\n ['1133102', '1133102'],\n ['1133113', '1133113'],\n ['1033023', '1033023'],\n ['0033002', '0033002'],\n ['1133122', '1133122'],\n ['1033022', '1033022'],\n ['1133112', '1133112'],\n ['0011001', '0011001']]"
      }
     ],
     "prompt_number": 132
    },
    {
     "cell_type": "code",
     "collapsed": false,
     "input": "l_choices_diffs = []\nfor i in range(len(l_choices)):\n    if l_choices[i][0] != l_choices[i][1]:\n        l_choices_diffs.append(l_choices[i])\n    ",
     "language": "python",
     "metadata": {},
     "outputs": [],
     "prompt_number": 137
    },
    {
     "cell_type": "code",
     "collapsed": false,
     "input": "len(l_choices_diffs)",
     "language": "python",
     "metadata": {},
     "outputs": [
      {
       "metadata": {},
       "output_type": "pyout",
       "prompt_number": 139,
       "text": "496"
      }
     ],
     "prompt_number": 139
    },
    {
     "cell_type": "code",
     "collapsed": false,
     "input": "l_choices_diffs[:20]",
     "language": "python",
     "metadata": {},
     "outputs": [
      {
       "metadata": {},
       "output_type": "pyout",
       "prompt_number": 141,
       "text": "[['0011004', '0011002'],\n ['0031002', '0033002'],\n ['2043001', '2043002'],\n ['1021011', '1023013'],\n ['1131122', '1133121'],\n ['0031004', '0033002'],\n ['2122101', '2122102'],\n ['2043004', '2043002'],\n ['1131121', '1133121'],\n ['1132104', '1132102'],\n ['1021123', '1023123'],\n ['1031012', '1033012'],\n ['1121114', '1122113'],\n ['1022104', '1022103'],\n ['2132104', '2132102'],\n ['0133024', '0133023'],\n ['2011101', '2011102'],\n ['1121024', '1123023'],\n ['0011031', '0011032'],\n ['2013011', '2013012']]"
      }
     ],
     "prompt_number": 141
    },
    {
     "cell_type": "code",
     "collapsed": false,
     "input": "len(df_purchase_vectors.query('vector == \"0011004\"'))",
     "language": "python",
     "metadata": {},
     "outputs": [
      {
       "metadata": {},
       "output_type": "pyout",
       "prompt_number": 148,
       "text": "76"
      }
     ],
     "prompt_number": 148
    },
    {
     "cell_type": "code",
     "collapsed": false,
     "input": "im = plt.imshow(df_matrix_ranked.ix[:200,:200].values, interpolation='nearest',\\\n               vmax=df_matrix_ranked.max().max(), vmin=0.0)\n",
     "language": "python",
     "metadata": {},
     "outputs": [
      {
       "metadata": {},
       "output_type": "display_data",
       "png": "[encoded data removed]",
       "text": "<matplotlib.figure.Figure at 0x126111490>"
      }
     ],
     "prompt_number": 175
    },
    {
     "cell_type": "code",
     "collapsed": false,
     "input": "l_nopurchase = list(set(a_shop_unique) - set(a_purchase_unique))\nlen(l_nopurchase)",
     "language": "python",
     "metadata": {},
     "outputs": [
      {
       "metadata": {},
       "output_type": "pyout",
       "prompt_number": 202,
       "text": "287"
      }
     ],
     "prompt_number": 202
    },
    {
     "cell_type": "code",
     "collapsed": false,
     "input": "l_noshop = list(set(a_purchase_unique) - set(a_shop_unique))\nlen(l_noshop)",
     "language": "python",
     "metadata": {},
     "outputs": [
      {
       "metadata": {},
       "output_type": "pyout",
       "prompt_number": 203,
       "text": "31"
      }
     ],
     "prompt_number": 203
    },
    {
     "cell_type": "code",
     "collapsed": false,
     "input": "l_nopurchase[:2]",
     "language": "python",
     "metadata": {},
     "outputs": [
      {
       "metadata": {},
       "output_type": "pyout",
       "prompt_number": 204,
       "text": "['2143004', '2121021']"
      }
     ],
     "prompt_number": 204
    },
    {
     "cell_type": "code",
     "collapsed": false,
     "input": "df_purchase_vectors.query('vector == \"2143004\"')\n",
     "language": "python",
     "metadata": {},
     "outputs": [
      {
       "html": "<div style=\"max-height:1000px;max-width:1500px;overflow:auto;\">\n<table border=\"1\" class=\"dataframe\">\n  <tbody>\n    <tr>\n      <td>Int64Index([], dtype='int64')</td>\n      <td>Empty DataFrame</td>\n    </tr>\n  </tbody>\n</table>\n<p>0 rows \u00d7 1 columns</p>\n</div>",
       "metadata": {},
       "output_type": "pyout",
       "prompt_number": 211,
       "text": "Empty DataFrame\nColumns: [vector]\nIndex: []\n\n[0 rows x 1 columns]"
      }
     ],
     "prompt_number": 211
    },
    {
     "cell_type": "code",
     "collapsed": false,
     "input": "df_choices = pd.DataFrame(l_choices, columns=['shop','purchase']).set_index('shop')\ndf_choices[:3]",
     "language": "python",
     "metadata": {},
     "outputs": [
      {
       "html": "<div style=\"max-height:1000px;max-width:1500px;overflow:auto;\">\n<table border=\"1\" class=\"dataframe\">\n  <thead>\n    <tr style=\"text-align: right;\">\n      <th></th>\n      <th>purchase</th>\n    </tr>\n    <tr>\n      <th>shop</th>\n      <th></th>\n    </tr>\n  </thead>\n  <tbody>\n    <tr>\n      <th>0011002</th>\n      <td> 0011002</td>\n    </tr>\n    <tr>\n      <th>1133123</th>\n      <td> 1133123</td>\n    </tr>\n    <tr>\n      <th>1133102</th>\n      <td> 1133102</td>\n    </tr>\n  </tbody>\n</table>\n<p>3 rows \u00d7 1 columns</p>\n</div>",
       "metadata": {},
       "output_type": "pyout",
       "prompt_number": 206,
       "text": "        purchase\nshop            \n0011002  0011002\n1133123  1133123\n1133102  1133102\n\n[3 rows x 1 columns]"
      }
     ],
     "prompt_number": 206
    },
    {
     "cell_type": "code",
     "collapsed": false,
     "input": "l_nopurchase_filter = []\nfor shop in l_nopurchase:\n    l_nopurchase_filter.append([shop, df_choices.ix[shop].purchase])",
     "language": "python",
     "metadata": {},
     "outputs": [],
     "prompt_number": 217
    },
    {
     "cell_type": "code",
     "collapsed": false,
     "input": "df_nopurchase_filter = pd.DataFrame(l_nopurchase_filter, columns=['shop','purchase']).set_index('shop')\ndf_nopurchase_filter[:2]",
     "language": "python",
     "metadata": {},
     "outputs": [
      {
       "html": "<div style=\"max-height:1000px;max-width:1500px;overflow:auto;\">\n<table border=\"1\" class=\"dataframe\">\n  <thead>\n    <tr style=\"text-align: right;\">\n      <th></th>\n      <th>purchase</th>\n    </tr>\n    <tr>\n      <th>shop</th>\n      <th></th>\n    </tr>\n  </thead>\n  <tbody>\n    <tr>\n      <th>2143004</th>\n      <td> 1143101</td>\n    </tr>\n    <tr>\n      <th>2121021</th>\n      <td> 1132021</td>\n    </tr>\n  </tbody>\n</table>\n<p>2 rows \u00d7 1 columns</p>\n</div>",
       "metadata": {},
       "output_type": "pyout",
       "prompt_number": 222,
       "text": "        purchase\nshop            \n2143004  1143101\n2121021  1132021\n\n[2 rows x 1 columns]"
      }
     ],
     "prompt_number": 222
    },
    {
     "cell_type": "code",
     "collapsed": false,
     "input": "df_test_last_filter = df_test_last_vectors.copy()",
     "language": "python",
     "metadata": {},
     "outputs": [],
     "prompt_number": 240
    },
    {
     "cell_type": "code",
     "collapsed": false,
     "input": "for i, v in df_test_last_filter.iterrows():\n    if v.vector in df_nopurchase_filter.index:\n        df_test_last_filter.ix[i] = df_nopurchase_filter.ix[v.vector].purchase",
     "language": "python",
     "metadata": {},
     "outputs": [],
     "prompt_number": 241
    },
    {
     "cell_type": "code",
     "collapsed": false,
     "input": "df_test_last_filter = df_test_last_filter.rename(columns={'vector': 'plan'})\ndf_test_last_filter[:2]",
     "language": "python",
     "metadata": {},
     "outputs": [
      {
       "html": "<div style=\"max-height:1000px;max-width:1500px;overflow:auto;\">\n<table border=\"1\" class=\"dataframe\">\n  <thead>\n    <tr style=\"text-align: right;\">\n      <th></th>\n      <th>plan</th>\n    </tr>\n    <tr>\n      <th>customer_ID</th>\n      <th></th>\n    </tr>\n  </thead>\n  <tbody>\n    <tr>\n      <th>10000001</th>\n      <td> 2113132</td>\n    </tr>\n    <tr>\n      <th>10000002</th>\n      <td> 2023122</td>\n    </tr>\n  </tbody>\n</table>\n<p>2 rows \u00d7 1 columns</p>\n</div>",
       "metadata": {},
       "output_type": "pyout",
       "prompt_number": 249,
       "text": "                plan\ncustomer_ID         \n10000001     2113132\n10000002     2023122\n\n[2 rows x 1 columns]"
      }
     ],
     "prompt_number": 249
    },
    {
     "cell_type": "code",
     "collapsed": false,
     "input": "df_test_last_vectors[:2]",
     "language": "python",
     "metadata": {},
     "outputs": [
      {
       "html": "<div style=\"max-height:1000px;max-width:1500px;overflow:auto;\">\n<table border=\"1\" class=\"dataframe\">\n  <thead>\n    <tr style=\"text-align: right;\">\n      <th></th>\n      <th>vector</th>\n    </tr>\n    <tr>\n      <th>customer_ID</th>\n      <th></th>\n    </tr>\n  </thead>\n  <tbody>\n    <tr>\n      <th>10000001</th>\n      <td> 2113132</td>\n    </tr>\n    <tr>\n      <th>10000002</th>\n      <td> 2023122</td>\n    </tr>\n  </tbody>\n</table>\n<p>2 rows \u00d7 1 columns</p>\n</div>",
       "metadata": {},
       "output_type": "pyout",
       "prompt_number": 251,
       "text": "              vector\ncustomer_ID         \n10000001     2113132\n10000002     2023122\n\n[2 rows x 1 columns]"
      }
     ],
     "prompt_number": 251
    },
    {
     "cell_type": "code",
     "collapsed": false,
     "input": "# how many changes did we make ?\nfloat(len(df_test_last_vectors.index)) - (df_test_last_filter.plan == df_test_last_vectors.vector).astype(int).sum() #/ float(len(df_test_last_vectors.index))",
     "language": "python",
     "metadata": {},
     "outputs": [
      {
       "metadata": {},
       "output_type": "pyout",
       "prompt_number": 254,
       "text": "133.0"
      }
     ],
     "prompt_number": 254
    },
    {
     "cell_type": "code",
     "collapsed": false,
     "input": "df_test_last_filter.to_csv(csv_dir + 'benchmark_filtered.csv')",
     "language": "python",
     "metadata": {},
     "outputs": [],
     "prompt_number": 255
    }
   ],
   "metadata": {}
  }
 ]
}