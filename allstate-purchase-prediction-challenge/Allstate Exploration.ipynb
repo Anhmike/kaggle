{
 "metadata": {
  "name": ""
 },
 "nbformat": 3,
 "nbformat_minor": 0,
 "worksheets": [
  {
   "cells": [
    {
     "cell_type": "markdown",
     "metadata": {},
     "source": [
      "# Allstate Kaggle Competition"
     ]
    },
    {
     "cell_type": "markdown",
     "metadata": {},
     "source": [
      "# Predict a purchased policy based on transaction history #\n",
      "\n",
      "As a customer shops an insurance policy, he/she will receive a number of quotes with different coverage options before purchasing a plan. This is represented in this challenge as a series of rows that include a customer ID, information about the customer, information about the quoted policy, and the cost. Your task is to predict the purchased coverage options using a limited subset of the total interaction history. If the eventual purchase can be predicted sooner in the shopping window, the quoting process is shortened and the issuer is less likely to lose the customer's business.\n",
      "\n",
      "Using a customer\u2019s shopping history, can you predict what policy they will end up choosing?\n",
      "\n",
      "### Evaluation ###\n",
      "\n",
      "Submissions are evaluated on an all-or-none accuracy basis. You must predict every coverage option correctly to receive credit for a given customer. Your score is the percent of customers for whom you predict the exact purchased policy.\n",
      "\n",
      "### Submission File ###\n",
      "\n",
      "The submission format is created by concatenating each plan option (A,B,C,D,E,F,G) as a single string, in order. The file should contain a header and have the following format:\n",
      "\n",
      "```\n",
      "customer_ID,plan\n",
      "10000001,1111111\n",
      "10000002,1111111\n",
      "10000003,1111111\n",
      "...\n",
      "```\n",
      "\n",
      "### Files ###\n",
      "\n",
      "The training and test sets contain transaction history for customers that ended up purchasing a policy. For each customer_ID, you are given their quote history. In the training set you have the entire quote history, the last row of which contains the coverage options they purchased. In the test set, you have only a partial history of the quotes and do not have the purchased coverage options. These are truncated to certain lengths to simulate making predictions with less history (higher uncertainty) or more history (lower uncertainty).\n",
      "\n",
      "For each customer_ID in the test set, you must predict the seven coverage options they end up purchasing.\n",
      "\n",
      "### What is a customer? ###\n",
      "\n",
      "Each customer has many shopping points, where a shopping point is defined by a customer with certain characteristics viewing a product and its associated cost at a particular time.\n",
      "\n",
      "- Some customer characteristics may change over time (e.g. as the customer changes or provides new information), and the cost depends on both the product and the customer characteristics.\n",
      "- A customer may represent a collection of people, as policies can cover more than one person.\n",
      "- A customer may purchase a product that was not viewed!\n",
      "\n",
      "### Product Options ###\n",
      "\n",
      "Each product has 7 customizable options selected by customers, each with 2, 3, or 4 ordinal values possible:\n",
      "\n",
      "Option Name | Possible Values\n",
      ":---:|:---:\n",
      "A | 0,1,2\n",
      "B | 0,1\n",
      "C | 1,2,3,4\n",
      "D | 1,2,3\n",
      "E | 0,1\n",
      "F | 0,1,2,3\n",
      "G | 1,2,3,4\n",
      "\n",
      "\n",
      "A product is simply a vector with length 7 whose values are chosen from each of the options listed above. The cost of a product is a function of both the product options and customer characteristics.\n",
      "\n",
      "### Variable Descriptions ###\n",
      "\n",
      "- __customer_ID__ - A unique identifier for the customer\n",
      "- __shopping_pt__ - Unique identifier for the shopping point of a given customer\n",
      "- __record_type__ - 0=shopping point, 1=purchase point\n",
      "- __day__ - Day of the week (0-6, 0=Monday)\n",
      "- __time__ - Time of day (HH:MM)\n",
      "- __state__ - State where shopping point occurred\n",
      "- __location__ - Location ID where shopping point occurred\n",
      "- __group_size__ - How many people will be covered under the policy (1, 2, 3 or 4)\n",
      "- __homeowner__ - Whether the customer owns a home or not (0=no, 1=yes)\n",
      "- __car_age__ - Age of the customer\u2019s car\n",
      "- __car_value__ - How valuable was the customer\u2019s car when new\n",
      "- __risk_factor__ - An ordinal assessment of how risky the customer is (1, 2, 3, 4)\n",
      "- __age_oldest__ - Age of the oldest person in customer's group\n",
      "- __age_youngest__ - Age of the youngest person in customer\u2019s group\n",
      "- __married_couple__ - Does the customer group contain a married couple (0=no, 1=yes)\n",
      "- __C_previous__ - What the customer formerly had or currently has for product option C (0=nothing, 1, 2, 3,4)\n",
      "- __duration_previous__ -  how long (in years) the customer was covered by their previous issuer\n",
      "- __A,B,C,D,E,F,G__ - the coverage options\n",
      "- __cost__ - cost of the quoted coverage options"
     ]
    },
    {
     "cell_type": "code",
     "collapsed": false,
     "input": [
      "import csv\n",
      "import numpy as np\n",
      "import pandas as pd\n",
      "import matplotlib.pyplot as plt\n",
      "%pylab inline"
     ],
     "language": "python",
     "metadata": {},
     "outputs": [
      {
       "output_type": "stream",
       "stream": "stdout",
       "text": [
        "Populating the interactive namespace from numpy and matplotlib\n"
       ]
      }
     ],
     "prompt_number": 1
    },
    {
     "cell_type": "code",
     "collapsed": false,
     "input": [
      "csv_dir = '/Users/Paul/Desktop/Allstate/'\n",
      "df_train = pd.read_csv(csv_dir + 'train.csv')\n",
      "l_options =['A','B','C','D','E','F','G']\n",
      "s_customers = pd.Series(df_train.customer_ID.unique())\n",
      "\n",
      "l_A = [0,1,2]\n",
      "l_B = [0,1]\n",
      "l_C = [1,2,3,4]\n",
      "l_D = [1,2,3]\n",
      "l_E = [0,1]\n",
      "l_F = [0,1,2,3]\n",
      "l_G = [1,2,3,4]\n",
      "\n",
      "l_columns = list(df_train.columns)"
     ],
     "language": "python",
     "metadata": {},
     "outputs": [],
     "prompt_number": 3
    },
    {
     "cell_type": "code",
     "collapsed": false,
     "input": [
      "df_train_grouped = df_train.groupby('customer_ID')"
     ],
     "language": "python",
     "metadata": {},
     "outputs": []
    },
    {
     "cell_type": "code",
     "collapsed": false,
     "input": [
      "df_test = pd.read_csv(csv_dir + 'test_v2.csv')"
     ],
     "language": "python",
     "metadata": {},
     "outputs": [],
     "prompt_number": 6
    },
    {
     "cell_type": "code",
     "collapsed": false,
     "input": [
      "df_purchase = df_train[df_train['record_type'] > 0]\n",
      "len(df_train.index)"
     ],
     "language": "python",
     "metadata": {},
     "outputs": [
      {
       "metadata": {},
       "output_type": "pyout",
       "prompt_number": 7,
       "text": [
        "665249"
       ]
      }
     ],
     "prompt_number": 7
    },
    {
     "cell_type": "code",
     "collapsed": false,
     "input": [
      "df_shop = df_train[df_train['record_type'] == 0]\n",
      "len(df_shop.index)\n",
      "df_shop_grouped = df_shop.groupby('customer_ID')"
     ],
     "language": "python",
     "metadata": {},
     "outputs": [],
     "prompt_number": 8
    },
    {
     "cell_type": "code",
     "collapsed": false,
     "input": [
      "# get the last row of every shop transaction in the train set\n",
      "# REWRITE as a table scan\n",
      "l_shop_last = []\n",
      "for i, j in df_shop_grouped:\n",
      "    row = j[j['shopping_pt'] == len(j)].values\n",
      "    l_shop_last.append(row[0])"
     ],
     "language": "python",
     "metadata": {},
     "outputs": [],
     "prompt_number": 10
    },
    {
     "cell_type": "code",
     "collapsed": false,
     "input": [
      "df_shop_last = pd.DataFrame(l_shop_last, columns=list(df_purchase.columns)).set_index(['customer_ID'])"
     ],
     "language": "python",
     "metadata": {},
     "outputs": [],
     "prompt_number": 11
    },
    {
     "cell_type": "markdown",
     "metadata": {},
     "source": [
      "## Evaluation Method"
     ]
    },
    {
     "cell_type": "code",
     "collapsed": false,
     "input": [
      "# evaluation - compare what % of correct matches of predicted to actual \n",
      "# evaluation depends on the global l_options and maybe it should not\n",
      "def evaluation(df_predicted, df_actual):\n",
      "    num_options = len(l_options)                            # number of options\n",
      "    df_r = df_predicted[l_options] == df_actual[l_options]  # find all options that do no match\n",
      "    df_diff = df_r[df_r.apply(np.sum,axis=1) < num_options] # select all rows with at least one False\n",
      "    return float(len(df_diff)) / float(len(df_predicted))   # total non-matching options / total options"
     ],
     "language": "python",
     "metadata": {},
     "outputs": [],
     "prompt_number": 12
    },
    {
     "cell_type": "markdown",
     "metadata": {},
     "source": [
      "## Option changes"
     ]
    },
    {
     "cell_type": "code",
     "collapsed": false,
     "input": [
      "#generate options changes\n",
      "def opt_changes(df):\n",
      "    cust_id = ''\n",
      "    changes = {opt: 0 for opt in l_options}\n",
      "    state = {opt: '' for opt in l_options}\n",
      "    counts = []\n",
      "    for idx, row in df.iterrows():\n",
      "        if row.customer_ID != cust_id:\n",
      "            # Remember these counts\n",
      "            changes['customer_ID'] = cust_id\n",
      "            counts.append(changes)\n",
      "            # Reset the counts\n",
      "            state = {opt: row[opt] for opt in l_options}\n",
      "            cust_id = row.customer_ID\n",
      "            changes = {opt: 0 for opt in l_options}\n",
      "        else:\n",
      "            for opt in l_options:\n",
      "                if state[opt] != row[opt]:\n",
      "                    changes[opt] += 1\n",
      "                state[opt] = row[opt]\n",
      "    return counts[1:]  # remove the first empty row"
     ],
     "language": "python",
     "metadata": {},
     "outputs": [],
     "prompt_number": 17
    },
    {
     "cell_type": "code",
     "collapsed": false,
     "input": [
      "l_shop_opt_changes = opt_changes(df_shop)"
     ],
     "language": "python",
     "metadata": {},
     "outputs": [],
     "prompt_number": 19
    },
    {
     "cell_type": "code",
     "collapsed": false,
     "input": [
      "df_shop_opt_changes = pd.DataFrame(l_shop_opt_changes[1:]).set_index(['customer_ID'])"
     ],
     "language": "python",
     "metadata": {},
     "outputs": [],
     "prompt_number": 27
    },
    {
     "cell_type": "code",
     "collapsed": false,
     "input": [
      "df_shop_opt_changes.sum().order() / len(df_train.index) * 100"
     ],
     "language": "python",
     "metadata": {},
     "outputs": [
      {
       "metadata": {},
       "output_type": "pyout",
       "prompt_number": 160,
       "text": [
        "B    4.105681\n",
        "E    4.512746\n",
        "D    4.648635\n",
        "A    6.168818\n",
        "F    6.273891\n",
        "C    6.622783\n",
        "G    8.390693\n",
        "dtype: float64"
       ]
      }
     ],
     "prompt_number": 160
    },
    {
     "cell_type": "code",
     "collapsed": false,
     "input": [
      "df_purchase_ix = df_purchase.set_index('customer_ID')"
     ],
     "language": "python",
     "metadata": {},
     "outputs": [],
     "prompt_number": 108
    },
    {
     "cell_type": "code",
     "collapsed": false,
     "input": [
      "df_shop_last[l_options][:5]"
     ],
     "language": "python",
     "metadata": {},
     "outputs": [
      {
       "html": [
        "<div style=\"max-height:1000px;max-width:1500px;overflow:auto;\">\n",
        "<table border=\"1\" class=\"dataframe\">\n",
        "  <thead>\n",
        "    <tr style=\"text-align: right;\">\n",
        "      <th></th>\n",
        "      <th>A</th>\n",
        "      <th>B</th>\n",
        "      <th>C</th>\n",
        "      <th>D</th>\n",
        "      <th>E</th>\n",
        "      <th>F</th>\n",
        "      <th>G</th>\n",
        "    </tr>\n",
        "    <tr>\n",
        "      <th>customer_ID</th>\n",
        "      <th></th>\n",
        "      <th></th>\n",
        "      <th></th>\n",
        "      <th></th>\n",
        "      <th></th>\n",
        "      <th></th>\n",
        "      <th></th>\n",
        "    </tr>\n",
        "  </thead>\n",
        "  <tbody>\n",
        "    <tr>\n",
        "      <th>10000000</th>\n",
        "      <td> 1</td>\n",
        "      <td> 0</td>\n",
        "      <td> 2</td>\n",
        "      <td> 2</td>\n",
        "      <td> 1</td>\n",
        "      <td> 2</td>\n",
        "      <td> 1</td>\n",
        "    </tr>\n",
        "    <tr>\n",
        "      <th>10000005</th>\n",
        "      <td> 0</td>\n",
        "      <td> 0</td>\n",
        "      <td> 3</td>\n",
        "      <td> 2</td>\n",
        "      <td> 0</td>\n",
        "      <td> 0</td>\n",
        "      <td> 2</td>\n",
        "    </tr>\n",
        "    <tr>\n",
        "      <th>10000007</th>\n",
        "      <td> 0</td>\n",
        "      <td> 0</td>\n",
        "      <td> 2</td>\n",
        "      <td> 2</td>\n",
        "      <td> 0</td>\n",
        "      <td> 0</td>\n",
        "      <td> 1</td>\n",
        "    </tr>\n",
        "    <tr>\n",
        "      <th>10000013</th>\n",
        "      <td> 1</td>\n",
        "      <td> 1</td>\n",
        "      <td> 3</td>\n",
        "      <td> 2</td>\n",
        "      <td> 1</td>\n",
        "      <td> 1</td>\n",
        "      <td> 3</td>\n",
        "    </tr>\n",
        "    <tr>\n",
        "      <th>10000014</th>\n",
        "      <td> 1</td>\n",
        "      <td> 1</td>\n",
        "      <td> 1</td>\n",
        "      <td> 1</td>\n",
        "      <td> 0</td>\n",
        "      <td> 2</td>\n",
        "      <td> 2</td>\n",
        "    </tr>\n",
        "  </tbody>\n",
        "</table>\n",
        "<p>5 rows \u00d7 7 columns</p>\n",
        "</div>"
       ],
       "metadata": {},
       "output_type": "pyout",
       "prompt_number": 111,
       "text": [
        "             A  B  C  D  E  F  G\n",
        "customer_ID                     \n",
        "10000000     1  0  2  2  1  2  1\n",
        "10000005     0  0  3  2  0  0  2\n",
        "10000007     0  0  2  2  0  0  1\n",
        "10000013     1  1  3  2  1  1  3\n",
        "10000014     1  1  1  1  0  2  2\n",
        "\n",
        "[5 rows x 7 columns]"
       ]
      }
     ],
     "prompt_number": 111
    },
    {
     "cell_type": "code",
     "collapsed": false,
     "input": [
      "df_purchase_ix[l_options][:5]"
     ],
     "language": "python",
     "metadata": {},
     "outputs": [
      {
       "html": [
        "<div style=\"max-height:1000px;max-width:1500px;overflow:auto;\">\n",
        "<table border=\"1\" class=\"dataframe\">\n",
        "  <thead>\n",
        "    <tr style=\"text-align: right;\">\n",
        "      <th></th>\n",
        "      <th>A</th>\n",
        "      <th>B</th>\n",
        "      <th>C</th>\n",
        "      <th>D</th>\n",
        "      <th>E</th>\n",
        "      <th>F</th>\n",
        "      <th>G</th>\n",
        "    </tr>\n",
        "    <tr>\n",
        "      <th>customer_ID</th>\n",
        "      <th></th>\n",
        "      <th></th>\n",
        "      <th></th>\n",
        "      <th></th>\n",
        "      <th></th>\n",
        "      <th></th>\n",
        "      <th></th>\n",
        "    </tr>\n",
        "  </thead>\n",
        "  <tbody>\n",
        "    <tr>\n",
        "      <th>10000000</th>\n",
        "      <td> 1</td>\n",
        "      <td> 0</td>\n",
        "      <td> 2</td>\n",
        "      <td> 2</td>\n",
        "      <td> 1</td>\n",
        "      <td> 2</td>\n",
        "      <td> 1</td>\n",
        "    </tr>\n",
        "    <tr>\n",
        "      <th>10000005</th>\n",
        "      <td> 0</td>\n",
        "      <td> 0</td>\n",
        "      <td> 3</td>\n",
        "      <td> 2</td>\n",
        "      <td> 0</td>\n",
        "      <td> 0</td>\n",
        "      <td> 2</td>\n",
        "    </tr>\n",
        "    <tr>\n",
        "      <th>10000007</th>\n",
        "      <td> 0</td>\n",
        "      <td> 0</td>\n",
        "      <td> 1</td>\n",
        "      <td> 2</td>\n",
        "      <td> 0</td>\n",
        "      <td> 0</td>\n",
        "      <td> 1</td>\n",
        "    </tr>\n",
        "    <tr>\n",
        "      <th>10000013</th>\n",
        "      <td> 1</td>\n",
        "      <td> 1</td>\n",
        "      <td> 3</td>\n",
        "      <td> 2</td>\n",
        "      <td> 1</td>\n",
        "      <td> 1</td>\n",
        "      <td> 3</td>\n",
        "    </tr>\n",
        "    <tr>\n",
        "      <th>10000014</th>\n",
        "      <td> 1</td>\n",
        "      <td> 1</td>\n",
        "      <td> 1</td>\n",
        "      <td> 1</td>\n",
        "      <td> 0</td>\n",
        "      <td> 2</td>\n",
        "      <td> 2</td>\n",
        "    </tr>\n",
        "  </tbody>\n",
        "</table>\n",
        "<p>5 rows \u00d7 7 columns</p>\n",
        "</div>"
       ],
       "metadata": {},
       "output_type": "pyout",
       "prompt_number": 112,
       "text": [
        "             A  B  C  D  E  F  G\n",
        "customer_ID                     \n",
        "10000000     1  0  2  2  1  2  1\n",
        "10000005     0  0  3  2  0  0  2\n",
        "10000007     0  0  1  2  0  0  1\n",
        "10000013     1  1  3  2  1  1  3\n",
        "10000014     1  1  1  1  0  2  2\n",
        "\n",
        "[5 rows x 7 columns]"
       ]
      }
     ],
     "prompt_number": 112
    },
    {
     "cell_type": "markdown",
     "metadata": {},
     "source": [
      "## Last shop transaction = Purchase transaction ?"
     ]
    },
    {
     "cell_type": "code",
     "collapsed": false,
     "input": [
      "# what % of the time is the last shop transaction != the purchase transaction?\n",
      "df_diffs = (df_purchase_ix[l_options] == df_shop_last[l_options]).astype(int)\n",
      "(df_diffs.sum(axis=1) < 7).astype(int).sum() / float(len(df_diffs.index))"
     ],
     "language": "python",
     "metadata": {},
     "outputs": [
      {
       "metadata": {},
       "output_type": "pyout",
       "prompt_number": 131,
       "text": [
        "0.31210506241688918"
       ]
      }
     ],
     "prompt_number": 131
    },
    {
     "cell_type": "code",
     "collapsed": false,
     "input": [
      "(len(df_diffs.index) - df_diffs.sum()).order()  / len(df_diffs.index) * 100"
     ],
     "language": "python",
     "metadata": {},
     "outputs": [
      {
       "metadata": {},
       "output_type": "pyout",
       "prompt_number": 168,
       "text": [
        "D     5.078910\n",
        "E     6.254059\n",
        "B     6.589079\n",
        "C     6.923069\n",
        "A     7.106557\n",
        "F     7.256028\n",
        "G    13.580183\n",
        "dtype: float64"
       ]
      }
     ],
     "prompt_number": 168
    },
    {
     "cell_type": "code",
     "collapsed": false,
     "input": [
      "df_diffs.sum().order() #/ len(df_diffs.index) * 100"
     ],
     "language": "python",
     "metadata": {},
     "outputs": [
      {
       "metadata": {},
       "output_type": "pyout",
       "prompt_number": 165,
       "text": [
        "G    83835\n",
        "F    89970\n",
        "A    90115\n",
        "C    90293\n",
        "B    90617\n",
        "E    90942\n",
        "D    92082\n",
        "dtype: int64"
       ]
      }
     ],
     "prompt_number": 165
    },
    {
     "cell_type": "markdown",
     "metadata": {},
     "source": [
      "## Compare options "
     ]
    },
    {
     "cell_type": "code",
     "collapsed": false,
     "input": [
      "# compare options \n",
      "df_AB = pd.crosstab(df_train.A, df_train.B)/len(df_train.index)\n",
      "df_AC = pd.crosstab(df_train.A, df_train.C)/len(df_train.index)\n",
      "df_AD = pd.crosstab(df_train.A, df_train.D)/len(df_train.index)\n",
      "df_AE = pd.crosstab(df_train.A, df_train.E)/len(df_train.index)\n",
      "df_AF = pd.crosstab(df_train.A, df_train.F)/len(df_train.index)\n",
      "df_AG = pd.crosstab(df_train.A, df_train.G)/len(df_train.index)\n",
      "\n",
      "fig, ax = plt.subplots(3,2,figsize=(16,12))\n",
      "df_AB.plot(kind='bar', legend=False, ax=ax[0,0], title=\"B\")\n",
      "df_AC.plot(kind='bar', legend=False, ax=ax[0,1], title='C')\n",
      "df_AD.plot(kind='bar', legend=False, ax=ax[1,0], title='D')\n",
      "df_AE.plot(kind='bar', legend=False, ax=ax[1,1], title='E')\n",
      "df_AF.plot(kind='bar', legend=False, ax=ax[2,0], title='F')\n",
      "df_AG.plot(kind='bar', legend=False, ax=ax[2,1], title='G')"
     ],
     "language": "python",
     "metadata": {},
     "outputs": [
      {
       "metadata": {},
       "output_type": "pyout",
       "prompt_number": 88,
       "text": [
        "<matplotlib.axes.AxesSubplot at 0x12cec2850>"
       ]
      },
      {
       "metadata": {},
       "output_type": "display_data",
       "png": "[encoded data removed]",
       "text": [
        "<matplotlib.figure.Figure at 0x115c06f10>"
       ]
      }
     ],
     "prompt_number": 88
    },
    {
     "cell_type": "code",
     "collapsed": false,
     "input": [
      "df_AB"
     ],
     "language": "python",
     "metadata": {},
     "outputs": [
      {
       "html": [
        "<div style=\"max-height:1000px;max-width:1500px;overflow:auto;\">\n",
        "<table border=\"1\" class=\"dataframe\">\n",
        "  <thead>\n",
        "    <tr style=\"text-align: right;\">\n",
        "      <th>B</th>\n",
        "      <th>0</th>\n",
        "      <th>1</th>\n",
        "    </tr>\n",
        "    <tr>\n",
        "      <th>A</th>\n",
        "      <th></th>\n",
        "      <th></th>\n",
        "    </tr>\n",
        "  </thead>\n",
        "  <tbody>\n",
        "    <tr>\n",
        "      <th>0</th>\n",
        "      <td> 0.163844</td>\n",
        "      <td> 0.052152</td>\n",
        "    </tr>\n",
        "    <tr>\n",
        "      <th>1</th>\n",
        "      <td> 0.304456</td>\n",
        "      <td> 0.336007</td>\n",
        "    </tr>\n",
        "    <tr>\n",
        "      <th>2</th>\n",
        "      <td> 0.077464</td>\n",
        "      <td> 0.066078</td>\n",
        "    </tr>\n",
        "  </tbody>\n",
        "</table>\n",
        "<p>3 rows \u00d7 2 columns</p>\n",
        "</div>"
       ],
       "metadata": {},
       "output_type": "pyout",
       "prompt_number": 89,
       "text": [
        "B         0         1\n",
        "A                    \n",
        "0  0.163844  0.052152\n",
        "1  0.304456  0.336007\n",
        "2  0.077464  0.066078\n",
        "\n",
        "[3 rows x 2 columns]"
       ]
      }
     ],
     "prompt_number": 89
    },
    {
     "cell_type": "code",
     "collapsed": false,
     "input": [
      "# compare options \n",
      "df_BC = pd.crosstab(df_train.B, df_train.C)/len(df_train.index)\n",
      "df_BD = pd.crosstab(df_train.B, df_train.D)/len(df_train.index)\n",
      "df_BE = pd.crosstab(df_train.B, df_train.E)/len(df_train.index)\n",
      "df_BF = pd.crosstab(df_train.B, df_train.F)/len(df_train.index)\n",
      "df_BG = pd.crosstab(df_train.B, df_train.G)/len(df_train.index)\n",
      "\n",
      "fig, ax = plt.subplots(3,2,figsize=(16,12))\n",
      "df_BC.plot(kind='bar', legend=False, ax=ax[0,1], title='C')\n",
      "df_BD.plot(kind='bar', legend=False, ax=ax[1,0], title='D')\n",
      "df_BE.plot(kind='bar', legend=False, ax=ax[1,1], title='E')\n",
      "df_BF.plot(kind='bar', legend=False, ax=ax[2,0], title='F')\n",
      "df_BG.plot(kind='bar', legend=False, ax=ax[2,1], title='G')"
     ],
     "language": "python",
     "metadata": {},
     "outputs": [
      {
       "metadata": {},
       "output_type": "pyout",
       "prompt_number": 90,
       "text": [
        "<matplotlib.axes.AxesSubplot at 0x12e85bb90>"
       ]
      },
      {
       "metadata": {},
       "output_type": "display_data",
       "png": "[encoded data removed]",
       "text": [
        "<matplotlib.figure.Figure at 0x12cd88850>"
       ]
      }
     ],
     "prompt_number": 90
    },
    {
     "cell_type": "code",
     "collapsed": false,
     "input": [
      "# compare options \n",
      "df_CD = pd.crosstab(df_train.C, df_train.D)/len(df_train.index)\n",
      "df_CE = pd.crosstab(df_train.C, df_train.E)/len(df_train.index)\n",
      "df_CF = pd.crosstab(df_train.C, df_train.F)/len(df_train.index)\n",
      "df_CG = pd.crosstab(df_train.C, df_train.G)/len(df_train.index)\n",
      "\n",
      "fig, ax = plt.subplots(2,2,figsize=(16,12))\n",
      "df_CD.plot(kind='bar', legend=False, ax=ax[0,0], title='D')\n",
      "df_CE.plot(kind='bar', legend=False, ax=ax[0,1], title='E')\n",
      "df_CF.plot(kind='bar', legend=False, ax=ax[1,0], title='F')\n",
      "df_CG.plot(kind='bar', legend=False, ax=ax[1,1], title='G')"
     ],
     "language": "python",
     "metadata": {},
     "outputs": [
      {
       "metadata": {},
       "output_type": "pyout",
       "prompt_number": 91,
       "text": [
        "<matplotlib.axes.AxesSubplot at 0x12ee9ef90>"
       ]
      },
      {
       "metadata": {},
       "output_type": "display_data",
       "png": "[encoded data removed]",
       "text": [
        "<matplotlib.figure.Figure at 0x12e90e850>"
       ]
      }
     ],
     "prompt_number": 91
    },
    {
     "cell_type": "code",
     "collapsed": false,
     "input": [
      "# compare options \n",
      "df_DE = pd.crosstab(df_train.D, df_train.E)/len(df_train.index)\n",
      "df_DF = pd.crosstab(df_train.D, df_train.F)/len(df_train.index)\n",
      "df_DG = pd.crosstab(df_train.D, df_train.G)/len(df_train.index)\n",
      "\n",
      "fig, ax = plt.subplots(2,2,figsize=(16,12))\n",
      "df_DE.plot(kind='bar', legend=False, ax=ax[0,1], title='E')\n",
      "df_DF.plot(kind='bar', legend=False, ax=ax[1,0], title='F')\n",
      "df_DG.plot(kind='bar', legend=False, ax=ax[1,1], title='G')"
     ],
     "language": "python",
     "metadata": {},
     "outputs": [
      {
       "metadata": {},
       "output_type": "pyout",
       "prompt_number": 92,
       "text": [
        "<matplotlib.axes.AxesSubplot at 0x12efb5d10>"
       ]
      },
      {
       "metadata": {},
       "output_type": "display_data",
       "png": "[encoded data removed]",
       "text": [
        "<matplotlib.figure.Figure at 0x12959e550>"
       ]
      }
     ],
     "prompt_number": 92
    },
    {
     "cell_type": "code",
     "collapsed": false,
     "input": [
      "# compare options \n",
      "df_EF = pd.crosstab(df_train.E, df_train.F)/len(df_train.index)\n",
      "df_EG = pd.crosstab(df_train.E, df_train.G)/len(df_train.index)\n",
      "\n",
      "fig, ax = plt.subplots(1,2,figsize=(12,6))\n",
      "df_EF.plot(kind='bar', legend=False, ax=ax[0], title='F')\n",
      "df_EG.plot(kind='bar', legend=False, ax=ax[1], title='G')"
     ],
     "language": "python",
     "metadata": {},
     "outputs": [
      {
       "metadata": {},
       "output_type": "pyout",
       "prompt_number": 98,
       "text": [
        "<matplotlib.axes.AxesSubplot at 0x130333dd0>"
       ]
      },
      {
       "metadata": {},
       "output_type": "display_data",
       "png": "[encoded data removed]",
       "text": [
        "<matplotlib.figure.Figure at 0x10a65ec90>"
       ]
      }
     ],
     "prompt_number": 98
    },
    {
     "cell_type": "code",
     "collapsed": false,
     "input": [
      "# compare options \n",
      "df_FG = pd.crosstab(df_train.F, df_train.G)/len(df_train.index)\n",
      "df_FG.plot(kind='bar', legend=False, title='G',figsize=(12,6))"
     ],
     "language": "python",
     "metadata": {},
     "outputs": [
      {
       "metadata": {},
       "output_type": "pyout",
       "prompt_number": 100,
       "text": [
        "<matplotlib.axes.AxesSubplot at 0x130315850>"
       ]
      },
      {
       "metadata": {},
       "output_type": "display_data",
       "png": "[encoded data removed]",
       "text": [
        "<matplotlib.figure.Figure at 0x10cfc2350>"
       ]
      }
     ],
     "prompt_number": 100
    },
    {
     "cell_type": "markdown",
     "metadata": {},
     "source": [
      "## Count option value frequency"
     ]
    },
    {
     "cell_type": "code",
     "collapsed": false,
     "input": [
      "df_train.groupby('A')['A'].count() / len(df_train.index)"
     ],
     "language": "python",
     "metadata": {},
     "outputs": [
      {
       "metadata": {},
       "output_type": "pyout",
       "prompt_number": 149,
       "text": [
        "A\n",
        "0    0.215996\n",
        "1    0.640462\n",
        "2    0.143542\n",
        "dtype: float64"
       ]
      }
     ],
     "prompt_number": 149
    },
    {
     "cell_type": "code",
     "collapsed": false,
     "input": [
      "df_train.groupby('B')['B'].count() / len(df_train.index)"
     ],
     "language": "python",
     "metadata": {},
     "outputs": [
      {
       "metadata": {},
       "output_type": "pyout",
       "prompt_number": 150,
       "text": [
        "B\n",
        "0    0.545764\n",
        "1    0.454236\n",
        "dtype: float64"
       ]
      }
     ],
     "prompt_number": 150
    },
    {
     "cell_type": "code",
     "collapsed": false,
     "input": [
      "df_train.groupby('C')['C'].count() / len(df_train.index)"
     ],
     "language": "python",
     "metadata": {},
     "outputs": [
      {
       "metadata": {},
       "output_type": "pyout",
       "prompt_number": 151,
       "text": [
        "C\n",
        "1    0.305066\n",
        "2    0.200629\n",
        "3    0.408279\n",
        "4    0.086026\n",
        "dtype: float64"
       ]
      }
     ],
     "prompt_number": 151
    },
    {
     "cell_type": "code",
     "collapsed": false,
     "input": [
      "df_train.groupby('D')['D'].count() / len(df_train.index)"
     ],
     "language": "python",
     "metadata": {},
     "outputs": [
      {
       "metadata": {},
       "output_type": "pyout",
       "prompt_number": 152,
       "text": [
        "D\n",
        "1    0.160266\n",
        "2    0.225168\n",
        "3    0.614565\n",
        "dtype: float64"
       ]
      }
     ],
     "prompt_number": 152
    },
    {
     "cell_type": "code",
     "collapsed": false,
     "input": [
      "df_train.groupby('E')['E'].count() / len(df_train.index)"
     ],
     "language": "python",
     "metadata": {},
     "outputs": [
      {
       "metadata": {},
       "output_type": "pyout",
       "prompt_number": 153,
       "text": [
        "E\n",
        "0    0.554807\n",
        "1    0.445193\n",
        "dtype: float64"
       ]
      }
     ],
     "prompt_number": 153
    },
    {
     "cell_type": "code",
     "collapsed": false,
     "input": [
      "df_train.groupby('F')['F'].count() / len(df_train.index)"
     ],
     "language": "python",
     "metadata": {},
     "outputs": [
      {
       "metadata": {},
       "output_type": "pyout",
       "prompt_number": 155,
       "text": [
        "F\n",
        "0    0.325284\n",
        "1    0.238427\n",
        "2    0.384527\n",
        "3    0.051763\n",
        "dtype: float64"
       ]
      }
     ],
     "prompt_number": 155
    },
    {
     "cell_type": "code",
     "collapsed": false,
     "input": [
      "df_train.groupby('G')['G'].count() / len(df_train.index)"
     ],
     "language": "python",
     "metadata": {},
     "outputs": [
      {
       "metadata": {},
       "output_type": "pyout",
       "prompt_number": 156,
       "text": [
        "G\n",
        "1    0.213373\n",
        "2    0.398703\n",
        "3    0.287356\n",
        "4    0.100568\n",
        "dtype: float64"
       ]
      }
     ],
     "prompt_number": 156
    },
    {
     "cell_type": "markdown",
     "metadata": {},
     "source": [
      "## Distribution of option sets"
     ]
    },
    {
     "cell_type": "code",
     "collapsed": false,
     "input": [
      "df_purchase_ACDF = df_purchase[['A','C','D','F']]"
     ],
     "language": "python",
     "metadata": {},
     "outputs": [],
     "prompt_number": 169
    },
    {
     "cell_type": "code",
     "collapsed": false,
     "input": [
      "df_purchase_ACDF_vector = df_purchase_ACDF.apply(lambda row: ''.join(map(str, row)),axis=1)\n",
      "df_purchase_ACDF_vector[:4]"
     ],
     "language": "python",
     "metadata": {},
     "outputs": [
      {
       "metadata": {},
       "output_type": "pyout",
       "prompt_number": 171,
       "text": [
        "8     1222\n",
        "14    0320\n",
        "22    0120\n",
        "26    1321\n",
        "dtype: object"
       ]
      }
     ],
     "prompt_number": 171
    },
    {
     "cell_type": "code",
     "collapsed": false,
     "input": [
      "s_packages = df_purchase_ACDF_vector.groupby(df_purchase_ACDF_vector.values).count().order(ascending=False)\n",
      "s_packages[:20].plot(kind='bar')"
     ],
     "language": "python",
     "metadata": {},
     "outputs": [
      {
       "metadata": {},
       "output_type": "pyout",
       "prompt_number": 183,
       "text": [
        "<matplotlib.axes.AxesSubplot at 0x12fe47e10>"
       ]
      },
      {
       "metadata": {},
       "output_type": "display_data",
       "png": "[encoded data removed]",
       "text": [
        "<matplotlib.figure.Figure at 0x130f65110>"
       ]
      }
     ],
     "prompt_number": 183
    },
    {
     "cell_type": "code",
     "collapsed": false,
     "input": [
      "df_purchase_1133 = df_purchase.query(\"A==1 & B==1 & C==3 & D==3\")\n",
      "df_purchase_1133_vectors = df_purchase_1133[l_options].apply(lambda row: ''.join(map(str, row)),axis=1)"
     ],
     "language": "python",
     "metadata": {},
     "outputs": [],
     "prompt_number": 187
    },
    {
     "cell_type": "code",
     "collapsed": false,
     "input": [
      "s_packages_1133 = df_purchase_1133_vectors.groupby(df_purchase_1133_vectors.values).count().order(ascending=False)\n",
      "s_packages_1133.plot(kind='bar')"
     ],
     "language": "python",
     "metadata": {},
     "outputs": [
      {
       "metadata": {},
       "output_type": "pyout",
       "prompt_number": 188,
       "text": [
        "<matplotlib.axes.AxesSubplot at 0x130f49750>"
       ]
      },
      {
       "metadata": {},
       "output_type": "display_data",
       "png": "[encoded data removed]",
       "text": [
        "<matplotlib.figure.Figure at 0x12fda0350>"
       ]
      }
     ],
     "prompt_number": 188
    },
    {
     "cell_type": "code",
     "collapsed": false,
     "input": [
      "s_train_customers_1133 = df_purchase_1133['customer_ID']"
     ],
     "language": "python",
     "metadata": {},
     "outputs": [],
     "prompt_number": 189
    },
    {
     "cell_type": "code",
     "collapsed": false,
     "input": [
      "df_train_1133 = df_train[df_train['customer_ID'].isin(s_train_customers_1133)]"
     ],
     "language": "python",
     "metadata": {},
     "outputs": [],
     "prompt_number": 193
    },
    {
     "cell_type": "code",
     "collapsed": false,
     "input": [
      "df_train_1133[['customer_ID', 'record_type'] + l_options][100:122]"
     ],
     "language": "python",
     "metadata": {},
     "outputs": [
      {
       "html": [
        "<div style=\"max-height:1000px;max-width:1500px;overflow:auto;\">\n",
        "<table border=\"1\" class=\"dataframe\">\n",
        "  <thead>\n",
        "    <tr style=\"text-align: right;\">\n",
        "      <th></th>\n",
        "      <th>customer_ID</th>\n",
        "      <th>record_type</th>\n",
        "      <th>A</th>\n",
        "      <th>B</th>\n",
        "      <th>C</th>\n",
        "      <th>D</th>\n",
        "      <th>E</th>\n",
        "      <th>F</th>\n",
        "      <th>G</th>\n",
        "    </tr>\n",
        "  </thead>\n",
        "  <tbody>\n",
        "    <tr>\n",
        "      <th>839</th>\n",
        "      <td> 10000183</td>\n",
        "      <td> 0</td>\n",
        "      <td> 1</td>\n",
        "      <td> 1</td>\n",
        "      <td> 3</td>\n",
        "      <td> 3</td>\n",
        "      <td> 1</td>\n",
        "      <td> 2</td>\n",
        "      <td> 4</td>\n",
        "    </tr>\n",
        "    <tr>\n",
        "      <th>840</th>\n",
        "      <td> 10000183</td>\n",
        "      <td> 0</td>\n",
        "      <td> 1</td>\n",
        "      <td> 1</td>\n",
        "      <td> 3</td>\n",
        "      <td> 3</td>\n",
        "      <td> 1</td>\n",
        "      <td> 2</td>\n",
        "      <td> 4</td>\n",
        "    </tr>\n",
        "    <tr>\n",
        "      <th>841</th>\n",
        "      <td> 10000183</td>\n",
        "      <td> 0</td>\n",
        "      <td> 1</td>\n",
        "      <td> 1</td>\n",
        "      <td> 3</td>\n",
        "      <td> 3</td>\n",
        "      <td> 1</td>\n",
        "      <td> 2</td>\n",
        "      <td> 4</td>\n",
        "    </tr>\n",
        "    <tr>\n",
        "      <th>842</th>\n",
        "      <td> 10000183</td>\n",
        "      <td> 0</td>\n",
        "      <td> 1</td>\n",
        "      <td> 1</td>\n",
        "      <td> 3</td>\n",
        "      <td> 3</td>\n",
        "      <td> 1</td>\n",
        "      <td> 2</td>\n",
        "      <td> 4</td>\n",
        "    </tr>\n",
        "    <tr>\n",
        "      <th>843</th>\n",
        "      <td> 10000183</td>\n",
        "      <td> 0</td>\n",
        "      <td> 1</td>\n",
        "      <td> 1</td>\n",
        "      <td> 3</td>\n",
        "      <td> 3</td>\n",
        "      <td> 1</td>\n",
        "      <td> 2</td>\n",
        "      <td> 4</td>\n",
        "    </tr>\n",
        "    <tr>\n",
        "      <th>844</th>\n",
        "      <td> 10000183</td>\n",
        "      <td> 0</td>\n",
        "      <td> 1</td>\n",
        "      <td> 1</td>\n",
        "      <td> 3</td>\n",
        "      <td> 3</td>\n",
        "      <td> 1</td>\n",
        "      <td> 2</td>\n",
        "      <td> 4</td>\n",
        "    </tr>\n",
        "    <tr>\n",
        "      <th>845</th>\n",
        "      <td> 10000183</td>\n",
        "      <td> 0</td>\n",
        "      <td> 1</td>\n",
        "      <td> 1</td>\n",
        "      <td> 3</td>\n",
        "      <td> 3</td>\n",
        "      <td> 1</td>\n",
        "      <td> 2</td>\n",
        "      <td> 4</td>\n",
        "    </tr>\n",
        "    <tr>\n",
        "      <th>846</th>\n",
        "      <td> 10000183</td>\n",
        "      <td> 0</td>\n",
        "      <td> 1</td>\n",
        "      <td> 1</td>\n",
        "      <td> 3</td>\n",
        "      <td> 3</td>\n",
        "      <td> 1</td>\n",
        "      <td> 2</td>\n",
        "      <td> 4</td>\n",
        "    </tr>\n",
        "    <tr>\n",
        "      <th>847</th>\n",
        "      <td> 10000183</td>\n",
        "      <td> 0</td>\n",
        "      <td> 1</td>\n",
        "      <td> 1</td>\n",
        "      <td> 3</td>\n",
        "      <td> 3</td>\n",
        "      <td> 1</td>\n",
        "      <td> 2</td>\n",
        "      <td> 3</td>\n",
        "    </tr>\n",
        "    <tr>\n",
        "      <th>848</th>\n",
        "      <td> 10000183</td>\n",
        "      <td> 1</td>\n",
        "      <td> 1</td>\n",
        "      <td> 1</td>\n",
        "      <td> 3</td>\n",
        "      <td> 3</td>\n",
        "      <td> 1</td>\n",
        "      <td> 2</td>\n",
        "      <td> 3</td>\n",
        "    </tr>\n",
        "    <tr>\n",
        "      <th>863</th>\n",
        "      <td> 10000188</td>\n",
        "      <td> 0</td>\n",
        "      <td> 1</td>\n",
        "      <td> 1</td>\n",
        "      <td> 3</td>\n",
        "      <td> 3</td>\n",
        "      <td> 1</td>\n",
        "      <td> 2</td>\n",
        "      <td> 4</td>\n",
        "    </tr>\n",
        "    <tr>\n",
        "      <th>864</th>\n",
        "      <td> 10000188</td>\n",
        "      <td> 0</td>\n",
        "      <td> 1</td>\n",
        "      <td> 1</td>\n",
        "      <td> 3</td>\n",
        "      <td> 3</td>\n",
        "      <td> 1</td>\n",
        "      <td> 2</td>\n",
        "      <td> 2</td>\n",
        "    </tr>\n",
        "    <tr>\n",
        "      <th>865</th>\n",
        "      <td> 10000188</td>\n",
        "      <td> 0</td>\n",
        "      <td> 1</td>\n",
        "      <td> 1</td>\n",
        "      <td> 3</td>\n",
        "      <td> 3</td>\n",
        "      <td> 1</td>\n",
        "      <td> 2</td>\n",
        "      <td> 1</td>\n",
        "    </tr>\n",
        "    <tr>\n",
        "      <th>866</th>\n",
        "      <td> 10000188</td>\n",
        "      <td> 0</td>\n",
        "      <td> 1</td>\n",
        "      <td> 1</td>\n",
        "      <td> 3</td>\n",
        "      <td> 3</td>\n",
        "      <td> 1</td>\n",
        "      <td> 2</td>\n",
        "      <td> 1</td>\n",
        "    </tr>\n",
        "    <tr>\n",
        "      <th>867</th>\n",
        "      <td> 10000188</td>\n",
        "      <td> 0</td>\n",
        "      <td> 1</td>\n",
        "      <td> 1</td>\n",
        "      <td> 3</td>\n",
        "      <td> 3</td>\n",
        "      <td> 1</td>\n",
        "      <td> 2</td>\n",
        "      <td> 1</td>\n",
        "    </tr>\n",
        "    <tr>\n",
        "      <th>868</th>\n",
        "      <td> 10000188</td>\n",
        "      <td> 0</td>\n",
        "      <td> 1</td>\n",
        "      <td> 1</td>\n",
        "      <td> 3</td>\n",
        "      <td> 3</td>\n",
        "      <td> 1</td>\n",
        "      <td> 2</td>\n",
        "      <td> 1</td>\n",
        "    </tr>\n",
        "    <tr>\n",
        "      <th>869</th>\n",
        "      <td> 10000188</td>\n",
        "      <td> 1</td>\n",
        "      <td> 1</td>\n",
        "      <td> 1</td>\n",
        "      <td> 3</td>\n",
        "      <td> 3</td>\n",
        "      <td> 1</td>\n",
        "      <td> 2</td>\n",
        "      <td> 4</td>\n",
        "    </tr>\n",
        "    <tr>\n",
        "      <th>929</th>\n",
        "      <td> 10000198</td>\n",
        "      <td> 0</td>\n",
        "      <td> 0</td>\n",
        "      <td> 0</td>\n",
        "      <td> 2</td>\n",
        "      <td> 3</td>\n",
        "      <td> 0</td>\n",
        "      <td> 0</td>\n",
        "      <td> 1</td>\n",
        "    </tr>\n",
        "    <tr>\n",
        "      <th>930</th>\n",
        "      <td> 10000198</td>\n",
        "      <td> 0</td>\n",
        "      <td> 1</td>\n",
        "      <td> 1</td>\n",
        "      <td> 3</td>\n",
        "      <td> 3</td>\n",
        "      <td> 0</td>\n",
        "      <td> 2</td>\n",
        "      <td> 1</td>\n",
        "    </tr>\n",
        "    <tr>\n",
        "      <th>931</th>\n",
        "      <td> 10000198</td>\n",
        "      <td> 0</td>\n",
        "      <td> 1</td>\n",
        "      <td> 1</td>\n",
        "      <td> 3</td>\n",
        "      <td> 3</td>\n",
        "      <td> 0</td>\n",
        "      <td> 2</td>\n",
        "      <td> 1</td>\n",
        "    </tr>\n",
        "    <tr>\n",
        "      <th>932</th>\n",
        "      <td> 10000198</td>\n",
        "      <td> 0</td>\n",
        "      <td> 1</td>\n",
        "      <td> 1</td>\n",
        "      <td> 3</td>\n",
        "      <td> 3</td>\n",
        "      <td> 0</td>\n",
        "      <td> 2</td>\n",
        "      <td> 1</td>\n",
        "    </tr>\n",
        "    <tr>\n",
        "      <th>933</th>\n",
        "      <td> 10000198</td>\n",
        "      <td> 0</td>\n",
        "      <td> 1</td>\n",
        "      <td> 1</td>\n",
        "      <td> 3</td>\n",
        "      <td> 3</td>\n",
        "      <td> 0</td>\n",
        "      <td> 2</td>\n",
        "      <td> 1</td>\n",
        "    </tr>\n",
        "  </tbody>\n",
        "</table>\n",
        "<p>22 rows \u00d7 9 columns</p>\n",
        "</div>"
       ],
       "metadata": {},
       "output_type": "pyout",
       "prompt_number": 202,
       "text": [
        "     customer_ID  record_type  A  B  C  D  E  F  G\n",
        "839     10000183            0  1  1  3  3  1  2  4\n",
        "840     10000183            0  1  1  3  3  1  2  4\n",
        "841     10000183            0  1  1  3  3  1  2  4\n",
        "842     10000183            0  1  1  3  3  1  2  4\n",
        "843     10000183            0  1  1  3  3  1  2  4\n",
        "844     10000183            0  1  1  3  3  1  2  4\n",
        "845     10000183            0  1  1  3  3  1  2  4\n",
        "846     10000183            0  1  1  3  3  1  2  4\n",
        "847     10000183            0  1  1  3  3  1  2  3\n",
        "848     10000183            1  1  1  3  3  1  2  3\n",
        "863     10000188            0  1  1  3  3  1  2  4\n",
        "864     10000188            0  1  1  3  3  1  2  2\n",
        "865     10000188            0  1  1  3  3  1  2  1\n",
        "866     10000188            0  1  1  3  3  1  2  1\n",
        "867     10000188            0  1  1  3  3  1  2  1\n",
        "868     10000188            0  1  1  3  3  1  2  1\n",
        "869     10000188            1  1  1  3  3  1  2  4\n",
        "929     10000198            0  0  0  2  3  0  0  1\n",
        "930     10000198            0  1  1  3  3  0  2  1\n",
        "931     10000198            0  1  1  3  3  0  2  1\n",
        "932     10000198            0  1  1  3  3  0  2  1\n",
        "933     10000198            0  1  1  3  3  0  2  1\n",
        "\n",
        "[22 rows x 9 columns]"
       ]
      }
     ],
     "prompt_number": 202
    },
    {
     "cell_type": "code",
     "collapsed": false,
     "input": [
      "#df_purchase = df_train[df_train['record_type'] > 0]\n",
      "#len(df_train.index)\n"
     ],
     "language": "python",
     "metadata": {},
     "outputs": [
      {
       "html": [
        "<div style=\"max-height:1000px;max-width:1500px;overflow:auto;\">\n",
        "<table border=\"1\" class=\"dataframe\">\n",
        "  <thead>\n",
        "    <tr style=\"text-align: right;\">\n",
        "      <th></th>\n",
        "      <th>customer_ID</th>\n",
        "      <th>shopping_pt</th>\n",
        "      <th>record_type</th>\n",
        "      <th>day</th>\n",
        "      <th>time</th>\n",
        "      <th>state</th>\n",
        "      <th>location</th>\n",
        "      <th>group_size</th>\n",
        "      <th>homeowner</th>\n",
        "      <th>car_age</th>\n",
        "      <th>car_value</th>\n",
        "      <th>risk_factor</th>\n",
        "      <th>age_oldest</th>\n",
        "      <th>age_youngest</th>\n",
        "      <th>married_couple</th>\n",
        "      <th>C_previous</th>\n",
        "      <th>duration_previous</th>\n",
        "      <th>A</th>\n",
        "      <th>B</th>\n",
        "      <th>C</th>\n",
        "      <th></th>\n",
        "    </tr>\n",
        "  </thead>\n",
        "  <tbody>\n",
        "    <tr>\n",
        "      <th>68 </th>\n",
        "      <td> 10000026</td>\n",
        "      <td>  4</td>\n",
        "      <td> 1</td>\n",
        "      <td> 3</td>\n",
        "      <td> 15:24</td>\n",
        "      <td> OH</td>\n",
        "      <td> 10028</td>\n",
        "      <td> 2</td>\n",
        "      <td> 1</td>\n",
        "      <td>  5</td>\n",
        "      <td> d</td>\n",
        "      <td>  3</td>\n",
        "      <td> 59</td>\n",
        "      <td> 57</td>\n",
        "      <td> 1</td>\n",
        "      <td> 3</td>\n",
        "      <td>  1</td>\n",
        "      <td> 1</td>\n",
        "      <td> 1</td>\n",
        "      <td> 3</td>\n",
        "      <td>...</td>\n",
        "    </tr>\n",
        "    <tr>\n",
        "      <th>95 </th>\n",
        "      <td> 10000032</td>\n",
        "      <td>  7</td>\n",
        "      <td> 1</td>\n",
        "      <td> 1</td>\n",
        "      <td> 18:37</td>\n",
        "      <td> OR</td>\n",
        "      <td> 10034</td>\n",
        "      <td> 1</td>\n",
        "      <td> 0</td>\n",
        "      <td> 12</td>\n",
        "      <td> e</td>\n",
        "      <td>  3</td>\n",
        "      <td> 29</td>\n",
        "      <td> 29</td>\n",
        "      <td> 0</td>\n",
        "      <td> 4</td>\n",
        "      <td> 14</td>\n",
        "      <td> 1</td>\n",
        "      <td> 1</td>\n",
        "      <td> 3</td>\n",
        "      <td>...</td>\n",
        "    </tr>\n",
        "    <tr>\n",
        "      <th>120</th>\n",
        "      <td> 10000036</td>\n",
        "      <td> 11</td>\n",
        "      <td> 1</td>\n",
        "      <td> 0</td>\n",
        "      <td> 13:56</td>\n",
        "      <td> FL</td>\n",
        "      <td> 10038</td>\n",
        "      <td> 2</td>\n",
        "      <td> 1</td>\n",
        "      <td> 26</td>\n",
        "      <td> c</td>\n",
        "      <td>  1</td>\n",
        "      <td> 60</td>\n",
        "      <td> 56</td>\n",
        "      <td> 1</td>\n",
        "      <td> 3</td>\n",
        "      <td> 15</td>\n",
        "      <td> 1</td>\n",
        "      <td> 1</td>\n",
        "      <td> 3</td>\n",
        "      <td>...</td>\n",
        "    </tr>\n",
        "    <tr>\n",
        "      <th>142</th>\n",
        "      <td> 10000039</td>\n",
        "      <td>  9</td>\n",
        "      <td> 1</td>\n",
        "      <td> 2</td>\n",
        "      <td> 13:39</td>\n",
        "      <td> OH</td>\n",
        "      <td> 10041</td>\n",
        "      <td> 1</td>\n",
        "      <td> 1</td>\n",
        "      <td>  4</td>\n",
        "      <td> f</td>\n",
        "      <td>NaN</td>\n",
        "      <td> 49</td>\n",
        "      <td> 49</td>\n",
        "      <td> 0</td>\n",
        "      <td> 2</td>\n",
        "      <td>  4</td>\n",
        "      <td> 1</td>\n",
        "      <td> 1</td>\n",
        "      <td> 3</td>\n",
        "      <td>...</td>\n",
        "    </tr>\n",
        "  </tbody>\n",
        "</table>\n",
        "<p>4 rows \u00d7 25 columns</p>\n",
        "</div>"
       ],
       "metadata": {},
       "output_type": "pyout",
       "prompt_number": 203,
       "text": [
        "     customer_ID  shopping_pt  record_type  day   time state  location  \\\n",
        "68      10000026            4            1    3  15:24    OH     10028   \n",
        "95      10000032            7            1    1  18:37    OR     10034   \n",
        "120     10000036           11            1    0  13:56    FL     10038   \n",
        "142     10000039            9            1    2  13:39    OH     10041   \n",
        "\n",
        "     group_size  homeowner  car_age car_value  risk_factor  age_oldest  \\\n",
        "68            2          1        5         d            3          59   \n",
        "95            1          0       12         e            3          29   \n",
        "120           2          1       26         c            1          60   \n",
        "142           1          1        4         f          NaN          49   \n",
        "\n",
        "     age_youngest  married_couple  C_previous  duration_previous  A  B  C      \n",
        "68             57               1           3                  1  1  1  3 ...  \n",
        "95             29               0           4                 14  1  1  3 ...  \n",
        "120            56               1           3                 15  1  1  3 ...  \n",
        "142            49               0           2                  4  1  1  3 ...  \n",
        "\n",
        "[4 rows x 25 columns]"
       ]
      }
     ],
     "prompt_number": 203
    },
    {
     "cell_type": "code",
     "collapsed": false,
     "input": [
      "df_purchase_1133_ix = df_purchase_1133.set_index('customer_ID')\n",
      "df_shop_1133 = df_train_1133[df_train_1133['record_type'] == 0]\n",
      "df_shop_1133_grouped = df_shop_1133.groupby('customer_ID')\n",
      "l_shop_last_1133 = []\n",
      "for i, j in df_shop_1133_grouped:\n",
      "    row = j[j['shopping_pt'] == len(j)].values\n",
      "    l_shop_last_1133.append(row[0])\n",
      "\n",
      "df_shop_last_1133 = pd.DataFrame(l_shop_last_1133, columns=list(df_purchase_1133.columns)).set_index(['customer_ID'])"
     ],
     "language": "python",
     "metadata": {},
     "outputs": [],
     "prompt_number": 213
    },
    {
     "cell_type": "code",
     "collapsed": false,
     "input": [
      "df_diffs_1133 = (df_purchase_1133_ix[['A','B','C','D']] == df_shop_last_1133[['A','B','C','D']]).astype(int)\n",
      "(df_diffs_1133.sum(axis=1) < 4).astype(int).sum() / float(len(df_diffs_1133.index)) *100"
     ],
     "language": "python",
     "metadata": {},
     "outputs": [
      {
       "metadata": {},
       "output_type": "pyout",
       "prompt_number": 235,
       "text": [
        "13.509589669137313"
       ]
      }
     ],
     "prompt_number": 235
    },
    {
     "cell_type": "code",
     "collapsed": false,
     "input": [
      "df_diffs_ABCD = (df_purchase_ix[['A','B','C','D']] == df_shop_last[['A','B','C','D']]).astype(int)\n",
      "(df_diffs_ABCD.sum(axis=1) < 4).astype(int).sum() / float(len(df_diffs_ABCD.index)) *100"
     ],
     "language": "python",
     "metadata": {},
     "outputs": [
      {
       "metadata": {},
       "output_type": "pyout",
       "prompt_number": 236,
       "text": [
        "18.94875733179396"
       ]
      }
     ],
     "prompt_number": 236
    },
    {
     "cell_type": "code",
     "collapsed": false,
     "input": [
      "df_shop_1133_grouped.count()['customer_ID']"
     ],
     "language": "python",
     "metadata": {},
     "outputs": [
      {
       "metadata": {},
       "output_type": "pyout",
       "prompt_number": 239,
       "text": [
        "customer_ID\n",
        "10000026        3\n",
        "10000032        6\n",
        "10000036       10\n",
        "10000039        8\n",
        "10000040        3\n",
        "10000042        3\n",
        "10000086        7\n",
        "10000098        2\n",
        "10000100        8\n",
        "10000111        5\n",
        "10000113        4\n",
        "10000118        6\n",
        "10000138        8\n",
        "10000151        8\n",
        "10000164        3\n",
        "...\n",
        "10152589       2\n",
        "10152594       5\n",
        "10152600       9\n",
        "10152606       4\n",
        "10152633       3\n",
        "10152674       6\n",
        "10152675       6\n",
        "10152681       7\n",
        "10152682       3\n",
        "10152685       7\n",
        "10152692       3\n",
        "10152694       4\n",
        "10152709       5\n",
        "10152711       4\n",
        "10152716       4\n",
        "Name: customer_ID, Length: 13087, dtype: int64"
       ]
      }
     ],
     "prompt_number": 239
    },
    {
     "cell_type": "code",
     "collapsed": false,
     "input": [
      "#df_purchase_1133_ix.groupby('state').count()['state'] "
     ],
     "language": "python",
     "metadata": {},
     "outputs": [],
     "prompt_number": 231
    },
    {
     "cell_type": "code",
     "collapsed": false,
     "input": [
      "df_matrix = pd.DataFrame(index=, columns=).fillna(0)"
     ],
     "language": "python",
     "metadata": {},
     "outputs": [],
     "prompt_number": 243
    },
    {
     "cell_type": "code",
     "collapsed": false,
     "input": [
      "df_test['A'][1]"
     ],
     "language": "python",
     "metadata": {},
     "outputs": [
      {
       "metadata": {},
       "output_type": "pyout",
       "prompt_number": 247,
       "text": [
        "0"
       ]
      }
     ],
     "prompt_number": 247
    }
   ],
   "metadata": {}
  }
 ]
}