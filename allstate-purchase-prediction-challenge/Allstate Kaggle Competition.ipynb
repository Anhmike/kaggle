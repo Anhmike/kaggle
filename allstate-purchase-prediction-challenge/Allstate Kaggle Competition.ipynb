{
 "metadata": {
  "name": ""
 },
 "nbformat": 3,
 "nbformat_minor": 0,
 "worksheets": [
  {
   "cells": [
    {
     "cell_type": "heading",
     "level": 1,
     "metadata": {},
     "source": [
      "Allstate Kaggle Competition"
     ]
    },
    {
     "cell_type": "markdown",
     "metadata": {},
     "source": [
      "# Predict a purchased policy based on transaction history #\n",
      "\n",
      "As a customer shops an insurance policy, he/she will receive a number of quotes with different coverage options before purchasing a plan. This is represented in this challenge as a series of rows that include a customer ID, information about the customer, information about the quoted policy, and the cost. Your task is to predict the purchased coverage options using a limited subset of the total interaction history. If the eventual purchase can be predicted sooner in the shopping window, the quoting process is shortened and the issuer is less likely to lose the customer's business.\n",
      "\n",
      "Using a customer\u2019s shopping history, can you predict what policy they will end up choosing?\n",
      "\n",
      "### Evaluation ###\n",
      "\n",
      "Submissions are evaluated on an all-or-none accuracy basis. You must predict every coverage option correctly to receive credit for a given customer. Your score is the percent of customers for whom you predict the exact purchased policy.\n",
      "\n",
      "### Submission File ###\n",
      "\n",
      "The submission format is created by concatenating each plan option (A,B,C,D,E,F,G) as a single string, in order. The file should contain a header and have the following format:\n",
      "\n",
      "```\n",
      "customer_ID,plan\n",
      "10000001,1111111\n",
      "10000002,1111111\n",
      "10000003,1111111\n",
      "...\n",
      "```\n",
      "\n",
      "### Files ###\n",
      "\n",
      "The training and test sets contain transaction history for customers that ended up purchasing a policy. For each customer_ID, you are given their quote history. In the training set you have the entire quote history, the last row of which contains the coverage options they purchased. In the test set, you have only a partial history of the quotes and do not have the purchased coverage options. These are truncated to certain lengths to simulate making predictions with less history (higher uncertainty) or more history (lower uncertainty).\n",
      "\n",
      "For each customer_ID in the test set, you must predict the seven coverage options they end up purchasing.\n",
      "\n",
      "### What is a customer? ###\n",
      "\n",
      "Each customer has many shopping points, where a shopping point is defined by a customer with certain characteristics viewing a product and its associated cost at a particular time.\n",
      "\n",
      "- Some customer characteristics may change over time (e.g. as the customer changes or provides new information), and the cost depends on both the product and the customer characteristics.\n",
      "- A customer may represent a collection of people, as policies can cover more than one person.\n",
      "- A customer may purchase a product that was not viewed!\n",
      "\n",
      "### Product Options ###\n",
      "\n",
      "Each product has 7 customizable options selected by customers, each with 2, 3, or 4 ordinal values possible:\n",
      "\n",
      "Option Name | Possible Values\n",
      ":---:|:---:\n",
      "A | 0,1,2\n",
      "B | 0,1\n",
      "C | 1,2,3,4\n",
      "D | 1,2,3\n",
      "E | 0,1\n",
      "F | 0,1,2,3\n",
      "G | 1,2,3,4\n",
      "\n",
      "\n",
      "A product is simply a vector with length 7 whose values are chosen from each of the options listed above. The cost of a product is a function of both the product options and customer characteristics.\n",
      "\n",
      "### Variable Descriptions ###\n",
      "\n",
      "- __customer_ID__ - A unique identifier for the customer\n",
      "- __shopping_pt__ - Unique identifier for the shopping point of a given customer\n",
      "- __record_type__ - 0=shopping point, 1=purchase point\n",
      "- __day__ - Day of the week (0-6, 0=Monday)\n",
      "- __time__ - Time of day (HH:MM)\n",
      "- __state__ - State where shopping point occurred\n",
      "- __location__ - Location ID where shopping point occurred\n",
      "- __group_size__ - How many people will be covered under the policy (1, 2, 3 or 4)\n",
      "- __homeowner__ - Whether the customer owns a home or not (0=no, 1=yes)\n",
      "- __car_age__ - Age of the customer\u2019s car\n",
      "- __car_value__ - How valuable was the customer\u2019s car when new\n",
      "- __risk_factor__ - An ordinal assessment of how risky the customer is (1, 2, 3, 4)\n",
      "- __age_oldest__ - Age of the oldest person in customer's group\n",
      "- __age_youngest__ - Age of the youngest person in customer\u2019s group\n",
      "- __married_couple__ - Does the customer group contain a married couple (0=no, 1=yes)\n",
      "- __C_previous__ - What the customer formerly had or currently has for product option C (0=nothing, 1, 2, 3,4)\n",
      "- __duration_previous__ -  how long (in years) the customer was covered by their previous issuer\n",
      "- __A,B,C,D,E,F,G__ - the coverage options\n",
      "- __cost__ - cost of the quoted coverage options"
     ]
    },
    {
     "cell_type": "markdown",
     "metadata": {},
     "source": [
      "## Basic Initalizations\n",
      "Load the training data:"
     ]
    },
    {
     "cell_type": "code",
     "collapsed": false,
     "input": [
      "import csv\n",
      "import numpy as np\n",
      "import pandas as pd\n",
      "import matplotlib.pyplot as plt\n",
      "%pylab inline"
     ],
     "language": "python",
     "metadata": {},
     "outputs": [
      {
       "output_type": "stream",
       "stream": "stdout",
       "text": [
        "Populating the interactive namespace from numpy and matplotlib\n"
       ]
      }
     ],
     "prompt_number": 2
    },
    {
     "cell_type": "code",
     "collapsed": false,
     "input": [
      "csv_dir = '/Users/Paul/Desktop/Allstate/'"
     ],
     "language": "python",
     "metadata": {},
     "outputs": [],
     "prompt_number": 3
    },
    {
     "cell_type": "code",
     "collapsed": false,
     "input": [
      "df_train = pd.read_csv(csv_dir + 'train.csv')"
     ],
     "language": "python",
     "metadata": {},
     "outputs": [],
     "prompt_number": 3
    },
    {
     "cell_type": "code",
     "collapsed": false,
     "input": [
      "l_options =['A','B','C','D','E','F','G']"
     ],
     "language": "python",
     "metadata": {},
     "outputs": [],
     "prompt_number": 9
    },
    {
     "cell_type": "code",
     "collapsed": false,
     "input": [
      "s_customers = pd.Series(df_train.customer_ID.unique())"
     ],
     "language": "python",
     "metadata": {},
     "outputs": [],
     "prompt_number": 5
    },
    {
     "cell_type": "code",
     "collapsed": false,
     "input": [
      "l_A = [0,1,2]\n",
      "l_B = [0,1]\n",
      "l_C = [1,2,3,4]\n",
      "l_D = [1,2,3]\n",
      "l_E = [0,1]\n",
      "l_F = [0,1,2,3]\n",
      "l_G = [1,2,3,4]"
     ],
     "language": "python",
     "metadata": {},
     "outputs": [],
     "prompt_number": 10
    },
    {
     "cell_type": "code",
     "collapsed": false,
     "input": [
      "l_columns = list(df_train.columns)\n",
      "#['customer_ID','shopping_pt','record_type','day','time','state','location',\\\n",
      "#                     'group_size','homeowner','car_age','car_value','risk_factor','age_oldest',\\\n",
      "#                     'age_youngest','married_couple','C_previous','duration_previous',\\\n",
      "#                     'A','B','C','D','E','F','G','cost']"
     ],
     "language": "python",
     "metadata": {},
     "outputs": [],
     "prompt_number": 7
    },
    {
     "cell_type": "code",
     "collapsed": false,
     "input": [
      "df_train_grouped = df_train.groupby('customer_ID')"
     ],
     "language": "python",
     "metadata": {},
     "outputs": [],
     "prompt_number": 8
    },
    {
     "cell_type": "code",
     "collapsed": false,
     "input": [
      "df_test = pd.read_csv(csv_dir + 'test_v2.csv')"
     ],
     "language": "python",
     "metadata": {},
     "outputs": [],
     "prompt_number": 4
    },
    {
     "cell_type": "markdown",
     "metadata": {},
     "source": [
      "## Exploratory Data Analysis"
     ]
    },
    {
     "cell_type": "code",
     "collapsed": false,
     "input": [
      "df_train.count()"
     ],
     "language": "python",
     "metadata": {},
     "outputs": [
      {
       "metadata": {},
       "output_type": "pyout",
       "prompt_number": 10,
       "text": [
        "customer_ID          665249\n",
        "shopping_pt          665249\n",
        "record_type          665249\n",
        "day                  665249\n",
        "time                 665249\n",
        "state                665249\n",
        "location             665249\n",
        "group_size           665249\n",
        "homeowner            665249\n",
        "car_age              665249\n",
        "car_value            663718\n",
        "risk_factor          424831\n",
        "age_oldest           665249\n",
        "age_youngest         665249\n",
        "married_couple       665249\n",
        "C_previous           646538\n",
        "duration_previous    646538\n",
        "A                    665249\n",
        "B                    665249\n",
        "C                    665249\n",
        "D                    665249\n",
        "E                    665249\n",
        "F                    665249\n",
        "G                    665249\n",
        "cost                 665249\n",
        "dtype: int64"
       ]
      }
     ],
     "prompt_number": 10
    },
    {
     "cell_type": "code",
     "collapsed": false,
     "input": [
      "df_train.describe()"
     ],
     "language": "python",
     "metadata": {},
     "outputs": [
      {
       "html": [
        "<div style=\"max-height:1000px;max-width:1500px;overflow:auto;\">\n",
        "<table border=\"1\" class=\"dataframe\">\n",
        "  <thead>\n",
        "    <tr style=\"text-align: right;\">\n",
        "      <th></th>\n",
        "      <th>customer_ID</th>\n",
        "      <th>shopping_pt</th>\n",
        "      <th>record_type</th>\n",
        "      <th>day</th>\n",
        "      <th>location</th>\n",
        "      <th>group_size</th>\n",
        "      <th>homeowner</th>\n",
        "      <th>car_age</th>\n",
        "      <th>risk_factor</th>\n",
        "      <th>age_oldest</th>\n",
        "      <th>age_youngest</th>\n",
        "      <th>married_couple</th>\n",
        "      <th>C_previous</th>\n",
        "      <th>duration_previous</th>\n",
        "      <th>A</th>\n",
        "      <th>B</th>\n",
        "      <th>C</th>\n",
        "      <th>D</th>\n",
        "      <th>E</th>\n",
        "      <th>F</th>\n",
        "      <th></th>\n",
        "    </tr>\n",
        "  </thead>\n",
        "  <tbody>\n",
        "    <tr>\n",
        "      <th>count</th>\n",
        "      <td>   665249.000000</td>\n",
        "      <td> 665249.000000</td>\n",
        "      <td> 665249.000000</td>\n",
        "      <td> 665249.000000</td>\n",
        "      <td> 665249.000000</td>\n",
        "      <td> 665249.000000</td>\n",
        "      <td> 665249.000000</td>\n",
        "      <td> 665249.000000</td>\n",
        "      <td> 424831.000000</td>\n",
        "      <td> 665249.000000</td>\n",
        "      <td> 665249.000000</td>\n",
        "      <td> 665249.000000</td>\n",
        "      <td> 646538.000000</td>\n",
        "      <td> 646538.000000</td>\n",
        "      <td> 665249.000000</td>\n",
        "      <td> 665249.000000</td>\n",
        "      <td> 665249.000000</td>\n",
        "      <td> 665249.000000</td>\n",
        "      <td> 665249.000000</td>\n",
        "      <td> 665249.000000</td>\n",
        "      <td>...</td>\n",
        "    </tr>\n",
        "    <tr>\n",
        "      <th>mean</th>\n",
        "      <td> 10076553.440219</td>\n",
        "      <td>      4.219966</td>\n",
        "      <td>      0.145824</td>\n",
        "      <td>      1.969429</td>\n",
        "      <td>  12271.543022</td>\n",
        "      <td>      1.234784</td>\n",
        "      <td>      0.536229</td>\n",
        "      <td>      8.139437</td>\n",
        "      <td>      2.563996</td>\n",
        "      <td>     44.992403</td>\n",
        "      <td>     42.577588</td>\n",
        "      <td>      0.209782</td>\n",
        "      <td>      2.444718</td>\n",
        "      <td>      6.003774</td>\n",
        "      <td>      0.927546</td>\n",
        "      <td>      0.454236</td>\n",
        "      <td>      2.275265</td>\n",
        "      <td>      2.454299</td>\n",
        "      <td>      0.445193</td>\n",
        "      <td>      1.162768</td>\n",
        "      <td>...</td>\n",
        "    </tr>\n",
        "    <tr>\n",
        "      <th>std</th>\n",
        "      <td>    44049.778757</td>\n",
        "      <td>      2.394369</td>\n",
        "      <td>      0.352930</td>\n",
        "      <td>      1.453470</td>\n",
        "      <td>   1564.789415</td>\n",
        "      <td>      0.461036</td>\n",
        "      <td>      0.498686</td>\n",
        "      <td>      5.764598</td>\n",
        "      <td>      1.111584</td>\n",
        "      <td>     17.403440</td>\n",
        "      <td>     17.460432</td>\n",
        "      <td>      0.407153</td>\n",
        "      <td>      1.034596</td>\n",
        "      <td>      4.680793</td>\n",
        "      <td>      0.595221</td>\n",
        "      <td>      0.497902</td>\n",
        "      <td>      0.990798</td>\n",
        "      <td>      0.753953</td>\n",
        "      <td>      0.496987</td>\n",
        "      <td>      0.943594</td>\n",
        "      <td>...</td>\n",
        "    </tr>\n",
        "    <tr>\n",
        "      <th>min</th>\n",
        "      <td> 10000000.000000</td>\n",
        "      <td>      1.000000</td>\n",
        "      <td>      0.000000</td>\n",
        "      <td>      0.000000</td>\n",
        "      <td>  10001.000000</td>\n",
        "      <td>      1.000000</td>\n",
        "      <td>      0.000000</td>\n",
        "      <td>      0.000000</td>\n",
        "      <td>      1.000000</td>\n",
        "      <td>     18.000000</td>\n",
        "      <td>     16.000000</td>\n",
        "      <td>      0.000000</td>\n",
        "      <td>      1.000000</td>\n",
        "      <td>      0.000000</td>\n",
        "      <td>      0.000000</td>\n",
        "      <td>      0.000000</td>\n",
        "      <td>      1.000000</td>\n",
        "      <td>      1.000000</td>\n",
        "      <td>      0.000000</td>\n",
        "      <td>      0.000000</td>\n",
        "      <td>...</td>\n",
        "    </tr>\n",
        "    <tr>\n",
        "      <th>25%</th>\n",
        "      <td> 10038523.000000</td>\n",
        "      <td>      2.000000</td>\n",
        "      <td>      0.000000</td>\n",
        "      <td>      1.000000</td>\n",
        "      <td>  10936.000000</td>\n",
        "      <td>      1.000000</td>\n",
        "      <td>      0.000000</td>\n",
        "      <td>      3.000000</td>\n",
        "      <td>      2.000000</td>\n",
        "      <td>     28.000000</td>\n",
        "      <td>     26.000000</td>\n",
        "      <td>      0.000000</td>\n",
        "      <td>      1.000000</td>\n",
        "      <td>      2.000000</td>\n",
        "      <td>      1.000000</td>\n",
        "      <td>      0.000000</td>\n",
        "      <td>      1.000000</td>\n",
        "      <td>      2.000000</td>\n",
        "      <td>      0.000000</td>\n",
        "      <td>      0.000000</td>\n",
        "      <td>...</td>\n",
        "    </tr>\n",
        "    <tr>\n",
        "      <th>50%</th>\n",
        "      <td> 10076403.000000</td>\n",
        "      <td>      4.000000</td>\n",
        "      <td>      0.000000</td>\n",
        "      <td>      2.000000</td>\n",
        "      <td>  12027.000000</td>\n",
        "      <td>      1.000000</td>\n",
        "      <td>      1.000000</td>\n",
        "      <td>      7.000000</td>\n",
        "      <td>      3.000000</td>\n",
        "      <td>     44.000000</td>\n",
        "      <td>     40.000000</td>\n",
        "      <td>      0.000000</td>\n",
        "      <td>      3.000000</td>\n",
        "      <td>      5.000000</td>\n",
        "      <td>      1.000000</td>\n",
        "      <td>      0.000000</td>\n",
        "      <td>      2.000000</td>\n",
        "      <td>      3.000000</td>\n",
        "      <td>      0.000000</td>\n",
        "      <td>      1.000000</td>\n",
        "      <td>...</td>\n",
        "    </tr>\n",
        "    <tr>\n",
        "      <th>75%</th>\n",
        "      <td> 10114696.000000</td>\n",
        "      <td>      6.000000</td>\n",
        "      <td>      0.000000</td>\n",
        "      <td>      3.000000</td>\n",
        "      <td>  13426.000000</td>\n",
        "      <td>      1.000000</td>\n",
        "      <td>      1.000000</td>\n",
        "      <td>     12.000000</td>\n",
        "      <td>      4.000000</td>\n",
        "      <td>     60.000000</td>\n",
        "      <td>     57.000000</td>\n",
        "      <td>      0.000000</td>\n",
        "      <td>      3.000000</td>\n",
        "      <td>      9.000000</td>\n",
        "      <td>      1.000000</td>\n",
        "      <td>      1.000000</td>\n",
        "      <td>      3.000000</td>\n",
        "      <td>      3.000000</td>\n",
        "      <td>      1.000000</td>\n",
        "      <td>      2.000000</td>\n",
        "      <td>...</td>\n",
        "    </tr>\n",
        "    <tr>\n",
        "      <th>max</th>\n",
        "      <td> 10152724.000000</td>\n",
        "      <td>     13.000000</td>\n",
        "      <td>      1.000000</td>\n",
        "      <td>      6.000000</td>\n",
        "      <td>  16580.000000</td>\n",
        "      <td>      4.000000</td>\n",
        "      <td>      1.000000</td>\n",
        "      <td>     85.000000</td>\n",
        "      <td>      4.000000</td>\n",
        "      <td>     75.000000</td>\n",
        "      <td>     75.000000</td>\n",
        "      <td>      1.000000</td>\n",
        "      <td>      4.000000</td>\n",
        "      <td>     15.000000</td>\n",
        "      <td>      2.000000</td>\n",
        "      <td>      1.000000</td>\n",
        "      <td>      4.000000</td>\n",
        "      <td>      3.000000</td>\n",
        "      <td>      1.000000</td>\n",
        "      <td>      3.000000</td>\n",
        "      <td>...</td>\n",
        "    </tr>\n",
        "  </tbody>\n",
        "</table>\n",
        "<p>8 rows \u00d7 22 columns</p>\n",
        "</div>"
       ],
       "metadata": {},
       "output_type": "pyout",
       "prompt_number": 11,
       "text": [
        "           customer_ID    shopping_pt    record_type            day  \\\n",
        "count    665249.000000  665249.000000  665249.000000  665249.000000   \n",
        "mean   10076553.440219       4.219966       0.145824       1.969429   \n",
        "std       44049.778757       2.394369       0.352930       1.453470   \n",
        "min    10000000.000000       1.000000       0.000000       0.000000   \n",
        "25%    10038523.000000       2.000000       0.000000       1.000000   \n",
        "50%    10076403.000000       4.000000       0.000000       2.000000   \n",
        "75%    10114696.000000       6.000000       0.000000       3.000000   \n",
        "max    10152724.000000      13.000000       1.000000       6.000000   \n",
        "\n",
        "            location     group_size      homeowner        car_age  \\\n",
        "count  665249.000000  665249.000000  665249.000000  665249.000000   \n",
        "mean    12271.543022       1.234784       0.536229       8.139437   \n",
        "std      1564.789415       0.461036       0.498686       5.764598   \n",
        "min     10001.000000       1.000000       0.000000       0.000000   \n",
        "25%     10936.000000       1.000000       0.000000       3.000000   \n",
        "50%     12027.000000       1.000000       1.000000       7.000000   \n",
        "75%     13426.000000       1.000000       1.000000      12.000000   \n",
        "max     16580.000000       4.000000       1.000000      85.000000   \n",
        "\n",
        "         risk_factor     age_oldest   age_youngest  married_couple  \\\n",
        "count  424831.000000  665249.000000  665249.000000   665249.000000   \n",
        "mean        2.563996      44.992403      42.577588        0.209782   \n",
        "std         1.111584      17.403440      17.460432        0.407153   \n",
        "min         1.000000      18.000000      16.000000        0.000000   \n",
        "25%         2.000000      28.000000      26.000000        0.000000   \n",
        "50%         3.000000      44.000000      40.000000        0.000000   \n",
        "75%         4.000000      60.000000      57.000000        0.000000   \n",
        "max         4.000000      75.000000      75.000000        1.000000   \n",
        "\n",
        "          C_previous  duration_previous              A              B  \\\n",
        "count  646538.000000      646538.000000  665249.000000  665249.000000   \n",
        "mean        2.444718           6.003774       0.927546       0.454236   \n",
        "std         1.034596           4.680793       0.595221       0.497902   \n",
        "min         1.000000           0.000000       0.000000       0.000000   \n",
        "25%         1.000000           2.000000       1.000000       0.000000   \n",
        "50%         3.000000           5.000000       1.000000       0.000000   \n",
        "75%         3.000000           9.000000       1.000000       1.000000   \n",
        "max         4.000000          15.000000       2.000000       1.000000   \n",
        "\n",
        "                   C              D              E              F      \n",
        "count  665249.000000  665249.000000  665249.000000  665249.000000 ...  \n",
        "mean        2.275265       2.454299       0.445193       1.162768 ...  \n",
        "std         0.990798       0.753953       0.496987       0.943594 ...  \n",
        "min         1.000000       1.000000       0.000000       0.000000 ...  \n",
        "25%         1.000000       2.000000       0.000000       0.000000 ...  \n",
        "50%         2.000000       3.000000       0.000000       1.000000 ...  \n",
        "75%         3.000000       3.000000       1.000000       2.000000 ...  \n",
        "max         4.000000       3.000000       1.000000       3.000000 ...  \n",
        "\n",
        "[8 rows x 22 columns]"
       ]
      }
     ],
     "prompt_number": 11
    },
    {
     "cell_type": "markdown",
     "metadata": {},
     "source": [
      "Collect all the purchases in one dataframe."
     ]
    },
    {
     "cell_type": "code",
     "collapsed": false,
     "input": [
      "df_purchase = df_train[df_train['record_type'] > 0]\n",
      "len(df_train.index)"
     ],
     "language": "python",
     "metadata": {},
     "outputs": [
      {
       "metadata": {},
       "output_type": "pyout",
       "prompt_number": 13,
       "text": [
        "665249"
       ]
      }
     ],
     "prompt_number": 13
    },
    {
     "cell_type": "markdown",
     "metadata": {},
     "source": [
      "Count the number of transactions per customer, including purchase, and draw a histogram"
     ]
    },
    {
     "cell_type": "code",
     "collapsed": false,
     "input": [
      "transaction_counts = df_purchase.groupby('shopping_pt').count()\n",
      "transaction_counts.sort()['shopping_pt'].plot(kind='bar')"
     ],
     "language": "python",
     "metadata": {},
     "outputs": [
      {
       "metadata": {},
       "output_type": "pyout",
       "prompt_number": 22,
       "text": [
        "<matplotlib.axes.AxesSubplot at 0x107b0b210>"
       ]
      },
      {
       "metadata": {},
       "output_type": "display_data",
       "png": "[encoded data removed]",
       "text": [
        "<matplotlib.figure.Figure at 0x10730d5d0>"
       ]
      }
     ],
     "prompt_number": 22
    },
    {
     "cell_type": "markdown",
     "metadata": {},
     "source": [
      "Collect all shop transactions (without purchase) in a dataframe"
     ]
    },
    {
     "cell_type": "code",
     "collapsed": false,
     "input": [
      "df_shop = df_train[df_train['record_type'] == 0]\n",
      "len(df_shop.index)"
     ],
     "language": "python",
     "metadata": {},
     "outputs": [
      {
       "metadata": {},
       "output_type": "pyout",
       "prompt_number": 14,
       "text": [
        "568240"
       ]
      }
     ],
     "prompt_number": 14
    },
    {
     "cell_type": "code",
     "collapsed": false,
     "input": [
      "df_train[['customer_ID','shopping_pt','record_type']+l_options].query('customer_ID == 10000000')"
     ],
     "language": "python",
     "metadata": {},
     "outputs": [
      {
       "html": [
        "<div style=\"max-height:1000px;max-width:1500px;overflow:auto;\">\n",
        "<table border=\"1\" class=\"dataframe\">\n",
        "  <thead>\n",
        "    <tr style=\"text-align: right;\">\n",
        "      <th></th>\n",
        "      <th>customer_ID</th>\n",
        "      <th>shopping_pt</th>\n",
        "      <th>record_type</th>\n",
        "      <th>A</th>\n",
        "      <th>B</th>\n",
        "      <th>C</th>\n",
        "      <th>D</th>\n",
        "      <th>E</th>\n",
        "      <th>F</th>\n",
        "      <th>G</th>\n",
        "    </tr>\n",
        "  </thead>\n",
        "  <tbody>\n",
        "    <tr>\n",
        "      <th>0</th>\n",
        "      <td> 10000000</td>\n",
        "      <td> 1</td>\n",
        "      <td> 0</td>\n",
        "      <td> 1</td>\n",
        "      <td> 0</td>\n",
        "      <td> 2</td>\n",
        "      <td> 2</td>\n",
        "      <td> 1</td>\n",
        "      <td> 2</td>\n",
        "      <td> 2</td>\n",
        "    </tr>\n",
        "    <tr>\n",
        "      <th>1</th>\n",
        "      <td> 10000000</td>\n",
        "      <td> 2</td>\n",
        "      <td> 0</td>\n",
        "      <td> 1</td>\n",
        "      <td> 0</td>\n",
        "      <td> 2</td>\n",
        "      <td> 2</td>\n",
        "      <td> 1</td>\n",
        "      <td> 2</td>\n",
        "      <td> 1</td>\n",
        "    </tr>\n",
        "    <tr>\n",
        "      <th>2</th>\n",
        "      <td> 10000000</td>\n",
        "      <td> 3</td>\n",
        "      <td> 0</td>\n",
        "      <td> 1</td>\n",
        "      <td> 0</td>\n",
        "      <td> 2</td>\n",
        "      <td> 2</td>\n",
        "      <td> 1</td>\n",
        "      <td> 2</td>\n",
        "      <td> 1</td>\n",
        "    </tr>\n",
        "    <tr>\n",
        "      <th>3</th>\n",
        "      <td> 10000000</td>\n",
        "      <td> 4</td>\n",
        "      <td> 0</td>\n",
        "      <td> 1</td>\n",
        "      <td> 0</td>\n",
        "      <td> 2</td>\n",
        "      <td> 2</td>\n",
        "      <td> 1</td>\n",
        "      <td> 2</td>\n",
        "      <td> 1</td>\n",
        "    </tr>\n",
        "    <tr>\n",
        "      <th>4</th>\n",
        "      <td> 10000000</td>\n",
        "      <td> 5</td>\n",
        "      <td> 0</td>\n",
        "      <td> 1</td>\n",
        "      <td> 0</td>\n",
        "      <td> 2</td>\n",
        "      <td> 2</td>\n",
        "      <td> 1</td>\n",
        "      <td> 2</td>\n",
        "      <td> 1</td>\n",
        "    </tr>\n",
        "    <tr>\n",
        "      <th>5</th>\n",
        "      <td> 10000000</td>\n",
        "      <td> 6</td>\n",
        "      <td> 0</td>\n",
        "      <td> 1</td>\n",
        "      <td> 0</td>\n",
        "      <td> 2</td>\n",
        "      <td> 2</td>\n",
        "      <td> 1</td>\n",
        "      <td> 2</td>\n",
        "      <td> 1</td>\n",
        "    </tr>\n",
        "    <tr>\n",
        "      <th>6</th>\n",
        "      <td> 10000000</td>\n",
        "      <td> 7</td>\n",
        "      <td> 0</td>\n",
        "      <td> 1</td>\n",
        "      <td> 0</td>\n",
        "      <td> 2</td>\n",
        "      <td> 2</td>\n",
        "      <td> 1</td>\n",
        "      <td> 2</td>\n",
        "      <td> 1</td>\n",
        "    </tr>\n",
        "    <tr>\n",
        "      <th>7</th>\n",
        "      <td> 10000000</td>\n",
        "      <td> 8</td>\n",
        "      <td> 0</td>\n",
        "      <td> 1</td>\n",
        "      <td> 0</td>\n",
        "      <td> 2</td>\n",
        "      <td> 2</td>\n",
        "      <td> 1</td>\n",
        "      <td> 2</td>\n",
        "      <td> 1</td>\n",
        "    </tr>\n",
        "    <tr>\n",
        "      <th>8</th>\n",
        "      <td> 10000000</td>\n",
        "      <td> 9</td>\n",
        "      <td> 1</td>\n",
        "      <td> 1</td>\n",
        "      <td> 0</td>\n",
        "      <td> 2</td>\n",
        "      <td> 2</td>\n",
        "      <td> 1</td>\n",
        "      <td> 2</td>\n",
        "      <td> 1</td>\n",
        "    </tr>\n",
        "  </tbody>\n",
        "</table>\n",
        "<p>9 rows \u00d7 10 columns</p>\n",
        "</div>"
       ],
       "metadata": {},
       "output_type": "pyout",
       "prompt_number": 23,
       "text": [
        "   customer_ID  shopping_pt  record_type  A  B  C  D  E  F  G\n",
        "0     10000000            1            0  1  0  2  2  1  2  2\n",
        "1     10000000            2            0  1  0  2  2  1  2  1\n",
        "2     10000000            3            0  1  0  2  2  1  2  1\n",
        "3     10000000            4            0  1  0  2  2  1  2  1\n",
        "4     10000000            5            0  1  0  2  2  1  2  1\n",
        "5     10000000            6            0  1  0  2  2  1  2  1\n",
        "6     10000000            7            0  1  0  2  2  1  2  1\n",
        "7     10000000            8            0  1  0  2  2  1  2  1\n",
        "8     10000000            9            1  1  0  2  2  1  2  1\n",
        "\n",
        "[9 rows x 10 columns]"
       ]
      }
     ],
     "prompt_number": 23
    },
    {
     "cell_type": "markdown",
     "metadata": {},
     "source": [
      "For every customer, for every option, count how many times the option has changed"
     ]
    },
    {
     "cell_type": "code",
     "collapsed": false,
     "input": [
      "df_shop_grouped = df_shop.groupby('customer_ID')"
     ],
     "language": "python",
     "metadata": {},
     "outputs": [],
     "prompt_number": 24
    },
    {
     "cell_type": "code",
     "collapsed": false,
     "input": [
      "test_trans_count = df_test.groupby('customer_ID')['customer_ID'].count().value_counts().sort_index()"
     ],
     "language": "python",
     "metadata": {},
     "outputs": [],
     "prompt_number": 25
    },
    {
     "cell_type": "code",
     "collapsed": false,
     "input": [
      "test_trans_count # distribution of the number of transactions including purchase"
     ],
     "language": "python",
     "metadata": {},
     "outputs": [
      {
       "metadata": {},
       "output_type": "pyout",
       "prompt_number": 26,
       "text": [
        "2     18943\n",
        "3     13298\n",
        "4      9251\n",
        "5      6528\n",
        "6      4203\n",
        "7      2175\n",
        "8       959\n",
        "9       281\n",
        "10       70\n",
        "11        8\n",
        "dtype: int64"
       ]
      }
     ],
     "prompt_number": 26
    },
    {
     "cell_type": "code",
     "collapsed": false,
     "input": [
      "test_trans_count.plot(kind='bar')\n",
      "# plt.hist(test_trans_count)"
     ],
     "language": "python",
     "metadata": {},
     "outputs": [
      {
       "metadata": {},
       "output_type": "pyout",
       "prompt_number": 27,
       "text": [
        "<matplotlib.axes.AxesSubplot at 0x108b0d8d0>"
       ]
      },
      {
       "metadata": {},
       "output_type": "display_data",
       "png": "[encoded data removed]",
       "text": [
        "<matplotlib.figure.Figure at 0x107b739d0>"
       ]
      }
     ],
     "prompt_number": 27
    },
    {
     "cell_type": "code",
     "collapsed": false,
     "input": [
      "# get the last row of every shop transaction in the train set\n",
      "# REWRITE as a table scan\n",
      "l_shop_last = []\n",
      "for i, j in df_shop_grouped:\n",
      "    row = j[j['shopping_pt'] == len(j)].values\n",
      "    l_shop_last.append(row[0])"
     ],
     "language": "python",
     "metadata": {},
     "outputs": [],
     "prompt_number": 28
    },
    {
     "cell_type": "code",
     "collapsed": false,
     "input": [
      "df_shop_last = pd.DataFrame(l_shop_last, columns=list(df_purchase.columns)).set_index(['customer_ID'])"
     ],
     "language": "python",
     "metadata": {},
     "outputs": [],
     "prompt_number": 29
    },
    {
     "cell_type": "code",
     "collapsed": false,
     "input": [
      "#save l_shop_last to file\n",
      "#import csv\n",
      "#csvfile = csv_dir + 'shop_last.csv'\n",
      "#with open(csvfile, \"wb\") as output:\n",
      "#    writer = csv.writer(output, delimiter=',',lineterminator='\\n')\n",
      "#    for val in l_shop_last:\n",
      "#        writer.writerow(val)"
     ],
     "language": "python",
     "metadata": {},
     "outputs": [],
     "prompt_number": 307
    },
    {
     "cell_type": "markdown",
     "metadata": {},
     "source": [
      "## Evaluation Method"
     ]
    },
    {
     "cell_type": "code",
     "collapsed": false,
     "input": [
      "# evaluation - compare what % of correct matches of predicted to actual \n",
      "# evaluation depends on the global l_options and maybe it should not\n",
      "def evaluation(df_predicted, df_actual):\n",
      "    num_options = len(l_options)                            # number of options\n",
      "    df_r = df_predicted[l_options] == df_actual[l_options]  # find all options that do no match\n",
      "    df_diff = df_r[df_r.apply(np.sum,axis=1) < num_options] # select all rows with at least one False\n",
      "    return float(len(df_diff)) / float(len(df_predicted))   # total non-matching options / total options"
     ],
     "language": "python",
     "metadata": {},
     "outputs": [],
     "prompt_number": 30
    },
    {
     "cell_type": "code",
     "collapsed": false,
     "input": [
      "# test evaluation by comparing a set to itself and see if it returns a 1 . \n",
      "ans = evaluation(df_train, df_train)\n",
      "ans == 1"
     ],
     "language": "python",
     "metadata": {},
     "outputs": [
      {
       "metadata": {},
       "output_type": "pyout",
       "prompt_number": 31,
       "text": [
        "False"
       ]
      }
     ],
     "prompt_number": 31
    },
    {
     "cell_type": "markdown",
     "metadata": {},
     "source": [
      "## Benchmarks\n",
      "### Last quoted plan benchmark\n",
      "Kaggle reports that Submitting the most recent quoted options for each customer attains a 0.53793, currently ranked at 158 of 870 (2014-04-12).\n",
      "\n",
      "We only get 0.312 on the full train data set"
     ]
    },
    {
     "cell_type": "code",
     "collapsed": false,
     "input": [
      "df_purchase_x = df_purchase.set_index(['customer_ID'])\n",
      "evaluation(df_shop_last,df_purchase_x)"
     ],
     "language": "python",
     "metadata": {},
     "outputs": [
      {
       "metadata": {},
       "output_type": "pyout",
       "prompt_number": 102,
       "text": [
        "0.3121050624168892"
       ]
      }
     ],
     "prompt_number": 102
    },
    {
     "cell_type": "code",
     "collapsed": false,
     "input": [
      "df_purchase_x[l_options][:5]"
     ],
     "language": "python",
     "metadata": {},
     "outputs": [
      {
       "html": [
        "<div style=\"max-height:1000px;max-width:1500px;overflow:auto;\">\n",
        "<table border=\"1\" class=\"dataframe\">\n",
        "  <thead>\n",
        "    <tr style=\"text-align: right;\">\n",
        "      <th></th>\n",
        "      <th>A</th>\n",
        "      <th>B</th>\n",
        "      <th>C</th>\n",
        "      <th>D</th>\n",
        "      <th>E</th>\n",
        "      <th>F</th>\n",
        "      <th>G</th>\n",
        "    </tr>\n",
        "    <tr>\n",
        "      <th>customer_ID</th>\n",
        "      <th></th>\n",
        "      <th></th>\n",
        "      <th></th>\n",
        "      <th></th>\n",
        "      <th></th>\n",
        "      <th></th>\n",
        "      <th></th>\n",
        "    </tr>\n",
        "  </thead>\n",
        "  <tbody>\n",
        "    <tr>\n",
        "      <th>10000000</th>\n",
        "      <td> 1</td>\n",
        "      <td> 0</td>\n",
        "      <td> 2</td>\n",
        "      <td> 2</td>\n",
        "      <td> 1</td>\n",
        "      <td> 2</td>\n",
        "      <td> 1</td>\n",
        "    </tr>\n",
        "    <tr>\n",
        "      <th>10000005</th>\n",
        "      <td> 0</td>\n",
        "      <td> 0</td>\n",
        "      <td> 3</td>\n",
        "      <td> 2</td>\n",
        "      <td> 0</td>\n",
        "      <td> 0</td>\n",
        "      <td> 2</td>\n",
        "    </tr>\n",
        "    <tr>\n",
        "      <th>10000007</th>\n",
        "      <td> 0</td>\n",
        "      <td> 0</td>\n",
        "      <td> 1</td>\n",
        "      <td> 2</td>\n",
        "      <td> 0</td>\n",
        "      <td> 0</td>\n",
        "      <td> 1</td>\n",
        "    </tr>\n",
        "    <tr>\n",
        "      <th>10000013</th>\n",
        "      <td> 1</td>\n",
        "      <td> 1</td>\n",
        "      <td> 3</td>\n",
        "      <td> 2</td>\n",
        "      <td> 1</td>\n",
        "      <td> 1</td>\n",
        "      <td> 3</td>\n",
        "    </tr>\n",
        "    <tr>\n",
        "      <th>10000014</th>\n",
        "      <td> 1</td>\n",
        "      <td> 1</td>\n",
        "      <td> 1</td>\n",
        "      <td> 1</td>\n",
        "      <td> 0</td>\n",
        "      <td> 2</td>\n",
        "      <td> 2</td>\n",
        "    </tr>\n",
        "  </tbody>\n",
        "</table>\n",
        "<p>5 rows \u00d7 7 columns</p>\n",
        "</div>"
       ],
       "metadata": {},
       "output_type": "pyout",
       "prompt_number": 563,
       "text": [
        "             A  B  C  D  E  F  G\n",
        "customer_ID                     \n",
        "10000000     1  0  2  2  1  2  1\n",
        "10000005     0  0  3  2  0  0  2\n",
        "10000007     0  0  1  2  0  0  1\n",
        "10000013     1  1  3  2  1  1  3\n",
        "10000014     1  1  1  1  0  2  2\n",
        "\n",
        "[5 rows x 7 columns]"
       ]
      }
     ],
     "prompt_number": 563
    },
    {
     "cell_type": "code",
     "collapsed": false,
     "input": [
      "df_shop_last[l_options][:5]"
     ],
     "language": "python",
     "metadata": {},
     "outputs": [
      {
       "html": [
        "<div style=\"max-height:1000px;max-width:1500px;overflow:auto;\">\n",
        "<table border=\"1\" class=\"dataframe\">\n",
        "  <thead>\n",
        "    <tr style=\"text-align: right;\">\n",
        "      <th></th>\n",
        "      <th>A</th>\n",
        "      <th>B</th>\n",
        "      <th>C</th>\n",
        "      <th>D</th>\n",
        "      <th>E</th>\n",
        "      <th>F</th>\n",
        "      <th>G</th>\n",
        "    </tr>\n",
        "    <tr>\n",
        "      <th>customer_ID</th>\n",
        "      <th></th>\n",
        "      <th></th>\n",
        "      <th></th>\n",
        "      <th></th>\n",
        "      <th></th>\n",
        "      <th></th>\n",
        "      <th></th>\n",
        "    </tr>\n",
        "  </thead>\n",
        "  <tbody>\n",
        "    <tr>\n",
        "      <th>10000000</th>\n",
        "      <td> 1</td>\n",
        "      <td> 0</td>\n",
        "      <td> 2</td>\n",
        "      <td> 2</td>\n",
        "      <td> 1</td>\n",
        "      <td> 2</td>\n",
        "      <td> 1</td>\n",
        "    </tr>\n",
        "    <tr>\n",
        "      <th>10000005</th>\n",
        "      <td> 0</td>\n",
        "      <td> 0</td>\n",
        "      <td> 3</td>\n",
        "      <td> 2</td>\n",
        "      <td> 0</td>\n",
        "      <td> 0</td>\n",
        "      <td> 2</td>\n",
        "    </tr>\n",
        "    <tr>\n",
        "      <th>10000007</th>\n",
        "      <td> 0</td>\n",
        "      <td> 0</td>\n",
        "      <td> 2</td>\n",
        "      <td> 2</td>\n",
        "      <td> 0</td>\n",
        "      <td> 0</td>\n",
        "      <td> 1</td>\n",
        "    </tr>\n",
        "    <tr>\n",
        "      <th>10000013</th>\n",
        "      <td> 1</td>\n",
        "      <td> 1</td>\n",
        "      <td> 3</td>\n",
        "      <td> 2</td>\n",
        "      <td> 1</td>\n",
        "      <td> 1</td>\n",
        "      <td> 3</td>\n",
        "    </tr>\n",
        "    <tr>\n",
        "      <th>10000014</th>\n",
        "      <td> 1</td>\n",
        "      <td> 1</td>\n",
        "      <td> 1</td>\n",
        "      <td> 1</td>\n",
        "      <td> 0</td>\n",
        "      <td> 2</td>\n",
        "      <td> 2</td>\n",
        "    </tr>\n",
        "  </tbody>\n",
        "</table>\n",
        "<p>5 rows \u00d7 7 columns</p>\n",
        "</div>"
       ],
       "metadata": {},
       "output_type": "pyout",
       "prompt_number": 564,
       "text": [
        "             A  B  C  D  E  F  G\n",
        "customer_ID                     \n",
        "10000000     1  0  2  2  1  2  1\n",
        "10000005     0  0  3  2  0  0  2\n",
        "10000007     0  0  2  2  0  0  1\n",
        "10000013     1  1  3  2  1  1  3\n",
        "10000014     1  1  1  1  0  2  2\n",
        "\n",
        "[5 rows x 7 columns]"
       ]
      }
     ],
     "prompt_number": 564
    },
    {
     "cell_type": "code",
     "collapsed": false,
     "input": [
      "# get the last row of every shop transaction in the test set\n",
      "df_test_grouped = df_test.groupby('customer_ID')\n",
      "len(df_test_grouped) # number of users making purchases in the test set."
     ],
     "language": "python",
     "metadata": {},
     "outputs": [
      {
       "metadata": {},
       "output_type": "pyout",
       "prompt_number": 5,
       "text": [
        "55716"
       ]
      }
     ],
     "prompt_number": 5
    },
    {
     "cell_type": "code",
     "collapsed": false,
     "input": [
      "df_test_last = df_test_grouped.apply(lambda group: group[group['shopping_pt'] == len(group)]).set_index('customer_ID')\n",
      "df_test_last[:2]"
     ],
     "language": "python",
     "metadata": {},
     "outputs": [
      {
       "html": [
        "<div style=\"max-height:1000px;max-width:1500px;overflow:auto;\">\n",
        "<table border=\"1\" class=\"dataframe\">\n",
        "  <thead>\n",
        "    <tr style=\"text-align: right;\">\n",
        "      <th></th>\n",
        "      <th>shopping_pt</th>\n",
        "      <th>record_type</th>\n",
        "      <th>day</th>\n",
        "      <th>time</th>\n",
        "      <th>state</th>\n",
        "      <th>location</th>\n",
        "      <th>group_size</th>\n",
        "      <th>homeowner</th>\n",
        "      <th>car_age</th>\n",
        "      <th>car_value</th>\n",
        "      <th>risk_factor</th>\n",
        "      <th>age_oldest</th>\n",
        "      <th>age_youngest</th>\n",
        "      <th>married_couple</th>\n",
        "      <th>C_previous</th>\n",
        "      <th>duration_previous</th>\n",
        "      <th>A</th>\n",
        "      <th>B</th>\n",
        "      <th>C</th>\n",
        "      <th>D</th>\n",
        "      <th></th>\n",
        "    </tr>\n",
        "    <tr>\n",
        "      <th>customer_ID</th>\n",
        "      <th></th>\n",
        "      <th></th>\n",
        "      <th></th>\n",
        "      <th></th>\n",
        "      <th></th>\n",
        "      <th></th>\n",
        "      <th></th>\n",
        "      <th></th>\n",
        "      <th></th>\n",
        "      <th></th>\n",
        "      <th></th>\n",
        "      <th></th>\n",
        "      <th></th>\n",
        "      <th></th>\n",
        "      <th></th>\n",
        "      <th></th>\n",
        "      <th></th>\n",
        "      <th></th>\n",
        "      <th></th>\n",
        "      <th></th>\n",
        "    </tr>\n",
        "  </thead>\n",
        "  <tbody>\n",
        "    <tr>\n",
        "      <th>10000001</th>\n",
        "      <td> 2</td>\n",
        "      <td> 0</td>\n",
        "      <td> 1</td>\n",
        "      <td> 12:36</td>\n",
        "      <td> OK</td>\n",
        "      <td> 10002</td>\n",
        "      <td> 1</td>\n",
        "      <td> 0</td>\n",
        "      <td> 9</td>\n",
        "      <td> f</td>\n",
        "      <td>NaN</td>\n",
        "      <td> 24</td>\n",
        "      <td> 24</td>\n",
        "      <td> 0</td>\n",
        "      <td> 3</td>\n",
        "      <td>  9</td>\n",
        "      <td> 2</td>\n",
        "      <td> 1</td>\n",
        "      <td> 1</td>\n",
        "      <td> 3</td>\n",
        "      <td>...</td>\n",
        "    </tr>\n",
        "    <tr>\n",
        "      <th>10000002</th>\n",
        "      <td> 2</td>\n",
        "      <td> 0</td>\n",
        "      <td> 4</td>\n",
        "      <td> 12:21</td>\n",
        "      <td> PA</td>\n",
        "      <td> 10003</td>\n",
        "      <td> 1</td>\n",
        "      <td> 1</td>\n",
        "      <td> 7</td>\n",
        "      <td> f</td>\n",
        "      <td>NaN</td>\n",
        "      <td> 74</td>\n",
        "      <td> 74</td>\n",
        "      <td> 0</td>\n",
        "      <td> 2</td>\n",
        "      <td> 15</td>\n",
        "      <td> 2</td>\n",
        "      <td> 0</td>\n",
        "      <td> 2</td>\n",
        "      <td> 3</td>\n",
        "      <td>...</td>\n",
        "    </tr>\n",
        "  </tbody>\n",
        "</table>\n",
        "<p>2 rows \u00d7 24 columns</p>\n",
        "</div>"
       ],
       "metadata": {},
       "output_type": "pyout",
       "prompt_number": 6,
       "text": [
        "             shopping_pt  record_type  day   time state  location  group_size  \\\n",
        "customer_ID                                                                     \n",
        "10000001               2            0    1  12:36    OK     10002           1   \n",
        "10000002               2            0    4  12:21    PA     10003           1   \n",
        "\n",
        "             homeowner  car_age car_value  risk_factor  age_oldest  \\\n",
        "customer_ID                                                          \n",
        "10000001             0        9         f          NaN          24   \n",
        "10000002             1        7         f          NaN          74   \n",
        "\n",
        "             age_youngest  married_couple  C_previous  duration_previous  A  \\\n",
        "customer_ID                                                                   \n",
        "10000001               24               0           3                  9  2   \n",
        "10000002               74               0           2                 15  2   \n",
        "\n",
        "             B  C  D      \n",
        "customer_ID               \n",
        "10000001     1  1  3 ...  \n",
        "10000002     0  2  3 ...  \n",
        "\n",
        "[2 rows x 24 columns]"
       ]
      }
     ],
     "prompt_number": 6
    },
    {
     "cell_type": "code",
     "collapsed": false,
     "input": [
      "# return a set of options in a DataFrame as a list of vectors \n",
      "def opt_vectors(df,numeric=True):\n",
      "    l_vectors = []\n",
      "    powers = [10**x for x in range(len(l_options))]\n",
      "    powers.reverse()\n",
      "    for v in df.index:\n",
      "        vec = 0\n",
      "        if numeric:\n",
      "            vec = sum([x*y for x,y in zip(df.ix[v][l_options].values,powers)])\n",
      "        else:\n",
      "            vec = ''.join(map(str,df.ix[v][l_options].values))   \n",
      "        l_vectors.append([v] + [vec])\n",
      "    return l_vectors"
     ],
     "language": "python",
     "metadata": {},
     "outputs": [],
     "prompt_number": 7
    },
    {
     "cell_type": "code",
     "collapsed": false,
     "input": [
      "test_last_opts = opt_vectors(df_test_last, numeric=False)\n",
      "test_last_opts[:5]"
     ],
     "language": "python",
     "metadata": {},
     "outputs": [
      {
       "metadata": {},
       "output_type": "pyout",
       "prompt_number": 11,
       "text": [
        "[[10000001, '2113132'],\n",
        " [10000002, '2023122'],\n",
        " [10000003, '1021022'],\n",
        " [10000004, '2011123'],\n",
        " [10000006, '0011001']]"
       ]
      }
     ],
     "prompt_number": 11
    },
    {
     "cell_type": "code",
     "collapsed": false,
     "input": [
      "# save test_last_opts to file\n",
      "csvfile = csv_dir + 'test_last.csv'\n",
      "with open(csvfile, \"wb\") as output:\n",
      "   writer = csv.writer(output, delimiter=',',lineterminator='\\n')\n",
      "   writer.writerow('customer_ID,plan')\n",
      "   for row in test_last_opts:\n",
      "       writer.writerow(row)"
     ],
     "language": "python",
     "metadata": {},
     "outputs": [],
     "prompt_number": 157
    },
    {
     "cell_type": "markdown",
     "metadata": {},
     "source": [
      "submitting test_last.csv does in fact attain the 0.53793 quoted in the leaderboard as the 'last quoted plan' benchmark, with a rank of 608 (2014-04-12), even though the % is 0.31 for the training data."
     ]
    },
    {
     "cell_type": "code",
     "collapsed": false,
     "input": [
      "#create a list of 'vectors' that represent the union of all options during shopping as one number.\n",
      "\n",
      "#l_shop_kinds = []\n",
      "#for v in df_shop.index:\n",
      "#    vec = 0\n",
      "#    for i in range(len(l_options)):\n",
      "#        vec  += df_shop.ix[v][l_options[i]]*10**(6-i)\n",
      "#    l_shop_kinds_1.append(vec)"
     ],
     "language": "python",
     "metadata": {},
     "outputs": [],
     "prompt_number": 35
    },
    {
     "cell_type": "code",
     "collapsed": false,
     "input": [
      "# save shop_kinds to file\n",
      "#csvfile = dcsv_dir + 'shop_kinds.csv'\n",
      "#with open(csvfile, \"wb\") as output:\n",
      "#    writer = csv.writer(output, delimiter=',',lineterminator='\\n')\n",
      "#    for row in l_shop_kinds:\n",
      "#        writer.writerow([row])"
     ],
     "language": "python",
     "metadata": {},
     "outputs": [],
     "prompt_number": 492
    },
    {
     "cell_type": "code",
     "collapsed": false,
     "input": [
      "#create a list of 'vectors' that represent the union of all options at final purchase time as one number.\n",
      "# this should use the function form as used for l_shop_kinds above, but needs to be converted\n",
      "\n",
      "l_purchase_kinds = opt_vectors(df_purchase, numeric=False)\n",
      "# l_purchase_kinds = []\n",
      "# for v in df_purchase.index:\n",
      "#     vec = 0\n",
      "#     for i in range(len(l_options)):\n",
      "#         vec  += df_purchase.ix[v][l_options[i]]*10**(6-i)\n",
      "#     l_purchase_kinds.append(vec)"
     ],
     "language": "python",
     "metadata": {},
     "outputs": [],
     "prompt_number": 48
    },
    {
     "cell_type": "code",
     "collapsed": false,
     "input": [
      "l_purchase_kinds[:2]"
     ],
     "language": "python",
     "metadata": {},
     "outputs": [
      {
       "metadata": {},
       "output_type": "pyout",
       "prompt_number": 49,
       "text": [
        "[[8, '1022121'], [14, '0032002']]"
       ]
      }
     ],
     "prompt_number": 49
    },
    {
     "cell_type": "code",
     "collapsed": false,
     "input": [
      "# csvfile = csv_dir + 'purchase_kinds.csv'\n",
      "# with open(csvfile, \"wb\") as output:\n",
      "#     writer = csv.writer(output, delimiter=',',lineterminator='\\n')\n",
      "#     for row in l_purchase_kinds:\n",
      "#         writer.writerow([row])"
     ],
     "language": "python",
     "metadata": {},
     "outputs": [],
     "prompt_number": 494
    },
    {
     "cell_type": "code",
     "collapsed": false,
     "input": [
      "# len(l_purchase_kinds)"
     ],
     "language": "python",
     "metadata": {},
     "outputs": [
      {
       "metadata": {},
       "output_type": "pyout",
       "prompt_number": 516,
       "text": [
        "97009"
       ]
      }
     ],
     "prompt_number": 516
    },
    {
     "cell_type": "code",
     "collapsed": false,
     "input": [
      "# How many possible options packages are there? 2034 \n",
      "len(A) * len(B) * len(C) * len(D) * len(E) * len(F) * len(G)\n"
     ],
     "language": "python",
     "metadata": {},
     "outputs": [
      {
       "metadata": {},
       "output_type": "pyout",
       "prompt_number": 36,
       "text": [
        "2304"
       ]
      }
     ],
     "prompt_number": 36
    },
    {
     "cell_type": "code",
     "collapsed": false,
     "input": [
      "# from collections import Counter\n",
      "# c_shop_unique_count = Counter(l_shop_kinds)\n",
      "# c_purchase_unique_count = Counter(l_purchase_kinds)"
     ],
     "language": "python",
     "metadata": {},
     "outputs": [],
     "prompt_number": 32
    },
    {
     "cell_type": "code",
     "collapsed": false,
     "input": [
      "# #How many unique shop packages, and final purchase packages?\n",
      "# print 'shop unique = ',len(c_shop_unique_count)\n",
      "# print 'purchase unique = ', len(c_purchase_unique_count)"
     ],
     "language": "python",
     "metadata": {},
     "outputs": [],
     "prompt_number": 33
    },
    {
     "cell_type": "heading",
     "level": 4,
     "metadata": {},
     "source": [
      "So of 2304 possible packages, 1778 are shopped, and only 1522 are actually purchased"
     ]
    },
    {
     "cell_type": "markdown",
     "metadata": {},
     "source": [
      "Let's count how many purchase transactions selected the same option package and determine the popularity of packages."
     ]
    },
    {
     "cell_type": "code",
     "collapsed": false,
     "input": [
      "df_purchase_kinds = pd.DataFrame(l_purchase_kinds, columns=['idx','options'], index=df_purchase.index)"
     ],
     "language": "python",
     "metadata": {},
     "outputs": [],
     "prompt_number": 50
    },
    {
     "cell_type": "code",
     "collapsed": false,
     "input": [
      "df_purchase_kinds_groupby = df_purchase_kinds.groupby('options')"
     ],
     "language": "python",
     "metadata": {},
     "outputs": [],
     "prompt_number": 57
    },
    {
     "cell_type": "code",
     "collapsed": false,
     "input": [
      "option_counts = df_purchase_kinds_groupby.count().sort(['options'],ascending=False)"
     ],
     "language": "python",
     "metadata": {},
     "outputs": [],
     "prompt_number": 52
    },
    {
     "cell_type": "code",
     "collapsed": false,
     "input": [
      "option_counts.plot(kind='bar',xticks=[500,1000,1500,2000])"
     ],
     "language": "python",
     "metadata": {},
     "outputs": [
      {
       "metadata": {},
       "output_type": "pyout",
       "prompt_number": 53,
       "text": [
        "<matplotlib.axes.AxesSubplot at 0x1074bd150>"
       ]
      },
      {
       "metadata": {},
       "output_type": "display_data",
       "png": "[encoded data removed]",
       "text": [
        "<matplotlib.figure.Figure at 0x100795990>"
       ]
      }
     ],
     "prompt_number": 53
    },
    {
     "cell_type": "code",
     "collapsed": false,
     "input": [
      "csvfile = csv_dir + 'train_vector.csv'\n",
      "with open(csvfile, \"wb\") as output:\n",
      "    writer = csv.writer(output, delimiter=',',lineterminator='\\n')\n",
      "    writer.writerow(['customer_ID','shopping_pt','record_type','day,time','state','location',\\\n",
      "                     'group_size','homeowner','car_age','car_value','risk_factor','age_oldest',\\\n",
      "                     'age_youngest','married_couple','C_previous','duration_previous',\\\n",
      "                     'A','B','C','D','E','F','G','cost','vector'])\n",
      "    for customer, group in df_train_grouped:\n",
      "        last = len(group)\n",
      "        vector = group[group['shopping_pt'] == last][l_options]\n",
      "        vec = ''\n",
      "        for i in vector.values[0]:\n",
      "            vec += str(i)\n",
      "        for row in group.values:\n",
      "            writer.writerow(append(row,vec))"
     ],
     "language": "python",
     "metadata": {},
     "outputs": [],
     "prompt_number": 238
    },
    {
     "cell_type": "code",
     "collapsed": false,
     "input": [
      "option_counts.plot(kind='line',logy=True, use_index=False)"
     ],
     "language": "python",
     "metadata": {},
     "outputs": [
      {
       "metadata": {},
       "output_type": "pyout",
       "prompt_number": 54,
       "text": [
        "<matplotlib.axes.AxesSubplot at 0x12efa9cd0>"
       ]
      },
      {
       "metadata": {},
       "output_type": "display_data",
       "png": "[encoded data removed]",
       "text": [
        "<matplotlib.figure.Figure at 0x12dee9090>"
       ]
      }
     ],
     "prompt_number": 54
    },
    {
     "cell_type": "code",
     "collapsed": false,
     "input": [
      "option_counts[:20]"
     ],
     "language": "python",
     "metadata": {},
     "outputs": [
      {
       "html": [
        "<div style=\"max-height:1000px;max-width:1500px;overflow:auto;\">\n",
        "<table border=\"1\" class=\"dataframe\">\n",
        "  <thead>\n",
        "    <tr style=\"text-align: right;\">\n",
        "      <th></th>\n",
        "      <th>idx</th>\n",
        "      <th>options</th>\n",
        "    </tr>\n",
        "    <tr>\n",
        "      <th>options</th>\n",
        "      <th></th>\n",
        "      <th></th>\n",
        "    </tr>\n",
        "  </thead>\n",
        "  <tbody>\n",
        "    <tr>\n",
        "      <th>0011002</th>\n",
        "      <td> 1998</td>\n",
        "      <td> 1998</td>\n",
        "    </tr>\n",
        "    <tr>\n",
        "      <th>1133123</th>\n",
        "      <td> 1818</td>\n",
        "      <td> 1818</td>\n",
        "    </tr>\n",
        "    <tr>\n",
        "      <th>0033002</th>\n",
        "      <td> 1515</td>\n",
        "      <td> 1515</td>\n",
        "    </tr>\n",
        "    <tr>\n",
        "      <th>1133113</th>\n",
        "      <td> 1492</td>\n",
        "      <td> 1492</td>\n",
        "    </tr>\n",
        "    <tr>\n",
        "      <th>1133102</th>\n",
        "      <td> 1301</td>\n",
        "      <td> 1301</td>\n",
        "    </tr>\n",
        "    <tr>\n",
        "      <th>1133122</th>\n",
        "      <td> 1208</td>\n",
        "      <td> 1208</td>\n",
        "    </tr>\n",
        "    <tr>\n",
        "      <th>1033023</th>\n",
        "      <td> 1121</td>\n",
        "      <td> 1121</td>\n",
        "    </tr>\n",
        "    <tr>\n",
        "      <th>1133112</th>\n",
        "      <td> 1044</td>\n",
        "      <td> 1044</td>\n",
        "    </tr>\n",
        "    <tr>\n",
        "      <th>0012002</th>\n",
        "      <td> 1043</td>\n",
        "      <td> 1043</td>\n",
        "    </tr>\n",
        "    <tr>\n",
        "      <th>0011001</th>\n",
        "      <td>  961</td>\n",
        "      <td>  961</td>\n",
        "    </tr>\n",
        "    <tr>\n",
        "      <th>1033022</th>\n",
        "      <td>  929</td>\n",
        "      <td>  929</td>\n",
        "    </tr>\n",
        "    <tr>\n",
        "      <th>1033123</th>\n",
        "      <td>  924</td>\n",
        "      <td>  924</td>\n",
        "    </tr>\n",
        "    <tr>\n",
        "      <th>0022002</th>\n",
        "      <td>  913</td>\n",
        "      <td>  913</td>\n",
        "    </tr>\n",
        "    <tr>\n",
        "      <th>1033113</th>\n",
        "      <td>  857</td>\n",
        "      <td>  857</td>\n",
        "    </tr>\n",
        "    <tr>\n",
        "      <th>1133121</th>\n",
        "      <td>  854</td>\n",
        "      <td>  854</td>\n",
        "    </tr>\n",
        "    <tr>\n",
        "      <th>1033002</th>\n",
        "      <td>  845</td>\n",
        "      <td>  845</td>\n",
        "    </tr>\n",
        "    <tr>\n",
        "      <th>1033013</th>\n",
        "      <td>  777</td>\n",
        "      <td>  777</td>\n",
        "    </tr>\n",
        "    <tr>\n",
        "      <th>0023002</th>\n",
        "      <td>  722</td>\n",
        "      <td>  722</td>\n",
        "    </tr>\n",
        "    <tr>\n",
        "      <th>1033102</th>\n",
        "      <td>  710</td>\n",
        "      <td>  710</td>\n",
        "    </tr>\n",
        "    <tr>\n",
        "      <th>1033012</th>\n",
        "      <td>  684</td>\n",
        "      <td>  684</td>\n",
        "    </tr>\n",
        "  </tbody>\n",
        "</table>\n",
        "<p>20 rows \u00d7 2 columns</p>\n",
        "</div>"
       ],
       "metadata": {},
       "output_type": "pyout",
       "prompt_number": 61,
       "text": [
        "          idx  options\n",
        "options               \n",
        "0011002  1998     1998\n",
        "1133123  1818     1818\n",
        "0033002  1515     1515\n",
        "1133113  1492     1492\n",
        "1133102  1301     1301\n",
        "1133122  1208     1208\n",
        "1033023  1121     1121\n",
        "1133112  1044     1044\n",
        "0012002  1043     1043\n",
        "0011001   961      961\n",
        "1033022   929      929\n",
        "1033123   924      924\n",
        "0022002   913      913\n",
        "1033113   857      857\n",
        "1133121   854      854\n",
        "1033002   845      845\n",
        "1033013   777      777\n",
        "0023002   722      722\n",
        "1033102   710      710\n",
        "1033012   684      684\n",
        "\n",
        "[20 rows x 2 columns]"
       ]
      }
     ],
     "prompt_number": 61
    },
    {
     "cell_type": "code",
     "collapsed": false,
     "input": [
      "# \n",
      "def g_trim(group):\n",
      "    vector = group[group['shopping_pt'] == len(group)][l_options]  # get the list of options at purchase\n",
      "    s_vec = 'a' + ''.join(map(str,vector.values[0]))        # make the options a string\n",
      "    # append a column 'vector' with the options string\n",
      "    group['vector'] = pd.Series([s_vec] * len(group), index=group.index) \n",
      "    return group[:len(group)-1]     # return only the shop rows without the purchase transaction\n",
      "\n",
      "df_train_vector = df_train_grouped.apply(lambda x: g_trim(x))\n"
     ],
     "language": "python",
     "metadata": {},
     "outputs": [],
     "prompt_number": 13
    },
    {
     "cell_type": "code",
     "collapsed": false,
     "input": [
      "# df_train_vector[:10].to_string()"
     ],
     "language": "python",
     "metadata": {},
     "outputs": [],
     "prompt_number": 9
    },
    {
     "cell_type": "code",
     "collapsed": false,
     "input": [
      "csvfile = csv_dir + 'train_vector.csv'\n",
      "cols = l_columns + ['vector']\n",
      "\n",
      "df_train_vector.to_csv(csvfile, cols=cols, index=False, quoting=csv.QUOTE_NONNUMERIC)"
     ],
     "language": "python",
     "metadata": {},
     "outputs": [],
     "prompt_number": 14
    },
    {
     "cell_type": "code",
     "collapsed": false,
     "input": [
      "# how many possible permutations of the first 4 options?\n",
      "len(l_A) * len(l_B) * len(l_C) * len(l_D) "
     ],
     "language": "python",
     "metadata": {},
     "outputs": [
      {
       "metadata": {},
       "output_type": "pyout",
       "prompt_number": 98,
       "text": [
        "72"
       ]
      }
     ],
     "prompt_number": 98
    },
    {
     "cell_type": "code",
     "collapsed": false,
     "input": [
      "# how many have actually been purchased in the train set?\n",
      "df_purchase_ix = df_purchase.set_index('customer_ID')\n",
      "l_purchase_vectors = opt_vectors(df_purchase_ix,numeric=False)"
     ],
     "language": "python",
     "metadata": {},
     "outputs": [],
     "prompt_number": 62
    },
    {
     "cell_type": "code",
     "collapsed": false,
     "input": [
      "l_purchase_vectors[:10]"
     ],
     "language": "python",
     "metadata": {},
     "outputs": [
      {
       "metadata": {},
       "output_type": "pyout",
       "prompt_number": 43,
       "text": [
        "[[10000000, '1022121'],\n",
        " [10000005, '0032002'],\n",
        " [10000007, '0012001'],\n",
        " [10000013, '1132113'],\n",
        " [10000014, '1111022'],\n",
        " [10000016, '2033033'],\n",
        " [10000019, '2123123'],\n",
        " [10000023, '1113112'],\n",
        " [10000025, '0011003'],\n",
        " [10000026, '1133123']]"
       ]
      }
     ],
     "prompt_number": 43
    },
    {
     "cell_type": "code",
     "collapsed": false,
     "input": [
      "l_purchase_vectors[0][0]"
     ],
     "language": "python",
     "metadata": {},
     "outputs": [
      {
       "metadata": {},
       "output_type": "pyout",
       "prompt_number": 51,
       "text": [
        "10000000"
       ]
      }
     ],
     "prompt_number": 51
    },
    {
     "cell_type": "code",
     "collapsed": false,
     "input": [
      "l_purchase_vectors_truncated = []\n",
      "for v in l_purchase_vectors:\n",
      "    l_purchase_vectors_truncated.append([v[0], v[1][:4]])"
     ],
     "language": "python",
     "metadata": {},
     "outputs": [],
     "prompt_number": 65
    },
    {
     "cell_type": "code",
     "collapsed": false,
     "input": [
      "l_purchase_vectors_truncated[:5]"
     ],
     "language": "python",
     "metadata": {},
     "outputs": [
      {
       "metadata": {},
       "output_type": "pyout",
       "prompt_number": 66,
       "text": [
        "[[10000000, '1022'],\n",
        " [10000005, '0032'],\n",
        " [10000007, '0012'],\n",
        " [10000013, '1132'],\n",
        " [10000014, '1111']]"
       ]
      }
     ],
     "prompt_number": 66
    },
    {
     "cell_type": "code",
     "collapsed": false,
     "input": [
      "df_purchase_vectors = pd.DataFrame(l_purchase_vectors_truncated, columns=['customer_ID','vector']).set_index('customer_ID')"
     ],
     "language": "python",
     "metadata": {},
     "outputs": [],
     "prompt_number": 67
    },
    {
     "cell_type": "code",
     "collapsed": false,
     "input": [
      "df_purchase_vectors_grouped = df_purchase_vectors.groupby('vector')"
     ],
     "language": "python",
     "metadata": {},
     "outputs": [],
     "prompt_number": 68
    },
    {
     "cell_type": "code",
     "collapsed": false,
     "input": [
      "truncated_option_counts = df_purchase_vectors_grouped.count().sort(['vector'],ascending=False)"
     ],
     "language": "python",
     "metadata": {},
     "outputs": [],
     "prompt_number": 69
    },
    {
     "cell_type": "code",
     "collapsed": false,
     "input": [
      "truncated_option_counts.plot(kind='bar')"
     ],
     "language": "python",
     "metadata": {},
     "outputs": [
      {
       "metadata": {},
       "output_type": "pyout",
       "prompt_number": 70,
       "text": [
        "<matplotlib.axes.AxesSubplot at 0x130b66fd0>"
       ]
      },
      {
       "metadata": {},
       "output_type": "display_data",
       "png": "[encoded data removed]",
       "text": [
        "<matplotlib.figure.Figure at 0x130b20d10>"
       ]
      }
     ],
     "prompt_number": 70
    },
    {
     "cell_type": "code",
     "collapsed": false,
     "input": [
      "truncated_option_counts[:10].plot(kind='bar')"
     ],
     "language": "python",
     "metadata": {},
     "outputs": [
      {
       "metadata": {},
       "output_type": "pyout",
       "prompt_number": 71,
       "text": [
        "<matplotlib.axes.AxesSubplot at 0x130b62550>"
       ]
      },
      {
       "metadata": {},
       "output_type": "display_data",
       "png": "[encoded data removed]",
       "text": [
        "<matplotlib.figure.Figure at 0x1333ff910>"
       ]
      }
     ],
     "prompt_number": 71
    },
    {
     "cell_type": "code",
     "collapsed": false,
     "input": [
      "# the first 10 options hold half (50%) the plans\n",
      "print truncated_option_counts.sum()\n",
      "print truncated_option_counts[:10].sum()"
     ],
     "language": "python",
     "metadata": {},
     "outputs": [
      {
       "output_type": "stream",
       "stream": "stdout",
       "text": [
        "vector    97009\n",
        "dtype: int64\n",
        "vector    50405\n",
        "dtype: int64\n"
       ]
      }
     ],
     "prompt_number": 72
    },
    {
     "cell_type": "code",
     "collapsed": false,
     "input": [
      "#the first 2 options hole 25% !\n",
      "truncated_option_counts[:2].sum()"
     ],
     "language": "python",
     "metadata": {},
     "outputs": [
      {
       "metadata": {},
       "output_type": "pyout",
       "prompt_number": 73,
       "text": [
        "vector    24225\n",
        "dtype: int64"
       ]
      }
     ],
     "prompt_number": 73
    },
    {
     "cell_type": "code",
     "collapsed": false,
     "input": [
      "# how many plans are actually bought?  \n",
      "len(truncated_option_counts.index)"
     ],
     "language": "python",
     "metadata": {},
     "outputs": [
      {
       "metadata": {},
       "output_type": "pyout",
       "prompt_number": 74,
       "text": [
        "71"
       ]
      }
     ],
     "prompt_number": 74
    },
    {
     "cell_type": "code",
     "collapsed": false,
     "input": [
      "len(l_E) * len(l_F) * len(l_G)"
     ],
     "language": "python",
     "metadata": {},
     "outputs": [
      {
       "metadata": {},
       "output_type": "pyout",
       "prompt_number": 99,
       "text": [
        "32"
       ]
      }
     ],
     "prompt_number": 99
    },
    {
     "cell_type": "markdown",
     "metadata": {},
     "source": [
      "The Kaggle leaderboard has 935 entrants, and the \"last quoted plan benchmark\" is ranked at 176 with a 0.53793 .  I was able to reproduce the same result, even thought \"last quoted plan\" on the train data attained a low 0.31 or so .  The top result has a 0.54338, for an improvement over the benchmark of 0.00545 , which is really small.  The test set has 55716 users making transactions.  55716 * 0.00545 = 303.65 . So we basically have to get 303 correct predictions to be top ranked.\n",
      "\n",
      "There are 72 possible combinations of options if we consider just the first 4 options, and 71 of them actually appear as transactions.  But ranking the count of the 97009 purchase transactions by these options (just the first 4) shows that the top 10 account for 50405 purchases, or more than 50% of all transactions.  The top 2 : 1133XXX and 1033XXX add up to 24225 purchases, 25% of all purchases. \n",
      "\n",
      "So if we just try to predict option plans for the 1133XXX and 1033XXX subset we should be able to make substantial gains. There are 32 possible XXX options, so 64 options sets for the two sets.\n",
      "\n",
      "Can I formulate it as a classifier with 64 classes?"
     ]
    },
    {
     "cell_type": "code",
     "collapsed": false,
     "input": [
      "df_train_1133 = df_train.query('shopping_pt==1 & A==1 & B==1 & C==3 & D==3')"
     ],
     "language": "python",
     "metadata": {},
     "outputs": [],
     "prompt_number": 98
    },
    {
     "cell_type": "code",
     "collapsed": false,
     "input": [
      "s_customers_1133 = df_train_1133['customer_ID']"
     ],
     "language": "python",
     "metadata": {},
     "outputs": [],
     "prompt_number": 344
    },
    {
     "cell_type": "code",
     "collapsed": false,
     "input": [
      "print len(s_customers_1133)\n",
      "print s_customers_1133[:3]"
     ],
     "language": "python",
     "metadata": {},
     "outputs": [
      {
       "output_type": "stream",
       "stream": "stdout",
       "text": [
        "16054\n",
        "9     10000005\n",
        "27    10000014\n",
        "33    10000016\n",
        "Name: customer_ID, dtype: int64\n"
       ]
      }
     ],
     "prompt_number": 345
    },
    {
     "cell_type": "code",
     "collapsed": false,
     "input": [
      "float(len(df_train_1133.index)) / len(df_train.index)"
     ],
     "language": "python",
     "metadata": {},
     "outputs": [
      {
       "metadata": {},
       "output_type": "pyout",
       "prompt_number": 194,
       "text": [
        "0.16514718548994436"
       ]
      }
     ],
     "prompt_number": 194
    },
    {
     "cell_type": "code",
     "collapsed": false,
     "input": [
      "df_EFG = pd.DataFrame(df_train_1133[['E','F','G']].apply(lambda row: ''.join(map(str, row)),axis=1))\n",
      "df_EFG.columns = ['EFG']\n",
      "df_EFG.groupby('EFG').count().sort('EFG',ascending=False)[:5]"
     ],
     "language": "python",
     "metadata": {},
     "outputs": [
      {
       "html": [
        "<div style=\"max-height:1000px;max-width:1500px;overflow:auto;\">\n",
        "<table border=\"1\" class=\"dataframe\">\n",
        "  <thead>\n",
        "    <tr style=\"text-align: right;\">\n",
        "      <th></th>\n",
        "      <th>EFG</th>\n",
        "    </tr>\n",
        "    <tr>\n",
        "      <th>EFG</th>\n",
        "      <th></th>\n",
        "    </tr>\n",
        "  </thead>\n",
        "  <tbody>\n",
        "    <tr>\n",
        "      <th>102</th>\n",
        "      <td> 1884</td>\n",
        "    </tr>\n",
        "    <tr>\n",
        "      <th>123</th>\n",
        "      <td> 1684</td>\n",
        "    </tr>\n",
        "    <tr>\n",
        "      <th>122</th>\n",
        "      <td> 1661</td>\n",
        "    </tr>\n",
        "    <tr>\n",
        "      <th>112</th>\n",
        "      <td> 1558</td>\n",
        "    </tr>\n",
        "    <tr>\n",
        "      <th>113</th>\n",
        "      <td> 1365</td>\n",
        "    </tr>\n",
        "  </tbody>\n",
        "</table>\n",
        "<p>5 rows \u00d7 1 columns</p>\n",
        "</div>"
       ],
       "metadata": {},
       "output_type": "pyout",
       "prompt_number": 159,
       "text": [
        "      EFG\n",
        "EFG      \n",
        "102  1884\n",
        "123  1684\n",
        "122  1661\n",
        "112  1558\n",
        "113  1365\n",
        "\n",
        "[5 rows x 1 columns]"
       ]
      }
     ],
     "prompt_number": 159
    },
    {
     "cell_type": "code",
     "collapsed": false,
     "input": [
      "df_EFG.groupby('EFG').count().sort('EFG',ascending=False).plot(kind='bar')"
     ],
     "language": "python",
     "metadata": {},
     "outputs": [
      {
       "metadata": {},
       "output_type": "pyout",
       "prompt_number": 156,
       "text": [
        "<matplotlib.axes.AxesSubplot at 0x132e6b850>"
       ]
      },
      {
       "metadata": {},
       "output_type": "display_data",
       "png": "[encoded data removed]",
       "text": [
        "<matplotlib.figure.Figure at 0x132e6bd50>"
       ]
      }
     ],
     "prompt_number": 156
    },
    {
     "cell_type": "code",
     "collapsed": false,
     "input": [
      "df_train_1033 = df_train.query('shopping_pt==1 & A==1 & B==0 & C==3 & D==3')\n",
      "df_EFG0 = pd.DataFrame(df_train_1033[['E','F','G']].apply(lambda row: ''.join(map(str, row)),axis=1))\n",
      "df_EFG0.columns = ['EFG']\n",
      "df_EFG0.groupby('EFG').count().sort('EFG',ascending=False)[:5]"
     ],
     "language": "python",
     "metadata": {},
     "outputs": [
      {
       "html": [
        "<div style=\"max-height:1000px;max-width:1500px;overflow:auto;\">\n",
        "<table border=\"1\" class=\"dataframe\">\n",
        "  <thead>\n",
        "    <tr style=\"text-align: right;\">\n",
        "      <th></th>\n",
        "      <th>EFG</th>\n",
        "    </tr>\n",
        "    <tr>\n",
        "      <th>EFG</th>\n",
        "      <th></th>\n",
        "    </tr>\n",
        "  </thead>\n",
        "  <tbody>\n",
        "    <tr>\n",
        "      <th>021</th>\n",
        "      <td> 2398</td>\n",
        "    </tr>\n",
        "    <tr>\n",
        "      <th>022</th>\n",
        "      <td> 1799</td>\n",
        "    </tr>\n",
        "    <tr>\n",
        "      <th>023</th>\n",
        "      <td> 1582</td>\n",
        "    </tr>\n",
        "    <tr>\n",
        "      <th>002</th>\n",
        "      <td> 1364</td>\n",
        "    </tr>\n",
        "    <tr>\n",
        "      <th>012</th>\n",
        "      <td>  983</td>\n",
        "    </tr>\n",
        "  </tbody>\n",
        "</table>\n",
        "<p>5 rows \u00d7 1 columns</p>\n",
        "</div>"
       ],
       "metadata": {},
       "output_type": "pyout",
       "prompt_number": 160,
       "text": [
        "      EFG\n",
        "EFG      \n",
        "021  2398\n",
        "022  1799\n",
        "023  1582\n",
        "002  1364\n",
        "012   983\n",
        "\n",
        "[5 rows x 1 columns]"
       ]
      }
     ],
     "prompt_number": 160
    },
    {
     "cell_type": "code",
     "collapsed": false,
     "input": [
      "df_EFG0.groupby('EFG').count().sort('EFG',ascending=False).plot(kind='bar')"
     ],
     "language": "python",
     "metadata": {},
     "outputs": [
      {
       "metadata": {},
       "output_type": "pyout",
       "prompt_number": 161,
       "text": [
        "<matplotlib.axes.AxesSubplot at 0x132891f90>"
       ]
      },
      {
       "metadata": {},
       "output_type": "display_data",
       "png": "[encoded data removed]",
       "text": [
        "<matplotlib.figure.Figure at 0x132883e90>"
       ]
      }
     ],
     "prompt_number": 161
    },
    {
     "cell_type": "markdown",
     "metadata": {},
     "source": [
      "## Generate 20 Models where each option is a target variable"
     ]
    },
    {
     "cell_type": "code",
     "collapsed": false,
     "input": [
      "# return a list of lists containing the last shop transaction (not the purchase) with the option opt in the purchase in column opt2\n",
      "\n",
      "def extract_option(group, opt, opt2):\n",
      "    row = group[group['shopping_pt'] == len(group)-1]\n",
      "    row[opt2] = group[group['shopping_pt'] == len(group)][opt].values\n",
      "    return row"
     ],
     "language": "python",
     "metadata": {},
     "outputs": [],
     "prompt_number": 249
    },
    {
     "cell_type": "code",
     "collapsed": false,
     "input": [
      "df_option_A = df_train_grouped.apply(lambda x: extract_option(x, 'A', 'XA')).set_index('customer_ID')"
     ],
     "language": "python",
     "metadata": {},
     "outputs": [],
     "prompt_number": 293
    },
    {
     "cell_type": "code",
     "collapsed": false,
     "input": [
      "df_option_A_is_0 = df_option_A.replace({'XA': {1: 2}})\n",
      "df_option_A_is_0.replace({'XA': {0: 1}},inplace=True)\n",
      "df_option_A_is_0.replace({'XA': {2: 0}},inplace=True)\n",
      "df_option_A_is_0.rename(columns={'XA': 'A_is_0'}, inplace=True)\n",
      "df_option_A_is_0.to_csv(csv_dir + 'train_shop_A_is_0.csv')"
     ],
     "language": "python",
     "metadata": {},
     "outputs": [],
     "prompt_number": 298
    },
    {
     "cell_type": "code",
     "collapsed": false,
     "input": [
      "df_option_A_is_1 = df_option_A.replace({'XA': {2: 0}})\n",
      "df_option_A_is_1.rename(columns={'XA': 'A_is_1'}, inplace=True)\n",
      "df_option_A_is_1.to_csv(csv_dir + 'train_shop_A_is_1.csv')"
     ],
     "language": "python",
     "metadata": {},
     "outputs": [],
     "prompt_number": 300
    },
    {
     "cell_type": "code",
     "collapsed": false,
     "input": [
      "df_option_A_is_2 = df_option_A.replace({'XA': {1: 0}})\n",
      "df_option_A_is_2.replace({'XA': {2: 1}},inplace=True)\n",
      "df_option_A_is_2.rename(columns={'XA': 'A_is_2'}, inplace=True)\n",
      "df_option_A_is_2.to_csv(csv_dir + 'train_shop_A_is_2.csv')"
     ],
     "language": "python",
     "metadata": {},
     "outputs": [],
     "prompt_number": 301
    },
    {
     "cell_type": "code",
     "collapsed": false,
     "input": [
      "df_option_B = df_train_grouped.apply(lambda x: extract_option(x, 'B', 'XB')).set_index('customer_ID')"
     ],
     "language": "python",
     "metadata": {},
     "outputs": [],
     "prompt_number": 324
    },
    {
     "cell_type": "code",
     "collapsed": false,
     "input": [
      "df_option_B_is_1 = df_option_B\n",
      "df_option_B_is_1.rename(columns={'XB': 'B_is_1'}, inplace=True)\n",
      "df_option_B_is_1.to_csv(csv_dir + 'train_shop_B_is_1.csv')"
     ],
     "language": "python",
     "metadata": {},
     "outputs": [
      {
       "output_type": "stream",
       "stream": "stdout",
       "text": [
        "\n"
       ]
      }
     ],
     "prompt_number": 352
    },
    {
     "cell_type": "code",
     "collapsed": false,
     "input": [
      "df_option_C = df_train_grouped.apply(lambda x: extract_option(x, 'C', 'XC')).set_index('customer_ID')"
     ],
     "language": "python",
     "metadata": {},
     "outputs": [],
     "prompt_number": 302
    },
    {
     "cell_type": "code",
     "collapsed": false,
     "input": [
      "df_option_C_is_1 = df_option_C.replace({'XC': {2: 0}})\n",
      "df_option_C_is_1.replace({'XC': {3: 0}},inplace=True)\n",
      "df_option_C_is_1.replace({'XC': {4: 0}},inplace=True)\n",
      "df_option_C_is_1.rename(columns={'XC': 'C_is_1'}, inplace=True)\n",
      "df_option_C_is_1.to_csv(csv_dir + 'train_shop_C_is_1.csv')"
     ],
     "language": "python",
     "metadata": {},
     "outputs": [],
     "prompt_number": 309
    },
    {
     "cell_type": "code",
     "collapsed": false,
     "input": [
      "df_option_C_is_2 = df_option_C.replace({'XC': {1: 0}})\n",
      "df_option_C_is_2.replace({'XC': {2: 1}},inplace=True)\n",
      "df_option_C_is_2.replace({'XC': {3: 0}},inplace=True)\n",
      "df_option_C_is_2.replace({'XC': {4: 0}},inplace=True)\n",
      "df_option_C_is_2.rename(columns={'XC': 'C_is_2'}, inplace=True)\n",
      "df_option_C_is_2.to_csv(csv_dir + 'train_shop_C_is_2.csv')"
     ],
     "language": "python",
     "metadata": {},
     "outputs": [],
     "prompt_number": 310
    },
    {
     "cell_type": "code",
     "collapsed": false,
     "input": [
      "df_option_C_is_3 = df_option_C.replace({'XC': {1: 0}})\n",
      "df_option_C_is_3.replace({'XC': {2: 0}},inplace=True)\n",
      "df_option_C_is_3.replace({'XC': {3: 1}},inplace=True)\n",
      "df_option_C_is_3.replace({'XC': {4: 0}},inplace=True)\n",
      "df_option_C_is_3.rename(columns={'XC': 'C_is_3'}, inplace=True)\n",
      "df_option_C_is_3.to_csv(csv_dir + 'train_shop_C_is_3.csv')"
     ],
     "language": "python",
     "metadata": {},
     "outputs": [],
     "prompt_number": 311
    },
    {
     "cell_type": "code",
     "collapsed": false,
     "input": [
      "df_option_C_is_4 = df_option_C.replace({'XC': {1: 0}})\n",
      "df_option_C_is_4.replace({'XC': {2: 0}},inplace=True)\n",
      "df_option_C_is_4.replace({'XC': {3: 0}},inplace=True)\n",
      "df_option_C_is_4.replace({'XC': {4: 1}},inplace=True)\n",
      "df_option_C_is_4.rename(columns={'XC': 'C_is_4'}, inplace=True)\n",
      "df_option_C_is_4.to_csv(csv_dir + 'train_shop_C_is_4.csv')"
     ],
     "language": "python",
     "metadata": {},
     "outputs": [],
     "prompt_number": 312
    },
    {
     "cell_type": "code",
     "collapsed": false,
     "input": [
      "df_option_D = df_train_grouped.apply(lambda x: extract_option(x, 'D', 'XD')).set_index('customer_ID')"
     ],
     "language": "python",
     "metadata": {},
     "outputs": [],
     "prompt_number": 314
    },
    {
     "cell_type": "code",
     "collapsed": false,
     "input": [
      "df_option_D_is_1 = df_option_D.replace({'XD': {2: 0}})\n",
      "df_option_D_is_1.replace({'XD': {3: 0}},inplace=True)\n",
      "df_option_D_is_1.rename(columns={'XD': 'D_is_1'}, inplace=True)\n",
      "df_option_D_is_1.to_csv(csv_dir + 'train_shop_D_is_1.csv')"
     ],
     "language": "python",
     "metadata": {},
     "outputs": [],
     "prompt_number": 315
    },
    {
     "cell_type": "code",
     "collapsed": false,
     "input": [
      "df_option_D_is_2 = df_option_D.replace({'XD': {1: 0}})\n",
      "df_option_D_is_2.replace({'XD': {2: 1}},inplace=True)\n",
      "df_option_D_is_2.replace({'XD': {3: 0}},inplace=True)\n",
      "df_option_D_is_2.rename(columns={'XD': 'D_is_2'}, inplace=True)\n",
      "df_option_D_is_2.to_csv(csv_dir + 'train_shop_D_is_2.csv')"
     ],
     "language": "python",
     "metadata": {},
     "outputs": [],
     "prompt_number": 316
    },
    {
     "cell_type": "code",
     "collapsed": false,
     "input": [
      "df_option_D_is_3 = df_option_D.replace({'XD': {1: 0}})\n",
      "df_option_D_is_3.replace({'XD': {2: 0}},inplace=True)\n",
      "df_option_D_is_3.replace({'XD': {3: 1}},inplace=True)\n",
      "df_option_D_is_3.rename(columns={'XD': 'D_is_3'}, inplace=True)\n",
      "df_option_D_is_3.to_csv(csv_dir + 'train_shop_D_is_3.csv')"
     ],
     "language": "python",
     "metadata": {},
     "outputs": [],
     "prompt_number": 317
    },
    {
     "cell_type": "code",
     "collapsed": false,
     "input": [
      "df_option_E = df_train_grouped.apply(lambda x: extract_option(x, 'E', 'XE')).set_index('customer_ID')"
     ],
     "language": "python",
     "metadata": {},
     "outputs": [],
     "prompt_number": 318
    },
    {
     "cell_type": "code",
     "collapsed": false,
     "input": [
      "df_option_E_is_1 = df_option_E\n",
      "df_option_E_is_1.rename(columns={'XE': 'E_is_1'}, inplace=True)\n",
      "df_option_E_is_1.to_csv(csv_dir + 'train_shop_E_is_1.csv')"
     ],
     "language": "python",
     "metadata": {},
     "outputs": [],
     "prompt_number": 319
    },
    {
     "cell_type": "code",
     "collapsed": false,
     "input": [
      "df_option_F = df_train_grouped.apply(lambda x: extract_option(x, 'F', 'XF')).set_index('customer_ID')"
     ],
     "language": "python",
     "metadata": {},
     "outputs": [],
     "prompt_number": 326
    },
    {
     "cell_type": "code",
     "collapsed": false,
     "input": [
      "df_option_F_is_0 = df_option_F.replace({'XF': {1: 2}})\n",
      "df_option_F_is_0.replace({'XF': {0: 1}},inplace=True)\n",
      "df_option_F_is_0.replace({'XF': {2: 0}},inplace=True)\n",
      "df_option_F_is_0.replace({'XF': {3: 0}},inplace=True)\n",
      "df_option_F_is_0.rename(columns={'XF': 'F_is_0'}, inplace=True)\n",
      "df_option_F_is_0.to_csv(csv_dir + 'train_shop_F_is_0.csv')"
     ],
     "language": "python",
     "metadata": {},
     "outputs": [],
     "prompt_number": 327
    },
    {
     "cell_type": "code",
     "collapsed": false,
     "input": [
      "df_option_F_is_1 = df_option_F.replace({'XF': {2: 0}})\n",
      "df_option_F_is_1.replace({'XF': {3: 0}},inplace=True)\n",
      "df_option_F_is_1.rename(columns={'XF': 'F_is_1'}, inplace=True)\n",
      "df_option_F_is_1.to_csv(csv_dir + 'train_shop_F_is_1.csv')"
     ],
     "language": "python",
     "metadata": {},
     "outputs": [],
     "prompt_number": 328
    },
    {
     "cell_type": "code",
     "collapsed": false,
     "input": [
      "df_option_F_is_2 = df_option_F.replace({'XF': {1: 0}})\n",
      "df_option_F_is_2.replace({'XF': {2: 1}},inplace=True)\n",
      "df_option_F_is_2.replace({'XF': {3: 0}},inplace=True)\n",
      "df_option_F_is_2.rename(columns={'XF': 'F_is_2'}, inplace=True)\n",
      "df_option_F_is_2.to_csv(csv_dir + 'train_shop_F_is_2.csv')"
     ],
     "language": "python",
     "metadata": {},
     "outputs": [],
     "prompt_number": 329
    },
    {
     "cell_type": "code",
     "collapsed": false,
     "input": [
      "df_option_F_is_3 = df_option_F.replace({'XF': {1: 0}})\n",
      "df_option_F_is_3.replace({'XF': {2: 0}},inplace=True)\n",
      "df_option_F_is_3.replace({'XF': {3: 1}},inplace=True)\n",
      "df_option_F_is_3.rename(columns={'XF': 'F_is_3'}, inplace=True)\n",
      "df_option_F_is_3.to_csv(csv_dir + 'train_shop_F_is_3.csv')"
     ],
     "language": "python",
     "metadata": {},
     "outputs": [],
     "prompt_number": 330
    },
    {
     "cell_type": "code",
     "collapsed": false,
     "input": [
      "df_option_G = df_train_grouped.apply(lambda x: extract_option(x, 'G', 'XG')).set_index('customer_ID')"
     ],
     "language": "python",
     "metadata": {},
     "outputs": [],
     "prompt_number": 331
    },
    {
     "cell_type": "code",
     "collapsed": false,
     "input": [
      "df_option_G_is_1 = df_option_G.replace({'XG': {2: 0}})\n",
      "df_option_G_is_1.replace({'XG': {3: 0}},inplace=True)\n",
      "df_option_G_is_1.replace({'XG': {4: 0}},inplace=True)\n",
      "df_option_G_is_1.rename(columns={'XG': 'G_is_1'}, inplace=True)\n",
      "df_option_G_is_1.to_csv(csv_dir + 'train_shop_G_is_1.csv')"
     ],
     "language": "python",
     "metadata": {},
     "outputs": [],
     "prompt_number": 360
    },
    {
     "cell_type": "code",
     "collapsed": false,
     "input": [
      "df_option_G_is_2 = df_option_G.replace({'XG': {1: 0}})\n",
      "df_option_G_is_2.replace({'XG': {2: 1}},inplace=True)\n",
      "df_option_G_is_2.replace({'XG': {3: 0}},inplace=True)\n",
      "df_option_G_is_2.replace({'XG': {4: 0}},inplace=True)\n",
      "df_option_G_is_2.rename(columns={'XG': 'G_is_2'}, inplace=True)\n",
      "df_option_G_is_2.to_csv(csv_dir + 'train_shop_G_is_2.csv')"
     ],
     "language": "python",
     "metadata": {},
     "outputs": [],
     "prompt_number": 361
    },
    {
     "cell_type": "code",
     "collapsed": false,
     "input": [
      "df_option_G_is_3 = df_option_G.replace({'XG': {1: 0}})\n",
      "df_option_G_is_3.replace({'XG': {2: 0}},inplace=True)\n",
      "df_option_G_is_3.replace({'XG': {3: 1}},inplace=True)\n",
      "df_option_G_is_3.replace({'XG': {4: 0}},inplace=True)\n",
      "df_option_G_is_3.rename(columns={'XG': 'G_is_3'}, inplace=True)\n",
      "df_option_G_is_3.to_csv(csv_dir + 'train_shop_G_is_3.csv')"
     ],
     "language": "python",
     "metadata": {},
     "outputs": [],
     "prompt_number": 362
    },
    {
     "cell_type": "code",
     "collapsed": false,
     "input": [
      "df_option_G_is_4 = df_option_G.replace({'XG': {1: 0}})\n",
      "df_option_G_is_4.replace({'XG': {2: 0}},inplace=True)\n",
      "df_option_G_is_4.replace({'XG': {3: 0}},inplace=True)\n",
      "df_option_G_is_4.replace({'XG': {4: 1}},inplace=True)\n",
      "df_option_G_is_4.rename(columns={'XG': 'G_is_4'}, inplace=True)\n",
      "df_option_G_is_4.to_csv(csv_dir + 'train_shop_G_is_4.csv')"
     ],
     "language": "python",
     "metadata": {},
     "outputs": [],
     "prompt_number": 363
    },
    {
     "cell_type": "markdown",
     "metadata": {},
     "source": [
      "Look at B VS. State"
     ]
    },
    {
     "cell_type": "code",
     "collapsed": false,
     "input": [
      "print len(df_option_B_is_1.query('B != B_is_1'))\n",
      "XB_0 = df_option_B_is_1.query('B == 0').groupby('state').count()['state']\n",
      "XB_1 = df_option_B_is_1.query('B == 1').groupby('state').count()['state']\n",
      "df_XB_state = pd.DataFrame({'0': XB_0, '1': XB_1})\n",
      "df_XB_state.sort(['0','1'], ascending=[0,0])"
     ],
     "language": "python",
     "metadata": {},
     "outputs": [
      {
       "output_type": "stream",
       "stream": "stdout",
       "text": [
        "6392\n"
       ]
      },
      {
       "html": [
        "<div style=\"max-height:1000px;max-width:1500px;overflow:auto;\">\n",
        "<table border=\"1\" class=\"dataframe\">\n",
        "  <thead>\n",
        "    <tr style=\"text-align: right;\">\n",
        "      <th></th>\n",
        "      <th>0</th>\n",
        "      <th>1</th>\n",
        "    </tr>\n",
        "    <tr>\n",
        "      <th>state</th>\n",
        "      <th></th>\n",
        "      <th></th>\n",
        "    </tr>\n",
        "  </thead>\n",
        "  <tbody>\n",
        "    <tr>\n",
        "      <th>NY</th>\n",
        "      <td> 7729</td>\n",
        "      <td> 5932</td>\n",
        "    </tr>\n",
        "    <tr>\n",
        "      <th>FL</th>\n",
        "      <td> 7659</td>\n",
        "      <td> 6946</td>\n",
        "    </tr>\n",
        "    <tr>\n",
        "      <th>PA</th>\n",
        "      <td> 5604</td>\n",
        "      <td> 3349</td>\n",
        "    </tr>\n",
        "    <tr>\n",
        "      <th>OH</th>\n",
        "      <td> 3812</td>\n",
        "      <td> 2852</td>\n",
        "    </tr>\n",
        "    <tr>\n",
        "      <th>CT</th>\n",
        "      <td> 2243</td>\n",
        "      <td>  593</td>\n",
        "    </tr>\n",
        "    <tr>\n",
        "      <th>WA</th>\n",
        "      <td> 1926</td>\n",
        "      <td> 1649</td>\n",
        "    </tr>\n",
        "    <tr>\n",
        "      <th>MD</th>\n",
        "      <td> 1919</td>\n",
        "      <td> 2303</td>\n",
        "    </tr>\n",
        "    <tr>\n",
        "      <th>IN</th>\n",
        "      <td> 1853</td>\n",
        "      <td> 1896</td>\n",
        "    </tr>\n",
        "    <tr>\n",
        "      <th>CO</th>\n",
        "      <td> 1710</td>\n",
        "      <td> 1830</td>\n",
        "    </tr>\n",
        "    <tr>\n",
        "      <th>KY</th>\n",
        "      <td> 1439</td>\n",
        "      <td>  930</td>\n",
        "    </tr>\n",
        "    <tr>\n",
        "      <th>OK</th>\n",
        "      <td> 1345</td>\n",
        "      <td>  678</td>\n",
        "    </tr>\n",
        "    <tr>\n",
        "      <th>MO</th>\n",
        "      <td> 1157</td>\n",
        "      <td> 1048</td>\n",
        "    </tr>\n",
        "    <tr>\n",
        "      <th>OR</th>\n",
        "      <td> 1152</td>\n",
        "      <td> 1052</td>\n",
        "    </tr>\n",
        "    <tr>\n",
        "      <th>AL</th>\n",
        "      <td> 1002</td>\n",
        "      <td> 2593</td>\n",
        "    </tr>\n",
        "    <tr>\n",
        "      <th>WI</th>\n",
        "      <td>  979</td>\n",
        "      <td>  568</td>\n",
        "    </tr>\n",
        "    <tr>\n",
        "      <th>NV</th>\n",
        "      <td>  963</td>\n",
        "      <td> 1160</td>\n",
        "    </tr>\n",
        "    <tr>\n",
        "      <th>UT</th>\n",
        "      <td>  809</td>\n",
        "      <td> 1293</td>\n",
        "    </tr>\n",
        "    <tr>\n",
        "      <th>ME</th>\n",
        "      <td>  800</td>\n",
        "      <td>  211</td>\n",
        "    </tr>\n",
        "    <tr>\n",
        "      <th>TN</th>\n",
        "      <td>  727</td>\n",
        "      <td> 1927</td>\n",
        "    </tr>\n",
        "    <tr>\n",
        "      <th>AR</th>\n",
        "      <td>  720</td>\n",
        "      <td>  849</td>\n",
        "    </tr>\n",
        "    <tr>\n",
        "      <th>NH</th>\n",
        "      <td>  716</td>\n",
        "      <td>  420</td>\n",
        "    </tr>\n",
        "    <tr>\n",
        "      <th>NM</th>\n",
        "      <td>  662</td>\n",
        "      <td>  338</td>\n",
        "    </tr>\n",
        "    <tr>\n",
        "      <th>RI</th>\n",
        "      <td>  650</td>\n",
        "      <td>  228</td>\n",
        "    </tr>\n",
        "    <tr>\n",
        "      <th>MS</th>\n",
        "      <td>  500</td>\n",
        "      <td> 1066</td>\n",
        "    </tr>\n",
        "    <tr>\n",
        "      <th>GA</th>\n",
        "      <td>  482</td>\n",
        "      <td>  788</td>\n",
        "    </tr>\n",
        "    <tr>\n",
        "      <th>IA</th>\n",
        "      <td>  415</td>\n",
        "      <td>  274</td>\n",
        "    </tr>\n",
        "    <tr>\n",
        "      <th>ID</th>\n",
        "      <td>  404</td>\n",
        "      <td>  486</td>\n",
        "    </tr>\n",
        "    <tr>\n",
        "      <th>KS</th>\n",
        "      <td>  404</td>\n",
        "      <td>  455</td>\n",
        "    </tr>\n",
        "    <tr>\n",
        "      <th>ND</th>\n",
        "      <td>  341</td>\n",
        "      <td>   41</td>\n",
        "    </tr>\n",
        "    <tr>\n",
        "      <th>WV</th>\n",
        "      <td>  320</td>\n",
        "      <td>  460</td>\n",
        "    </tr>\n",
        "    <tr>\n",
        "      <th>NE</th>\n",
        "      <td>  311</td>\n",
        "      <td>  179</td>\n",
        "    </tr>\n",
        "    <tr>\n",
        "      <th>DE</th>\n",
        "      <td>  287</td>\n",
        "      <td>  310</td>\n",
        "    </tr>\n",
        "    <tr>\n",
        "      <th>MT</th>\n",
        "      <td>  255</td>\n",
        "      <td>  222</td>\n",
        "    </tr>\n",
        "    <tr>\n",
        "      <th>DC</th>\n",
        "      <td>  249</td>\n",
        "      <td>  291</td>\n",
        "    </tr>\n",
        "    <tr>\n",
        "      <th>WY</th>\n",
        "      <td>   79</td>\n",
        "      <td>   87</td>\n",
        "    </tr>\n",
        "    <tr>\n",
        "      <th>SD</th>\n",
        "      <td>   51</td>\n",
        "      <td>   31</td>\n",
        "    </tr>\n",
        "  </tbody>\n",
        "</table>\n",
        "<p>36 rows \u00d7 2 columns</p>\n",
        "</div>"
       ],
       "metadata": {},
       "output_type": "pyout",
       "prompt_number": 356,
       "text": [
        "          0     1\n",
        "state            \n",
        "NY     7729  5932\n",
        "FL     7659  6946\n",
        "PA     5604  3349\n",
        "OH     3812  2852\n",
        "CT     2243   593\n",
        "WA     1926  1649\n",
        "MD     1919  2303\n",
        "IN     1853  1896\n",
        "CO     1710  1830\n",
        "KY     1439   930\n",
        "OK     1345   678\n",
        "MO     1157  1048\n",
        "OR     1152  1052\n",
        "AL     1002  2593\n",
        "WI      979   568\n",
        "NV      963  1160\n",
        "UT      809  1293\n",
        "ME      800   211\n",
        "TN      727  1927\n",
        "AR      720   849\n",
        "NH      716   420\n",
        "NM      662   338\n",
        "RI      650   228\n",
        "MS      500  1066\n",
        "GA      482   788\n",
        "IA      415   274\n",
        "ID      404   486\n",
        "KS      404   455\n",
        "ND      341    41\n",
        "WV      320   460\n",
        "NE      311   179\n",
        "DE      287   310\n",
        "MT      255   222\n",
        "DC      249   291\n",
        "WY       79    87\n",
        "SD       51    31\n",
        "\n",
        "[36 rows x 2 columns]"
       ]
      }
     ],
     "prompt_number": 356
    },
    {
     "cell_type": "code",
     "collapsed": false,
     "input": [
      "df_test_last['A_is_0'] = \"\"\n",
      "df_test_last.to_csv(csv_dir + 'test_shop.csv') "
     ],
     "language": "python",
     "metadata": {},
     "outputs": [],
     "prompt_number": 459
    },
    {
     "cell_type": "markdown",
     "metadata": {},
     "source": [
      "# Composite Predictions"
     ]
    },
    {
     "cell_type": "code",
     "collapsed": false,
     "input": [
      "df_test_A_is_0 = pd.read_csv(csv_dir + 'test_shop_A_is_0-predicted.csv')\n",
      "df_test_A_is_0.rename(columns={'predicted--1':0}, inplace=True)\n",
      "df_test_A_is_1 = pd.read_csv(csv_dir + 'test_shop_A_is_1-predicted.csv')\n",
      "df_test_A_is_1.rename(columns={'predicted--1':1}, inplace=True)\n",
      "df_test_A_is_2 = pd.read_csv(csv_dir + 'test_shop_A_is_2-predicted.csv')\n",
      "df_test_A_is_2.rename(columns={'predicted--1':2}, inplace=True)"
     ],
     "language": "python",
     "metadata": {},
     "outputs": [],
     "prompt_number": 13
    },
    {
     "cell_type": "code",
     "collapsed": false,
     "input": [
      "# be very careful!  Column names are int's, which is useful for the final result but a pain to reference\n",
      "df_A_is = pd.concat([df_test_A_is_0[[1]],df_test_A_is_1[[1]],df_test_A_is_2[[1]]],axis=1)\n",
      "s_A_predicted = df_A_is.idxmax(axis=1)\n",
      "df_A_predicted = pd.DataFrame(s_A_predicted).set_index(df_test_last.index)\n",
      "df_A_predicted.columns=['A']"
     ],
     "language": "python",
     "metadata": {},
     "outputs": [],
     "prompt_number": 18
    },
    {
     "cell_type": "code",
     "collapsed": false,
     "input": [
      "df_test_B_is_1 = pd.read_csv(csv_dir + 'test_shop_B_is_1-predicted.csv')\n",
      "df_test_B_is_1.rename(columns={'predicted--1':1}, inplace=True)"
     ],
     "language": "python",
     "metadata": {},
     "outputs": [],
     "prompt_number": 19
    },
    {
     "cell_type": "code",
     "collapsed": false,
     "input": [
      "df_B_is = df_test_B_is_1[[1]]\n",
      "s_B_predicted = (df_B_is[[1]] > 0.50).astype(int)\n",
      "df_B_predicted = pd.DataFrame(s_B_predicted).set_index(df_test_last.index)\n",
      "df_B_predicted.columns=['B']"
     ],
     "language": "python",
     "metadata": {},
     "outputs": [],
     "prompt_number": 20
    },
    {
     "cell_type": "code",
     "collapsed": false,
     "input": [
      "df_test_C_is_1 = pd.read_csv(csv_dir + 'test_shop_C_is_1-predicted.csv')\n",
      "df_test_C_is_1.rename(columns={'predicted--1':1}, inplace=True)\n",
      "df_test_C_is_2 = pd.read_csv(csv_dir + 'test_shop_C_is_2-predicted.csv')\n",
      "df_test_C_is_2.rename(columns={'predicted--1':2}, inplace=True)\n",
      "df_test_C_is_3 = pd.read_csv(csv_dir + 'test_shop_C_is_3-predicted.csv')\n",
      "df_test_C_is_3.rename(columns={'predicted--1':3}, inplace=True)\n",
      "df_test_C_is_4 = pd.read_csv(csv_dir + 'test_shop_C_is_4-predicted.csv')\n",
      "df_test_C_is_4.rename(columns={'predicted--1':4}, inplace=True)"
     ],
     "language": "python",
     "metadata": {},
     "outputs": [],
     "prompt_number": 21
    },
    {
     "cell_type": "code",
     "collapsed": false,
     "input": [
      "df_C_is = pd.concat([df_test_C_is_1[[1]],df_test_C_is_2[[1]],df_test_C_is_3[[1]],df_test_C_is_4[[1]]],axis=1)\n",
      "s_C_predicted = df_C_is.idxmax(axis=1)\n",
      "df_C_predicted = pd.DataFrame(s_C_predicted).set_index(df_test_last.index)\n",
      "df_C_predicted.columns=['C']"
     ],
     "language": "python",
     "metadata": {},
     "outputs": [],
     "prompt_number": 22
    },
    {
     "cell_type": "code",
     "collapsed": false,
     "input": [
      "df_test_D_is_1 = pd.read_csv(csv_dir + 'test_shop_D_is_1-predicted.csv')\n",
      "df_test_D_is_1.rename(columns={'predicted--1':1}, inplace=True)\n",
      "df_test_D_is_2 = pd.read_csv(csv_dir + 'test_shop_D_is_2-predicted.csv')\n",
      "df_test_D_is_2.rename(columns={'predicted--1':2}, inplace=True)\n",
      "df_test_D_is_3 = pd.read_csv(csv_dir + 'test_shop_D_is_3-predicted.csv')\n",
      "df_test_D_is_3.rename(columns={'predicted--1':3}, inplace=True)"
     ],
     "language": "python",
     "metadata": {},
     "outputs": [],
     "prompt_number": 23
    },
    {
     "cell_type": "code",
     "collapsed": false,
     "input": [
      "df_D_is = pd.concat([df_test_D_is_1[[1]],df_test_D_is_2[[1]],df_test_D_is_3[[1]]],axis=1)\n",
      "s_D_predicted = df_D_is.idxmax(axis=1)\n",
      "df_D_predicted = pd.DataFrame(s_D_predicted).set_index(df_test_last.index)\n",
      "df_D_predicted.columns=['D']"
     ],
     "language": "python",
     "metadata": {},
     "outputs": [],
     "prompt_number": 24
    },
    {
     "cell_type": "code",
     "collapsed": false,
     "input": [
      "df_test_E_is_1 = pd.read_csv(csv_dir + 'test_shop_E_is_1-predicted.csv')\n",
      "df_test_E_is_1.rename(columns={'predicted--1':1}, inplace=True)"
     ],
     "language": "python",
     "metadata": {},
     "outputs": [],
     "prompt_number": 25
    },
    {
     "cell_type": "code",
     "collapsed": false,
     "input": [
      "df_E_is = df_test_E_is_1[[1]]\n",
      "s_E_predicted = (df_E_is[[1]] > 0.50).astype(int)\n",
      "df_E_predicted = pd.DataFrame(s_E_predicted).set_index(df_test_last.index)\n",
      "df_E_predicted.columns=['E']"
     ],
     "language": "python",
     "metadata": {},
     "outputs": [],
     "prompt_number": 26
    },
    {
     "cell_type": "code",
     "collapsed": false,
     "input": [
      "df_test_F_is_0 = pd.read_csv(csv_dir + 'test_shop_F_is_0-predicted.csv')\n",
      "df_test_F_is_0.rename(columns={'predicted--1':0}, inplace=True)\n",
      "df_test_F_is_1 = pd.read_csv(csv_dir + 'test_shop_F_is_1-predicted.csv')\n",
      "df_test_F_is_1.rename(columns={'predicted--1':1}, inplace=True)\n",
      "df_test_F_is_2 = pd.read_csv(csv_dir + 'test_shop_F_is_2-predicted.csv')\n",
      "df_test_F_is_2.rename(columns={'predicted--1':2}, inplace=True)\n",
      "df_test_F_is_3 = pd.read_csv(csv_dir + 'test_shop_F_is_3-predicted.csv')\n",
      "df_test_F_is_3.rename(columns={'predicted--1':3}, inplace=True)"
     ],
     "language": "python",
     "metadata": {},
     "outputs": [],
     "prompt_number": 27
    },
    {
     "cell_type": "code",
     "collapsed": false,
     "input": [
      "df_F_is = pd.concat([df_test_F_is_0[[1]],df_test_F_is_1[[1]],df_test_F_is_2[[1]],df_test_F_is_3[[1]]],axis=1)\n",
      "s_F_predicted = df_F_is.idxmax(axis=1)\n",
      "df_F_predicted = pd.DataFrame(s_F_predicted).set_index(df_test_last.index)\n",
      "df_F_predicted.columns=['F']"
     ],
     "language": "python",
     "metadata": {},
     "outputs": [],
     "prompt_number": 28
    },
    {
     "cell_type": "code",
     "collapsed": false,
     "input": [
      "df_test_G_is_1 = pd.read_csv(csv_dir + 'test_shop_G_is_1-predicted.csv')\n",
      "df_test_G_is_1.rename(columns={'predicted--1':1}, inplace=True)\n",
      "df_test_G_is_2 = pd.read_csv(csv_dir + 'test_shop_G_is_2-predicted.csv')\n",
      "df_test_G_is_2.rename(columns={'predicted--1':2}, inplace=True)\n",
      "df_test_G_is_3 = pd.read_csv(csv_dir + 'test_shop_G_is_3-predicted.csv')\n",
      "df_test_G_is_3.rename(columns={'predicted--1':3}, inplace=True)\n",
      "df_test_G_is_4 = pd.read_csv(csv_dir + 'test_shop_G_is_4-predicted.csv')\n",
      "df_test_G_is_4.rename(columns={'predicted--1':4}, inplace=True)"
     ],
     "language": "python",
     "metadata": {},
     "outputs": [],
     "prompt_number": 29
    },
    {
     "cell_type": "code",
     "collapsed": false,
     "input": [
      "df_G_is = pd.concat([df_test_G_is_1[[1]],df_test_G_is_2[[1]],df_test_G_is_3[[1]],df_test_G_is_4[[1]]],axis=1)\n",
      "s_G_predicted = df_G_is.idxmax(axis=1)\n",
      "df_G_predicted = pd.DataFrame(s_G_predicted).set_index(df_test_last.index)\n",
      "df_G_predicted.columns=['G']"
     ],
     "language": "python",
     "metadata": {},
     "outputs": [],
     "prompt_number": 30
    },
    {
     "cell_type": "code",
     "collapsed": false,
     "input": [
      "#df_train.query('A==1 & B==1 & C==3 & D==3')#.groupby('cost').count().sort(['cost'],ascending=False)"
     ],
     "language": "python",
     "metadata": {},
     "outputs": [
      {
       "metadata": {},
       "output_type": "pyout",
       "prompt_number": 597,
       "text": [
        "94978"
       ]
      }
     ],
     "prompt_number": 597
    },
    {
     "cell_type": "code",
     "collapsed": false,
     "input": [
      "df_predicted = pd.concat([df_A_predicted, df_B_predicted, df_C_predicted,\\\n",
      "                          df_D_predicted, df_E2_predicted, df_F_predicted, df_G_predicted], axis=1)\n",
      "#df_predicted = pd.concat([df_A_predicted, df_B_predicted, df_C_predicted,\\\n",
      "#                          df_D_predicted, pd.DataFrame(df_test_last['E']), df_F_predicted, df_G_predicted], axis=1)"
     ],
     "language": "python",
     "metadata": {},
     "outputs": [],
     "prompt_number": 32
    },
    {
     "cell_type": "code",
     "collapsed": false,
     "input": [
      "s_predicted_vectors = df_predicted.apply(lambda row: ''.join(map(str, row)),axis=1)"
     ],
     "language": "python",
     "metadata": {},
     "outputs": [],
     "prompt_number": 33
    },
    {
     "cell_type": "code",
     "collapsed": false,
     "input": [
      "s_predicted_vectors.index.names = ['customer_ID']\n",
      "s_predicted_vectors.name = 'plan'\n",
      "s_predicted_vectors.to_csv(csv_dir + 'test_predicted.csv',header=True)"
     ],
     "language": "python",
     "metadata": {},
     "outputs": [],
     "prompt_number": 34
    },
    {
     "cell_type": "code",
     "collapsed": false,
     "input": [
      "for letter in l_options:\n",
      "    print letter+' ' + str((np.sum(df_predicted[letter] == df_test_last[letter]).astype(int)) / float(len(df_predicted.index)))\n",
      "\n",
      "print 'A ' + str((np.sum(df_predicted['A'] == df_test_last['A']).astype(int)) / float(len(df_predicted.index)))\n",
      "print 'B ' + str((np.sum(df_predicted['B'] == df_test_last['B']).astype(int)) / float(len(df_predicted.index)))\n",
      "print 'C ' + str((np.sum(df_predicted['C'] == df_test_last['C']).astype(int)) / float(len(df_predicted.index)))\n",
      "print 'D ' + str((np.sum(df_predicted['D'] == df_test_last['D']).astype(int)) / float(len(df_predicted.index)))\n",
      "print 'E ' + str((np.sum(df_predicted['E'] == df_test_last['E']).astype(int)) / float(len(df_predicted.index)))\n",
      "print 'F ' + str((np.sum(df_predicted['F'] == df_test_last['F']).astype(int)) / float(len(df_predicted.index)))\n",
      "print 'G ' + str((np.sum(df_predicted['G'] == df_test_last['G']).astype(int)) / float(len(df_predicted.index)))"
     ],
     "language": "python",
     "metadata": {},
     "outputs": [
      {
       "output_type": "stream",
       "stream": "stdout",
       "text": [
        "A 0.99524373609\n",
        "B 0.999982051834\n",
        "C 0.99703855266\n",
        "D 0.989608012061\n",
        "E 0.995225787924\n",
        "F 0.995297580587\n",
        "G 0.958360255582\n"
       ]
      }
     ],
     "prompt_number": 864
    },
    {
     "cell_type": "code",
     "collapsed": false,
     "input": [
      "print 'B vs E ' + str((np.sum(df_predicted['B'] == df_predicted['E']).astype(int)) / float(len(df_predicted.index)))"
     ],
     "language": "python",
     "metadata": {},
     "outputs": [
      {
       "output_type": "stream",
       "stream": "stdout",
       "text": [
        "B vs E 0.731315959509\n"
       ]
      }
     ],
     "prompt_number": 868
    },
    {
     "cell_type": "code",
     "collapsed": false,
     "input": [
      "#df_predicted, df_test_last[l_options]\n",
      "#df_predicted[1].plot(df_test_last['A'], kind='scatter')"
     ],
     "language": "python",
     "metadata": {},
     "outputs": [],
     "prompt_number": 749
    },
    {
     "cell_type": "code",
     "collapsed": false,
     "input": [
      "print 'last 1% = ' +str(np.sum(df_test_last['E'])/float(len(df_predicted.index)))\n",
      "print 'pred 1% = ' +str(np.sum(df_E_predicted['E'])/float(len(df_predicted.index)))"
     ],
     "language": "python",
     "metadata": {},
     "outputs": [
      {
       "output_type": "stream",
       "stream": "stdout",
       "text": [
        "last 1% = 0.442942781248\n",
        "pred 1% = 0.458880752387\n"
       ]
      }
     ],
     "prompt_number": 861
    },
    {
     "cell_type": "code",
     "collapsed": false,
     "input": [
      "df_test2_E_is_1 = pd.read_csv(csv_dir + 'GLM_Blender_7_11_12_14_E_is_1-test.csv')\n",
      "df_test2_E_is_1.rename(columns={'predicted--1':'E'}, inplace=True)\n",
      "df_E2_is = df_test2_E_is_1[[1]]\n",
      "s_E2_predicted = (df_E2_is['E'] > 0.50).astype(int)\n",
      "df_E2_predicted = pd.DataFrame(s_E2_predicted).set_index(df_test_last.index)\n",
      "df_E2_predicted.columns=['E']"
     ],
     "language": "python",
     "metadata": {},
     "outputs": [],
     "prompt_number": 31
    },
    {
     "cell_type": "code",
     "collapsed": false,
     "input": [
      "print 'E GLM vs E GBTC diffs ' + str((np.sum(df_E2_predicted['E'] != df_E_predicted['E']))) #.astype(int)) / float(len(df_predicted.index)))\n",
      "print 'E GLM vs E GBTC % ' + str((np.sum(df_E2_predicted['E'] == df_E_predicted['E']).astype(int)) / float(len(df_predicted.index)))"
     ],
     "language": "python",
     "metadata": {},
     "outputs": [
      {
       "output_type": "stream",
       "stream": "stdout",
       "text": [
        "E GLM vs E GBTC diffs 753\n",
        "E GLM vs E GBTC % 0.98648503123\n"
       ]
      }
     ],
     "prompt_number": 881
    },
    {
     "cell_type": "code",
     "collapsed": false,
     "input": [
      "# def opt_count(group):\n",
      "#     df_op_change = pd.DataFrame(columns=l_options)\n",
      "#     for o in l_options:\n",
      "#         counter = 0 # reset counter \n",
      "#         for i in range(len(group)-1):\n",
      "#             if group[o][group['shopping_pt'] == i] != group[o][group['shopping_pt'] == i+1]:\n",
      "#                 counter += 1\n",
      "#         df_op_change[o] = counter\n",
      "#     return df_op_change\n",
      "\n",
      "# df_shop_short = df_shop[:200]\n",
      "# df_shop_short_grouped = df_shop_short.groupby('customer_ID')\n",
      "# df_shop_option_change = df_shop_short_grouped.apply(lambda group: opt_count( group))"
     ],
     "language": "python",
     "metadata": {},
     "outputs": [],
     "prompt_number": 3
    },
    {
     "cell_type": "code",
     "collapsed": false,
     "input": [
      "# # this is so slow it's painful\n",
      "# df_shop_groupby = df_shop.groupby('customer_ID')\n",
      "# #df_changes_per_user = pd.DataFrame(index=s_customers, columns=['num_transactions','changes_count'])\n",
      "# df_op_change = pd.DataFrame(index=s_customers,columns=l_options)\n",
      "# base = 0        # base index in gp, incremented per groupby group\n",
      "# for k, gp in df_shop_groupby:\n",
      "#     counter = 0 # counter of changes to option\n",
      "#     len_gp = len(gp)#\n",
      "# #    df_changes_per_user[k].num_transactions = len(gp)\n",
      "#     for o in l_options:\n",
      "# #        df_changes_per_user[k].count += counter\n",
      "#         counter = 0 # reset counter \n",
      "#         for i in range(base,base+(len_gp-1)):\n",
      "#             if gp[o][i] != gp[o][i+1]:\n",
      "#                 counter += 1\n",
      "#         df_op_change.ix[k,o] = counter\n",
      "#     base += len(gp)+1\n"
     ],
     "language": "python",
     "metadata": {},
     "outputs": [],
     "prompt_number": 1
    },
    {
     "cell_type": "code",
     "collapsed": false,
     "input": [
      "cust_id = ''\n",
      "changes = {opt: 0 for opt in l_options}\n",
      "state = {opt: '' for opt in l_options}\n",
      "counts = []\n",
      "for idx, row in df_shop_short.iterrows():\n",
      "    if row.customer_ID != cust_id:\n",
      "        # Remember these counts\n",
      "        changes['customer_ID'] = cust_id\n",
      "        counts.append(changes)\n",
      "        # Reset the counts\n",
      "        state = {opt: row[opt] for opt in l_options}\n",
      "        cust_id = row.customer_ID\n",
      "        changes = {opt: 0 for opt in l_options}\n",
      "    else:\n",
      "        for opt in l_options:\n",
      "            if state[opt] != row[opt]:\n",
      "                changes[opt] += 1\n",
      "            state[opt] = row[opt]"
     ],
     "language": "python",
     "metadata": {},
     "outputs": [],
     "prompt_number": 917
    },
    {
     "cell_type": "markdown",
     "metadata": {},
     "source": [
      "## What is the accuracy of the benchmark based on # of transactions?"
     ]
    },
    {
     "cell_type": "code",
     "collapsed": false,
     "input": [
      "df_purchase_ix = df_purchase.set_index('customer_ID')"
     ],
     "language": "python",
     "metadata": {},
     "outputs": [],
     "prompt_number": 28
    },
    {
     "cell_type": "code",
     "collapsed": false,
     "input": [
      "df_shop_last[:4]"
     ],
     "language": "python",
     "metadata": {},
     "outputs": [
      {
       "html": [
        "<div style=\"max-height:1000px;max-width:1500px;overflow:auto;\">\n",
        "<table border=\"1\" class=\"dataframe\">\n",
        "  <thead>\n",
        "    <tr style=\"text-align: right;\">\n",
        "      <th></th>\n",
        "      <th>shopping_pt</th>\n",
        "      <th>record_type</th>\n",
        "      <th>day</th>\n",
        "      <th>time</th>\n",
        "      <th>state</th>\n",
        "      <th>location</th>\n",
        "      <th>group_size</th>\n",
        "      <th>homeowner</th>\n",
        "      <th>car_age</th>\n",
        "      <th>car_value</th>\n",
        "      <th>risk_factor</th>\n",
        "      <th>age_oldest</th>\n",
        "      <th>age_youngest</th>\n",
        "      <th>married_couple</th>\n",
        "      <th>C_previous</th>\n",
        "      <th>duration_previous</th>\n",
        "      <th>A</th>\n",
        "      <th>B</th>\n",
        "      <th>C</th>\n",
        "      <th>D</th>\n",
        "      <th></th>\n",
        "    </tr>\n",
        "    <tr>\n",
        "      <th>customer_ID</th>\n",
        "      <th></th>\n",
        "      <th></th>\n",
        "      <th></th>\n",
        "      <th></th>\n",
        "      <th></th>\n",
        "      <th></th>\n",
        "      <th></th>\n",
        "      <th></th>\n",
        "      <th></th>\n",
        "      <th></th>\n",
        "      <th></th>\n",
        "      <th></th>\n",
        "      <th></th>\n",
        "      <th></th>\n",
        "      <th></th>\n",
        "      <th></th>\n",
        "      <th></th>\n",
        "      <th></th>\n",
        "      <th></th>\n",
        "      <th></th>\n",
        "    </tr>\n",
        "  </thead>\n",
        "  <tbody>\n",
        "    <tr>\n",
        "      <th>10000000</th>\n",
        "      <td> 8</td>\n",
        "      <td> 0</td>\n",
        "      <td> 0</td>\n",
        "      <td> 12:03</td>\n",
        "      <td> IN</td>\n",
        "      <td> 10001</td>\n",
        "      <td> 2</td>\n",
        "      <td> 0</td>\n",
        "      <td>  2</td>\n",
        "      <td> g</td>\n",
        "      <td>  3</td>\n",
        "      <td> 46</td>\n",
        "      <td> 42</td>\n",
        "      <td> 1</td>\n",
        "      <td> 1</td>\n",
        "      <td>  2</td>\n",
        "      <td> 1</td>\n",
        "      <td> 0</td>\n",
        "      <td> 2</td>\n",
        "      <td> 2</td>\n",
        "      <td>...</td>\n",
        "    </tr>\n",
        "    <tr>\n",
        "      <th>10000005</th>\n",
        "      <td> 5</td>\n",
        "      <td> 0</td>\n",
        "      <td> 3</td>\n",
        "      <td> 08:58</td>\n",
        "      <td> NY</td>\n",
        "      <td> 10006</td>\n",
        "      <td> 1</td>\n",
        "      <td> 0</td>\n",
        "      <td> 10</td>\n",
        "      <td> e</td>\n",
        "      <td>  4</td>\n",
        "      <td> 28</td>\n",
        "      <td> 28</td>\n",
        "      <td> 0</td>\n",
        "      <td> 3</td>\n",
        "      <td> 13</td>\n",
        "      <td> 0</td>\n",
        "      <td> 0</td>\n",
        "      <td> 3</td>\n",
        "      <td> 2</td>\n",
        "      <td>...</td>\n",
        "    </tr>\n",
        "    <tr>\n",
        "      <th>10000007</th>\n",
        "      <td> 7</td>\n",
        "      <td> 0</td>\n",
        "      <td> 4</td>\n",
        "      <td> 08:43</td>\n",
        "      <td> PA</td>\n",
        "      <td> 10008</td>\n",
        "      <td> 1</td>\n",
        "      <td> 0</td>\n",
        "      <td> 11</td>\n",
        "      <td> c</td>\n",
        "      <td>NaN</td>\n",
        "      <td> 43</td>\n",
        "      <td> 43</td>\n",
        "      <td> 0</td>\n",
        "      <td> 2</td>\n",
        "      <td>  4</td>\n",
        "      <td> 0</td>\n",
        "      <td> 0</td>\n",
        "      <td> 2</td>\n",
        "      <td> 2</td>\n",
        "      <td>...</td>\n",
        "    </tr>\n",
        "    <tr>\n",
        "      <th>10000013</th>\n",
        "      <td> 3</td>\n",
        "      <td> 0</td>\n",
        "      <td> 2</td>\n",
        "      <td> 16:36</td>\n",
        "      <td> WV</td>\n",
        "      <td> 10014</td>\n",
        "      <td> 2</td>\n",
        "      <td> 1</td>\n",
        "      <td>  3</td>\n",
        "      <td> d</td>\n",
        "      <td>  3</td>\n",
        "      <td> 62</td>\n",
        "      <td> 60</td>\n",
        "      <td> 1</td>\n",
        "      <td> 3</td>\n",
        "      <td>  3</td>\n",
        "      <td> 1</td>\n",
        "      <td> 1</td>\n",
        "      <td> 3</td>\n",
        "      <td> 2</td>\n",
        "      <td>...</td>\n",
        "    </tr>\n",
        "  </tbody>\n",
        "</table>\n",
        "<p>4 rows \u00d7 24 columns</p>\n",
        "</div>"
       ],
       "metadata": {},
       "output_type": "pyout",
       "prompt_number": 31,
       "text": [
        "             shopping_pt  record_type  day   time state  location  group_size  \\\n",
        "customer_ID                                                                     \n",
        "10000000               8            0    0  12:03    IN     10001           2   \n",
        "10000005               5            0    3  08:58    NY     10006           1   \n",
        "10000007               7            0    4  08:43    PA     10008           1   \n",
        "10000013               3            0    2  16:36    WV     10014           2   \n",
        "\n",
        "             homeowner  car_age car_value  risk_factor  age_oldest  \\\n",
        "customer_ID                                                          \n",
        "10000000             0        2         g            3          46   \n",
        "10000005             0       10         e            4          28   \n",
        "10000007             0       11         c          NaN          43   \n",
        "10000013             1        3         d            3          62   \n",
        "\n",
        "             age_youngest  married_couple  C_previous  duration_previous  A  \\\n",
        "customer_ID                                                                   \n",
        "10000000               42               1           1                  2  1   \n",
        "10000005               28               0           3                 13  0   \n",
        "10000007               43               0           2                  4  0   \n",
        "10000013               60               1           3                  3  1   \n",
        "\n",
        "             B  C  D      \n",
        "customer_ID               \n",
        "10000000     0  2  2 ...  \n",
        "10000005     0  3  2 ...  \n",
        "10000007     0  2  2 ...  \n",
        "10000013     1  3  2 ...  \n",
        "\n",
        "[4 rows x 24 columns]"
       ]
      }
     ],
     "prompt_number": 31
    },
    {
     "cell_type": "code",
     "collapsed": false,
     "input": [
      "l_trans_accuracy = []\n",
      "for i in range(2,13):\n",
      "    accuracy = evaluation(df_shop_last.query('shopping_pt =='+str(i)),df_purchase_ix.query('shopping_pt == '+str(i+1)))\n",
      "    l_trans_accuracy.append({i: accuracy})\n",
      "                    "
     ],
     "language": "python",
     "metadata": {},
     "outputs": [],
     "prompt_number": 41
    },
    {
     "cell_type": "code",
     "collapsed": false,
     "input": [
      "#df_tran_accuracy = pd.DataFrame(l_trans\n",
      "l_trans_accuracy"
     ],
     "language": "python",
     "metadata": {},
     "outputs": [
      {
       "metadata": {},
       "output_type": "pyout",
       "prompt_number": 42,
       "text": [
        "[{2: 0.5026939655172413},\n",
        " {3: 0.3990751156105487},\n",
        " {4: 0.3475019966279173},\n",
        " {5: 0.31863278499647957},\n",
        " {6: 0.2882732651963421},\n",
        " {7: 0.2727272727272727},\n",
        " {8: 0.25673758865248225},\n",
        " {9: 0.25992422994564324},\n",
        " {10: 0.2522310944105214},\n",
        " {11: 0.2505263157894737},\n",
        " {12: 0.34}]"
       ]
      }
     ],
     "prompt_number": 42
    },
    {
     "cell_type": "code",
     "collapsed": false,
     "input": [
      "plt.plot(l_trans_accuracy)"
     ],
     "language": "python",
     "metadata": {},
     "outputs": [
      {
       "ename": "NameError",
       "evalue": "name 'l_trans_accuracy' is not defined",
       "output_type": "pyerr",
       "traceback": [
        "\u001b[0;31m---------------------------------------------------------------------------\u001b[0m\n\u001b[0;31mNameError\u001b[0m                                 Traceback (most recent call last)",
        "\u001b[0;32m<ipython-input-12-84935ea5ee52>\u001b[0m in \u001b[0;36m<module>\u001b[0;34m()\u001b[0m\n\u001b[0;32m----> 1\u001b[0;31m \u001b[0mplt\u001b[0m\u001b[0;34m.\u001b[0m\u001b[0mplot\u001b[0m\u001b[0;34m(\u001b[0m\u001b[0ml_trans_accuracy\u001b[0m\u001b[0;34m)\u001b[0m\u001b[0;34m\u001b[0m\u001b[0m\n\u001b[0m",
        "\u001b[0;31mNameError\u001b[0m: name 'l_trans_accuracy' is not defined"
       ]
      }
     ],
     "prompt_number": 12
    },
    {
     "cell_type": "code",
     "collapsed": false,
     "input": [
      "len(df_test.index)"
     ],
     "language": "python",
     "metadata": {},
     "outputs": [
      {
       "metadata": {},
       "output_type": "pyout",
       "prompt_number": 45,
       "text": [
        "198856"
       ]
      }
     ],
     "prompt_number": 45
    },
    {
     "cell_type": "markdown",
     "metadata": {},
     "source": [
      "## What is the distribution of State between train and test?"
     ]
    },
    {
     "cell_type": "code",
     "collapsed": false,
     "input": [
      "df_purchase[:3]"
     ],
     "language": "python",
     "metadata": {},
     "outputs": [
      {
       "html": [
        "<div style=\"max-height:1000px;max-width:1500px;overflow:auto;\">\n",
        "<table border=\"1\" class=\"dataframe\">\n",
        "  <thead>\n",
        "    <tr style=\"text-align: right;\">\n",
        "      <th></th>\n",
        "      <th>customer_ID</th>\n",
        "      <th>shopping_pt</th>\n",
        "      <th>record_type</th>\n",
        "      <th>day</th>\n",
        "      <th>time</th>\n",
        "      <th>state</th>\n",
        "      <th>location</th>\n",
        "      <th>group_size</th>\n",
        "      <th>homeowner</th>\n",
        "      <th>car_age</th>\n",
        "      <th>car_value</th>\n",
        "      <th>risk_factor</th>\n",
        "      <th>age_oldest</th>\n",
        "      <th>age_youngest</th>\n",
        "      <th>married_couple</th>\n",
        "      <th>C_previous</th>\n",
        "      <th>duration_previous</th>\n",
        "      <th>A</th>\n",
        "      <th>B</th>\n",
        "      <th>C</th>\n",
        "      <th></th>\n",
        "    </tr>\n",
        "  </thead>\n",
        "  <tbody>\n",
        "    <tr>\n",
        "      <th>8 </th>\n",
        "      <td> 10000000</td>\n",
        "      <td> 9</td>\n",
        "      <td> 1</td>\n",
        "      <td> 0</td>\n",
        "      <td> 12:07</td>\n",
        "      <td> IN</td>\n",
        "      <td> 10001</td>\n",
        "      <td> 2</td>\n",
        "      <td> 0</td>\n",
        "      <td>  2</td>\n",
        "      <td> g</td>\n",
        "      <td>  3</td>\n",
        "      <td> 46</td>\n",
        "      <td> 42</td>\n",
        "      <td> 1</td>\n",
        "      <td> 1</td>\n",
        "      <td>  2</td>\n",
        "      <td> 1</td>\n",
        "      <td> 0</td>\n",
        "      <td> 2</td>\n",
        "      <td>...</td>\n",
        "    </tr>\n",
        "    <tr>\n",
        "      <th>14</th>\n",
        "      <td> 10000005</td>\n",
        "      <td> 6</td>\n",
        "      <td> 1</td>\n",
        "      <td> 3</td>\n",
        "      <td> 09:09</td>\n",
        "      <td> NY</td>\n",
        "      <td> 10006</td>\n",
        "      <td> 1</td>\n",
        "      <td> 0</td>\n",
        "      <td> 10</td>\n",
        "      <td> e</td>\n",
        "      <td>  4</td>\n",
        "      <td> 28</td>\n",
        "      <td> 28</td>\n",
        "      <td> 0</td>\n",
        "      <td> 3</td>\n",
        "      <td> 13</td>\n",
        "      <td> 0</td>\n",
        "      <td> 0</td>\n",
        "      <td> 3</td>\n",
        "      <td>...</td>\n",
        "    </tr>\n",
        "    <tr>\n",
        "      <th>22</th>\n",
        "      <td> 10000007</td>\n",
        "      <td> 8</td>\n",
        "      <td> 1</td>\n",
        "      <td> 4</td>\n",
        "      <td> 14:26</td>\n",
        "      <td> PA</td>\n",
        "      <td> 10008</td>\n",
        "      <td> 1</td>\n",
        "      <td> 0</td>\n",
        "      <td> 11</td>\n",
        "      <td> c</td>\n",
        "      <td>NaN</td>\n",
        "      <td> 43</td>\n",
        "      <td> 43</td>\n",
        "      <td> 0</td>\n",
        "      <td> 2</td>\n",
        "      <td>  4</td>\n",
        "      <td> 0</td>\n",
        "      <td> 0</td>\n",
        "      <td> 1</td>\n",
        "      <td>...</td>\n",
        "    </tr>\n",
        "  </tbody>\n",
        "</table>\n",
        "<p>3 rows \u00d7 25 columns</p>\n",
        "</div>"
       ],
       "metadata": {},
       "output_type": "pyout",
       "prompt_number": 75,
       "text": [
        "    customer_ID  shopping_pt  record_type  day   time state  location  \\\n",
        "8      10000000            9            1    0  12:07    IN     10001   \n",
        "14     10000005            6            1    3  09:09    NY     10006   \n",
        "22     10000007            8            1    4  14:26    PA     10008   \n",
        "\n",
        "    group_size  homeowner  car_age car_value  risk_factor  age_oldest  \\\n",
        "8            2          0        2         g            3          46   \n",
        "14           1          0       10         e            4          28   \n",
        "22           1          0       11         c          NaN          43   \n",
        "\n",
        "    age_youngest  married_couple  C_previous  duration_previous  A  B  C      \n",
        "8             42               1           1                  2  1  0  2 ...  \n",
        "14            28               0           3                 13  0  0  3 ...  \n",
        "22            43               0           2                  4  0  0  1 ...  \n",
        "\n",
        "[3 rows x 25 columns]"
       ]
      }
     ],
     "prompt_number": 75
    },
    {
     "cell_type": "code",
     "collapsed": false,
     "input": [
      "df_test_last[:3]"
     ],
     "language": "python",
     "metadata": {},
     "outputs": [
      {
       "html": [
        "<div style=\"max-height:1000px;max-width:1500px;overflow:auto;\">\n",
        "<table border=\"1\" class=\"dataframe\">\n",
        "  <thead>\n",
        "    <tr style=\"text-align: right;\">\n",
        "      <th></th>\n",
        "      <th>shopping_pt</th>\n",
        "      <th>record_type</th>\n",
        "      <th>day</th>\n",
        "      <th>time</th>\n",
        "      <th>state</th>\n",
        "      <th>location</th>\n",
        "      <th>group_size</th>\n",
        "      <th>homeowner</th>\n",
        "      <th>car_age</th>\n",
        "      <th>car_value</th>\n",
        "      <th>risk_factor</th>\n",
        "      <th>age_oldest</th>\n",
        "      <th>age_youngest</th>\n",
        "      <th>married_couple</th>\n",
        "      <th>C_previous</th>\n",
        "      <th>duration_previous</th>\n",
        "      <th>A</th>\n",
        "      <th>B</th>\n",
        "      <th>C</th>\n",
        "      <th>D</th>\n",
        "      <th></th>\n",
        "    </tr>\n",
        "    <tr>\n",
        "      <th>customer_ID</th>\n",
        "      <th></th>\n",
        "      <th></th>\n",
        "      <th></th>\n",
        "      <th></th>\n",
        "      <th></th>\n",
        "      <th></th>\n",
        "      <th></th>\n",
        "      <th></th>\n",
        "      <th></th>\n",
        "      <th></th>\n",
        "      <th></th>\n",
        "      <th></th>\n",
        "      <th></th>\n",
        "      <th></th>\n",
        "      <th></th>\n",
        "      <th></th>\n",
        "      <th></th>\n",
        "      <th></th>\n",
        "      <th></th>\n",
        "      <th></th>\n",
        "    </tr>\n",
        "  </thead>\n",
        "  <tbody>\n",
        "    <tr>\n",
        "      <th>10000001</th>\n",
        "      <td> 2</td>\n",
        "      <td> 0</td>\n",
        "      <td> 1</td>\n",
        "      <td> 12:36</td>\n",
        "      <td> OK</td>\n",
        "      <td> 10002</td>\n",
        "      <td> 1</td>\n",
        "      <td> 0</td>\n",
        "      <td> 9</td>\n",
        "      <td> f</td>\n",
        "      <td>NaN</td>\n",
        "      <td> 24</td>\n",
        "      <td> 24</td>\n",
        "      <td> 0</td>\n",
        "      <td> 3</td>\n",
        "      <td>  9</td>\n",
        "      <td> 2</td>\n",
        "      <td> 1</td>\n",
        "      <td> 1</td>\n",
        "      <td> 3</td>\n",
        "      <td>...</td>\n",
        "    </tr>\n",
        "    <tr>\n",
        "      <th>10000002</th>\n",
        "      <td> 2</td>\n",
        "      <td> 0</td>\n",
        "      <td> 4</td>\n",
        "      <td> 12:21</td>\n",
        "      <td> PA</td>\n",
        "      <td> 10003</td>\n",
        "      <td> 1</td>\n",
        "      <td> 1</td>\n",
        "      <td> 7</td>\n",
        "      <td> f</td>\n",
        "      <td>NaN</td>\n",
        "      <td> 74</td>\n",
        "      <td> 74</td>\n",
        "      <td> 0</td>\n",
        "      <td> 2</td>\n",
        "      <td> 15</td>\n",
        "      <td> 2</td>\n",
        "      <td> 0</td>\n",
        "      <td> 2</td>\n",
        "      <td> 3</td>\n",
        "      <td>...</td>\n",
        "    </tr>\n",
        "    <tr>\n",
        "      <th>10000003</th>\n",
        "      <td> 3</td>\n",
        "      <td> 0</td>\n",
        "      <td> 3</td>\n",
        "      <td> 17:13</td>\n",
        "      <td> AR</td>\n",
        "      <td> 10004</td>\n",
        "      <td> 1</td>\n",
        "      <td> 0</td>\n",
        "      <td> 4</td>\n",
        "      <td> d</td>\n",
        "      <td>  4</td>\n",
        "      <td> 26</td>\n",
        "      <td> 26</td>\n",
        "      <td> 0</td>\n",
        "      <td> 3</td>\n",
        "      <td>  1</td>\n",
        "      <td> 1</td>\n",
        "      <td> 0</td>\n",
        "      <td> 2</td>\n",
        "      <td> 1</td>\n",
        "      <td>...</td>\n",
        "    </tr>\n",
        "  </tbody>\n",
        "</table>\n",
        "<p>3 rows \u00d7 24 columns</p>\n",
        "</div>"
       ],
       "metadata": {},
       "output_type": "pyout",
       "prompt_number": 83,
       "text": [
        "             shopping_pt  record_type  day   time state  location  group_size  \\\n",
        "customer_ID                                                                     \n",
        "10000001               2            0    1  12:36    OK     10002           1   \n",
        "10000002               2            0    4  12:21    PA     10003           1   \n",
        "10000003               3            0    3  17:13    AR     10004           1   \n",
        "\n",
        "             homeowner  car_age car_value  risk_factor  age_oldest  \\\n",
        "customer_ID                                                          \n",
        "10000001             0        9         f          NaN          24   \n",
        "10000002             1        7         f          NaN          74   \n",
        "10000003             0        4         d            4          26   \n",
        "\n",
        "             age_youngest  married_couple  C_previous  duration_previous  A  \\\n",
        "customer_ID                                                                   \n",
        "10000001               24               0           3                  9  2   \n",
        "10000002               74               0           2                 15  2   \n",
        "10000003               26               0           3                  1  1   \n",
        "\n",
        "             B  C  D      \n",
        "customer_ID               \n",
        "10000001     1  1  3 ...  \n",
        "10000002     0  2  3 ...  \n",
        "10000003     0  2  1 ...  \n",
        "\n",
        "[3 rows x 24 columns]"
       ]
      }
     ],
     "prompt_number": 83
    },
    {
     "cell_type": "code",
     "collapsed": false,
     "input": [
      "test_state = df_test_last.groupby('state').count()\n",
      "test_state['state'].order(ascending=False) / float(test_state.sum()['state'])"
     ],
     "language": "python",
     "metadata": {},
     "outputs": [
      {
       "metadata": {},
       "output_type": "pyout",
       "prompt_number": 92,
       "text": [
        "state\n",
        "FL       0.150190\n",
        "NY       0.134073\n",
        "PA       0.084482\n",
        "OH       0.064147\n",
        "GA       0.045463\n",
        "MD       0.044763\n",
        "CO       0.040419\n",
        "IN       0.035681\n",
        "WA       0.035178\n",
        "AL       0.032845\n",
        "CT       0.027945\n",
        "TN       0.027676\n",
        "OR       0.023925\n",
        "UT       0.023817\n",
        "OK       0.022507\n",
        "MO       0.021933\n",
        "KY       0.021879\n",
        "NV       0.020730\n",
        "WI       0.014628\n",
        "AR       0.014466\n",
        "MS       0.014143\n",
        "NH       0.011271\n",
        "IA       0.010482\n",
        "NM       0.009477\n",
        "ID       0.009028\n",
        "KS       0.008633\n",
        "RI       0.008454\n",
        "ME       0.008184\n",
        "WV       0.006587\n",
        "DE       0.005636\n",
        "DC       0.005349\n",
        "NE       0.004882\n",
        "MT       0.004505\n",
        "ND       0.003877\n",
        "WY       0.001938\n",
        "SD       0.000808\n",
        "Name: state, dtype: float64"
       ]
      }
     ],
     "prompt_number": 92
    },
    {
     "cell_type": "code",
     "collapsed": false,
     "input": [
      "train_state = df_purchase.groupby('state').count()\n",
      "s_trains_state = train_state['state'].order(ascending=False) / float(train_state.sum()['state'])"
     ],
     "language": "python",
     "metadata": {},
     "outputs": [
      {
       "metadata": {},
       "output_type": "pyout",
       "prompt_number": 93,
       "text": [
        "state\n",
        "FL       0.150553\n",
        "NY       0.140822\n",
        "PA       0.092290\n",
        "OH       0.068695\n",
        "MD       0.043522\n",
        "IN       0.038646\n",
        "AL       0.037058\n",
        "WA       0.036852\n",
        "CO       0.036491\n",
        "CT       0.029234\n",
        "TN       0.027358\n",
        "KY       0.024420\n",
        "MO       0.022730\n",
        "OR       0.022720\n",
        "NV       0.021885\n",
        "UT       0.021668\n",
        "OK       0.020854\n",
        "AR       0.016174\n",
        "MS       0.016143\n",
        "WI       0.015947\n",
        "GA       0.013092\n",
        "NH       0.011710\n",
        "ME       0.010422\n",
        "NM       0.010308\n",
        "ID       0.009174\n",
        "RI       0.009051\n",
        "KS       0.008855\n",
        "WV       0.008040\n",
        "IA       0.007102\n",
        "DE       0.006154\n",
        "DC       0.005566\n",
        "NE       0.005051\n",
        "MT       0.004917\n",
        "ND       0.003938\n",
        "WY       0.001711\n",
        "SD       0.000845\n",
        "Name: state, dtype: float64"
       ]
      }
     ],
     "prompt_number": 93
    },
    {
     "cell_type": "code",
     "collapsed": false,
     "input": [
      "# no real diff in state distribution between train and test sets\n",
      "s_train_state = train_state['state'].order(ascending=False) / float(train_state.sum()['state'])\n",
      "s_test_state = test_state['state'].order(ascending=False) / float(test_state.sum()['state'])\n",
      "(s_train_state - s_test_state).order(ascending=False)"
     ],
     "language": "python",
     "metadata": {},
     "outputs": [
      {
       "metadata": {},
       "output_type": "pyout",
       "prompt_number": 96,
       "text": [
        "state\n",
        "PA       0.007808\n",
        "NY       0.006749\n",
        "OH       0.004548\n",
        "AL       0.004213\n",
        "IN       0.002965\n",
        "KY       0.002542\n",
        "ME       0.002237\n",
        "MS       0.002000\n",
        "AR       0.001708\n",
        "WA       0.001674\n",
        "WV       0.001454\n",
        "WI       0.001319\n",
        "CT       0.001289\n",
        "NV       0.001154\n",
        "NM       0.000832\n",
        "MO       0.000797\n",
        "RI       0.000597\n",
        "DE       0.000518\n",
        "NH       0.000439\n",
        "MT       0.000412\n",
        "FL       0.000363\n",
        "KS       0.000222\n",
        "DC       0.000218\n",
        "NE       0.000169\n",
        "ID       0.000146\n",
        "ND       0.000061\n",
        "SD       0.000038\n",
        "WY      -0.000227\n",
        "TN      -0.000318\n",
        "OR      -0.001205\n",
        "MD      -0.001241\n",
        "OK      -0.001653\n",
        "UT      -0.002149\n",
        "IA      -0.003379\n",
        "CO      -0.003928\n",
        "GA      -0.032371\n",
        "Name: state, dtype: float64"
       ]
      }
     ],
     "prompt_number": 96
    }
   ],
   "metadata": {}
  }
 ]
}