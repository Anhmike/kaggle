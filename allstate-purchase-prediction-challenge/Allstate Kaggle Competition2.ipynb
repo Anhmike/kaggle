{
 "metadata": {
  "name": "Allstate Kaggle Competition"
 },
 "nbformat": 3,
 "nbformat_minor": 0,
 "worksheets": [
  {
   "cells": [
    {
     "cell_type": "heading",
     "level": 1,
     "metadata": {},
     "source": "Allstate Kaggle Competition"
    },
    {
     "cell_type": "markdown",
     "metadata": {},
     "source": "# Predict a purchased policy based on transaction history #\n\nAs a customer shops an insurance policy, he/she will receive a number of quotes with different coverage options before purchasing a plan. This is represented in this challenge as a series of rows that include a customer ID, information about the customer, information about the quoted policy, and the cost. Your task is to predict the purchased coverage options using a limited subset of the total interaction history. If the eventual purchase can be predicted sooner in the shopping window, the quoting process is shortened and the issuer is less likely to lose the customer's business.\n\nUsing a customer\u2019s shopping history, can you predict what policy they will end up choosing?\n\n### Evaluation ###\n\nSubmissions are evaluated on an all-or-none accuracy basis. You must predict every coverage option correctly to receive credit for a given customer. Your score is the percent of customers for whom you predict the exact purchased policy.\n\n### Submission File ###\n\nThe submission format is created by concatenating each plan option (A,B,C,D,E,F,G) as a single string, in order. The file should contain a header and have the following format:\n\n```\ncustomer_ID,plan\n10000001,1111111\n10000002,1111111\n10000003,1111111\n...\n```\n\n### Files ###\n\nThe training and test sets contain transaction history for customers that ended up purchasing a policy. For each customer_ID, you are given their quote history. In the training set you have the entire quote history, the last row of which contains the coverage options they purchased. In the test set, you have only a partial history of the quotes and do not have the purchased coverage options. These are truncated to certain lengths to simulate making predictions with less history (higher uncertainty) or more history (lower uncertainty).\n\nFor each customer_ID in the test set, you must predict the seven coverage options they end up purchasing.\n\n### What is a customer? ###\n\nEach customer has many shopping points, where a shopping point is defined by a customer with certain characteristics viewing a product and its associated cost at a particular time.\n\n- Some customer characteristics may change over time (e.g. as the customer changes or provides new information), and the cost depends on both the product and the customer characteristics.\n- A customer may represent a collection of people, as policies can cover more than one person.\n- A customer may purchase a product that was not viewed!\n\n### Product Options ###\n\nEach product has 7 customizable options selected by customers, each with 2, 3, or 4 ordinal values possible:\n\nOption Name | Possible Values\n:---:|:---:\nA | 0,1,2\nB | 0,1\nC | 1,2,3,4\nD | 1,2,3\nE | 0,1\nF | 0,1,2,3\nG | 1,2,3,4\n\n\nA product is simply a vector with length 7 whose values are chosen from each of the options listed above. The cost of a product is a function of both the product options and customer characteristics.\n\n### Variable Descriptions ###\n\n- __customer_ID__ - A unique identifier for the customer\n- __shopping_pt__ - Unique identifier for the shopping point of a given customer\n- __record_type__ - 0=shopping point, 1=purchase point\n- __day__ - Day of the week (0-6, 0=Monday)\n- __time__ - Time of day (HH:MM)\n- __state__ - State where shopping point occurred\n- __location__ - Location ID where shopping point occurred\n- __group_size__ - How many people will be covered under the policy (1, 2, 3 or 4)\n- __homeowner__ - Whether the customer owns a home or not (0=no, 1=yes)\n- __car_age__ - Age of the customer\u2019s car\n- __car_value__ - How valuable was the customer\u2019s car when new\n- __risk_factor__ - An ordinal assessment of how risky the customer is (1, 2, 3, 4)\n- __age_oldest__ - Age of the oldest person in customer's group\n- __age_youngest__ - Age of the youngest person in customer\u2019s group\n- __married_couple__ - Does the customer group contain a married couple (0=no, 1=yes)\n- __C_previous__ - What the customer formerly had or currently has for product option C (0=nothing, 1, 2, 3,4)\n- __duration_previous__ -  how long (in years) the customer was covered by their previous issuer\n- __A,B,C,D,E,F,G__ - the coverage options\n- __cost__ - cost of the quoted coverage options"
    },
    {
     "cell_type": "markdown",
     "metadata": {},
     "source": "## Basic Initalizations\nLoad the training data:"
    },
    {
     "cell_type": "code",
     "collapsed": false,
     "input": "import csv\nimport numpy as np\nimport pandas as pd\nimport matplotlib.pyplot as plt\n%pylab inline",
     "language": "python",
     "metadata": {},
     "outputs": [
      {
       "output_type": "stream",
       "stream": "stdout",
       "text": "Populating the interactive namespace from numpy and matplotlib\n"
      }
     ],
     "prompt_number": 2
    },
    {
     "cell_type": "code",
     "collapsed": false,
     "input": "csv_dir = '/Users/Paul/Desktop/Allstate/'",
     "language": "python",
     "metadata": {},
     "outputs": [],
     "prompt_number": 271
    },
    {
     "cell_type": "code",
     "collapsed": false,
     "input": "df_train = pd.read_csv(csv_dir + 'train.csv')",
     "language": "python",
     "metadata": {},
     "outputs": [],
     "prompt_number": 3
    },
    {
     "cell_type": "code",
     "collapsed": false,
     "input": "l_options =['A','B','C','D','E','F','G']",
     "language": "python",
     "metadata": {},
     "outputs": [],
     "prompt_number": 5
    },
    {
     "cell_type": "code",
     "collapsed": false,
     "input": "s_customers = pd.Series(df_train.customer_ID.unique())",
     "language": "python",
     "metadata": {},
     "outputs": [],
     "prompt_number": 45
    },
    {
     "cell_type": "code",
     "collapsed": false,
     "input": "l_A = [0,1,2]\nl_B = [0,1]\nl_C = [1,2,3,4]\nl_D = [1,2,3]\nl_E = [0,1]\nl_F = [0,1,2,3]\nl_G = [1,2,3,4]",
     "language": "python",
     "metadata": {},
     "outputs": [],
     "prompt_number": 97
    },
    {
     "cell_type": "code",
     "collapsed": false,
     "input": "l_columns = ['customer_ID','shopping_pt','record_type','day','time','state','location',\\\n                     'group_size','homeowner','car_age','car_value','risk_factor','age_oldest',\\\n                     'age_youngest','married_couple','C_previous','duration_previous',\\\n                     'A','B','C','D','E','F','G','cost']",
     "language": "python",
     "metadata": {},
     "outputs": [],
     "prompt_number": 200
    },
    {
     "cell_type": "code",
     "collapsed": false,
     "input": "df_train_grouped = df_train.groupby('customer_ID')",
     "language": "python",
     "metadata": {},
     "outputs": [],
     "prompt_number": 4
    },
    {
     "cell_type": "code",
     "collapsed": false,
     "input": "df_test = pd.read_csv(csv_dir + 'test_v2.csv')",
     "language": "python",
     "metadata": {},
     "outputs": [],
     "prompt_number": 380
    },
    {
     "cell_type": "markdown",
     "metadata": {},
     "source": "## Exploratory Data Analysis"
    },
    {
     "cell_type": "code",
     "collapsed": false,
     "input": "df_train.count()",
     "language": "python",
     "metadata": {},
     "outputs": [
      {
       "metadata": {},
       "output_type": "pyout",
       "prompt_number": 3,
       "text": "customer_ID          665249\nshopping_pt          665249\nrecord_type          665249\nday                  665249\ntime                 665249\nstate                665249\nlocation             665249\ngroup_size           665249\nhomeowner            665249\ncar_age              665249\ncar_value            663718\nrisk_factor          424831\nage_oldest           665249\nage_youngest         665249\nmarried_couple       665249\nC_previous           646538\nduration_previous    646538\nA                    665249\nB                    665249\nC                    665249\nD                    665249\nE                    665249\nF                    665249\nG                    665249\ncost                 665249\ndtype: int64"
      }
     ],
     "prompt_number": 3
    },
    {
     "cell_type": "code",
     "collapsed": false,
     "input": "df_train.describe()",
     "language": "python",
     "metadata": {},
     "outputs": [
      {
       "html": "<div style=\"max-height:1000px;max-width:1500px;overflow:auto;\">\n<table border=\"1\" class=\"dataframe\">\n  <thead>\n    <tr style=\"text-align: right;\">\n      <th></th>\n      <th>customer_ID</th>\n      <th>shopping_pt</th>\n      <th>record_type</th>\n      <th>day</th>\n      <th>location</th>\n      <th>group_size</th>\n      <th>homeowner</th>\n      <th>car_age</th>\n      <th>risk_factor</th>\n      <th>age_oldest</th>\n      <th>age_youngest</th>\n      <th>married_couple</th>\n      <th>C_previous</th>\n      <th>duration_previous</th>\n      <th>A</th>\n      <th>B</th>\n      <th>C</th>\n      <th>D</th>\n      <th>E</th>\n      <th>F</th>\n      <th></th>\n    </tr>\n  </thead>\n  <tbody>\n    <tr>\n      <th>count</th>\n      <td>   665249.000000</td>\n      <td> 665249.000000</td>\n      <td> 665249.000000</td>\n      <td> 665249.000000</td>\n      <td> 665249.000000</td>\n      <td> 665249.000000</td>\n      <td> 665249.000000</td>\n      <td> 665249.000000</td>\n      <td> 424831.000000</td>\n      <td> 665249.000000</td>\n      <td> 665249.000000</td>\n      <td> 665249.000000</td>\n      <td> 646538.000000</td>\n      <td> 646538.000000</td>\n      <td> 665249.000000</td>\n      <td> 665249.000000</td>\n      <td> 665249.000000</td>\n      <td> 665249.000000</td>\n      <td> 665249.000000</td>\n      <td> 665249.000000</td>\n      <td>...</td>\n    </tr>\n    <tr>\n      <th>mean</th>\n      <td> 10076553.440219</td>\n      <td>      4.219966</td>\n      <td>      0.145824</td>\n      <td>      1.969429</td>\n      <td>  12271.543022</td>\n      <td>      1.234784</td>\n      <td>      0.536229</td>\n      <td>      8.139437</td>\n      <td>      2.563996</td>\n      <td>     44.992403</td>\n      <td>     42.577588</td>\n      <td>      0.209782</td>\n      <td>      2.444718</td>\n      <td>      6.003774</td>\n      <td>      0.927546</td>\n      <td>      0.454236</td>\n      <td>      2.275265</td>\n      <td>      2.454299</td>\n      <td>      0.445193</td>\n      <td>      1.162768</td>\n      <td>...</td>\n    </tr>\n    <tr>\n      <th>std</th>\n      <td>    44049.778757</td>\n      <td>      2.394369</td>\n      <td>      0.352930</td>\n      <td>      1.453470</td>\n      <td>   1564.789415</td>\n      <td>      0.461036</td>\n      <td>      0.498686</td>\n      <td>      5.764598</td>\n      <td>      1.111584</td>\n      <td>     17.403440</td>\n      <td>     17.460432</td>\n      <td>      0.407153</td>\n      <td>      1.034596</td>\n      <td>      4.680793</td>\n      <td>      0.595221</td>\n      <td>      0.497902</td>\n      <td>      0.990798</td>\n      <td>      0.753953</td>\n      <td>      0.496987</td>\n      <td>      0.943594</td>\n      <td>...</td>\n    </tr>\n    <tr>\n      <th>min</th>\n      <td> 10000000.000000</td>\n      <td>      1.000000</td>\n      <td>      0.000000</td>\n      <td>      0.000000</td>\n      <td>  10001.000000</td>\n      <td>      1.000000</td>\n      <td>      0.000000</td>\n      <td>      0.000000</td>\n      <td>      1.000000</td>\n      <td>     18.000000</td>\n      <td>     16.000000</td>\n      <td>      0.000000</td>\n      <td>      1.000000</td>\n      <td>      0.000000</td>\n      <td>      0.000000</td>\n      <td>      0.000000</td>\n      <td>      1.000000</td>\n      <td>      1.000000</td>\n      <td>      0.000000</td>\n      <td>      0.000000</td>\n      <td>...</td>\n    </tr>\n    <tr>\n      <th>25%</th>\n      <td> 10038523.000000</td>\n      <td>      2.000000</td>\n      <td>      0.000000</td>\n      <td>      1.000000</td>\n      <td>  10936.000000</td>\n      <td>      1.000000</td>\n      <td>      0.000000</td>\n      <td>      3.000000</td>\n      <td>      2.000000</td>\n      <td>     28.000000</td>\n      <td>     26.000000</td>\n      <td>      0.000000</td>\n      <td>      1.000000</td>\n      <td>      2.000000</td>\n      <td>      1.000000</td>\n      <td>      0.000000</td>\n      <td>      1.000000</td>\n      <td>      2.000000</td>\n      <td>      0.000000</td>\n      <td>      0.000000</td>\n      <td>...</td>\n    </tr>\n    <tr>\n      <th>50%</th>\n      <td> 10076403.000000</td>\n      <td>      4.000000</td>\n      <td>      0.000000</td>\n      <td>      2.000000</td>\n      <td>  12027.000000</td>\n      <td>      1.000000</td>\n      <td>      1.000000</td>\n      <td>      7.000000</td>\n      <td>      3.000000</td>\n      <td>     44.000000</td>\n      <td>     40.000000</td>\n      <td>      0.000000</td>\n      <td>      3.000000</td>\n      <td>      5.000000</td>\n      <td>      1.000000</td>\n      <td>      0.000000</td>\n      <td>      2.000000</td>\n      <td>      3.000000</td>\n      <td>      0.000000</td>\n      <td>      1.000000</td>\n      <td>...</td>\n    </tr>\n    <tr>\n      <th>75%</th>\n      <td> 10114696.000000</td>\n      <td>      6.000000</td>\n      <td>      0.000000</td>\n      <td>      3.000000</td>\n      <td>  13426.000000</td>\n      <td>      1.000000</td>\n      <td>      1.000000</td>\n      <td>     12.000000</td>\n      <td>      4.000000</td>\n      <td>     60.000000</td>\n      <td>     57.000000</td>\n      <td>      0.000000</td>\n      <td>      3.000000</td>\n      <td>      9.000000</td>\n      <td>      1.000000</td>\n      <td>      1.000000</td>\n      <td>      3.000000</td>\n      <td>      3.000000</td>\n      <td>      1.000000</td>\n      <td>      2.000000</td>\n      <td>...</td>\n    </tr>\n    <tr>\n      <th>max</th>\n      <td> 10152724.000000</td>\n      <td>     13.000000</td>\n      <td>      1.000000</td>\n      <td>      6.000000</td>\n      <td>  16580.000000</td>\n      <td>      4.000000</td>\n      <td>      1.000000</td>\n      <td>     85.000000</td>\n      <td>      4.000000</td>\n      <td>     75.000000</td>\n      <td>     75.000000</td>\n      <td>      1.000000</td>\n      <td>      4.000000</td>\n      <td>     15.000000</td>\n      <td>      2.000000</td>\n      <td>      1.000000</td>\n      <td>      4.000000</td>\n      <td>      3.000000</td>\n      <td>      1.000000</td>\n      <td>      3.000000</td>\n      <td>...</td>\n    </tr>\n  </tbody>\n</table>\n<p>8 rows \u00d7 22 columns</p>\n</div>",
       "metadata": {},
       "output_type": "pyout",
       "prompt_number": 5,
       "text": "           customer_ID    shopping_pt    record_type            day  \\\ncount    665249.000000  665249.000000  665249.000000  665249.000000   \nmean   10076553.440219       4.219966       0.145824       1.969429   \nstd       44049.778757       2.394369       0.352930       1.453470   \nmin    10000000.000000       1.000000       0.000000       0.000000   \n25%    10038523.000000       2.000000       0.000000       1.000000   \n50%    10076403.000000       4.000000       0.000000       2.000000   \n75%    10114696.000000       6.000000       0.000000       3.000000   \nmax    10152724.000000      13.000000       1.000000       6.000000   \n\n            location     group_size      homeowner        car_age  \\\ncount  665249.000000  665249.000000  665249.000000  665249.000000   \nmean    12271.543022       1.234784       0.536229       8.139437   \nstd      1564.789415       0.461036       0.498686       5.764598   \nmin     10001.000000       1.000000       0.000000       0.000000   \n25%     10936.000000       1.000000       0.000000       3.000000   \n50%     12027.000000       1.000000       1.000000       7.000000   \n75%     13426.000000       1.000000       1.000000      12.000000   \nmax     16580.000000       4.000000       1.000000      85.000000   \n\n         risk_factor     age_oldest   age_youngest  married_couple  \\\ncount  424831.000000  665249.000000  665249.000000   665249.000000   \nmean        2.563996      44.992403      42.577588        0.209782   \nstd         1.111584      17.403440      17.460432        0.407153   \nmin         1.000000      18.000000      16.000000        0.000000   \n25%         2.000000      28.000000      26.000000        0.000000   \n50%         3.000000      44.000000      40.000000        0.000000   \n75%         4.000000      60.000000      57.000000        0.000000   \nmax         4.000000      75.000000      75.000000        1.000000   \n\n          C_previous  duration_previous              A              B  \\\ncount  646538.000000      646538.000000  665249.000000  665249.000000   \nmean        2.444718           6.003774       0.927546       0.454236   \nstd         1.034596           4.680793       0.595221       0.497902   \nmin         1.000000           0.000000       0.000000       0.000000   \n25%         1.000000           2.000000       1.000000       0.000000   \n50%         3.000000           5.000000       1.000000       0.000000   \n75%         3.000000           9.000000       1.000000       1.000000   \nmax         4.000000          15.000000       2.000000       1.000000   \n\n                   C              D              E              F      \ncount  665249.000000  665249.000000  665249.000000  665249.000000 ...  \nmean        2.275265       2.454299       0.445193       1.162768 ...  \nstd         0.990798       0.753953       0.496987       0.943594 ...  \nmin         1.000000       1.000000       0.000000       0.000000 ...  \n25%         1.000000       2.000000       0.000000       0.000000 ...  \n50%         2.000000       3.000000       0.000000       1.000000 ...  \n75%         3.000000       3.000000       1.000000       2.000000 ...  \nmax         4.000000       3.000000       1.000000       3.000000 ...  \n\n[8 rows x 22 columns]"
      }
     ],
     "prompt_number": 5
    },
    {
     "cell_type": "markdown",
     "metadata": {},
     "source": "Count the number of transactions per customer, including purchase, and draw a histogram"
    },
    {
     "cell_type": "code",
     "collapsed": false,
     "input": " vc = df_train_grouped.count().value_counts().sort_index() # count series of transactions",
     "language": "python",
     "metadata": {},
     "outputs": [],
     "prompt_number": 7
    },
    {
     "cell_type": "code",
     "collapsed": false,
     "input": "vc # value counts of number of transactions",
     "language": "python",
     "metadata": {},
     "outputs": [
      {
       "metadata": {},
       "output_type": "pyout",
       "prompt_number": 8,
       "text": "3      5568\n4      8001\n5     11269\n6     15623\n7     18590\n8     17248\n9     11985\n10     6071\n11     2129\n12      475\n13       50\ndtype: int64"
      }
     ],
     "prompt_number": 8
    },
    {
     "cell_type": "code",
     "collapsed": false,
     "input": "vc.plot(kind='bar')",
     "language": "python",
     "metadata": {},
     "outputs": [
      {
       "metadata": {},
       "output_type": "pyout",
       "prompt_number": 9,
       "text": "<matplotlib.axes.AxesSubplot at 0x1047c6b90>"
      },
      {
       "metadata": {},
       "output_type": "display_data",
       "png": "[encoded data removed]",
       "text": "<matplotlib.figure.Figure at 0x10f9fb2d0>"
      }
     ],
     "prompt_number": 9
    },
    {
     "cell_type": "markdown",
     "metadata": {},
     "source": "Collect all the purchases in one dataframe."
    },
    {
     "cell_type": "code",
     "collapsed": false,
     "input": "df_purchase = df_train[df_train['record_type'] > 0]\nlen(df_train.index)",
     "language": "python",
     "metadata": {},
     "outputs": [],
     "prompt_number": 38
    },
    {
     "cell_type": "markdown",
     "metadata": {},
     "source": "Collect all shop transactions (without purchase) in a dataframe"
    },
    {
     "cell_type": "code",
     "collapsed": false,
     "input": "df_shop = df_train[df_train['record_type'] == 0]\nlen(df_shop.index)",
     "language": "python",
     "metadata": {},
     "outputs": [],
     "prompt_number": 9
    },
    {
     "cell_type": "code",
     "collapsed": false,
     "input": "df_train[['customer_ID','shopping_pt','record_type']+l_options].query('customer_ID == 10000000')",
     "language": "python",
     "metadata": {},
     "outputs": [
      {
       "html": "<div style=\"max-height:1000px;max-width:1500px;overflow:auto;\">\n<table border=\"1\" class=\"dataframe\">\n  <thead>\n    <tr style=\"text-align: right;\">\n      <th></th>\n      <th>customer_ID</th>\n      <th>shopping_pt</th>\n      <th>record_type</th>\n      <th>A</th>\n      <th>B</th>\n      <th>C</th>\n      <th>D</th>\n      <th>E</th>\n      <th>F</th>\n      <th>G</th>\n    </tr>\n  </thead>\n  <tbody>\n    <tr>\n      <th>0</th>\n      <td> 10000000</td>\n      <td> 1</td>\n      <td> 0</td>\n      <td> 1</td>\n      <td> 0</td>\n      <td> 2</td>\n      <td> 2</td>\n      <td> 1</td>\n      <td> 2</td>\n      <td> 2</td>\n    </tr>\n    <tr>\n      <th>1</th>\n      <td> 10000000</td>\n      <td> 2</td>\n      <td> 0</td>\n      <td> 1</td>\n      <td> 0</td>\n      <td> 2</td>\n      <td> 2</td>\n      <td> 1</td>\n      <td> 2</td>\n      <td> 1</td>\n    </tr>\n    <tr>\n      <th>2</th>\n      <td> 10000000</td>\n      <td> 3</td>\n      <td> 0</td>\n      <td> 1</td>\n      <td> 0</td>\n      <td> 2</td>\n      <td> 2</td>\n      <td> 1</td>\n      <td> 2</td>\n      <td> 1</td>\n    </tr>\n    <tr>\n      <th>3</th>\n      <td> 10000000</td>\n      <td> 4</td>\n      <td> 0</td>\n      <td> 1</td>\n      <td> 0</td>\n      <td> 2</td>\n      <td> 2</td>\n      <td> 1</td>\n      <td> 2</td>\n      <td> 1</td>\n    </tr>\n    <tr>\n      <th>4</th>\n      <td> 10000000</td>\n      <td> 5</td>\n      <td> 0</td>\n      <td> 1</td>\n      <td> 0</td>\n      <td> 2</td>\n      <td> 2</td>\n      <td> 1</td>\n      <td> 2</td>\n      <td> 1</td>\n    </tr>\n    <tr>\n      <th>5</th>\n      <td> 10000000</td>\n      <td> 6</td>\n      <td> 0</td>\n      <td> 1</td>\n      <td> 0</td>\n      <td> 2</td>\n      <td> 2</td>\n      <td> 1</td>\n      <td> 2</td>\n      <td> 1</td>\n    </tr>\n    <tr>\n      <th>6</th>\n      <td> 10000000</td>\n      <td> 7</td>\n      <td> 0</td>\n      <td> 1</td>\n      <td> 0</td>\n      <td> 2</td>\n      <td> 2</td>\n      <td> 1</td>\n      <td> 2</td>\n      <td> 1</td>\n    </tr>\n    <tr>\n      <th>7</th>\n      <td> 10000000</td>\n      <td> 8</td>\n      <td> 0</td>\n      <td> 1</td>\n      <td> 0</td>\n      <td> 2</td>\n      <td> 2</td>\n      <td> 1</td>\n      <td> 2</td>\n      <td> 1</td>\n    </tr>\n    <tr>\n      <th>8</th>\n      <td> 10000000</td>\n      <td> 9</td>\n      <td> 1</td>\n      <td> 1</td>\n      <td> 0</td>\n      <td> 2</td>\n      <td> 2</td>\n      <td> 1</td>\n      <td> 2</td>\n      <td> 1</td>\n    </tr>\n  </tbody>\n</table>\n<p>9 rows \u00d7 10 columns</p>\n</div>",
       "metadata": {},
       "output_type": "pyout",
       "prompt_number": 348,
       "text": "   customer_ID  shopping_pt  record_type  A  B  C  D  E  F  G\n0     10000000            1            0  1  0  2  2  1  2  2\n1     10000000            2            0  1  0  2  2  1  2  1\n2     10000000            3            0  1  0  2  2  1  2  1\n3     10000000            4            0  1  0  2  2  1  2  1\n4     10000000            5            0  1  0  2  2  1  2  1\n5     10000000            6            0  1  0  2  2  1  2  1\n6     10000000            7            0  1  0  2  2  1  2  1\n7     10000000            8            0  1  0  2  2  1  2  1\n8     10000000            9            1  1  0  2  2  1  2  1\n\n[9 rows x 10 columns]"
      }
     ],
     "prompt_number": 348
    },
    {
     "cell_type": "markdown",
     "metadata": {},
     "source": "For every customer, for every option, count how many times the option has changed"
    },
    {
     "cell_type": "code",
     "collapsed": false,
     "input": "df_shop_grouped = df_shop.groupby('customer_ID')",
     "language": "python",
     "metadata": {},
     "outputs": [],
     "prompt_number": 94
    },
    {
     "cell_type": "code",
     "collapsed": false,
     "input": "test_trans_count = df_test.groupby('customer_ID')['customer_ID'].count().value_counts().sort_index()",
     "language": "python",
     "metadata": {},
     "outputs": [],
     "prompt_number": 357
    },
    {
     "cell_type": "code",
     "collapsed": false,
     "input": "test_trans_count # distribution of the number of transactions including purchase",
     "language": "python",
     "metadata": {},
     "outputs": [
      {
       "metadata": {},
       "output_type": "pyout",
       "prompt_number": 358,
       "text": "2     18943\n3     13298\n4      9251\n5      6528\n6      4203\n7      2175\n8       959\n9       281\n10       70\n11        8\ndtype: int64"
      }
     ],
     "prompt_number": 358
    },
    {
     "cell_type": "code",
     "collapsed": false,
     "input": "test_trans_count.plot(kind='bar')\n# plt.hist(test_trans_count)",
     "language": "python",
     "metadata": {},
     "outputs": [
      {
       "metadata": {},
       "output_type": "pyout",
       "prompt_number": 359,
       "text": "<matplotlib.axes.AxesSubplot at 0x13c1f46d0>"
      },
      {
       "metadata": {},
       "output_type": "display_data",
       "png": "[encoded data removed]",
       "text": "<matplotlib.figure.Figure at 0x13c1f4e50>"
      }
     ],
     "prompt_number": 359
    },
    {
     "cell_type": "code",
     "collapsed": false,
     "input": "l_shop_last[:2]",
     "language": "python",
     "metadata": {},
     "outputs": [
      {
       "metadata": {},
       "output_type": "pyout",
       "prompt_number": 96,
       "text": "[array([10000000, 8, 0, 0, '12:03', 'IN', 10001, 2, 0, 2, 'g', 3.0, 46, 42,\n       1, 1.0, 2.0, 1, 0, 2, 2, 1, 2, 1, 638], dtype=object),\n array([10000005, 5, 0, 3, '08:58', 'NY', 10006, 1, 0, 10, 'e', 4.0, 28, 28,\n       0, 3.0, 13.0, 0, 0, 3, 2, 0, 0, 2, 731], dtype=object)]"
      }
     ],
     "prompt_number": 96
    },
    {
     "cell_type": "code",
     "collapsed": false,
     "input": "#save l_shop_last to file\nimport csv\ncsvfile = csv_dir + 'shop_last.csv'\nwith open(csvfile, \"wb\") as output:\n    writer = csv.writer(output, delimiter=',',lineterminator='\\n')\n    for val in l_shop_last:\n        writer.writerow(val)",
     "language": "python",
     "metadata": {},
     "outputs": [],
     "prompt_number": 307
    },
    {
     "cell_type": "code",
     "collapsed": false,
     "input": "df_shop_last = pd.DataFrame(l_shop_last, columns=list(df_purchase.columns)).set_index(['customer_ID'])",
     "language": "python",
     "metadata": {},
     "outputs": [],
     "prompt_number": 97
    },
    {
     "cell_type": "markdown",
     "metadata": {},
     "source": "## Evaluation Method"
    },
    {
     "cell_type": "code",
     "collapsed": false,
     "input": "# evaluation - compare what % of correct matches of predicted to actual \n# evaluation depends on the global l_options and maybe it should not\ndef evaluation(df_predicted, df_actual):\n    num_options = len(l_options)                            # number of options\n    df_r = df_predicted[l_options] == df_actual[l_options]  # find all options that do no match\n    df_diff = df_r[df_r.apply(np.sum,axis=1) < num_options] # select all rows with at least one False\n    return float(len(df_diff)) / float(len(df_predicted))   # total non-matching options / total options",
     "language": "python",
     "metadata": {},
     "outputs": [],
     "prompt_number": 98
    },
    {
     "cell_type": "code",
     "collapsed": false,
     "input": "# test evaluation by comparing a set to itself and see if it returns a 1 . \nans = evaluation(df_train, df_train)\nans == 1",
     "language": "python",
     "metadata": {},
     "outputs": [
      {
       "metadata": {},
       "output_type": "pyout",
       "prompt_number": 100,
       "text": "False"
      }
     ],
     "prompt_number": 100
    },
    {
     "cell_type": "markdown",
     "metadata": {},
     "source": "## Benchmarks\n### Last quoted plan benchmark\nKaggle reports that Submitting the most recent quoted options for each customer attains a 0.53793, currently ranked at 158 of 870 (2014-04-12).\n\nWe only get 0.312 on the full train data set"
    },
    {
     "cell_type": "code",
     "collapsed": false,
     "input": "df_purchase_x = df_purchase.set_index(['customer_ID'])\nevaluation(df_shop_last,df_purchase_x)",
     "language": "python",
     "metadata": {},
     "outputs": [
      {
       "metadata": {},
       "output_type": "pyout",
       "prompt_number": 102,
       "text": "0.3121050624168892"
      }
     ],
     "prompt_number": 102
    },
    {
     "cell_type": "code",
     "collapsed": false,
     "input": "df_purchase_x[l_options][:5]",
     "language": "python",
     "metadata": {},
     "outputs": [
      {
       "html": "<div style=\"max-height:1000px;max-width:1500px;overflow:auto;\">\n<table border=\"1\" class=\"dataframe\">\n  <thead>\n    <tr style=\"text-align: right;\">\n      <th></th>\n      <th>A</th>\n      <th>B</th>\n      <th>C</th>\n      <th>D</th>\n      <th>E</th>\n      <th>F</th>\n      <th>G</th>\n    </tr>\n    <tr>\n      <th>customer_ID</th>\n      <th></th>\n      <th></th>\n      <th></th>\n      <th></th>\n      <th></th>\n      <th></th>\n      <th></th>\n    </tr>\n  </thead>\n  <tbody>\n    <tr>\n      <th>10000000</th>\n      <td> 1</td>\n      <td> 0</td>\n      <td> 2</td>\n      <td> 2</td>\n      <td> 1</td>\n      <td> 2</td>\n      <td> 1</td>\n    </tr>\n    <tr>\n      <th>10000005</th>\n      <td> 0</td>\n      <td> 0</td>\n      <td> 3</td>\n      <td> 2</td>\n      <td> 0</td>\n      <td> 0</td>\n      <td> 2</td>\n    </tr>\n    <tr>\n      <th>10000007</th>\n      <td> 0</td>\n      <td> 0</td>\n      <td> 1</td>\n      <td> 2</td>\n      <td> 0</td>\n      <td> 0</td>\n      <td> 1</td>\n    </tr>\n    <tr>\n      <th>10000013</th>\n      <td> 1</td>\n      <td> 1</td>\n      <td> 3</td>\n      <td> 2</td>\n      <td> 1</td>\n      <td> 1</td>\n      <td> 3</td>\n    </tr>\n    <tr>\n      <th>10000014</th>\n      <td> 1</td>\n      <td> 1</td>\n      <td> 1</td>\n      <td> 1</td>\n      <td> 0</td>\n      <td> 2</td>\n      <td> 2</td>\n    </tr>\n  </tbody>\n</table>\n<p>5 rows \u00d7 7 columns</p>\n</div>",
       "metadata": {},
       "output_type": "pyout",
       "prompt_number": 563,
       "text": "             A  B  C  D  E  F  G\ncustomer_ID                     \n10000000     1  0  2  2  1  2  1\n10000005     0  0  3  2  0  0  2\n10000007     0  0  1  2  0  0  1\n10000013     1  1  3  2  1  1  3\n10000014     1  1  1  1  0  2  2\n\n[5 rows x 7 columns]"
      }
     ],
     "prompt_number": 563
    },
    {
     "cell_type": "code",
     "collapsed": false,
     "input": "df_shop_last[l_options][:5]",
     "language": "python",
     "metadata": {},
     "outputs": [
      {
       "html": "<div style=\"max-height:1000px;max-width:1500px;overflow:auto;\">\n<table border=\"1\" class=\"dataframe\">\n  <thead>\n    <tr style=\"text-align: right;\">\n      <th></th>\n      <th>A</th>\n      <th>B</th>\n      <th>C</th>\n      <th>D</th>\n      <th>E</th>\n      <th>F</th>\n      <th>G</th>\n    </tr>\n    <tr>\n      <th>customer_ID</th>\n      <th></th>\n      <th></th>\n      <th></th>\n      <th></th>\n      <th></th>\n      <th></th>\n      <th></th>\n    </tr>\n  </thead>\n  <tbody>\n    <tr>\n      <th>10000000</th>\n      <td> 1</td>\n      <td> 0</td>\n      <td> 2</td>\n      <td> 2</td>\n      <td> 1</td>\n      <td> 2</td>\n      <td> 1</td>\n    </tr>\n    <tr>\n      <th>10000005</th>\n      <td> 0</td>\n      <td> 0</td>\n      <td> 3</td>\n      <td> 2</td>\n      <td> 0</td>\n      <td> 0</td>\n      <td> 2</td>\n    </tr>\n    <tr>\n      <th>10000007</th>\n      <td> 0</td>\n      <td> 0</td>\n      <td> 2</td>\n      <td> 2</td>\n      <td> 0</td>\n      <td> 0</td>\n      <td> 1</td>\n    </tr>\n    <tr>\n      <th>10000013</th>\n      <td> 1</td>\n      <td> 1</td>\n      <td> 3</td>\n      <td> 2</td>\n      <td> 1</td>\n      <td> 1</td>\n      <td> 3</td>\n    </tr>\n    <tr>\n      <th>10000014</th>\n      <td> 1</td>\n      <td> 1</td>\n      <td> 1</td>\n      <td> 1</td>\n      <td> 0</td>\n      <td> 2</td>\n      <td> 2</td>\n    </tr>\n  </tbody>\n</table>\n<p>5 rows \u00d7 7 columns</p>\n</div>",
       "metadata": {},
       "output_type": "pyout",
       "prompt_number": 564,
       "text": "             A  B  C  D  E  F  G\ncustomer_ID                     \n10000000     1  0  2  2  1  2  1\n10000005     0  0  3  2  0  0  2\n10000007     0  0  2  2  0  0  1\n10000013     1  1  3  2  1  1  3\n10000014     1  1  1  1  0  2  2\n\n[5 rows x 7 columns]"
      }
     ],
     "prompt_number": 564
    },
    {
     "cell_type": "code",
     "collapsed": false,
     "input": "# get the last row of every shop transaction in the test set\ndf_test_grouped = df_test.groupby('customer_ID')\nlen(df_test_grouped) # number of users making purchases in the test set.",
     "language": "python",
     "metadata": {},
     "outputs": [
      {
       "metadata": {},
       "output_type": "pyout",
       "prompt_number": 447,
       "text": "55716"
      }
     ],
     "prompt_number": 447
    },
    {
     "cell_type": "code",
     "collapsed": false,
     "input": "df_test_last = df_test_grouped.apply(lambda group: group[group['shopping_pt'] == len(group)]).set_index('customer_ID')\ndf_test_last[:2]",
     "language": "python",
     "metadata": {},
     "outputs": [
      {
       "html": "<div style=\"max-height:1000px;max-width:1500px;overflow:auto;\">\n<table border=\"1\" class=\"dataframe\">\n  <thead>\n    <tr style=\"text-align: right;\">\n      <th></th>\n      <th>shopping_pt</th>\n      <th>record_type</th>\n      <th>day</th>\n      <th>time</th>\n      <th>state</th>\n      <th>location</th>\n      <th>group_size</th>\n      <th>homeowner</th>\n      <th>car_age</th>\n      <th>car_value</th>\n      <th>risk_factor</th>\n      <th>age_oldest</th>\n      <th>age_youngest</th>\n      <th>married_couple</th>\n      <th>C_previous</th>\n      <th>duration_previous</th>\n      <th>A</th>\n      <th>B</th>\n      <th>C</th>\n      <th>D</th>\n      <th></th>\n    </tr>\n    <tr>\n      <th>customer_ID</th>\n      <th></th>\n      <th></th>\n      <th></th>\n      <th></th>\n      <th></th>\n      <th></th>\n      <th></th>\n      <th></th>\n      <th></th>\n      <th></th>\n      <th></th>\n      <th></th>\n      <th></th>\n      <th></th>\n      <th></th>\n      <th></th>\n      <th></th>\n      <th></th>\n      <th></th>\n      <th></th>\n    </tr>\n  </thead>\n  <tbody>\n    <tr>\n      <th>10000001</th>\n      <td> 2</td>\n      <td> 0</td>\n      <td> 1</td>\n      <td> 12:36</td>\n      <td> OK</td>\n      <td> 10002</td>\n      <td> 1</td>\n      <td> 0</td>\n      <td> 9</td>\n      <td> f</td>\n      <td>NaN</td>\n      <td> 24</td>\n      <td> 24</td>\n      <td> 0</td>\n      <td> 3</td>\n      <td>  9</td>\n      <td> 2</td>\n      <td> 1</td>\n      <td> 1</td>\n      <td> 3</td>\n      <td>...</td>\n    </tr>\n    <tr>\n      <th>10000002</th>\n      <td> 2</td>\n      <td> 0</td>\n      <td> 4</td>\n      <td> 12:21</td>\n      <td> PA</td>\n      <td> 10003</td>\n      <td> 1</td>\n      <td> 1</td>\n      <td> 7</td>\n      <td> f</td>\n      <td>NaN</td>\n      <td> 74</td>\n      <td> 74</td>\n      <td> 0</td>\n      <td> 2</td>\n      <td> 15</td>\n      <td> 2</td>\n      <td> 0</td>\n      <td> 2</td>\n      <td> 3</td>\n      <td>...</td>\n    </tr>\n  </tbody>\n</table>\n<p>2 rows \u00d7 24 columns</p>\n</div>",
       "metadata": {},
       "output_type": "pyout",
       "prompt_number": 448,
       "text": "             shopping_pt  record_type  day   time state  location  group_size  \\\ncustomer_ID                                                                     \n10000001               2            0    1  12:36    OK     10002           1   \n10000002               2            0    4  12:21    PA     10003           1   \n\n             homeowner  car_age car_value  risk_factor  age_oldest  \\\ncustomer_ID                                                          \n10000001             0        9         f          NaN          24   \n10000002             1        7         f          NaN          74   \n\n             age_youngest  married_couple  C_previous  duration_previous  A  \\\ncustomer_ID                                                                   \n10000001               24               0           3                  9  2   \n10000002               74               0           2                 15  2   \n\n             B  C  D      \ncustomer_ID               \n10000001     1  1  3 ...  \n10000002     0  2  3 ...  \n\n[2 rows x 24 columns]"
      }
     ],
     "prompt_number": 448
    },
    {
     "cell_type": "code",
     "collapsed": false,
     "input": "",
     "language": "python",
     "metadata": {},
     "outputs": []
    },
    {
     "cell_type": "code",
     "collapsed": false,
     "input": "# return a set of options in a DataFrame as a list of vectors \ndef opt_vectors(df,numeric=True):\n    l_vectors = []\n    powers = [10**x for x in range(len(l_options))]\n    powers.reverse()\n    for v in df.index:\n        vec = 0\n        if numeric:\n            vec = sum([x*y for x,y in zip(df.ix[v][l_options].values,powers)])\n        else:\n            vec = ''.join(map(str,df.ix[v][l_options].values))   \n        l_vectors.append([v] + [vec])\n    return l_vectors",
     "language": "python",
     "metadata": {},
     "outputs": [],
     "prompt_number": 69
    },
    {
     "cell_type": "code",
     "collapsed": false,
     "input": "test_last_opts = opt_vectors(df_test_last, numeric=True)",
     "language": "python",
     "metadata": {},
     "outputs": [
      {
       "output_type": "stream",
       "stream": "stdout",
       "text": "2113132\n2023122\n1021022\n2011123\n11001\n"
      }
     ],
     "prompt_number": 31
    },
    {
     "cell_type": "code",
     "collapsed": false,
     "input": "test_last_opts[:5]",
     "language": "python",
     "metadata": {},
     "outputs": [
      {
       "metadata": {},
       "output_type": "pyout",
       "prompt_number": 154,
       "text": "[[10000001, '2113132'],\n [10000002, '2023122'],\n [10000003, '1021022'],\n [10000004, '2011123'],\n [10000006, '0011001']]"
      }
     ],
     "prompt_number": 154
    },
    {
     "cell_type": "code",
     "collapsed": false,
     "input": "# save shop_kinds to file\ncsvfile = csv_dir + 'test_last.csv'\nwith open(csvfile, \"wb\") as output:\n    writer = csv.writer(output, delimiter=',',lineterminator='\\n')\n    writer.writerow('customer_ID,plan')\n    for row in test_last_opts:\n        writer.writerow(row)",
     "language": "python",
     "metadata": {},
     "outputs": [],
     "prompt_number": 157
    },
    {
     "cell_type": "markdown",
     "metadata": {},
     "source": "submitting test_last.csv does in fact attain the 0.53793 quoted in the leaderboard as the 'last quoted plan' benchmark, with a rank of 608 (2014-04-12), even though the % is 0.31 for the training data."
    },
    {
     "cell_type": "code",
     "collapsed": false,
     "input": "#create a list of 'vectors' that represent the union of all options during shopping as one number.\n\nl_shop_kinds = []\nfor v in df_shop.index:\n    vec = 0\n    for i in range(len(l_options)):\n        vec  += df_shop.ix[v][l_options[i]]*10**(6-i)\n    l_shop_kinds_1.append(vec)",
     "language": "python",
     "metadata": {},
     "outputs": [],
     "prompt_number": 35
    },
    {
     "cell_type": "code",
     "collapsed": false,
     "input": "# save shop_kinds to file\ncsvfile = dcsv_dir + 'shop_kinds.csv'\nwith open(csvfile, \"wb\") as output:\n    writer = csv.writer(output, delimiter=',',lineterminator='\\n')\n    for row in l_shop_kinds:\n        writer.writerow([row])",
     "language": "python",
     "metadata": {},
     "outputs": [],
     "prompt_number": 492
    },
    {
     "cell_type": "code",
     "collapsed": false,
     "input": "#create a list of 'vectors' that represent the union of all options at final purchase time as one number.\n# this should use the function form as used for l_shop_kinds above, but needs to be converted\n\nl_purchase_kinds = []\nfor v in df_purchase.index:\n    vec = 0\n    for i in range(len(l_options)):\n        vec  += df_purchase.ix[v][l_options[i]]*10**(6-i)\n    l_purchase_kinds.append(vec)",
     "language": "python",
     "metadata": {},
     "outputs": [],
     "prompt_number": 113
    },
    {
     "cell_type": "code",
     "collapsed": false,
     "input": "l_purchase_kinds[:2]",
     "language": "python",
     "metadata": {},
     "outputs": [
      {
       "metadata": {},
       "output_type": "pyout",
       "prompt_number": 114,
       "text": "[1022121, 32002]"
      }
     ],
     "prompt_number": 114
    },
    {
     "cell_type": "code",
     "collapsed": false,
     "input": "csvfile = csv_dir + 'purchase_kinds.csv'\nwith open(csvfile, \"wb\") as output:\n    writer = csv.writer(output, delimiter=',',lineterminator='\\n')\n    for row in l_purchase_kinds:\n        writer.writerow([row])",
     "language": "python",
     "metadata": {},
     "outputs": [],
     "prompt_number": 494
    },
    {
     "cell_type": "code",
     "collapsed": false,
     "input": "len(l_purchase_kinds)",
     "language": "python",
     "metadata": {},
     "outputs": [
      {
       "metadata": {},
       "output_type": "pyout",
       "prompt_number": 516,
       "text": "97009"
      }
     ],
     "prompt_number": 516
    },
    {
     "cell_type": "code",
     "collapsed": false,
     "input": "# How many possible options packages are there? 2034 \nlen(A) * len(B) * len(C) * len(D) * len(E) * len(F) * len(G)\n",
     "language": "python",
     "metadata": {},
     "outputs": [
      {
       "metadata": {},
       "output_type": "pyout",
       "prompt_number": 36,
       "text": "2304"
      }
     ],
     "prompt_number": 36
    },
    {
     "cell_type": "code",
     "collapsed": false,
     "input": "from collections import Counter\nc_shop_unique_count = Counter(l_shop_kinds)\nc_purchase_unique_count = Counter(l_purchase_kinds)",
     "language": "python",
     "metadata": {},
     "outputs": [
      {
       "ename": "NameError",
       "evalue": "name 'l_shop_kinds' is not defined",
       "output_type": "pyerr",
       "traceback": [
        "\u001b[0;31m---------------------------------------------------------------------------\u001b[0m\n\u001b[0;31mNameError\u001b[0m                                 Traceback (most recent call last)",
        "\u001b[0;32m<ipython-input-350-fe25b5ec7aa9>\u001b[0m in \u001b[0;36m<module>\u001b[0;34m()\u001b[0m\n\u001b[1;32m      1\u001b[0m \u001b[0;32mfrom\u001b[0m \u001b[0mcollections\u001b[0m \u001b[0;32mimport\u001b[0m \u001b[0mCounter\u001b[0m\u001b[0;34m\u001b[0m\u001b[0m\n\u001b[0;32m----> 2\u001b[0;31m \u001b[0mc_shop_unique_count\u001b[0m \u001b[0;34m=\u001b[0m \u001b[0mCounter\u001b[0m\u001b[0;34m(\u001b[0m\u001b[0ml_shop_kinds\u001b[0m\u001b[0;34m)\u001b[0m\u001b[0;34m\u001b[0m\u001b[0m\n\u001b[0m\u001b[1;32m      3\u001b[0m \u001b[0mc_purchase_unique_count\u001b[0m \u001b[0;34m=\u001b[0m \u001b[0mCounter\u001b[0m\u001b[0;34m(\u001b[0m\u001b[0ml_purchase_kinds\u001b[0m\u001b[0;34m)\u001b[0m\u001b[0;34m\u001b[0m\u001b[0m\n",
        "\u001b[0;31mNameError\u001b[0m: name 'l_shop_kinds' is not defined"
       ]
      }
     ],
     "prompt_number": 350
    },
    {
     "cell_type": "code",
     "collapsed": false,
     "input": "#How many unique shop packages, and final purchase packages?\nprint 'shop unique = ',len(c_shop_unique_count)\nprint 'purchase unique = ', len(c_purchase_unique_count)",
     "language": "python",
     "metadata": {},
     "outputs": [
      {
       "ename": "NameError",
       "evalue": "name 'c_shop_unique_count' is not defined",
       "output_type": "pyerr",
       "traceback": [
        "\u001b[0;31m---------------------------------------------------------------------------\u001b[0m\n\u001b[0;31mNameError\u001b[0m                                 Traceback (most recent call last)",
        "\u001b[0;32m<ipython-input-349-86b215af4f2a>\u001b[0m in \u001b[0;36m<module>\u001b[0;34m()\u001b[0m\n\u001b[1;32m      1\u001b[0m \u001b[0;31m#How many unique shop packages, and final purchase packages?\u001b[0m\u001b[0;34m\u001b[0m\u001b[0;34m\u001b[0m\u001b[0m\n\u001b[0;32m----> 2\u001b[0;31m \u001b[0;32mprint\u001b[0m \u001b[0;34m'shop unique = '\u001b[0m\u001b[0;34m,\u001b[0m\u001b[0mlen\u001b[0m\u001b[0;34m(\u001b[0m\u001b[0mc_shop_unique_count\u001b[0m\u001b[0;34m)\u001b[0m\u001b[0;34m\u001b[0m\u001b[0m\n\u001b[0m\u001b[1;32m      3\u001b[0m \u001b[0;32mprint\u001b[0m \u001b[0;34m'purchase unique = '\u001b[0m\u001b[0;34m,\u001b[0m \u001b[0mlen\u001b[0m\u001b[0;34m(\u001b[0m\u001b[0mc_purchase_unique_count\u001b[0m\u001b[0;34m)\u001b[0m\u001b[0;34m\u001b[0m\u001b[0m\n",
        "\u001b[0;31mNameError\u001b[0m: name 'c_shop_unique_count' is not defined"
       ]
      },
      {
       "output_type": "stream",
       "stream": "stdout",
       "text": "shop unique = "
      }
     ],
     "prompt_number": 349
    },
    {
     "cell_type": "heading",
     "level": 4,
     "metadata": {},
     "source": "So of 2304 possible packages, 1778 are shopped, and only 1522 are actually purchased"
    },
    {
     "cell_type": "markdown",
     "metadata": {},
     "source": "Let's count how many purchase transactions selected the same option package and determine the popularity of packages."
    },
    {
     "cell_type": "code",
     "collapsed": false,
     "input": "df_purchase_kinds = pd.DataFrame(l_purchase_kinds, columns=['options'], index=df_purchase.index)",
     "language": "python",
     "metadata": {},
     "outputs": [],
     "prompt_number": 115
    },
    {
     "cell_type": "code",
     "collapsed": false,
     "input": "df_purchase_kinds_groupby = df_purchase_kinds.groupby('options')",
     "language": "python",
     "metadata": {},
     "outputs": [],
     "prompt_number": 116
    },
    {
     "cell_type": "code",
     "collapsed": false,
     "input": "option_counts = df_purchase_kinds_groupby.count().sort(['options'],ascending=False)",
     "language": "python",
     "metadata": {},
     "outputs": [],
     "prompt_number": 117
    },
    {
     "cell_type": "code",
     "collapsed": false,
     "input": "option_counts.plot(kind='bar',xticks=[500,1000,1500,2000])",
     "language": "python",
     "metadata": {},
     "outputs": [
      {
       "metadata": {},
       "output_type": "pyout",
       "prompt_number": 90,
       "text": "<matplotlib.axes.AxesSubplot at 0x172bd6d90>"
      },
      {
       "metadata": {},
       "output_type": "display_data",
       "png": "[encoded data removed]",
       "text": "<matplotlib.figure.Figure at 0x1667fa510>"
      }
     ],
     "prompt_number": 90
    },
    {
     "cell_type": "code",
     "collapsed": false,
     "input": "option_counts.plot(kind='line',logy=True,use_index=False)",
     "language": "python",
     "metadata": {},
     "outputs": [
      {
       "metadata": {},
       "output_type": "pyout",
       "prompt_number": 86,
       "text": "<matplotlib.axes.AxesSubplot at 0x15a773950>"
      },
      {
       "metadata": {},
       "output_type": "display_data",
       "png": "[encoded data removed]",
       "text": "<matplotlib.figure.Figure at 0x156e26e10>"
      }
     ],
     "prompt_number": 86
    },
    {
     "cell_type": "code",
     "collapsed": false,
     "input": "option_counts[:20]",
     "language": "python",
     "metadata": {},
     "outputs": [
      {
       "html": "<div style=\"max-height:1000px;max-width:1500px;overflow:auto;\">\n<table border=\"1\" class=\"dataframe\">\n  <thead>\n    <tr style=\"text-align: right;\">\n      <th></th>\n      <th>options</th>\n    </tr>\n    <tr>\n      <th>options</th>\n      <th></th>\n    </tr>\n  </thead>\n  <tbody>\n    <tr>\n      <th>11002  </th>\n      <td> 1998</td>\n    </tr>\n    <tr>\n      <th>1133123</th>\n      <td> 1818</td>\n    </tr>\n    <tr>\n      <th>33002  </th>\n      <td> 1515</td>\n    </tr>\n    <tr>\n      <th>1133113</th>\n      <td> 1492</td>\n    </tr>\n    <tr>\n      <th>1133102</th>\n      <td> 1301</td>\n    </tr>\n    <tr>\n      <th>1133122</th>\n      <td> 1208</td>\n    </tr>\n    <tr>\n      <th>1033023</th>\n      <td> 1121</td>\n    </tr>\n    <tr>\n      <th>1133112</th>\n      <td> 1044</td>\n    </tr>\n    <tr>\n      <th>12002  </th>\n      <td> 1043</td>\n    </tr>\n    <tr>\n      <th>11001  </th>\n      <td>  961</td>\n    </tr>\n    <tr>\n      <th>1033022</th>\n      <td>  929</td>\n    </tr>\n    <tr>\n      <th>1033123</th>\n      <td>  924</td>\n    </tr>\n    <tr>\n      <th>22002  </th>\n      <td>  913</td>\n    </tr>\n    <tr>\n      <th>1033113</th>\n      <td>  857</td>\n    </tr>\n    <tr>\n      <th>1133121</th>\n      <td>  854</td>\n    </tr>\n    <tr>\n      <th>1033002</th>\n      <td>  845</td>\n    </tr>\n    <tr>\n      <th>1033013</th>\n      <td>  777</td>\n    </tr>\n    <tr>\n      <th>23002  </th>\n      <td>  722</td>\n    </tr>\n    <tr>\n      <th>1033102</th>\n      <td>  710</td>\n    </tr>\n    <tr>\n      <th>1033012</th>\n      <td>  684</td>\n    </tr>\n  </tbody>\n</table>\n<p>20 rows \u00d7 1 columns</p>\n</div>",
       "metadata": {},
       "output_type": "pyout",
       "prompt_number": 118,
       "text": "         options\noptions         \n11002       1998\n1133123     1818\n33002       1515\n1133113     1492\n1133102     1301\n1133122     1208\n1033023     1121\n1133112     1044\n12002       1043\n11001        961\n1033022      929\n1033123      924\n22002        913\n1033113      857\n1133121      854\n1033002      845\n1033013      777\n23002        722\n1033102      710\n1033012      684\n\n[20 rows x 1 columns]"
      }
     ],
     "prompt_number": 118
    },
    {
     "cell_type": "code",
     "collapsed": false,
     "input": "csvfile = csv_dir + 'train_vector.csv'\nwith open(csvfile, \"wb\") as output:\n    writer = csv.writer(output, delimiter=',',lineterminator='\\n')\n    writer.writerow(['customer_ID','shopping_pt','record_type','day,time','state','location',\\\n                     'group_size','homeowner','car_age','car_value','risk_factor','age_oldest',\\\n                     'age_youngest','married_couple','C_previous','duration_previous',\\\n                     'A','B','C','D','E','F','G','cost','vector'])\n    for customer, group in df_train_grouped:\n        last = len(group)\n        vector = group[group['shopping_pt'] == last][l_options]\n        vec = ''\n        for i in vector.values[0]:\n            vec += str(i)\n        for row in group.values:\n            writer.writerow(append(row,vec))",
     "language": "python",
     "metadata": {},
     "outputs": [],
     "prompt_number": 238
    },
    {
     "cell_type": "code",
     "collapsed": false,
     "input": "# \ndef g_trim(group):\n    vector = group[group['shopping_pt'] == len(group)][l_options]  # get the list of options at purchase\n    s_vec = 'a' + ''.join(map(str,vector.values[0]))        # make the options a string\n    # append a column 'vector' with the options string\n    group['vector'] = pd.Series([s_vec] * len(group), index=group.index) \n    return group[:len(group)-1]     # return only the shop rows without the purchase transaction\n\ndf_train_vector = df_train_grouped.apply(lambda x: g_trim(x))\n",
     "language": "python",
     "metadata": {},
     "outputs": [],
     "prompt_number": 13
    },
    {
     "cell_type": "code",
     "collapsed": false,
     "input": "# df_train_vector[:10].to_string()",
     "language": "python",
     "metadata": {},
     "outputs": [],
     "prompt_number": 9
    },
    {
     "cell_type": "code",
     "collapsed": false,
     "input": "csvfile = csv_dir + 'train_vector.csv'\ncols = l_columns + ['vector']\n\ndf_train_vector.to_csv(csvfile, cols=cols, index=False, quoting=csv.QUOTE_NONNUMERIC)",
     "language": "python",
     "metadata": {},
     "outputs": [],
     "prompt_number": 14
    },
    {
     "cell_type": "code",
     "collapsed": false,
     "input": "# how many possible permutations of the first 4 options?\nlen(l_A) * len(l_B) * len(l_C) * len(l_D) ",
     "language": "python",
     "metadata": {},
     "outputs": [
      {
       "metadata": {},
       "output_type": "pyout",
       "prompt_number": 98,
       "text": "72"
      }
     ],
     "prompt_number": 98
    },
    {
     "cell_type": "code",
     "collapsed": false,
     "input": "# how many have actually been purchased in the train set?\ndf_purchase_ix = df_purchase.set_index('customer_ID')\nl_purchase_vectors = opt_vectors(df_purchase_ix,numeric=False)",
     "language": "python",
     "metadata": {},
     "outputs": [],
     "prompt_number": 70
    },
    {
     "cell_type": "code",
     "collapsed": false,
     "input": "l_purchase_vectors[:10]",
     "language": "python",
     "metadata": {},
     "outputs": [
      {
       "metadata": {},
       "output_type": "pyout",
       "prompt_number": 43,
       "text": "[[10000000, '1022121'],\n [10000005, '0032002'],\n [10000007, '0012001'],\n [10000013, '1132113'],\n [10000014, '1111022'],\n [10000016, '2033033'],\n [10000019, '2123123'],\n [10000023, '1113112'],\n [10000025, '0011003'],\n [10000026, '1133123']]"
      }
     ],
     "prompt_number": 43
    },
    {
     "cell_type": "code",
     "collapsed": false,
     "input": "l_purchase_vectors[0][0]",
     "language": "python",
     "metadata": {},
     "outputs": [
      {
       "metadata": {},
       "output_type": "pyout",
       "prompt_number": 51,
       "text": "10000000"
      }
     ],
     "prompt_number": 51
    },
    {
     "cell_type": "code",
     "collapsed": false,
     "input": "l_purchase_vectors_truncated = []\nfor v in l_purchase_vectors:\n    l_purchase_vectors_truncated.append([v[0], v[1][:4]])",
     "language": "python",
     "metadata": {},
     "outputs": [],
     "prompt_number": 52
    },
    {
     "cell_type": "code",
     "collapsed": false,
     "input": "l_purchase_vectors_truncated[:5]",
     "language": "python",
     "metadata": {},
     "outputs": [
      {
       "metadata": {},
       "output_type": "pyout",
       "prompt_number": 53,
       "text": "[[10000000, '1022'],\n [10000005, '0032'],\n [10000007, '0012'],\n [10000013, '1132'],\n [10000014, '1111']]"
      }
     ],
     "prompt_number": 53
    },
    {
     "cell_type": "code",
     "collapsed": false,
     "input": "df_purchase_vectors = pd.DataFrame(l_purchase_vectors_truncated, columns=['customer_ID','vector']).set_index('customer_ID')",
     "language": "python",
     "metadata": {},
     "outputs": [],
     "prompt_number": 54
    },
    {
     "cell_type": "code",
     "collapsed": false,
     "input": "df_purchase_vectors_grouped = df_purchase_vectors.groupby('vector')",
     "language": "python",
     "metadata": {},
     "outputs": [],
     "prompt_number": 55
    },
    {
     "cell_type": "code",
     "collapsed": false,
     "input": "truncated_option_counts = df_purchase_vectors_grouped.count().sort(['vector'],ascending=False)",
     "language": "python",
     "metadata": {},
     "outputs": [],
     "prompt_number": 57
    },
    {
     "cell_type": "code",
     "collapsed": false,
     "input": "truncated_option_counts.plot(kind='bar')",
     "language": "python",
     "metadata": {},
     "outputs": [
      {
       "metadata": {},
       "output_type": "pyout",
       "prompt_number": 87,
       "text": "<matplotlib.axes.AxesSubplot at 0x1020d2350>"
      },
      {
       "metadata": {},
       "output_type": "display_data",
       "png": "[encoded data removed]",
       "text": "<matplotlib.figure.Figure at 0x15431c450>"
      }
     ],
     "prompt_number": 87
    },
    {
     "cell_type": "code",
     "collapsed": false,
     "input": "truncated_option_counts[:10].plot(kind='bar')",
     "language": "python",
     "metadata": {},
     "outputs": [
      {
       "metadata": {},
       "output_type": "pyout",
       "prompt_number": 89,
       "text": "<matplotlib.axes.AxesSubplot at 0x156578c10>"
      },
      {
       "metadata": {},
       "output_type": "display_data",
       "png": "[encoded data removed]",
       "text": "<matplotlib.figure.Figure at 0x153fa1350>"
      }
     ],
     "prompt_number": 89
    },
    {
     "cell_type": "code",
     "collapsed": false,
     "input": "# the first 10 options hold half (50%) the plans\nprint truncated_option_counts.sum()\nprint truncated_option_counts[:10].sum()",
     "language": "python",
     "metadata": {},
     "outputs": [
      {
       "output_type": "stream",
       "stream": "stdout",
       "text": "vector    97009\ndtype: int64\nvector    50405\ndtype: int64\n"
      }
     ],
     "prompt_number": 75
    },
    {
     "cell_type": "code",
     "collapsed": false,
     "input": "#the first 2 options hole 25% !\ntruncated_option_counts[:2].sum()",
     "language": "python",
     "metadata": {},
     "outputs": [
      {
       "metadata": {},
       "output_type": "pyout",
       "prompt_number": 78,
       "text": "vector    24225\ndtype: int64"
      }
     ],
     "prompt_number": 78
    },
    {
     "cell_type": "code",
     "collapsed": false,
     "input": "# how many plans are actually bought?  \nlen(truncated_option_counts.index)",
     "language": "python",
     "metadata": {},
     "outputs": [
      {
       "metadata": {},
       "output_type": "pyout",
       "prompt_number": 74,
       "text": "71"
      }
     ],
     "prompt_number": 74
    },
    {
     "cell_type": "code",
     "collapsed": false,
     "input": "len(l_E) * len(l_F) * len(l_G)",
     "language": "python",
     "metadata": {},
     "outputs": [
      {
       "metadata": {},
       "output_type": "pyout",
       "prompt_number": 99,
       "text": "32"
      }
     ],
     "prompt_number": 99
    },
    {
     "cell_type": "markdown",
     "metadata": {},
     "source": "The Kaggle leaderboard has 935 entrants, and the \"last quoted plan benchmark\" is ranked at 176 with a 0.53793 .  I was able to reproduce the same result, even thought \"last quoted plan\" on the train data attained a low 0.31 or so .  The top result has a 0.54338, for an improvement over the benchmark of 0.00545 , which is really small.  The test set has 55716 users making transactions.  55716 * 0.00545 = 303.65 . So we basically have to get 303 correct predictions to be top ranked.\n\nThere are 72 possible combinations of options if we consider just the first 4 options, and 71 of them actually appear as transactions.  But ranking the count of the 97009 purchase transactions by these options (just the first 4) shows that the top 10 account for 50405 purchases, or more than 50% of all transactions.  The top 2 : 1133XXX and 1033XXX add up to 24225 purchases, 25% of all purchases. \n\nSo if we just try to predict option plans for the 1133XXX and 1033XXX subset we should be able to make substantial gains. There are 32 possible XXX options, so 64 options sets for the two sets.\n\nCan I formulate it as a classifier with 64 classes?"
    },
    {
     "cell_type": "code",
     "collapsed": false,
     "input": "df_train_1133 = df_train.query('shopping_pt==1 & A==1 & B==1 & C==3 & D==3')",
     "language": "python",
     "metadata": {},
     "outputs": [],
     "prompt_number": 343
    },
    {
     "cell_type": "code",
     "collapsed": false,
     "input": "s_customers_1133 = df_train_1133['customer_ID']",
     "language": "python",
     "metadata": {},
     "outputs": [],
     "prompt_number": 344
    },
    {
     "cell_type": "code",
     "collapsed": false,
     "input": "print len(s_customers_1133)\nprint s_customers_1133[:3]",
     "language": "python",
     "metadata": {},
     "outputs": [
      {
       "output_type": "stream",
       "stream": "stdout",
       "text": "16054\n9     10000005\n27    10000014\n33    10000016\nName: customer_ID, dtype: int64\n"
      }
     ],
     "prompt_number": 345
    },
    {
     "cell_type": "code",
     "collapsed": false,
     "input": "float(len(df_train_1133.index)) / len(df_train.index)",
     "language": "python",
     "metadata": {},
     "outputs": [
      {
       "metadata": {},
       "output_type": "pyout",
       "prompt_number": 194,
       "text": "0.16514718548994436"
      }
     ],
     "prompt_number": 194
    },
    {
     "cell_type": "markdown",
     "metadata": {},
     "source": "## Generate 20 Models where each option is a target variable"
    },
    {
     "cell_type": "code",
     "collapsed": false,
     "input": "# return a list of lists containing the last shop transaction (not the purchase) with the option opt in the purchase in column opt2\n\ndef extract_option(group, opt, opt2):\n    row = group[group['shopping_pt'] == len(group)-1]\n    row[opt2] = group[group['shopping_pt'] == len(group)][opt].values\n    return row",
     "language": "python",
     "metadata": {},
     "outputs": [],
     "prompt_number": 249
    },
    {
     "cell_type": "code",
     "collapsed": false,
     "input": "df_option_A = df_train_grouped.apply(lambda x: extract_option(x, 'A', 'XA')).set_index('customer_ID')",
     "language": "python",
     "metadata": {},
     "outputs": [],
     "prompt_number": 293
    },
    {
     "cell_type": "code",
     "collapsed": false,
     "input": "df_option_A_is_0 = df_option_A.replace({'XA': {1: 2}})\ndf_option_A_is_0.replace({'XA': {0: 1}},inplace=True)\ndf_option_A_is_0.replace({'XA': {2: 0}},inplace=True)\ndf_option_A_is_0.rename(columns={'XA': 'A_is_0'}, inplace=True)\ndf_option_A_is_0.to_csv(csv_dir + 'train_shop_A_is_0.csv')",
     "language": "python",
     "metadata": {},
     "outputs": [],
     "prompt_number": 298
    },
    {
     "cell_type": "code",
     "collapsed": false,
     "input": "df_option_A_is_1 = df_option_A.replace({'XA': {2: 0}})\ndf_option_A_is_1.rename(columns={'XA': 'A_is_1'}, inplace=True)\ndf_option_A_is_1.to_csv(csv_dir + 'train_shop_A_is_1.csv')",
     "language": "python",
     "metadata": {},
     "outputs": [],
     "prompt_number": 300
    },
    {
     "cell_type": "code",
     "collapsed": false,
     "input": "df_option_A_is_2 = df_option_A.replace({'XA': {1: 0}})\ndf_option_A_is_2.replace({'XA': {2: 1}},inplace=True)\ndf_option_A_is_2.rename(columns={'XA': 'A_is_2'}, inplace=True)\ndf_option_A_is_2.to_csv(csv_dir + 'train_shop_A_is_2.csv')",
     "language": "python",
     "metadata": {},
     "outputs": [],
     "prompt_number": 301
    },
    {
     "cell_type": "code",
     "collapsed": false,
     "input": "df_option_B = df_train_grouped.apply(lambda x: extract_option(x, 'B', 'XB')).set_index('customer_ID')",
     "language": "python",
     "metadata": {},
     "outputs": [],
     "prompt_number": 324
    },
    {
     "cell_type": "code",
     "collapsed": false,
     "input": "df_option_B_is_1 = df_option_B\ndf_option_B_is_1.rename(columns={'XB': 'B_is_1'}, inplace=True)\ndf_option_B_is_1.to_csv(csv_dir + 'train_shop_B_is_1.csv')",
     "language": "python",
     "metadata": {},
     "outputs": [
      {
       "output_type": "stream",
       "stream": "stdout",
       "text": "\n"
      }
     ],
     "prompt_number": 352
    },
    {
     "cell_type": "code",
     "collapsed": false,
     "input": "df_option_C = df_train_grouped.apply(lambda x: extract_option(x, 'C', 'XC')).set_index('customer_ID')",
     "language": "python",
     "metadata": {},
     "outputs": [],
     "prompt_number": 302
    },
    {
     "cell_type": "code",
     "collapsed": false,
     "input": "df_option_C_is_1 = df_option_C.replace({'XC': {2: 0}})\ndf_option_C_is_1.replace({'XC': {3: 0}},inplace=True)\ndf_option_C_is_1.replace({'XC': {4: 0}},inplace=True)\ndf_option_C_is_1.rename(columns={'XC': 'C_is_1'}, inplace=True)\ndf_option_C_is_1.to_csv(csv_dir + 'train_shop_C_is_1.csv')",
     "language": "python",
     "metadata": {},
     "outputs": [],
     "prompt_number": 309
    },
    {
     "cell_type": "code",
     "collapsed": false,
     "input": "df_option_C_is_2 = df_option_C.replace({'XC': {1: 0}})\ndf_option_C_is_2.replace({'XC': {2: 1}},inplace=True)\ndf_option_C_is_2.replace({'XC': {3: 0}},inplace=True)\ndf_option_C_is_2.replace({'XC': {4: 0}},inplace=True)\ndf_option_C_is_2.rename(columns={'XC': 'C_is_2'}, inplace=True)\ndf_option_C_is_2.to_csv(csv_dir + 'train_shop_C_is_2.csv')",
     "language": "python",
     "metadata": {},
     "outputs": [],
     "prompt_number": 310
    },
    {
     "cell_type": "code",
     "collapsed": false,
     "input": "df_option_C_is_3 = df_option_C.replace({'XC': {1: 0}})\ndf_option_C_is_3.replace({'XC': {2: 0}},inplace=True)\ndf_option_C_is_3.replace({'XC': {3: 1}},inplace=True)\ndf_option_C_is_3.replace({'XC': {4: 0}},inplace=True)\ndf_option_C_is_3.rename(columns={'XC': 'C_is_3'}, inplace=True)\ndf_option_C_is_3.to_csv(csv_dir + 'train_shop_C_is_3.csv')",
     "language": "python",
     "metadata": {},
     "outputs": [],
     "prompt_number": 311
    },
    {
     "cell_type": "code",
     "collapsed": false,
     "input": "df_option_C_is_4 = df_option_C.replace({'XC': {1: 0}})\ndf_option_C_is_4.replace({'XC': {2: 0}},inplace=True)\ndf_option_C_is_4.replace({'XC': {3: 0}},inplace=True)\ndf_option_C_is_4.replace({'XC': {4: 1}},inplace=True)\ndf_option_C_is_4.rename(columns={'XC': 'C_is_4'}, inplace=True)\ndf_option_C_is_4.to_csv(csv_dir + 'train_shop_C_is_4.csv')",
     "language": "python",
     "metadata": {},
     "outputs": [],
     "prompt_number": 312
    },
    {
     "cell_type": "code",
     "collapsed": false,
     "input": "df_option_D = df_train_grouped.apply(lambda x: extract_option(x, 'D', 'XD')).set_index('customer_ID')",
     "language": "python",
     "metadata": {},
     "outputs": [],
     "prompt_number": 314
    },
    {
     "cell_type": "code",
     "collapsed": false,
     "input": "df_option_D_is_1 = df_option_D.replace({'XD': {2: 0}})\ndf_option_D_is_1.replace({'XD': {3: 0}},inplace=True)\ndf_option_D_is_1.rename(columns={'XD': 'D_is_1'}, inplace=True)\ndf_option_D_is_1.to_csv(csv_dir + 'train_shop_D_is_1.csv')",
     "language": "python",
     "metadata": {},
     "outputs": [],
     "prompt_number": 315
    },
    {
     "cell_type": "code",
     "collapsed": false,
     "input": "df_option_D_is_2 = df_option_D.replace({'XD': {1: 0}})\ndf_option_D_is_2.replace({'XD': {2: 1}},inplace=True)\ndf_option_D_is_2.replace({'XD': {3: 0}},inplace=True)\ndf_option_D_is_2.rename(columns={'XD': 'D_is_2'}, inplace=True)\ndf_option_D_is_2.to_csv(csv_dir + 'train_shop_D_is_2.csv')",
     "language": "python",
     "metadata": {},
     "outputs": [],
     "prompt_number": 316
    },
    {
     "cell_type": "code",
     "collapsed": false,
     "input": "df_option_D_is_3 = df_option_D.replace({'XD': {1: 0}})\ndf_option_D_is_3.replace({'XD': {2: 0}},inplace=True)\ndf_option_D_is_3.replace({'XD': {3: 1}},inplace=True)\ndf_option_D_is_3.rename(columns={'XD': 'D_is_3'}, inplace=True)\ndf_option_D_is_3.to_csv(csv_dir + 'train_shop_D_is_3.csv')",
     "language": "python",
     "metadata": {},
     "outputs": [],
     "prompt_number": 317
    },
    {
     "cell_type": "code",
     "collapsed": false,
     "input": "df_option_E = df_train_grouped.apply(lambda x: extract_option(x, 'E', 'XE')).set_index('customer_ID')",
     "language": "python",
     "metadata": {},
     "outputs": [],
     "prompt_number": 318
    },
    {
     "cell_type": "code",
     "collapsed": false,
     "input": "df_option_E_is_1 = df_option_E\ndf_option_E_is_1.rename(columns={'XE': 'E_is_1'}, inplace=True)\ndf_option_E_is_1.to_csv(csv_dir + 'train_shop_E_is_1.csv')",
     "language": "python",
     "metadata": {},
     "outputs": [],
     "prompt_number": 319
    },
    {
     "cell_type": "code",
     "collapsed": false,
     "input": "df_option_F = df_train_grouped.apply(lambda x: extract_option(x, 'F', 'XF')).set_index('customer_ID')",
     "language": "python",
     "metadata": {},
     "outputs": [],
     "prompt_number": 326
    },
    {
     "cell_type": "code",
     "collapsed": false,
     "input": "df_option_F_is_0 = df_option_F.replace({'XF': {1: 2}})\ndf_option_F_is_0.replace({'XF': {0: 1}},inplace=True)\ndf_option_F_is_0.replace({'XF': {2: 0}},inplace=True)\ndf_option_F_is_0.replace({'XF': {3: 0}},inplace=True)\ndf_option_F_is_0.rename(columns={'XF': 'F_is_0'}, inplace=True)\ndf_option_F_is_0.to_csv(csv_dir + 'train_shop_F_is_0.csv')",
     "language": "python",
     "metadata": {},
     "outputs": [],
     "prompt_number": 327
    },
    {
     "cell_type": "code",
     "collapsed": false,
     "input": "df_option_F_is_1 = df_option_F.replace({'XF': {2: 0}})\ndf_option_F_is_1.replace({'XF': {3: 0}},inplace=True)\ndf_option_F_is_1.rename(columns={'XF': 'F_is_1'}, inplace=True)\ndf_option_F_is_1.to_csv(csv_dir + 'train_shop_F_is_1.csv')",
     "language": "python",
     "metadata": {},
     "outputs": [],
     "prompt_number": 328
    },
    {
     "cell_type": "code",
     "collapsed": false,
     "input": "df_option_F_is_2 = df_option_F.replace({'XF': {1: 0}})\ndf_option_F_is_2.replace({'XF': {2: 1}},inplace=True)\ndf_option_F_is_2.replace({'XF': {3: 0}},inplace=True)\ndf_option_F_is_2.rename(columns={'XF': 'F_is_2'}, inplace=True)\ndf_option_F_is_2.to_csv(csv_dir + 'train_shop_F_is_2.csv')",
     "language": "python",
     "metadata": {},
     "outputs": [],
     "prompt_number": 329
    },
    {
     "cell_type": "code",
     "collapsed": false,
     "input": "df_option_F_is_3 = df_option_F.replace({'XF': {1: 0}})\ndf_option_F_is_3.replace({'XF': {2: 0}},inplace=True)\ndf_option_F_is_3.replace({'XF': {3: 1}},inplace=True)\ndf_option_F_is_3.rename(columns={'XF': 'F_is_3'}, inplace=True)\ndf_option_F_is_3.to_csv(csv_dir + 'train_shop_F_is_3.csv')",
     "language": "python",
     "metadata": {},
     "outputs": [],
     "prompt_number": 330
    },
    {
     "cell_type": "code",
     "collapsed": false,
     "input": "df_option_G = df_train_grouped.apply(lambda x: extract_option(x, 'G', 'XG')).set_index('customer_ID')",
     "language": "python",
     "metadata": {},
     "outputs": [],
     "prompt_number": 331
    },
    {
     "cell_type": "code",
     "collapsed": false,
     "input": "df_option_G_is_1 = df_option_G.replace({'XG': {2: 0}})\ndf_option_G_is_1.replace({'XG': {3: 0}},inplace=True)\ndf_option_G_is_1.replace({'XG': {4: 0}},inplace=True)\ndf_option_G_is_1.rename(columns={'XG': 'G_is_1'}, inplace=True)\ndf_option_G_is_1.to_csv(csv_dir + 'train_shop_G_is_1.csv')",
     "language": "python",
     "metadata": {},
     "outputs": [],
     "prompt_number": 360
    },
    {
     "cell_type": "code",
     "collapsed": false,
     "input": "df_option_G_is_2 = df_option_G.replace({'XG': {1: 0}})\ndf_option_G_is_2.replace({'XG': {2: 1}},inplace=True)\ndf_option_G_is_2.replace({'XG': {3: 0}},inplace=True)\ndf_option_G_is_2.replace({'XG': {4: 0}},inplace=True)\ndf_option_G_is_2.rename(columns={'XG': 'G_is_2'}, inplace=True)\ndf_option_G_is_2.to_csv(csv_dir + 'train_shop_G_is_2.csv')",
     "language": "python",
     "metadata": {},
     "outputs": [],
     "prompt_number": 361
    },
    {
     "cell_type": "code",
     "collapsed": false,
     "input": "df_option_G_is_3 = df_option_G.replace({'XG': {1: 0}})\ndf_option_G_is_3.replace({'XG': {2: 0}},inplace=True)\ndf_option_G_is_3.replace({'XG': {3: 1}},inplace=True)\ndf_option_G_is_3.replace({'XG': {4: 0}},inplace=True)\ndf_option_G_is_3.rename(columns={'XG': 'G_is_3'}, inplace=True)\ndf_option_G_is_3.to_csv(csv_dir + 'train_shop_G_is_3.csv')",
     "language": "python",
     "metadata": {},
     "outputs": [],
     "prompt_number": 362
    },
    {
     "cell_type": "code",
     "collapsed": false,
     "input": "df_option_G_is_4 = df_option_G.replace({'XG': {1: 0}})\ndf_option_G_is_4.replace({'XG': {2: 0}},inplace=True)\ndf_option_G_is_4.replace({'XG': {3: 0}},inplace=True)\ndf_option_G_is_4.replace({'XG': {4: 1}},inplace=True)\ndf_option_G_is_4.rename(columns={'XG': 'G_is_4'}, inplace=True)\ndf_option_G_is_4.to_csv(csv_dir + 'train_shop_G_is_4.csv')",
     "language": "python",
     "metadata": {},
     "outputs": [],
     "prompt_number": 363
    },
    {
     "cell_type": "markdown",
     "metadata": {},
     "source": "Look at B VS. State"
    },
    {
     "cell_type": "code",
     "collapsed": false,
     "input": "print len(df_option_B_is_1.query('B != B_is_1'))\nXB_0 = df_option_B_is_1.query('B == 0').groupby('state').count()['state']\nXB_1 = df_option_B_is_1.query('B == 1').groupby('state').count()['state']\ndf_XB_state = pd.DataFrame({'0': XB_0, '1': XB_1})\ndf_XB_state.sort(['0','1'], ascending=[0,0])",
     "language": "python",
     "metadata": {},
     "outputs": [
      {
       "output_type": "stream",
       "stream": "stdout",
       "text": "6392\n"
      },
      {
       "html": "<div style=\"max-height:1000px;max-width:1500px;overflow:auto;\">\n<table border=\"1\" class=\"dataframe\">\n  <thead>\n    <tr style=\"text-align: right;\">\n      <th></th>\n      <th>0</th>\n      <th>1</th>\n    </tr>\n    <tr>\n      <th>state</th>\n      <th></th>\n      <th></th>\n    </tr>\n  </thead>\n  <tbody>\n    <tr>\n      <th>NY</th>\n      <td> 7729</td>\n      <td> 5932</td>\n    </tr>\n    <tr>\n      <th>FL</th>\n      <td> 7659</td>\n      <td> 6946</td>\n    </tr>\n    <tr>\n      <th>PA</th>\n      <td> 5604</td>\n      <td> 3349</td>\n    </tr>\n    <tr>\n      <th>OH</th>\n      <td> 3812</td>\n      <td> 2852</td>\n    </tr>\n    <tr>\n      <th>CT</th>\n      <td> 2243</td>\n      <td>  593</td>\n    </tr>\n    <tr>\n      <th>WA</th>\n      <td> 1926</td>\n      <td> 1649</td>\n    </tr>\n    <tr>\n      <th>MD</th>\n      <td> 1919</td>\n      <td> 2303</td>\n    </tr>\n    <tr>\n      <th>IN</th>\n      <td> 1853</td>\n      <td> 1896</td>\n    </tr>\n    <tr>\n      <th>CO</th>\n      <td> 1710</td>\n      <td> 1830</td>\n    </tr>\n    <tr>\n      <th>KY</th>\n      <td> 1439</td>\n      <td>  930</td>\n    </tr>\n    <tr>\n      <th>OK</th>\n      <td> 1345</td>\n      <td>  678</td>\n    </tr>\n    <tr>\n      <th>MO</th>\n      <td> 1157</td>\n      <td> 1048</td>\n    </tr>\n    <tr>\n      <th>OR</th>\n      <td> 1152</td>\n      <td> 1052</td>\n    </tr>\n    <tr>\n      <th>AL</th>\n      <td> 1002</td>\n      <td> 2593</td>\n    </tr>\n    <tr>\n      <th>WI</th>\n      <td>  979</td>\n      <td>  568</td>\n    </tr>\n    <tr>\n      <th>NV</th>\n      <td>  963</td>\n      <td> 1160</td>\n    </tr>\n    <tr>\n      <th>UT</th>\n      <td>  809</td>\n      <td> 1293</td>\n    </tr>\n    <tr>\n      <th>ME</th>\n      <td>  800</td>\n      <td>  211</td>\n    </tr>\n    <tr>\n      <th>TN</th>\n      <td>  727</td>\n      <td> 1927</td>\n    </tr>\n    <tr>\n      <th>AR</th>\n      <td>  720</td>\n      <td>  849</td>\n    </tr>\n    <tr>\n      <th>NH</th>\n      <td>  716</td>\n      <td>  420</td>\n    </tr>\n    <tr>\n      <th>NM</th>\n      <td>  662</td>\n      <td>  338</td>\n    </tr>\n    <tr>\n      <th>RI</th>\n      <td>  650</td>\n      <td>  228</td>\n    </tr>\n    <tr>\n      <th>MS</th>\n      <td>  500</td>\n      <td> 1066</td>\n    </tr>\n    <tr>\n      <th>GA</th>\n      <td>  482</td>\n      <td>  788</td>\n    </tr>\n    <tr>\n      <th>IA</th>\n      <td>  415</td>\n      <td>  274</td>\n    </tr>\n    <tr>\n      <th>ID</th>\n      <td>  404</td>\n      <td>  486</td>\n    </tr>\n    <tr>\n      <th>KS</th>\n      <td>  404</td>\n      <td>  455</td>\n    </tr>\n    <tr>\n      <th>ND</th>\n      <td>  341</td>\n      <td>   41</td>\n    </tr>\n    <tr>\n      <th>WV</th>\n      <td>  320</td>\n      <td>  460</td>\n    </tr>\n    <tr>\n      <th>NE</th>\n      <td>  311</td>\n      <td>  179</td>\n    </tr>\n    <tr>\n      <th>DE</th>\n      <td>  287</td>\n      <td>  310</td>\n    </tr>\n    <tr>\n      <th>MT</th>\n      <td>  255</td>\n      <td>  222</td>\n    </tr>\n    <tr>\n      <th>DC</th>\n      <td>  249</td>\n      <td>  291</td>\n    </tr>\n    <tr>\n      <th>WY</th>\n      <td>   79</td>\n      <td>   87</td>\n    </tr>\n    <tr>\n      <th>SD</th>\n      <td>   51</td>\n      <td>   31</td>\n    </tr>\n  </tbody>\n</table>\n<p>36 rows \u00d7 2 columns</p>\n</div>",
       "metadata": {},
       "output_type": "pyout",
       "prompt_number": 356,
       "text": "          0     1\nstate            \nNY     7729  5932\nFL     7659  6946\nPA     5604  3349\nOH     3812  2852\nCT     2243   593\nWA     1926  1649\nMD     1919  2303\nIN     1853  1896\nCO     1710  1830\nKY     1439   930\nOK     1345   678\nMO     1157  1048\nOR     1152  1052\nAL     1002  2593\nWI      979   568\nNV      963  1160\nUT      809  1293\nME      800   211\nTN      727  1927\nAR      720   849\nNH      716   420\nNM      662   338\nRI      650   228\nMS      500  1066\nGA      482   788\nIA      415   274\nID      404   486\nKS      404   455\nND      341    41\nWV      320   460\nNE      311   179\nDE      287   310\nMT      255   222\nDC      249   291\nWY       79    87\nSD       51    31\n\n[36 rows x 2 columns]"
      }
     ],
     "prompt_number": 356
    },
    {
     "cell_type": "code",
     "collapsed": false,
     "input": "df_1 = pd.DataFrame([[1, 'a'],[1,'b']],columns=['x','y'])\nprint df_1\ndf_grouped = df_1.groupby('x')\ndf_grouped.apply(lambda x: x.ix[len(x)-1])",
     "language": "python",
     "metadata": {},
     "outputs": [
      {
       "output_type": "stream",
       "stream": "stdout",
       "text": "   x  y\n0  1  a\n1  1  b\n\n[2 rows x 2 columns]\n"
      },
      {
       "html": "<div style=\"max-height:1000px;max-width:1500px;overflow:auto;\">\n<table border=\"1\" class=\"dataframe\">\n  <thead>\n    <tr style=\"text-align: right;\">\n      <th></th>\n      <th>x</th>\n      <th>y</th>\n    </tr>\n    <tr>\n      <th>x</th>\n      <th></th>\n      <th></th>\n    </tr>\n  </thead>\n  <tbody>\n    <tr>\n      <th>1</th>\n      <td> 1</td>\n      <td> b</td>\n    </tr>\n  </tbody>\n</table>\n<p>1 rows \u00d7 2 columns</p>\n</div>",
       "metadata": {},
       "output_type": "pyout",
       "prompt_number": 440,
       "text": "   x  y\nx      \n1  1  b\n\n[1 rows x 2 columns]"
      }
     ],
     "prompt_number": 440
    },
    {
     "cell_type": "code",
     "collapsed": false,
     "input": "df_test_last['A_is_0'] = \"\"\ndf_test_last.to_csv(csv_dir + 'test_shop.csv') ",
     "language": "python",
     "metadata": {},
     "outputs": [],
     "prompt_number": 459
    },
    {
     "cell_type": "code",
     "collapsed": false,
     "input": "df_test_A_is_0 = pd.read_csv(csv_dir + 'test_shop_A_is_0-predicted.csv')\ndf_test_A_is_0.rename(columns={'predicted--1': 0}, inplace=True)\ndf_test_A_is_1 = pd.read_csv(csv_dir + 'test_shop_A_is_1-predicted.csv')\ndf_test_A_is_1.rename(columns={'predicted--1':1}, inplace=True)\ndf_test_A_is_2 = pd.read_csv(csv_dir + 'test_shop_A_is_2-predicted.csv')\ndf_test_A_is_2.rename(columns={'predicted--1':2}, inplace=True)",
     "language": "python",
     "metadata": {},
     "outputs": [],
     "prompt_number": 532
    },
    {
     "cell_type": "code",
     "collapsed": false,
     "input": "# be very careful!  Column names are int's, which is useful for the final result but a pain to reference\ndf_A_is = pd.concat([df_test_A_is_0[[1]],df_test_A_is_1[[1]],df_test_A_is_2[[1]]],axis=1)\ndf_A_predicted = df_A_is.idxmax(axis=1)",
     "language": "python",
     "metadata": {},
     "outputs": [],
     "prompt_number": 538
    }
   ],
   "metadata": {}
  }
 ]
}