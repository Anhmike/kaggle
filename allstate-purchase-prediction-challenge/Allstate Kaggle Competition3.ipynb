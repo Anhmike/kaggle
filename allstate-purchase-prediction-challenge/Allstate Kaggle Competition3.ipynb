{
 "metadata": {
  "name": "Allstate Kaggle Competition"
 },
 "nbformat": 3,
 "nbformat_minor": 0,
 "worksheets": [
  {
   "cells": [
    {
     "cell_type": "heading",
     "level": 1,
     "metadata": {},
     "source": "Allstate Kaggle Competition"
    },
    {
     "cell_type": "markdown",
     "metadata": {},
     "source": "# Predict a purchased policy based on transaction history #\n\nAs a customer shops an insurance policy, he/she will receive a number of quotes with different coverage options before purchasing a plan. This is represented in this challenge as a series of rows that include a customer ID, information about the customer, information about the quoted policy, and the cost. Your task is to predict the purchased coverage options using a limited subset of the total interaction history. If the eventual purchase can be predicted sooner in the shopping window, the quoting process is shortened and the issuer is less likely to lose the customer's business.\n\nUsing a customer\u2019s shopping history, can you predict what policy they will end up choosing?\n\n### Evaluation ###\n\nSubmissions are evaluated on an all-or-none accuracy basis. You must predict every coverage option correctly to receive credit for a given customer. Your score is the percent of customers for whom you predict the exact purchased policy.\n\n### Submission File ###\n\nThe submission format is created by concatenating each plan option (A,B,C,D,E,F,G) as a single string, in order. The file should contain a header and have the following format:\n\n```\ncustomer_ID,plan\n10000001,1111111\n10000002,1111111\n10000003,1111111\n...\n```\n\n### Files ###\n\nThe training and test sets contain transaction history for customers that ended up purchasing a policy. For each customer_ID, you are given their quote history. In the training set you have the entire quote history, the last row of which contains the coverage options they purchased. In the test set, you have only a partial history of the quotes and do not have the purchased coverage options. These are truncated to certain lengths to simulate making predictions with less history (higher uncertainty) or more history (lower uncertainty).\n\nFor each customer_ID in the test set, you must predict the seven coverage options they end up purchasing.\n\n### What is a customer? ###\n\nEach customer has many shopping points, where a shopping point is defined by a customer with certain characteristics viewing a product and its associated cost at a particular time.\n\n- Some customer characteristics may change over time (e.g. as the customer changes or provides new information), and the cost depends on both the product and the customer characteristics.\n- A customer may represent a collection of people, as policies can cover more than one person.\n- A customer may purchase a product that was not viewed!\n\n### Product Options ###\n\nEach product has 7 customizable options selected by customers, each with 2, 3, or 4 ordinal values possible:\n\nOption Name | Possible Values\n:---:|:---:\nA | 0,1,2\nB | 0,1\nC | 1,2,3,4\nD | 1,2,3\nE | 0,1\nF | 0,1,2,3\nG | 1,2,3,4\n\n\nA product is simply a vector with length 7 whose values are chosen from each of the options listed above. The cost of a product is a function of both the product options and customer characteristics.\n\n### Variable Descriptions ###\n\n- __customer_ID__ - A unique identifier for the customer\n- __shopping_pt__ - Unique identifier for the shopping point of a given customer\n- __record_type__ - 0=shopping point, 1=purchase point\n- __day__ - Day of the week (0-6, 0=Monday)\n- __time__ - Time of day (HH:MM)\n- __state__ - State where shopping point occurred\n- __location__ - Location ID where shopping point occurred\n- __group_size__ - How many people will be covered under the policy (1, 2, 3 or 4)\n- homeowner - Whether the customer owns a home or not (0=no, 1=yes)\n- car_age - Age of the customer\u2019s car\n- car_value - How valuable was the customer\u2019s car when new\n- risk_factor - An ordinal assessment of how risky the customer is (1, 2, 3, 4)\n- age_oldest - Age of the oldest person in customer's group\n- age_youngest - Age of the youngest person in customer\u2019s group\n- married_couple - Does the customer group contain a married couple (0=no, 1=yes)\n- C_previous - What the customer formerly had or currently has for product option C (0=nothing, 1, 2, 3,4)\n- duration_previous -  how long (in years) the customer was covered by their previous issuer\n- A,B,C,D,E,F,G - the coverage options\n- cost - cost of the quoted coverage options"
    },
    {
     "cell_type": "code",
     "collapsed": false,
     "input": "import csv\nimport numpy as np\nimport pandas as pd\nimport matplotlib.pyplot as plt\n%pylab inline",
     "language": "python",
     "metadata": {},
     "outputs": [
      {
       "output_type": "stream",
       "stream": "stdout",
       "text": "Populating the interactive namespace from numpy and matplotlib\n"
      }
     ],
     "prompt_number": 1
    },
    {
     "cell_type": "markdown",
     "metadata": {},
     "source": "Load the training data:"
    },
    {
     "cell_type": "code",
     "collapsed": false,
     "input": "df_train = pd.read_csv('/Users/Paul/Desktop/Allstate/' + 'train.csv')",
     "language": "python",
     "metadata": {},
     "outputs": [],
     "prompt_number": 2
    },
    {
     "cell_type": "code",
     "collapsed": false,
     "input": "df_train.count()",
     "language": "python",
     "metadata": {},
     "outputs": [
      {
       "metadata": {},
       "output_type": "pyout",
       "prompt_number": 3,
       "text": "customer_ID          665249\nshopping_pt          665249\nrecord_type          665249\nday                  665249\ntime                 665249\nstate                665249\nlocation             665249\ngroup_size           665249\nhomeowner            665249\ncar_age              665249\ncar_value            663718\nrisk_factor          424831\nage_oldest           665249\nage_youngest         665249\nmarried_couple       665249\nC_previous           646538\nduration_previous    646538\nA                    665249\nB                    665249\nC                    665249\nD                    665249\nE                    665249\nF                    665249\nG                    665249\ncost                 665249\ndtype: int64"
      }
     ],
     "prompt_number": 3
    },
    {
     "cell_type": "code",
     "collapsed": false,
     "input": "df_train.describe()",
     "language": "python",
     "metadata": {},
     "outputs": [
      {
       "html": "<div style=\"max-height:1000px;max-width:1500px;overflow:auto;\">\n<table border=\"1\" class=\"dataframe\">\n  <thead>\n    <tr style=\"text-align: right;\">\n      <th></th>\n      <th>customer_ID</th>\n      <th>shopping_pt</th>\n      <th>record_type</th>\n      <th>day</th>\n      <th>location</th>\n      <th>group_size</th>\n      <th>homeowner</th>\n      <th>car_age</th>\n      <th>risk_factor</th>\n      <th>age_oldest</th>\n      <th>age_youngest</th>\n      <th>married_couple</th>\n      <th>C_previous</th>\n      <th>duration_previous</th>\n      <th>A</th>\n      <th>B</th>\n      <th>C</th>\n      <th>D</th>\n      <th>E</th>\n      <th>F</th>\n      <th></th>\n    </tr>\n  </thead>\n  <tbody>\n    <tr>\n      <th>count</th>\n      <td>   665249.000000</td>\n      <td> 665249.000000</td>\n      <td> 665249.000000</td>\n      <td> 665249.000000</td>\n      <td> 665249.000000</td>\n      <td> 665249.000000</td>\n      <td> 665249.000000</td>\n      <td> 665249.000000</td>\n      <td> 424831.000000</td>\n      <td> 665249.000000</td>\n      <td> 665249.000000</td>\n      <td> 665249.000000</td>\n      <td> 646538.000000</td>\n      <td> 646538.000000</td>\n      <td> 665249.000000</td>\n      <td> 665249.000000</td>\n      <td> 665249.000000</td>\n      <td> 665249.000000</td>\n      <td> 665249.000000</td>\n      <td> 665249.000000</td>\n      <td>...</td>\n    </tr>\n    <tr>\n      <th>mean</th>\n      <td> 10076553.440219</td>\n      <td>      4.219966</td>\n      <td>      0.145824</td>\n      <td>      1.969429</td>\n      <td>  12271.543022</td>\n      <td>      1.234784</td>\n      <td>      0.536229</td>\n      <td>      8.139437</td>\n      <td>      2.563996</td>\n      <td>     44.992403</td>\n      <td>     42.577588</td>\n      <td>      0.209782</td>\n      <td>      2.444718</td>\n      <td>      6.003774</td>\n      <td>      0.927546</td>\n      <td>      0.454236</td>\n      <td>      2.275265</td>\n      <td>      2.454299</td>\n      <td>      0.445193</td>\n      <td>      1.162768</td>\n      <td>...</td>\n    </tr>\n    <tr>\n      <th>std</th>\n      <td>    44049.778757</td>\n      <td>      2.394369</td>\n      <td>      0.352930</td>\n      <td>      1.453470</td>\n      <td>   1564.789415</td>\n      <td>      0.461036</td>\n      <td>      0.498686</td>\n      <td>      5.764598</td>\n      <td>      1.111584</td>\n      <td>     17.403440</td>\n      <td>     17.460432</td>\n      <td>      0.407153</td>\n      <td>      1.034596</td>\n      <td>      4.680793</td>\n      <td>      0.595221</td>\n      <td>      0.497902</td>\n      <td>      0.990798</td>\n      <td>      0.753953</td>\n      <td>      0.496987</td>\n      <td>      0.943594</td>\n      <td>...</td>\n    </tr>\n    <tr>\n      <th>min</th>\n      <td> 10000000.000000</td>\n      <td>      1.000000</td>\n      <td>      0.000000</td>\n      <td>      0.000000</td>\n      <td>  10001.000000</td>\n      <td>      1.000000</td>\n      <td>      0.000000</td>\n      <td>      0.000000</td>\n      <td>      1.000000</td>\n      <td>     18.000000</td>\n      <td>     16.000000</td>\n      <td>      0.000000</td>\n      <td>      1.000000</td>\n      <td>      0.000000</td>\n      <td>      0.000000</td>\n      <td>      0.000000</td>\n      <td>      1.000000</td>\n      <td>      1.000000</td>\n      <td>      0.000000</td>\n      <td>      0.000000</td>\n      <td>...</td>\n    </tr>\n    <tr>\n      <th>25%</th>\n      <td> 10038523.000000</td>\n      <td>      2.000000</td>\n      <td>      0.000000</td>\n      <td>      1.000000</td>\n      <td>  10936.000000</td>\n      <td>      1.000000</td>\n      <td>      0.000000</td>\n      <td>      3.000000</td>\n      <td>      2.000000</td>\n      <td>     28.000000</td>\n      <td>     26.000000</td>\n      <td>      0.000000</td>\n      <td>      1.000000</td>\n      <td>      2.000000</td>\n      <td>      1.000000</td>\n      <td>      0.000000</td>\n      <td>      1.000000</td>\n      <td>      2.000000</td>\n      <td>      0.000000</td>\n      <td>      0.000000</td>\n      <td>...</td>\n    </tr>\n    <tr>\n      <th>50%</th>\n      <td> 10076403.000000</td>\n      <td>      4.000000</td>\n      <td>      0.000000</td>\n      <td>      2.000000</td>\n      <td>  12027.000000</td>\n      <td>      1.000000</td>\n      <td>      1.000000</td>\n      <td>      7.000000</td>\n      <td>      3.000000</td>\n      <td>     44.000000</td>\n      <td>     40.000000</td>\n      <td>      0.000000</td>\n      <td>      3.000000</td>\n      <td>      5.000000</td>\n      <td>      1.000000</td>\n      <td>      0.000000</td>\n      <td>      2.000000</td>\n      <td>      3.000000</td>\n      <td>      0.000000</td>\n      <td>      1.000000</td>\n      <td>...</td>\n    </tr>\n    <tr>\n      <th>75%</th>\n      <td> 10114696.000000</td>\n      <td>      6.000000</td>\n      <td>      0.000000</td>\n      <td>      3.000000</td>\n      <td>  13426.000000</td>\n      <td>      1.000000</td>\n      <td>      1.000000</td>\n      <td>     12.000000</td>\n      <td>      4.000000</td>\n      <td>     60.000000</td>\n      <td>     57.000000</td>\n      <td>      0.000000</td>\n      <td>      3.000000</td>\n      <td>      9.000000</td>\n      <td>      1.000000</td>\n      <td>      1.000000</td>\n      <td>      3.000000</td>\n      <td>      3.000000</td>\n      <td>      1.000000</td>\n      <td>      2.000000</td>\n      <td>...</td>\n    </tr>\n    <tr>\n      <th>max</th>\n      <td> 10152724.000000</td>\n      <td>     13.000000</td>\n      <td>      1.000000</td>\n      <td>      6.000000</td>\n      <td>  16580.000000</td>\n      <td>      4.000000</td>\n      <td>      1.000000</td>\n      <td>     85.000000</td>\n      <td>      4.000000</td>\n      <td>     75.000000</td>\n      <td>     75.000000</td>\n      <td>      1.000000</td>\n      <td>      4.000000</td>\n      <td>     15.000000</td>\n      <td>      2.000000</td>\n      <td>      1.000000</td>\n      <td>      4.000000</td>\n      <td>      3.000000</td>\n      <td>      1.000000</td>\n      <td>      3.000000</td>\n      <td>...</td>\n    </tr>\n  </tbody>\n</table>\n<p>8 rows \u00d7 22 columns</p>\n</div>",
       "metadata": {},
       "output_type": "pyout",
       "prompt_number": 5,
       "text": "           customer_ID    shopping_pt    record_type            day  \\\ncount    665249.000000  665249.000000  665249.000000  665249.000000   \nmean   10076553.440219       4.219966       0.145824       1.969429   \nstd       44049.778757       2.394369       0.352930       1.453470   \nmin    10000000.000000       1.000000       0.000000       0.000000   \n25%    10038523.000000       2.000000       0.000000       1.000000   \n50%    10076403.000000       4.000000       0.000000       2.000000   \n75%    10114696.000000       6.000000       0.000000       3.000000   \nmax    10152724.000000      13.000000       1.000000       6.000000   \n\n            location     group_size      homeowner        car_age  \\\ncount  665249.000000  665249.000000  665249.000000  665249.000000   \nmean    12271.543022       1.234784       0.536229       8.139437   \nstd      1564.789415       0.461036       0.498686       5.764598   \nmin     10001.000000       1.000000       0.000000       0.000000   \n25%     10936.000000       1.000000       0.000000       3.000000   \n50%     12027.000000       1.000000       1.000000       7.000000   \n75%     13426.000000       1.000000       1.000000      12.000000   \nmax     16580.000000       4.000000       1.000000      85.000000   \n\n         risk_factor     age_oldest   age_youngest  married_couple  \\\ncount  424831.000000  665249.000000  665249.000000   665249.000000   \nmean        2.563996      44.992403      42.577588        0.209782   \nstd         1.111584      17.403440      17.460432        0.407153   \nmin         1.000000      18.000000      16.000000        0.000000   \n25%         2.000000      28.000000      26.000000        0.000000   \n50%         3.000000      44.000000      40.000000        0.000000   \n75%         4.000000      60.000000      57.000000        0.000000   \nmax         4.000000      75.000000      75.000000        1.000000   \n\n          C_previous  duration_previous              A              B  \\\ncount  646538.000000      646538.000000  665249.000000  665249.000000   \nmean        2.444718           6.003774       0.927546       0.454236   \nstd         1.034596           4.680793       0.595221       0.497902   \nmin         1.000000           0.000000       0.000000       0.000000   \n25%         1.000000           2.000000       1.000000       0.000000   \n50%         3.000000           5.000000       1.000000       0.000000   \n75%         3.000000           9.000000       1.000000       1.000000   \nmax         4.000000          15.000000       2.000000       1.000000   \n\n                   C              D              E              F      \ncount  665249.000000  665249.000000  665249.000000  665249.000000 ...  \nmean        2.275265       2.454299       0.445193       1.162768 ...  \nstd         0.990798       0.753953       0.496987       0.943594 ...  \nmin         1.000000       1.000000       0.000000       0.000000 ...  \n25%         1.000000       2.000000       0.000000       0.000000 ...  \n50%         2.000000       3.000000       0.000000       1.000000 ...  \n75%         3.000000       3.000000       1.000000       2.000000 ...  \nmax         4.000000       3.000000       1.000000       3.000000 ...  \n\n[8 rows x 22 columns]"
      }
     ],
     "prompt_number": 5
    },
    {
     "cell_type": "code",
     "collapsed": false,
     "input": "cust = df_train.groupby('customer_ID')['customer_ID']",
     "language": "python",
     "metadata": {},
     "outputs": [],
     "prompt_number": 6
    },
    {
     "cell_type": "markdown",
     "metadata": {},
     "source": "Count the number of transactions including purchase and draw a histogram"
    },
    {
     "cell_type": "code",
     "collapsed": false,
     "input": " vc = cust.count().value_counts().sort_index() # count series of transactions",
     "language": "python",
     "metadata": {},
     "outputs": [],
     "prompt_number": 7
    },
    {
     "cell_type": "code",
     "collapsed": false,
     "input": "vc ",
     "language": "python",
     "metadata": {},
     "outputs": [
      {
       "metadata": {},
       "output_type": "pyout",
       "prompt_number": 8,
       "text": "3      5568\n4      8001\n5     11269\n6     15623\n7     18590\n8     17248\n9     11985\n10     6071\n11     2129\n12      475\n13       50\ndtype: int64"
      }
     ],
     "prompt_number": 8
    },
    {
     "cell_type": "code",
     "collapsed": false,
     "input": "vc.plot(kind='bar')",
     "language": "python",
     "metadata": {},
     "outputs": [
      {
       "metadata": {},
       "output_type": "pyout",
       "prompt_number": 9,
       "text": "<matplotlib.axes.AxesSubplot at 0x1047c6b90>"
      },
      {
       "metadata": {},
       "output_type": "display_data",
       "png": "[encoded data removed]",
       "text": "<matplotlib.figure.Figure at 0x10f9fb2d0>"
      }
     ],
     "prompt_number": 9
    },
    {
     "cell_type": "markdown",
     "metadata": {},
     "source": "Collect all the purchases in one dataframe."
    },
    {
     "cell_type": "code",
     "collapsed": false,
     "input": "df_purchase = df_train[df_train['record_type'] > 0]",
     "language": "python",
     "metadata": {},
     "outputs": [],
     "prompt_number": 8
    },
    {
     "cell_type": "code",
     "collapsed": false,
     "input": "len(df_train.index)",
     "language": "python",
     "metadata": {},
     "outputs": [
      {
       "metadata": {},
       "output_type": "pyout",
       "prompt_number": 34,
       "text": "665249"
      }
     ],
     "prompt_number": 34
    },
    {
     "cell_type": "markdown",
     "metadata": {},
     "source": "Collect all shop transactions (without purchase) in a dataframe"
    },
    {
     "cell_type": "code",
     "collapsed": false,
     "input": "df_shop = df_train[df_train['record_type'] == 0]",
     "language": "python",
     "metadata": {},
     "outputs": [],
     "prompt_number": 9
    },
    {
     "cell_type": "code",
     "collapsed": false,
     "input": "l_options =['A','B','C','D','E','F','G']",
     "language": "python",
     "metadata": {},
     "outputs": [],
     "prompt_number": 10
    },
    {
     "cell_type": "code",
     "collapsed": false,
     "input": "dfx = df_train[['customer_ID','shopping_pt','record_type']+l_options]\ndfx.ix[df_train['customer_ID'] == 10000000]",
     "language": "python",
     "metadata": {},
     "outputs": [
      {
       "html": "<div style=\"max-height:1000px;max-width:1500px;overflow:auto;\">\n<table border=\"1\" class=\"dataframe\">\n  <thead>\n    <tr style=\"text-align: right;\">\n      <th></th>\n      <th>customer_ID</th>\n      <th>shopping_pt</th>\n      <th>record_type</th>\n      <th>A</th>\n      <th>B</th>\n      <th>C</th>\n      <th>D</th>\n      <th>E</th>\n      <th>F</th>\n      <th>G</th>\n    </tr>\n  </thead>\n  <tbody>\n    <tr>\n      <th>0</th>\n      <td> 10000000</td>\n      <td> 1</td>\n      <td> 0</td>\n      <td> 1</td>\n      <td> 0</td>\n      <td> 2</td>\n      <td> 2</td>\n      <td> 1</td>\n      <td> 2</td>\n      <td> 2</td>\n    </tr>\n    <tr>\n      <th>1</th>\n      <td> 10000000</td>\n      <td> 2</td>\n      <td> 0</td>\n      <td> 1</td>\n      <td> 0</td>\n      <td> 2</td>\n      <td> 2</td>\n      <td> 1</td>\n      <td> 2</td>\n      <td> 1</td>\n    </tr>\n    <tr>\n      <th>2</th>\n      <td> 10000000</td>\n      <td> 3</td>\n      <td> 0</td>\n      <td> 1</td>\n      <td> 0</td>\n      <td> 2</td>\n      <td> 2</td>\n      <td> 1</td>\n      <td> 2</td>\n      <td> 1</td>\n    </tr>\n    <tr>\n      <th>3</th>\n      <td> 10000000</td>\n      <td> 4</td>\n      <td> 0</td>\n      <td> 1</td>\n      <td> 0</td>\n      <td> 2</td>\n      <td> 2</td>\n      <td> 1</td>\n      <td> 2</td>\n      <td> 1</td>\n    </tr>\n    <tr>\n      <th>4</th>\n      <td> 10000000</td>\n      <td> 5</td>\n      <td> 0</td>\n      <td> 1</td>\n      <td> 0</td>\n      <td> 2</td>\n      <td> 2</td>\n      <td> 1</td>\n      <td> 2</td>\n      <td> 1</td>\n    </tr>\n    <tr>\n      <th>5</th>\n      <td> 10000000</td>\n      <td> 6</td>\n      <td> 0</td>\n      <td> 1</td>\n      <td> 0</td>\n      <td> 2</td>\n      <td> 2</td>\n      <td> 1</td>\n      <td> 2</td>\n      <td> 1</td>\n    </tr>\n    <tr>\n      <th>6</th>\n      <td> 10000000</td>\n      <td> 7</td>\n      <td> 0</td>\n      <td> 1</td>\n      <td> 0</td>\n      <td> 2</td>\n      <td> 2</td>\n      <td> 1</td>\n      <td> 2</td>\n      <td> 1</td>\n    </tr>\n    <tr>\n      <th>7</th>\n      <td> 10000000</td>\n      <td> 8</td>\n      <td> 0</td>\n      <td> 1</td>\n      <td> 0</td>\n      <td> 2</td>\n      <td> 2</td>\n      <td> 1</td>\n      <td> 2</td>\n      <td> 1</td>\n    </tr>\n    <tr>\n      <th>8</th>\n      <td> 10000000</td>\n      <td> 9</td>\n      <td> 1</td>\n      <td> 1</td>\n      <td> 0</td>\n      <td> 2</td>\n      <td> 2</td>\n      <td> 1</td>\n      <td> 2</td>\n      <td> 1</td>\n    </tr>\n  </tbody>\n</table>\n<p>9 rows \u00d7 10 columns</p>\n</div>",
       "metadata": {},
       "output_type": "pyout",
       "prompt_number": 12,
       "text": "   customer_ID  shopping_pt  record_type  A  B  C  D  E  F  G\n0     10000000            1            0  1  0  2  2  1  2  2\n1     10000000            2            0  1  0  2  2  1  2  1\n2     10000000            3            0  1  0  2  2  1  2  1\n3     10000000            4            0  1  0  2  2  1  2  1\n4     10000000            5            0  1  0  2  2  1  2  1\n5     10000000            6            0  1  0  2  2  1  2  1\n6     10000000            7            0  1  0  2  2  1  2  1\n7     10000000            8            0  1  0  2  2  1  2  1\n8     10000000            9            1  1  0  2  2  1  2  1\n\n[9 rows x 10 columns]"
      }
     ],
     "prompt_number": 12
    },
    {
     "cell_type": "code",
     "collapsed": false,
     "input": "df_shop_x = df_shop[['customer_ID','shopping_pt','record_type']+l_options]\ndf_shop_x.ix[df_shop['customer_ID'] == 10000000]",
     "language": "python",
     "metadata": {},
     "outputs": [
      {
       "html": "<div style=\"max-height:1000px;max-width:1500px;overflow:auto;\">\n<table border=\"1\" class=\"dataframe\">\n  <thead>\n    <tr style=\"text-align: right;\">\n      <th></th>\n      <th>customer_ID</th>\n      <th>shopping_pt</th>\n      <th>record_type</th>\n      <th>A</th>\n      <th>B</th>\n      <th>C</th>\n      <th>D</th>\n      <th>E</th>\n      <th>F</th>\n      <th>G</th>\n    </tr>\n  </thead>\n  <tbody>\n    <tr>\n      <th>0</th>\n      <td> 10000000</td>\n      <td> 1</td>\n      <td> 0</td>\n      <td> 1</td>\n      <td> 0</td>\n      <td> 2</td>\n      <td> 2</td>\n      <td> 1</td>\n      <td> 2</td>\n      <td> 2</td>\n    </tr>\n    <tr>\n      <th>1</th>\n      <td> 10000000</td>\n      <td> 2</td>\n      <td> 0</td>\n      <td> 1</td>\n      <td> 0</td>\n      <td> 2</td>\n      <td> 2</td>\n      <td> 1</td>\n      <td> 2</td>\n      <td> 1</td>\n    </tr>\n    <tr>\n      <th>2</th>\n      <td> 10000000</td>\n      <td> 3</td>\n      <td> 0</td>\n      <td> 1</td>\n      <td> 0</td>\n      <td> 2</td>\n      <td> 2</td>\n      <td> 1</td>\n      <td> 2</td>\n      <td> 1</td>\n    </tr>\n    <tr>\n      <th>3</th>\n      <td> 10000000</td>\n      <td> 4</td>\n      <td> 0</td>\n      <td> 1</td>\n      <td> 0</td>\n      <td> 2</td>\n      <td> 2</td>\n      <td> 1</td>\n      <td> 2</td>\n      <td> 1</td>\n    </tr>\n    <tr>\n      <th>4</th>\n      <td> 10000000</td>\n      <td> 5</td>\n      <td> 0</td>\n      <td> 1</td>\n      <td> 0</td>\n      <td> 2</td>\n      <td> 2</td>\n      <td> 1</td>\n      <td> 2</td>\n      <td> 1</td>\n    </tr>\n    <tr>\n      <th>5</th>\n      <td> 10000000</td>\n      <td> 6</td>\n      <td> 0</td>\n      <td> 1</td>\n      <td> 0</td>\n      <td> 2</td>\n      <td> 2</td>\n      <td> 1</td>\n      <td> 2</td>\n      <td> 1</td>\n    </tr>\n    <tr>\n      <th>6</th>\n      <td> 10000000</td>\n      <td> 7</td>\n      <td> 0</td>\n      <td> 1</td>\n      <td> 0</td>\n      <td> 2</td>\n      <td> 2</td>\n      <td> 1</td>\n      <td> 2</td>\n      <td> 1</td>\n    </tr>\n    <tr>\n      <th>7</th>\n      <td> 10000000</td>\n      <td> 8</td>\n      <td> 0</td>\n      <td> 1</td>\n      <td> 0</td>\n      <td> 2</td>\n      <td> 2</td>\n      <td> 1</td>\n      <td> 2</td>\n      <td> 1</td>\n    </tr>\n  </tbody>\n</table>\n<p>8 rows \u00d7 10 columns</p>\n</div>",
       "metadata": {},
       "output_type": "pyout",
       "prompt_number": 13,
       "text": "   customer_ID  shopping_pt  record_type  A  B  C  D  E  F  G\n0     10000000            1            0  1  0  2  2  1  2  2\n1     10000000            2            0  1  0  2  2  1  2  1\n2     10000000            3            0  1  0  2  2  1  2  1\n3     10000000            4            0  1  0  2  2  1  2  1\n4     10000000            5            0  1  0  2  2  1  2  1\n5     10000000            6            0  1  0  2  2  1  2  1\n6     10000000            7            0  1  0  2  2  1  2  1\n7     10000000            8            0  1  0  2  2  1  2  1\n\n[8 rows x 10 columns]"
      }
     ],
     "prompt_number": 13
    },
    {
     "cell_type": "code",
     "collapsed": false,
     "input": "df_purchase_x = df_purchase[['customer_ID','shopping_pt','record_type']+l_options]\ndf_purchase_x.ix[df_purchase['customer_ID'] == 10000000]",
     "language": "python",
     "metadata": {},
     "outputs": [
      {
       "html": "<div style=\"max-height:1000px;max-width:1500px;overflow:auto;\">\n<table border=\"1\" class=\"dataframe\">\n  <thead>\n    <tr style=\"text-align: right;\">\n      <th></th>\n      <th>customer_ID</th>\n      <th>shopping_pt</th>\n      <th>record_type</th>\n      <th>A</th>\n      <th>B</th>\n      <th>C</th>\n      <th>D</th>\n      <th>E</th>\n      <th>F</th>\n      <th>G</th>\n    </tr>\n  </thead>\n  <tbody>\n    <tr>\n      <th>8</th>\n      <td> 10000000</td>\n      <td> 9</td>\n      <td> 1</td>\n      <td> 1</td>\n      <td> 0</td>\n      <td> 2</td>\n      <td> 2</td>\n      <td> 1</td>\n      <td> 2</td>\n      <td> 1</td>\n    </tr>\n  </tbody>\n</table>\n<p>1 rows \u00d7 10 columns</p>\n</div>",
       "metadata": {},
       "output_type": "pyout",
       "prompt_number": 525,
       "text": "   customer_ID  shopping_pt  record_type  A  B  C  D  E  F  G\n8     10000000            9            1  1  0  2  2  1  2  1\n\n[1 rows x 10 columns]"
      }
     ],
     "prompt_number": 525
    },
    {
     "cell_type": "code",
     "collapsed": false,
     "input": "s_customers = pd.Series(df_train.customer_ID.unique())",
     "language": "python",
     "metadata": {},
     "outputs": [],
     "prompt_number": 14
    },
    {
     "cell_type": "markdown",
     "metadata": {},
     "source": "For every customer, for every option, count how many times the option has changed"
    },
    {
     "cell_type": "code",
     "collapsed": false,
     "input": "df_shop_groupby = df_shop.groupby('customer_ID')",
     "language": "python",
     "metadata": {},
     "outputs": [],
     "prompt_number": 33
    },
    {
     "cell_type": "code",
     "collapsed": false,
     "input": "# this is so slow it's painful\n\ndf_changes_per_user = pd.DataFrame(index=s_customers, columns=['num_transactions','changes_count'])\ndf_op_change = pd.DataFrame(index=s_customers,columns=l_options)\nbase = 0        # base index in gp, incremented per groupby group\nfor k, gp in df_shop_groupby:\n    counter = 0 # counter of changes to option\n    len_gp = len(gp)\n    df_changes_per_user[k].num_transactions = len(gp)\n    for o in l_options:\n        df_changes_per_user[k].count += counter\n        counter = 0 # reset counter \n        for i in range(base,base+(len_gp-1)):\n            if gp[o][i] != gp[o][i+1]:\n                counter += 1\n        df_op_change.ix[k,o] = counter\n    base += len(gp)+1\n",
     "language": "python",
     "metadata": {},
     "outputs": [],
     "prompt_number": 287
    },
    {
     "cell_type": "markdown",
     "metadata": {},
     "source": "Check the count is correct by inspecting an element"
    },
    {
     "cell_type": "code",
     "collapsed": false,
     "input": "df_op_change.ix[10000005]",
     "language": "python",
     "metadata": {},
     "outputs": [
      {
       "metadata": {},
       "output_type": "pyout",
       "prompt_number": 289,
       "text": "A    1\nB    1\nC    0\nD    1\nE    1\nF    0\nG    0\nName: 10000005, dtype: object"
      }
     ],
     "prompt_number": 289
    },
    {
     "cell_type": "code",
     "collapsed": false,
     "input": "# save the result cause it took forever to compute !\ndf_op_change.to_csv('/Users/Paul/Desktop/Allstate/' + 'options_changes.csv')",
     "language": "python",
     "metadata": {},
     "outputs": [],
     "prompt_number": 293
    },
    {
     "cell_type": "markdown",
     "metadata": {},
     "source": "What is the average number of changes per option ?"
    },
    {
     "cell_type": "code",
     "collapsed": false,
     "input": "df_op_change.sum() / df_op_change.count()",
     "language": "python",
     "metadata": {},
     "outputs": [
      {
       "metadata": {},
       "output_type": "pyout",
       "prompt_number": 301,
       "text": "A    0.423043\nB    0.281551\nC    0.454174\nD    0.318785\nE    0.309466\nF    0.430249\nG    0.575400\ndtype: float64"
      }
     ],
     "prompt_number": 301
    },
    {
     "cell_type": "markdown",
     "metadata": {},
     "source": "Check the test dataset"
    },
    {
     "cell_type": "code",
     "collapsed": false,
     "input": "df_test = pd.read_csv('/Users/Paul/Desktop/Allstate/' + 'test_v2.csv')",
     "language": "python",
     "metadata": {},
     "outputs": [],
     "prompt_number": 319
    },
    {
     "cell_type": "code",
     "collapsed": false,
     "input": "test_trans_count = df_train.groupby('customer_ID')['customer_ID'].count().value_counts().sort_index()",
     "language": "python",
     "metadata": {},
     "outputs": [],
     "prompt_number": 196
    },
    {
     "cell_type": "code",
     "collapsed": false,
     "input": "test_trans_count",
     "language": "python",
     "metadata": {},
     "outputs": [
      {
       "metadata": {},
       "output_type": "pyout",
       "prompt_number": 201,
       "text": "3      5568\n4      8001\n5     11269\n6     15623\n7     18590\n8     17248\n9     11985\n10     6071\n11     2129\n12      475\n13       50\ndtype: int64"
      }
     ],
     "prompt_number": 201
    },
    {
     "cell_type": "code",
     "collapsed": false,
     "input": "test_trans_count.plot(kind='bar')\n# plt.hist(test_trans_count)",
     "language": "python",
     "metadata": {},
     "outputs": [
      {
       "metadata": {},
       "output_type": "pyout",
       "prompt_number": 202,
       "text": "<matplotlib.axes.AxesSubplot at 0x1079c6610>"
      },
      {
       "metadata": {},
       "output_type": "display_data",
       "png": "[encoded data removed]",
       "text": "<matplotlib.figure.Figure at 0x107511890>"
      }
     ],
     "prompt_number": 202
    },
    {
     "cell_type": "markdown",
     "metadata": {},
     "source": "The disitrbution seems similar to the train data.  Do we really need to truncate the train transaction data?"
    },
    {
     "cell_type": "markdown",
     "metadata": {},
     "source": "Let's look at the probabilities of the kinds of transitions on a per option basis by counting them all"
    },
    {
     "cell_type": "code",
     "collapsed": false,
     "input": "def opt_transitions(df_groupby, opt, states):\n    df_transitions = pd.DataFrame(index=states,columns=states).fillna(0)\n    base = 0        # base index in gp, incremented per groupby group\n    for k, gp in df_groupby:\n        for i in range(base,base+(len(gp)-1)):\n            df_transitions.ix[gp[opt][i],gp[opt][i+1]] += 1\n        base += len(gp)+1\n    return df_transitions",
     "language": "python",
     "metadata": {},
     "outputs": [],
     "prompt_number": 203
    },
    {
     "cell_type": "code",
     "collapsed": false,
     "input": "df_A = opt_transitions(df_shop_groupby,'A',[0,1,2])",
     "language": "python",
     "metadata": {},
     "outputs": [],
     "prompt_number": 53
    },
    {
     "cell_type": "code",
     "collapsed": false,
     "input": "df_B = opt_transitions(df_shop_groupby,'B',[0,1])",
     "language": "python",
     "metadata": {},
     "outputs": [],
     "prompt_number": 55
    },
    {
     "cell_type": "code",
     "collapsed": false,
     "input": "df_C = opt_transitions(df_shop_groupby,'C',[1,2,3,4])",
     "language": "python",
     "metadata": {},
     "outputs": [],
     "prompt_number": 56
    },
    {
     "cell_type": "code",
     "collapsed": false,
     "input": "df_D = opt_transitions(df_shop_groupby,'D',[1,2,3])",
     "language": "python",
     "metadata": {},
     "outputs": [],
     "prompt_number": 57
    },
    {
     "cell_type": "code",
     "collapsed": false,
     "input": "df_E = opt_transitions(df_shop_groupby,'E',[0,1])",
     "language": "python",
     "metadata": {},
     "outputs": [],
     "prompt_number": 58
    },
    {
     "cell_type": "code",
     "collapsed": false,
     "input": "df_F = opt_transitions(df_shop_groupby,'F',[0,1,2,3])",
     "language": "python",
     "metadata": {},
     "outputs": [],
     "prompt_number": 66
    },
    {
     "cell_type": "code",
     "collapsed": false,
     "input": "df_G = opt_transitions(df_shop_groupby,'G',[1,2,3,4])",
     "language": "python",
     "metadata": {},
     "outputs": [],
     "prompt_number": 69
    },
    {
     "cell_type": "code",
     "collapsed": false,
     "input": "tot_transitions = df_A.sum().sum()",
     "language": "python",
     "metadata": {},
     "outputs": [],
     "prompt_number": 502
    },
    {
     "cell_type": "code",
     "collapsed": false,
     "input": "df_A / tot_transitions",
     "language": "python",
     "metadata": {},
     "outputs": [
      {
       "html": "<div style=\"max-height:1000px;max-width:1500px;overflow:auto;\">\n<table border=\"1\" class=\"dataframe\">\n  <thead>\n    <tr style=\"text-align: right;\">\n      <th></th>\n      <th>0</th>\n      <th>1</th>\n      <th>2</th>\n    </tr>\n  </thead>\n  <tbody>\n    <tr>\n      <th>0</th>\n      <td>   0.1829167</td>\n      <td> 0.02641804</td>\n      <td> 0.005755139</td>\n    </tr>\n    <tr>\n      <th>1</th>\n      <td>   0.0243405</td>\n      <td>  0.6065857</td>\n      <td>  0.01649934</td>\n    </tr>\n    <tr>\n      <th>2</th>\n      <td> 0.003985307</td>\n      <td> 0.01009059</td>\n      <td>   0.1234087</td>\n    </tr>\n  </tbody>\n</table>\n<p>3 rows \u00d7 3 columns</p>\n</div>",
       "metadata": {},
       "output_type": "pyout",
       "prompt_number": 503,
       "text": "             0           1            2\n0    0.1829167  0.02641804  0.005755139\n1    0.0243405   0.6065857   0.01649934\n2  0.003985307  0.01009059    0.1234087\n\n[3 rows x 3 columns]"
      }
     ],
     "prompt_number": 503
    },
    {
     "cell_type": "code",
     "collapsed": false,
     "input": "df_B / tot_transitions",
     "language": "python",
     "metadata": {},
     "outputs": [
      {
       "html": "<div style=\"max-height:1000px;max-width:1500px;overflow:auto;\">\n<table border=\"1\" class=\"dataframe\">\n  <thead>\n    <tr style=\"text-align: right;\">\n      <th></th>\n      <th>0</th>\n      <th>1</th>\n    </tr>\n  </thead>\n  <tbody>\n    <tr>\n      <th>0</th>\n      <td>  0.5167826</td>\n      <td> 0.03617546</td>\n    </tr>\n    <tr>\n      <th>1</th>\n      <td> 0.02178549</td>\n      <td>  0.4252564</td>\n    </tr>\n  </tbody>\n</table>\n<p>2 rows \u00d7 2 columns</p>\n</div>",
       "metadata": {},
       "output_type": "pyout",
       "prompt_number": 504,
       "text": "            0           1\n0   0.5167826  0.03617546\n1  0.02178549   0.4252564\n\n[2 rows x 2 columns]"
      }
     ],
     "prompt_number": 504
    },
    {
     "cell_type": "code",
     "collapsed": false,
     "input": "df_C / tot_transitions",
     "language": "python",
     "metadata": {},
     "outputs": [
      {
       "html": "<div style=\"max-height:1000px;max-width:1500px;overflow:auto;\">\n<table border=\"1\" class=\"dataframe\">\n  <thead>\n    <tr style=\"text-align: right;\">\n      <th></th>\n      <th>1</th>\n      <th>2</th>\n      <th>3</th>\n      <th>4</th>\n    </tr>\n  </thead>\n  <tbody>\n    <tr>\n      <th>1</th>\n      <td>    0.2779571</td>\n      <td>   0.01184557</td>\n      <td>  0.01486744</td>\n      <td> 0.002994285</td>\n    </tr>\n    <tr>\n      <th>2</th>\n      <td>  0.009566433</td>\n      <td>    0.1768496</td>\n      <td> 0.009099571</td>\n      <td> 0.001638262</td>\n    </tr>\n    <tr>\n      <th>3</th>\n      <td>   0.01588181</td>\n      <td>   0.01514119</td>\n      <td>   0.3746931</td>\n      <td> 0.008032154</td>\n    </tr>\n    <tr>\n      <th>4</th>\n      <td> 0.0005941884</td>\n      <td> 0.0006981714</td>\n      <td> 0.003138588</td>\n      <td>  0.07700257</td>\n    </tr>\n  </tbody>\n</table>\n<p>4 rows \u00d7 4 columns</p>\n</div>",
       "metadata": {},
       "output_type": "pyout",
       "prompt_number": 505,
       "text": "              1             2            3            4\n1     0.2779571    0.01184557   0.01486744  0.002994285\n2   0.009566433     0.1768496  0.009099571  0.001638262\n3    0.01588181    0.01514119    0.3746931  0.008032154\n4  0.0005941884  0.0006981714  0.003138588   0.07700257\n\n[4 rows x 4 columns]"
      }
     ],
     "prompt_number": 505
    },
    {
     "cell_type": "code",
     "collapsed": false,
     "input": "df_D / tot_transitions",
     "language": "python",
     "metadata": {},
     "outputs": [
      {
       "html": "<div style=\"max-height:1000px;max-width:1500px;overflow:auto;\">\n<table border=\"1\" class=\"dataframe\">\n  <thead>\n    <tr style=\"text-align: right;\">\n      <th></th>\n      <th>1</th>\n      <th>2</th>\n      <th>3</th>\n    </tr>\n  </thead>\n  <tbody>\n    <tr>\n      <th>1</th>\n      <td>   0.1416078</td>\n      <td> 0.01186255</td>\n      <td> 0.01698318</td>\n    </tr>\n    <tr>\n      <th>2</th>\n      <td>  0.00388769</td>\n      <td>  0.2049419</td>\n      <td> 0.01618102</td>\n    </tr>\n    <tr>\n      <th>3</th>\n      <td> 0.005918541</td>\n      <td> 0.01079301</td>\n      <td>  0.5878242</td>\n    </tr>\n  </tbody>\n</table>\n<p>3 rows \u00d7 3 columns</p>\n</div>",
       "metadata": {},
       "output_type": "pyout",
       "prompt_number": 506,
       "text": "             1           2           3\n1    0.1416078  0.01186255  0.01698318\n2   0.00388769   0.2049419  0.01618102\n3  0.005918541  0.01079301   0.5878242\n\n[3 rows x 3 columns]"
      }
     ],
     "prompt_number": 506
    },
    {
     "cell_type": "code",
     "collapsed": false,
     "input": "df_E / tot_transitions",
     "language": "python",
     "metadata": {},
     "outputs": [
      {
       "html": "<div style=\"max-height:1000px;max-width:1500px;overflow:auto;\">\n<table border=\"1\" class=\"dataframe\">\n  <thead>\n    <tr style=\"text-align: right;\">\n      <th></th>\n      <th>0</th>\n      <th>1</th>\n    </tr>\n  </thead>\n  <tbody>\n    <tr>\n      <th>0</th>\n      <td>  0.5227988</td>\n      <td> 0.03685454</td>\n    </tr>\n    <tr>\n      <th>1</th>\n      <td> 0.02685307</td>\n      <td>  0.4134936</td>\n    </tr>\n  </tbody>\n</table>\n<p>2 rows \u00d7 2 columns</p>\n</div>",
       "metadata": {},
       "output_type": "pyout",
       "prompt_number": 507,
       "text": "            0           1\n0   0.5227988  0.03685454\n1  0.02685307   0.4134936\n\n[2 rows x 2 columns]"
      }
     ],
     "prompt_number": 507
    },
    {
     "cell_type": "code",
     "collapsed": false,
     "input": "df_F / tot_transitions",
     "language": "python",
     "metadata": {},
     "outputs": [
      {
       "html": "<div style=\"max-height:1000px;max-width:1500px;overflow:auto;\">\n<table border=\"1\" class=\"dataframe\">\n  <thead>\n    <tr style=\"text-align: right;\">\n      <th></th>\n      <th>0</th>\n      <th>1</th>\n      <th>2</th>\n      <th>3</th>\n    </tr>\n  </thead>\n  <tbody>\n    <tr>\n      <th>0</th>\n      <td>   0.2953159</td>\n      <td> 0.009566433</td>\n      <td>  0.01892278</td>\n      <td> 0.002854226</td>\n    </tr>\n    <tr>\n      <th>1</th>\n      <td> 0.006788603</td>\n      <td>   0.2175239</td>\n      <td>  0.01037708</td>\n      <td> 0.001224453</td>\n    </tr>\n    <tr>\n      <th>2</th>\n      <td>  0.01365785</td>\n      <td>  0.01290238</td>\n      <td>    0.355244</td>\n      <td> 0.005876099</td>\n    </tr>\n    <tr>\n      <th>3</th>\n      <td> 0.001476983</td>\n      <td> 0.001247796</td>\n      <td> 0.003677602</td>\n      <td>  0.04334392</td>\n    </tr>\n  </tbody>\n</table>\n<p>4 rows \u00d7 4 columns</p>\n</div>",
       "metadata": {},
       "output_type": "pyout",
       "prompt_number": 508,
       "text": "             0            1            2            3\n0    0.2953159  0.009566433   0.01892278  0.002854226\n1  0.006788603    0.2175239   0.01037708  0.001224453\n2   0.01365785   0.01290238     0.355244  0.005876099\n3  0.001476983  0.001247796  0.003677602   0.04334392\n\n[4 rows x 4 columns]"
      }
     ],
     "prompt_number": 508
    },
    {
     "cell_type": "code",
     "collapsed": false,
     "input": "df_G / tot_transitions",
     "language": "python",
     "metadata": {},
     "outputs": [
      {
       "html": "<div style=\"max-height:1000px;max-width:1500px;overflow:auto;\">\n<table border=\"1\" class=\"dataframe\">\n  <thead>\n    <tr style=\"text-align: right;\">\n      <th></th>\n      <th>1</th>\n      <th>2</th>\n      <th>3</th>\n      <th>4</th>\n    </tr>\n  </thead>\n  <tbody>\n    <tr>\n      <th>1</th>\n      <td>   0.1901021</td>\n      <td>  0.01593698</td>\n      <td> 0.005358306</td>\n      <td> 0.001814397</td>\n    </tr>\n    <tr>\n      <th>2</th>\n      <td>  0.01837528</td>\n      <td>   0.3593927</td>\n      <td>  0.01591576</td>\n      <td> 0.005744529</td>\n    </tr>\n    <tr>\n      <th>3</th>\n      <td>  0.00385798</td>\n      <td> 0.008668785</td>\n      <td>   0.2612922</td>\n      <td> 0.005169439</td>\n    </tr>\n    <tr>\n      <th>4</th>\n      <td> 0.007346715</td>\n      <td>  0.01608128</td>\n      <td>  0.01418413</td>\n      <td>  0.07075935</td>\n    </tr>\n  </tbody>\n</table>\n<p>4 rows \u00d7 4 columns</p>\n</div>",
       "metadata": {},
       "output_type": "pyout",
       "prompt_number": 509,
       "text": "             1            2            3            4\n1    0.1901021   0.01593698  0.005358306  0.001814397\n2   0.01837528    0.3593927   0.01591576  0.005744529\n3   0.00385798  0.008668785    0.2612922  0.005169439\n4  0.007346715   0.01608128   0.01418413   0.07075935\n\n[4 rows x 4 columns]"
      }
     ],
     "prompt_number": 509
    },
    {
     "cell_type": "code",
     "collapsed": false,
     "input": "# get the last row of every shop transaction in the train set\nl_shop_last = []\nfor i, j in df_shop_groupby:\n    row = j[j['shopping_pt'] == len(j)].values\n    l_shop_last.append(row[0])",
     "language": "python",
     "metadata": {},
     "outputs": [],
     "prompt_number": 561
    },
    {
     "cell_type": "code",
     "collapsed": false,
     "input": "l_shop_last[:2]",
     "language": "python",
     "metadata": {},
     "outputs": [
      {
       "metadata": {},
       "output_type": "pyout",
       "prompt_number": 560,
       "text": "[]"
      }
     ],
     "prompt_number": 560
    },
    {
     "cell_type": "code",
     "collapsed": false,
     "input": "#save l_shop_last to file\nimport csv\ncsvfile = '/Users/Paul/Desktop/Allstate/' + 'shop_last.csv'\nwith open(csvfile, \"wb\") as output:\n    writer = csv.writer(output, delimiter=',',lineterminator='\\n')\n    for val in l_shop_last:\n        writer.writerow(val)",
     "language": "python",
     "metadata": {},
     "outputs": [],
     "prompt_number": 307
    },
    {
     "cell_type": "code",
     "collapsed": false,
     "input": "df_shop_last = pd.DataFrame(l_shop_last, columns=list(df_purchase.columns)).set_index(['customer_ID'])",
     "language": "python",
     "metadata": {},
     "outputs": [],
     "prompt_number": 562
    },
    {
     "cell_type": "code",
     "collapsed": false,
     "input": "# this depends on the global l_options and maybe it should not\ndef evaluation(df_predicted, df_actual):\n    cols = len(l_options)\n    den = len(df_predicted)\n    df_r = df_predicted[l_options] == df_actual[l_options]\n    df_diff = df_r[df_r.apply(np.sum,axis=1) < cols]\n    return float(len(df_diff)) / float(len(df_predicted))",
     "language": "python",
     "metadata": {},
     "outputs": [],
     "prompt_number": 587
    },
    {
     "cell_type": "code",
     "collapsed": false,
     "input": "# make sure this works\na = evaluation(df, df)\na",
     "language": "python",
     "metadata": {},
     "outputs": [
      {
       "metadata": {},
       "output_type": "pyout",
       "prompt_number": 559,
       "text": "1"
      }
     ],
     "prompt_number": 559
    },
    {
     "cell_type": "code",
     "collapsed": false,
     "input": "df_purchase_x = df_purchase.set_index(['customer_ID'])\nevaluation(df_shop_last,df_purchase_x)",
     "language": "python",
     "metadata": {},
     "outputs": [
      {
       "metadata": {},
       "output_type": "pyout",
       "prompt_number": 589,
       "text": "0.3121050624168892"
      }
     ],
     "prompt_number": 589
    },
    {
     "cell_type": "code",
     "collapsed": false,
     "input": "df_purchase_x[l_options][:5]",
     "language": "python",
     "metadata": {},
     "outputs": [
      {
       "html": "<div style=\"max-height:1000px;max-width:1500px;overflow:auto;\">\n<table border=\"1\" class=\"dataframe\">\n  <thead>\n    <tr style=\"text-align: right;\">\n      <th></th>\n      <th>A</th>\n      <th>B</th>\n      <th>C</th>\n      <th>D</th>\n      <th>E</th>\n      <th>F</th>\n      <th>G</th>\n    </tr>\n    <tr>\n      <th>customer_ID</th>\n      <th></th>\n      <th></th>\n      <th></th>\n      <th></th>\n      <th></th>\n      <th></th>\n      <th></th>\n    </tr>\n  </thead>\n  <tbody>\n    <tr>\n      <th>10000000</th>\n      <td> 1</td>\n      <td> 0</td>\n      <td> 2</td>\n      <td> 2</td>\n      <td> 1</td>\n      <td> 2</td>\n      <td> 1</td>\n    </tr>\n    <tr>\n      <th>10000005</th>\n      <td> 0</td>\n      <td> 0</td>\n      <td> 3</td>\n      <td> 2</td>\n      <td> 0</td>\n      <td> 0</td>\n      <td> 2</td>\n    </tr>\n    <tr>\n      <th>10000007</th>\n      <td> 0</td>\n      <td> 0</td>\n      <td> 1</td>\n      <td> 2</td>\n      <td> 0</td>\n      <td> 0</td>\n      <td> 1</td>\n    </tr>\n    <tr>\n      <th>10000013</th>\n      <td> 1</td>\n      <td> 1</td>\n      <td> 3</td>\n      <td> 2</td>\n      <td> 1</td>\n      <td> 1</td>\n      <td> 3</td>\n    </tr>\n    <tr>\n      <th>10000014</th>\n      <td> 1</td>\n      <td> 1</td>\n      <td> 1</td>\n      <td> 1</td>\n      <td> 0</td>\n      <td> 2</td>\n      <td> 2</td>\n    </tr>\n  </tbody>\n</table>\n<p>5 rows \u00d7 7 columns</p>\n</div>",
       "metadata": {},
       "output_type": "pyout",
       "prompt_number": 563,
       "text": "             A  B  C  D  E  F  G\ncustomer_ID                     \n10000000     1  0  2  2  1  2  1\n10000005     0  0  3  2  0  0  2\n10000007     0  0  1  2  0  0  1\n10000013     1  1  3  2  1  1  3\n10000014     1  1  1  1  0  2  2\n\n[5 rows x 7 columns]"
      }
     ],
     "prompt_number": 563
    },
    {
     "cell_type": "code",
     "collapsed": false,
     "input": "df_shop_last[l_options][:5]",
     "language": "python",
     "metadata": {},
     "outputs": [
      {
       "html": "<div style=\"max-height:1000px;max-width:1500px;overflow:auto;\">\n<table border=\"1\" class=\"dataframe\">\n  <thead>\n    <tr style=\"text-align: right;\">\n      <th></th>\n      <th>A</th>\n      <th>B</th>\n      <th>C</th>\n      <th>D</th>\n      <th>E</th>\n      <th>F</th>\n      <th>G</th>\n    </tr>\n    <tr>\n      <th>customer_ID</th>\n      <th></th>\n      <th></th>\n      <th></th>\n      <th></th>\n      <th></th>\n      <th></th>\n      <th></th>\n    </tr>\n  </thead>\n  <tbody>\n    <tr>\n      <th>10000000</th>\n      <td> 1</td>\n      <td> 0</td>\n      <td> 2</td>\n      <td> 2</td>\n      <td> 1</td>\n      <td> 2</td>\n      <td> 1</td>\n    </tr>\n    <tr>\n      <th>10000005</th>\n      <td> 0</td>\n      <td> 0</td>\n      <td> 3</td>\n      <td> 2</td>\n      <td> 0</td>\n      <td> 0</td>\n      <td> 2</td>\n    </tr>\n    <tr>\n      <th>10000007</th>\n      <td> 0</td>\n      <td> 0</td>\n      <td> 2</td>\n      <td> 2</td>\n      <td> 0</td>\n      <td> 0</td>\n      <td> 1</td>\n    </tr>\n    <tr>\n      <th>10000013</th>\n      <td> 1</td>\n      <td> 1</td>\n      <td> 3</td>\n      <td> 2</td>\n      <td> 1</td>\n      <td> 1</td>\n      <td> 3</td>\n    </tr>\n    <tr>\n      <th>10000014</th>\n      <td> 1</td>\n      <td> 1</td>\n      <td> 1</td>\n      <td> 1</td>\n      <td> 0</td>\n      <td> 2</td>\n      <td> 2</td>\n    </tr>\n  </tbody>\n</table>\n<p>5 rows \u00d7 7 columns</p>\n</div>",
       "metadata": {},
       "output_type": "pyout",
       "prompt_number": 564,
       "text": "             A  B  C  D  E  F  G\ncustomer_ID                     \n10000000     1  0  2  2  1  2  1\n10000005     0  0  3  2  0  0  2\n10000007     0  0  2  2  0  0  1\n10000013     1  1  3  2  1  1  3\n10000014     1  1  1  1  0  2  2\n\n[5 rows x 7 columns]"
      }
     ],
     "prompt_number": 564
    },
    {
     "cell_type": "code",
     "collapsed": false,
     "input": "#create a list of 'vectors' that represent the union of all options during shopping as one number.\n\nl_shop_kinds = []\nfor v in df_shop.index:\n    vec = 0\n    for i in range(len(l_options)):\n        vec  += df_shop.ix[v][l_options[i]]*10**(6-i)\n    l_shop_kinds_1.append(vec)",
     "language": "python",
     "metadata": {},
     "outputs": [],
     "prompt_number": 35
    },
    {
     "cell_type": "code",
     "collapsed": false,
     "input": "csvfile = '/Users/Paul/Desktop/Allstate/' + 'shop_kinds.csv'\nwith open(csvfile, \"wb\") as output:\n    writer = csv.writer(output, delimiter=',',lineterminator='\\n')\n    for row in l_shop_kinds:\n        writer.writerow([row])",
     "language": "python",
     "metadata": {},
     "outputs": [],
     "prompt_number": 492
    },
    {
     "cell_type": "code",
     "collapsed": false,
     "input": "#create a list of 'vectors' that represent the union of all options at final purchase time as one number.\n# this should use the function form as used for l_shop_kinds above, but needs to be converted\n\nl_purchase_kinds = []\nfor v in df_purchase.index:\n    vec  = df_purchase.ix[v][l_options[0]]*1000000\n    vec += df_purchase.ix[v][l_options[1]]*100000\n    vec += df_purchase.ix[v][l_options[2]]*10000\n    vec += df_purchase.ix[v][l_options[3]]*1000\n    vec += df_purchase.ix[v][l_options[4]]*100\n    vec += df_purchase.ix[v][l_options[5]]*10\n    vec += df_purchase.ix[v][l_options[6]]*1\n    l_purchase_kinds.append(vec)",
     "language": "python",
     "metadata": {},
     "outputs": [],
     "prompt_number": 37
    },
    {
     "cell_type": "code",
     "collapsed": false,
     "input": "csvfile = '/Users/Paul/Desktop/Allstate/' + 'purchase_kinds.csv'\nwith open(csvfile, \"wb\") as output:\n    writer = csv.writer(output, delimiter=',',lineterminator='\\n')\n    for row in l_purchase_kinds:\n        writer.writerow([row])",
     "language": "python",
     "metadata": {},
     "outputs": [],
     "prompt_number": 494
    },
    {
     "cell_type": "code",
     "collapsed": false,
     "input": "len(l_purchase_kinds)",
     "language": "python",
     "metadata": {},
     "outputs": [
      {
       "metadata": {},
       "output_type": "pyout",
       "prompt_number": 516,
       "text": "97009"
      }
     ],
     "prompt_number": 516
    },
    {
     "cell_type": "markdown",
     "metadata": {},
     "source": "How many possible options packages are there? "
    },
    {
     "cell_type": "code",
     "collapsed": false,
     "input": "len(df_A.columns) * \\\nlen(df_B.columns) * \\\nlen(df_C.columns) * \\\nlen(df_D.columns) * \\\nlen(df_E.columns) * \\\nlen(df_F.columns) * \\\nlen(df_G.columns)\n",
     "language": "python",
     "metadata": {},
     "outputs": [
      {
       "metadata": {},
       "output_type": "pyout",
       "prompt_number": 532,
       "text": "2304"
      }
     ],
     "prompt_number": 532
    },
    {
     "cell_type": "code",
     "collapsed": false,
     "input": "from collections import Counter\nc_shop_unique_count = Counter(l_shop_kinds)\nc_purchase_unique_count = Counter(l_purchase_kinds)",
     "language": "python",
     "metadata": {},
     "outputs": [],
     "prompt_number": 495
    },
    {
     "cell_type": "code",
     "collapsed": false,
     "input": "total_shop_unique = len(c_shop_unique_count)\ntotal_shop_unique",
     "language": "python",
     "metadata": {},
     "outputs": [
      {
       "metadata": {},
       "output_type": "pyout",
       "prompt_number": 498,
       "text": "1778"
      }
     ],
     "prompt_number": 498
    },
    {
     "cell_type": "code",
     "collapsed": false,
     "input": "total_purchase_unique = len(c_purchase_unique_count)\ntotal_purchase_unique",
     "language": "python",
     "metadata": {},
     "outputs": [
      {
       "metadata": {},
       "output_type": "pyout",
       "prompt_number": 499,
       "text": "1522"
      }
     ],
     "prompt_number": 499
    },
    {
     "cell_type": "heading",
     "level": 4,
     "metadata": {},
     "source": "So of 2304 possible packages, 1778 are shopped, and only 1522 are actually purchased"
    },
    {
     "cell_type": "markdown",
     "metadata": {},
     "source": "Let's count how many purchase transactions selected the same option package and determine the popularity of packages."
    },
    {
     "cell_type": "code",
     "collapsed": false,
     "input": "df_purchase_kinds = pd.DataFrame(l_purchase_kinds, columns=['options'], index=df_purchase.index)",
     "language": "python",
     "metadata": {},
     "outputs": [],
     "prompt_number": 39
    },
    {
     "cell_type": "code",
     "collapsed": false,
     "input": "df_purchase_kinds_groupby = df_purchase_kinds.groupby('options')",
     "language": "python",
     "metadata": {},
     "outputs": [],
     "prompt_number": 76
    },
    {
     "cell_type": "code",
     "collapsed": false,
     "input": "option_counts = df_purchase_kinds_groupby.count().sort(['options'],ascending=False)",
     "language": "python",
     "metadata": {},
     "outputs": [],
     "prompt_number": 66
    },
    {
     "cell_type": "code",
     "collapsed": false,
     "input": "option_counts.plot(kind='bar',xticks=[500,1000,1500,2000])",
     "language": "python",
     "metadata": {},
     "outputs": [
      {
       "metadata": {},
       "output_type": "pyout",
       "prompt_number": 90,
       "text": "<matplotlib.axes.AxesSubplot at 0x172bd6d90>"
      },
      {
       "metadata": {},
       "output_type": "display_data",
       "png": "[encoded data removed]",
       "text": "<matplotlib.figure.Figure at 0x1667fa510>"
      }
     ],
     "prompt_number": 90
    },
    {
     "cell_type": "code",
     "collapsed": false,
     "input": "option_counts.plot(kind='line',logy=True,use_index=False)",
     "language": "python",
     "metadata": {},
     "outputs": [
      {
       "metadata": {},
       "output_type": "pyout",
       "prompt_number": 86,
       "text": "<matplotlib.axes.AxesSubplot at 0x15a773950>"
      },
      {
       "metadata": {},
       "output_type": "display_data",
       "png": "[encoded data removed]",
       "text": "<matplotlib.figure.Figure at 0x156e26e10>"
      }
     ],
     "prompt_number": 86
    },
    {
     "cell_type": "code",
     "collapsed": false,
     "input": "option_counts[:200]",
     "language": "python",
     "metadata": {},
     "outputs": [
      {
       "html": "<div style=\"max-height:1000px;max-width:1500px;overflow:auto;\">\n<table border=\"1\" class=\"dataframe\">\n  <thead>\n    <tr style=\"text-align: right;\">\n      <th></th>\n      <th>options</th>\n    </tr>\n    <tr>\n      <th>options</th>\n      <th></th>\n    </tr>\n  </thead>\n  <tbody>\n    <tr>\n      <th>11002  </th>\n      <td> 1998</td>\n    </tr>\n    <tr>\n      <th>1133123</th>\n      <td> 1818</td>\n    </tr>\n    <tr>\n      <th>33002  </th>\n      <td> 1515</td>\n    </tr>\n    <tr>\n      <th>1133113</th>\n      <td> 1492</td>\n    </tr>\n    <tr>\n      <th>1133102</th>\n      <td> 1301</td>\n    </tr>\n    <tr>\n      <th>1133122</th>\n      <td> 1208</td>\n    </tr>\n    <tr>\n      <th>1033023</th>\n      <td> 1121</td>\n    </tr>\n    <tr>\n      <th>1133112</th>\n      <td> 1044</td>\n    </tr>\n    <tr>\n      <th>12002  </th>\n      <td> 1043</td>\n    </tr>\n    <tr>\n      <th>11001  </th>\n      <td>  961</td>\n    </tr>\n    <tr>\n      <th>1033022</th>\n      <td>  929</td>\n    </tr>\n    <tr>\n      <th>1033123</th>\n      <td>  924</td>\n    </tr>\n    <tr>\n      <th>22002  </th>\n      <td>  913</td>\n    </tr>\n    <tr>\n      <th>1033113</th>\n      <td>  857</td>\n    </tr>\n    <tr>\n      <th>1133121</th>\n      <td>  854</td>\n    </tr>\n    <tr>\n      <th>1033002</th>\n      <td>  845</td>\n    </tr>\n    <tr>\n      <th>1033013</th>\n      <td>  777</td>\n    </tr>\n    <tr>\n      <th>23002  </th>\n      <td>  722</td>\n    </tr>\n    <tr>\n      <th>1033102</th>\n      <td>  710</td>\n    </tr>\n    <tr>\n      <th>1033012</th>\n      <td>  684</td>\n    </tr>\n    <tr>\n      <th>1113123</th>\n      <td>  658</td>\n    </tr>\n    <tr>\n      <th>13002  </th>\n      <td>  657</td>\n    </tr>\n    <tr>\n      <th>1133124</th>\n      <td>  639</td>\n    </tr>\n    <tr>\n      <th>133002 </th>\n      <td>  604</td>\n    </tr>\n    <tr>\n      <th>1033021</th>\n      <td>  599</td>\n    </tr>\n    <tr>\n      <th>1011022</th>\n      <td>  598</td>\n    </tr>\n    <tr>\n      <th>1133114</th>\n      <td>  595</td>\n    </tr>\n    <tr>\n      <th>1133111</th>\n      <td>  584</td>\n    </tr>\n    <tr>\n      <th>1111122</th>\n      <td>  574</td>\n    </tr>\n    <tr>\n      <th>1122122</th>\n      <td>  563</td>\n    </tr>\n    <tr>\n      <th>1143123</th>\n      <td>  541</td>\n    </tr>\n    <tr>\n      <th>1123123</th>\n      <td>  532</td>\n    </tr>\n    <tr>\n      <th>33001  </th>\n      <td>  531</td>\n    </tr>\n    <tr>\n      <th>33003  </th>\n      <td>  520</td>\n    </tr>\n    <tr>\n      <th>1133022</th>\n      <td>  494</td>\n    </tr>\n    <tr>\n      <th>1111121</th>\n      <td>  481</td>\n    </tr>\n    <tr>\n      <th>1143113</th>\n      <td>  477</td>\n    </tr>\n    <tr>\n      <th>111002 </th>\n      <td>  477</td>\n    </tr>\n    <tr>\n      <th>1033112</th>\n      <td>  476</td>\n    </tr>\n    <tr>\n      <th>12001  </th>\n      <td>  476</td>\n    </tr>\n    <tr>\n      <th>11003  </th>\n      <td>  473</td>\n    </tr>\n    <tr>\n      <th>1022022</th>\n      <td>  466</td>\n    </tr>\n    <tr>\n      <th>1143102</th>\n      <td>  465</td>\n    </tr>\n    <tr>\n      <th>2133102</th>\n      <td>  456</td>\n    </tr>\n    <tr>\n      <th>1133023</th>\n      <td>  451</td>\n    </tr>\n    <tr>\n      <th>1122121</th>\n      <td>  450</td>\n    </tr>\n    <tr>\n      <th>13003  </th>\n      <td>  450</td>\n    </tr>\n    <tr>\n      <th>13001  </th>\n      <td>  441</td>\n    </tr>\n    <tr>\n      <th>1013023</th>\n      <td>  430</td>\n    </tr>\n    <tr>\n      <th>1123113</th>\n      <td>  427</td>\n    </tr>\n    <tr>\n      <th>1122112</th>\n      <td>  421</td>\n    </tr>\n    <tr>\n      <th>1012023</th>\n      <td>  401</td>\n    </tr>\n    <tr>\n      <th>1011021</th>\n      <td>  396</td>\n    </tr>\n    <tr>\n      <th>112002 </th>\n      <td>  383</td>\n    </tr>\n    <tr>\n      <th>1112123</th>\n      <td>  379</td>\n    </tr>\n    <tr>\n      <th>123002 </th>\n      <td>  373</td>\n    </tr>\n    <tr>\n      <th>122002 </th>\n      <td>  372</td>\n    </tr>\n    <tr>\n      <th>1033122</th>\n      <td>  371</td>\n    </tr>\n    <tr>\n      <th>1113113</th>\n      <td>  371</td>\n    </tr>\n    <tr>\n      <th>12003  </th>\n      <td>  370</td>\n    </tr>\n    <tr>\n      <th></th>\n      <td>...</td>\n    </tr>\n  </tbody>\n</table>\n<p>200 rows \u00d7 1 columns</p>\n</div>",
       "metadata": {},
       "output_type": "pyout",
       "prompt_number": 75,
       "text": "         options\noptions         \n11002       1998\n1133123     1818\n33002       1515\n1133113     1492\n1133102     1301\n1133122     1208\n1033023     1121\n1133112     1044\n12002       1043\n11001        961\n1033022      929\n1033123      924\n22002        913\n1033113      857\n1133121      854\n1033002      845\n1033013      777\n23002        722\n1033102      710\n1033012      684\n1113123      658\n13002        657\n1133124      639\n133002       604\n1033021      599\n1011022      598\n1133114      595\n1133111      584\n1111122      574\n1122122      563\n1143123      541\n1123123      532\n33001        531\n33003        520\n1133022      494\n1111121      481\n1143113      477\n111002       477\n1033112      476\n12001        476\n11003        473\n1022022      466\n1143102      465\n2133102      456\n1133023      451\n1122121      450\n13003        450\n13001        441\n1013023      430\n1123113      427\n1122112      421\n1012023      401\n1011021      396\n112002       383\n1112123      379\n123002       373\n122002       372\n1033122      371\n1113113      371\n12003        370\n             ...\n\n[200 rows x 1 columns]"
      }
     ],
     "prompt_number": 75
    }
   ],
   "metadata": {}
  }
 ]
}