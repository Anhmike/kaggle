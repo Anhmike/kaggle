{
 "metadata": {
  "name": ""
 },
 "nbformat": 3,
 "nbformat_minor": 0,
 "worksheets": [
  {
   "cells": [
    {
     "cell_type": "markdown",
     "metadata": {},
     "source": [
      "# AllState Permutations"
     ]
    },
    {
     "cell_type": "markdown",
     "metadata": {},
     "source": [
      "# Predict a purchased policy based on transaction history #\n",
      "\n",
      "As a customer shops an insurance policy, he/she will receive a number of quotes with different coverage options before purchasing a plan. This is represented in this challenge as a series of rows that include a customer ID, information about the customer, information about the quoted policy, and the cost. Your task is to predict the purchased coverage options using a limited subset of the total interaction history. If the eventual purchase can be predicted sooner in the shopping window, the quoting process is shortened and the issuer is less likely to lose the customer's business.\n",
      "\n",
      "Using a customer\u2019s shopping history, can you predict what policy they will end up choosing?\n",
      "\n",
      "### Evaluation ###\n",
      "\n",
      "Submissions are evaluated on an all-or-none accuracy basis. You must predict every coverage option correctly to receive credit for a given customer. Your score is the percent of customers for whom you predict the exact purchased policy.\n",
      "\n",
      "### Submission File ###\n",
      "\n",
      "The submission format is created by concatenating each plan option (A,B,C,D,E,F,G) as a single string, in order. The file should contain a header and have the following format:\n",
      "\n",
      "```\n",
      "customer_ID,plan\n",
      "10000001,1111111\n",
      "10000002,1111111\n",
      "10000003,1111111\n",
      "...\n",
      "```\n",
      "\n",
      "### Files ###\n",
      "\n",
      "The training and test sets contain transaction history for customers that ended up purchasing a policy. For each customer_ID, you are given their quote history. In the training set you have the entire quote history, the last row of which contains the coverage options they purchased. In the test set, you have only a partial history of the quotes and do not have the purchased coverage options. These are truncated to certain lengths to simulate making predictions with less history (higher uncertainty) or more history (lower uncertainty).\n",
      "\n",
      "For each customer_ID in the test set, you must predict the seven coverage options they end up purchasing.\n",
      "\n",
      "### What is a customer? ###\n",
      "\n",
      "Each customer has many shopping points, where a shopping point is defined by a customer with certain characteristics viewing a product and its associated cost at a particular time.\n",
      "\n",
      "- Some customer characteristics may change over time (e.g. as the customer changes or provides new information), and the cost depends on both the product and the customer characteristics.\n",
      "- A customer may represent a collection of people, as policies can cover more than one person.\n",
      "- A customer may purchase a product that was not viewed!\n",
      "\n",
      "### Product Options ###\n",
      "\n",
      "Each product has 7 customizable options selected by customers, each with 2, 3, or 4 ordinal values possible:\n",
      "\n",
      "Option Name | Possible Values\n",
      ":---:|:---:\n",
      "A | 0,1,2\n",
      "B | 0,1\n",
      "C | 1,2,3,4\n",
      "D | 1,2,3\n",
      "E | 0,1\n",
      "F | 0,1,2,3\n",
      "G | 1,2,3,4\n",
      "\n",
      "\n",
      "A product is simply a vector with length 7 whose values are chosen from each of the options listed above. The cost of a product is a function of both the product options and customer characteristics.\n",
      "\n",
      "### Variable Descriptions ###\n",
      "\n",
      "- __customer_ID__ - A unique identifier for the customer\n",
      "- __shopping_pt__ - Unique identifier for the shopping point of a given customer\n",
      "- __record_type__ - 0=shopping point, 1=purchase point\n",
      "- __day__ - Day of the week (0-6, 0=Monday)\n",
      "- __time__ - Time of day (HH:MM)\n",
      "- __state__ - State where shopping point occurred\n",
      "- __location__ - Location ID where shopping point occurred\n",
      "- __group_size__ - How many people will be covered under the policy (1, 2, 3 or 4)\n",
      "- __homeowner__ - Whether the customer owns a home or not (0=no, 1=yes)\n",
      "- __car_age__ - Age of the customer\u2019s car\n",
      "- __car_value__ - How valuable was the customer\u2019s car when new\n",
      "- __risk_factor__ - An ordinal assessment of how risky the customer is (1, 2, 3, 4)\n",
      "- __age_oldest__ - Age of the oldest person in customer's group\n",
      "- __age_youngest__ - Age of the youngest person in customer\u2019s group\n",
      "- __married_couple__ - Does the customer group contain a married couple (0=no, 1=yes)\n",
      "- __C_previous__ - What the customer formerly had or currently has for product option C (0=nothing, 1, 2, 3,4)\n",
      "- __duration_previous__ -  how long (in years) the customer was covered by their previous issuer\n",
      "- __A,B,C,D,E,F,G__ - the coverage options\n",
      "- __cost__ - cost of the quoted coverage options"
     ]
    },
    {
     "cell_type": "markdown",
     "metadata": {},
     "source": [
      "## Initializations"
     ]
    },
    {
     "cell_type": "code",
     "collapsed": false,
     "input": [
      "import csv\n",
      "import numpy as np\n",
      "import itertools as it\n",
      "import pandas as pd\n",
      "import matplotlib.pyplot as plt\n",
      "%pylab inline"
     ],
     "language": "python",
     "metadata": {},
     "outputs": [
      {
       "output_type": "stream",
       "stream": "stdout",
       "text": [
        "Populating the interactive namespace from numpy and matplotlib\n"
       ]
      }
     ],
     "prompt_number": 132
    },
    {
     "cell_type": "code",
     "collapsed": false,
     "input": [
      "csv_dir = '/Users/Paul/Desktop/Allstate/'\n",
      "df_train = pd.read_csv(csv_dir + 'train.csv')\n",
      "\n",
      "s_customers = pd.Series(df_train.customer_ID.unique())\n",
      "\n",
      "l_columns = list(df_train.columns)"
     ],
     "language": "python",
     "metadata": {},
     "outputs": [],
     "prompt_number": 2
    },
    {
     "cell_type": "code",
     "collapsed": false,
     "input": [
      "df_train_grouped = df_train.groupby('customer_ID')"
     ],
     "language": "python",
     "metadata": {},
     "outputs": [],
     "prompt_number": 3
    },
    {
     "cell_type": "code",
     "collapsed": false,
     "input": [
      "# options support objects\n",
      "\n",
      "l_options =['A','B','C','D','E','F','G']\n",
      "\n",
      "l_A = [0,1,2]\n",
      "l_B = [0,1]\n",
      "l_C = [1,2,3,4]\n",
      "l_D = [1,2,3]\n",
      "l_E = [0,1]\n",
      "l_F = [0,1,2,3]\n",
      "l_G = [1,2,3,4]\n",
      "\n",
      "l_l = {'A': l_A,'B': l_B, 'C':l_C, 'D':l_D, 'E':l_E, 'F':l_F, 'G':l_G}\n",
      "l_l"
     ],
     "language": "python",
     "metadata": {},
     "outputs": [
      {
       "metadata": {},
       "output_type": "pyout",
       "prompt_number": 4,
       "text": [
        "{'A': [0, 1, 2],\n",
        " 'B': [0, 1],\n",
        " 'C': [1, 2, 3, 4],\n",
        " 'D': [1, 2, 3],\n",
        " 'E': [0, 1],\n",
        " 'F': [0, 1, 2, 3],\n",
        " 'G': [1, 2, 3, 4]}"
       ]
      }
     ],
     "prompt_number": 4
    },
    {
     "cell_type": "markdown",
     "metadata": {},
     "source": [
      "## Data Prep"
     ]
    },
    {
     "cell_type": "code",
     "collapsed": false,
     "input": [
      "# split shop from purchase transactions\n",
      "df_shop = df_train[df_train.record_type == 0]\n",
      "df_purchase = df_train[df_train.record_type > 0]"
     ],
     "language": "python",
     "metadata": {},
     "outputs": [],
     "prompt_number": 11
    },
    {
     "cell_type": "code",
     "collapsed": false,
     "input": [
      "df_shop[:2]"
     ],
     "language": "python",
     "metadata": {},
     "outputs": [
      {
       "html": [
        "<div style=\"max-height:1000px;max-width:1500px;overflow:auto;\">\n",
        "<table border=\"1\" class=\"dataframe\">\n",
        "  <thead>\n",
        "    <tr style=\"text-align: right;\">\n",
        "      <th></th>\n",
        "      <th>customer_ID</th>\n",
        "      <th>shopping_pt</th>\n",
        "      <th>record_type</th>\n",
        "      <th>day</th>\n",
        "      <th>time</th>\n",
        "      <th>state</th>\n",
        "      <th>location</th>\n",
        "      <th>group_size</th>\n",
        "      <th>homeowner</th>\n",
        "      <th>car_age</th>\n",
        "      <th>car_value</th>\n",
        "      <th>risk_factor</th>\n",
        "      <th>age_oldest</th>\n",
        "      <th>age_youngest</th>\n",
        "      <th>married_couple</th>\n",
        "      <th>C_previous</th>\n",
        "      <th>duration_previous</th>\n",
        "      <th>A</th>\n",
        "      <th>B</th>\n",
        "      <th>C</th>\n",
        "      <th></th>\n",
        "    </tr>\n",
        "  </thead>\n",
        "  <tbody>\n",
        "    <tr>\n",
        "      <th>0</th>\n",
        "      <td> 10000000</td>\n",
        "      <td> 1</td>\n",
        "      <td> 0</td>\n",
        "      <td> 0</td>\n",
        "      <td> 08:35</td>\n",
        "      <td> IN</td>\n",
        "      <td> 10001</td>\n",
        "      <td> 2</td>\n",
        "      <td> 0</td>\n",
        "      <td> 2</td>\n",
        "      <td> g</td>\n",
        "      <td> 3</td>\n",
        "      <td> 46</td>\n",
        "      <td> 42</td>\n",
        "      <td> 1</td>\n",
        "      <td> 1</td>\n",
        "      <td> 2</td>\n",
        "      <td> 1</td>\n",
        "      <td> 0</td>\n",
        "      <td> 2</td>\n",
        "      <td>...</td>\n",
        "    </tr>\n",
        "    <tr>\n",
        "      <th>1</th>\n",
        "      <td> 10000000</td>\n",
        "      <td> 2</td>\n",
        "      <td> 0</td>\n",
        "      <td> 0</td>\n",
        "      <td> 08:38</td>\n",
        "      <td> IN</td>\n",
        "      <td> 10001</td>\n",
        "      <td> 2</td>\n",
        "      <td> 0</td>\n",
        "      <td> 2</td>\n",
        "      <td> g</td>\n",
        "      <td> 3</td>\n",
        "      <td> 46</td>\n",
        "      <td> 42</td>\n",
        "      <td> 1</td>\n",
        "      <td> 1</td>\n",
        "      <td> 2</td>\n",
        "      <td> 1</td>\n",
        "      <td> 0</td>\n",
        "      <td> 2</td>\n",
        "      <td>...</td>\n",
        "    </tr>\n",
        "  </tbody>\n",
        "</table>\n",
        "<p>2 rows \u00d7 25 columns</p>\n",
        "</div>"
       ],
       "metadata": {},
       "output_type": "pyout",
       "prompt_number": 12,
       "text": [
        "   customer_ID  shopping_pt  record_type  day   time state  location  \\\n",
        "0     10000000            1            0    0  08:35    IN     10001   \n",
        "1     10000000            2            0    0  08:38    IN     10001   \n",
        "\n",
        "   group_size  homeowner  car_age car_value  risk_factor  age_oldest  \\\n",
        "0           2          0        2         g            3          46   \n",
        "1           2          0        2         g            3          46   \n",
        "\n",
        "   age_youngest  married_couple  C_previous  duration_previous  A  B  C      \n",
        "0            42               1           1                  2  1  0  2 ...  \n",
        "1            42               1           1                  2  1  0  2 ...  \n",
        "\n",
        "[2 rows x 25 columns]"
       ]
      }
     ],
     "prompt_number": 12
    },
    {
     "cell_type": "code",
     "collapsed": false,
     "input": [
      "df_shop_ix = df_shop.set_index('customer_ID')\n",
      "df_purchase_ix = df_purchase.set_index('customer_ID')"
     ],
     "language": "python",
     "metadata": {},
     "outputs": [],
     "prompt_number": 13
    },
    {
     "cell_type": "markdown",
     "metadata": {},
     "source": [
      "## Generate all permutations of interactions and rank the most significant ones"
     ]
    },
    {
     "cell_type": "code",
     "collapsed": false,
     "input": [
      "import itertools as it\n",
      "l_letter_combos = []\n",
      "for i in range(2, len(l_options)+1):\n",
      "    l_letter_combos += list(it.combinations(l_options, i))\n",
      "\n",
      "len(l_letter_combos)"
     ],
     "language": "python",
     "metadata": {},
     "outputs": [
      {
       "metadata": {},
       "output_type": "pyout",
       "prompt_number": 14,
       "text": [
        "120"
       ]
      }
     ],
     "prompt_number": 14
    },
    {
     "cell_type": "code",
     "collapsed": false,
     "input": [
      "df = df_purchase"
     ],
     "language": "python",
     "metadata": {},
     "outputs": [],
     "prompt_number": 15
    },
    {
     "cell_type": "code",
     "collapsed": false,
     "input": [
      "l_letter_combos[:21]"
     ],
     "language": "python",
     "metadata": {},
     "outputs": [
      {
       "metadata": {},
       "output_type": "pyout",
       "prompt_number": 14,
       "text": [
        "[('A', 'B'),\n",
        " ('A', 'C'),\n",
        " ('A', 'D'),\n",
        " ('A', 'E'),\n",
        " ('A', 'F'),\n",
        " ('A', 'G'),\n",
        " ('B', 'C'),\n",
        " ('B', 'D'),\n",
        " ('B', 'E'),\n",
        " ('B', 'F'),\n",
        " ('B', 'G'),\n",
        " ('C', 'D'),\n",
        " ('C', 'E'),\n",
        " ('C', 'F'),\n",
        " ('C', 'G'),\n",
        " ('D', 'E'),\n",
        " ('D', 'F'),\n",
        " ('D', 'G'),\n",
        " ('E', 'F'),\n",
        " ('E', 'G'),\n",
        " ('F', 'G')]"
       ]
      }
     ],
     "prompt_number": 14
    },
    {
     "cell_type": "code",
     "collapsed": false,
     "input": [
      "#list(it.product(*[l_A,l_C]))"
     ],
     "language": "python",
     "metadata": {},
     "outputs": [],
     "prompt_number": 78
    },
    {
     "cell_type": "code",
     "collapsed": false,
     "input": [
      "l_combo_names = []\n",
      "for combo in l_letter_combos:\n",
      "    opt_nums = []\n",
      "    l_option_combos = []\n",
      "    for i in range(len(combo)):\n",
      "        opt_nums.append(l_l[combo[i]])\n",
      "    l_option_combos += list(it.product(*opt_nums))\n",
      "    # pdb.set_trace()\n",
      "    for x in l_option_combos:\n",
      "       l_combo_names.append(''.join(combo) + ''.join([str(y) for y in x]))\n",
      "    \n",
      "len(l_combo_names)"
     ],
     "language": "python",
     "metadata": {},
     "outputs": [
      {
       "metadata": {},
       "output_type": "pyout",
       "prompt_number": 173,
       "text": [
        "17977"
       ]
      }
     ],
     "prompt_number": 173
    },
    {
     "cell_type": "code",
     "collapsed": false,
     "input": [
      "l_combo_names[:8]"
     ],
     "language": "python",
     "metadata": {},
     "outputs": [
      {
       "metadata": {},
       "output_type": "pyout",
       "prompt_number": 174,
       "text": [
        "['AB00', 'AB01', 'AB10', 'AB11', 'AB20', 'AB21', 'AC01', 'AC02']"
       ]
      }
     ],
     "prompt_number": 174
    },
    {
     "cell_type": "code",
     "collapsed": false,
     "input": [
      "df_interactions = pd.DataFrame(index=l_combo_names,columns=['counts']).fillna(0)"
     ],
     "language": "python",
     "metadata": {},
     "outputs": [],
     "prompt_number": 192
    },
    {
     "cell_type": "code",
     "collapsed": false,
     "input": [
      "df_interactions[:5]"
     ],
     "language": "python",
     "metadata": {},
     "outputs": [
      {
       "html": [
        "<div style=\"max-height:1000px;max-width:1500px;overflow:auto;\">\n",
        "<table border=\"1\" class=\"dataframe\">\n",
        "  <thead>\n",
        "    <tr style=\"text-align: right;\">\n",
        "      <th></th>\n",
        "      <th>counts</th>\n",
        "    </tr>\n",
        "  </thead>\n",
        "  <tbody>\n",
        "    <tr>\n",
        "      <th>AB00</th>\n",
        "      <td> 0</td>\n",
        "    </tr>\n",
        "    <tr>\n",
        "      <th>AB01</th>\n",
        "      <td> 0</td>\n",
        "    </tr>\n",
        "    <tr>\n",
        "      <th>AB10</th>\n",
        "      <td> 0</td>\n",
        "    </tr>\n",
        "    <tr>\n",
        "      <th>AB11</th>\n",
        "      <td> 0</td>\n",
        "    </tr>\n",
        "    <tr>\n",
        "      <th>AB20</th>\n",
        "      <td> 0</td>\n",
        "    </tr>\n",
        "  </tbody>\n",
        "</table>\n",
        "<p>5 rows \u00d7 1 columns</p>\n",
        "</div>"
       ],
       "metadata": {},
       "output_type": "pyout",
       "prompt_number": 193,
       "text": [
        "      counts\n",
        "AB00       0\n",
        "AB01       0\n",
        "AB10       0\n",
        "AB11       0\n",
        "AB20       0\n",
        "\n",
        "[5 rows x 1 columns]"
       ]
      }
     ],
     "prompt_number": 193
    },
    {
     "cell_type": "code",
     "collapsed": false,
     "input": [
      "# count up all the combinations\n",
      "#\n",
      "for combo in l_letter_combos:\n",
      "    g = df.groupby(combo)\n",
      "    gc = g[combo[0]].count()\n",
      "    levels = list(it.product(*[list(x) for x in gc.index.levels]))\n",
      "    for vals in levels:\n",
      "        if vals in gc.index:  # some combos don't appear!\n",
      "            key = ''.join(combo) + ''.join([str(v) for v in vals])\n",
      "            df_interactions.ix[key] = gc[vals]"
     ],
     "language": "python",
     "metadata": {},
     "outputs": [],
     "prompt_number": 194
    },
    {
     "cell_type": "code",
     "collapsed": false,
     "input": [
      "# combo = l_letter_combos[0]\n",
      "# g = df.groupby(combo)\n",
      "# gc = g[combo[0]].count()\n",
      "# labels = list(it.product(*[list(x) for x in gab.index.levels]))\n",
      "# vals = levels[0]\n",
      "# gc[vals]"
     ],
     "language": "python",
     "metadata": {},
     "outputs": [],
     "prompt_number": 158
    },
    {
     "cell_type": "code",
     "collapsed": false,
     "input": [
      "df_interactions[:10]"
     ],
     "language": "python",
     "metadata": {},
     "outputs": [
      {
       "html": [
        "<div style=\"max-height:1000px;max-width:1500px;overflow:auto;\">\n",
        "<table border=\"1\" class=\"dataframe\">\n",
        "  <thead>\n",
        "    <tr style=\"text-align: right;\">\n",
        "      <th></th>\n",
        "      <th>counts</th>\n",
        "    </tr>\n",
        "  </thead>\n",
        "  <tbody>\n",
        "    <tr>\n",
        "      <th>AB00</th>\n",
        "      <td> 15021</td>\n",
        "    </tr>\n",
        "    <tr>\n",
        "      <th>AB01</th>\n",
        "      <td>  6357</td>\n",
        "    </tr>\n",
        "    <tr>\n",
        "      <th>AB10</th>\n",
        "      <td> 27410</td>\n",
        "    </tr>\n",
        "    <tr>\n",
        "      <th>AB11</th>\n",
        "      <td> 32172</td>\n",
        "    </tr>\n",
        "    <tr>\n",
        "      <th>AB20</th>\n",
        "      <td>  8393</td>\n",
        "    </tr>\n",
        "    <tr>\n",
        "      <th>AB21</th>\n",
        "      <td>  7656</td>\n",
        "    </tr>\n",
        "    <tr>\n",
        "      <th>AC01</th>\n",
        "      <td> 10253</td>\n",
        "    </tr>\n",
        "    <tr>\n",
        "      <th>AC02</th>\n",
        "      <td>  5034</td>\n",
        "    </tr>\n",
        "    <tr>\n",
        "      <th>AC03</th>\n",
        "      <td>  5259</td>\n",
        "    </tr>\n",
        "    <tr>\n",
        "      <th>AC04</th>\n",
        "      <td>   832</td>\n",
        "    </tr>\n",
        "  </tbody>\n",
        "</table>\n",
        "<p>10 rows \u00d7 1 columns</p>\n",
        "</div>"
       ],
       "metadata": {},
       "output_type": "pyout",
       "prompt_number": 195,
       "text": [
        "      counts\n",
        "AB00   15021\n",
        "AB01    6357\n",
        "AB10   27410\n",
        "AB11   32172\n",
        "AB20    8393\n",
        "AB21    7656\n",
        "AC01   10253\n",
        "AC02    5034\n",
        "AC03    5259\n",
        "AC04     832\n",
        "\n",
        "[10 rows x 1 columns]"
       ]
      }
     ],
     "prompt_number": 195
    },
    {
     "cell_type": "code",
     "collapsed": false,
     "input": [
      "# # computationally too expensive ! took 12 hours to go through 73K rows\n",
      "\n",
      "# for i, row in df_purchase.iterrows():\n",
      "#     for combo in l_letter_combos[:21]:\n",
      "#         df_interactions.ix[''.join(combo) + ''.join([str(y) for y in row[list(combo)]])] += 1"
     ],
     "language": "python",
     "metadata": {},
     "outputs": [],
     "prompt_number": 29
    },
    {
     "cell_type": "code",
     "collapsed": false,
     "input": [
      "# sort descending\n",
      "df_interactions_sorted = df_interactions.sort('counts',ascending=False,axis=0)\n",
      "df_interactions_sorted[:10]"
     ],
     "language": "python",
     "metadata": {},
     "outputs": [
      {
       "html": [
        "<div style=\"max-height:1000px;max-width:1500px;overflow:auto;\">\n",
        "<table border=\"1\" class=\"dataframe\">\n",
        "  <thead>\n",
        "    <tr style=\"text-align: right;\">\n",
        "      <th></th>\n",
        "      <th>counts</th>\n",
        "    </tr>\n",
        "  </thead>\n",
        "  <tbody>\n",
        "    <tr>\n",
        "      <th>AD13</th>\n",
        "      <td> 41654</td>\n",
        "    </tr>\n",
        "    <tr>\n",
        "      <th>BE00</th>\n",
        "      <td> 36960</td>\n",
        "    </tr>\n",
        "    <tr>\n",
        "      <th>AE11</th>\n",
        "      <td> 36299</td>\n",
        "    </tr>\n",
        "    <tr>\n",
        "      <th>CD33</th>\n",
        "      <td> 34525</td>\n",
        "    </tr>\n",
        "    <tr>\n",
        "      <th>DE31</th>\n",
        "      <td> 32564</td>\n",
        "    </tr>\n",
        "    <tr>\n",
        "      <th>AB11</th>\n",
        "      <td> 32172</td>\n",
        "    </tr>\n",
        "    <tr>\n",
        "      <th>BD03</th>\n",
        "      <td> 31473</td>\n",
        "    </tr>\n",
        "    <tr>\n",
        "      <th>BD13</th>\n",
        "      <td> 31234</td>\n",
        "    </tr>\n",
        "    <tr>\n",
        "      <th>BE11</th>\n",
        "      <td> 31013</td>\n",
        "    </tr>\n",
        "    <tr>\n",
        "      <th>AF12</th>\n",
        "      <td> 30301</td>\n",
        "    </tr>\n",
        "  </tbody>\n",
        "</table>\n",
        "<p>10 rows \u00d7 1 columns</p>\n",
        "</div>"
       ],
       "metadata": {},
       "output_type": "pyout",
       "prompt_number": 196,
       "text": [
        "      counts\n",
        "AD13   41654\n",
        "BE00   36960\n",
        "AE11   36299\n",
        "CD33   34525\n",
        "DE31   32564\n",
        "AB11   32172\n",
        "BD03   31473\n",
        "BD13   31234\n",
        "BE11   31013\n",
        "AF12   30301\n",
        "\n",
        "[10 rows x 1 columns]"
       ]
      }
     ],
     "prompt_number": 196
    },
    {
     "cell_type": "code",
     "collapsed": false,
     "input": [
      "df_interactions_percent = df_interactions_sorted.counts / float(len(df_purchase.index))"
     ],
     "language": "python",
     "metadata": {},
     "outputs": [],
     "prompt_number": 197
    },
    {
     "cell_type": "code",
     "collapsed": false,
     "input": [
      "df_interactions_percent[:10]"
     ],
     "language": "python",
     "metadata": {},
     "outputs": [
      {
       "metadata": {},
       "output_type": "pyout",
       "prompt_number": 198,
       "text": [
        "AD13    0.429383\n",
        "BE00    0.380996\n",
        "AE11    0.374182\n",
        "CD33    0.355895\n",
        "DE31    0.335680\n",
        "AB11    0.331639\n",
        "BD03    0.324434\n",
        "BD13    0.321970\n",
        "BE11    0.319692\n",
        "AF12    0.312352\n",
        "Name: counts, dtype: float64"
       ]
      }
     ],
     "prompt_number": 198
    },
    {
     "cell_type": "code",
     "collapsed": false,
     "input": [
      "# import functools as fn\n",
      "# float(1) / fn.reduce(lambda x, y: x*y, [len(l_l[z]) for z in l_letter_combos[35]])\n",
      "# #[len(l_l[z]) for z in l_letter_combos[35]]"
     ],
     "language": "python",
     "metadata": {},
     "outputs": [],
     "prompt_number": 164
    },
    {
     "cell_type": "code",
     "collapsed": false,
     "input": [
      "# calculate the probability that a combination would happen\n",
      "import functools as fn\n",
      "l_combo_probability = []\n",
      "for combo in l_letter_combos:\n",
      "    opt_nums = []\n",
      "    l_option_combos = []\n",
      "    for i in range(len(combo)):\n",
      "        opt_nums.append(l_l[combo[i]])\n",
      "    l_option_combos += list(it.product(*opt_nums))\n",
      "    # pdb.set_trace()\n",
      "    for x in l_option_combos:\n",
      "       label = ''.join(combo) + ''.join([str(y) for y in x])\n",
      "       probability = float(1) / fn.reduce(lambda x, y: x*y, [len(l_l[z]) for z in combo])\n",
      "       l_combo_probability.append([label, probability])\n",
      "    \n",
      "len(l_combo_probability)"
     ],
     "language": "python",
     "metadata": {},
     "outputs": [
      {
       "metadata": {},
       "output_type": "pyout",
       "prompt_number": 202,
       "text": [
        "17977"
       ]
      }
     ],
     "prompt_number": 202
    },
    {
     "cell_type": "code",
     "collapsed": false,
     "input": [
      "df_combo_probability = pd.DataFrame(l_combo_probability, columns=['label','probability'])\n",
      "df_combo_probability.set_index('label',inplace=True)\n",
      "s_combo_probability = df_combo_probability.probability\n",
      "s_combo_probability[:5]"
     ],
     "language": "python",
     "metadata": {},
     "outputs": [
      {
       "metadata": {},
       "output_type": "pyout",
       "prompt_number": 203,
       "text": [
        "label\n",
        "AB00     0.166667\n",
        "AB01     0.166667\n",
        "AB10     0.166667\n",
        "AB11     0.166667\n",
        "AB20     0.166667\n",
        "Name: probability, dtype: float64"
       ]
      }
     ],
     "prompt_number": 203
    },
    {
     "cell_type": "code",
     "collapsed": false,
     "input": [
      "s_combo_probability[:21]"
     ],
     "language": "python",
     "metadata": {},
     "outputs": [
      {
       "metadata": {},
       "output_type": "pyout",
       "prompt_number": 211,
       "text": [
        "label\n",
        "AB00     0.166667\n",
        "AB01     0.166667\n",
        "AB10     0.166667\n",
        "AB11     0.166667\n",
        "AB20     0.166667\n",
        "AB21     0.166667\n",
        "AC01     0.083333\n",
        "AC02     0.083333\n",
        "AC03     0.083333\n",
        "AC04     0.083333\n",
        "AC11     0.083333\n",
        "AC12     0.083333\n",
        "AC13     0.083333\n",
        "AC14     0.083333\n",
        "AC21     0.083333\n",
        "AC22     0.083333\n",
        "AC23     0.083333\n",
        "AC24     0.083333\n",
        "AD01     0.111111\n",
        "AD02     0.111111\n",
        "AD03     0.111111\n",
        "Name: probability, dtype: float64"
       ]
      }
     ],
     "prompt_number": 211
    },
    {
     "cell_type": "code",
     "collapsed": false,
     "input": [
      "s_interactions_prob = df_interactions_percent / s_combo_probability"
     ],
     "language": "python",
     "metadata": {},
     "outputs": [],
     "prompt_number": 205
    },
    {
     "cell_type": "code",
     "collapsed": false,
     "input": [
      "print df_interactions.ix['ABCDEFG0011002']  / len(df_purchase)\n",
      "print s_combo_probability.ix['ABCDEFG0011002'] \n",
      "#print 1 / float( \n",
      "cum = 1\n",
      "for i in l_l:\n",
      "    cum *= len(l_l[i])\n",
      "    print i, len(l_l[i])\n",
      "print cum"
     ],
     "language": "python",
     "metadata": {},
     "outputs": [
      {
       "output_type": "stream",
       "stream": "stdout",
       "text": [
        "counts    0.020596\n",
        "Name: ABCDEFG0011002, dtype: float64\n",
        "0.000434027777778\n",
        "A 3\n",
        "C 4\n",
        "B 2\n",
        "E 2\n",
        "D 3\n",
        "G 4\n",
        "F 4\n",
        "2304\n"
       ]
      }
     ],
     "prompt_number": 229
    },
    {
     "cell_type": "code",
     "collapsed": false,
     "input": [
      "s_interactions_prob_sorted = s_interactions_prob.order(ascending=False)\n",
      "s_interactions_prob_sorted[:20]"
     ],
     "language": "python",
     "metadata": {},
     "outputs": [
      {
       "metadata": {},
       "output_type": "pyout",
       "prompt_number": 206,
       "text": [
        "ABCDEFG0011002    47.453247\n",
        "ABCDEFG1133123    43.178179\n",
        "ABCDEFG0033002    35.981816\n",
        "ABCDEFG1133113    35.435558\n",
        "ACDEFG133123      32.561762\n",
        "ABCDEFG1133102    30.899236\n",
        "ACDEFG011002      29.391087\n",
        "ABCEFG001002      29.276294\n",
        "ABCDEFG1133122    28.690451\n",
        "ACDEFG133113      27.894814\n",
        "ABCDFG113323      26.944799\n",
        "ABCDEF113312      26.831985\n",
        "ABCDEFG1033023    26.624169\n",
        "ACDFG13323        25.614778\n",
        "ACDEFG033002      25.163521\n",
        "ABCDEFG1133112    24.795390\n",
        "ABCDEFG0012002    24.771640\n",
        "ABCDFG103323      24.284757\n",
        "ACDEFG133102      23.881001\n",
        "ABCDFG001102      23.738498\n",
        "dtype: float64"
       ]
      }
     ],
     "prompt_number": 206
    },
    {
     "cell_type": "code",
     "collapsed": false,
     "input": [
      "df_interactions_sorted_asc = df_interactions.sort('counts',axis=0)\n",
      "len(df_interactions_sorted_asc.query('counts == 0'))"
     ],
     "language": "python",
     "metadata": {},
     "outputs": [
      {
       "metadata": {},
       "output_type": "pyout",
       "prompt_number": 207,
       "text": [
        "2108"
       ]
      }
     ],
     "prompt_number": 207
    },
    {
     "cell_type": "code",
     "collapsed": false,
     "input": [
      "df_interactions_sorted_asc"
     ],
     "language": "python",
     "metadata": {},
     "outputs": [
      {
       "html": [
        "<div style=\"max-height:1000px;max-width:1500px;overflow:auto;\">\n",
        "<table border=\"1\" class=\"dataframe\">\n",
        "  <thead>\n",
        "    <tr style=\"text-align: right;\">\n",
        "      <th></th>\n",
        "      <th>counts</th>\n",
        "    </tr>\n",
        "  </thead>\n",
        "  <tbody>\n",
        "    <tr>\n",
        "      <th>ABCDG00424</th>\n",
        "      <td> 0</td>\n",
        "    </tr>\n",
        "    <tr>\n",
        "      <th>ABCDFG012134</th>\n",
        "      <td> 0</td>\n",
        "    </tr>\n",
        "    <tr>\n",
        "      <th>ABCDEFG0022031</th>\n",
        "      <td> 0</td>\n",
        "    </tr>\n",
        "    <tr>\n",
        "      <th>ABCDFG012231</th>\n",
        "      <td> 0</td>\n",
        "    </tr>\n",
        "    <tr>\n",
        "      <th>ABCDFG012234</th>\n",
        "      <td> 0</td>\n",
        "    </tr>\n",
        "    <tr>\n",
        "      <th>ABCDFG012332</th>\n",
        "      <td> 0</td>\n",
        "    </tr>\n",
        "    <tr>\n",
        "      <th>ABCDEFG0021134</th>\n",
        "      <td> 0</td>\n",
        "    </tr>\n",
        "    <tr>\n",
        "      <th>ABCDFG012133</th>\n",
        "      <td> 0</td>\n",
        "    </tr>\n",
        "    <tr>\n",
        "      <th>ABCDEFG0021133</th>\n",
        "      <td> 0</td>\n",
        "    </tr>\n",
        "    <tr>\n",
        "      <th>ABCDEFG0021131</th>\n",
        "      <td> 0</td>\n",
        "    </tr>\n",
        "    <tr>\n",
        "      <th>ABCDEFG0021124</th>\n",
        "      <td> 0</td>\n",
        "    </tr>\n",
        "    <tr>\n",
        "      <th>ABCDEFG0021123</th>\n",
        "      <td> 0</td>\n",
        "    </tr>\n",
        "    <tr>\n",
        "      <th>ABCDEFG0021122</th>\n",
        "      <td> 0</td>\n",
        "    </tr>\n",
        "    <tr>\n",
        "      <th>ABCDEFG0021121</th>\n",
        "      <td> 0</td>\n",
        "    </tr>\n",
        "    <tr>\n",
        "      <th>ABCDEFG0021114</th>\n",
        "      <td> 0</td>\n",
        "    </tr>\n",
        "    <tr>\n",
        "      <th>ABCDEFG0021132</th>\n",
        "      <td> 0</td>\n",
        "    </tr>\n",
        "    <tr>\n",
        "      <th>ABCDFG012132</th>\n",
        "      <td> 0</td>\n",
        "    </tr>\n",
        "    <tr>\n",
        "      <th>ABCDFG012131</th>\n",
        "      <td> 0</td>\n",
        "    </tr>\n",
        "    <tr>\n",
        "      <th>ABCDEFG0022103</th>\n",
        "      <td> 0</td>\n",
        "    </tr>\n",
        "    <tr>\n",
        "      <th>ABCDFG011133</th>\n",
        "      <td> 0</td>\n",
        "    </tr>\n",
        "    <tr>\n",
        "      <th>ABCDFG011134</th>\n",
        "      <td> 0</td>\n",
        "    </tr>\n",
        "    <tr>\n",
        "      <th>ABCDFG011231</th>\n",
        "      <td> 0</td>\n",
        "    </tr>\n",
        "    <tr>\n",
        "      <th>ABCDFG011234</th>\n",
        "      <td> 0</td>\n",
        "    </tr>\n",
        "    <tr>\n",
        "      <th>ABCDE20411</th>\n",
        "      <td> 0</td>\n",
        "    </tr>\n",
        "    <tr>\n",
        "      <th>ABCDEFG0022134</th>\n",
        "      <td> 0</td>\n",
        "    </tr>\n",
        "    <tr>\n",
        "      <th>ABCDEFG0022133</th>\n",
        "      <td> 0</td>\n",
        "    </tr>\n",
        "    <tr>\n",
        "      <th>ABCDFG011334</th>\n",
        "      <td> 0</td>\n",
        "    </tr>\n",
        "    <tr>\n",
        "      <th>ABCDEFG0022124</th>\n",
        "      <td> 0</td>\n",
        "    </tr>\n",
        "    <tr>\n",
        "      <th>ABCDFG012113</th>\n",
        "      <td> 0</td>\n",
        "    </tr>\n",
        "    <tr>\n",
        "      <th>ABCDFG012114</th>\n",
        "      <td> 0</td>\n",
        "    </tr>\n",
        "    <tr>\n",
        "      <th>ABCDEFG0022121</th>\n",
        "      <td> 0</td>\n",
        "    </tr>\n",
        "    <tr>\n",
        "      <th>ABCDEFG0022114</th>\n",
        "      <td> 0</td>\n",
        "    </tr>\n",
        "    <tr>\n",
        "      <th>ABCDEFG0022111</th>\n",
        "      <td> 0</td>\n",
        "    </tr>\n",
        "    <tr>\n",
        "      <th>ABCDFG012124</th>\n",
        "      <td> 0</td>\n",
        "    </tr>\n",
        "    <tr>\n",
        "      <th>ABCDEFG0021113</th>\n",
        "      <td> 0</td>\n",
        "    </tr>\n",
        "    <tr>\n",
        "      <th>ABCDEFG0021112</th>\n",
        "      <td> 0</td>\n",
        "    </tr>\n",
        "    <tr>\n",
        "      <th>ABCDEFG0021111</th>\n",
        "      <td> 0</td>\n",
        "    </tr>\n",
        "    <tr>\n",
        "      <th>ABCDEFG0021104</th>\n",
        "      <td> 0</td>\n",
        "    </tr>\n",
        "    <tr>\n",
        "      <th>ABCDFG013122</th>\n",
        "      <td> 0</td>\n",
        "    </tr>\n",
        "    <tr>\n",
        "      <th>ABCDEFG0013121</th>\n",
        "      <td> 0</td>\n",
        "    </tr>\n",
        "    <tr>\n",
        "      <th>ABCDEFG0013114</th>\n",
        "      <td> 0</td>\n",
        "    </tr>\n",
        "    <tr>\n",
        "      <th>ABCDFG013123</th>\n",
        "      <td> 0</td>\n",
        "    </tr>\n",
        "    <tr>\n",
        "      <th>ABCDFG013131</th>\n",
        "      <td> 0</td>\n",
        "    </tr>\n",
        "    <tr>\n",
        "      <th>ABCDEFG0013104</th>\n",
        "      <td> 0</td>\n",
        "    </tr>\n",
        "    <tr>\n",
        "      <th>ABCDEFG0013103</th>\n",
        "      <td> 0</td>\n",
        "    </tr>\n",
        "    <tr>\n",
        "      <th>ABCDFG013132</th>\n",
        "      <td> 0</td>\n",
        "    </tr>\n",
        "    <tr>\n",
        "      <th>ABCDFG013133</th>\n",
        "      <td> 0</td>\n",
        "    </tr>\n",
        "    <tr>\n",
        "      <th>ABCDFG013134</th>\n",
        "      <td> 0</td>\n",
        "    </tr>\n",
        "    <tr>\n",
        "      <th>ABCDE01421</th>\n",
        "      <td> 0</td>\n",
        "    </tr>\n",
        "    <tr>\n",
        "      <th>ABCDE01411</th>\n",
        "      <td> 0</td>\n",
        "    </tr>\n",
        "    <tr>\n",
        "      <th>ABCDE01311</th>\n",
        "      <td> 0</td>\n",
        "    </tr>\n",
        "    <tr>\n",
        "      <th>ABCDFG013231</th>\n",
        "      <td> 0</td>\n",
        "    </tr>\n",
        "    <tr>\n",
        "      <th>ABCDFG013232</th>\n",
        "      <td> 0</td>\n",
        "    </tr>\n",
        "    <tr>\n",
        "      <th>ABCDEFG0013124</th>\n",
        "      <td> 0</td>\n",
        "    </tr>\n",
        "    <tr>\n",
        "      <th>ABCDF00312</th>\n",
        "      <td> 0</td>\n",
        "    </tr>\n",
        "    <tr>\n",
        "      <th>ABCDFG013114</th>\n",
        "      <td> 0</td>\n",
        "    </tr>\n",
        "    <tr>\n",
        "      <th>ABCDEFG0013133</th>\n",
        "      <td> 0</td>\n",
        "    </tr>\n",
        "    <tr>\n",
        "      <th>ABCDEFG0021103</th>\n",
        "      <td> 0</td>\n",
        "    </tr>\n",
        "    <tr>\n",
        "      <th>ABCDEFG0021102</th>\n",
        "      <td> 0</td>\n",
        "    </tr>\n",
        "    <tr>\n",
        "      <th>ABCDEFG0021101</th>\n",
        "      <td> 0</td>\n",
        "    </tr>\n",
        "    <tr>\n",
        "      <th></th>\n",
        "      <td>...</td>\n",
        "    </tr>\n",
        "  </tbody>\n",
        "</table>\n",
        "<p>17977 rows \u00d7 1 columns</p>\n",
        "</div>"
       ],
       "metadata": {},
       "output_type": "pyout",
       "prompt_number": 208,
       "text": [
        "                counts\n",
        "ABCDG00424           0\n",
        "ABCDFG012134         0\n",
        "ABCDEFG0022031       0\n",
        "ABCDFG012231         0\n",
        "ABCDFG012234         0\n",
        "ABCDFG012332         0\n",
        "ABCDEFG0021134       0\n",
        "ABCDFG012133         0\n",
        "ABCDEFG0021133       0\n",
        "ABCDEFG0021131       0\n",
        "ABCDEFG0021124       0\n",
        "ABCDEFG0021123       0\n",
        "ABCDEFG0021122       0\n",
        "ABCDEFG0021121       0\n",
        "ABCDEFG0021114       0\n",
        "ABCDEFG0021132       0\n",
        "ABCDFG012132         0\n",
        "ABCDFG012131         0\n",
        "ABCDEFG0022103       0\n",
        "ABCDFG011133         0\n",
        "ABCDFG011134         0\n",
        "ABCDFG011231         0\n",
        "ABCDFG011234         0\n",
        "ABCDE20411           0\n",
        "ABCDEFG0022134       0\n",
        "ABCDEFG0022133       0\n",
        "ABCDFG011334         0\n",
        "ABCDEFG0022124       0\n",
        "ABCDFG012113         0\n",
        "ABCDFG012114         0\n",
        "ABCDEFG0022121       0\n",
        "ABCDEFG0022114       0\n",
        "ABCDEFG0022111       0\n",
        "ABCDFG012124         0\n",
        "ABCDEFG0021113       0\n",
        "ABCDEFG0021112       0\n",
        "ABCDEFG0021111       0\n",
        "ABCDEFG0021104       0\n",
        "ABCDFG013122         0\n",
        "ABCDEFG0013121       0\n",
        "ABCDEFG0013114       0\n",
        "ABCDFG013123         0\n",
        "ABCDFG013131         0\n",
        "ABCDEFG0013104       0\n",
        "ABCDEFG0013103       0\n",
        "ABCDFG013132         0\n",
        "ABCDFG013133         0\n",
        "ABCDFG013134         0\n",
        "ABCDE01421           0\n",
        "ABCDE01411           0\n",
        "ABCDE01311           0\n",
        "ABCDFG013231         0\n",
        "ABCDFG013232         0\n",
        "ABCDEFG0013124       0\n",
        "ABCDF00312           0\n",
        "ABCDFG013114         0\n",
        "ABCDEFG0013133       0\n",
        "ABCDEFG0021103       0\n",
        "ABCDEFG0021102       0\n",
        "ABCDEFG0021101       0\n",
        "                   ...\n",
        "\n",
        "[17977 rows x 1 columns]"
       ]
      }
     ],
     "prompt_number": 208
    },
    {
     "cell_type": "code",
     "collapsed": false,
     "input": [
      "s_interactions_prob_sorted.plot()"
     ],
     "language": "python",
     "metadata": {},
     "outputs": [
      {
       "metadata": {},
       "output_type": "pyout",
       "prompt_number": 226,
       "text": [
        "<matplotlib.axes.AxesSubplot at 0x10870f410>"
       ]
      },
      {
       "metadata": {},
       "output_type": "display_data",
       "png": "[encoded data removed]",
       "text": [
        "<matplotlib.figure.Figure at 0x108251d90>"
       ]
      }
     ],
     "prompt_number": 226
    }
   ],
   "metadata": {}
  }
 ]
}