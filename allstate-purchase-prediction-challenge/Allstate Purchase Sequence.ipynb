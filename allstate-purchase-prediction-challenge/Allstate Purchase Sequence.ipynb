{
 "metadata": {
  "name": ""
 },
 "nbformat": 3,
 "nbformat_minor": 0,
 "worksheets": [
  {
   "cells": [
    {
     "cell_type": "markdown",
     "metadata": {},
     "source": [
      "# Predict a purchased policy based on transaction history #\n",
      "\n",
      "As a customer shops an insurance policy, he/she will receive a number of quotes with different coverage options before purchasing a plan. This is represented in this challenge as a series of rows that include a customer ID, information about the customer, information about the quoted policy, and the cost. Your task is to predict the purchased coverage options using a limited subset of the total interaction history. If the eventual purchase can be predicted sooner in the shopping window, the quoting process is shortened and the issuer is less likely to lose the customer's business.\n",
      "\n",
      "Using a customer\u2019s shopping history, can you predict what policy they will end up choosing?\n",
      "\n",
      "### Evaluation ###\n",
      "\n",
      "Submissions are evaluated on an all-or-none accuracy basis. You must predict every coverage option correctly to receive credit for a given customer. Your score is the percent of customers for whom you predict the exact purchased policy.\n",
      "\n",
      "### Submission File ###\n",
      "\n",
      "The submission format is created by concatenating each plan option (A,B,C,D,E,F,G) as a single string, in order. The file should contain a header and have the following format:\n",
      "\n",
      "```\n",
      "customer_ID,plan\n",
      "10000001,1111111\n",
      "10000002,1111111\n",
      "10000003,1111111\n",
      "...\n",
      "```\n",
      "\n",
      "### Files ###\n",
      "\n",
      "The training and test sets contain transaction history for customers that ended up purchasing a policy. For each customer_ID, you are given their quote history. In the training set you have the entire quote history, the last row of which contains the coverage options they purchased. In the test set, you have only a partial history of the quotes and do not have the purchased coverage options. These are truncated to certain lengths to simulate making predictions with less history (higher uncertainty) or more history (lower uncertainty).\n",
      "\n",
      "For each customer_ID in the test set, you must predict the seven coverage options they end up purchasing.\n",
      "\n",
      "### What is a customer? ###\n",
      "\n",
      "Each customer has many shopping points, where a shopping point is defined by a customer with certain characteristics viewing a product and its associated cost at a particular time.\n",
      "\n",
      "- Some customer characteristics may change over time (e.g. as the customer changes or provides new information), and the cost depends on both the product and the customer characteristics.\n",
      "- A customer may represent a collection of people, as policies can cover more than one person.\n",
      "- A customer may purchase a product that was not viewed!\n",
      "\n",
      "### Product Options ###\n",
      "\n",
      "Each product has 7 customizable options selected by customers, each with 2, 3, or 4 ordinal values possible:\n",
      "\n",
      "Option Name | Possible Values\n",
      ":---:|:---:\n",
      "A | 0,1,2\n",
      "B | 0,1\n",
      "C | 1,2,3,4\n",
      "D | 1,2,3\n",
      "E | 0,1\n",
      "F | 0,1,2,3\n",
      "G | 1,2,3,4\n",
      "\n",
      "\n",
      "A product is simply a vector with length 7 whose values are chosen from each of the options listed above. The cost of a product is a function of both the product options and customer characteristics.\n",
      "\n",
      "### Variable Descriptions ###\n",
      "\n",
      "- __customer_ID__ - A unique identifier for the customer\n",
      "- __shopping_pt__ - Unique identifier for the shopping point of a given customer\n",
      "- __record_type__ - 0=shopping point, 1=purchase point\n",
      "- __day__ - Day of the week (0-6, 0=Monday)\n",
      "- __time__ - Time of day (HH:MM)\n",
      "- __state__ - State where shopping point occurred\n",
      "- __location__ - Location ID where shopping point occurred\n",
      "- __group_size__ - How many people will be covered under the policy (1, 2, 3 or 4)\n",
      "- __homeowner__ - Whether the customer owns a home or not (0=no, 1=yes)\n",
      "- __car_age__ - Age of the customer\u2019s car\n",
      "- __car_value__ - How valuable was the customer\u2019s car when new\n",
      "- __risk_factor__ - An ordinal assessment of how risky the customer is (1, 2, 3, 4)\n",
      "- __age_oldest__ - Age of the oldest person in customer's group\n",
      "- __age_youngest__ - Age of the youngest person in customer\u2019s group\n",
      "- __married_couple__ - Does the customer group contain a married couple (0=no, 1=yes)\n",
      "- __C_previous__ - What the customer formerly had or currently has for product option C (0=nothing, 1, 2, 3,4)\n",
      "- __duration_previous__ -  how long (in years) the customer was covered by their previous issuer\n",
      "- __A,B,C,D,E,F,G__ - the coverage options\n",
      "- __cost__ - cost of the quoted coverage options"
     ]
    },
    {
     "cell_type": "markdown",
     "metadata": {},
     "source": [
      "## Initializations"
     ]
    },
    {
     "cell_type": "code",
     "collapsed": false,
     "input": [
      "import csv\n",
      "import numpy as np\n",
      "import pandas as pd\n",
      "import matplotlib.pyplot as plt\n",
      "%pylab inline"
     ],
     "language": "python",
     "metadata": {},
     "outputs": [
      {
       "output_type": "stream",
       "stream": "stdout",
       "text": [
        "Populating the interactive namespace from numpy and matplotlib\n"
       ]
      }
     ],
     "prompt_number": 1
    },
    {
     "cell_type": "code",
     "collapsed": false,
     "input": [
      "csv_dir = '/Users/Paul/Desktop/Allstate/'\n",
      "df_train = pd.read_csv(csv_dir + 'train.csv')\n",
      "\n",
      "s_customers = pd.Series(df_train.customer_ID.unique())\n",
      "\n",
      "l_columns = list(df_train.columns)"
     ],
     "language": "python",
     "metadata": {},
     "outputs": [],
     "prompt_number": 2
    },
    {
     "cell_type": "code",
     "collapsed": false,
     "input": [
      "df_train_grouped = df_train.groupby('customer_ID')"
     ],
     "language": "python",
     "metadata": {},
     "outputs": [],
     "prompt_number": 3
    },
    {
     "cell_type": "code",
     "collapsed": false,
     "input": [
      "# options support objects\n",
      "\n",
      "l_options =['A','B','C','D','E','F','G']\n",
      "\n",
      "l_A = [0,1,2]\n",
      "l_B = [0,1]\n",
      "l_C = [1,2,3,4]\n",
      "l_D = [1,2,3]\n",
      "l_E = [0,1]\n",
      "l_F = [0,1,2,3]\n",
      "l_G = [1,2,3,4]\n",
      "\n",
      "l_l = {'A': l_A,'B': l_B, 'C':l_C, 'D':l_D, 'E':l_E, 'F':l_F, 'G':l_G}\n",
      "l_l"
     ],
     "language": "python",
     "metadata": {},
     "outputs": [
      {
       "metadata": {},
       "output_type": "pyout",
       "prompt_number": 4,
       "text": [
        "{'A': [0, 1, 2],\n",
        " 'B': [0, 1],\n",
        " 'C': [1, 2, 3, 4],\n",
        " 'D': [1, 2, 3],\n",
        " 'E': [0, 1],\n",
        " 'F': [0, 1, 2, 3],\n",
        " 'G': [1, 2, 3, 4]}"
       ]
      }
     ],
     "prompt_number": 4
    },
    {
     "cell_type": "markdown",
     "metadata": {},
     "source": [
      "## Data Prep\n"
     ]
    },
    {
     "cell_type": "code",
     "collapsed": false,
     "input": [
      "#split shop from purchase transactions\n",
      "l_shop = []\n",
      "l_purchase = []\n",
      "for idx, row in df_train.iterrows():\n",
      "    if row.record_type == 0:\n",
      "        l_shop.append(row)\n",
      "    else:\n",
      "        l_purchase.append(row)\n",
      "        \n"
     ],
     "language": "python",
     "metadata": {},
     "outputs": [],
     "prompt_number": 5
    },
    {
     "cell_type": "code",
     "collapsed": false,
     "input": [
      "len(df_train.index)"
     ],
     "language": "python",
     "metadata": {},
     "outputs": [
      {
       "metadata": {},
       "output_type": "pyout",
       "prompt_number": 9,
       "text": [
        "665249"
       ]
      }
     ],
     "prompt_number": 9
    },
    {
     "cell_type": "code",
     "collapsed": false,
     "input": [
      "df_purchase = df_train[df_train['record_type'] > 0]\n",
      "len(df_purchase.index)"
     ],
     "language": "python",
     "metadata": {},
     "outputs": [
      {
       "metadata": {},
       "output_type": "pyout",
       "prompt_number": 8,
       "text": [
        "97009"
       ]
      }
     ],
     "prompt_number": 8
    },
    {
     "cell_type": "code",
     "collapsed": false,
     "input": [
      "df_shop = df_train[df_train['record_type'] == 0]\n",
      "len(df_shop.index)"
     ],
     "language": "python",
     "metadata": {},
     "outputs": [
      {
       "metadata": {},
       "output_type": "pyout",
       "prompt_number": 7,
       "text": [
        "568240"
       ]
      }
     ],
     "prompt_number": 7
    },
    {
     "cell_type": "code",
     "collapsed": false,
     "input": [
      "df_shop_ix = df_shop.groupby('customer_ID')"
     ],
     "language": "python",
     "metadata": {},
     "outputs": [],
     "prompt_number": 14
    },
    {
     "cell_type": "code",
     "collapsed": false,
     "input": [
      "df_purchase_ix = df_purchase.groupby('customer_ID')"
     ],
     "language": "python",
     "metadata": {},
     "outputs": [],
     "prompt_number": 15
    },
    {
     "cell_type": "code",
     "collapsed": false,
     "input": [
      "df_shop_grouped = df_shop.groupby('customer_ID')"
     ],
     "language": "python",
     "metadata": {},
     "outputs": [],
     "prompt_number": 10
    },
    {
     "cell_type": "code",
     "collapsed": false,
     "input": [
      "# get the last row of every shop transaction in the train set\n",
      "# REWRITE as a table scan\n",
      "l_shop_last = []\n",
      "for i, j in df_shop_grouped:\n",
      "    row = j[j['shopping_pt'] == len(j)].values\n",
      "    l_shop_last.append(row[0])"
     ],
     "language": "python",
     "metadata": {},
     "outputs": []
    },
    {
     "cell_type": "code",
     "collapsed": false,
     "input": [
      "s_shop_vectors = df_shop[l_options].apply(lambda row: ''.join(map(str, row)), axis=1)\n",
      "s_shop_vectors[:3]"
     ],
     "language": "python",
     "metadata": {},
     "outputs": [
      {
       "metadata": {},
       "output_type": "pyout",
       "prompt_number": 21,
       "text": [
        "0    1022122\n",
        "1    1022121\n",
        "2    1022121\n",
        "dtype: object"
       ]
      }
     ],
     "prompt_number": 21
    },
    {
     "cell_type": "code",
     "collapsed": false,
     "input": [
      "a = int('101011010001',2)\n",
      "a"
     ],
     "language": "python",
     "metadata": {},
     "outputs": [
      {
       "metadata": {},
       "output_type": "pyout",
       "prompt_number": 33,
       "text": [
        "2769"
       ]
      }
     ],
     "prompt_number": 33
    },
    {
     "cell_type": "code",
     "collapsed": false,
     "input": [
      "def bitCount(int_type):\n",
      "    count = 0\n",
      "    while(int_type):\n",
      "        int_type &= int_type - 1\n",
      "        count += 1\n",
      "    return(count)"
     ],
     "language": "python",
     "metadata": {},
     "outputs": [],
     "prompt_number": 29
    },
    {
     "cell_type": "code",
     "collapsed": false,
     "input": [
      "bitCount(a)"
     ],
     "language": "python",
     "metadata": {},
     "outputs": [
      {
       "metadata": {},
       "output_type": "pyout",
       "prompt_number": 34,
       "text": [
        "6"
       ]
      }
     ],
     "prompt_number": 34
    }
   ],
   "metadata": {}
  }
 ]
}