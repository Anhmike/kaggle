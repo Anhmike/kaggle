{
 "cells": [
  {
   "cell_type": "markdown",
   "metadata": {},
   "source": [
    "# Genentech Cervical Cancer - Big Table Merge\n",
    "\n",
    "https://www.kaggle.com/c/cervical-cancer-screening/"
   ]
  },
  {
   "cell_type": "code",
   "execution_count": 1,
   "metadata": {
    "collapsed": true
   },
   "outputs": [],
   "source": [
    "# imports\n",
    "import sys # for stderr\n",
    "import numpy as np\n",
    "import pandas as pd\n",
    "import sklearn as skl\n",
    "from sklearn import metrics\n",
    "import matplotlib.pyplot as plt\n",
    "%matplotlib inline"
   ]
  },
  {
   "cell_type": "code",
   "execution_count": 2,
   "metadata": {
    "collapsed": false
   },
   "outputs": [
    {
     "name": "stdout",
     "output_type": "stream",
     "text": [
      "Logging hadn't been started.\n",
      "Activating auto-logging. Current session state plus future input saved.\n",
      "Filename       : ipynb.log\n",
      "Mode           : rotate\n",
      "Output logging : True\n",
      "Raw input log  : False\n",
      "Timestamping   : False\n",
      "State          : active\n"
     ]
    }
   ],
   "source": [
    "# settings \n",
    "%logstop\n",
    "%logstart  -o 'ipynb.log' rotate\n",
    "plt.style.use('ggplot')\n",
    "# constants\n",
    "# plt.rcParams['figure.figsize'] = (10.0, 10.0)\n",
    "# pd.set_option('display.max_rows', 50)\n",
    "# pd.set_option('display.max_columns', 50)"
   ]
  },
  {
   "cell_type": "code",
   "execution_count": 3,
   "metadata": {
    "collapsed": false
   },
   "outputs": [
    {
     "name": "stdout",
     "output_type": "stream",
     "text": [
      "2016-01-31 07:56:14.306282\n",
      "Python: 2.7.11 |Anaconda 2.4.0 (x86_64)| (default, Dec  6 2015, 18:57:58) \n",
      "[GCC 4.2.1 (Apple Inc. build 5577)]\n",
      "numpy: 1.10.2\n",
      "pandas: 0.17.1\n",
      "sklearn: 0.17\n"
     ]
    }
   ],
   "source": [
    "# versions \n",
    "import sys\n",
    "print(pd.datetime.now())\n",
    "print('Python: '+sys.version)\n",
    "print('numpy: '+np.__version__)\n",
    "print('pandas: '+pd.__version__)\n",
    "print('sklearn: '+skl.__version__)"
   ]
  },
  {
   "cell_type": "markdown",
   "metadata": {},
   "source": [
    "## Load Train/Test"
   ]
  },
  {
   "cell_type": "code",
   "execution_count": 4,
   "metadata": {
    "collapsed": false
   },
   "outputs": [
    {
     "data": {
      "text/plain": [
       "(1157817, 6)"
      ]
     },
     "execution_count": 4,
     "metadata": {},
     "output_type": "execute_result"
    }
   ],
   "source": [
    "train_file = './input/patients_train.csv.gz'\n",
    "train = pd.read_csv(train_file)\n",
    "train.set_index('patient_id', inplace=True)\n",
    "train.drop('patient_gender', axis = 1, inplace = True )\n",
    "train_exclude = pd.read_csv('./input/train_patients_to_exclude.csv', header=None, names=['patient_id'])\n",
    "train.drop(train_exclude.patient_id, inplace=True)\n",
    "train.shape"
   ]
  },
  {
   "cell_type": "code",
   "execution_count": 5,
   "metadata": {
    "collapsed": false
   },
   "outputs": [],
   "source": [
    "original_train_rows = train.shape[0]"
   ]
  },
  {
   "cell_type": "code",
   "execution_count": 6,
   "metadata": {
    "collapsed": false
   },
   "outputs": [
    {
     "data": {
      "text/html": [
       "<div>\n",
       "<table border=\"1\" class=\"dataframe\">\n",
       "  <thead>\n",
       "    <tr style=\"text-align: right;\">\n",
       "      <th></th>\n",
       "      <th>patient_age_group</th>\n",
       "      <th>patient_state</th>\n",
       "      <th>ethinicity</th>\n",
       "      <th>household_income</th>\n",
       "      <th>education_level</th>\n",
       "      <th>is_screener</th>\n",
       "    </tr>\n",
       "    <tr>\n",
       "      <th>patient_id</th>\n",
       "      <th></th>\n",
       "      <th></th>\n",
       "      <th></th>\n",
       "      <th></th>\n",
       "      <th></th>\n",
       "      <th></th>\n",
       "    </tr>\n",
       "  </thead>\n",
       "  <tbody>\n",
       "    <tr>\n",
       "      <th>336201912</th>\n",
       "      <td>51-53</td>\n",
       "      <td>SD</td>\n",
       "      <td>ALL OTHER</td>\n",
       "      <td>UNKNOWN</td>\n",
       "      <td>UNKNOWN</td>\n",
       "      <td>1</td>\n",
       "    </tr>\n",
       "    <tr>\n",
       "      <th>94237712</th>\n",
       "      <td>39-41</td>\n",
       "      <td>NE</td>\n",
       "      <td>ALL OTHER</td>\n",
       "      <td>UNKNOWN</td>\n",
       "      <td>UNKNOWN</td>\n",
       "      <td>1</td>\n",
       "    </tr>\n",
       "    <tr>\n",
       "      <th>186124512</th>\n",
       "      <td>24-26</td>\n",
       "      <td>CA</td>\n",
       "      <td>ALL OTHER</td>\n",
       "      <td>UNKNOWN</td>\n",
       "      <td>UNKNOWN</td>\n",
       "      <td>0</td>\n",
       "    </tr>\n",
       "  </tbody>\n",
       "</table>\n",
       "</div>"
      ],
      "text/plain": [
       "           patient_age_group patient_state ethinicity household_income  \\\n",
       "patient_id                                                               \n",
       "336201912              51-53            SD  ALL OTHER          UNKNOWN   \n",
       "94237712               39-41            NE  ALL OTHER          UNKNOWN   \n",
       "186124512              24-26            CA  ALL OTHER          UNKNOWN   \n",
       "\n",
       "           education_level  is_screener  \n",
       "patient_id                               \n",
       "336201912          UNKNOWN            1  \n",
       "94237712           UNKNOWN            1  \n",
       "186124512          UNKNOWN            0  "
      ]
     },
     "execution_count": 6,
     "metadata": {},
     "output_type": "execute_result"
    }
   ],
   "source": [
    "train[:3]"
   ]
  },
  {
   "cell_type": "code",
   "execution_count": 7,
   "metadata": {
    "collapsed": false
   },
   "outputs": [
    {
     "data": {
      "text/plain": [
       "(1701813, 5)"
      ]
     },
     "execution_count": 7,
     "metadata": {},
     "output_type": "execute_result"
    }
   ],
   "source": [
    "test_file = './input/patients_test.csv.gz'\n",
    "test = pd.read_csv(test_file)\n",
    "test.set_index('patient_id', inplace=True)\n",
    "test.drop( 'patient_gender', axis = 1, inplace = True )\n",
    "test_exclude = pd.read_csv('./input/test_patients_to_exclude.csv', header=None, names=['patient_id'])\n",
    "test.drop(test_exclude.patient_id, inplace=True)\n",
    "test.shape"
   ]
  },
  {
   "cell_type": "code",
   "execution_count": 8,
   "metadata": {
    "collapsed": false,
    "scrolled": false
   },
   "outputs": [
    {
     "data": {
      "text/html": [
       "<div>\n",
       "<table border=\"1\" class=\"dataframe\">\n",
       "  <thead>\n",
       "    <tr style=\"text-align: right;\">\n",
       "      <th></th>\n",
       "      <th>patient_age_group</th>\n",
       "      <th>patient_state</th>\n",
       "      <th>ethinicity</th>\n",
       "      <th>household_income</th>\n",
       "      <th>education_level</th>\n",
       "    </tr>\n",
       "    <tr>\n",
       "      <th>patient_id</th>\n",
       "      <th></th>\n",
       "      <th></th>\n",
       "      <th></th>\n",
       "      <th></th>\n",
       "      <th></th>\n",
       "    </tr>\n",
       "  </thead>\n",
       "  <tbody>\n",
       "    <tr>\n",
       "      <th>148341312</th>\n",
       "      <td>66-68</td>\n",
       "      <td>TX</td>\n",
       "      <td>ALL OTHER</td>\n",
       "      <td>UNKNOWN</td>\n",
       "      <td>UNKNOWN</td>\n",
       "    </tr>\n",
       "    <tr>\n",
       "      <th>130010912</th>\n",
       "      <td>45-47</td>\n",
       "      <td>IN</td>\n",
       "      <td>ALL OTHER</td>\n",
       "      <td>UNKNOWN</td>\n",
       "      <td>UNKNOWN</td>\n",
       "    </tr>\n",
       "    <tr>\n",
       "      <th>103994412</th>\n",
       "      <td>27-29</td>\n",
       "      <td>CA</td>\n",
       "      <td>ALL OTHER</td>\n",
       "      <td>UNKNOWN</td>\n",
       "      <td>UNKNOWN</td>\n",
       "    </tr>\n",
       "  </tbody>\n",
       "</table>\n",
       "</div>"
      ],
      "text/plain": [
       "           patient_age_group patient_state ethinicity household_income  \\\n",
       "patient_id                                                               \n",
       "148341312              66-68            TX  ALL OTHER          UNKNOWN   \n",
       "130010912              45-47            IN  ALL OTHER          UNKNOWN   \n",
       "103994412              27-29            CA  ALL OTHER          UNKNOWN   \n",
       "\n",
       "           education_level  \n",
       "patient_id                  \n",
       "148341312          UNKNOWN  \n",
       "130010912          UNKNOWN  \n",
       "103994412          UNKNOWN  "
      ]
     },
     "execution_count": 8,
     "metadata": {},
     "output_type": "execute_result"
    }
   ],
   "source": [
    "test[:3]"
   ]
  },
  {
   "cell_type": "code",
   "execution_count": 9,
   "metadata": {
    "collapsed": false,
    "scrolled": false
   },
   "outputs": [],
   "source": [
    "original_test_rows = test.shape[0]"
   ]
  },
  {
   "cell_type": "markdown",
   "metadata": {},
   "source": [
    "## Load Features"
   ]
  },
  {
   "cell_type": "code",
   "execution_count": 13,
   "metadata": {
    "collapsed": true
   },
   "outputs": [],
   "source": [
    "def fheaders(filename):\n",
    "    feature = pd.read_csv(filename, nrows=2)\n",
    "    print(filename, feature.columns)\n",
    "    return"
   ]
  },
  {
   "cell_type": "code",
   "execution_count": 9,
   "metadata": {
    "collapsed": true
   },
   "outputs": [],
   "source": [
    "fdir = './features/'"
   ]
  },
  {
   "cell_type": "code",
   "execution_count": 65,
   "metadata": {
    "collapsed": true
   },
   "outputs": [],
   "source": [
    "\n",
    "train_features = [\n",
    "    'activity/activity_min_max.csv',\n",
    "    'visits.csv.gz',\n",
    "    'train_diagnosis_cbsa_counts.csv.gz',\n",
    "    'train_patient_cbsa.csv.gz',\n",
    "    'train_rx_payment.csv',\n",
    "    'train_procedure_counts.csv.gz',\n",
    "    'train_obg_pct.csv',\n",
    "    'train_fmfp.csv',\n",
    "#    'procedure/procedure_counts_selected.csv.gz',\n",
    "]\n"
   ]
  },
  {
   "cell_type": "code",
   "execution_count": 66,
   "metadata": {
    "collapsed": false
   },
   "outputs": [
    {
     "name": "stdout",
     "output_type": "stream",
     "text": [
      "('./features/activity/activity_min_max.csv', Index([u'patient_id', u'first_visit', u'last_visit', u'date_delta',\n",
      "       u'first_after_2012'],\n",
      "      dtype='object'))\n",
      "('./features/visits.csv.gz', Index([u'patient_id', u'visits'], dtype='object'))\n",
      "('./features/train_diagnosis_cbsa_counts.csv.gz', Index([u'patient_id', u'cbsa'], dtype='object'))\n",
      "('./features/train_patient_cbsa.csv.gz', Index([u'patient_id', u'cbsa', u'num_visits'], dtype='object'))\n",
      "('./features/train_rx_payment.csv', Index([u'patient_id', u'RX_ASSISTANCE', u'RX_CASH', u'RX_COMMERCIAL',\n",
      "       u'RX_MANAGED_MEDICAID', u'RX_MEDICAID', u'RX_MEDICARE', u'num_rx'],\n",
      "      dtype='object'))\n",
      "('./features/train_procedure_counts.csv.gz', Index([u'patient_id', u'num_procedures'], dtype='object'))\n",
      "('./features/train_obg_pct.csv', Index([u'patient_id', u'obg_id', u'obg_diagnosis_count', u'obg_code',\n",
      "       u'obg_cbsa', u'obg_screen_pct', u'obg_patient_count',\n",
      "       u'obg_month_frequency', u'obg_claim_count', u'visited_obg'],\n",
      "      dtype='object'))\n",
      "('./features/train_fmfp.csv', Index([u'patient_id', u'FM', u'FP'], dtype='object'))\n"
     ]
    }
   ],
   "source": [
    "for f in train_features:\n",
    "    fheaders(fdir+f)"
   ]
  },
  {
   "cell_type": "code",
   "execution_count": 17,
   "metadata": {
    "collapsed": false,
    "scrolled": true
   },
   "outputs": [
    {
     "data": {
      "text/html": [
       "<div>\n",
       "<table border=\"1\" class=\"dataframe\">\n",
       "  <thead>\n",
       "    <tr style=\"text-align: right;\">\n",
       "      <th></th>\n",
       "      <th>patient_id</th>\n",
       "      <th>FM</th>\n",
       "      <th>FP</th>\n",
       "      <th>FPG</th>\n",
       "      <th>FPP</th>\n",
       "      <th>FSM</th>\n",
       "      <th>PLN</th>\n",
       "    </tr>\n",
       "  </thead>\n",
       "  <tbody>\n",
       "    <tr>\n",
       "      <th>0</th>\n",
       "      <td>84548607</td>\n",
       "      <td>13098491</td>\n",
       "      <td>NaN</td>\n",
       "      <td>NaN</td>\n",
       "      <td>NaN</td>\n",
       "      <td>NaN</td>\n",
       "      <td>NaN</td>\n",
       "    </tr>\n",
       "    <tr>\n",
       "      <th>1</th>\n",
       "      <td>84548626</td>\n",
       "      <td>13181786</td>\n",
       "      <td>NaN</td>\n",
       "      <td>NaN</td>\n",
       "      <td>NaN</td>\n",
       "      <td>NaN</td>\n",
       "      <td>NaN</td>\n",
       "    </tr>\n",
       "    <tr>\n",
       "      <th>2</th>\n",
       "      <td>84548666</td>\n",
       "      <td>24257215</td>\n",
       "      <td>29088164</td>\n",
       "      <td>NaN</td>\n",
       "      <td>NaN</td>\n",
       "      <td>NaN</td>\n",
       "      <td>NaN</td>\n",
       "    </tr>\n",
       "  </tbody>\n",
       "</table>\n",
       "</div>"
      ],
      "text/plain": [
       "   patient_id        FM        FP  FPG  FPP  FSM  PLN\n",
       "0    84548607  13098491       NaN  NaN  NaN  NaN  NaN\n",
       "1    84548626  13181786       NaN  NaN  NaN  NaN  NaN\n",
       "2    84548666  24257215  29088164  NaN  NaN  NaN  NaN"
      ]
     },
     "execution_count": 17,
     "metadata": {},
     "output_type": "execute_result"
    }
   ],
   "source": [
    "xxx = pd.read_csv('./features/train_physician_family.csv.gz')\n",
    "train_physician_family[:3]"
   ]
  },
  {
   "cell_type": "code",
   "execution_count": 67,
   "metadata": {
    "collapsed": true
   },
   "outputs": [],
   "source": [
    "fm_cols = ['patient_id','FM','FP']"
   ]
  },
  {
   "cell_type": "code",
   "execution_count": 51,
   "metadata": {
    "collapsed": false
   },
   "outputs": [],
   "source": [
    "train_physician_family[fm_cols].to_csv('./features/train_fmfp.csv', index=False)"
   ]
  },
  {
   "cell_type": "code",
   "execution_count": 23,
   "metadata": {
    "collapsed": false,
    "scrolled": false
   },
   "outputs": [
    {
     "data": {
      "text/plain": [
       "patient_id    430246\n",
       "FM            407828\n",
       "FP            307532\n",
       "FPG            14067\n",
       "FPP              714\n",
       "FSM            34677\n",
       "PLN               21\n",
       "dtype: int64"
      ]
     },
     "execution_count": 23,
     "metadata": {},
     "output_type": "execute_result"
    }
   ],
   "source": [
    "test_physician_family.count()"
   ]
  },
  {
   "cell_type": "code",
   "execution_count": 59,
   "metadata": {
    "collapsed": false
   },
   "outputs": [
    {
     "name": "stdout",
     "output_type": "stream",
     "text": [
      "None\n"
     ]
    }
   ],
   "source": [
    "rx_cols = list(test_physician_family.columns).extend(['num_rx'])\n",
    "print(rx_cols)\n",
    "#rx_cols.extend(['num_rx'])\n",
    "rx_cols"
   ]
  },
  {
   "cell_type": "code",
   "execution_count": 57,
   "metadata": {
    "collapsed": false
   },
   "outputs": [
    {
     "data": {
      "text/plain": [
       "Index([u'patient_id', u'FM', u'FP', u'FPG', u'FPP', u'FSM', u'PLN'], dtype='object')"
      ]
     },
     "execution_count": 57,
     "metadata": {},
     "output_type": "execute_result"
    }
   ],
   "source": [
    "test_physician_family.columns"
   ]
  },
  {
   "cell_type": "code",
   "execution_count": 22,
   "metadata": {
    "collapsed": false,
    "scrolled": false
   },
   "outputs": [
    {
     "data": {
      "text/html": [
       "<div>\n",
       "<table border=\"1\" class=\"dataframe\">\n",
       "  <thead>\n",
       "    <tr style=\"text-align: right;\">\n",
       "      <th></th>\n",
       "      <th>patient_id</th>\n",
       "      <th>FM</th>\n",
       "      <th>FP</th>\n",
       "      <th>FPG</th>\n",
       "      <th>FPP</th>\n",
       "      <th>FSM</th>\n",
       "      <th>PLN</th>\n",
       "    </tr>\n",
       "  </thead>\n",
       "  <tbody>\n",
       "    <tr>\n",
       "      <th>0</th>\n",
       "      <td>84548780</td>\n",
       "      <td>47413525</td>\n",
       "      <td>NaN</td>\n",
       "      <td>NaN</td>\n",
       "      <td>NaN</td>\n",
       "      <td>35477000</td>\n",
       "      <td>NaN</td>\n",
       "    </tr>\n",
       "    <tr>\n",
       "      <th>1</th>\n",
       "      <td>84548841</td>\n",
       "      <td>13183196</td>\n",
       "      <td>NaN</td>\n",
       "      <td>NaN</td>\n",
       "      <td>NaN</td>\n",
       "      <td>NaN</td>\n",
       "      <td>NaN</td>\n",
       "    </tr>\n",
       "    <tr>\n",
       "      <th>2</th>\n",
       "      <td>84548915</td>\n",
       "      <td>42659493</td>\n",
       "      <td>NaN</td>\n",
       "      <td>NaN</td>\n",
       "      <td>NaN</td>\n",
       "      <td>NaN</td>\n",
       "      <td>NaN</td>\n",
       "    </tr>\n",
       "  </tbody>\n",
       "</table>\n",
       "</div>"
      ],
      "text/plain": [
       "   patient_id        FM  FP  FPG  FPP       FSM  PLN\n",
       "0    84548780  47413525 NaN  NaN  NaN  35477000  NaN\n",
       "1    84548841  13183196 NaN  NaN  NaN       NaN  NaN\n",
       "2    84548915  42659493 NaN  NaN  NaN       NaN  NaN"
      ]
     },
     "execution_count": 22,
     "metadata": {},
     "output_type": "execute_result"
    }
   ],
   "source": [
    "test_physician_family = pd.read_csv('./features/test_physician_family.csv.gz')\n",
    "test_physician_family[:3]"
   ]
  },
  {
   "cell_type": "code",
   "execution_count": 69,
   "metadata": {
    "collapsed": false
   },
   "outputs": [],
   "source": [
    "test_physician_family[fm_cols].to_csv('./features/test_fmfp.csv', index=False)"
   ]
  },
  {
   "cell_type": "code",
   "execution_count": 27,
   "metadata": {
    "collapsed": true
   },
   "outputs": [],
   "source": [
    "activity = pd.read_csv('./features/activity/activity_min_max_month_year.csv.gz')"
   ]
  },
  {
   "cell_type": "code",
   "execution_count": 41,
   "metadata": {
    "collapsed": false
   },
   "outputs": [
    {
     "data": {
      "text/html": [
       "<div>\n",
       "<table border=\"1\" class=\"dataframe\">\n",
       "  <thead>\n",
       "    <tr style=\"text-align: right;\">\n",
       "      <th></th>\n",
       "      <th>patient_id</th>\n",
       "      <th>max_month</th>\n",
       "      <th>max_year</th>\n",
       "      <th>min_month</th>\n",
       "      <th>min_year</th>\n",
       "      <th>first_visit</th>\n",
       "      <th>last_visit</th>\n",
       "      <th>date_delta</th>\n",
       "      <th>first_after_2012</th>\n",
       "    </tr>\n",
       "  </thead>\n",
       "  <tbody>\n",
       "    <tr>\n",
       "      <th>0</th>\n",
       "      <td>84548607</td>\n",
       "      <td>2</td>\n",
       "      <td>2011</td>\n",
       "      <td>4</td>\n",
       "      <td>2008</td>\n",
       "      <td>2008-04-01</td>\n",
       "      <td>2011-02-01</td>\n",
       "      <td>34</td>\n",
       "      <td>0</td>\n",
       "    </tr>\n",
       "    <tr>\n",
       "      <th>1</th>\n",
       "      <td>84548626</td>\n",
       "      <td>12</td>\n",
       "      <td>2014</td>\n",
       "      <td>12</td>\n",
       "      <td>2008</td>\n",
       "      <td>2008-12-01</td>\n",
       "      <td>2014-12-01</td>\n",
       "      <td>73</td>\n",
       "      <td>0</td>\n",
       "    </tr>\n",
       "    <tr>\n",
       "      <th>2</th>\n",
       "      <td>84548666</td>\n",
       "      <td>12</td>\n",
       "      <td>2014</td>\n",
       "      <td>11</td>\n",
       "      <td>2008</td>\n",
       "      <td>2008-11-01</td>\n",
       "      <td>2014-12-01</td>\n",
       "      <td>74</td>\n",
       "      <td>0</td>\n",
       "    </tr>\n",
       "    <tr>\n",
       "      <th>3</th>\n",
       "      <td>84548780</td>\n",
       "      <td>12</td>\n",
       "      <td>2014</td>\n",
       "      <td>3</td>\n",
       "      <td>2008</td>\n",
       "      <td>2008-03-01</td>\n",
       "      <td>2014-12-01</td>\n",
       "      <td>82</td>\n",
       "      <td>0</td>\n",
       "    </tr>\n",
       "    <tr>\n",
       "      <th>4</th>\n",
       "      <td>84548805</td>\n",
       "      <td>12</td>\n",
       "      <td>2014</td>\n",
       "      <td>10</td>\n",
       "      <td>2008</td>\n",
       "      <td>2008-10-01</td>\n",
       "      <td>2014-12-01</td>\n",
       "      <td>75</td>\n",
       "      <td>0</td>\n",
       "    </tr>\n",
       "    <tr>\n",
       "      <th>5</th>\n",
       "      <td>84548821</td>\n",
       "      <td>12</td>\n",
       "      <td>2014</td>\n",
       "      <td>1</td>\n",
       "      <td>2008</td>\n",
       "      <td>2008-01-01</td>\n",
       "      <td>2014-12-01</td>\n",
       "      <td>84</td>\n",
       "      <td>0</td>\n",
       "    </tr>\n",
       "    <tr>\n",
       "      <th>6</th>\n",
       "      <td>84548841</td>\n",
       "      <td>12</td>\n",
       "      <td>2014</td>\n",
       "      <td>1</td>\n",
       "      <td>2008</td>\n",
       "      <td>2008-01-01</td>\n",
       "      <td>2014-12-01</td>\n",
       "      <td>84</td>\n",
       "      <td>0</td>\n",
       "    </tr>\n",
       "    <tr>\n",
       "      <th>7</th>\n",
       "      <td>84548915</td>\n",
       "      <td>12</td>\n",
       "      <td>2014</td>\n",
       "      <td>1</td>\n",
       "      <td>2008</td>\n",
       "      <td>2008-01-01</td>\n",
       "      <td>2014-12-01</td>\n",
       "      <td>84</td>\n",
       "      <td>0</td>\n",
       "    </tr>\n",
       "    <tr>\n",
       "      <th>8</th>\n",
       "      <td>84549017</td>\n",
       "      <td>11</td>\n",
       "      <td>2014</td>\n",
       "      <td>2</td>\n",
       "      <td>2008</td>\n",
       "      <td>2008-02-01</td>\n",
       "      <td>2014-11-01</td>\n",
       "      <td>82</td>\n",
       "      <td>0</td>\n",
       "    </tr>\n",
       "    <tr>\n",
       "      <th>9</th>\n",
       "      <td>84549024</td>\n",
       "      <td>11</td>\n",
       "      <td>2014</td>\n",
       "      <td>1</td>\n",
       "      <td>2008</td>\n",
       "      <td>2008-01-01</td>\n",
       "      <td>2014-11-01</td>\n",
       "      <td>83</td>\n",
       "      <td>0</td>\n",
       "    </tr>\n",
       "  </tbody>\n",
       "</table>\n",
       "</div>"
      ],
      "text/plain": [
       "   patient_id  max_month  max_year  min_month  min_year first_visit  \\\n",
       "0    84548607          2      2011          4      2008  2008-04-01   \n",
       "1    84548626         12      2014         12      2008  2008-12-01   \n",
       "2    84548666         12      2014         11      2008  2008-11-01   \n",
       "3    84548780         12      2014          3      2008  2008-03-01   \n",
       "4    84548805         12      2014         10      2008  2008-10-01   \n",
       "5    84548821         12      2014          1      2008  2008-01-01   \n",
       "6    84548841         12      2014          1      2008  2008-01-01   \n",
       "7    84548915         12      2014          1      2008  2008-01-01   \n",
       "8    84549017         11      2014          2      2008  2008-02-01   \n",
       "9    84549024         11      2014          1      2008  2008-01-01   \n",
       "\n",
       "  last_visit  date_delta  first_after_2012  \n",
       "0 2011-02-01          34                 0  \n",
       "1 2014-12-01          73                 0  \n",
       "2 2014-12-01          74                 0  \n",
       "3 2014-12-01          82                 0  \n",
       "4 2014-12-01          75                 0  \n",
       "5 2014-12-01          84                 0  \n",
       "6 2014-12-01          84                 0  \n",
       "7 2014-12-01          84                 0  \n",
       "8 2014-11-01          82                 0  \n",
       "9 2014-11-01          83                 0  "
      ]
     },
     "execution_count": 41,
     "metadata": {},
     "output_type": "execute_result"
    }
   ],
   "source": [
    "activity[:10]"
   ]
  },
  {
   "cell_type": "code",
   "execution_count": 29,
   "metadata": {
    "collapsed": false
   },
   "outputs": [
    {
     "data": {
      "text/plain": [
       "patient_id    int64\n",
       "max_month     int64\n",
       "max_year      int64\n",
       "min_month     int64\n",
       "min_year      int64\n",
       "dtype: object"
      ]
     },
     "execution_count": 29,
     "metadata": {},
     "output_type": "execute_result"
    }
   ],
   "source": [
    "activity.dtypes"
   ]
  },
  {
   "cell_type": "code",
   "execution_count": 33,
   "metadata": {
    "collapsed": false
   },
   "outputs": [],
   "source": [
    "activity['first_visit'] = pd.to_datetime(activity.min_year.astype(str)+activity.min_month.astype(str),format='%Y%m')\n",
    "activity['last_visit'] = pd.to_datetime(activity.max_year.astype(str)+activity.max_month.astype(str),format='%Y%m')"
   ]
  },
  {
   "cell_type": "code",
   "execution_count": 35,
   "metadata": {
    "collapsed": true
   },
   "outputs": [],
   "source": [
    "activity['date_delta'] = ((activity.last_visit - activity.first_visit).dt.days / 30).astype(int)"
   ]
  },
  {
   "cell_type": "code",
   "execution_count": 40,
   "metadata": {
    "collapsed": false
   },
   "outputs": [],
   "source": [
    "activity['first_after_2012'] = (activity.first_visit > pd.datetime(2012,1,1)).astype(int)"
   ]
  },
  {
   "cell_type": "code",
   "execution_count": 50,
   "metadata": {
    "collapsed": true
   },
   "outputs": [],
   "source": [
    "acols = ['patient_id','first_visit','last_visit','date_delta','first_after_2012']\n",
    "activity[acols].to_csv('./features/activity/activity_min_max.csv', index=False)"
   ]
  },
  {
   "cell_type": "code",
   "execution_count": null,
   "metadata": {
    "collapsed": true
   },
   "outputs": [],
   "source": []
  },
  {
   "cell_type": "code",
   "execution_count": 11,
   "metadata": {
    "collapsed": true
   },
   "outputs": [],
   "source": [
    "# Train Files\n",
    "fdir = './features/'\n",
    "visits = fdir+'visits.csv.gz'\n",
    "train_diagnosis_cbsa_counts = fdir+'train_diagnosis_cbsa_counts.csv.gz'\n",
    "train_patient_cbsa = fdir+'train_patient_cbsa.csv.gz'\n",
    "train_procedure_counts = fdir+'train_procedure_counts.csv.gz'\n",
    "train_surgical_claim_type = fdir+'train_surgical_claim_type.csv.gz'\n",
    "train_surgical_place_of_service = fdir+'train_surgical_place_of_service.csv.gz'\n",
    "train_surgical_primary_physician_role = fdir+'train_surgical_primary_physician_role.csv.gz'\n",
    "train_surgical_procedure_type_code = fdir+'train_surgical_procedure_type_code.csv.gz'"
   ]
  },
  {
   "cell_type": "code",
   "execution_count": 12,
   "metadata": {
    "collapsed": false
   },
   "outputs": [],
   "source": [
    "train_features = [\n",
    "    visits, \n",
    "    train_patient_cbsa,\n",
    "    train_procedure_counts,\n",
    "    train_surgical_place_of_service,\n",
    "    train_surgical_procedure_type_code\n",
    "]"
   ]
  },
  {
   "cell_type": "code",
   "execution_count": 13,
   "metadata": {
    "collapsed": false
   },
   "outputs": [
    {
     "data": {
      "text/html": [
       "<div>\n",
       "<table border=\"1\" class=\"dataframe\">\n",
       "  <thead>\n",
       "    <tr style=\"text-align: right;\">\n",
       "      <th></th>\n",
       "      <th>patient_age_group</th>\n",
       "      <th>patient_state</th>\n",
       "      <th>ethinicity</th>\n",
       "      <th>household_income</th>\n",
       "      <th>education_level</th>\n",
       "      <th>is_screener</th>\n",
       "    </tr>\n",
       "    <tr>\n",
       "      <th>patient_id</th>\n",
       "      <th></th>\n",
       "      <th></th>\n",
       "      <th></th>\n",
       "      <th></th>\n",
       "      <th></th>\n",
       "      <th></th>\n",
       "    </tr>\n",
       "  </thead>\n",
       "  <tbody>\n",
       "    <tr>\n",
       "      <th>336201912</th>\n",
       "      <td>51-53</td>\n",
       "      <td>SD</td>\n",
       "      <td>ALL OTHER</td>\n",
       "      <td>UNKNOWN</td>\n",
       "      <td>UNKNOWN</td>\n",
       "      <td>1</td>\n",
       "    </tr>\n",
       "    <tr>\n",
       "      <th>94237712</th>\n",
       "      <td>39-41</td>\n",
       "      <td>NE</td>\n",
       "      <td>ALL OTHER</td>\n",
       "      <td>UNKNOWN</td>\n",
       "      <td>UNKNOWN</td>\n",
       "      <td>1</td>\n",
       "    </tr>\n",
       "    <tr>\n",
       "      <th>186124512</th>\n",
       "      <td>24-26</td>\n",
       "      <td>CA</td>\n",
       "      <td>ALL OTHER</td>\n",
       "      <td>UNKNOWN</td>\n",
       "      <td>UNKNOWN</td>\n",
       "      <td>0</td>\n",
       "    </tr>\n",
       "    <tr>\n",
       "      <th>767144212</th>\n",
       "      <td>27-29</td>\n",
       "      <td>NY</td>\n",
       "      <td>ALL OTHER</td>\n",
       "      <td>UNKNOWN</td>\n",
       "      <td>UNKNOWN</td>\n",
       "      <td>1</td>\n",
       "    </tr>\n",
       "  </tbody>\n",
       "</table>\n",
       "</div>"
      ],
      "text/plain": [
       "           patient_age_group patient_state ethinicity household_income  \\\n",
       "patient_id                                                               \n",
       "336201912              51-53            SD  ALL OTHER          UNKNOWN   \n",
       "94237712               39-41            NE  ALL OTHER          UNKNOWN   \n",
       "186124512              24-26            CA  ALL OTHER          UNKNOWN   \n",
       "767144212              27-29            NY  ALL OTHER          UNKNOWN   \n",
       "\n",
       "           education_level  is_screener  \n",
       "patient_id                               \n",
       "336201912          UNKNOWN            1  \n",
       "94237712           UNKNOWN            1  \n",
       "186124512          UNKNOWN            0  \n",
       "767144212          UNKNOWN            1  "
      ]
     },
     "execution_count": 13,
     "metadata": {},
     "output_type": "execute_result"
    }
   ],
   "source": [
    "train[:4]"
   ]
  },
  {
   "cell_type": "code",
   "execution_count": 14,
   "metadata": {
    "collapsed": false
   },
   "outputs": [],
   "source": [
    "for f in train_features:\n",
    "    train = fmerge(train, f)"
   ]
  },
  {
   "cell_type": "code",
   "execution_count": 15,
   "metadata": {
    "collapsed": false
   },
   "outputs": [
    {
     "data": {
      "text/plain": [
       "157"
      ]
     },
     "execution_count": 15,
     "metadata": {},
     "output_type": "execute_result"
    }
   ],
   "source": [
    "import gc\n",
    "gc.collect()"
   ]
  },
  {
   "cell_type": "code",
   "execution_count": 16,
   "metadata": {
    "collapsed": false
   },
   "outputs": [],
   "source": [
    "if train.shape[0] != original_train_rows:\n",
    "    raise Exception('bad merge?')"
   ]
  },
  {
   "cell_type": "code",
   "execution_count": 17,
   "metadata": {
    "collapsed": false
   },
   "outputs": [
    {
     "data": {
      "text/html": [
       "<div>\n",
       "<table border=\"1\" class=\"dataframe\">\n",
       "  <thead>\n",
       "    <tr style=\"text-align: right;\">\n",
       "      <th></th>\n",
       "      <th>patient_age_group</th>\n",
       "      <th>patient_state</th>\n",
       "      <th>ethinicity</th>\n",
       "      <th>household_income</th>\n",
       "      <th>education_level</th>\n",
       "      <th>is_screener</th>\n",
       "      <th>visits</th>\n",
       "      <th>cbsa</th>\n",
       "      <th>num_visits</th>\n",
       "      <th>num_procedures</th>\n",
       "      <th>...</th>\n",
       "      <th>0003</th>\n",
       "      <th>0004</th>\n",
       "      <th>0005</th>\n",
       "      <th>0006</th>\n",
       "      <th>HX01</th>\n",
       "      <th>HX02</th>\n",
       "      <th>HX03</th>\n",
       "      <th>HX04</th>\n",
       "      <th>HX05</th>\n",
       "      <th>HXPR</th>\n",
       "    </tr>\n",
       "    <tr>\n",
       "      <th>patient_id</th>\n",
       "      <th></th>\n",
       "      <th></th>\n",
       "      <th></th>\n",
       "      <th></th>\n",
       "      <th></th>\n",
       "      <th></th>\n",
       "      <th></th>\n",
       "      <th></th>\n",
       "      <th></th>\n",
       "      <th></th>\n",
       "      <th></th>\n",
       "      <th></th>\n",
       "      <th></th>\n",
       "      <th></th>\n",
       "      <th></th>\n",
       "      <th></th>\n",
       "      <th></th>\n",
       "      <th></th>\n",
       "      <th></th>\n",
       "      <th></th>\n",
       "      <th></th>\n",
       "    </tr>\n",
       "  </thead>\n",
       "  <tbody>\n",
       "    <tr>\n",
       "      <th>336201912</th>\n",
       "      <td>51-53</td>\n",
       "      <td>SD</td>\n",
       "      <td>ALL OTHER</td>\n",
       "      <td>UNKNOWN</td>\n",
       "      <td>UNKNOWN</td>\n",
       "      <td>1</td>\n",
       "      <td>37</td>\n",
       "      <td>43940</td>\n",
       "      <td>8</td>\n",
       "      <td>49</td>\n",
       "      <td>...</td>\n",
       "      <td>NaN</td>\n",
       "      <td>NaN</td>\n",
       "      <td>NaN</td>\n",
       "      <td>NaN</td>\n",
       "      <td>NaN</td>\n",
       "      <td>NaN</td>\n",
       "      <td>NaN</td>\n",
       "      <td>NaN</td>\n",
       "      <td>NaN</td>\n",
       "      <td>NaN</td>\n",
       "    </tr>\n",
       "    <tr>\n",
       "      <th>94237712</th>\n",
       "      <td>39-41</td>\n",
       "      <td>NE</td>\n",
       "      <td>ALL OTHER</td>\n",
       "      <td>UNKNOWN</td>\n",
       "      <td>UNKNOWN</td>\n",
       "      <td>1</td>\n",
       "      <td>129</td>\n",
       "      <td>36540</td>\n",
       "      <td>20</td>\n",
       "      <td>247</td>\n",
       "      <td>...</td>\n",
       "      <td>0</td>\n",
       "      <td>0</td>\n",
       "      <td>0</td>\n",
       "      <td>0</td>\n",
       "      <td>2</td>\n",
       "      <td>0</td>\n",
       "      <td>0</td>\n",
       "      <td>0</td>\n",
       "      <td>0</td>\n",
       "      <td>2</td>\n",
       "    </tr>\n",
       "    <tr>\n",
       "      <th>186124512</th>\n",
       "      <td>24-26</td>\n",
       "      <td>CA</td>\n",
       "      <td>ALL OTHER</td>\n",
       "      <td>UNKNOWN</td>\n",
       "      <td>UNKNOWN</td>\n",
       "      <td>0</td>\n",
       "      <td>26</td>\n",
       "      <td>31080</td>\n",
       "      <td>5</td>\n",
       "      <td>18</td>\n",
       "      <td>...</td>\n",
       "      <td>NaN</td>\n",
       "      <td>NaN</td>\n",
       "      <td>NaN</td>\n",
       "      <td>NaN</td>\n",
       "      <td>NaN</td>\n",
       "      <td>NaN</td>\n",
       "      <td>NaN</td>\n",
       "      <td>NaN</td>\n",
       "      <td>NaN</td>\n",
       "      <td>NaN</td>\n",
       "    </tr>\n",
       "    <tr>\n",
       "      <th>767144212</th>\n",
       "      <td>27-29</td>\n",
       "      <td>NY</td>\n",
       "      <td>ALL OTHER</td>\n",
       "      <td>UNKNOWN</td>\n",
       "      <td>UNKNOWN</td>\n",
       "      <td>1</td>\n",
       "      <td>2</td>\n",
       "      <td>35620</td>\n",
       "      <td>43</td>\n",
       "      <td>293</td>\n",
       "      <td>...</td>\n",
       "      <td>0</td>\n",
       "      <td>0</td>\n",
       "      <td>0</td>\n",
       "      <td>0</td>\n",
       "      <td>6</td>\n",
       "      <td>4</td>\n",
       "      <td>0</td>\n",
       "      <td>0</td>\n",
       "      <td>0</td>\n",
       "      <td>14</td>\n",
       "    </tr>\n",
       "  </tbody>\n",
       "</table>\n",
       "<p>4 rows × 27 columns</p>\n",
       "</div>"
      ],
      "text/plain": [
       "           patient_age_group patient_state ethinicity household_income  \\\n",
       "patient_id                                                               \n",
       "336201912              51-53            SD  ALL OTHER          UNKNOWN   \n",
       "94237712               39-41            NE  ALL OTHER          UNKNOWN   \n",
       "186124512              24-26            CA  ALL OTHER          UNKNOWN   \n",
       "767144212              27-29            NY  ALL OTHER          UNKNOWN   \n",
       "\n",
       "           education_level  is_screener  visits   cbsa  num_visits  \\\n",
       "patient_id                                                           \n",
       "336201912          UNKNOWN            1      37  43940           8   \n",
       "94237712           UNKNOWN            1     129  36540          20   \n",
       "186124512          UNKNOWN            0      26  31080           5   \n",
       "767144212          UNKNOWN            1       2  35620          43   \n",
       "\n",
       "            num_procedures  ...   0003  0004  0005  0006  HX01  HX02  HX03  \\\n",
       "patient_id                  ...                                              \n",
       "336201912               49  ...    NaN   NaN   NaN   NaN   NaN   NaN   NaN   \n",
       "94237712               247  ...      0     0     0     0     2     0     0   \n",
       "186124512               18  ...    NaN   NaN   NaN   NaN   NaN   NaN   NaN   \n",
       "767144212              293  ...      0     0     0     0     6     4     0   \n",
       "\n",
       "            HX04  HX05  HXPR  \n",
       "patient_id                    \n",
       "336201912    NaN   NaN   NaN  \n",
       "94237712       0     0     2  \n",
       "186124512    NaN   NaN   NaN  \n",
       "767144212      0     0    14  \n",
       "\n",
       "[4 rows x 27 columns]"
      ]
     },
     "execution_count": 17,
     "metadata": {},
     "output_type": "execute_result"
    }
   ],
   "source": [
    "train[:4]"
   ]
  },
  {
   "cell_type": "code",
   "execution_count": 18,
   "metadata": {
    "collapsed": true
   },
   "outputs": [],
   "source": [
    "# Test Files\n",
    "fdir = './features/'\n",
    "visits = fdir+'visits.csv.gz'\n",
    "test_diagnosis_cbsa_counts = fdir+'test_diagnosis_cbsa_counts.csv.gz'\n",
    "test_patient_cbsa = fdir+'test_patient_cbsa.csv.gz'\n",
    "test_procedure_counts = fdir+'test_procedure_counts.csv.gz'\n",
    "test_surgical_claim_type = fdir+'test_surgical_claim_type.csv.gz'\n",
    "test_surgical_place_of_service = fdir+'test_surgical_place_of_service.csv.gz'\n",
    "test_surgical_primary_physician_role = fdir+'test_surgical_primary_physician_role.csv.gz'\n",
    "test_surgical_procedure_type_code = fdir+'test_surgical_procedure_type_code.csv.gz'"
   ]
  },
  {
   "cell_type": "code",
   "execution_count": 19,
   "metadata": {
    "collapsed": false
   },
   "outputs": [],
   "source": [
    "test_features = [\n",
    "    visits, \n",
    "    test_patient_cbsa,\n",
    "    test_procedure_counts,\n",
    "    test_surgical_place_of_service,\n",
    "    test_surgical_procedure_type_code\n",
    "]"
   ]
  },
  {
   "cell_type": "code",
   "execution_count": 20,
   "metadata": {
    "collapsed": false
   },
   "outputs": [],
   "source": [
    "for f in test_features:\n",
    "    test = fmerge(test, f)"
   ]
  },
  {
   "cell_type": "code",
   "execution_count": 21,
   "metadata": {
    "collapsed": false
   },
   "outputs": [],
   "source": [
    "if test.shape[0] != original_test_rows:\n",
    "    raise Exception('bad merge?')"
   ]
  },
  {
   "cell_type": "code",
   "execution_count": 22,
   "metadata": {
    "collapsed": false
   },
   "outputs": [
    {
     "data": {
      "text/plain": [
       "(1701813, 26)"
      ]
     },
     "execution_count": 22,
     "metadata": {},
     "output_type": "execute_result"
    }
   ],
   "source": [
    "test.shape"
   ]
  },
  {
   "cell_type": "code",
   "execution_count": 23,
   "metadata": {
    "collapsed": false
   },
   "outputs": [
    {
     "data": {
      "text/html": [
       "<div>\n",
       "<table border=\"1\" class=\"dataframe\">\n",
       "  <thead>\n",
       "    <tr style=\"text-align: right;\">\n",
       "      <th></th>\n",
       "      <th>patient_age_group</th>\n",
       "      <th>patient_state</th>\n",
       "      <th>ethinicity</th>\n",
       "      <th>household_income</th>\n",
       "      <th>education_level</th>\n",
       "      <th>visits</th>\n",
       "      <th>cbsa</th>\n",
       "      <th>num_visits</th>\n",
       "      <th>num_procedures</th>\n",
       "      <th>CLINIC</th>\n",
       "      <th>...</th>\n",
       "      <th>0003</th>\n",
       "      <th>0004</th>\n",
       "      <th>0005</th>\n",
       "      <th>0006</th>\n",
       "      <th>HX01</th>\n",
       "      <th>HX02</th>\n",
       "      <th>HX03</th>\n",
       "      <th>HX04</th>\n",
       "      <th>HX05</th>\n",
       "      <th>HXPR</th>\n",
       "    </tr>\n",
       "    <tr>\n",
       "      <th>patient_id</th>\n",
       "      <th></th>\n",
       "      <th></th>\n",
       "      <th></th>\n",
       "      <th></th>\n",
       "      <th></th>\n",
       "      <th></th>\n",
       "      <th></th>\n",
       "      <th></th>\n",
       "      <th></th>\n",
       "      <th></th>\n",
       "      <th></th>\n",
       "      <th></th>\n",
       "      <th></th>\n",
       "      <th></th>\n",
       "      <th></th>\n",
       "      <th></th>\n",
       "      <th></th>\n",
       "      <th></th>\n",
       "      <th></th>\n",
       "      <th></th>\n",
       "      <th></th>\n",
       "    </tr>\n",
       "  </thead>\n",
       "  <tbody>\n",
       "    <tr>\n",
       "      <th>148341312</th>\n",
       "      <td>66-68</td>\n",
       "      <td>TX</td>\n",
       "      <td>ALL OTHER</td>\n",
       "      <td>UNKNOWN</td>\n",
       "      <td>UNKNOWN</td>\n",
       "      <td>144</td>\n",
       "      <td>19100</td>\n",
       "      <td>11</td>\n",
       "      <td>135</td>\n",
       "      <td>NaN</td>\n",
       "      <td>...</td>\n",
       "      <td>NaN</td>\n",
       "      <td>NaN</td>\n",
       "      <td>NaN</td>\n",
       "      <td>NaN</td>\n",
       "      <td>NaN</td>\n",
       "      <td>NaN</td>\n",
       "      <td>NaN</td>\n",
       "      <td>NaN</td>\n",
       "      <td>NaN</td>\n",
       "      <td>NaN</td>\n",
       "    </tr>\n",
       "    <tr>\n",
       "      <th>130010912</th>\n",
       "      <td>45-47</td>\n",
       "      <td>IN</td>\n",
       "      <td>ALL OTHER</td>\n",
       "      <td>UNKNOWN</td>\n",
       "      <td>UNKNOWN</td>\n",
       "      <td>92</td>\n",
       "      <td>26900</td>\n",
       "      <td>8</td>\n",
       "      <td>85</td>\n",
       "      <td>NaN</td>\n",
       "      <td>...</td>\n",
       "      <td>NaN</td>\n",
       "      <td>NaN</td>\n",
       "      <td>NaN</td>\n",
       "      <td>NaN</td>\n",
       "      <td>NaN</td>\n",
       "      <td>NaN</td>\n",
       "      <td>NaN</td>\n",
       "      <td>NaN</td>\n",
       "      <td>NaN</td>\n",
       "      <td>NaN</td>\n",
       "    </tr>\n",
       "    <tr>\n",
       "      <th>103994412</th>\n",
       "      <td>27-29</td>\n",
       "      <td>CA</td>\n",
       "      <td>ALL OTHER</td>\n",
       "      <td>UNKNOWN</td>\n",
       "      <td>UNKNOWN</td>\n",
       "      <td>168</td>\n",
       "      <td>31080</td>\n",
       "      <td>37</td>\n",
       "      <td>417</td>\n",
       "      <td>NaN</td>\n",
       "      <td>...</td>\n",
       "      <td>NaN</td>\n",
       "      <td>NaN</td>\n",
       "      <td>NaN</td>\n",
       "      <td>NaN</td>\n",
       "      <td>NaN</td>\n",
       "      <td>NaN</td>\n",
       "      <td>NaN</td>\n",
       "      <td>NaN</td>\n",
       "      <td>NaN</td>\n",
       "      <td>NaN</td>\n",
       "    </tr>\n",
       "    <tr>\n",
       "      <th>318658812</th>\n",
       "      <td>27-29</td>\n",
       "      <td>TN</td>\n",
       "      <td>ALL OTHER</td>\n",
       "      <td>UNKNOWN</td>\n",
       "      <td>UNKNOWN</td>\n",
       "      <td>72</td>\n",
       "      <td>32820</td>\n",
       "      <td>14</td>\n",
       "      <td>150</td>\n",
       "      <td>0</td>\n",
       "      <td>...</td>\n",
       "      <td>0</td>\n",
       "      <td>0</td>\n",
       "      <td>0</td>\n",
       "      <td>0</td>\n",
       "      <td>6</td>\n",
       "      <td>2</td>\n",
       "      <td>2</td>\n",
       "      <td>0</td>\n",
       "      <td>0</td>\n",
       "      <td>6</td>\n",
       "    </tr>\n",
       "  </tbody>\n",
       "</table>\n",
       "<p>4 rows × 26 columns</p>\n",
       "</div>"
      ],
      "text/plain": [
       "           patient_age_group patient_state ethinicity household_income  \\\n",
       "patient_id                                                               \n",
       "148341312              66-68            TX  ALL OTHER          UNKNOWN   \n",
       "130010912              45-47            IN  ALL OTHER          UNKNOWN   \n",
       "103994412              27-29            CA  ALL OTHER          UNKNOWN   \n",
       "318658812              27-29            TN  ALL OTHER          UNKNOWN   \n",
       "\n",
       "           education_level  visits   cbsa  num_visits  num_procedures  CLINIC  \\\n",
       "patient_id                                                                      \n",
       "148341312          UNKNOWN     144  19100          11             135     NaN   \n",
       "130010912          UNKNOWN      92  26900           8              85     NaN   \n",
       "103994412          UNKNOWN     168  31080          37             417     NaN   \n",
       "318658812          UNKNOWN      72  32820          14             150       0   \n",
       "\n",
       "            ...   0003  0004  0005  0006  HX01  HX02  HX03  HX04  HX05  HXPR  \n",
       "patient_id  ...                                                               \n",
       "148341312   ...    NaN   NaN   NaN   NaN   NaN   NaN   NaN   NaN   NaN   NaN  \n",
       "130010912   ...    NaN   NaN   NaN   NaN   NaN   NaN   NaN   NaN   NaN   NaN  \n",
       "103994412   ...    NaN   NaN   NaN   NaN   NaN   NaN   NaN   NaN   NaN   NaN  \n",
       "318658812   ...      0     0     0     0     6     2     2     0     0     6  \n",
       "\n",
       "[4 rows x 26 columns]"
      ]
     },
     "execution_count": 23,
     "metadata": {},
     "output_type": "execute_result"
    }
   ],
   "source": [
    "test[:4]"
   ]
  },
  {
   "cell_type": "markdown",
   "metadata": {},
   "source": [
    "## num_diagnosis"
   ]
  },
  {
   "cell_type": "code",
   "execution_count": 24,
   "metadata": {
    "collapsed": false
   },
   "outputs": [
    {
     "data": {
      "text/html": [
       "<div>\n",
       "<table border=\"1\" class=\"dataframe\">\n",
       "  <thead>\n",
       "    <tr style=\"text-align: right;\">\n",
       "      <th></th>\n",
       "      <th>patient_id</th>\n",
       "      <th>cbsa</th>\n",
       "      <th>count</th>\n",
       "    </tr>\n",
       "  </thead>\n",
       "  <tbody>\n",
       "    <tr>\n",
       "      <th>0</th>\n",
       "      <td>84548607</td>\n",
       "      <td>18620</td>\n",
       "      <td>1</td>\n",
       "    </tr>\n",
       "    <tr>\n",
       "      <th>1</th>\n",
       "      <td>84548607</td>\n",
       "      <td>19100</td>\n",
       "      <td>1</td>\n",
       "    </tr>\n",
       "    <tr>\n",
       "      <th>2</th>\n",
       "      <td>84548607</td>\n",
       "      <td>46100</td>\n",
       "      <td>1</td>\n",
       "    </tr>\n",
       "  </tbody>\n",
       "</table>\n",
       "</div>"
      ],
      "text/plain": [
       "   patient_id   cbsa  count\n",
       "0    84548607  18620      1\n",
       "1    84548607  19100      1\n",
       "2    84548607  46100      1"
      ]
     },
     "execution_count": 24,
     "metadata": {},
     "output_type": "execute_result"
    }
   ],
   "source": [
    "diagnosis_cbsa_count_train = pd.read_csv(fdir+'diagnosis_cbsa_count_train.csv.gz')\n",
    "diagnosis_cbsa_count_train[:3]"
   ]
  },
  {
   "cell_type": "code",
   "execution_count": 25,
   "metadata": {
    "collapsed": false
   },
   "outputs": [],
   "source": [
    "train_diagnosis_count = diagnosis_cbsa_count_train.groupby('patient_id')['count'].sum()\n",
    "train['num_diagnosis'] = train_diagnosis_count"
   ]
  },
  {
   "cell_type": "code",
   "execution_count": 26,
   "metadata": {
    "collapsed": false,
    "scrolled": false
   },
   "outputs": [
    {
     "data": {
      "text/html": [
       "<div>\n",
       "<table border=\"1\" class=\"dataframe\">\n",
       "  <thead>\n",
       "    <tr style=\"text-align: right;\">\n",
       "      <th></th>\n",
       "      <th>patient_id</th>\n",
       "      <th>cbsa</th>\n",
       "      <th>count</th>\n",
       "    </tr>\n",
       "  </thead>\n",
       "  <tbody>\n",
       "    <tr>\n",
       "      <th>0</th>\n",
       "      <td>84548780</td>\n",
       "      <td>21500</td>\n",
       "      <td>1</td>\n",
       "    </tr>\n",
       "    <tr>\n",
       "      <th>1</th>\n",
       "      <td>84548780</td>\n",
       "      <td>26180</td>\n",
       "      <td>18</td>\n",
       "    </tr>\n",
       "    <tr>\n",
       "      <th>2</th>\n",
       "      <td>84548841</td>\n",
       "      <td>11460</td>\n",
       "      <td>1</td>\n",
       "    </tr>\n",
       "  </tbody>\n",
       "</table>\n",
       "</div>"
      ],
      "text/plain": [
       "   patient_id   cbsa  count\n",
       "0    84548780  21500      1\n",
       "1    84548780  26180     18\n",
       "2    84548841  11460      1"
      ]
     },
     "execution_count": 26,
     "metadata": {},
     "output_type": "execute_result"
    }
   ],
   "source": [
    "diagnosis_cbsa_count_test = pd.read_csv(fdir+'diagnosis_cbsa_count_test.csv.gz')\n",
    "diagnosis_cbsa_count_test[:3]"
   ]
  },
  {
   "cell_type": "code",
   "execution_count": 27,
   "metadata": {
    "collapsed": false,
    "scrolled": false
   },
   "outputs": [],
   "source": [
    "test_diagnosis_count = diagnosis_cbsa_count_test[['patient_id','count']].groupby('patient_id')['count'].sum()\n",
    "test['num_diagnosis'] = test_diagnosis_count"
   ]
  },
  {
   "cell_type": "code",
   "execution_count": 28,
   "metadata": {
    "collapsed": false,
    "scrolled": true
   },
   "outputs": [
    {
     "data": {
      "text/html": [
       "<div>\n",
       "<table border=\"1\" class=\"dataframe\">\n",
       "  <thead>\n",
       "    <tr style=\"text-align: right;\">\n",
       "      <th></th>\n",
       "      <th>patient_age_group</th>\n",
       "      <th>patient_state</th>\n",
       "      <th>ethinicity</th>\n",
       "      <th>household_income</th>\n",
       "      <th>education_level</th>\n",
       "      <th>visits</th>\n",
       "      <th>cbsa</th>\n",
       "      <th>num_visits</th>\n",
       "      <th>num_procedures</th>\n",
       "      <th>CLINIC</th>\n",
       "      <th>...</th>\n",
       "      <th>0004</th>\n",
       "      <th>0005</th>\n",
       "      <th>0006</th>\n",
       "      <th>HX01</th>\n",
       "      <th>HX02</th>\n",
       "      <th>HX03</th>\n",
       "      <th>HX04</th>\n",
       "      <th>HX05</th>\n",
       "      <th>HXPR</th>\n",
       "      <th>num_diagnosis</th>\n",
       "    </tr>\n",
       "    <tr>\n",
       "      <th>patient_id</th>\n",
       "      <th></th>\n",
       "      <th></th>\n",
       "      <th></th>\n",
       "      <th></th>\n",
       "      <th></th>\n",
       "      <th></th>\n",
       "      <th></th>\n",
       "      <th></th>\n",
       "      <th></th>\n",
       "      <th></th>\n",
       "      <th></th>\n",
       "      <th></th>\n",
       "      <th></th>\n",
       "      <th></th>\n",
       "      <th></th>\n",
       "      <th></th>\n",
       "      <th></th>\n",
       "      <th></th>\n",
       "      <th></th>\n",
       "      <th></th>\n",
       "      <th></th>\n",
       "    </tr>\n",
       "  </thead>\n",
       "  <tbody>\n",
       "    <tr>\n",
       "      <th>148341312</th>\n",
       "      <td>66-68</td>\n",
       "      <td>TX</td>\n",
       "      <td>ALL OTHER</td>\n",
       "      <td>UNKNOWN</td>\n",
       "      <td>UNKNOWN</td>\n",
       "      <td>144</td>\n",
       "      <td>19100</td>\n",
       "      <td>11</td>\n",
       "      <td>135</td>\n",
       "      <td>NaN</td>\n",
       "      <td>...</td>\n",
       "      <td>NaN</td>\n",
       "      <td>NaN</td>\n",
       "      <td>NaN</td>\n",
       "      <td>NaN</td>\n",
       "      <td>NaN</td>\n",
       "      <td>NaN</td>\n",
       "      <td>NaN</td>\n",
       "      <td>NaN</td>\n",
       "      <td>NaN</td>\n",
       "      <td>11</td>\n",
       "    </tr>\n",
       "    <tr>\n",
       "      <th>130010912</th>\n",
       "      <td>45-47</td>\n",
       "      <td>IN</td>\n",
       "      <td>ALL OTHER</td>\n",
       "      <td>UNKNOWN</td>\n",
       "      <td>UNKNOWN</td>\n",
       "      <td>92</td>\n",
       "      <td>26900</td>\n",
       "      <td>8</td>\n",
       "      <td>85</td>\n",
       "      <td>NaN</td>\n",
       "      <td>...</td>\n",
       "      <td>NaN</td>\n",
       "      <td>NaN</td>\n",
       "      <td>NaN</td>\n",
       "      <td>NaN</td>\n",
       "      <td>NaN</td>\n",
       "      <td>NaN</td>\n",
       "      <td>NaN</td>\n",
       "      <td>NaN</td>\n",
       "      <td>NaN</td>\n",
       "      <td>8</td>\n",
       "    </tr>\n",
       "  </tbody>\n",
       "</table>\n",
       "<p>2 rows × 27 columns</p>\n",
       "</div>"
      ],
      "text/plain": [
       "           patient_age_group patient_state ethinicity household_income  \\\n",
       "patient_id                                                               \n",
       "148341312              66-68            TX  ALL OTHER          UNKNOWN   \n",
       "130010912              45-47            IN  ALL OTHER          UNKNOWN   \n",
       "\n",
       "           education_level  visits   cbsa  num_visits  num_procedures  CLINIC  \\\n",
       "patient_id                                                                      \n",
       "148341312          UNKNOWN     144  19100          11             135     NaN   \n",
       "130010912          UNKNOWN      92  26900           8              85     NaN   \n",
       "\n",
       "                ...        0004  0005  0006  HX01  HX02  HX03  HX04  HX05  \\\n",
       "patient_id      ...                                                         \n",
       "148341312       ...         NaN   NaN   NaN   NaN   NaN   NaN   NaN   NaN   \n",
       "130010912       ...         NaN   NaN   NaN   NaN   NaN   NaN   NaN   NaN   \n",
       "\n",
       "            HXPR  num_diagnosis  \n",
       "patient_id                       \n",
       "148341312    NaN             11  \n",
       "130010912    NaN              8  \n",
       "\n",
       "[2 rows x 27 columns]"
      ]
     },
     "execution_count": 28,
     "metadata": {},
     "output_type": "execute_result"
    }
   ],
   "source": [
    "test[:2]"
   ]
  },
  {
   "cell_type": "code",
   "execution_count": 29,
   "metadata": {
    "collapsed": false
   },
   "outputs": [
    {
     "data": {
      "text/plain": [
       "239"
      ]
     },
     "execution_count": 29,
     "metadata": {},
     "output_type": "execute_result"
    }
   ],
   "source": [
    "gc.collect()"
   ]
  },
  {
   "cell_type": "code",
   "execution_count": 30,
   "metadata": {
    "collapsed": false
   },
   "outputs": [],
   "source": [
    "if train.shape[0] != original_train_rows:\n",
    "    raise Exception('bad merge?')"
   ]
  },
  {
   "cell_type": "markdown",
   "metadata": {},
   "source": [
    "## rx_payment"
   ]
  },
  {
   "cell_type": "code",
   "execution_count": 31,
   "metadata": {
    "collapsed": false
   },
   "outputs": [
    {
     "data": {
      "text/html": [
       "<div>\n",
       "<table border=\"1\" class=\"dataframe\">\n",
       "  <thead>\n",
       "    <tr style=\"text-align: right;\">\n",
       "      <th></th>\n",
       "      <th>patient_id</th>\n",
       "      <th>payment</th>\n",
       "    </tr>\n",
       "  </thead>\n",
       "  <tbody>\n",
       "    <tr>\n",
       "      <th>0</th>\n",
       "      <td>84548607</td>\n",
       "      <td>COMMERCIAL</td>\n",
       "    </tr>\n",
       "    <tr>\n",
       "      <th>1</th>\n",
       "      <td>84548626</td>\n",
       "      <td>CASH</td>\n",
       "    </tr>\n",
       "    <tr>\n",
       "      <th>2</th>\n",
       "      <td>84548626</td>\n",
       "      <td>COMMERCIAL</td>\n",
       "    </tr>\n",
       "    <tr>\n",
       "      <th>3</th>\n",
       "      <td>84548666</td>\n",
       "      <td>COMMERCIAL</td>\n",
       "    </tr>\n",
       "    <tr>\n",
       "      <th>4</th>\n",
       "      <td>84548780</td>\n",
       "      <td>CASH</td>\n",
       "    </tr>\n",
       "  </tbody>\n",
       "</table>\n",
       "</div>"
      ],
      "text/plain": [
       "   patient_id     payment\n",
       "0    84548607  COMMERCIAL\n",
       "1    84548626        CASH\n",
       "2    84548626  COMMERCIAL\n",
       "3    84548666  COMMERCIAL\n",
       "4    84548780        CASH"
      ]
     },
     "execution_count": 31,
     "metadata": {},
     "output_type": "execute_result"
    }
   ],
   "source": [
    "rx_payment = pd.read_csv(fdir+'rx_payment.csv.gz')\n",
    "rx_payment[:5]"
   ]
  },
  {
   "cell_type": "code",
   "execution_count": 32,
   "metadata": {
    "collapsed": false
   },
   "outputs": [],
   "source": [
    "rx_count = rx_payment.groupby('patient_id').payment.count()"
   ]
  },
  {
   "cell_type": "code",
   "execution_count": 33,
   "metadata": {
    "collapsed": false
   },
   "outputs": [
    {
     "data": {
      "text/plain": [
       "patient_id\n",
       "84548607    1\n",
       "84548626    2\n",
       "84548666    1\n",
       "84548780    3\n",
       "84548805    3\n",
       "84548821    2\n",
       "84548841    2\n",
       "84548915    3\n",
       "84549017    5\n",
       "84549024    2\n",
       "Name: payment, dtype: int64"
      ]
     },
     "execution_count": 33,
     "metadata": {},
     "output_type": "execute_result"
    }
   ],
   "source": [
    "rx_count[:10]"
   ]
  },
  {
   "cell_type": "code",
   "execution_count": 34,
   "metadata": {
    "collapsed": true
   },
   "outputs": [],
   "source": [
    "train['num_rx'] = rx_count\n",
    "test['num_rx'] = rx_count"
   ]
  },
  {
   "cell_type": "code",
   "execution_count": 35,
   "metadata": {
    "collapsed": false
   },
   "outputs": [],
   "source": [
    "rx_pivot = rx_payment.pivot(index='patient_id', columns='payment', values='payment')"
   ]
  },
  {
   "cell_type": "code",
   "execution_count": 36,
   "metadata": {
    "collapsed": false
   },
   "outputs": [],
   "source": [
    "rx_pivot.columns = ['RX_ASSISTANCE','RX_CASH','RX_COMMERCIAL','RX_MANAGED_MEDICAID','RX_MEDICAID','RX_MEDICARE']"
   ]
  },
  {
   "cell_type": "code",
   "execution_count": 37,
   "metadata": {
    "collapsed": false,
    "scrolled": true
   },
   "outputs": [
    {
     "data": {
      "text/html": [
       "<div>\n",
       "<table border=\"1\" class=\"dataframe\">\n",
       "  <thead>\n",
       "    <tr style=\"text-align: right;\">\n",
       "      <th></th>\n",
       "      <th>RX_ASSISTANCE</th>\n",
       "      <th>RX_CASH</th>\n",
       "      <th>RX_COMMERCIAL</th>\n",
       "      <th>RX_MANAGED_MEDICAID</th>\n",
       "      <th>RX_MEDICAID</th>\n",
       "      <th>RX_MEDICARE</th>\n",
       "    </tr>\n",
       "    <tr>\n",
       "      <th>patient_id</th>\n",
       "      <th></th>\n",
       "      <th></th>\n",
       "      <th></th>\n",
       "      <th></th>\n",
       "      <th></th>\n",
       "      <th></th>\n",
       "    </tr>\n",
       "  </thead>\n",
       "  <tbody>\n",
       "    <tr>\n",
       "      <th>84548607</th>\n",
       "      <td>NaN</td>\n",
       "      <td>NaN</td>\n",
       "      <td>COMMERCIAL</td>\n",
       "      <td>NaN</td>\n",
       "      <td>NaN</td>\n",
       "      <td>NaN</td>\n",
       "    </tr>\n",
       "    <tr>\n",
       "      <th>84548626</th>\n",
       "      <td>NaN</td>\n",
       "      <td>CASH</td>\n",
       "      <td>COMMERCIAL</td>\n",
       "      <td>NaN</td>\n",
       "      <td>NaN</td>\n",
       "      <td>NaN</td>\n",
       "    </tr>\n",
       "    <tr>\n",
       "      <th>84548666</th>\n",
       "      <td>NaN</td>\n",
       "      <td>NaN</td>\n",
       "      <td>COMMERCIAL</td>\n",
       "      <td>NaN</td>\n",
       "      <td>NaN</td>\n",
       "      <td>NaN</td>\n",
       "    </tr>\n",
       "    <tr>\n",
       "      <th>84548780</th>\n",
       "      <td>NaN</td>\n",
       "      <td>CASH</td>\n",
       "      <td>COMMERCIAL</td>\n",
       "      <td>MANAGED MEDICAID\"\"</td>\n",
       "      <td>NaN</td>\n",
       "      <td>NaN</td>\n",
       "    </tr>\n",
       "    <tr>\n",
       "      <th>84548805</th>\n",
       "      <td>NaN</td>\n",
       "      <td>CASH</td>\n",
       "      <td>COMMERCIAL</td>\n",
       "      <td>MANAGED MEDICAID\"\"</td>\n",
       "      <td>NaN</td>\n",
       "      <td>NaN</td>\n",
       "    </tr>\n",
       "    <tr>\n",
       "      <th>84548821</th>\n",
       "      <td>NaN</td>\n",
       "      <td>CASH</td>\n",
       "      <td>COMMERCIAL</td>\n",
       "      <td>NaN</td>\n",
       "      <td>NaN</td>\n",
       "      <td>NaN</td>\n",
       "    </tr>\n",
       "    <tr>\n",
       "      <th>84548841</th>\n",
       "      <td>NaN</td>\n",
       "      <td>CASH</td>\n",
       "      <td>COMMERCIAL</td>\n",
       "      <td>NaN</td>\n",
       "      <td>NaN</td>\n",
       "      <td>NaN</td>\n",
       "    </tr>\n",
       "    <tr>\n",
       "      <th>84548915</th>\n",
       "      <td>NaN</td>\n",
       "      <td>NaN</td>\n",
       "      <td>COMMERCIAL</td>\n",
       "      <td>MANAGED MEDICAID\"\"</td>\n",
       "      <td>MEDICAID</td>\n",
       "      <td>NaN</td>\n",
       "    </tr>\n",
       "    <tr>\n",
       "      <th>84549017</th>\n",
       "      <td>NaN</td>\n",
       "      <td>CASH</td>\n",
       "      <td>COMMERCIAL</td>\n",
       "      <td>MANAGED MEDICAID\"\"</td>\n",
       "      <td>MEDICAID</td>\n",
       "      <td>MEDICARE</td>\n",
       "    </tr>\n",
       "    <tr>\n",
       "      <th>84549024</th>\n",
       "      <td>NaN</td>\n",
       "      <td>CASH</td>\n",
       "      <td>COMMERCIAL</td>\n",
       "      <td>NaN</td>\n",
       "      <td>NaN</td>\n",
       "      <td>NaN</td>\n",
       "    </tr>\n",
       "  </tbody>\n",
       "</table>\n",
       "</div>"
      ],
      "text/plain": [
       "           RX_ASSISTANCE RX_CASH RX_COMMERCIAL RX_MANAGED_MEDICAID  \\\n",
       "patient_id                                                           \n",
       "84548607             NaN     NaN    COMMERCIAL                 NaN   \n",
       "84548626             NaN    CASH    COMMERCIAL                 NaN   \n",
       "84548666             NaN     NaN    COMMERCIAL                 NaN   \n",
       "84548780             NaN    CASH    COMMERCIAL  MANAGED MEDICAID\"\"   \n",
       "84548805             NaN    CASH    COMMERCIAL  MANAGED MEDICAID\"\"   \n",
       "84548821             NaN    CASH    COMMERCIAL                 NaN   \n",
       "84548841             NaN    CASH    COMMERCIAL                 NaN   \n",
       "84548915             NaN     NaN    COMMERCIAL  MANAGED MEDICAID\"\"   \n",
       "84549017             NaN    CASH    COMMERCIAL  MANAGED MEDICAID\"\"   \n",
       "84549024             NaN    CASH    COMMERCIAL                 NaN   \n",
       "\n",
       "           RX_MEDICAID RX_MEDICARE  \n",
       "patient_id                          \n",
       "84548607           NaN         NaN  \n",
       "84548626           NaN         NaN  \n",
       "84548666           NaN         NaN  \n",
       "84548780           NaN         NaN  \n",
       "84548805           NaN         NaN  \n",
       "84548821           NaN         NaN  \n",
       "84548841           NaN         NaN  \n",
       "84548915      MEDICAID         NaN  \n",
       "84549017      MEDICAID    MEDICARE  \n",
       "84549024           NaN         NaN  "
      ]
     },
     "execution_count": 37,
     "metadata": {},
     "output_type": "execute_result"
    }
   ],
   "source": [
    "rx_pivot[:10]"
   ]
  },
  {
   "cell_type": "code",
   "execution_count": 38,
   "metadata": {
    "collapsed": false
   },
   "outputs": [],
   "source": [
    "rx_plans = pd.get_dummies(rx_pivot)"
   ]
  },
  {
   "cell_type": "code",
   "execution_count": 39,
   "metadata": {
    "collapsed": true
   },
   "outputs": [],
   "source": [
    "rx_plans.columns = ['RX_ASSISTANCE','RX_CASH','RX_COMMERCIAL','RX_MANAGED_MEDICAID','RX_MEDICAID','RX_MEDICARE']"
   ]
  },
  {
   "cell_type": "code",
   "execution_count": 40,
   "metadata": {
    "collapsed": false
   },
   "outputs": [
    {
     "data": {
      "text/html": [
       "<div>\n",
       "<table border=\"1\" class=\"dataframe\">\n",
       "  <thead>\n",
       "    <tr style=\"text-align: right;\">\n",
       "      <th></th>\n",
       "      <th>RX_ASSISTANCE</th>\n",
       "      <th>RX_CASH</th>\n",
       "      <th>RX_COMMERCIAL</th>\n",
       "      <th>RX_MANAGED_MEDICAID</th>\n",
       "      <th>RX_MEDICAID</th>\n",
       "      <th>RX_MEDICARE</th>\n",
       "    </tr>\n",
       "    <tr>\n",
       "      <th>patient_id</th>\n",
       "      <th></th>\n",
       "      <th></th>\n",
       "      <th></th>\n",
       "      <th></th>\n",
       "      <th></th>\n",
       "      <th></th>\n",
       "    </tr>\n",
       "  </thead>\n",
       "  <tbody>\n",
       "    <tr>\n",
       "      <th>84548607</th>\n",
       "      <td>0</td>\n",
       "      <td>0</td>\n",
       "      <td>1</td>\n",
       "      <td>0</td>\n",
       "      <td>0</td>\n",
       "      <td>0</td>\n",
       "    </tr>\n",
       "    <tr>\n",
       "      <th>84548626</th>\n",
       "      <td>0</td>\n",
       "      <td>1</td>\n",
       "      <td>1</td>\n",
       "      <td>0</td>\n",
       "      <td>0</td>\n",
       "      <td>0</td>\n",
       "    </tr>\n",
       "    <tr>\n",
       "      <th>84548666</th>\n",
       "      <td>0</td>\n",
       "      <td>0</td>\n",
       "      <td>1</td>\n",
       "      <td>0</td>\n",
       "      <td>0</td>\n",
       "      <td>0</td>\n",
       "    </tr>\n",
       "    <tr>\n",
       "      <th>84548780</th>\n",
       "      <td>0</td>\n",
       "      <td>1</td>\n",
       "      <td>1</td>\n",
       "      <td>1</td>\n",
       "      <td>0</td>\n",
       "      <td>0</td>\n",
       "    </tr>\n",
       "    <tr>\n",
       "      <th>84548805</th>\n",
       "      <td>0</td>\n",
       "      <td>1</td>\n",
       "      <td>1</td>\n",
       "      <td>1</td>\n",
       "      <td>0</td>\n",
       "      <td>0</td>\n",
       "    </tr>\n",
       "    <tr>\n",
       "      <th>84548821</th>\n",
       "      <td>0</td>\n",
       "      <td>1</td>\n",
       "      <td>1</td>\n",
       "      <td>0</td>\n",
       "      <td>0</td>\n",
       "      <td>0</td>\n",
       "    </tr>\n",
       "    <tr>\n",
       "      <th>84548841</th>\n",
       "      <td>0</td>\n",
       "      <td>1</td>\n",
       "      <td>1</td>\n",
       "      <td>0</td>\n",
       "      <td>0</td>\n",
       "      <td>0</td>\n",
       "    </tr>\n",
       "    <tr>\n",
       "      <th>84548915</th>\n",
       "      <td>0</td>\n",
       "      <td>0</td>\n",
       "      <td>1</td>\n",
       "      <td>1</td>\n",
       "      <td>1</td>\n",
       "      <td>0</td>\n",
       "    </tr>\n",
       "    <tr>\n",
       "      <th>84549017</th>\n",
       "      <td>0</td>\n",
       "      <td>1</td>\n",
       "      <td>1</td>\n",
       "      <td>1</td>\n",
       "      <td>1</td>\n",
       "      <td>1</td>\n",
       "    </tr>\n",
       "    <tr>\n",
       "      <th>84549024</th>\n",
       "      <td>0</td>\n",
       "      <td>1</td>\n",
       "      <td>1</td>\n",
       "      <td>0</td>\n",
       "      <td>0</td>\n",
       "      <td>0</td>\n",
       "    </tr>\n",
       "  </tbody>\n",
       "</table>\n",
       "</div>"
      ],
      "text/plain": [
       "            RX_ASSISTANCE  RX_CASH  RX_COMMERCIAL  RX_MANAGED_MEDICAID  \\\n",
       "patient_id                                                               \n",
       "84548607                0        0              1                    0   \n",
       "84548626                0        1              1                    0   \n",
       "84548666                0        0              1                    0   \n",
       "84548780                0        1              1                    1   \n",
       "84548805                0        1              1                    1   \n",
       "84548821                0        1              1                    0   \n",
       "84548841                0        1              1                    0   \n",
       "84548915                0        0              1                    1   \n",
       "84549017                0        1              1                    1   \n",
       "84549024                0        1              1                    0   \n",
       "\n",
       "            RX_MEDICAID  RX_MEDICARE  \n",
       "patient_id                            \n",
       "84548607              0            0  \n",
       "84548626              0            0  \n",
       "84548666              0            0  \n",
       "84548780              0            0  \n",
       "84548805              0            0  \n",
       "84548821              0            0  \n",
       "84548841              0            0  \n",
       "84548915              1            0  \n",
       "84549017              1            1  \n",
       "84549024              0            0  "
      ]
     },
     "execution_count": 40,
     "metadata": {},
     "output_type": "execute_result"
    }
   ],
   "source": [
    "rx_plans[:10]"
   ]
  },
  {
   "cell_type": "code",
   "execution_count": 41,
   "metadata": {
    "collapsed": true
   },
   "outputs": [],
   "source": [
    "train = pd.merge(train, rx_plans, left_index=True, right_index=True, how ='left')"
   ]
  },
  {
   "cell_type": "code",
   "execution_count": 42,
   "metadata": {
    "collapsed": true
   },
   "outputs": [],
   "source": [
    "test = pd.merge(test, rx_plans, left_index=True, right_index=True, how ='left')"
   ]
  },
  {
   "cell_type": "code",
   "execution_count": 43,
   "metadata": {
    "collapsed": false
   },
   "outputs": [
    {
     "data": {
      "text/html": [
       "<div>\n",
       "<table border=\"1\" class=\"dataframe\">\n",
       "  <thead>\n",
       "    <tr style=\"text-align: right;\">\n",
       "      <th></th>\n",
       "      <th>patient_age_group</th>\n",
       "      <th>patient_state</th>\n",
       "      <th>ethinicity</th>\n",
       "      <th>household_income</th>\n",
       "      <th>education_level</th>\n",
       "      <th>is_screener</th>\n",
       "      <th>visits</th>\n",
       "      <th>cbsa</th>\n",
       "      <th>num_visits</th>\n",
       "      <th>num_procedures</th>\n",
       "      <th>...</th>\n",
       "      <th>HX05</th>\n",
       "      <th>HXPR</th>\n",
       "      <th>num_diagnosis</th>\n",
       "      <th>num_rx</th>\n",
       "      <th>RX_ASSISTANCE</th>\n",
       "      <th>RX_CASH</th>\n",
       "      <th>RX_COMMERCIAL</th>\n",
       "      <th>RX_MANAGED_MEDICAID</th>\n",
       "      <th>RX_MEDICAID</th>\n",
       "      <th>RX_MEDICARE</th>\n",
       "    </tr>\n",
       "    <tr>\n",
       "      <th>patient_id</th>\n",
       "      <th></th>\n",
       "      <th></th>\n",
       "      <th></th>\n",
       "      <th></th>\n",
       "      <th></th>\n",
       "      <th></th>\n",
       "      <th></th>\n",
       "      <th></th>\n",
       "      <th></th>\n",
       "      <th></th>\n",
       "      <th></th>\n",
       "      <th></th>\n",
       "      <th></th>\n",
       "      <th></th>\n",
       "      <th></th>\n",
       "      <th></th>\n",
       "      <th></th>\n",
       "      <th></th>\n",
       "      <th></th>\n",
       "      <th></th>\n",
       "      <th></th>\n",
       "    </tr>\n",
       "  </thead>\n",
       "  <tbody>\n",
       "    <tr>\n",
       "      <th>336201912</th>\n",
       "      <td>51-53</td>\n",
       "      <td>SD</td>\n",
       "      <td>ALL OTHER</td>\n",
       "      <td>UNKNOWN</td>\n",
       "      <td>UNKNOWN</td>\n",
       "      <td>1</td>\n",
       "      <td>37</td>\n",
       "      <td>43940</td>\n",
       "      <td>8</td>\n",
       "      <td>49</td>\n",
       "      <td>...</td>\n",
       "      <td>NaN</td>\n",
       "      <td>NaN</td>\n",
       "      <td>14</td>\n",
       "      <td>2</td>\n",
       "      <td>0</td>\n",
       "      <td>1</td>\n",
       "      <td>1</td>\n",
       "      <td>0</td>\n",
       "      <td>0</td>\n",
       "      <td>0</td>\n",
       "    </tr>\n",
       "    <tr>\n",
       "      <th>94237712</th>\n",
       "      <td>39-41</td>\n",
       "      <td>NE</td>\n",
       "      <td>ALL OTHER</td>\n",
       "      <td>UNKNOWN</td>\n",
       "      <td>UNKNOWN</td>\n",
       "      <td>1</td>\n",
       "      <td>129</td>\n",
       "      <td>36540</td>\n",
       "      <td>20</td>\n",
       "      <td>247</td>\n",
       "      <td>...</td>\n",
       "      <td>0</td>\n",
       "      <td>2</td>\n",
       "      <td>21</td>\n",
       "      <td>2</td>\n",
       "      <td>0</td>\n",
       "      <td>1</td>\n",
       "      <td>1</td>\n",
       "      <td>0</td>\n",
       "      <td>0</td>\n",
       "      <td>0</td>\n",
       "    </tr>\n",
       "    <tr>\n",
       "      <th>186124512</th>\n",
       "      <td>24-26</td>\n",
       "      <td>CA</td>\n",
       "      <td>ALL OTHER</td>\n",
       "      <td>UNKNOWN</td>\n",
       "      <td>UNKNOWN</td>\n",
       "      <td>0</td>\n",
       "      <td>26</td>\n",
       "      <td>31080</td>\n",
       "      <td>5</td>\n",
       "      <td>18</td>\n",
       "      <td>...</td>\n",
       "      <td>NaN</td>\n",
       "      <td>NaN</td>\n",
       "      <td>6</td>\n",
       "      <td>2</td>\n",
       "      <td>0</td>\n",
       "      <td>1</td>\n",
       "      <td>1</td>\n",
       "      <td>0</td>\n",
       "      <td>0</td>\n",
       "      <td>0</td>\n",
       "    </tr>\n",
       "  </tbody>\n",
       "</table>\n",
       "<p>3 rows × 35 columns</p>\n",
       "</div>"
      ],
      "text/plain": [
       "           patient_age_group patient_state ethinicity household_income  \\\n",
       "patient_id                                                               \n",
       "336201912              51-53            SD  ALL OTHER          UNKNOWN   \n",
       "94237712               39-41            NE  ALL OTHER          UNKNOWN   \n",
       "186124512              24-26            CA  ALL OTHER          UNKNOWN   \n",
       "\n",
       "           education_level  is_screener  visits   cbsa  num_visits  \\\n",
       "patient_id                                                           \n",
       "336201912          UNKNOWN            1      37  43940           8   \n",
       "94237712           UNKNOWN            1     129  36540          20   \n",
       "186124512          UNKNOWN            0      26  31080           5   \n",
       "\n",
       "            num_procedures     ...       HX05  HXPR  num_diagnosis  num_rx  \\\n",
       "patient_id                     ...                                           \n",
       "336201912               49     ...        NaN   NaN             14       2   \n",
       "94237712               247     ...          0     2             21       2   \n",
       "186124512               18     ...        NaN   NaN              6       2   \n",
       "\n",
       "            RX_ASSISTANCE  RX_CASH  RX_COMMERCIAL  RX_MANAGED_MEDICAID  \\\n",
       "patient_id                                                               \n",
       "336201912               0        1              1                    0   \n",
       "94237712                0        1              1                    0   \n",
       "186124512               0        1              1                    0   \n",
       "\n",
       "            RX_MEDICAID  RX_MEDICARE  \n",
       "patient_id                            \n",
       "336201912             0            0  \n",
       "94237712              0            0  \n",
       "186124512             0            0  \n",
       "\n",
       "[3 rows x 35 columns]"
      ]
     },
     "execution_count": 43,
     "metadata": {},
     "output_type": "execute_result"
    }
   ],
   "source": [
    "train[:3]"
   ]
  },
  {
   "cell_type": "code",
   "execution_count": 44,
   "metadata": {
    "collapsed": false
   },
   "outputs": [
    {
     "data": {
      "text/plain": [
       "((1157817, 35), (1701813, 34))"
      ]
     },
     "execution_count": 44,
     "metadata": {},
     "output_type": "execute_result"
    }
   ],
   "source": [
    "train.shape, test.shape"
   ]
  },
  {
   "cell_type": "code",
   "execution_count": 45,
   "metadata": {
    "collapsed": false,
    "scrolled": true
   },
   "outputs": [
    {
     "data": {
      "text/plain": [
       "362"
      ]
     },
     "execution_count": 45,
     "metadata": {},
     "output_type": "execute_result"
    }
   ],
   "source": [
    "gc.collect()"
   ]
  },
  {
   "cell_type": "code",
   "execution_count": 46,
   "metadata": {
    "collapsed": false
   },
   "outputs": [],
   "source": [
    "if train.shape[0] != original_train_rows:\n",
    "    raise Exception('bad merge?')"
   ]
  },
  {
   "cell_type": "markdown",
   "metadata": {},
   "source": [
    "## pract_screen_pct"
   ]
  },
  {
   "cell_type": "code",
   "execution_count": 47,
   "metadata": {
    "collapsed": false
   },
   "outputs": [
    {
     "data": {
      "text/html": [
       "<div>\n",
       "<table border=\"1\" class=\"dataframe\">\n",
       "  <thead>\n",
       "    <tr style=\"text-align: right;\">\n",
       "      <th></th>\n",
       "      <th>primary_practitioner_id</th>\n",
       "      <th>cbsa</th>\n",
       "    </tr>\n",
       "    <tr>\n",
       "      <th>patient_id</th>\n",
       "      <th></th>\n",
       "      <th></th>\n",
       "    </tr>\n",
       "  </thead>\n",
       "  <tbody>\n",
       "    <tr>\n",
       "      <th>84548607</th>\n",
       "      <td>12847096</td>\n",
       "      <td>46340</td>\n",
       "    </tr>\n",
       "    <tr>\n",
       "      <th>84548607</th>\n",
       "      <td>12923026</td>\n",
       "      <td>46340</td>\n",
       "    </tr>\n",
       "  </tbody>\n",
       "</table>\n",
       "</div>"
      ],
      "text/plain": [
       "            primary_practitioner_id   cbsa\n",
       "patient_id                                \n",
       "84548607                   12847096  46340\n",
       "84548607                   12923026  46340"
      ]
     },
     "execution_count": 47,
     "metadata": {},
     "output_type": "execute_result"
    }
   ],
   "source": [
    "patient_pract = pd.read_csv(fdir+'diagnosis_patient_practitioner_train.csv.gz')\n",
    "patient_pract.set_index('patient_id', inplace=True)\n",
    "patient_pract[:2]"
   ]
  },
  {
   "cell_type": "code",
   "execution_count": 48,
   "metadata": {
    "collapsed": false
   },
   "outputs": [
    {
     "data": {
      "text/plain": [
       "(25364706, 2)"
      ]
     },
     "execution_count": 48,
     "metadata": {},
     "output_type": "execute_result"
    }
   ],
   "source": [
    "patient_pract.shape"
   ]
  },
  {
   "cell_type": "code",
   "execution_count": 49,
   "metadata": {
    "collapsed": false,
    "scrolled": true
   },
   "outputs": [
    {
     "data": {
      "text/html": [
       "<div>\n",
       "<table border=\"1\" class=\"dataframe\">\n",
       "  <thead>\n",
       "    <tr style=\"text-align: right;\">\n",
       "      <th></th>\n",
       "      <th>is_screener</th>\n",
       "      <th>primary_practitioner_id</th>\n",
       "    </tr>\n",
       "    <tr>\n",
       "      <th>patient_id</th>\n",
       "      <th></th>\n",
       "      <th></th>\n",
       "    </tr>\n",
       "  </thead>\n",
       "  <tbody>\n",
       "    <tr>\n",
       "      <th>84548607</th>\n",
       "      <td>0</td>\n",
       "      <td>12847096</td>\n",
       "    </tr>\n",
       "    <tr>\n",
       "      <th>84548607</th>\n",
       "      <td>0</td>\n",
       "      <td>12923026</td>\n",
       "    </tr>\n",
       "    <tr>\n",
       "      <th>84548607</th>\n",
       "      <td>0</td>\n",
       "      <td>12930342</td>\n",
       "    </tr>\n",
       "  </tbody>\n",
       "</table>\n",
       "</div>"
      ],
      "text/plain": [
       "            is_screener  primary_practitioner_id\n",
       "patient_id                                      \n",
       "84548607              0                 12847096\n",
       "84548607              0                 12923026\n",
       "84548607              0                 12930342"
      ]
     },
     "execution_count": 49,
     "metadata": {},
     "output_type": "execute_result"
    }
   ],
   "source": [
    "prime_pract = pd.merge(pd.DataFrame(train.is_screener), patient_pract, left_index=True, right_index=True, how='left')\n",
    "prime_pract.drop(['cbsa'], axis=1, inplace=True)\n",
    "prime_pract[:3]"
   ]
  },
  {
   "cell_type": "code",
   "execution_count": 50,
   "metadata": {
    "collapsed": true
   },
   "outputs": [],
   "source": [
    "prime_pract.reset_index(inplace=True)\n",
    "prime_pract.drop('patient_id', axis=1, inplace=True)"
   ]
  },
  {
   "cell_type": "code",
   "execution_count": 51,
   "metadata": {
    "collapsed": false
   },
   "outputs": [
    {
     "data": {
      "text/html": [
       "<div>\n",
       "<table border=\"1\" class=\"dataframe\">\n",
       "  <thead>\n",
       "    <tr style=\"text-align: right;\">\n",
       "      <th></th>\n",
       "      <th>is_screener</th>\n",
       "      <th>primary_practitioner_id</th>\n",
       "    </tr>\n",
       "  </thead>\n",
       "  <tbody>\n",
       "    <tr>\n",
       "      <th>11820982</th>\n",
       "      <td>1</td>\n",
       "      <td>12468727</td>\n",
       "    </tr>\n",
       "    <tr>\n",
       "      <th>18167464</th>\n",
       "      <td>1</td>\n",
       "      <td>12468727</td>\n",
       "    </tr>\n",
       "    <tr>\n",
       "      <th>24566777</th>\n",
       "      <td>1</td>\n",
       "      <td>12468727</td>\n",
       "    </tr>\n",
       "    <tr>\n",
       "      <th>19494255</th>\n",
       "      <td>1</td>\n",
       "      <td>12468727</td>\n",
       "    </tr>\n",
       "    <tr>\n",
       "      <th>19802299</th>\n",
       "      <td>1</td>\n",
       "      <td>12469219</td>\n",
       "    </tr>\n",
       "  </tbody>\n",
       "</table>\n",
       "</div>"
      ],
      "text/plain": [
       "          is_screener  primary_practitioner_id\n",
       "11820982            1                 12468727\n",
       "18167464            1                 12468727\n",
       "24566777            1                 12468727\n",
       "19494255            1                 12468727\n",
       "19802299            1                 12469219"
      ]
     },
     "execution_count": 51,
     "metadata": {},
     "output_type": "execute_result"
    }
   ],
   "source": [
    "prime_pract = prime_pract.sort_values(by='primary_practitioner_id')\n",
    "prime_pract[:5]"
   ]
  },
  {
   "cell_type": "code",
   "execution_count": 52,
   "metadata": {
    "collapsed": false,
    "scrolled": true
   },
   "outputs": [
    {
     "data": {
      "text/html": [
       "<div>\n",
       "<table border=\"1\" class=\"dataframe\">\n",
       "  <thead>\n",
       "    <tr style=\"text-align: right;\">\n",
       "      <th></th>\n",
       "      <th>is_screener</th>\n",
       "    </tr>\n",
       "    <tr>\n",
       "      <th>primary_practitioner_id</th>\n",
       "      <th></th>\n",
       "    </tr>\n",
       "  </thead>\n",
       "  <tbody>\n",
       "    <tr>\n",
       "      <th>12468727</th>\n",
       "      <td>1.000000</td>\n",
       "    </tr>\n",
       "    <tr>\n",
       "      <th>12469219</th>\n",
       "      <td>0.333333</td>\n",
       "    </tr>\n",
       "    <tr>\n",
       "      <th>12469795</th>\n",
       "      <td>1.000000</td>\n",
       "    </tr>\n",
       "    <tr>\n",
       "      <th>12470070</th>\n",
       "      <td>1.000000</td>\n",
       "    </tr>\n",
       "    <tr>\n",
       "      <th>12470221</th>\n",
       "      <td>1.000000</td>\n",
       "    </tr>\n",
       "  </tbody>\n",
       "</table>\n",
       "</div>"
      ],
      "text/plain": [
       "                         is_screener\n",
       "primary_practitioner_id             \n",
       "12468727                    1.000000\n",
       "12469219                    0.333333\n",
       "12469795                    1.000000\n",
       "12470070                    1.000000\n",
       "12470221                    1.000000"
      ]
     },
     "execution_count": 52,
     "metadata": {},
     "output_type": "execute_result"
    }
   ],
   "source": [
    "pract_g = prime_pract.groupby('primary_practitioner_id')\n",
    "ppp = pd.DataFrame(pract_g.is_screener.mean())  # primary practioner percentage\n",
    "ppp.iloc[:5]"
   ]
  },
  {
   "cell_type": "code",
   "execution_count": 53,
   "metadata": {
    "collapsed": false,
    "scrolled": true
   },
   "outputs": [
    {
     "data": {
      "text/html": [
       "<div>\n",
       "<table border=\"1\" class=\"dataframe\">\n",
       "  <thead>\n",
       "    <tr style=\"text-align: right;\">\n",
       "      <th></th>\n",
       "      <th>primary_practitioner_id</th>\n",
       "      <th>cbsa</th>\n",
       "      <th>is_screener</th>\n",
       "    </tr>\n",
       "    <tr>\n",
       "      <th>patient_id</th>\n",
       "      <th></th>\n",
       "      <th></th>\n",
       "      <th></th>\n",
       "    </tr>\n",
       "  </thead>\n",
       "  <tbody>\n",
       "    <tr>\n",
       "      <th>84548607</th>\n",
       "      <td>12847096</td>\n",
       "      <td>46340</td>\n",
       "      <td>0.494000</td>\n",
       "    </tr>\n",
       "    <tr>\n",
       "      <th>84548607</th>\n",
       "      <td>12923026</td>\n",
       "      <td>46340</td>\n",
       "      <td>0.534884</td>\n",
       "    </tr>\n",
       "    <tr>\n",
       "      <th>84548607</th>\n",
       "      <td>12930342</td>\n",
       "      <td>46100</td>\n",
       "      <td>0.437838</td>\n",
       "    </tr>\n",
       "    <tr>\n",
       "      <th>84548607</th>\n",
       "      <td>12993738</td>\n",
       "      <td>46340</td>\n",
       "      <td>0.463895</td>\n",
       "    </tr>\n",
       "    <tr>\n",
       "      <th>84548607</th>\n",
       "      <td>13001412</td>\n",
       "      <td>46340</td>\n",
       "      <td>0.453581</td>\n",
       "    </tr>\n",
       "  </tbody>\n",
       "</table>\n",
       "</div>"
      ],
      "text/plain": [
       "            primary_practitioner_id   cbsa  is_screener\n",
       "patient_id                                             \n",
       "84548607                   12847096  46340     0.494000\n",
       "84548607                   12923026  46340     0.534884\n",
       "84548607                   12930342  46100     0.437838\n",
       "84548607                   12993738  46340     0.463895\n",
       "84548607                   13001412  46340     0.453581"
      ]
     },
     "execution_count": 53,
     "metadata": {},
     "output_type": "execute_result"
    }
   ],
   "source": [
    "patient_prime = pd.merge(patient_pract, ppp, left_on='primary_practitioner_id', right_index=True, how='left')\n",
    "patient_prime.iloc[:5]"
   ]
  },
  {
   "cell_type": "code",
   "execution_count": 54,
   "metadata": {
    "collapsed": false,
    "scrolled": true
   },
   "outputs": [
    {
     "data": {
      "text/html": [
       "<div>\n",
       "<table border=\"1\" class=\"dataframe\">\n",
       "  <thead>\n",
       "    <tr style=\"text-align: right;\">\n",
       "      <th></th>\n",
       "      <th>pract_screen_pct</th>\n",
       "    </tr>\n",
       "    <tr>\n",
       "      <th>patient_id</th>\n",
       "      <th></th>\n",
       "    </tr>\n",
       "  </thead>\n",
       "  <tbody>\n",
       "    <tr>\n",
       "      <th>84548607</th>\n",
       "      <td>0.647059</td>\n",
       "    </tr>\n",
       "    <tr>\n",
       "      <th>84548626</th>\n",
       "      <td>0.965714</td>\n",
       "    </tr>\n",
       "    <tr>\n",
       "      <th>84548666</th>\n",
       "      <td>0.877778</td>\n",
       "    </tr>\n",
       "    <tr>\n",
       "      <th>84548805</th>\n",
       "      <td>1.000000</td>\n",
       "    </tr>\n",
       "    <tr>\n",
       "      <th>84548821</th>\n",
       "      <td>0.974260</td>\n",
       "    </tr>\n",
       "  </tbody>\n",
       "</table>\n",
       "</div>"
      ],
      "text/plain": [
       "            pract_screen_pct\n",
       "patient_id                  \n",
       "84548607            0.647059\n",
       "84548626            0.965714\n",
       "84548666            0.877778\n",
       "84548805            1.000000\n",
       "84548821            0.974260"
      ]
     },
     "execution_count": 54,
     "metadata": {},
     "output_type": "execute_result"
    }
   ],
   "source": [
    "patient_prime_screen_pct = pd.DataFrame(patient_prime.groupby(level=0).is_screener.max())  # COULD TAKE mean()\n",
    "patient_prime_screen_pct.columns=['pract_screen_pct']\n",
    "patient_prime_screen_pct.iloc[:5]"
   ]
  },
  {
   "cell_type": "code",
   "execution_count": 55,
   "metadata": {
    "collapsed": false
   },
   "outputs": [],
   "source": [
    "train['pract_screen_pct'] = patient_prime_screen_pct.pract_screen_pct"
   ]
  },
  {
   "cell_type": "code",
   "execution_count": 56,
   "metadata": {
    "collapsed": false,
    "scrolled": false
   },
   "outputs": [
    {
     "data": {
      "text/html": [
       "<div>\n",
       "<table border=\"1\" class=\"dataframe\">\n",
       "  <thead>\n",
       "    <tr style=\"text-align: right;\">\n",
       "      <th></th>\n",
       "      <th>primary_practitioner_id</th>\n",
       "      <th>cbsa</th>\n",
       "    </tr>\n",
       "    <tr>\n",
       "      <th>patient_id</th>\n",
       "      <th></th>\n",
       "      <th></th>\n",
       "    </tr>\n",
       "  </thead>\n",
       "  <tbody>\n",
       "    <tr>\n",
       "      <th>84548780</th>\n",
       "      <td>12755099</td>\n",
       "      <td>26180</td>\n",
       "    </tr>\n",
       "    <tr>\n",
       "      <th>84548780</th>\n",
       "      <td>14102147</td>\n",
       "      <td>26180</td>\n",
       "    </tr>\n",
       "  </tbody>\n",
       "</table>\n",
       "</div>"
      ],
      "text/plain": [
       "            primary_practitioner_id   cbsa\n",
       "patient_id                                \n",
       "84548780                   12755099  26180\n",
       "84548780                   14102147  26180"
      ]
     },
     "execution_count": 56,
     "metadata": {},
     "output_type": "execute_result"
    }
   ],
   "source": [
    "test_patient_pract = pd.read_csv(fdir+'diagnosis_patient_practitioner_test.csv.gz')\n",
    "test_patient_pract.set_index('patient_id', inplace=True)\n",
    "test_patient_pract[:2]"
   ]
  },
  {
   "cell_type": "code",
   "execution_count": 57,
   "metadata": {
    "collapsed": false,
    "scrolled": false
   },
   "outputs": [
    {
     "data": {
      "text/html": [
       "<div>\n",
       "<table border=\"1\" class=\"dataframe\">\n",
       "  <thead>\n",
       "    <tr style=\"text-align: right;\">\n",
       "      <th></th>\n",
       "      <th>primary_practitioner_id</th>\n",
       "      <th>cbsa</th>\n",
       "      <th>is_screener</th>\n",
       "    </tr>\n",
       "    <tr>\n",
       "      <th>patient_id</th>\n",
       "      <th></th>\n",
       "      <th></th>\n",
       "      <th></th>\n",
       "    </tr>\n",
       "  </thead>\n",
       "  <tbody>\n",
       "    <tr>\n",
       "      <th>84548780</th>\n",
       "      <td>12755099</td>\n",
       "      <td>26180</td>\n",
       "      <td>0.476636</td>\n",
       "    </tr>\n",
       "    <tr>\n",
       "      <th>84548780</th>\n",
       "      <td>14102147</td>\n",
       "      <td>26180</td>\n",
       "      <td>0.490196</td>\n",
       "    </tr>\n",
       "    <tr>\n",
       "      <th>84548780</th>\n",
       "      <td>14142454</td>\n",
       "      <td>26180</td>\n",
       "      <td>0.934579</td>\n",
       "    </tr>\n",
       "    <tr>\n",
       "      <th>84548780</th>\n",
       "      <td>14357789</td>\n",
       "      <td>26180</td>\n",
       "      <td>0.465517</td>\n",
       "    </tr>\n",
       "    <tr>\n",
       "      <th>84548780</th>\n",
       "      <td>16955346</td>\n",
       "      <td>26180</td>\n",
       "      <td>0.503876</td>\n",
       "    </tr>\n",
       "  </tbody>\n",
       "</table>\n",
       "</div>"
      ],
      "text/plain": [
       "            primary_practitioner_id   cbsa  is_screener\n",
       "patient_id                                             \n",
       "84548780                   12755099  26180     0.476636\n",
       "84548780                   14102147  26180     0.490196\n",
       "84548780                   14142454  26180     0.934579\n",
       "84548780                   14357789  26180     0.465517\n",
       "84548780                   16955346  26180     0.503876"
      ]
     },
     "execution_count": 57,
     "metadata": {},
     "output_type": "execute_result"
    }
   ],
   "source": [
    "test_patient_prime = pd.merge(test_patient_pract, ppp, left_on='primary_practitioner_id', right_index=True, how='left')\n",
    "test_patient_prime.iloc[:5]"
   ]
  },
  {
   "cell_type": "code",
   "execution_count": 58,
   "metadata": {
    "collapsed": false,
    "scrolled": true
   },
   "outputs": [
    {
     "data": {
      "text/html": [
       "<div>\n",
       "<table border=\"1\" class=\"dataframe\">\n",
       "  <thead>\n",
       "    <tr style=\"text-align: right;\">\n",
       "      <th></th>\n",
       "      <th>pract_screen_pct</th>\n",
       "    </tr>\n",
       "    <tr>\n",
       "      <th>patient_id</th>\n",
       "      <th></th>\n",
       "    </tr>\n",
       "  </thead>\n",
       "  <tbody>\n",
       "    <tr>\n",
       "      <th>84548780</th>\n",
       "      <td>1.000000</td>\n",
       "    </tr>\n",
       "    <tr>\n",
       "      <th>84548841</th>\n",
       "      <td>1.000000</td>\n",
       "    </tr>\n",
       "    <tr>\n",
       "      <th>84548915</th>\n",
       "      <td>1.000000</td>\n",
       "    </tr>\n",
       "    <tr>\n",
       "      <th>84549024</th>\n",
       "      <td>0.750000</td>\n",
       "    </tr>\n",
       "    <tr>\n",
       "      <th>84549114</th>\n",
       "      <td>0.888889</td>\n",
       "    </tr>\n",
       "  </tbody>\n",
       "</table>\n",
       "</div>"
      ],
      "text/plain": [
       "            pract_screen_pct\n",
       "patient_id                  \n",
       "84548780            1.000000\n",
       "84548841            1.000000\n",
       "84548915            1.000000\n",
       "84549024            0.750000\n",
       "84549114            0.888889"
      ]
     },
     "execution_count": 58,
     "metadata": {},
     "output_type": "execute_result"
    }
   ],
   "source": [
    "test_patient_prime_screen_pct = pd.DataFrame(test_patient_prime.groupby(level=0).is_screener.max()) # COULD TAKE mean()\n",
    "test_patient_prime_screen_pct.columns=['pract_screen_pct']\n",
    "test_patient_prime_screen_pct.iloc[:5]"
   ]
  },
  {
   "cell_type": "code",
   "execution_count": 59,
   "metadata": {
    "collapsed": true
   },
   "outputs": [],
   "source": [
    "test['pract_screen_pct'] = test_patient_prime_screen_pct.pract_screen_pct"
   ]
  },
  {
   "cell_type": "code",
   "execution_count": 60,
   "metadata": {
    "collapsed": false
   },
   "outputs": [
    {
     "data": {
      "text/plain": [
       "164"
      ]
     },
     "execution_count": 60,
     "metadata": {},
     "output_type": "execute_result"
    }
   ],
   "source": [
    "gc.collect()"
   ]
  },
  {
   "cell_type": "code",
   "execution_count": 61,
   "metadata": {
    "collapsed": false
   },
   "outputs": [],
   "source": [
    "if train.shape[0] != original_train_rows:\n",
    "    raise Exception('bad merge?')"
   ]
  },
  {
   "cell_type": "markdown",
   "metadata": {},
   "source": [
    "## cbsa_screen_pct"
   ]
  },
  {
   "cell_type": "code",
   "execution_count": 62,
   "metadata": {
    "collapsed": false,
    "scrolled": false
   },
   "outputs": [
    {
     "data": {
      "text/html": [
       "<div>\n",
       "<table border=\"1\" class=\"dataframe\">\n",
       "  <thead>\n",
       "    <tr style=\"text-align: right;\">\n",
       "      <th></th>\n",
       "      <th>is_screener</th>\n",
       "      <th>primary_practitioner_id</th>\n",
       "      <th>cbsa</th>\n",
       "    </tr>\n",
       "    <tr>\n",
       "      <th>patient_id</th>\n",
       "      <th></th>\n",
       "      <th></th>\n",
       "      <th></th>\n",
       "    </tr>\n",
       "  </thead>\n",
       "  <tbody>\n",
       "    <tr>\n",
       "      <th>84548607</th>\n",
       "      <td>0</td>\n",
       "      <td>12847096</td>\n",
       "      <td>46340</td>\n",
       "    </tr>\n",
       "    <tr>\n",
       "      <th>84548607</th>\n",
       "      <td>0</td>\n",
       "      <td>12923026</td>\n",
       "      <td>46340</td>\n",
       "    </tr>\n",
       "    <tr>\n",
       "      <th>84548607</th>\n",
       "      <td>0</td>\n",
       "      <td>12930342</td>\n",
       "      <td>46100</td>\n",
       "    </tr>\n",
       "  </tbody>\n",
       "</table>\n",
       "</div>"
      ],
      "text/plain": [
       "            is_screener  primary_practitioner_id   cbsa\n",
       "patient_id                                             \n",
       "84548607              0                 12847096  46340\n",
       "84548607              0                 12923026  46340\n",
       "84548607              0                 12930342  46100"
      ]
     },
     "execution_count": 62,
     "metadata": {},
     "output_type": "execute_result"
    }
   ],
   "source": [
    "patient_cbsas = pd.merge(pd.DataFrame(train.is_screener), patient_pract, left_index=True, right_index=True, how='left')\n",
    "patient_cbsas[:3]"
   ]
  },
  {
   "cell_type": "code",
   "execution_count": 63,
   "metadata": {
    "collapsed": false
   },
   "outputs": [
    {
     "data": {
      "text/html": [
       "<div>\n",
       "<table border=\"1\" class=\"dataframe\">\n",
       "  <thead>\n",
       "    <tr style=\"text-align: right;\">\n",
       "      <th></th>\n",
       "      <th>is_screener</th>\n",
       "      <th>cbsa</th>\n",
       "    </tr>\n",
       "  </thead>\n",
       "  <tbody>\n",
       "    <tr>\n",
       "      <th>0</th>\n",
       "      <td>0</td>\n",
       "      <td>46340</td>\n",
       "    </tr>\n",
       "    <tr>\n",
       "      <th>1</th>\n",
       "      <td>0</td>\n",
       "      <td>46340</td>\n",
       "    </tr>\n",
       "    <tr>\n",
       "      <th>2</th>\n",
       "      <td>0</td>\n",
       "      <td>46100</td>\n",
       "    </tr>\n",
       "  </tbody>\n",
       "</table>\n",
       "</div>"
      ],
      "text/plain": [
       "   is_screener   cbsa\n",
       "0            0  46340\n",
       "1            0  46340\n",
       "2            0  46100"
      ]
     },
     "execution_count": 63,
     "metadata": {},
     "output_type": "execute_result"
    }
   ],
   "source": [
    "patient_cbsas.reset_index(inplace=True)\n",
    "patient_cbsas.drop(['patient_id','primary_practitioner_id'], axis=1, inplace=True)\n",
    "patient_cbsas[:3]"
   ]
  },
  {
   "cell_type": "code",
   "execution_count": 64,
   "metadata": {
    "collapsed": false,
    "scrolled": true
   },
   "outputs": [
    {
     "data": {
      "text/html": [
       "<div>\n",
       "<table border=\"1\" class=\"dataframe\">\n",
       "  <thead>\n",
       "    <tr style=\"text-align: right;\">\n",
       "      <th></th>\n",
       "      <th>is_screener</th>\n",
       "    </tr>\n",
       "    <tr>\n",
       "      <th>cbsa</th>\n",
       "      <th></th>\n",
       "    </tr>\n",
       "  </thead>\n",
       "  <tbody>\n",
       "    <tr>\n",
       "      <th>10100</th>\n",
       "      <td>0.592730</td>\n",
       "    </tr>\n",
       "    <tr>\n",
       "      <th>10140</th>\n",
       "      <td>0.335737</td>\n",
       "    </tr>\n",
       "    <tr>\n",
       "      <th>10180</th>\n",
       "      <td>0.390896</td>\n",
       "    </tr>\n",
       "    <tr>\n",
       "      <th>10220</th>\n",
       "      <td>0.571952</td>\n",
       "    </tr>\n",
       "    <tr>\n",
       "      <th>10260</th>\n",
       "      <td>0.369565</td>\n",
       "    </tr>\n",
       "  </tbody>\n",
       "</table>\n",
       "</div>"
      ],
      "text/plain": [
       "       is_screener\n",
       "cbsa              \n",
       "10100     0.592730\n",
       "10140     0.335737\n",
       "10180     0.390896\n",
       "10220     0.571952\n",
       "10260     0.369565"
      ]
     },
     "execution_count": 64,
     "metadata": {},
     "output_type": "execute_result"
    }
   ],
   "source": [
    "cbsa_g = patient_cbsas.groupby('cbsa')\n",
    "cbsa_pct = pd.DataFrame(cbsa_g.is_screener.mean())  # cbsa percentage screened at that location\n",
    "cbsa_pct.iloc[:5]"
   ]
  },
  {
   "cell_type": "code",
   "execution_count": 65,
   "metadata": {
    "collapsed": true
   },
   "outputs": [],
   "source": [
    "cbsa_pct.columns = ['cbsa_pct']"
   ]
  },
  {
   "cell_type": "code",
   "execution_count": 66,
   "metadata": {
    "collapsed": true
   },
   "outputs": [],
   "source": [
    "train = pd.merge(train, cbsa_pct, left_on='cbsa', right_index=True, how='left')"
   ]
  },
  {
   "cell_type": "code",
   "execution_count": 67,
   "metadata": {
    "collapsed": false
   },
   "outputs": [],
   "source": [
    "test = pd.merge(test, cbsa_pct, left_on='cbsa', right_index=True, how='left')"
   ]
  },
  {
   "cell_type": "code",
   "execution_count": 68,
   "metadata": {
    "collapsed": false
   },
   "outputs": [],
   "source": [
    "if train.shape[0] != original_train_rows:\n",
    "    raise Exception('bad merge?')"
   ]
  },
  {
   "cell_type": "markdown",
   "metadata": {},
   "source": [
    "## age_pct"
   ]
  },
  {
   "cell_type": "code",
   "execution_count": 69,
   "metadata": {
    "collapsed": false
   },
   "outputs": [],
   "source": [
    "# age_pct = train[['patient_age_group','is_screener']].groupby('patient_age_group').is_screener.mean()\n",
    "# age_pct"
   ]
  },
  {
   "cell_type": "code",
   "execution_count": 70,
   "metadata": {
    "collapsed": true
   },
   "outputs": [],
   "source": [
    "age_pct_file = fdir+'age_pct.csv'"
   ]
  },
  {
   "cell_type": "code",
   "execution_count": 71,
   "metadata": {
    "collapsed": false
   },
   "outputs": [],
   "source": [
    "train = fjoin(train, age_pct_file, 'patient_age_group')\n",
    "test = fjoin(test, age_pct_file, 'patient_age_group')"
   ]
  },
  {
   "cell_type": "code",
   "execution_count": 72,
   "metadata": {
    "collapsed": false
   },
   "outputs": [],
   "source": [
    "if train.shape[0] != original_train_rows:\n",
    "    raise Exception('bad merge?')"
   ]
  },
  {
   "cell_type": "markdown",
   "metadata": {},
   "source": [
    "## state_pct"
   ]
  },
  {
   "cell_type": "code",
   "execution_count": 73,
   "metadata": {
    "collapsed": true
   },
   "outputs": [],
   "source": [
    "state_pct = fdir+'state_screen_percent.csv'"
   ]
  },
  {
   "cell_type": "code",
   "execution_count": 74,
   "metadata": {
    "collapsed": false
   },
   "outputs": [],
   "source": [
    "train = fjoin(train, state_pct, 'patient_state')\n",
    "test = fjoin(test, state_pct, 'patient_state')"
   ]
  },
  {
   "cell_type": "code",
   "execution_count": 75,
   "metadata": {
    "collapsed": false
   },
   "outputs": [],
   "source": [
    "if train.shape[0] != original_train_rows:\n",
    "    raise Exception('bad merge?')"
   ]
  },
  {
   "cell_type": "markdown",
   "metadata": {},
   "source": [
    "##  diagnosis_code features"
   ]
  },
  {
   "cell_type": "code",
   "execution_count": 76,
   "metadata": {
    "collapsed": true
   },
   "outputs": [],
   "source": [
    "# from sqlalchemy import create_engine\n",
    "# engine = create_engine('postgresql://paulperry:@localhost:5432/ccancer') "
   ]
  },
  {
   "cell_type": "code",
   "execution_count": 77,
   "metadata": {
    "collapsed": false
   },
   "outputs": [],
   "source": [
    "# q1 = \"select t1.patient_id, diagnosis_code from diagnosis t1 \\\n",
    "#     right join patients_train t2 on (t1.patient_id=t2.patient_id) where diagnosis_code in ('632','650')\""
   ]
  },
  {
   "cell_type": "code",
   "execution_count": 78,
   "metadata": {
    "collapsed": true
   },
   "outputs": [],
   "source": [
    "# diagf = pd.read_sql_query(q1, engine)"
   ]
  },
  {
   "cell_type": "code",
   "execution_count": 79,
   "metadata": {
    "collapsed": false
   },
   "outputs": [
    {
     "data": {
      "text/html": [
       "<div>\n",
       "<table border=\"1\" class=\"dataframe\">\n",
       "  <thead>\n",
       "    <tr style=\"text-align: right;\">\n",
       "      <th>diagnosis_code</th>\n",
       "      <th>632</th>\n",
       "      <th>650</th>\n",
       "    </tr>\n",
       "    <tr>\n",
       "      <th>patient_id</th>\n",
       "      <th></th>\n",
       "      <th></th>\n",
       "    </tr>\n",
       "  </thead>\n",
       "  <tbody>\n",
       "    <tr>\n",
       "      <th>84552398</th>\n",
       "      <td>0</td>\n",
       "      <td>1</td>\n",
       "    </tr>\n",
       "    <tr>\n",
       "      <th>84553164</th>\n",
       "      <td>1</td>\n",
       "      <td>0</td>\n",
       "    </tr>\n",
       "    <tr>\n",
       "      <th>84553713</th>\n",
       "      <td>0</td>\n",
       "      <td>1</td>\n",
       "    </tr>\n",
       "    <tr>\n",
       "      <th>84554799</th>\n",
       "      <td>2</td>\n",
       "      <td>2</td>\n",
       "    </tr>\n",
       "    <tr>\n",
       "      <th>84557447</th>\n",
       "      <td>1</td>\n",
       "      <td>0</td>\n",
       "    </tr>\n",
       "  </tbody>\n",
       "</table>\n",
       "</div>"
      ],
      "text/plain": [
       "diagnosis_code  632  650\n",
       "patient_id              \n",
       "84552398          0    1\n",
       "84553164          1    0\n",
       "84553713          0    1\n",
       "84554799          2    2\n",
       "84557447          1    0"
      ]
     },
     "execution_count": 79,
     "metadata": {},
     "output_type": "execute_result"
    }
   ],
   "source": [
    "train_key_diagnosis = pd.read_csv(fdir+'train_key_diagnosis.csv.gz')\n",
    "train_key_d = pd.crosstab(train_key_diagnosis.patient_id,train_key_diagnosis.diagnosis_code) \n",
    "train_key_d[:5]"
   ]
  },
  {
   "cell_type": "code",
   "execution_count": 80,
   "metadata": {
    "collapsed": false
   },
   "outputs": [],
   "source": [
    "# spot check this\n",
    "# train_key_diagnosis[train_key_diagnosis.patient_id == 84554799]"
   ]
  },
  {
   "cell_type": "code",
   "execution_count": 81,
   "metadata": {
    "collapsed": false
   },
   "outputs": [],
   "source": [
    "# set dummies\n",
    "train_key_d[train_key_d > 0] = 1"
   ]
  },
  {
   "cell_type": "code",
   "execution_count": 82,
   "metadata": {
    "collapsed": false,
    "scrolled": true
   },
   "outputs": [
    {
     "data": {
      "text/html": [
       "<div>\n",
       "<table border=\"1\" class=\"dataframe\">\n",
       "  <thead>\n",
       "    <tr style=\"text-align: right;\">\n",
       "      <th></th>\n",
       "      <th>patient_age_group</th>\n",
       "      <th>patient_state</th>\n",
       "      <th>ethinicity</th>\n",
       "      <th>household_income</th>\n",
       "      <th>education_level</th>\n",
       "      <th>is_screener</th>\n",
       "      <th>visits</th>\n",
       "      <th>cbsa</th>\n",
       "      <th>num_visits</th>\n",
       "      <th>num_procedures</th>\n",
       "      <th>...</th>\n",
       "      <th>RX_COMMERCIAL</th>\n",
       "      <th>RX_MANAGED_MEDICAID</th>\n",
       "      <th>RX_MEDICAID</th>\n",
       "      <th>RX_MEDICARE</th>\n",
       "      <th>pract_screen_pct</th>\n",
       "      <th>cbsa_pct</th>\n",
       "      <th>age_pct</th>\n",
       "      <th>state_pct</th>\n",
       "      <th>632</th>\n",
       "      <th>650</th>\n",
       "    </tr>\n",
       "    <tr>\n",
       "      <th>patient_id</th>\n",
       "      <th></th>\n",
       "      <th></th>\n",
       "      <th></th>\n",
       "      <th></th>\n",
       "      <th></th>\n",
       "      <th></th>\n",
       "      <th></th>\n",
       "      <th></th>\n",
       "      <th></th>\n",
       "      <th></th>\n",
       "      <th></th>\n",
       "      <th></th>\n",
       "      <th></th>\n",
       "      <th></th>\n",
       "      <th></th>\n",
       "      <th></th>\n",
       "      <th></th>\n",
       "      <th></th>\n",
       "      <th></th>\n",
       "      <th></th>\n",
       "      <th></th>\n",
       "    </tr>\n",
       "  </thead>\n",
       "  <tbody>\n",
       "    <tr>\n",
       "      <th>336201912</th>\n",
       "      <td>51-53</td>\n",
       "      <td>SD</td>\n",
       "      <td>ALL OTHER</td>\n",
       "      <td>UNKNOWN</td>\n",
       "      <td>UNKNOWN</td>\n",
       "      <td>1</td>\n",
       "      <td>37</td>\n",
       "      <td>43940</td>\n",
       "      <td>8</td>\n",
       "      <td>49</td>\n",
       "      <td>...</td>\n",
       "      <td>1</td>\n",
       "      <td>0</td>\n",
       "      <td>0</td>\n",
       "      <td>0</td>\n",
       "      <td>0.851852</td>\n",
       "      <td>0.603501</td>\n",
       "      <td>0.538345</td>\n",
       "      <td>0.556098</td>\n",
       "      <td>NaN</td>\n",
       "      <td>NaN</td>\n",
       "    </tr>\n",
       "    <tr>\n",
       "      <th>94237712</th>\n",
       "      <td>39-41</td>\n",
       "      <td>NE</td>\n",
       "      <td>ALL OTHER</td>\n",
       "      <td>UNKNOWN</td>\n",
       "      <td>UNKNOWN</td>\n",
       "      <td>1</td>\n",
       "      <td>129</td>\n",
       "      <td>36540</td>\n",
       "      <td>20</td>\n",
       "      <td>247</td>\n",
       "      <td>...</td>\n",
       "      <td>1</td>\n",
       "      <td>0</td>\n",
       "      <td>0</td>\n",
       "      <td>0</td>\n",
       "      <td>1.000000</td>\n",
       "      <td>0.705413</td>\n",
       "      <td>0.624289</td>\n",
       "      <td>0.608479</td>\n",
       "      <td>1</td>\n",
       "      <td>0</td>\n",
       "    </tr>\n",
       "    <tr>\n",
       "      <th>186124512</th>\n",
       "      <td>24-26</td>\n",
       "      <td>CA</td>\n",
       "      <td>ALL OTHER</td>\n",
       "      <td>UNKNOWN</td>\n",
       "      <td>UNKNOWN</td>\n",
       "      <td>0</td>\n",
       "      <td>26</td>\n",
       "      <td>31080</td>\n",
       "      <td>5</td>\n",
       "      <td>18</td>\n",
       "      <td>...</td>\n",
       "      <td>1</td>\n",
       "      <td>0</td>\n",
       "      <td>0</td>\n",
       "      <td>0</td>\n",
       "      <td>0.777778</td>\n",
       "      <td>0.442985</td>\n",
       "      <td>0.718529</td>\n",
       "      <td>0.526563</td>\n",
       "      <td>NaN</td>\n",
       "      <td>NaN</td>\n",
       "    </tr>\n",
       "    <tr>\n",
       "      <th>767144212</th>\n",
       "      <td>27-29</td>\n",
       "      <td>NY</td>\n",
       "      <td>ALL OTHER</td>\n",
       "      <td>UNKNOWN</td>\n",
       "      <td>UNKNOWN</td>\n",
       "      <td>1</td>\n",
       "      <td>2</td>\n",
       "      <td>35620</td>\n",
       "      <td>43</td>\n",
       "      <td>293</td>\n",
       "      <td>...</td>\n",
       "      <td>0</td>\n",
       "      <td>1</td>\n",
       "      <td>0</td>\n",
       "      <td>0</td>\n",
       "      <td>1.000000</td>\n",
       "      <td>0.730394</td>\n",
       "      <td>0.703938</td>\n",
       "      <td>0.741726</td>\n",
       "      <td>1</td>\n",
       "      <td>1</td>\n",
       "    </tr>\n",
       "  </tbody>\n",
       "</table>\n",
       "<p>4 rows × 41 columns</p>\n",
       "</div>"
      ],
      "text/plain": [
       "           patient_age_group patient_state ethinicity household_income  \\\n",
       "patient_id                                                               \n",
       "336201912              51-53            SD  ALL OTHER          UNKNOWN   \n",
       "94237712               39-41            NE  ALL OTHER          UNKNOWN   \n",
       "186124512              24-26            CA  ALL OTHER          UNKNOWN   \n",
       "767144212              27-29            NY  ALL OTHER          UNKNOWN   \n",
       "\n",
       "           education_level  is_screener  visits   cbsa  num_visits  \\\n",
       "patient_id                                                           \n",
       "336201912          UNKNOWN            1      37  43940           8   \n",
       "94237712           UNKNOWN            1     129  36540          20   \n",
       "186124512          UNKNOWN            0      26  31080           5   \n",
       "767144212          UNKNOWN            1       2  35620          43   \n",
       "\n",
       "            num_procedures ...   RX_COMMERCIAL  RX_MANAGED_MEDICAID  \\\n",
       "patient_id                 ...                                        \n",
       "336201912               49 ...               1                    0   \n",
       "94237712               247 ...               1                    0   \n",
       "186124512               18 ...               1                    0   \n",
       "767144212              293 ...               0                    1   \n",
       "\n",
       "            RX_MEDICAID  RX_MEDICARE  pract_screen_pct  cbsa_pct   age_pct  \\\n",
       "patient_id                                                                   \n",
       "336201912             0            0          0.851852  0.603501  0.538345   \n",
       "94237712              0            0          1.000000  0.705413  0.624289   \n",
       "186124512             0            0          0.777778  0.442985  0.718529   \n",
       "767144212             0            0          1.000000  0.730394  0.703938   \n",
       "\n",
       "            state_pct  632  650  \n",
       "patient_id                       \n",
       "336201912    0.556098  NaN  NaN  \n",
       "94237712     0.608479    1    0  \n",
       "186124512    0.526563  NaN  NaN  \n",
       "767144212    0.741726    1    1  \n",
       "\n",
       "[4 rows x 41 columns]"
      ]
     },
     "execution_count": 82,
     "metadata": {},
     "output_type": "execute_result"
    }
   ],
   "source": [
    "train = pd.merge(train, train_key_d, left_index=True, right_index=True, how='left')\n",
    "train[:4]"
   ]
  },
  {
   "cell_type": "code",
   "execution_count": 83,
   "metadata": {
    "collapsed": false
   },
   "outputs": [
    {
     "data": {
      "text/html": [
       "<div>\n",
       "<table border=\"1\" class=\"dataframe\">\n",
       "  <thead>\n",
       "    <tr style=\"text-align: right;\">\n",
       "      <th>diagnosis_code</th>\n",
       "      <th>632</th>\n",
       "      <th>650</th>\n",
       "    </tr>\n",
       "    <tr>\n",
       "      <th>patient_id</th>\n",
       "      <th></th>\n",
       "      <th></th>\n",
       "    </tr>\n",
       "  </thead>\n",
       "  <tbody>\n",
       "    <tr>\n",
       "      <th>84548780</th>\n",
       "      <td>0</td>\n",
       "      <td>1</td>\n",
       "    </tr>\n",
       "    <tr>\n",
       "      <th>84549024</th>\n",
       "      <td>0</td>\n",
       "      <td>4</td>\n",
       "    </tr>\n",
       "    <tr>\n",
       "      <th>84549728</th>\n",
       "      <td>0</td>\n",
       "      <td>2</td>\n",
       "    </tr>\n",
       "    <tr>\n",
       "      <th>84549953</th>\n",
       "      <td>0</td>\n",
       "      <td>4</td>\n",
       "    </tr>\n",
       "    <tr>\n",
       "      <th>84550351</th>\n",
       "      <td>0</td>\n",
       "      <td>3</td>\n",
       "    </tr>\n",
       "  </tbody>\n",
       "</table>\n",
       "</div>"
      ],
      "text/plain": [
       "diagnosis_code  632  650\n",
       "patient_id              \n",
       "84548780          0    1\n",
       "84549024          0    4\n",
       "84549728          0    2\n",
       "84549953          0    4\n",
       "84550351          0    3"
      ]
     },
     "execution_count": 83,
     "metadata": {},
     "output_type": "execute_result"
    }
   ],
   "source": [
    "test_key_diagnosis = pd.read_csv(fdir+'test_key_diagnosis.csv.gz')\n",
    "test_key_d = pd.crosstab(test_key_diagnosis.patient_id,test_key_diagnosis.diagnosis_code) \n",
    "test_key_d[:5]"
   ]
  },
  {
   "cell_type": "code",
   "execution_count": 84,
   "metadata": {
    "collapsed": false
   },
   "outputs": [],
   "source": [
    "# set dummies\n",
    "test_key_d[test_key_d > 0] = 1"
   ]
  },
  {
   "cell_type": "code",
   "execution_count": 85,
   "metadata": {
    "collapsed": false
   },
   "outputs": [],
   "source": [
    "test = pd.merge(test, test_key_d, left_index=True, right_index=True, how='left')"
   ]
  },
  {
   "cell_type": "code",
   "execution_count": 86,
   "metadata": {
    "collapsed": false
   },
   "outputs": [],
   "source": [
    "if train.shape[0] != original_train_rows:\n",
    "    raise Exception('bad merge?')"
   ]
  },
  {
   "cell_type": "markdown",
   "metadata": {},
   "source": [
    "## procedure_code features"
   ]
  },
  {
   "cell_type": "code",
   "execution_count": 87,
   "metadata": {
    "collapsed": false
   },
   "outputs": [
    {
     "data": {
      "text/html": [
       "<div>\n",
       "<table border=\"1\" class=\"dataframe\">\n",
       "  <thead>\n",
       "    <tr style=\"text-align: right;\">\n",
       "      <th>procedure_code</th>\n",
       "      <th>57452</th>\n",
       "      <th>57454</th>\n",
       "      <th>57455</th>\n",
       "      <th>57456</th>\n",
       "      <th>81252</th>\n",
       "      <th>90696</th>\n",
       "      <th>G0143</th>\n",
       "      <th>S4020</th>\n",
       "      <th>S4023</th>\n",
       "    </tr>\n",
       "    <tr>\n",
       "      <th>patient_id</th>\n",
       "      <th></th>\n",
       "      <th></th>\n",
       "      <th></th>\n",
       "      <th></th>\n",
       "      <th></th>\n",
       "      <th></th>\n",
       "      <th></th>\n",
       "      <th></th>\n",
       "      <th></th>\n",
       "    </tr>\n",
       "  </thead>\n",
       "  <tbody>\n",
       "    <tr>\n",
       "      <th>84553111</th>\n",
       "      <td>0</td>\n",
       "      <td>0</td>\n",
       "      <td>0</td>\n",
       "      <td>1</td>\n",
       "      <td>0</td>\n",
       "      <td>0</td>\n",
       "      <td>0</td>\n",
       "      <td>0</td>\n",
       "      <td>0</td>\n",
       "    </tr>\n",
       "    <tr>\n",
       "      <th>84553567</th>\n",
       "      <td>1</td>\n",
       "      <td>0</td>\n",
       "      <td>0</td>\n",
       "      <td>0</td>\n",
       "      <td>0</td>\n",
       "      <td>0</td>\n",
       "      <td>0</td>\n",
       "      <td>0</td>\n",
       "      <td>0</td>\n",
       "    </tr>\n",
       "  </tbody>\n",
       "</table>\n",
       "</div>"
      ],
      "text/plain": [
       "procedure_code  57452  57454  57455  57456  81252  90696  G0143  S4020  S4023\n",
       "patient_id                                                                   \n",
       "84553111            0      0      0      1      0      0      0      0      0\n",
       "84553567            1      0      0      0      0      0      0      0      0"
      ]
     },
     "execution_count": 87,
     "metadata": {},
     "output_type": "execute_result"
    }
   ],
   "source": [
    "train_key_procedure = pd.read_csv(fdir+'train_key_procedure.csv.gz')\n",
    "train_key_p = pd.crosstab(train_key_procedure.patient_id,train_key_procedure.procedure_code) \n",
    "train_key_p[:2]"
   ]
  },
  {
   "cell_type": "code",
   "execution_count": 88,
   "metadata": {
    "collapsed": false
   },
   "outputs": [],
   "source": [
    "# set dummies\n",
    "train_key_p[train_key_p > 0] = 1"
   ]
  },
  {
   "cell_type": "code",
   "execution_count": 89,
   "metadata": {
    "collapsed": false,
    "scrolled": false
   },
   "outputs": [
    {
     "data": {
      "text/html": [
       "<div>\n",
       "<table border=\"1\" class=\"dataframe\">\n",
       "  <thead>\n",
       "    <tr style=\"text-align: right;\">\n",
       "      <th></th>\n",
       "      <th>patient_age_group</th>\n",
       "      <th>patient_state</th>\n",
       "      <th>ethinicity</th>\n",
       "      <th>household_income</th>\n",
       "      <th>education_level</th>\n",
       "      <th>is_screener</th>\n",
       "      <th>visits</th>\n",
       "      <th>cbsa</th>\n",
       "      <th>num_visits</th>\n",
       "      <th>num_procedures</th>\n",
       "      <th>...</th>\n",
       "      <th>650</th>\n",
       "      <th>57452</th>\n",
       "      <th>57454</th>\n",
       "      <th>57455</th>\n",
       "      <th>57456</th>\n",
       "      <th>81252</th>\n",
       "      <th>90696</th>\n",
       "      <th>G0143</th>\n",
       "      <th>S4020</th>\n",
       "      <th>S4023</th>\n",
       "    </tr>\n",
       "    <tr>\n",
       "      <th>patient_id</th>\n",
       "      <th></th>\n",
       "      <th></th>\n",
       "      <th></th>\n",
       "      <th></th>\n",
       "      <th></th>\n",
       "      <th></th>\n",
       "      <th></th>\n",
       "      <th></th>\n",
       "      <th></th>\n",
       "      <th></th>\n",
       "      <th></th>\n",
       "      <th></th>\n",
       "      <th></th>\n",
       "      <th></th>\n",
       "      <th></th>\n",
       "      <th></th>\n",
       "      <th></th>\n",
       "      <th></th>\n",
       "      <th></th>\n",
       "      <th></th>\n",
       "      <th></th>\n",
       "    </tr>\n",
       "  </thead>\n",
       "  <tbody>\n",
       "    <tr>\n",
       "      <th>336201912</th>\n",
       "      <td>51-53</td>\n",
       "      <td>SD</td>\n",
       "      <td>ALL OTHER</td>\n",
       "      <td>UNKNOWN</td>\n",
       "      <td>UNKNOWN</td>\n",
       "      <td>1</td>\n",
       "      <td>37</td>\n",
       "      <td>43940</td>\n",
       "      <td>8</td>\n",
       "      <td>49</td>\n",
       "      <td>...</td>\n",
       "      <td>NaN</td>\n",
       "      <td>NaN</td>\n",
       "      <td>NaN</td>\n",
       "      <td>NaN</td>\n",
       "      <td>NaN</td>\n",
       "      <td>NaN</td>\n",
       "      <td>NaN</td>\n",
       "      <td>NaN</td>\n",
       "      <td>NaN</td>\n",
       "      <td>NaN</td>\n",
       "    </tr>\n",
       "    <tr>\n",
       "      <th>94237712</th>\n",
       "      <td>39-41</td>\n",
       "      <td>NE</td>\n",
       "      <td>ALL OTHER</td>\n",
       "      <td>UNKNOWN</td>\n",
       "      <td>UNKNOWN</td>\n",
       "      <td>1</td>\n",
       "      <td>129</td>\n",
       "      <td>36540</td>\n",
       "      <td>20</td>\n",
       "      <td>247</td>\n",
       "      <td>...</td>\n",
       "      <td>0</td>\n",
       "      <td>NaN</td>\n",
       "      <td>NaN</td>\n",
       "      <td>NaN</td>\n",
       "      <td>NaN</td>\n",
       "      <td>NaN</td>\n",
       "      <td>NaN</td>\n",
       "      <td>NaN</td>\n",
       "      <td>NaN</td>\n",
       "      <td>NaN</td>\n",
       "    </tr>\n",
       "    <tr>\n",
       "      <th>186124512</th>\n",
       "      <td>24-26</td>\n",
       "      <td>CA</td>\n",
       "      <td>ALL OTHER</td>\n",
       "      <td>UNKNOWN</td>\n",
       "      <td>UNKNOWN</td>\n",
       "      <td>0</td>\n",
       "      <td>26</td>\n",
       "      <td>31080</td>\n",
       "      <td>5</td>\n",
       "      <td>18</td>\n",
       "      <td>...</td>\n",
       "      <td>NaN</td>\n",
       "      <td>NaN</td>\n",
       "      <td>NaN</td>\n",
       "      <td>NaN</td>\n",
       "      <td>NaN</td>\n",
       "      <td>NaN</td>\n",
       "      <td>NaN</td>\n",
       "      <td>NaN</td>\n",
       "      <td>NaN</td>\n",
       "      <td>NaN</td>\n",
       "    </tr>\n",
       "    <tr>\n",
       "      <th>767144212</th>\n",
       "      <td>27-29</td>\n",
       "      <td>NY</td>\n",
       "      <td>ALL OTHER</td>\n",
       "      <td>UNKNOWN</td>\n",
       "      <td>UNKNOWN</td>\n",
       "      <td>1</td>\n",
       "      <td>2</td>\n",
       "      <td>35620</td>\n",
       "      <td>43</td>\n",
       "      <td>293</td>\n",
       "      <td>...</td>\n",
       "      <td>1</td>\n",
       "      <td>1</td>\n",
       "      <td>0</td>\n",
       "      <td>0</td>\n",
       "      <td>0</td>\n",
       "      <td>0</td>\n",
       "      <td>0</td>\n",
       "      <td>0</td>\n",
       "      <td>0</td>\n",
       "      <td>0</td>\n",
       "    </tr>\n",
       "  </tbody>\n",
       "</table>\n",
       "<p>4 rows × 50 columns</p>\n",
       "</div>"
      ],
      "text/plain": [
       "           patient_age_group patient_state ethinicity household_income  \\\n",
       "patient_id                                                               \n",
       "336201912              51-53            SD  ALL OTHER          UNKNOWN   \n",
       "94237712               39-41            NE  ALL OTHER          UNKNOWN   \n",
       "186124512              24-26            CA  ALL OTHER          UNKNOWN   \n",
       "767144212              27-29            NY  ALL OTHER          UNKNOWN   \n",
       "\n",
       "           education_level  is_screener  visits   cbsa  num_visits  \\\n",
       "patient_id                                                           \n",
       "336201912          UNKNOWN            1      37  43940           8   \n",
       "94237712           UNKNOWN            1     129  36540          20   \n",
       "186124512          UNKNOWN            0      26  31080           5   \n",
       "767144212          UNKNOWN            1       2  35620          43   \n",
       "\n",
       "            num_procedures  ...    650  57452  57454  57455  57456  81252  \\\n",
       "patient_id                  ...                                             \n",
       "336201912               49  ...    NaN    NaN    NaN    NaN    NaN    NaN   \n",
       "94237712               247  ...      0    NaN    NaN    NaN    NaN    NaN   \n",
       "186124512               18  ...    NaN    NaN    NaN    NaN    NaN    NaN   \n",
       "767144212              293  ...      1      1      0      0      0      0   \n",
       "\n",
       "            90696  G0143  S4020  S4023  \n",
       "patient_id                              \n",
       "336201912     NaN    NaN    NaN    NaN  \n",
       "94237712      NaN    NaN    NaN    NaN  \n",
       "186124512     NaN    NaN    NaN    NaN  \n",
       "767144212       0      0      0      0  \n",
       "\n",
       "[4 rows x 50 columns]"
      ]
     },
     "execution_count": 89,
     "metadata": {},
     "output_type": "execute_result"
    }
   ],
   "source": [
    "train = pd.merge(train, train_key_p, left_index=True, right_index=True, how='left')\n",
    "train[:4]"
   ]
  },
  {
   "cell_type": "code",
   "execution_count": 90,
   "metadata": {
    "collapsed": false
   },
   "outputs": [
    {
     "data": {
      "text/html": [
       "<div>\n",
       "<table border=\"1\" class=\"dataframe\">\n",
       "  <thead>\n",
       "    <tr style=\"text-align: right;\">\n",
       "      <th>procedure_code</th>\n",
       "      <th>57452</th>\n",
       "      <th>57454</th>\n",
       "      <th>57455</th>\n",
       "      <th>57456</th>\n",
       "      <th>81252</th>\n",
       "      <th>90696</th>\n",
       "      <th>G0143</th>\n",
       "      <th>S4020</th>\n",
       "      <th>S4023</th>\n",
       "    </tr>\n",
       "    <tr>\n",
       "      <th>patient_id</th>\n",
       "      <th></th>\n",
       "      <th></th>\n",
       "      <th></th>\n",
       "      <th></th>\n",
       "      <th></th>\n",
       "      <th></th>\n",
       "      <th></th>\n",
       "      <th></th>\n",
       "      <th></th>\n",
       "    </tr>\n",
       "  </thead>\n",
       "  <tbody>\n",
       "    <tr>\n",
       "      <th>84549453</th>\n",
       "      <td>0</td>\n",
       "      <td>1</td>\n",
       "      <td>0</td>\n",
       "      <td>0</td>\n",
       "      <td>0</td>\n",
       "      <td>0</td>\n",
       "      <td>0</td>\n",
       "      <td>0</td>\n",
       "      <td>0</td>\n",
       "    </tr>\n",
       "    <tr>\n",
       "      <th>84549821</th>\n",
       "      <td>0</td>\n",
       "      <td>1</td>\n",
       "      <td>0</td>\n",
       "      <td>0</td>\n",
       "      <td>0</td>\n",
       "      <td>0</td>\n",
       "      <td>0</td>\n",
       "      <td>0</td>\n",
       "      <td>0</td>\n",
       "    </tr>\n",
       "  </tbody>\n",
       "</table>\n",
       "</div>"
      ],
      "text/plain": [
       "procedure_code  57452  57454  57455  57456  81252  90696  G0143  S4020  S4023\n",
       "patient_id                                                                   \n",
       "84549453            0      1      0      0      0      0      0      0      0\n",
       "84549821            0      1      0      0      0      0      0      0      0"
      ]
     },
     "execution_count": 90,
     "metadata": {},
     "output_type": "execute_result"
    }
   ],
   "source": [
    "test_key_procedure = pd.read_csv(fdir+'test_key_procedure.csv.gz')\n",
    "test_key_p = pd.crosstab(test_key_procedure.patient_id,test_key_procedure.procedure_code) \n",
    "test_key_p[:2]"
   ]
  },
  {
   "cell_type": "code",
   "execution_count": 91,
   "metadata": {
    "collapsed": false
   },
   "outputs": [],
   "source": [
    "# set dummies\n",
    "test_key_p[test_key_p > 0] = 1"
   ]
  },
  {
   "cell_type": "code",
   "execution_count": 92,
   "metadata": {
    "collapsed": false,
    "scrolled": false
   },
   "outputs": [
    {
     "data": {
      "text/html": [
       "<div>\n",
       "<table border=\"1\" class=\"dataframe\">\n",
       "  <thead>\n",
       "    <tr style=\"text-align: right;\">\n",
       "      <th></th>\n",
       "      <th>patient_age_group</th>\n",
       "      <th>patient_state</th>\n",
       "      <th>ethinicity</th>\n",
       "      <th>household_income</th>\n",
       "      <th>education_level</th>\n",
       "      <th>visits</th>\n",
       "      <th>cbsa</th>\n",
       "      <th>num_visits</th>\n",
       "      <th>num_procedures</th>\n",
       "      <th>CLINIC</th>\n",
       "      <th>...</th>\n",
       "      <th>650</th>\n",
       "      <th>57452</th>\n",
       "      <th>57454</th>\n",
       "      <th>57455</th>\n",
       "      <th>57456</th>\n",
       "      <th>81252</th>\n",
       "      <th>90696</th>\n",
       "      <th>G0143</th>\n",
       "      <th>S4020</th>\n",
       "      <th>S4023</th>\n",
       "    </tr>\n",
       "    <tr>\n",
       "      <th>patient_id</th>\n",
       "      <th></th>\n",
       "      <th></th>\n",
       "      <th></th>\n",
       "      <th></th>\n",
       "      <th></th>\n",
       "      <th></th>\n",
       "      <th></th>\n",
       "      <th></th>\n",
       "      <th></th>\n",
       "      <th></th>\n",
       "      <th></th>\n",
       "      <th></th>\n",
       "      <th></th>\n",
       "      <th></th>\n",
       "      <th></th>\n",
       "      <th></th>\n",
       "      <th></th>\n",
       "      <th></th>\n",
       "      <th></th>\n",
       "      <th></th>\n",
       "      <th></th>\n",
       "    </tr>\n",
       "  </thead>\n",
       "  <tbody>\n",
       "    <tr>\n",
       "      <th>148341312</th>\n",
       "      <td>66-68</td>\n",
       "      <td>TX</td>\n",
       "      <td>ALL OTHER</td>\n",
       "      <td>UNKNOWN</td>\n",
       "      <td>UNKNOWN</td>\n",
       "      <td>144</td>\n",
       "      <td>19100</td>\n",
       "      <td>11</td>\n",
       "      <td>135</td>\n",
       "      <td>NaN</td>\n",
       "      <td>...</td>\n",
       "      <td>NaN</td>\n",
       "      <td>NaN</td>\n",
       "      <td>NaN</td>\n",
       "      <td>NaN</td>\n",
       "      <td>NaN</td>\n",
       "      <td>NaN</td>\n",
       "      <td>NaN</td>\n",
       "      <td>NaN</td>\n",
       "      <td>NaN</td>\n",
       "      <td>NaN</td>\n",
       "    </tr>\n",
       "    <tr>\n",
       "      <th>130010912</th>\n",
       "      <td>45-47</td>\n",
       "      <td>IN</td>\n",
       "      <td>ALL OTHER</td>\n",
       "      <td>UNKNOWN</td>\n",
       "      <td>UNKNOWN</td>\n",
       "      <td>92</td>\n",
       "      <td>26900</td>\n",
       "      <td>8</td>\n",
       "      <td>85</td>\n",
       "      <td>NaN</td>\n",
       "      <td>...</td>\n",
       "      <td>NaN</td>\n",
       "      <td>NaN</td>\n",
       "      <td>NaN</td>\n",
       "      <td>NaN</td>\n",
       "      <td>NaN</td>\n",
       "      <td>NaN</td>\n",
       "      <td>NaN</td>\n",
       "      <td>NaN</td>\n",
       "      <td>NaN</td>\n",
       "      <td>NaN</td>\n",
       "    </tr>\n",
       "    <tr>\n",
       "      <th>103994412</th>\n",
       "      <td>27-29</td>\n",
       "      <td>CA</td>\n",
       "      <td>ALL OTHER</td>\n",
       "      <td>UNKNOWN</td>\n",
       "      <td>UNKNOWN</td>\n",
       "      <td>168</td>\n",
       "      <td>31080</td>\n",
       "      <td>37</td>\n",
       "      <td>417</td>\n",
       "      <td>NaN</td>\n",
       "      <td>...</td>\n",
       "      <td>NaN</td>\n",
       "      <td>NaN</td>\n",
       "      <td>NaN</td>\n",
       "      <td>NaN</td>\n",
       "      <td>NaN</td>\n",
       "      <td>NaN</td>\n",
       "      <td>NaN</td>\n",
       "      <td>NaN</td>\n",
       "      <td>NaN</td>\n",
       "      <td>NaN</td>\n",
       "    </tr>\n",
       "    <tr>\n",
       "      <th>318658812</th>\n",
       "      <td>27-29</td>\n",
       "      <td>TN</td>\n",
       "      <td>ALL OTHER</td>\n",
       "      <td>UNKNOWN</td>\n",
       "      <td>UNKNOWN</td>\n",
       "      <td>72</td>\n",
       "      <td>32820</td>\n",
       "      <td>14</td>\n",
       "      <td>150</td>\n",
       "      <td>0</td>\n",
       "      <td>...</td>\n",
       "      <td>NaN</td>\n",
       "      <td>NaN</td>\n",
       "      <td>NaN</td>\n",
       "      <td>NaN</td>\n",
       "      <td>NaN</td>\n",
       "      <td>NaN</td>\n",
       "      <td>NaN</td>\n",
       "      <td>NaN</td>\n",
       "      <td>NaN</td>\n",
       "      <td>NaN</td>\n",
       "    </tr>\n",
       "  </tbody>\n",
       "</table>\n",
       "<p>4 rows × 49 columns</p>\n",
       "</div>"
      ],
      "text/plain": [
       "           patient_age_group patient_state ethinicity household_income  \\\n",
       "patient_id                                                               \n",
       "148341312              66-68            TX  ALL OTHER          UNKNOWN   \n",
       "130010912              45-47            IN  ALL OTHER          UNKNOWN   \n",
       "103994412              27-29            CA  ALL OTHER          UNKNOWN   \n",
       "318658812              27-29            TN  ALL OTHER          UNKNOWN   \n",
       "\n",
       "           education_level  visits   cbsa  num_visits  num_procedures  CLINIC  \\\n",
       "patient_id                                                                      \n",
       "148341312          UNKNOWN     144  19100          11             135     NaN   \n",
       "130010912          UNKNOWN      92  26900           8              85     NaN   \n",
       "103994412          UNKNOWN     168  31080          37             417     NaN   \n",
       "318658812          UNKNOWN      72  32820          14             150       0   \n",
       "\n",
       "            ...    650  57452  57454  57455  57456  81252  90696  G0143  \\\n",
       "patient_id  ...                                                           \n",
       "148341312   ...    NaN    NaN    NaN    NaN    NaN    NaN    NaN    NaN   \n",
       "130010912   ...    NaN    NaN    NaN    NaN    NaN    NaN    NaN    NaN   \n",
       "103994412   ...    NaN    NaN    NaN    NaN    NaN    NaN    NaN    NaN   \n",
       "318658812   ...    NaN    NaN    NaN    NaN    NaN    NaN    NaN    NaN   \n",
       "\n",
       "            S4020  S4023  \n",
       "patient_id                \n",
       "148341312     NaN    NaN  \n",
       "130010912     NaN    NaN  \n",
       "103994412     NaN    NaN  \n",
       "318658812     NaN    NaN  \n",
       "\n",
       "[4 rows x 49 columns]"
      ]
     },
     "execution_count": 92,
     "metadata": {},
     "output_type": "execute_result"
    }
   ],
   "source": [
    "test = pd.merge(test, test_key_p, left_index=True, right_index=True, how='left')\n",
    "test[:4]"
   ]
  },
  {
   "cell_type": "code",
   "execution_count": 93,
   "metadata": {
    "collapsed": false,
    "scrolled": false
   },
   "outputs": [],
   "source": [
    "if train.shape[0] != original_train_rows:\n",
    "    raise Exception('bad merge? : '+str(train.shape)+' should be '+str(original_train_rows))"
   ]
  },
  {
   "cell_type": "code",
   "execution_count": 94,
   "metadata": {
    "collapsed": false,
    "scrolled": false
   },
   "outputs": [],
   "source": [
    "if test.shape[0] != original_test_rows:\n",
    "    raise Exception('bad merge? : '+str(test.shape)+' should be '+str(original_test_rows))"
   ]
  },
  {
   "cell_type": "markdown",
   "metadata": {},
   "source": [
    "## Output"
   ]
  },
  {
   "cell_type": "code",
   "execution_count": 95,
   "metadata": {
    "collapsed": false
   },
   "outputs": [
    {
     "data": {
      "text/plain": [
       "Index([  u'patient_age_group',       u'patient_state',          u'ethinicity',\n",
       "          u'household_income',     u'education_level',         u'is_screener',\n",
       "                    u'visits',                u'cbsa',          u'num_visits',\n",
       "            u'num_procedures',              u'CLINIC',           u'INPATIENT',\n",
       "                     u'OTHER',          u'OUTPATIENT',             u'UNKNOWN',\n",
       "                      u'0001',                u'0002',                u'0003',\n",
       "                      u'0004',                u'0005',                u'0006',\n",
       "                      u'HX01',                u'HX02',                u'HX03',\n",
       "                      u'HX04',                u'HX05',                u'HXPR',\n",
       "             u'num_diagnosis',              u'num_rx',       u'RX_ASSISTANCE',\n",
       "                   u'RX_CASH',       u'RX_COMMERCIAL', u'RX_MANAGED_MEDICAID',\n",
       "               u'RX_MEDICAID',         u'RX_MEDICARE',    u'pract_screen_pct',\n",
       "                  u'cbsa_pct',             u'age_pct',           u'state_pct',\n",
       "                          632,                    650,               u'57452',\n",
       "                     u'57454',               u'57455',               u'57456',\n",
       "                     u'81252',               u'90696',               u'G0143',\n",
       "                     u'S4020',               u'S4023'],\n",
       "      dtype='object')"
      ]
     },
     "execution_count": 95,
     "metadata": {},
     "output_type": "execute_result"
    }
   ],
   "source": [
    "train.columns"
   ]
  },
  {
   "cell_type": "code",
   "execution_count": 96,
   "metadata": {
    "collapsed": false
   },
   "outputs": [
    {
     "data": {
      "text/plain": [
       "((1157817, 50), (1701813, 49))"
      ]
     },
     "execution_count": 96,
     "metadata": {},
     "output_type": "execute_result"
    }
   ],
   "source": [
    "train.shape, test.shape"
   ]
  },
  {
   "cell_type": "code",
   "execution_count": 97,
   "metadata": {
    "collapsed": true
   },
   "outputs": [],
   "source": [
    "train.to_csv('./features/train_big_table.csv')"
   ]
  },
  {
   "cell_type": "code",
   "execution_count": 98,
   "metadata": {
    "collapsed": true
   },
   "outputs": [],
   "source": [
    "test.to_csv('./features/test_big_table.csv')"
   ]
  },
  {
   "cell_type": "code",
   "execution_count": 99,
   "metadata": {
    "collapsed": true
   },
   "outputs": [],
   "source": [
    "train_encoded = train.copy()"
   ]
  },
  {
   "cell_type": "code",
   "execution_count": 100,
   "metadata": {
    "collapsed": true
   },
   "outputs": [],
   "source": [
    "# patient_age encode\n",
    "patient_age_dict = \\\n",
    "{\n",
    "'24-26': 1,\n",
    "'27-29': 2,\n",
    "'30-32': 3,\n",
    "'36-38': 4,\n",
    "'39-41': 5,\n",
    "'42-44': 6,\n",
    "'45-47': 7,\n",
    "'48-50': 8,\n",
    "'33-35': 9,\n",
    "'51-53': 10,\n",
    "'54-56': 11,\n",
    "'57-59': 12,\n",
    "'60-62': 13,\n",
    "'63-65': 14,\n",
    "'66-68': 15,\n",
    "'69-71': 16\n",
    "}\n",
    "\n",
    "train_encoded.patient_age_group  = [ patient_age_dict[i]  for i in train_encoded.patient_age_group.values ]"
   ]
  },
  {
   "cell_type": "code",
   "execution_count": 101,
   "metadata": {
    "collapsed": true
   },
   "outputs": [],
   "source": [
    "household_income_dict = {'UNKNOWN': 0,  '<=$49K': 1, '<$50-99K': 2, '$100K+': 3}\n",
    "train_encoded.household_income  = [ household_income_dict[i]  for i in train_encoded.household_income.values ]"
   ]
  },
  {
   "cell_type": "code",
   "execution_count": 102,
   "metadata": {
    "collapsed": true
   },
   "outputs": [],
   "source": [
    "from sklearn.preprocessing import LabelEncoder\n",
    "le_patient_state = LabelEncoder().fit(train.patient_state.values)\n",
    "le_ethinicity    = LabelEncoder().fit(train.ethinicity.values)\n",
    "le_education_level = LabelEncoder().fit(train.education_level.values)\n",
    "train_encoded.patient_state = le_patient_state.transform(train.patient_state.values)\n",
    "train_encoded.ethinicity    = le_ethinicity.transform(train.ethinicity.values)\n",
    "train_encoded.education_level = le_education_level.transform(train.education_level.values)"
   ]
  },
  {
   "cell_type": "code",
   "execution_count": 103,
   "metadata": {
    "collapsed": false,
    "scrolled": true
   },
   "outputs": [
    {
     "data": {
      "text/html": [
       "<div>\n",
       "<table border=\"1\" class=\"dataframe\">\n",
       "  <thead>\n",
       "    <tr style=\"text-align: right;\">\n",
       "      <th></th>\n",
       "      <th>patient_age_group</th>\n",
       "      <th>patient_state</th>\n",
       "      <th>ethinicity</th>\n",
       "      <th>household_income</th>\n",
       "      <th>education_level</th>\n",
       "      <th>is_screener</th>\n",
       "      <th>visits</th>\n",
       "      <th>cbsa</th>\n",
       "      <th>num_visits</th>\n",
       "      <th>num_procedures</th>\n",
       "      <th>...</th>\n",
       "      <th>650</th>\n",
       "      <th>57452</th>\n",
       "      <th>57454</th>\n",
       "      <th>57455</th>\n",
       "      <th>57456</th>\n",
       "      <th>81252</th>\n",
       "      <th>90696</th>\n",
       "      <th>G0143</th>\n",
       "      <th>S4020</th>\n",
       "      <th>S4023</th>\n",
       "    </tr>\n",
       "    <tr>\n",
       "      <th>patient_id</th>\n",
       "      <th></th>\n",
       "      <th></th>\n",
       "      <th></th>\n",
       "      <th></th>\n",
       "      <th></th>\n",
       "      <th></th>\n",
       "      <th></th>\n",
       "      <th></th>\n",
       "      <th></th>\n",
       "      <th></th>\n",
       "      <th></th>\n",
       "      <th></th>\n",
       "      <th></th>\n",
       "      <th></th>\n",
       "      <th></th>\n",
       "      <th></th>\n",
       "      <th></th>\n",
       "      <th></th>\n",
       "      <th></th>\n",
       "      <th></th>\n",
       "      <th></th>\n",
       "    </tr>\n",
       "  </thead>\n",
       "  <tbody>\n",
       "    <tr>\n",
       "      <th>336201912</th>\n",
       "      <td>10</td>\n",
       "      <td>41</td>\n",
       "      <td>1</td>\n",
       "      <td>0</td>\n",
       "      <td>3</td>\n",
       "      <td>1</td>\n",
       "      <td>37</td>\n",
       "      <td>43940</td>\n",
       "      <td>8</td>\n",
       "      <td>49</td>\n",
       "      <td>...</td>\n",
       "      <td>NaN</td>\n",
       "      <td>NaN</td>\n",
       "      <td>NaN</td>\n",
       "      <td>NaN</td>\n",
       "      <td>NaN</td>\n",
       "      <td>NaN</td>\n",
       "      <td>NaN</td>\n",
       "      <td>NaN</td>\n",
       "      <td>NaN</td>\n",
       "      <td>NaN</td>\n",
       "    </tr>\n",
       "    <tr>\n",
       "      <th>94237712</th>\n",
       "      <td>5</td>\n",
       "      <td>29</td>\n",
       "      <td>1</td>\n",
       "      <td>0</td>\n",
       "      <td>3</td>\n",
       "      <td>1</td>\n",
       "      <td>129</td>\n",
       "      <td>36540</td>\n",
       "      <td>20</td>\n",
       "      <td>247</td>\n",
       "      <td>...</td>\n",
       "      <td>0</td>\n",
       "      <td>NaN</td>\n",
       "      <td>NaN</td>\n",
       "      <td>NaN</td>\n",
       "      <td>NaN</td>\n",
       "      <td>NaN</td>\n",
       "      <td>NaN</td>\n",
       "      <td>NaN</td>\n",
       "      <td>NaN</td>\n",
       "      <td>NaN</td>\n",
       "    </tr>\n",
       "    <tr>\n",
       "      <th>186124512</th>\n",
       "      <td>1</td>\n",
       "      <td>4</td>\n",
       "      <td>1</td>\n",
       "      <td>0</td>\n",
       "      <td>3</td>\n",
       "      <td>0</td>\n",
       "      <td>26</td>\n",
       "      <td>31080</td>\n",
       "      <td>5</td>\n",
       "      <td>18</td>\n",
       "      <td>...</td>\n",
       "      <td>NaN</td>\n",
       "      <td>NaN</td>\n",
       "      <td>NaN</td>\n",
       "      <td>NaN</td>\n",
       "      <td>NaN</td>\n",
       "      <td>NaN</td>\n",
       "      <td>NaN</td>\n",
       "      <td>NaN</td>\n",
       "      <td>NaN</td>\n",
       "      <td>NaN</td>\n",
       "    </tr>\n",
       "  </tbody>\n",
       "</table>\n",
       "<p>3 rows × 50 columns</p>\n",
       "</div>"
      ],
      "text/plain": [
       "            patient_age_group  patient_state  ethinicity  household_income  \\\n",
       "patient_id                                                                   \n",
       "336201912                  10             41           1                 0   \n",
       "94237712                    5             29           1                 0   \n",
       "186124512                   1              4           1                 0   \n",
       "\n",
       "            education_level  is_screener  visits   cbsa  num_visits  \\\n",
       "patient_id                                                            \n",
       "336201912                 3            1      37  43940           8   \n",
       "94237712                  3            1     129  36540          20   \n",
       "186124512                 3            0      26  31080           5   \n",
       "\n",
       "            num_procedures  ...    650  57452  57454  57455  57456  81252  \\\n",
       "patient_id                  ...                                             \n",
       "336201912               49  ...    NaN    NaN    NaN    NaN    NaN    NaN   \n",
       "94237712               247  ...      0    NaN    NaN    NaN    NaN    NaN   \n",
       "186124512               18  ...    NaN    NaN    NaN    NaN    NaN    NaN   \n",
       "\n",
       "            90696  G0143  S4020  S4023  \n",
       "patient_id                              \n",
       "336201912     NaN    NaN    NaN    NaN  \n",
       "94237712      NaN    NaN    NaN    NaN  \n",
       "186124512     NaN    NaN    NaN    NaN  \n",
       "\n",
       "[3 rows x 50 columns]"
      ]
     },
     "execution_count": 103,
     "metadata": {},
     "output_type": "execute_result"
    }
   ],
   "source": [
    "train_encoded[:3]"
   ]
  },
  {
   "cell_type": "code",
   "execution_count": 104,
   "metadata": {
    "collapsed": true
   },
   "outputs": [],
   "source": [
    "train_encoded.to_csv('./features/train_big_table_encoded.csv')"
   ]
  },
  {
   "cell_type": "code",
   "execution_count": 105,
   "metadata": {
    "collapsed": true
   },
   "outputs": [],
   "source": [
    "test_encoded = test.copy()"
   ]
  },
  {
   "cell_type": "code",
   "execution_count": 106,
   "metadata": {
    "collapsed": true
   },
   "outputs": [],
   "source": [
    "test_encoded.patient_age_group  = [ patient_age_dict[i]  for i in test_encoded.patient_age_group.values ]\n",
    "test_encoded.household_income  = [ household_income_dict[i]  for i in test_encoded.household_income.values ]"
   ]
  },
  {
   "cell_type": "code",
   "execution_count": 107,
   "metadata": {
    "collapsed": false
   },
   "outputs": [],
   "source": [
    "test_encoded.patient_state = le_patient_state.transform(test.patient_state.values)\n",
    "test_encoded.ethinicity    = le_ethinicity.transform(test.ethinicity.values)\n",
    "test_encoded.education_level = le_education_level.transform(test.education_level.values)"
   ]
  },
  {
   "cell_type": "code",
   "execution_count": 108,
   "metadata": {
    "collapsed": false,
    "scrolled": true
   },
   "outputs": [
    {
     "data": {
      "text/html": [
       "<div>\n",
       "<table border=\"1\" class=\"dataframe\">\n",
       "  <thead>\n",
       "    <tr style=\"text-align: right;\">\n",
       "      <th></th>\n",
       "      <th>patient_age_group</th>\n",
       "      <th>patient_state</th>\n",
       "      <th>ethinicity</th>\n",
       "      <th>household_income</th>\n",
       "      <th>education_level</th>\n",
       "      <th>visits</th>\n",
       "      <th>cbsa</th>\n",
       "      <th>num_visits</th>\n",
       "      <th>num_procedures</th>\n",
       "      <th>CLINIC</th>\n",
       "      <th>...</th>\n",
       "      <th>650</th>\n",
       "      <th>57452</th>\n",
       "      <th>57454</th>\n",
       "      <th>57455</th>\n",
       "      <th>57456</th>\n",
       "      <th>81252</th>\n",
       "      <th>90696</th>\n",
       "      <th>G0143</th>\n",
       "      <th>S4020</th>\n",
       "      <th>S4023</th>\n",
       "    </tr>\n",
       "    <tr>\n",
       "      <th>patient_id</th>\n",
       "      <th></th>\n",
       "      <th></th>\n",
       "      <th></th>\n",
       "      <th></th>\n",
       "      <th></th>\n",
       "      <th></th>\n",
       "      <th></th>\n",
       "      <th></th>\n",
       "      <th></th>\n",
       "      <th></th>\n",
       "      <th></th>\n",
       "      <th></th>\n",
       "      <th></th>\n",
       "      <th></th>\n",
       "      <th></th>\n",
       "      <th></th>\n",
       "      <th></th>\n",
       "      <th></th>\n",
       "      <th></th>\n",
       "      <th></th>\n",
       "      <th></th>\n",
       "    </tr>\n",
       "  </thead>\n",
       "  <tbody>\n",
       "    <tr>\n",
       "      <th>148341312</th>\n",
       "      <td>15</td>\n",
       "      <td>43</td>\n",
       "      <td>1</td>\n",
       "      <td>0</td>\n",
       "      <td>3</td>\n",
       "      <td>144</td>\n",
       "      <td>19100</td>\n",
       "      <td>11</td>\n",
       "      <td>135</td>\n",
       "      <td>NaN</td>\n",
       "      <td>...</td>\n",
       "      <td>NaN</td>\n",
       "      <td>NaN</td>\n",
       "      <td>NaN</td>\n",
       "      <td>NaN</td>\n",
       "      <td>NaN</td>\n",
       "      <td>NaN</td>\n",
       "      <td>NaN</td>\n",
       "      <td>NaN</td>\n",
       "      <td>NaN</td>\n",
       "      <td>NaN</td>\n",
       "    </tr>\n",
       "    <tr>\n",
       "      <th>130010912</th>\n",
       "      <td>7</td>\n",
       "      <td>15</td>\n",
       "      <td>1</td>\n",
       "      <td>0</td>\n",
       "      <td>3</td>\n",
       "      <td>92</td>\n",
       "      <td>26900</td>\n",
       "      <td>8</td>\n",
       "      <td>85</td>\n",
       "      <td>NaN</td>\n",
       "      <td>...</td>\n",
       "      <td>NaN</td>\n",
       "      <td>NaN</td>\n",
       "      <td>NaN</td>\n",
       "      <td>NaN</td>\n",
       "      <td>NaN</td>\n",
       "      <td>NaN</td>\n",
       "      <td>NaN</td>\n",
       "      <td>NaN</td>\n",
       "      <td>NaN</td>\n",
       "      <td>NaN</td>\n",
       "    </tr>\n",
       "    <tr>\n",
       "      <th>103994412</th>\n",
       "      <td>2</td>\n",
       "      <td>4</td>\n",
       "      <td>1</td>\n",
       "      <td>0</td>\n",
       "      <td>3</td>\n",
       "      <td>168</td>\n",
       "      <td>31080</td>\n",
       "      <td>37</td>\n",
       "      <td>417</td>\n",
       "      <td>NaN</td>\n",
       "      <td>...</td>\n",
       "      <td>NaN</td>\n",
       "      <td>NaN</td>\n",
       "      <td>NaN</td>\n",
       "      <td>NaN</td>\n",
       "      <td>NaN</td>\n",
       "      <td>NaN</td>\n",
       "      <td>NaN</td>\n",
       "      <td>NaN</td>\n",
       "      <td>NaN</td>\n",
       "      <td>NaN</td>\n",
       "    </tr>\n",
       "  </tbody>\n",
       "</table>\n",
       "<p>3 rows × 49 columns</p>\n",
       "</div>"
      ],
      "text/plain": [
       "            patient_age_group  patient_state  ethinicity  household_income  \\\n",
       "patient_id                                                                   \n",
       "148341312                  15             43           1                 0   \n",
       "130010912                   7             15           1                 0   \n",
       "103994412                   2              4           1                 0   \n",
       "\n",
       "            education_level  visits   cbsa  num_visits  num_procedures  \\\n",
       "patient_id                                                               \n",
       "148341312                 3     144  19100          11             135   \n",
       "130010912                 3      92  26900           8              85   \n",
       "103994412                 3     168  31080          37             417   \n",
       "\n",
       "            CLINIC  ...    650  57452  57454  57455  57456  81252  90696  \\\n",
       "patient_id          ...                                                    \n",
       "148341312      NaN  ...    NaN    NaN    NaN    NaN    NaN    NaN    NaN   \n",
       "130010912      NaN  ...    NaN    NaN    NaN    NaN    NaN    NaN    NaN   \n",
       "103994412      NaN  ...    NaN    NaN    NaN    NaN    NaN    NaN    NaN   \n",
       "\n",
       "            G0143  S4020  S4023  \n",
       "patient_id                       \n",
       "148341312     NaN    NaN    NaN  \n",
       "130010912     NaN    NaN    NaN  \n",
       "103994412     NaN    NaN    NaN  \n",
       "\n",
       "[3 rows x 49 columns]"
      ]
     },
     "execution_count": 108,
     "metadata": {},
     "output_type": "execute_result"
    }
   ],
   "source": [
    "test_encoded[:3]"
   ]
  },
  {
   "cell_type": "code",
   "execution_count": 109,
   "metadata": {
    "collapsed": true
   },
   "outputs": [],
   "source": [
    "test_encoded.to_csv('./features/test_big_table_encoded.csv')"
   ]
  },
  {
   "cell_type": "code",
   "execution_count": 110,
   "metadata": {
    "collapsed": false
   },
   "outputs": [
    {
     "data": {
      "text/plain": [
       "674"
      ]
     },
     "execution_count": 110,
     "metadata": {},
     "output_type": "execute_result"
    }
   ],
   "source": [
    "gc.collect()"
   ]
  },
  {
   "cell_type": "markdown",
   "metadata": {},
   "source": [
    "# DONE !!!"
   ]
  },
  {
   "cell_type": "code",
   "execution_count": 111,
   "metadata": {
    "collapsed": true
   },
   "outputs": [],
   "source": [
    "! gzip -f ./features/train_big_table.csv\n",
    "! gzip -f ./features/test_big_table.csv\n",
    "! gzip -f ./features/train_big_table_encoded.csv\n",
    "! gzip -f ./features/test_big_table_encoded.csv"
   ]
  },
  {
   "cell_type": "code",
   "execution_count": null,
   "metadata": {
    "collapsed": true
   },
   "outputs": [],
   "source": []
  }
 ],
 "metadata": {
  "hide_input": false,
  "kernelspec": {
   "display_name": "Python 2",
   "language": "python",
   "name": "python2"
  },
  "language_info": {
   "codemirror_mode": {
    "name": "ipython",
    "version": 2
   },
   "file_extension": ".py",
   "mimetype": "text/x-python",
   "name": "python",
   "nbconvert_exporter": "python",
   "pygments_lexer": "ipython2",
   "version": "2.7.11"
  }
 },
 "nbformat": 4,
 "nbformat_minor": 0
}
