{
 "cells": [
  {
   "cell_type": "markdown",
   "metadata": {},
   "source": [
    "# Genentech Cervical Cancer - ETL\n",
    "https://www.kaggle.com/c/cervical-cancer-screening/"
   ]
  },
  {
   "cell_type": "code",
   "execution_count": null,
   "metadata": {
    "collapsed": true
   },
   "outputs": [],
   "source": [
    "# imports\n",
    "import sys # for stderr\n",
    "import numpy as np\n",
    "import pandas as pd\n",
    "import sklearn as skl\n",
    "from sklearn import metrics\n",
    "import matplotlib.pyplot as plt\n",
    "%matplotlib inline"
   ]
  },
  {
   "cell_type": "code",
   "execution_count": null,
   "metadata": {
    "collapsed": false
   },
   "outputs": [],
   "source": [
    "# settings \n",
    "%logstop\n",
    "%logstart  -o 'cc_feature_selection.log' rotate\n",
    "plt.style.use('ggplot')\n",
    "# constants\n",
    "# plt.rcParams['figure.figsize'] = (10.0, 10.0)\n",
    "# pd.set_option('display.max_rows', 50)\n",
    "# pd.set_option('display.max_columns', 50)"
   ]
  },
  {
   "cell_type": "code",
   "execution_count": null,
   "metadata": {
    "collapsed": false
   },
   "outputs": [],
   "source": [
    "# versions \n",
    "import sys\n",
    "print(pd.datetime.now())\n",
    "print('Python: '+sys.version)\n",
    "print('numpy: '+np.__version__)\n",
    "print('pandas: '+pd.__version__)\n",
    "print('sklearn: '+skl.__version__)"
   ]
  },
  {
   "cell_type": "code",
   "execution_count": null,
   "metadata": {
    "collapsed": false
   },
   "outputs": [],
   "source": [
    "from sqlalchemy import create_engine\n",
    "engine = create_engine('postgresql://paulperry:@localhost:5432/ccancer')"
   ]
  },
  {
   "cell_type": "code",
   "execution_count": null,
   "metadata": {
    "collapsed": true
   },
   "outputs": [],
   "source": [
    "from pyace import ace"
   ]
  },
  {
   "cell_type": "code",
   "execution_count": null,
   "metadata": {
    "collapsed": true
   },
   "outputs": [],
   "source": [
    "import psycopg2\n",
    "# import sqlite3"
   ]
  },
  {
   "cell_type": "code",
   "execution_count": null,
   "metadata": {
    "collapsed": false
   },
   "outputs": [],
   "source": [
    "db = psycopg2.connect(\"dbname='ccancer' user='paulperry' host='localhost' password=''\")\n",
    "#db = sqlite3.connect('../input/database.sqlite')"
   ]
  },
  {
   "cell_type": "code",
   "execution_count": null,
   "metadata": {
    "collapsed": false
   },
   "outputs": [],
   "source": [
    "patient_activity = pd.read_sql_query(\"select * from patient_activity limit 20000;\", db)"
   ]
  },
  {
   "cell_type": "code",
   "execution_count": null,
   "metadata": {
    "collapsed": false
   },
   "outputs": [],
   "source": [
    "patient_activity[:10]"
   ]
  },
  {
   "cell_type": "code",
   "execution_count": null,
   "metadata": {
    "collapsed": false
   },
   "outputs": [],
   "source": [
    "patient_activity['date'] = pd.to_datetime(patient_activity.activity_year+\n",
    "                                          patient_activity.activity_month,\n",
    "                                          format='%Y%m')"
   ]
  },
  {
   "cell_type": "code",
   "execution_count": null,
   "metadata": {
    "collapsed": false
   },
   "outputs": [],
   "source": [
    "pat_min = patient_activity.groupby('patient_id').date.min()\n",
    "pat_max = patient_activity.groupby('patient_id').date.max()\n",
    "pat_count = patient_activity.groupby('patient_id').activity_type.count()"
   ]
  },
  {
   "cell_type": "code",
   "execution_count": null,
   "metadata": {
    "collapsed": false,
    "scrolled": true
   },
   "outputs": [],
   "source": [
    "pat_activity_count = patient_activity.groupby(['patient_id', 'activity_type']).activity_year.count()\n",
    "pat_activity_count[:5]"
   ]
  },
  {
   "cell_type": "code",
   "execution_count": null,
   "metadata": {
    "collapsed": false
   },
   "outputs": [],
   "source": [
    "# pat_activity_count.loc[(slice(None),'A'),:].activity_year\n",
    "pat_act = pat_activity_count.reset_index()\n",
    "pat_act = pat_act.pivot('patient_id','activity_type')\n",
    "pat_act = pat_act.activity_year"
   ]
  },
  {
   "cell_type": "code",
   "execution_count": null,
   "metadata": {
    "collapsed": false
   },
   "outputs": [],
   "source": [
    "pat_act.R.iloc[:5]"
   ]
  },
  {
   "cell_type": "code",
   "execution_count": null,
   "metadata": {
    "collapsed": false
   },
   "outputs": [],
   "source": [
    "pat_mo_delta =  ((pat_max - pat_min).dt.days / 30).astype(int)\n",
    "pat_mo_delta[pat_mo_delta > 0].iloc[:5]"
   ]
  },
  {
   "cell_type": "code",
   "execution_count": null,
   "metadata": {
    "collapsed": false
   },
   "outputs": [],
   "source": [
    "patients_train = pd.read_sql_query(\"select * from patients_train limit 20000;\", db)\n",
    "patients_train.shape"
   ]
  },
  {
   "cell_type": "code",
   "execution_count": null,
   "metadata": {
    "collapsed": false
   },
   "outputs": [],
   "source": [
    "patients_train[:5]"
   ]
  },
  {
   "cell_type": "code",
   "execution_count": null,
   "metadata": {
    "collapsed": true
   },
   "outputs": [],
   "source": [
    "patients_train['date_min'] = pat_min\n",
    "patients_train['date_max'] = pat_max\n",
    "patients_train['date_delta'] = pat_mo_delta\n",
    "patients_train['num_activity'] = pat_count\n",
    "patients_train['type_A'] = pat_act.A\n",
    "patients_train['type_R'] = pat_act.R"
   ]
  },
  {
   "cell_type": "code",
   "execution_count": null,
   "metadata": {
    "collapsed": false,
    "scrolled": false
   },
   "outputs": [],
   "source": [
    "patients_train"
   ]
  },
  {
   "cell_type": "markdown",
   "metadata": {},
   "source": [
    "## Load "
   ]
  },
  {
   "cell_type": "code",
   "execution_count": null,
   "metadata": {
    "collapsed": true
   },
   "outputs": [],
   "source": [
    "fdir = './features/'"
   ]
  },
  {
   "cell_type": "code",
   "execution_count": null,
   "metadata": {
    "collapsed": false
   },
   "outputs": [],
   "source": [
    "train_file = './input/patients_train.csv.gz'\n",
    "train = pd.read_csv(train_file)\n",
    "train.drop('patient_gender', axis=1, inplace=True)\n",
    "train.set_index('patient_id', inplace=True)\n",
    "train[:3]"
   ]
  },
  {
   "cell_type": "markdown",
   "metadata": {},
   "source": [
    "## Run"
   ]
  },
  {
   "cell_type": "code",
   "execution_count": null,
   "metadata": {
    "collapsed": false,
    "scrolled": true
   },
   "outputs": [],
   "source": [
    "import datetime\n",
    "start = datetime.datetime.now()\n",
    "print(start)"
   ]
  },
  {
   "cell_type": "code",
   "execution_count": null,
   "metadata": {
    "collapsed": false
   },
   "outputs": [],
   "source": [
    "tab = pd.read_csv(fdir+'train_obgyn_drug.csv')\n",
    "#tab.set_index('patient_id', inplace=True)\n",
    "tab.shape"
   ]
  },
  {
   "cell_type": "code",
   "execution_count": null,
   "metadata": {
    "collapsed": false,
    "scrolled": true
   },
   "outputs": [],
   "source": [
    "tab.drop_duplicates(['patient_id','drug_id'], inplace=True)\n",
    "tab.shape"
   ]
  },
  {
   "cell_type": "code",
   "execution_count": null,
   "metadata": {
    "collapsed": false
   },
   "outputs": [],
   "source": [
    "drugs = tab.drug_id.unique()\n",
    "len(drugs)"
   ]
  },
  {
   "cell_type": "code",
   "execution_count": null,
   "metadata": {
    "collapsed": true
   },
   "outputs": [],
   "source": [
    "cat_cols = ['patient_age_group','patient_state','ethinicity','household_income','education_level']"
   ]
  },
  {
   "cell_type": "code",
   "execution_count": null,
   "metadata": {
    "collapsed": false
   },
   "outputs": [],
   "source": [
    "print(tab_pivot.shape)\n",
    "tab_pivot[:10]"
   ]
  },
  {
   "cell_type": "code",
   "execution_count": null,
   "metadata": {
    "collapsed": true
   },
   "outputs": [],
   "source": [
    "tab_dummy = (tab_pivot[:] > 0).astype(int)\n",
    "\n",
    "# tab_dummy[tab_dummy.iloc[:,0] > 0]\n",
    "\n",
    "sums = tab_dummy.sum()\n",
    "sums.sort_values(ascending=False, inplace=True)\n",
    "tab_sub = tab_pivot.loc[:,sums[sums > 20].index] "
   ]
  },
  {
   "cell_type": "code",
   "execution_count": null,
   "metadata": {
    "collapsed": false
   },
   "outputs": [],
   "source": [
    "step = 1000\n",
    "for i in range(0,len(drugs),step):\n",
    "    print(i, i+step, ':'), \n",
    "    subset = tab[tab.drug_id.isin(drugs[i:i+step])]\n",
    "    tab_pivot = subset.pivot('patient_id','drug_id','drug_id')\n",
    "    tab_dummy = (tab_pivot[:] > 0).astype(int)\n",
    "    sums = tab_dummy.sum()\n",
    "    sums.sort_values(ascending=False, inplace=True)\n",
    "    tab_sub = tab_pivot.loc[:,sums[sums > 100].index]\n",
    "    if tab_sub.shape[1] < 1:\n",
    "        continue\n",
    "    print(tab_sub.shape)\n",
    "    dfall = pd.merge(train, tab_sub, left_index=True, right_index=True, how='left')\n",
    "    ranks = ace(dfall, 'is_screener', cat_cols=[])\n",
    "    df_ranks = pd.DataFrame(ranks, index=dfall.columns, columns=['ace','mean'])\n",
    "    df_ranks = df_ranks.sort_values(by='ace', ascending=False)\n",
    "    top_ranks = df_ranks[df_ranks.ace > 0]\n",
    "    if top_ranks.shape[0] > 5:\n",
    "        break\n",
    "    gc.collect()"
   ]
  },
  {
   "cell_type": "code",
   "execution_count": null,
   "metadata": {
    "collapsed": false
   },
   "outputs": [],
   "source": [
    "tab_sub.shape"
   ]
  },
  {
   "cell_type": "code",
   "execution_count": null,
   "metadata": {
    "collapsed": true
   },
   "outputs": [],
   "source": []
  },
  {
   "cell_type": "code",
   "execution_count": null,
   "metadata": {
    "collapsed": true
   },
   "outputs": [],
   "source": [
    "nnn = 1"
   ]
  },
  {
   "cell_type": "code",
   "execution_count": null,
   "metadata": {
    "collapsed": true
   },
   "outputs": [],
   "source": [
    "break"
   ]
  },
  {
   "cell_type": "code",
   "execution_count": null,
   "metadata": {
    "collapsed": false
   },
   "outputs": [],
   "source": [
    "top_ranks.to_csv('drug_ranks_'+str(nnn)+'.csv')"
   ]
  },
  {
   "cell_type": "code",
   "execution_count": null,
   "metadata": {
    "collapsed": false
   },
   "outputs": [],
   "source": [
    "end   = datetime.datetime.now()\n",
    "print('run time: '+str(end-start)+' at: '+str(end))"
   ]
  },
  {
   "cell_type": "code",
   "execution_count": null,
   "metadata": {
    "collapsed": false
   },
   "outputs": [],
   "source": [
    "break"
   ]
  },
  {
   "cell_type": "code",
   "execution_count": null,
   "metadata": {
    "collapsed": false
   },
   "outputs": [],
   "source": [
    "top_ranks = pd.read_csv('diagnosis_ranks_15.csv')\n",
    "top_ranks.set_index('Unnamed: 0', inplace=True)\n",
    "top_ranks[:10]"
   ]
  },
  {
   "cell_type": "code",
   "execution_count": null,
   "metadata": {
    "collapsed": false
   },
   "outputs": [],
   "source": [
    "qlist = list(top_ranks[top_ranks.ace > 0.003891].index)\n",
    "for c in cat_cols: \n",
    "    qlist.remove(c)\n",
    "qlist_str = \"('\"+qlist[0]+\"'\"\n",
    "for c in qlist[1:]: \n",
    "    qlist_str=qlist_str+\",'\"+c+\"'\"\n",
    "qlist_str=qlist_str+')'\n",
    "qlist_str"
   ]
  },
  {
   "cell_type": "code",
   "execution_count": null,
   "metadata": {
    "collapsed": false
   },
   "outputs": [],
   "source": [
    "q = 'select * from diagnosis_code where diagnosis_code in '+qlist_str\n",
    "\n",
    "diag_codes = pd.read_sql_query(q, engine)\n",
    "diag_codes"
   ]
  },
  {
   "cell_type": "code",
   "execution_count": null,
   "metadata": {
    "collapsed": true
   },
   "outputs": [],
   "source": [
    "diag_codes.to_csv('diagnosis_top_codes.csv', mode='a', header=False)"
   ]
  },
  {
   "cell_type": "code",
   "execution_count": null,
   "metadata": {
    "collapsed": false
   },
   "outputs": [],
   "source": [
    "qlist"
   ]
  },
  {
   "cell_type": "code",
   "execution_count": null,
   "metadata": {
    "collapsed": false
   },
   "outputs": [],
   "source": [
    "tab[qlist].to_csv('diagnosis_top_'+str(nnn)+'.csv')"
   ]
  },
  {
   "cell_type": "markdown",
   "metadata": {
    "collapsed": true
   },
   "source": [
    "## physician codes"
   ]
  },
  {
   "cell_type": "code",
   "execution_count": null,
   "metadata": {
    "collapsed": false
   },
   "outputs": [],
   "source": [
    "physician = ['GO','GYN','OBG','OBS','OCC','ON','OTO','PCP','REN', 'FPP', 'PLN','FPG', 'FM', 'FP']\n",
    "phy_codes = pd.read_csv('features/physician_specialty_codes.csv')"
   ]
  },
  {
   "cell_type": "code",
   "execution_count": null,
   "metadata": {
    "collapsed": false
   },
   "outputs": [],
   "source": [
    "phy_codes[phy_codes.specialty_code.isin(physician)]"
   ]
  },
  {
   "cell_type": "code",
   "execution_count": null,
   "metadata": {
    "collapsed": true
   },
   "outputs": [],
   "source": [
    "FP = FP , FM, PLN\n",
    "OBG = OBG, GYN, REN, OBS\n",
    "NOT = OTO, PCP, GO, FPP, OCC, FPG, ON "
   ]
  },
  {
   "cell_type": "code",
   "execution_count": null,
   "metadata": {
    "collapsed": false
   },
   "outputs": [],
   "source": [
    "proc_years = pd.read_csv('./features/procedure/procedure_years.csv')\n",
    "proc_years.shape"
   ]
  },
  {
   "cell_type": "code",
   "execution_count": null,
   "metadata": {
    "collapsed": false
   },
   "outputs": [],
   "source": [
    "proc_years[:10]"
   ]
  },
  {
   "cell_type": "code",
   "execution_count": null,
   "metadata": {
    "collapsed": false
   },
   "outputs": [],
   "source": [
    "proc_years.describe()"
   ]
  },
  {
   "cell_type": "code",
   "execution_count": null,
   "metadata": {
    "collapsed": false
   },
   "outputs": [],
   "source": [
    "proc_years.year_min.max()"
   ]
  },
  {
   "cell_type": "code",
   "execution_count": null,
   "metadata": {
    "collapsed": true
   },
   "outputs": [],
   "source": [
    "# avg_visits per year."
   ]
  },
  {
   "cell_type": "markdown",
   "metadata": {
    "collapsed": true
   },
   "source": [
    "## OBG Exam"
   ]
  },
  {
   "cell_type": "markdown",
   "metadata": {},
   "source": [
    "```\n",
    "\\copy (select t1.*, t2.specialty_code, t2.cbsa from diagnosis t1 join physician t2 on (t1.primary_practitioner_id=t2.physician_id) right join patients_train t3 on (t1.patient_id=t3.patient_id) where diagnosis_code = 'V70.0' and t2.specialty_code in ('OBG','GYN','REN', 'OBS')) to 'train_obgyn_exam.csv' with csv header\n",
    "```"
   ]
  },
  {
   "cell_type": "code",
   "execution_count": null,
   "metadata": {
    "collapsed": true
   },
   "outputs": [],
   "source": [
    "q_obg_exam =  \"select t1.*, t2.specialty_code, t2.cbsa from diagnosis t1 \\\n",
    "    join physician t2 on (t1.primary_practitioner_id=t2.physician_id) \\\n",
    "    right join patients_train t3 on (t1.patient_id=t3.patient_id) \\\n",
    "    where diagnosis_code = 'V70.0' and t2.specialty_code in ('OBG','GYN','REN', 'OBS'))\"\n",
    "\n",
    "train_obg_exam = .read_sql_query(q_obg_exam, db)"
   ]
  },
  {
   "cell_type": "code",
   "execution_count": null,
   "metadata": {
    "collapsed": false
   },
   "outputs": [],
   "source": [
    "q_fp_exam =  \"select t1.*, t2.specialty_code, t2.cbsa from diagnosis t1 \\\n",
    "    join physician t2 on (t1.primary_practitioner_id=t2.physician_id) \\\n",
    "    right join patients_train t3 on (t1.patient_id=t3.patient_id) \\\n",
    "    where diagnosis_code = 'V70.0' and t2.specialty_code in ('FP', 'FM', 'PLN');\"\n",
    "\n",
    "train_fp_exam = pd.read_sql_query(q_fp_exam, db)\n",
    "train_fp_exam.shape"
   ]
  },
  {
   "cell_type": "code",
   "execution_count": null,
   "metadata": {
    "collapsed": false
   },
   "outputs": [],
   "source": [
    "train_obg_exam = pd.read_csv(fdir+'train_obg_exam.csv')\n",
    "train_obg_exam.shape"
   ]
  },
  {
   "cell_type": "code",
   "execution_count": null,
   "metadata": {
    "collapsed": false
   },
   "outputs": [],
   "source": [
    "train_fp_exam.shape"
   ]
  },
  {
   "cell_type": "code",
   "execution_count": null,
   "metadata": {
    "collapsed": true
   },
   "outputs": [],
   "source": [
    "# select t1.*, t2.specialty_code, t2.cbsa from diagnosis t1 \\\n",
    "# join physician t2 on (t1.primary_practitioner_id=t2.physician_id) \\\n",
    "# right join patients_train t3 on (t1.patient_id=t3.patient_id) \\\n",
    "# where t2.specialty_code in ('OBG','GYN','REN', 'OBS')"
   ]
  },
  {
   "cell_type": "code",
   "execution_count": null,
   "metadata": {
    "collapsed": false
   },
   "outputs": [],
   "source": [
    "train_obg = pd.read_csv(fdir+'train_obg.csv')\n",
    "train_obg.shape"
   ]
  },
  {
   "cell_type": "code",
   "execution_count": null,
   "metadata": {
    "collapsed": false
   },
   "outputs": [],
   "source": [
    "train_obg[:10]"
   ]
  },
  {
   "cell_type": "code",
   "execution_count": null,
   "metadata": {
    "collapsed": false
   },
   "outputs": [],
   "source": [
    "[u'patient_id', u'diagnosis_date', u'diagnosis_code', \n",
    " u'primary_practitioner_id',  u'primary_physician_role', u'specialty_code', u'cbsa']"
   ]
  },
  {
   "cell_type": "code",
   "execution_count": null,
   "metadata": {
    "collapsed": false
   },
   "outputs": [],
   "source": [
    "train_obg.specialty_code.value_counts()"
   ]
  },
  {
   "cell_type": "code",
   "execution_count": null,
   "metadata": {
    "collapsed": false
   },
   "outputs": [],
   "source": [
    "top_codes = train_obg.diagnosis_code.value_counts()\n",
    "top_codes = top_codes.to_frame()\n",
    "top_codes[:5]"
   ]
  },
  {
   "cell_type": "code",
   "execution_count": null,
   "metadata": {
    "collapsed": false
   },
   "outputs": [],
   "source": [
    "top_codes.columns = ['diagnosis_code','diag_count']\n",
    "top\n",
    "top_codes[:5]"
   ]
  },
  {
   "cell_type": "code",
   "execution_count": null,
   "metadata": {
    "collapsed": false
   },
   "outputs": [],
   "source": [
    "diagnosis_code = pd.read_sql_query('select * from diagnosis_code;', db)\n",
    "diagnosis_code.shape"
   ]
  },
  {
   "cell_type": "code",
   "execution_count": null,
   "metadata": {
    "collapsed": false
   },
   "outputs": [],
   "source": [
    "diagnosis_code.set_index('diagnosis_code', inplace=True)\n",
    "diagnosis_code[:5]"
   ]
  },
  {
   "cell_type": "code",
   "execution_count": null,
   "metadata": {
    "collapsed": false
   },
   "outputs": [],
   "source": [
    "top_codes = top_codes.join(diagnosis_code, rsuffix='_d')"
   ]
  },
  {
   "cell_type": "code",
   "execution_count": null,
   "metadata": {
    "collapsed": false
   },
   "outputs": [],
   "source": [
    "top_codes[:200].to_csv('top_gyn_diagnosis_codes.csv', index='diagnosis_code')"
   ]
  },
  {
   "cell_type": "code",
   "execution_count": null,
   "metadata": {
    "collapsed": false
   },
   "outputs": [],
   "source": [
    "patient1 = train_obg[train_obg.patient_id == 84548626]"
   ]
  },
  {
   "cell_type": "code",
   "execution_count": null,
   "metadata": {
    "collapsed": false
   },
   "outputs": [],
   "source": [
    "patient1.shape"
   ]
  },
  {
   "cell_type": "code",
   "execution_count": null,
   "metadata": {
    "collapsed": false
   },
   "outputs": [],
   "source": [
    "patient1.sort_values(by='claim_id')"
   ]
  },
  {
   "cell_type": "code",
   "execution_count": null,
   "metadata": {
    "collapsed": false
   },
   "outputs": [],
   "source": [
    "diagnosis_code.loc[patient1.diagnosis_code.unique()]"
   ]
  },
  {
   "cell_type": "code",
   "execution_count": null,
   "metadata": {
    "collapsed": false
   },
   "outputs": [],
   "source": [
    "obg_date_count[:4]"
   ]
  },
  {
   "cell_type": "code",
   "execution_count": null,
   "metadata": {
    "collapsed": false
   },
   "outputs": [],
   "source": [
    "obg_date_count = train_obg.groupby(['patient_id','diagnosis_date']).count()\n",
    "obg_month_frequency = obg_date_count.reset_index()\n",
    "obg_month_frequency = obg_month_frequency.groupby('patient_id').cbsa.count()\n",
    "obg_month_frequency.name = 'obg_month_frequency'\n",
    "obg_month_frequency[:10]"
   ]
  },
  {
   "cell_type": "code",
   "execution_count": null,
   "metadata": {
    "collapsed": false
   },
   "outputs": [],
   "source": [
    "obg_claim_count = train_obg.groupby(['patient_id','claim_id']).count()\n",
    "obg_claim_count = obg_claim_count.reset_index()\n",
    "obg_claim_count = obg_claim_count.groupby('patient_id').cbsa.count()\n",
    "obg_claim_count.name = 'obg_claim_count'\n",
    "obg_claim_count[:10]"
   ]
  },
  {
   "cell_type": "code",
   "execution_count": null,
   "metadata": {
    "collapsed": false
   },
   "outputs": [],
   "source": [
    "train_obg_practitioner = train_obg.groupby(['patient_id', 'primary_practitioner_id']).claim_id.count()\n",
    "train_obg_practitioner.name = 'obg_practitioner_diagnosis_count'\n",
    "train_obg_practitioner = train_obg_practitioner.to_frame()\n",
    "train_obg_practitioner = train_obg_practitioner.reset_index(level=1)\n",
    "train_obg_practitioner[:5]"
   ]
  },
  {
   "cell_type": "code",
   "execution_count": null,
   "metadata": {
    "collapsed": false
   },
   "outputs": [],
   "source": [
    "physician = train_obg[['primary_practitioner_id','specialty_code','cbsa']].copy()\n",
    "physician.drop_duplicates(inplace=True)\n",
    "physician.set_index('primary_practitioner_id')\n",
    "physician[:5]"
   ]
  },
  {
   "cell_type": "code",
   "execution_count": null,
   "metadata": {
    "collapsed": false
   },
   "outputs": [],
   "source": [
    "train_obg_practitioner['screened'] = train.is_screener\n",
    "train_obg_practitioner[:10]"
   ]
  },
  {
   "cell_type": "code",
   "execution_count": null,
   "metadata": {
    "collapsed": false
   },
   "outputs": [],
   "source": [
    "obg_screen_mean = train_obg_practitioner.groupby('primary_practitioner_id').screened.mean()\n",
    "obg_screen_mean[:10]"
   ]
  },
  {
   "cell_type": "code",
   "execution_count": null,
   "metadata": {
    "collapsed": false
   },
   "outputs": [],
   "source": [
    "obg_screen_mean.name = 'obg_screen_pct'\n",
    "obg_screen_mean[:5]"
   ]
  },
  {
   "cell_type": "code",
   "execution_count": null,
   "metadata": {
    "collapsed": false
   },
   "outputs": [],
   "source": [
    "train_obg_practitioner.shape"
   ]
  },
  {
   "cell_type": "code",
   "execution_count": null,
   "metadata": {
    "collapsed": false
   },
   "outputs": [],
   "source": [
    "obg_patient_count = train_obg_practitioner.groupby('primary_practitioner_id').screened.count()\n",
    "obg_patient_count.name = 'obg_patient_count'\n",
    "obg_patient_count[:10]"
   ]
  },
  {
   "cell_type": "code",
   "execution_count": null,
   "metadata": {
    "collapsed": false
   },
   "outputs": [],
   "source": [
    "obg_patient_count.describe()"
   ]
  },
  {
   "cell_type": "code",
   "execution_count": null,
   "metadata": {
    "collapsed": false
   },
   "outputs": [],
   "source": [
    "obg_patient_count[:20]"
   ]
  },
  {
   "cell_type": "code",
   "execution_count": null,
   "metadata": {
    "collapsed": false
   },
   "outputs": [],
   "source": [
    "# obg_patient_count.plot.bar(logy=True, use_index=False, sort_columns=True, figsize=(20,8))"
   ]
  },
  {
   "cell_type": "code",
   "execution_count": null,
   "metadata": {
    "collapsed": false
   },
   "outputs": [],
   "source": [
    "import gc\n",
    "gc.collect()"
   ]
  },
  {
   "cell_type": "code",
   "execution_count": null,
   "metadata": {
    "collapsed": false
   },
   "outputs": [],
   "source": [
    "physician = physician.set_index('primary_practitioner_id')\n",
    "physician[:5]"
   ]
  },
  {
   "cell_type": "code",
   "execution_count": null,
   "metadata": {
    "collapsed": false
   },
   "outputs": [],
   "source": [
    "physician = physician.join(obg_screen_mean)\n",
    "physician = physician.join(obg_patient_count)\n",
    "physician[:10]"
   ]
  },
  {
   "cell_type": "code",
   "execution_count": null,
   "metadata": {
    "collapsed": false
   },
   "outputs": [],
   "source": [
    "physician[:10]"
   ]
  },
  {
   "cell_type": "code",
   "execution_count": null,
   "metadata": {
    "collapsed": true
   },
   "outputs": [],
   "source": [
    "physician.to_csv('./features/obg_physician.csv')"
   ]
  },
  {
   "cell_type": "code",
   "execution_count": null,
   "metadata": {
    "collapsed": false
   },
   "outputs": [],
   "source": [
    "train_obg_practitioner[:7]"
   ]
  },
  {
   "cell_type": "code",
   "execution_count": null,
   "metadata": {
    "collapsed": false
   },
   "outputs": [],
   "source": [
    "train_obg_top_practitioner = train_obg_practitioner.reset_index()\n",
    "# train_obg_top_practitioner = train_obg_top_practitioner.reset_index()\n",
    "# train_obg_top_practitioner = train_obg_practitioner.groupby('patient_id')\n",
    "train_obg_top_practitioner[:10]"
   ]
  },
  {
   "cell_type": "code",
   "execution_count": null,
   "metadata": {
    "collapsed": false
   },
   "outputs": [],
   "source": [
    "train_obg_top_practitioner = train_obg_top_practitioner.groupby('patient_id').max()\n",
    "train_obg_top_practitioner[:5]"
   ]
  },
  {
   "cell_type": "code",
   "execution_count": null,
   "metadata": {
    "collapsed": false
   },
   "outputs": [],
   "source": [
    "train_obg_top_practitioner.shape"
   ]
  },
  {
   "cell_type": "code",
   "execution_count": null,
   "metadata": {
    "collapsed": false
   },
   "outputs": [],
   "source": [
    "train_obg_top_practitioner_full = train_obg_top_practitioner.join(physician, on='primary_practitioner_id')\n",
    "train_obg_top_practitioner_full[:5]"
   ]
  },
  {
   "cell_type": "code",
   "execution_count": null,
   "metadata": {
    "collapsed": false
   },
   "outputs": [],
   "source": [
    "train_obg_top_practitioner_full[:20]"
   ]
  },
  {
   "cell_type": "code",
   "execution_count": null,
   "metadata": {
    "collapsed": false
   },
   "outputs": [],
   "source": [
    "train_obg_top_practitioner_full.drop('screened', axis=1, inplace=True)"
   ]
  },
  {
   "cell_type": "code",
   "execution_count": null,
   "metadata": {
    "collapsed": false
   },
   "outputs": [],
   "source": [
    "all_cols = {'cbsa': 'obg_cbsa',\n",
    "            'primary_practitioner_id': 'obg_id',\n",
    "           'obg_practitioner_diagnosis_count': 'obg_diagnosis_count',\n",
    "           'specialty_code': 'obg_code'}\n",
    "\n",
    "train_obg_top_practitioner_full.rename(columns=all_cols, inplace=True)\n",
    "train_obg_top_practitioner_full[:2]"
   ]
  },
  {
   "cell_type": "code",
   "execution_count": null,
   "metadata": {
    "collapsed": false
   },
   "outputs": [],
   "source": [
    "bigone = train_obg_top_practitioner_full.join(obg_month_frequency)\n",
    "bigone[:5]"
   ]
  },
  {
   "cell_type": "code",
   "execution_count": null,
   "metadata": {
    "collapsed": false
   },
   "outputs": [],
   "source": [
    "bigone = bigone.join(obg_claim_count)\n",
    "bigone[:5]"
   ]
  },
  {
   "cell_type": "code",
   "execution_count": null,
   "metadata": {
    "collapsed": false
   },
   "outputs": [],
   "source": [
    "bigone['visited_obg'] = 1\n",
    "bigone[:5]"
   ]
  },
  {
   "cell_type": "code",
   "execution_count": null,
   "metadata": {
    "collapsed": false
   },
   "outputs": [],
   "source": [
    "bigone.to_csv('./features/train_obg_pct.csv')"
   ]
  },
  {
   "cell_type": "code",
   "execution_count": null,
   "metadata": {
    "collapsed": false
   },
   "outputs": [],
   "source": [
    "bigone[:5]"
   ]
  },
  {
   "cell_type": "code",
   "execution_count": null,
   "metadata": {
    "collapsed": false
   },
   "outputs": [],
   "source": [
    "% pwd"
   ]
  },
  {
   "cell_type": "code",
   "execution_count": null,
   "metadata": {
    "collapsed": true
   },
   "outputs": [],
   "source": [
    "train_diagnosis = pd.read_csv(fdir+'train_diagnosis_top.csv.gz')\n",
    "train_diagnosis.set_index('patient_id', inplace=True)\n",
    "#    train_diagnosis[train_diagnosis > 0] = 1     # set dummies\n",
    "  "
   ]
  },
  {
   "cell_type": "code",
   "execution_count": null,
   "metadata": {
    "collapsed": false
   },
   "outputs": [],
   "source": [
    "train_diagnosis[:10]"
   ]
  },
  {
   "cell_type": "code",
   "execution_count": null,
   "metadata": {
    "collapsed": true
   },
   "outputs": [],
   "source": [
    "train_diagnosis_dummies = pd.get_dummies(train_diagnosis)"
   ]
  },
  {
   "cell_type": "code",
   "execution_count": null,
   "metadata": {
    "collapsed": false
   },
   "outputs": [],
   "source": [
    "train_diagnosis_dummies[:10]"
   ]
  },
  {
   "cell_type": "code",
   "execution_count": null,
   "metadata": {
    "collapsed": true
   },
   "outputs": [],
   "source": [
    "train_diagnosis[train_diagnosis > 0] = 1"
   ]
  },
  {
   "cell_type": "code",
   "execution_count": null,
   "metadata": {
    "collapsed": true
   },
   "outputs": [],
   "source": []
  },
  {
   "cell_type": "code",
   "execution_count": null,
   "metadata": {
    "collapsed": true
   },
   "outputs": [],
   "source": []
  },
  {
   "cell_type": "code",
   "execution_count": null,
   "metadata": {
    "collapsed": true
   },
   "outputs": [],
   "source": [
    "obg = pd.read_csv(fdir+'test_obg.csv.gz')"
   ]
  },
  {
   "cell_type": "code",
   "execution_count": null,
   "metadata": {
    "collapsed": false
   },
   "outputs": [],
   "source": [
    "obg_date_count = obg.groupby(['patient_id','diagnosis_date']).count()\n",
    "obg_month_frequency = obg_date_count.reset_index()\n",
    "obg_month_frequency = obg_month_frequency.groupby('patient_id').cbsa.count()\n",
    "obg_month_frequency.name = 'obg_month_frequency'\n",
    "\n",
    "obg_claim_count = obg.groupby(['patient_id','claim_id']).count()\n",
    "obg_claim_count = obg_claim_count.reset_index()\n",
    "obg_claim_count = obg_claim_count.groupby('patient_id').cbsa.count()\n",
    "obg_claim_count.name = 'obg_claim_count'\n",
    "\n",
    "obg_practitioner = obg.groupby(['patient_id', 'primary_practitioner_id']).claim_id.count()\n",
    "obg_practitioner.name = 'obg_practitioner_diagnosis_count'\n",
    "obg_practitioner = obg_practitioner.to_frame()\n",
    "obg_practitioner = obg_practitioner.reset_index(level=1)\n"
   ]
  },
  {
   "cell_type": "code",
   "execution_count": null,
   "metadata": {
    "collapsed": true
   },
   "outputs": [],
   "source": [
    "physician = pd.read_csv(fdir+'obg_physician.csv.gz')\n",
    "physician = physician.set_index('primary_practitioner_id')"
   ]
  },
  {
   "cell_type": "code",
   "execution_count": null,
   "metadata": {
    "collapsed": false
   },
   "outputs": [],
   "source": [
    "obg_top_practitioner = obg_practitioner.reset_index()\n",
    "obg_top_practitioner = obg_top_practitioner.groupby('patient_id').max()\n",
    "obg_top_practitioner_full = obg_top_practitioner.join(physician, on='primary_practitioner_id')\n",
    "\n",
    "all_cols = {'cbsa': 'obg_cbsa',\n",
    "            'primary_practitioner_id': 'obg_id',\n",
    "           'obg_practitioner_diagnosis_count': 'obg_diagnosis_count',\n",
    "           'specialty_code': 'obg_code'}\n",
    "\n",
    "obg_top_practitioner_full.rename(columns=all_cols, inplace=True)\n",
    "obg_top_practitioner_full[:2]\n",
    "\n",
    "bigone = obg_top_practitioner_full.join(obg_month_frequency)\n",
    "bigone = bigone.join(obg_claim_count)\n",
    "bigone['visited_obg'] = 1\n"
   ]
  },
  {
   "cell_type": "code",
   "execution_count": null,
   "metadata": {
    "collapsed": false
   },
   "outputs": [],
   "source": [
    "bigone[:10]"
   ]
  },
  {
   "cell_type": "code",
   "execution_count": null,
   "metadata": {
    "collapsed": true
   },
   "outputs": [],
   "source": [
    "bigone.to_csv(fdir+'test_obg_pct.csv')"
   ]
  },
  {
   "cell_type": "code",
   "execution_count": null,
   "metadata": {
    "collapsed": true
   },
   "outputs": [],
   "source": []
  },
  {
   "cell_type": "code",
   "execution_count": null,
   "metadata": {
    "collapsed": true
   },
   "outputs": [],
   "source": []
  },
  {
   "cell_type": "code",
   "execution_count": null,
   "metadata": {
    "collapsed": true
   },
   "outputs": [],
   "source": []
  },
  {
   "cell_type": "code",
   "execution_count": null,
   "metadata": {
    "collapsed": false
   },
   "outputs": [],
   "source": [
    "cancer_train=pd.read_csv('./features/train_diagnosis_cancer.csv.gz',index_col=None)\n",
    "\n",
    "cancer_train['have_cancer']=1\n",
    "cancer_train['sum_cancer']=1\n",
    "\n",
    "idxC=cancer_train.groupby(['patient_id'])['patient_id'].mean().astype(int)\n",
    "hc=cancer_train.groupby(['patient_id'])['have_cancer'].mean().astype(int)\n",
    "sumhc=cancer_train.groupby(['patient_id'])['sum_cancer'].sum().astype(int)\n",
    "cancer_train = pd.DataFrame({\"patient_id\": idxC.values, 'have_cancer': hc.values,'sum_cancer': sumhc.values })\n",
    "print(cancer_train.head(5))\n",
    "\n",
    "cancer_test=pd.read_csv('./features/test_diagnosis_cancer.csv.gz',index_col=None)\n",
    "cancer_test['have_cancer']=1\n",
    "cancer_test['sum_cancer']=1\n",
    "print(cancer_test.info())\n",
    "idxC=cancer_test.groupby(['patient_id'])['patient_id'].mean().astype(int)\n",
    "hc=cancer_test.groupby(['patient_id'])['have_cancer'].mean().astype(int)\n",
    "sumhc=cancer_test.groupby(['patient_id'])['sum_cancer'].sum().astype(int)\n",
    "cancer_test = pd.DataFrame({\"patient_id\": idxC.values, 'have_cancer': hc.values,'sum_cancer': sumhc.values })\n"
   ]
  },
  {
   "cell_type": "code",
   "execution_count": null,
   "metadata": {
    "collapsed": false
   },
   "outputs": [],
   "source": [
    "cancer_train[['patient_id','have_cancer']][:5]"
   ]
  },
  {
   "cell_type": "code",
   "execution_count": null,
   "metadata": {
    "collapsed": false
   },
   "outputs": [],
   "source": [
    "cancer_test[['patient_id','have_cancer']][:5]"
   ]
  },
  {
   "cell_type": "code",
   "execution_count": null,
   "metadata": {
    "collapsed": true
   },
   "outputs": [],
   "source": [
    "cancer_train.to_csv('train_have_cancer.csv',index=False)\n",
    "cancer_test.to_csv('test_have_cancer.csv',index=False)"
   ]
  },
  {
   "cell_type": "code",
   "execution_count": null,
   "metadata": {
    "collapsed": true
   },
   "outputs": [],
   "source": []
  }
 ],
 "metadata": {
  "hide_input": false,
  "kernelspec": {
   "display_name": "Python 2",
   "language": "python",
   "name": "python2"
  },
  "language_info": {
   "codemirror_mode": {
    "name": "ipython",
    "version": 2
   },
   "file_extension": ".py",
   "mimetype": "text/x-python",
   "name": "python",
   "nbconvert_exporter": "python",
   "pygments_lexer": "ipython2",
   "version": "2.7.11"
  }
 },
 "nbformat": 4,
 "nbformat_minor": 0
}
