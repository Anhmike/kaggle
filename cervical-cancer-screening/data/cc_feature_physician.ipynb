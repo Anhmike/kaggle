{
 "cells": [
  {
   "cell_type": "markdown",
   "metadata": {},
   "source": [
    "# Genentech Cervical Cancer - Feature OBGYN\n",
    "\n",
    "https://www.kaggle.com/c/cervical-cancer-screening/"
   ]
  },
  {
   "cell_type": "code",
   "execution_count": 1,
   "metadata": {
    "collapsed": true
   },
   "outputs": [],
   "source": [
    "# imports\n",
    "import sys # for stderr\n",
    "import numpy as np\n",
    "import pandas as pd\n",
    "import sklearn as skl\n",
    "from sklearn import metrics\n",
    "import matplotlib.pyplot as plt\n",
    "%matplotlib inline"
   ]
  },
  {
   "cell_type": "code",
   "execution_count": 2,
   "metadata": {
    "collapsed": false
   },
   "outputs": [
    {
     "name": "stdout",
     "output_type": "stream",
     "text": [
      "Logging hadn't been started.\n",
      "Activating auto-logging. Current session state plus future input saved.\n",
      "Filename       : cc_obgyn.log\n",
      "Mode           : rotate\n",
      "Output logging : True\n",
      "Raw input log  : False\n",
      "Timestamping   : False\n",
      "State          : active\n"
     ]
    }
   ],
   "source": [
    "# settings \n",
    "%logstop\n",
    "%logstart  -o 'cc_obgyn.log' rotate\n",
    "plt.style.use('ggplot')\n",
    "# constants\n",
    "# plt.rcParams['figure.figsize'] = (10.0, 10.0)\n",
    "# pd.set_option('display.max_rows', 50)\n",
    "# pd.set_option('display.max_columns', 50)"
   ]
  },
  {
   "cell_type": "code",
   "execution_count": 3,
   "metadata": {
    "collapsed": false
   },
   "outputs": [
    {
     "name": "stdout",
     "output_type": "stream",
     "text": [
      "2016-01-27 08:07:18.134305\n",
      "Python: 2.7.11 |Anaconda 2.4.0 (x86_64)| (default, Dec  6 2015, 18:57:58) \n",
      "[GCC 4.2.1 (Apple Inc. build 5577)]\n",
      "numpy: 1.10.2\n",
      "pandas: 0.17.1\n",
      "sklearn: 0.17\n"
     ]
    }
   ],
   "source": [
    "# versions \n",
    "import sys\n",
    "print(pd.datetime.now())\n",
    "print('Python: '+sys.version)\n",
    "print('numpy: '+np.__version__)\n",
    "print('pandas: '+pd.__version__)\n",
    "print('sklearn: '+skl.__version__)"
   ]
  },
  {
   "cell_type": "code",
   "execution_count": 4,
   "metadata": {
    "collapsed": false
   },
   "outputs": [],
   "source": [
    "from sqlalchemy import create_engine\n",
    "engine = create_engine('postgresql://paulperry:@localhost:5432/ccancer')"
   ]
  },
  {
   "cell_type": "code",
   "execution_count": 6,
   "metadata": {
    "collapsed": true
   },
   "outputs": [],
   "source": [
    "from pyace import ace"
   ]
  },
  {
   "cell_type": "markdown",
   "metadata": {},
   "source": [
    "## Load "
   ]
  },
  {
   "cell_type": "code",
   "execution_count": 5,
   "metadata": {
    "collapsed": true
   },
   "outputs": [],
   "source": [
    "fdir = './features/'"
   ]
  },
  {
   "cell_type": "code",
   "execution_count": 8,
   "metadata": {
    "collapsed": false
   },
   "outputs": [
    {
     "data": {
      "text/html": [
       "<div>\n",
       "<table border=\"1\" class=\"dataframe\">\n",
       "  <thead>\n",
       "    <tr style=\"text-align: right;\">\n",
       "      <th></th>\n",
       "      <th>patient_age_group</th>\n",
       "      <th>patient_state</th>\n",
       "      <th>ethinicity</th>\n",
       "      <th>household_income</th>\n",
       "      <th>education_level</th>\n",
       "      <th>is_screener</th>\n",
       "    </tr>\n",
       "    <tr>\n",
       "      <th>patient_id</th>\n",
       "      <th></th>\n",
       "      <th></th>\n",
       "      <th></th>\n",
       "      <th></th>\n",
       "      <th></th>\n",
       "      <th></th>\n",
       "    </tr>\n",
       "  </thead>\n",
       "  <tbody>\n",
       "    <tr>\n",
       "      <th>336201912</th>\n",
       "      <td>51-53</td>\n",
       "      <td>SD</td>\n",
       "      <td>ALL OTHER</td>\n",
       "      <td>UNKNOWN</td>\n",
       "      <td>UNKNOWN</td>\n",
       "      <td>1</td>\n",
       "    </tr>\n",
       "    <tr>\n",
       "      <th>373337412</th>\n",
       "      <td>21-23</td>\n",
       "      <td>LA</td>\n",
       "      <td>ALL OTHER</td>\n",
       "      <td>UNKNOWN</td>\n",
       "      <td>UNKNOWN</td>\n",
       "      <td>1</td>\n",
       "    </tr>\n",
       "    <tr>\n",
       "      <th>368845412</th>\n",
       "      <td>12-14</td>\n",
       "      <td>OH</td>\n",
       "      <td>ALL OTHER</td>\n",
       "      <td>UNKNOWN</td>\n",
       "      <td>UNKNOWN</td>\n",
       "      <td>0</td>\n",
       "    </tr>\n",
       "  </tbody>\n",
       "</table>\n",
       "</div>"
      ],
      "text/plain": [
       "           patient_age_group patient_state ethinicity household_income  \\\n",
       "patient_id                                                               \n",
       "336201912              51-53            SD  ALL OTHER          UNKNOWN   \n",
       "373337412              21-23            LA  ALL OTHER          UNKNOWN   \n",
       "368845412              12-14            OH  ALL OTHER          UNKNOWN   \n",
       "\n",
       "           education_level  is_screener  \n",
       "patient_id                               \n",
       "336201912          UNKNOWN            1  \n",
       "373337412          UNKNOWN            1  \n",
       "368845412          UNKNOWN            0  "
      ]
     },
     "execution_count": 8,
     "metadata": {},
     "output_type": "execute_result"
    }
   ],
   "source": [
    "train_file = './input/patients_train.csv.gz'\n",
    "train = pd.read_csv(train_file)\n",
    "train.drop('patient_gender', axis=1, inplace=True)\n",
    "train.set_index('patient_id', inplace=True)\n",
    "train[:3]"
   ]
  },
  {
   "cell_type": "code",
   "execution_count": 277,
   "metadata": {
    "collapsed": false,
    "scrolled": true
   },
   "outputs": [
    {
     "name": "stdout",
     "output_type": "stream",
     "text": [
      "2016-01-25 13:26:48.285460\n"
     ]
    }
   ],
   "source": [
    "import datetime\n",
    "start = datetime.datetime.now()\n",
    "print(start)"
   ]
  },
  {
   "cell_type": "code",
   "execution_count": 15,
   "metadata": {
    "collapsed": false
   },
   "outputs": [
    {
     "name": "stdout",
     "output_type": "stream",
     "text": [
      "(201465, 1)\n"
     ]
    }
   ],
   "source": [
    "fpsoto = pd.read_csv(fdir+'train_fpsoto.csv')\n",
    "fpsoto.drop_duplicates(inplace=True)\n",
    "print(fpsoto.shape)"
   ]
  },
  {
   "cell_type": "code",
   "execution_count": 16,
   "metadata": {
    "collapsed": false
   },
   "outputs": [
    {
     "data": {
      "text/html": [
       "<div>\n",
       "<table border=\"1\" class=\"dataframe\">\n",
       "  <thead>\n",
       "    <tr style=\"text-align: right;\">\n",
       "      <th></th>\n",
       "      <th>fpsoto</th>\n",
       "    </tr>\n",
       "    <tr>\n",
       "      <th>patient_id</th>\n",
       "      <th></th>\n",
       "    </tr>\n",
       "  </thead>\n",
       "  <tbody>\n",
       "    <tr>\n",
       "      <th>440384986</th>\n",
       "      <td>1</td>\n",
       "    </tr>\n",
       "    <tr>\n",
       "      <th>213169955</th>\n",
       "      <td>1</td>\n",
       "    </tr>\n",
       "  </tbody>\n",
       "</table>\n",
       "</div>"
      ],
      "text/plain": [
       "            fpsoto\n",
       "patient_id        \n",
       "440384986        1\n",
       "213169955        1"
      ]
     },
     "execution_count": 16,
     "metadata": {},
     "output_type": "execute_result"
    }
   ],
   "source": [
    "fpsoto.set_index('patient_id', inplace=True)\n",
    "fpsoto['fpsoto'] = 1\n",
    "fpsoto[:2]"
   ]
  },
  {
   "cell_type": "code",
   "execution_count": 17,
   "metadata": {
    "collapsed": true
   },
   "outputs": [],
   "source": [
    "fpsoto.to_csv(fdir+'train_fpsoto.csv')"
   ]
  },
  {
   "cell_type": "code",
   "execution_count": 18,
   "metadata": {
    "collapsed": false
   },
   "outputs": [
    {
     "name": "stdout",
     "output_type": "stream",
     "text": [
      "(726056, 1)\n"
     ]
    }
   ],
   "source": [
    "obgyn = pd.read_csv(fdir+'train_obgyn.csv')\n",
    "obgyn.drop_duplicates(inplace=True)\n",
    "print(obgyn.shape)"
   ]
  },
  {
   "cell_type": "code",
   "execution_count": 19,
   "metadata": {
    "collapsed": false
   },
   "outputs": [
    {
     "data": {
      "text/html": [
       "<div>\n",
       "<table border=\"1\" class=\"dataframe\">\n",
       "  <thead>\n",
       "    <tr style=\"text-align: right;\">\n",
       "      <th></th>\n",
       "      <th>obgyn</th>\n",
       "    </tr>\n",
       "    <tr>\n",
       "      <th>patient_id</th>\n",
       "      <th></th>\n",
       "    </tr>\n",
       "  </thead>\n",
       "  <tbody>\n",
       "    <tr>\n",
       "      <th>192934006</th>\n",
       "      <td>1</td>\n",
       "    </tr>\n",
       "    <tr>\n",
       "      <th>108647102</th>\n",
       "      <td>1</td>\n",
       "    </tr>\n",
       "  </tbody>\n",
       "</table>\n",
       "</div>"
      ],
      "text/plain": [
       "            obgyn\n",
       "patient_id       \n",
       "192934006       1\n",
       "108647102       1"
      ]
     },
     "execution_count": 19,
     "metadata": {},
     "output_type": "execute_result"
    }
   ],
   "source": [
    "obgyn.set_index('patient_id', inplace=True)\n",
    "obgyn['obgyn'] = 1\n",
    "obgyn[:2]"
   ]
  },
  {
   "cell_type": "code",
   "execution_count": 20,
   "metadata": {
    "collapsed": true
   },
   "outputs": [],
   "source": [
    "obgyn.to_csv(fdir+'train_obgyn.csv')"
   ]
  },
  {
   "cell_type": "code",
   "execution_count": null,
   "metadata": {
    "collapsed": true
   },
   "outputs": [],
   "source": []
  },
  {
   "cell_type": "code",
   "execution_count": null,
   "metadata": {
    "collapsed": true
   },
   "outputs": [],
   "source": []
  },
  {
   "cell_type": "code",
   "execution_count": 21,
   "metadata": {
    "collapsed": false
   },
   "outputs": [],
   "source": [
    "dfall = pd.merge(train, obgyn, left_index=True, right_index=True, how='left')"
   ]
  },
  {
   "cell_type": "code",
   "execution_count": 22,
   "metadata": {
    "collapsed": false
   },
   "outputs": [],
   "source": [
    "dfall = pd.merge(dfall, fpsoto, left_index=True, right_index=True, how='left')"
   ]
  },
  {
   "cell_type": "code",
   "execution_count": 23,
   "metadata": {
    "collapsed": false
   },
   "outputs": [
    {
     "data": {
      "text/html": [
       "<div>\n",
       "<table border=\"1\" class=\"dataframe\">\n",
       "  <thead>\n",
       "    <tr style=\"text-align: right;\">\n",
       "      <th></th>\n",
       "      <th>patient_age_group</th>\n",
       "      <th>patient_state</th>\n",
       "      <th>ethinicity</th>\n",
       "      <th>household_income</th>\n",
       "      <th>education_level</th>\n",
       "      <th>is_screener</th>\n",
       "      <th>obgyn</th>\n",
       "      <th>fpsoto</th>\n",
       "    </tr>\n",
       "    <tr>\n",
       "      <th>patient_id</th>\n",
       "      <th></th>\n",
       "      <th></th>\n",
       "      <th></th>\n",
       "      <th></th>\n",
       "      <th></th>\n",
       "      <th></th>\n",
       "      <th></th>\n",
       "      <th></th>\n",
       "    </tr>\n",
       "  </thead>\n",
       "  <tbody>\n",
       "    <tr>\n",
       "      <th>336201912</th>\n",
       "      <td>51-53</td>\n",
       "      <td>SD</td>\n",
       "      <td>ALL OTHER</td>\n",
       "      <td>UNKNOWN</td>\n",
       "      <td>UNKNOWN</td>\n",
       "      <td>1</td>\n",
       "      <td>1</td>\n",
       "      <td>NaN</td>\n",
       "    </tr>\n",
       "    <tr>\n",
       "      <th>373337412</th>\n",
       "      <td>21-23</td>\n",
       "      <td>LA</td>\n",
       "      <td>ALL OTHER</td>\n",
       "      <td>UNKNOWN</td>\n",
       "      <td>UNKNOWN</td>\n",
       "      <td>1</td>\n",
       "      <td>NaN</td>\n",
       "      <td>NaN</td>\n",
       "    </tr>\n",
       "  </tbody>\n",
       "</table>\n",
       "</div>"
      ],
      "text/plain": [
       "           patient_age_group patient_state ethinicity household_income  \\\n",
       "patient_id                                                               \n",
       "336201912              51-53            SD  ALL OTHER          UNKNOWN   \n",
       "373337412              21-23            LA  ALL OTHER          UNKNOWN   \n",
       "\n",
       "           education_level  is_screener  obgyn  fpsoto  \n",
       "patient_id                                              \n",
       "336201912          UNKNOWN            1      1     NaN  \n",
       "373337412          UNKNOWN            1    NaN     NaN  "
      ]
     },
     "execution_count": 23,
     "metadata": {},
     "output_type": "execute_result"
    }
   ],
   "source": [
    "dfall[:2]"
   ]
  },
  {
   "cell_type": "code",
   "execution_count": 24,
   "metadata": {
    "collapsed": true
   },
   "outputs": [],
   "source": [
    "cat_cols = ['patient_age_group','patient_state','ethinicity','household_income','education_level']"
   ]
  },
  {
   "cell_type": "code",
   "execution_count": 25,
   "metadata": {
    "collapsed": false
   },
   "outputs": [
    {
     "data": {
      "text/html": [
       "<div>\n",
       "<table border=\"1\" class=\"dataframe\">\n",
       "  <thead>\n",
       "    <tr style=\"text-align: right;\">\n",
       "      <th></th>\n",
       "      <th>ace</th>\n",
       "      <th>mean</th>\n",
       "    </tr>\n",
       "  </thead>\n",
       "  <tbody>\n",
       "    <tr>\n",
       "      <th>patient_age_group</th>\n",
       "      <td>0.073773</td>\n",
       "      <td>-0.000252</td>\n",
       "    </tr>\n",
       "    <tr>\n",
       "      <th>education_level</th>\n",
       "      <td>0.004696</td>\n",
       "      <td>-0.000252</td>\n",
       "    </tr>\n",
       "    <tr>\n",
       "      <th>patient_state</th>\n",
       "      <td>0.004251</td>\n",
       "      <td>-0.000252</td>\n",
       "    </tr>\n",
       "    <tr>\n",
       "      <th>household_income</th>\n",
       "      <td>0.004134</td>\n",
       "      <td>-0.000252</td>\n",
       "    </tr>\n",
       "    <tr>\n",
       "      <th>ethinicity</th>\n",
       "      <td>0.003891</td>\n",
       "      <td>-0.000252</td>\n",
       "    </tr>\n",
       "  </tbody>\n",
       "</table>\n",
       "</div>"
      ],
      "text/plain": [
       "                        ace      mean\n",
       "patient_age_group  0.073773 -0.000252\n",
       "education_level    0.004696 -0.000252\n",
       "patient_state      0.004251 -0.000252\n",
       "household_income   0.004134 -0.000252\n",
       "ethinicity         0.003891 -0.000252"
      ]
     },
     "execution_count": 25,
     "metadata": {},
     "output_type": "execute_result"
    }
   ],
   "source": [
    "ranks = ace(dfall, 'is_screener', cat_cols=[])\n",
    "df_ranks = pd.DataFrame(ranks, index=dfall.columns, columns=['ace','mean'])\n",
    "df_ranks = df_ranks.sort_values(by='ace', ascending=False)\n",
    "top_ranks = df_ranks[df_ranks.ace > 0]\n",
    "top_ranks[:20]"
   ]
  },
  {
   "cell_type": "code",
   "execution_count": 283,
   "metadata": {
    "collapsed": false
   },
   "outputs": [],
   "source": [
    "top_ranks.to_csv('diagnosis_ranks_'+str(nnn)+'.csv')"
   ]
  },
  {
   "cell_type": "code",
   "execution_count": 284,
   "metadata": {
    "collapsed": false
   },
   "outputs": [
    {
     "data": {
      "text/plain": [
       "240"
      ]
     },
     "execution_count": 284,
     "metadata": {},
     "output_type": "execute_result"
    }
   ],
   "source": [
    "import gc\n",
    "gc.collect()"
   ]
  },
  {
   "cell_type": "code",
   "execution_count": 285,
   "metadata": {
    "collapsed": false
   },
   "outputs": [
    {
     "name": "stdout",
     "output_type": "stream",
     "text": [
      "run time: 0:02:18.890138 at: 2016-01-25 13:29:07.175598\n"
     ]
    }
   ],
   "source": [
    "end   = datetime.datetime.now()\n",
    "print('run time: '+str(end-start)+' at: '+str(end))"
   ]
  },
  {
   "cell_type": "code",
   "execution_count": 286,
   "metadata": {
    "collapsed": false
   },
   "outputs": [
    {
     "ename": "SyntaxError",
     "evalue": "'break' outside loop (<ipython-input-286-b20fcc2397e7>, line 1)",
     "output_type": "error",
     "traceback": [
      "\u001b[0;36m  File \u001b[0;32m\"<ipython-input-286-b20fcc2397e7>\"\u001b[0;36m, line \u001b[0;32m1\u001b[0m\n\u001b[0;31m    break\u001b[0m\n\u001b[0;31mSyntaxError\u001b[0m\u001b[0;31m:\u001b[0m 'break' outside loop\n"
     ]
    }
   ],
   "source": [
    "break"
   ]
  },
  {
   "cell_type": "code",
   "execution_count": 304,
   "metadata": {
    "collapsed": false
   },
   "outputs": [
    {
     "data": {
      "text/html": [
       "<div>\n",
       "<table border=\"1\" class=\"dataframe\">\n",
       "  <thead>\n",
       "    <tr style=\"text-align: right;\">\n",
       "      <th></th>\n",
       "      <th>ace</th>\n",
       "      <th>mean</th>\n",
       "    </tr>\n",
       "    <tr>\n",
       "      <th>Unnamed: 0</th>\n",
       "      <th></th>\n",
       "      <th></th>\n",
       "    </tr>\n",
       "  </thead>\n",
       "  <tbody>\n",
       "    <tr>\n",
       "      <th>patient_age_group</th>\n",
       "      <td>0.073773</td>\n",
       "      <td>-0.000252</td>\n",
       "    </tr>\n",
       "    <tr>\n",
       "      <th>620.2</th>\n",
       "      <td>0.008646</td>\n",
       "      <td>-0.000252</td>\n",
       "    </tr>\n",
       "    <tr>\n",
       "      <th>education_level</th>\n",
       "      <td>0.004696</td>\n",
       "      <td>-0.000252</td>\n",
       "    </tr>\n",
       "    <tr>\n",
       "      <th>patient_state</th>\n",
       "      <td>0.004251</td>\n",
       "      <td>-0.000252</td>\n",
       "    </tr>\n",
       "    <tr>\n",
       "      <th>household_income</th>\n",
       "      <td>0.004134</td>\n",
       "      <td>-0.000252</td>\n",
       "    </tr>\n",
       "    <tr>\n",
       "      <th>ethinicity</th>\n",
       "      <td>0.003891</td>\n",
       "      <td>-0.000252</td>\n",
       "    </tr>\n",
       "    <tr>\n",
       "      <th>707.05</th>\n",
       "      <td>0.000960</td>\n",
       "      <td>-0.000252</td>\n",
       "    </tr>\n",
       "    <tr>\n",
       "      <th>511.9</th>\n",
       "      <td>0.000936</td>\n",
       "      <td>-0.000252</td>\n",
       "    </tr>\n",
       "    <tr>\n",
       "      <th>643.03</th>\n",
       "      <td>0.000753</td>\n",
       "      <td>-0.000252</td>\n",
       "    </tr>\n",
       "    <tr>\n",
       "      <th>346.90</th>\n",
       "      <td>0.000421</td>\n",
       "      <td>-0.000252</td>\n",
       "    </tr>\n",
       "  </tbody>\n",
       "</table>\n",
       "</div>"
      ],
      "text/plain": [
       "                        ace      mean\n",
       "Unnamed: 0                           \n",
       "patient_age_group  0.073773 -0.000252\n",
       "620.2              0.008646 -0.000252\n",
       "education_level    0.004696 -0.000252\n",
       "patient_state      0.004251 -0.000252\n",
       "household_income   0.004134 -0.000252\n",
       "ethinicity         0.003891 -0.000252\n",
       "707.05             0.000960 -0.000252\n",
       "511.9              0.000936 -0.000252\n",
       "643.03             0.000753 -0.000252\n",
       "346.90             0.000421 -0.000252"
      ]
     },
     "execution_count": 304,
     "metadata": {},
     "output_type": "execute_result"
    }
   ],
   "source": [
    "top_ranks = pd.read_csv('diagnosis_ranks_15.csv')\n",
    "top_ranks.set_index('Unnamed: 0', inplace=True)\n",
    "top_ranks[:10]"
   ]
  },
  {
   "cell_type": "code",
   "execution_count": 305,
   "metadata": {
    "collapsed": false
   },
   "outputs": [
    {
     "data": {
      "text/plain": [
       "\"('620.2')\""
      ]
     },
     "execution_count": 305,
     "metadata": {},
     "output_type": "execute_result"
    }
   ],
   "source": [
    "qlist = list(top_ranks[top_ranks.ace > 0.003891].index)\n",
    "for c in cat_cols: \n",
    "    qlist.remove(c)\n",
    "qlist_str = \"('\"+qlist[0]+\"'\"\n",
    "for c in qlist[1:]: \n",
    "    qlist_str=qlist_str+\",'\"+c+\"'\"\n",
    "qlist_str=qlist_str+')'\n",
    "qlist_str"
   ]
  },
  {
   "cell_type": "code",
   "execution_count": 306,
   "metadata": {
    "collapsed": false
   },
   "outputs": [
    {
     "data": {
      "text/html": [
       "<div>\n",
       "<table border=\"1\" class=\"dataframe\">\n",
       "  <thead>\n",
       "    <tr style=\"text-align: right;\">\n",
       "      <th></th>\n",
       "      <th>diagnosis_code</th>\n",
       "      <th>diagnosis_description</th>\n",
       "    </tr>\n",
       "  </thead>\n",
       "  <tbody>\n",
       "    <tr>\n",
       "      <th>0</th>\n",
       "      <td>620.2</td>\n",
       "      <td>OTHER AND UNSPECIFIED OVARIAN CYST</td>\n",
       "    </tr>\n",
       "  </tbody>\n",
       "</table>\n",
       "</div>"
      ],
      "text/plain": [
       "  diagnosis_code               diagnosis_description\n",
       "0          620.2  OTHER AND UNSPECIFIED OVARIAN CYST"
      ]
     },
     "execution_count": 306,
     "metadata": {},
     "output_type": "execute_result"
    }
   ],
   "source": [
    "q = 'select * from diagnosis_code where diagnosis_code in '+qlist_str\n",
    "\n",
    "diag_codes = pd.read_sql_query(q, engine)\n",
    "diag_codes"
   ]
  },
  {
   "cell_type": "code",
   "execution_count": 307,
   "metadata": {
    "collapsed": true
   },
   "outputs": [],
   "source": [
    "diag_codes.to_csv('diagnosis_top_codes.csv', mode='a', header=False)"
   ]
  },
  {
   "cell_type": "code",
   "execution_count": 290,
   "metadata": {
    "collapsed": false
   },
   "outputs": [
    {
     "data": {
      "text/plain": [
       "['626.0', '626.4', '625.9', '626.2', '623.5', '626.8', '625.3']"
      ]
     },
     "execution_count": 290,
     "metadata": {},
     "output_type": "execute_result"
    }
   ],
   "source": [
    "qlist"
   ]
  },
  {
   "cell_type": "code",
   "execution_count": 291,
   "metadata": {
    "collapsed": false
   },
   "outputs": [],
   "source": [
    "tab[qlist].to_csv('diagnosis_top_'+str(nnn)+'.csv')"
   ]
  },
  {
   "cell_type": "markdown",
   "metadata": {},
   "source": [
    "## Merge feature values"
   ]
  },
  {
   "cell_type": "code",
   "execution_count": 308,
   "metadata": {
    "collapsed": true
   },
   "outputs": [],
   "source": [
    "diag_top_features = [\n",
    "    'diagnosis_top_0.csv',\n",
    "    'diagnosis_top_3.csv',\n",
    "    'diagnosis_top_4.csv',\n",
    "    'diagnosis_top_6.csv',\n",
    "    'diagnosis_top_10.csv',\n",
    "    'diagnosis_top_12.csv',\n",
    "    'diagnosis_top_15.csv'\n",
    "    ]"
   ]
  },
  {
   "cell_type": "code",
   "execution_count": 322,
   "metadata": {
    "collapsed": false
   },
   "outputs": [
    {
     "name": "stdout",
     "output_type": "stream",
     "text": [
      "(785605, 3)\n",
      "diagnosis_top_10.csv\n",
      "diagnosis_top_12.csv\n",
      "diagnosis_top_15.csv\n",
      "diagnosis_top_3.csv\n",
      "diagnosis_top_4.csv\n",
      "diagnosis_top_6.csv\n"
     ]
    }
   ],
   "source": [
    "dff = pd.read_csv(diag_top_features[0])\n",
    "dff.set_index('patient_id', inplace=True)\n",
    "print(dff.shape)\n",
    "\n",
    "for f in diag_top_features[1:]:\n",
    "    df2 = pd.read_csv(f)\n",
    "    df2.set_index('patient_id', inplace=True)\n",
    "    dff = dff.merge(df2, left_index=True, right_index=True, how='outer')\n",
    "    gc.collect()\n",
    "    print(f)"
   ]
  },
  {
   "cell_type": "code",
   "execution_count": 323,
   "metadata": {
    "collapsed": false
   },
   "outputs": [
    {
     "data": {
      "text/plain": [
       "0"
      ]
     },
     "execution_count": 323,
     "metadata": {},
     "output_type": "execute_result"
    }
   ],
   "source": [
    "gc.collect()"
   ]
  },
  {
   "cell_type": "code",
   "execution_count": 324,
   "metadata": {
    "collapsed": false
   },
   "outputs": [
    {
     "data": {
      "text/plain": [
       "(1157384, 29)"
      ]
     },
     "execution_count": 324,
     "metadata": {},
     "output_type": "execute_result"
    }
   ],
   "source": [
    "dff.shape"
   ]
  },
  {
   "cell_type": "code",
   "execution_count": 331,
   "metadata": {
    "collapsed": false
   },
   "outputs": [
    {
     "data": {
      "text/html": [
       "<div>\n",
       "<table border=\"1\" class=\"dataframe\">\n",
       "  <thead>\n",
       "    <tr style=\"text-align: right;\">\n",
       "      <th></th>\n",
       "      <th>650</th>\n",
       "      <th>462</th>\n",
       "      <th>496</th>\n",
       "      <th>616.10</th>\n",
       "      <th>646.83</th>\n",
       "      <th>622.11</th>\n",
       "      <th>622.10</th>\n",
       "      <th>648.93</th>\n",
       "      <th>795.00</th>\n",
       "      <th>620.2</th>\n",
       "      <th>...</th>\n",
       "      <th>625.3</th>\n",
       "      <th>V70.0</th>\n",
       "      <th>V22.1</th>\n",
       "      <th>V74.5</th>\n",
       "      <th>V27.0</th>\n",
       "      <th>V22.2</th>\n",
       "      <th>V28.3</th>\n",
       "      <th>V22.0</th>\n",
       "      <th>V25.2</th>\n",
       "      <th>V24.2</th>\n",
       "    </tr>\n",
       "    <tr>\n",
       "      <th>patient_id</th>\n",
       "      <th></th>\n",
       "      <th></th>\n",
       "      <th></th>\n",
       "      <th></th>\n",
       "      <th></th>\n",
       "      <th></th>\n",
       "      <th></th>\n",
       "      <th></th>\n",
       "      <th></th>\n",
       "      <th></th>\n",
       "      <th></th>\n",
       "      <th></th>\n",
       "      <th></th>\n",
       "      <th></th>\n",
       "      <th></th>\n",
       "      <th></th>\n",
       "      <th></th>\n",
       "      <th></th>\n",
       "      <th></th>\n",
       "      <th></th>\n",
       "      <th></th>\n",
       "    </tr>\n",
       "  </thead>\n",
       "  <tbody>\n",
       "    <tr>\n",
       "      <th>84548607</th>\n",
       "      <td>NaN</td>\n",
       "      <td>NaN</td>\n",
       "      <td>NaN</td>\n",
       "      <td>NaN</td>\n",
       "      <td>NaN</td>\n",
       "      <td>NaN</td>\n",
       "      <td>NaN</td>\n",
       "      <td>NaN</td>\n",
       "      <td>NaN</td>\n",
       "      <td>NaN</td>\n",
       "      <td>...</td>\n",
       "      <td>NaN</td>\n",
       "      <td>NaN</td>\n",
       "      <td>NaN</td>\n",
       "      <td>NaN</td>\n",
       "      <td>NaN</td>\n",
       "      <td>NaN</td>\n",
       "      <td>NaN</td>\n",
       "      <td>NaN</td>\n",
       "      <td>NaN</td>\n",
       "      <td>NaN</td>\n",
       "    </tr>\n",
       "    <tr>\n",
       "      <th>84548626</th>\n",
       "      <td>NaN</td>\n",
       "      <td>6</td>\n",
       "      <td>NaN</td>\n",
       "      <td>2</td>\n",
       "      <td>NaN</td>\n",
       "      <td>NaN</td>\n",
       "      <td>NaN</td>\n",
       "      <td>NaN</td>\n",
       "      <td>NaN</td>\n",
       "      <td>NaN</td>\n",
       "      <td>...</td>\n",
       "      <td>NaN</td>\n",
       "      <td>1</td>\n",
       "      <td>NaN</td>\n",
       "      <td>NaN</td>\n",
       "      <td>NaN</td>\n",
       "      <td>NaN</td>\n",
       "      <td>NaN</td>\n",
       "      <td>NaN</td>\n",
       "      <td>NaN</td>\n",
       "      <td>NaN</td>\n",
       "    </tr>\n",
       "    <tr>\n",
       "      <th>84548666</th>\n",
       "      <td>NaN</td>\n",
       "      <td>NaN</td>\n",
       "      <td>NaN</td>\n",
       "      <td>NaN</td>\n",
       "      <td>NaN</td>\n",
       "      <td>NaN</td>\n",
       "      <td>NaN</td>\n",
       "      <td>NaN</td>\n",
       "      <td>NaN</td>\n",
       "      <td>NaN</td>\n",
       "      <td>...</td>\n",
       "      <td>NaN</td>\n",
       "      <td>4</td>\n",
       "      <td>NaN</td>\n",
       "      <td>NaN</td>\n",
       "      <td>NaN</td>\n",
       "      <td>NaN</td>\n",
       "      <td>NaN</td>\n",
       "      <td>NaN</td>\n",
       "      <td>NaN</td>\n",
       "      <td>NaN</td>\n",
       "    </tr>\n",
       "    <tr>\n",
       "      <th>84548805</th>\n",
       "      <td>NaN</td>\n",
       "      <td>NaN</td>\n",
       "      <td>NaN</td>\n",
       "      <td>2</td>\n",
       "      <td>NaN</td>\n",
       "      <td>NaN</td>\n",
       "      <td>NaN</td>\n",
       "      <td>NaN</td>\n",
       "      <td>NaN</td>\n",
       "      <td>NaN</td>\n",
       "      <td>...</td>\n",
       "      <td>NaN</td>\n",
       "      <td>3</td>\n",
       "      <td>2</td>\n",
       "      <td>2</td>\n",
       "      <td>2</td>\n",
       "      <td>NaN</td>\n",
       "      <td>NaN</td>\n",
       "      <td>2</td>\n",
       "      <td>NaN</td>\n",
       "      <td>NaN</td>\n",
       "    </tr>\n",
       "    <tr>\n",
       "      <th>84548821</th>\n",
       "      <td>NaN</td>\n",
       "      <td>NaN</td>\n",
       "      <td>NaN</td>\n",
       "      <td>2</td>\n",
       "      <td>NaN</td>\n",
       "      <td>NaN</td>\n",
       "      <td>NaN</td>\n",
       "      <td>NaN</td>\n",
       "      <td>NaN</td>\n",
       "      <td>NaN</td>\n",
       "      <td>...</td>\n",
       "      <td>NaN</td>\n",
       "      <td>1</td>\n",
       "      <td>NaN</td>\n",
       "      <td>NaN</td>\n",
       "      <td>NaN</td>\n",
       "      <td>NaN</td>\n",
       "      <td>NaN</td>\n",
       "      <td>NaN</td>\n",
       "      <td>NaN</td>\n",
       "      <td>NaN</td>\n",
       "    </tr>\n",
       "  </tbody>\n",
       "</table>\n",
       "<p>5 rows × 29 columns</p>\n",
       "</div>"
      ],
      "text/plain": [
       "            650  462  496  616.10  646.83  622.11  622.10  648.93  795.00  \\\n",
       "patient_id                                                                  \n",
       "84548607    NaN  NaN  NaN     NaN     NaN     NaN     NaN     NaN     NaN   \n",
       "84548626    NaN    6  NaN       2     NaN     NaN     NaN     NaN     NaN   \n",
       "84548666    NaN  NaN  NaN     NaN     NaN     NaN     NaN     NaN     NaN   \n",
       "84548805    NaN  NaN  NaN       2     NaN     NaN     NaN     NaN     NaN   \n",
       "84548821    NaN  NaN  NaN       2     NaN     NaN     NaN     NaN     NaN   \n",
       "\n",
       "            620.2  ...    625.3  V70.0  V22.1  V74.5  V27.0  V22.2  V28.3  \\\n",
       "patient_id         ...                                                      \n",
       "84548607      NaN  ...      NaN    NaN    NaN    NaN    NaN    NaN    NaN   \n",
       "84548626      NaN  ...      NaN      1    NaN    NaN    NaN    NaN    NaN   \n",
       "84548666      NaN  ...      NaN      4    NaN    NaN    NaN    NaN    NaN   \n",
       "84548805      NaN  ...      NaN      3      2      2      2    NaN    NaN   \n",
       "84548821      NaN  ...      NaN      1    NaN    NaN    NaN    NaN    NaN   \n",
       "\n",
       "            V22.0  V25.2  V24.2  \n",
       "patient_id                       \n",
       "84548607      NaN    NaN    NaN  \n",
       "84548626      NaN    NaN    NaN  \n",
       "84548666      NaN    NaN    NaN  \n",
       "84548805        2    NaN    NaN  \n",
       "84548821      NaN    NaN    NaN  \n",
       "\n",
       "[5 rows x 29 columns]"
      ]
     },
     "execution_count": 331,
     "metadata": {},
     "output_type": "execute_result"
    }
   ],
   "source": [
    "dff[:5]"
   ]
  },
  {
   "cell_type": "code",
   "execution_count": 325,
   "metadata": {
    "collapsed": false
   },
   "outputs": [
    {
     "data": {
      "text/plain": [
       "Index([u'650', u'462', u'496', u'616.10', u'646.83', u'622.11', u'622.10',\n",
       "       u'648.93', u'795.00', u'620.2', u'401.9', u'585.3', u'616.0', u'626.0',\n",
       "       u'626.4', u'625.9', u'626.2', u'623.5', u'626.8', u'625.3', u'V70.0',\n",
       "       u'V22.1', u'V74.5', u'V27.0', u'V22.2', u'V28.3', u'V22.0', u'V25.2',\n",
       "       u'V24.2'],\n",
       "      dtype='object')"
      ]
     },
     "execution_count": 325,
     "metadata": {},
     "output_type": "execute_result"
    }
   ],
   "source": [
    "dff.columns"
   ]
  },
  {
   "cell_type": "code",
   "execution_count": 373,
   "metadata": {
    "collapsed": false
   },
   "outputs": [
    {
     "data": {
      "text/plain": [
       "(1157817, 50)"
      ]
     },
     "execution_count": 373,
     "metadata": {},
     "output_type": "execute_result"
    }
   ],
   "source": [
    "big_table = pd.read_csv(fdir+'train_big_table.csv.gz')\n",
    "big_table.set_index('patient_id', inplace=True)\n",
    "big_table.shape"
   ]
  },
  {
   "cell_type": "code",
   "execution_count": 374,
   "metadata": {
    "collapsed": false
   },
   "outputs": [
    {
     "data": {
      "text/html": [
       "<div>\n",
       "<table border=\"1\" class=\"dataframe\">\n",
       "  <thead>\n",
       "    <tr style=\"text-align: right;\">\n",
       "      <th></th>\n",
       "      <th>patient_age_group</th>\n",
       "      <th>patient_state</th>\n",
       "      <th>ethinicity</th>\n",
       "      <th>household_income</th>\n",
       "      <th>education_level</th>\n",
       "      <th>is_screener</th>\n",
       "      <th>visits</th>\n",
       "      <th>cbsa</th>\n",
       "      <th>num_visits</th>\n",
       "      <th>num_procedures</th>\n",
       "      <th>...</th>\n",
       "      <th>650</th>\n",
       "      <th>57452</th>\n",
       "      <th>57454</th>\n",
       "      <th>57455</th>\n",
       "      <th>57456</th>\n",
       "      <th>81252</th>\n",
       "      <th>90696</th>\n",
       "      <th>G0143</th>\n",
       "      <th>S4020</th>\n",
       "      <th>S4023</th>\n",
       "    </tr>\n",
       "    <tr>\n",
       "      <th>patient_id</th>\n",
       "      <th></th>\n",
       "      <th></th>\n",
       "      <th></th>\n",
       "      <th></th>\n",
       "      <th></th>\n",
       "      <th></th>\n",
       "      <th></th>\n",
       "      <th></th>\n",
       "      <th></th>\n",
       "      <th></th>\n",
       "      <th></th>\n",
       "      <th></th>\n",
       "      <th></th>\n",
       "      <th></th>\n",
       "      <th></th>\n",
       "      <th></th>\n",
       "      <th></th>\n",
       "      <th></th>\n",
       "      <th></th>\n",
       "      <th></th>\n",
       "      <th></th>\n",
       "    </tr>\n",
       "  </thead>\n",
       "  <tbody>\n",
       "    <tr>\n",
       "      <th>336201912</th>\n",
       "      <td>51-53</td>\n",
       "      <td>SD</td>\n",
       "      <td>ALL OTHER</td>\n",
       "      <td>UNKNOWN</td>\n",
       "      <td>UNKNOWN</td>\n",
       "      <td>1</td>\n",
       "      <td>37</td>\n",
       "      <td>43940</td>\n",
       "      <td>8</td>\n",
       "      <td>49</td>\n",
       "      <td>...</td>\n",
       "      <td>NaN</td>\n",
       "      <td>NaN</td>\n",
       "      <td>NaN</td>\n",
       "      <td>NaN</td>\n",
       "      <td>NaN</td>\n",
       "      <td>NaN</td>\n",
       "      <td>NaN</td>\n",
       "      <td>NaN</td>\n",
       "      <td>NaN</td>\n",
       "      <td>NaN</td>\n",
       "    </tr>\n",
       "    <tr>\n",
       "      <th>94237712</th>\n",
       "      <td>39-41</td>\n",
       "      <td>NE</td>\n",
       "      <td>ALL OTHER</td>\n",
       "      <td>UNKNOWN</td>\n",
       "      <td>UNKNOWN</td>\n",
       "      <td>1</td>\n",
       "      <td>129</td>\n",
       "      <td>36540</td>\n",
       "      <td>20</td>\n",
       "      <td>247</td>\n",
       "      <td>...</td>\n",
       "      <td>0</td>\n",
       "      <td>NaN</td>\n",
       "      <td>NaN</td>\n",
       "      <td>NaN</td>\n",
       "      <td>NaN</td>\n",
       "      <td>NaN</td>\n",
       "      <td>NaN</td>\n",
       "      <td>NaN</td>\n",
       "      <td>NaN</td>\n",
       "      <td>NaN</td>\n",
       "    </tr>\n",
       "  </tbody>\n",
       "</table>\n",
       "<p>2 rows × 50 columns</p>\n",
       "</div>"
      ],
      "text/plain": [
       "           patient_age_group patient_state ethinicity household_income  \\\n",
       "patient_id                                                               \n",
       "336201912              51-53            SD  ALL OTHER          UNKNOWN   \n",
       "94237712               39-41            NE  ALL OTHER          UNKNOWN   \n",
       "\n",
       "           education_level  is_screener  visits   cbsa  num_visits  \\\n",
       "patient_id                                                           \n",
       "336201912          UNKNOWN            1      37  43940           8   \n",
       "94237712           UNKNOWN            1     129  36540          20   \n",
       "\n",
       "            num_procedures  ...    650  57452  57454  57455  57456  81252  \\\n",
       "patient_id                  ...                                             \n",
       "336201912               49  ...    NaN    NaN    NaN    NaN    NaN    NaN   \n",
       "94237712               247  ...      0    NaN    NaN    NaN    NaN    NaN   \n",
       "\n",
       "            90696  G0143  S4020  S4023  \n",
       "patient_id                              \n",
       "336201912     NaN    NaN    NaN    NaN  \n",
       "94237712      NaN    NaN    NaN    NaN  \n",
       "\n",
       "[2 rows x 50 columns]"
      ]
     },
     "execution_count": 374,
     "metadata": {},
     "output_type": "execute_result"
    }
   ],
   "source": [
    "big_table[:2]"
   ]
  },
  {
   "cell_type": "code",
   "execution_count": 375,
   "metadata": {
    "collapsed": false
   },
   "outputs": [
    {
     "data": {
      "text/html": [
       "<div>\n",
       "<table border=\"1\" class=\"dataframe\">\n",
       "  <thead>\n",
       "    <tr style=\"text-align: right;\">\n",
       "      <th></th>\n",
       "      <th>650</th>\n",
       "      <th>462</th>\n",
       "      <th>496</th>\n",
       "      <th>616.10</th>\n",
       "      <th>646.83</th>\n",
       "      <th>622.11</th>\n",
       "      <th>622.10</th>\n",
       "      <th>648.93</th>\n",
       "      <th>795.00</th>\n",
       "      <th>620.2</th>\n",
       "      <th>...</th>\n",
       "      <th>625.3</th>\n",
       "      <th>V70.0</th>\n",
       "      <th>V22.1</th>\n",
       "      <th>V74.5</th>\n",
       "      <th>V27.0</th>\n",
       "      <th>V22.2</th>\n",
       "      <th>V28.3</th>\n",
       "      <th>V22.0</th>\n",
       "      <th>V25.2</th>\n",
       "      <th>V24.2</th>\n",
       "    </tr>\n",
       "    <tr>\n",
       "      <th>patient_id</th>\n",
       "      <th></th>\n",
       "      <th></th>\n",
       "      <th></th>\n",
       "      <th></th>\n",
       "      <th></th>\n",
       "      <th></th>\n",
       "      <th></th>\n",
       "      <th></th>\n",
       "      <th></th>\n",
       "      <th></th>\n",
       "      <th></th>\n",
       "      <th></th>\n",
       "      <th></th>\n",
       "      <th></th>\n",
       "      <th></th>\n",
       "      <th></th>\n",
       "      <th></th>\n",
       "      <th></th>\n",
       "      <th></th>\n",
       "      <th></th>\n",
       "      <th></th>\n",
       "    </tr>\n",
       "  </thead>\n",
       "  <tbody>\n",
       "    <tr>\n",
       "      <th>84548607</th>\n",
       "      <td>NaN</td>\n",
       "      <td>NaN</td>\n",
       "      <td>NaN</td>\n",
       "      <td>NaN</td>\n",
       "      <td>NaN</td>\n",
       "      <td>NaN</td>\n",
       "      <td>NaN</td>\n",
       "      <td>NaN</td>\n",
       "      <td>NaN</td>\n",
       "      <td>NaN</td>\n",
       "      <td>...</td>\n",
       "      <td>NaN</td>\n",
       "      <td>NaN</td>\n",
       "      <td>NaN</td>\n",
       "      <td>NaN</td>\n",
       "      <td>NaN</td>\n",
       "      <td>NaN</td>\n",
       "      <td>NaN</td>\n",
       "      <td>NaN</td>\n",
       "      <td>NaN</td>\n",
       "      <td>NaN</td>\n",
       "    </tr>\n",
       "    <tr>\n",
       "      <th>84548626</th>\n",
       "      <td>NaN</td>\n",
       "      <td>6</td>\n",
       "      <td>NaN</td>\n",
       "      <td>2</td>\n",
       "      <td>NaN</td>\n",
       "      <td>NaN</td>\n",
       "      <td>NaN</td>\n",
       "      <td>NaN</td>\n",
       "      <td>NaN</td>\n",
       "      <td>NaN</td>\n",
       "      <td>...</td>\n",
       "      <td>NaN</td>\n",
       "      <td>1</td>\n",
       "      <td>NaN</td>\n",
       "      <td>NaN</td>\n",
       "      <td>NaN</td>\n",
       "      <td>NaN</td>\n",
       "      <td>NaN</td>\n",
       "      <td>NaN</td>\n",
       "      <td>NaN</td>\n",
       "      <td>NaN</td>\n",
       "    </tr>\n",
       "  </tbody>\n",
       "</table>\n",
       "<p>2 rows × 29 columns</p>\n",
       "</div>"
      ],
      "text/plain": [
       "            650  462  496  616.10  646.83  622.11  622.10  648.93  795.00  \\\n",
       "patient_id                                                                  \n",
       "84548607    NaN  NaN  NaN     NaN     NaN     NaN     NaN     NaN     NaN   \n",
       "84548626    NaN    6  NaN       2     NaN     NaN     NaN     NaN     NaN   \n",
       "\n",
       "            620.2  ...    625.3  V70.0  V22.1  V74.5  V27.0  V22.2  V28.3  \\\n",
       "patient_id         ...                                                      \n",
       "84548607      NaN  ...      NaN    NaN    NaN    NaN    NaN    NaN    NaN   \n",
       "84548626      NaN  ...      NaN      1    NaN    NaN    NaN    NaN    NaN   \n",
       "\n",
       "            V22.0  V25.2  V24.2  \n",
       "patient_id                       \n",
       "84548607      NaN    NaN    NaN  \n",
       "84548626      NaN    NaN    NaN  \n",
       "\n",
       "[2 rows x 29 columns]"
      ]
     },
     "execution_count": 375,
     "metadata": {},
     "output_type": "execute_result"
    }
   ],
   "source": [
    "dff[:2]"
   ]
  },
  {
   "cell_type": "code",
   "execution_count": 429,
   "metadata": {
    "collapsed": false
   },
   "outputs": [
    {
     "data": {
      "text/plain": [
       "Index([u'650', u'462', u'496', u'616.10', u'646.83', u'622.11', u'622.10',\n",
       "       u'648.93', u'795.00', u'620.2', u'401.9', u'585.3', u'616.0', u'626.0',\n",
       "       u'626.4', u'625.9', u'626.2', u'623.5', u'626.8', u'625.3', u'V70.0',\n",
       "       u'V22.1', u'V74.5', u'V27.0', u'V22.2', u'V28.3', u'V22.0', u'V25.2',\n",
       "       u'V24.2'],\n",
       "      dtype='object')"
      ]
     },
     "execution_count": 429,
     "metadata": {},
     "output_type": "execute_result"
    }
   ],
   "source": [
    "dff.columns"
   ]
  },
  {
   "cell_type": "code",
   "execution_count": 376,
   "metadata": {
    "collapsed": false
   },
   "outputs": [
    {
     "data": {
      "text/plain": [
       "Index([u'patient_age_group', u'patient_state', u'ethinicity',\n",
       "       u'household_income', u'education_level', u'is_screener', u'visits',\n",
       "       u'cbsa', u'num_visits', u'num_procedures', u'CLINIC', u'INPATIENT',\n",
       "       u'OTHER', u'OUTPATIENT', u'UNKNOWN', u'0001', u'0002', u'0003', u'0004',\n",
       "       u'0005', u'0006', u'HX01', u'HX02', u'HX03', u'HX04', u'HX05', u'HXPR',\n",
       "       u'num_diagnosis', u'num_rx', u'RX_ASSISTANCE', u'RX_CASH',\n",
       "       u'RX_COMMERCIAL', u'RX_MANAGED_MEDICAID', u'RX_MEDICAID',\n",
       "       u'RX_MEDICARE', u'pract_screen_pct', u'cbsa_pct', u'age_pct',\n",
       "       u'state_pct', u'632', u'650', u'57452', u'57454', u'57455', u'57456',\n",
       "       u'81252', u'90696', u'G0143', u'S4020', u'S4023'],\n",
       "      dtype='object')"
      ]
     },
     "execution_count": 376,
     "metadata": {},
     "output_type": "execute_result"
    }
   ],
   "source": [
    "big_table.columns"
   ]
  },
  {
   "cell_type": "code",
   "execution_count": 378,
   "metadata": {
    "collapsed": true
   },
   "outputs": [],
   "source": [
    "bad_cols = ['CLINIC', 'INPATIENT', 'OTHER', 'OUTPATIENT', 'UNKNOWN', \n",
    "            '0001', '0002', '0003', '0004', '0005', '0006', \n",
    "            'HX01', 'HX02', 'HX03', 'HX04', 'HX05', 'HXPR',\n",
    "            'pract_screen_pct', 'cbsa_pct', 'age_pct', 'state_pct',\n",
    "            '632','650', u'57452', u'57454', u'57455', u'57456',\n",
    "           u'81252', u'90696', u'G0143', u'S4020', u'S4023']"
   ]
  },
  {
   "cell_type": "code",
   "execution_count": 381,
   "metadata": {
    "collapsed": false
   },
   "outputs": [],
   "source": [
    "# take only a subset of the features, the rest I think is junk\n",
    "\n",
    "cols = list(big_table.columns)\n",
    "cols = [x for x in cols if x not in bad_cols]\n",
    "\n",
    "test_cols = list(cols)\n",
    "test_cols.remove('is_screener')"
   ]
  },
  {
   "cell_type": "code",
   "execution_count": 382,
   "metadata": {
    "collapsed": false
   },
   "outputs": [],
   "source": [
    "bigt = big_table[cols].merge(dff, left_index=True, right_index=True, how='left')"
   ]
  },
  {
   "cell_type": "code",
   "execution_count": 383,
   "metadata": {
    "collapsed": false
   },
   "outputs": [
    {
     "data": {
      "text/plain": [
       "Index([u'patient_age_group', u'patient_state', u'ethinicity',\n",
       "       u'household_income', u'education_level', u'is_screener', u'visits',\n",
       "       u'cbsa', u'num_visits', u'num_procedures', u'num_diagnosis', u'num_rx',\n",
       "       u'RX_ASSISTANCE', u'RX_CASH', u'RX_COMMERCIAL', u'RX_MANAGED_MEDICAID',\n",
       "       u'RX_MEDICAID', u'RX_MEDICARE', u'632', u'650', u'462', u'496',\n",
       "       u'616.10', u'646.83', u'622.11', u'622.10', u'648.93', u'795.00',\n",
       "       u'620.2', u'401.9', u'585.3', u'616.0', u'626.0', u'626.4', u'625.9',\n",
       "       u'626.2', u'623.5', u'626.8', u'625.3', u'V70.0', u'V22.1', u'V74.5',\n",
       "       u'V27.0', u'V22.2', u'V28.3', u'V22.0', u'V25.2', u'V24.2'],\n",
       "      dtype='object')"
      ]
     },
     "execution_count": 383,
     "metadata": {},
     "output_type": "execute_result"
    }
   ],
   "source": [
    "bigt.columns"
   ]
  },
  {
   "cell_type": "code",
   "execution_count": 384,
   "metadata": {
    "collapsed": false
   },
   "outputs": [
    {
     "data": {
      "text/plain": [
       "(1157817, 48)"
      ]
     },
     "execution_count": 384,
     "metadata": {},
     "output_type": "execute_result"
    }
   ],
   "source": [
    "bigt.shape"
   ]
  },
  {
   "cell_type": "code",
   "execution_count": 385,
   "metadata": {
    "collapsed": true
   },
   "outputs": [],
   "source": [
    "bigt.to_csv(fdir+'train_big_table.csv')"
   ]
  },
  {
   "cell_type": "code",
   "execution_count": 386,
   "metadata": {
    "collapsed": false
   },
   "outputs": [
    {
     "data": {
      "text/plain": [
       "(1157817, 50)"
      ]
     },
     "execution_count": 386,
     "metadata": {},
     "output_type": "execute_result"
    }
   ],
   "source": [
    "big_table_encoded = pd.read_csv(fdir+'train_big_table_encoded.csv.gz')\n",
    "big_table_encoded.set_index('patient_id', inplace=True)\n",
    "big_table_encoded.shape"
   ]
  },
  {
   "cell_type": "code",
   "execution_count": 387,
   "metadata": {
    "collapsed": false
   },
   "outputs": [
    {
     "data": {
      "text/html": [
       "<div>\n",
       "<table border=\"1\" class=\"dataframe\">\n",
       "  <thead>\n",
       "    <tr style=\"text-align: right;\">\n",
       "      <th></th>\n",
       "      <th>patient_age_group</th>\n",
       "      <th>patient_state</th>\n",
       "      <th>ethinicity</th>\n",
       "      <th>household_income</th>\n",
       "      <th>education_level</th>\n",
       "      <th>is_screener</th>\n",
       "      <th>visits</th>\n",
       "      <th>cbsa</th>\n",
       "      <th>num_visits</th>\n",
       "      <th>num_procedures</th>\n",
       "      <th>...</th>\n",
       "      <th>650</th>\n",
       "      <th>57452</th>\n",
       "      <th>57454</th>\n",
       "      <th>57455</th>\n",
       "      <th>57456</th>\n",
       "      <th>81252</th>\n",
       "      <th>90696</th>\n",
       "      <th>G0143</th>\n",
       "      <th>S4020</th>\n",
       "      <th>S4023</th>\n",
       "    </tr>\n",
       "    <tr>\n",
       "      <th>patient_id</th>\n",
       "      <th></th>\n",
       "      <th></th>\n",
       "      <th></th>\n",
       "      <th></th>\n",
       "      <th></th>\n",
       "      <th></th>\n",
       "      <th></th>\n",
       "      <th></th>\n",
       "      <th></th>\n",
       "      <th></th>\n",
       "      <th></th>\n",
       "      <th></th>\n",
       "      <th></th>\n",
       "      <th></th>\n",
       "      <th></th>\n",
       "      <th></th>\n",
       "      <th></th>\n",
       "      <th></th>\n",
       "      <th></th>\n",
       "      <th></th>\n",
       "      <th></th>\n",
       "    </tr>\n",
       "  </thead>\n",
       "  <tbody>\n",
       "    <tr>\n",
       "      <th>336201912</th>\n",
       "      <td>10</td>\n",
       "      <td>41</td>\n",
       "      <td>1</td>\n",
       "      <td>0</td>\n",
       "      <td>3</td>\n",
       "      <td>1</td>\n",
       "      <td>37</td>\n",
       "      <td>43940</td>\n",
       "      <td>8</td>\n",
       "      <td>49</td>\n",
       "      <td>...</td>\n",
       "      <td>NaN</td>\n",
       "      <td>NaN</td>\n",
       "      <td>NaN</td>\n",
       "      <td>NaN</td>\n",
       "      <td>NaN</td>\n",
       "      <td>NaN</td>\n",
       "      <td>NaN</td>\n",
       "      <td>NaN</td>\n",
       "      <td>NaN</td>\n",
       "      <td>NaN</td>\n",
       "    </tr>\n",
       "    <tr>\n",
       "      <th>94237712</th>\n",
       "      <td>5</td>\n",
       "      <td>29</td>\n",
       "      <td>1</td>\n",
       "      <td>0</td>\n",
       "      <td>3</td>\n",
       "      <td>1</td>\n",
       "      <td>129</td>\n",
       "      <td>36540</td>\n",
       "      <td>20</td>\n",
       "      <td>247</td>\n",
       "      <td>...</td>\n",
       "      <td>0</td>\n",
       "      <td>NaN</td>\n",
       "      <td>NaN</td>\n",
       "      <td>NaN</td>\n",
       "      <td>NaN</td>\n",
       "      <td>NaN</td>\n",
       "      <td>NaN</td>\n",
       "      <td>NaN</td>\n",
       "      <td>NaN</td>\n",
       "      <td>NaN</td>\n",
       "    </tr>\n",
       "  </tbody>\n",
       "</table>\n",
       "<p>2 rows × 50 columns</p>\n",
       "</div>"
      ],
      "text/plain": [
       "            patient_age_group  patient_state  ethinicity  household_income  \\\n",
       "patient_id                                                                   \n",
       "336201912                  10             41           1                 0   \n",
       "94237712                    5             29           1                 0   \n",
       "\n",
       "            education_level  is_screener  visits   cbsa  num_visits  \\\n",
       "patient_id                                                            \n",
       "336201912                 3            1      37  43940           8   \n",
       "94237712                  3            1     129  36540          20   \n",
       "\n",
       "            num_procedures  ...    650  57452  57454  57455  57456  81252  \\\n",
       "patient_id                  ...                                             \n",
       "336201912               49  ...    NaN    NaN    NaN    NaN    NaN    NaN   \n",
       "94237712               247  ...      0    NaN    NaN    NaN    NaN    NaN   \n",
       "\n",
       "            90696  G0143  S4020  S4023  \n",
       "patient_id                              \n",
       "336201912     NaN    NaN    NaN    NaN  \n",
       "94237712      NaN    NaN    NaN    NaN  \n",
       "\n",
       "[2 rows x 50 columns]"
      ]
     },
     "execution_count": 387,
     "metadata": {},
     "output_type": "execute_result"
    }
   ],
   "source": [
    "big_table_encoded[:2]"
   ]
  },
  {
   "cell_type": "code",
   "execution_count": 352,
   "metadata": {
    "collapsed": true
   },
   "outputs": [],
   "source": [
    "dffd = dff.copy()"
   ]
  },
  {
   "cell_type": "code",
   "execution_count": 353,
   "metadata": {
    "collapsed": true
   },
   "outputs": [],
   "source": [
    "dffd[dffd > 0] = 1"
   ]
  },
  {
   "cell_type": "code",
   "execution_count": 388,
   "metadata": {
    "collapsed": false
   },
   "outputs": [
    {
     "data": {
      "text/html": [
       "<div>\n",
       "<table border=\"1\" class=\"dataframe\">\n",
       "  <thead>\n",
       "    <tr style=\"text-align: right;\">\n",
       "      <th></th>\n",
       "      <th>650</th>\n",
       "      <th>462</th>\n",
       "      <th>496</th>\n",
       "      <th>616.10</th>\n",
       "      <th>646.83</th>\n",
       "      <th>622.11</th>\n",
       "      <th>622.10</th>\n",
       "      <th>648.93</th>\n",
       "      <th>795.00</th>\n",
       "      <th>620.2</th>\n",
       "      <th>...</th>\n",
       "      <th>625.3</th>\n",
       "      <th>V70.0</th>\n",
       "      <th>V22.1</th>\n",
       "      <th>V74.5</th>\n",
       "      <th>V27.0</th>\n",
       "      <th>V22.2</th>\n",
       "      <th>V28.3</th>\n",
       "      <th>V22.0</th>\n",
       "      <th>V25.2</th>\n",
       "      <th>V24.2</th>\n",
       "    </tr>\n",
       "    <tr>\n",
       "      <th>patient_id</th>\n",
       "      <th></th>\n",
       "      <th></th>\n",
       "      <th></th>\n",
       "      <th></th>\n",
       "      <th></th>\n",
       "      <th></th>\n",
       "      <th></th>\n",
       "      <th></th>\n",
       "      <th></th>\n",
       "      <th></th>\n",
       "      <th></th>\n",
       "      <th></th>\n",
       "      <th></th>\n",
       "      <th></th>\n",
       "      <th></th>\n",
       "      <th></th>\n",
       "      <th></th>\n",
       "      <th></th>\n",
       "      <th></th>\n",
       "      <th></th>\n",
       "      <th></th>\n",
       "    </tr>\n",
       "  </thead>\n",
       "  <tbody>\n",
       "    <tr>\n",
       "      <th>84548607</th>\n",
       "      <td>NaN</td>\n",
       "      <td>NaN</td>\n",
       "      <td>NaN</td>\n",
       "      <td>NaN</td>\n",
       "      <td>NaN</td>\n",
       "      <td>NaN</td>\n",
       "      <td>NaN</td>\n",
       "      <td>NaN</td>\n",
       "      <td>NaN</td>\n",
       "      <td>NaN</td>\n",
       "      <td>...</td>\n",
       "      <td>NaN</td>\n",
       "      <td>NaN</td>\n",
       "      <td>NaN</td>\n",
       "      <td>NaN</td>\n",
       "      <td>NaN</td>\n",
       "      <td>NaN</td>\n",
       "      <td>NaN</td>\n",
       "      <td>NaN</td>\n",
       "      <td>NaN</td>\n",
       "      <td>NaN</td>\n",
       "    </tr>\n",
       "    <tr>\n",
       "      <th>84548626</th>\n",
       "      <td>NaN</td>\n",
       "      <td>1</td>\n",
       "      <td>NaN</td>\n",
       "      <td>1</td>\n",
       "      <td>NaN</td>\n",
       "      <td>NaN</td>\n",
       "      <td>NaN</td>\n",
       "      <td>NaN</td>\n",
       "      <td>NaN</td>\n",
       "      <td>NaN</td>\n",
       "      <td>...</td>\n",
       "      <td>NaN</td>\n",
       "      <td>1</td>\n",
       "      <td>NaN</td>\n",
       "      <td>NaN</td>\n",
       "      <td>NaN</td>\n",
       "      <td>NaN</td>\n",
       "      <td>NaN</td>\n",
       "      <td>NaN</td>\n",
       "      <td>NaN</td>\n",
       "      <td>NaN</td>\n",
       "    </tr>\n",
       "    <tr>\n",
       "      <th>84548666</th>\n",
       "      <td>NaN</td>\n",
       "      <td>NaN</td>\n",
       "      <td>NaN</td>\n",
       "      <td>NaN</td>\n",
       "      <td>NaN</td>\n",
       "      <td>NaN</td>\n",
       "      <td>NaN</td>\n",
       "      <td>NaN</td>\n",
       "      <td>NaN</td>\n",
       "      <td>NaN</td>\n",
       "      <td>...</td>\n",
       "      <td>NaN</td>\n",
       "      <td>1</td>\n",
       "      <td>NaN</td>\n",
       "      <td>NaN</td>\n",
       "      <td>NaN</td>\n",
       "      <td>NaN</td>\n",
       "      <td>NaN</td>\n",
       "      <td>NaN</td>\n",
       "      <td>NaN</td>\n",
       "      <td>NaN</td>\n",
       "    </tr>\n",
       "    <tr>\n",
       "      <th>84548805</th>\n",
       "      <td>NaN</td>\n",
       "      <td>NaN</td>\n",
       "      <td>NaN</td>\n",
       "      <td>1</td>\n",
       "      <td>NaN</td>\n",
       "      <td>NaN</td>\n",
       "      <td>NaN</td>\n",
       "      <td>NaN</td>\n",
       "      <td>NaN</td>\n",
       "      <td>NaN</td>\n",
       "      <td>...</td>\n",
       "      <td>NaN</td>\n",
       "      <td>1</td>\n",
       "      <td>1</td>\n",
       "      <td>1</td>\n",
       "      <td>1</td>\n",
       "      <td>NaN</td>\n",
       "      <td>NaN</td>\n",
       "      <td>1</td>\n",
       "      <td>NaN</td>\n",
       "      <td>NaN</td>\n",
       "    </tr>\n",
       "    <tr>\n",
       "      <th>84548821</th>\n",
       "      <td>NaN</td>\n",
       "      <td>NaN</td>\n",
       "      <td>NaN</td>\n",
       "      <td>1</td>\n",
       "      <td>NaN</td>\n",
       "      <td>NaN</td>\n",
       "      <td>NaN</td>\n",
       "      <td>NaN</td>\n",
       "      <td>NaN</td>\n",
       "      <td>NaN</td>\n",
       "      <td>...</td>\n",
       "      <td>NaN</td>\n",
       "      <td>1</td>\n",
       "      <td>NaN</td>\n",
       "      <td>NaN</td>\n",
       "      <td>NaN</td>\n",
       "      <td>NaN</td>\n",
       "      <td>NaN</td>\n",
       "      <td>NaN</td>\n",
       "      <td>NaN</td>\n",
       "      <td>NaN</td>\n",
       "    </tr>\n",
       "    <tr>\n",
       "      <th>84549017</th>\n",
       "      <td>NaN</td>\n",
       "      <td>1</td>\n",
       "      <td>NaN</td>\n",
       "      <td>NaN</td>\n",
       "      <td>NaN</td>\n",
       "      <td>NaN</td>\n",
       "      <td>NaN</td>\n",
       "      <td>1</td>\n",
       "      <td>NaN</td>\n",
       "      <td>NaN</td>\n",
       "      <td>...</td>\n",
       "      <td>NaN</td>\n",
       "      <td>1</td>\n",
       "      <td>NaN</td>\n",
       "      <td>NaN</td>\n",
       "      <td>NaN</td>\n",
       "      <td>NaN</td>\n",
       "      <td>NaN</td>\n",
       "      <td>NaN</td>\n",
       "      <td>NaN</td>\n",
       "      <td>NaN</td>\n",
       "    </tr>\n",
       "    <tr>\n",
       "      <th>84549151</th>\n",
       "      <td>NaN</td>\n",
       "      <td>1</td>\n",
       "      <td>NaN</td>\n",
       "      <td>1</td>\n",
       "      <td>NaN</td>\n",
       "      <td>1</td>\n",
       "      <td>NaN</td>\n",
       "      <td>NaN</td>\n",
       "      <td>NaN</td>\n",
       "      <td>NaN</td>\n",
       "      <td>...</td>\n",
       "      <td>NaN</td>\n",
       "      <td>NaN</td>\n",
       "      <td>NaN</td>\n",
       "      <td>NaN</td>\n",
       "      <td>NaN</td>\n",
       "      <td>NaN</td>\n",
       "      <td>NaN</td>\n",
       "      <td>NaN</td>\n",
       "      <td>NaN</td>\n",
       "      <td>NaN</td>\n",
       "    </tr>\n",
       "    <tr>\n",
       "      <th>84549169</th>\n",
       "      <td>NaN</td>\n",
       "      <td>1</td>\n",
       "      <td>1</td>\n",
       "      <td>NaN</td>\n",
       "      <td>NaN</td>\n",
       "      <td>NaN</td>\n",
       "      <td>NaN</td>\n",
       "      <td>NaN</td>\n",
       "      <td>NaN</td>\n",
       "      <td>1</td>\n",
       "      <td>...</td>\n",
       "      <td>NaN</td>\n",
       "      <td>1</td>\n",
       "      <td>NaN</td>\n",
       "      <td>NaN</td>\n",
       "      <td>NaN</td>\n",
       "      <td>NaN</td>\n",
       "      <td>NaN</td>\n",
       "      <td>NaN</td>\n",
       "      <td>NaN</td>\n",
       "      <td>NaN</td>\n",
       "    </tr>\n",
       "    <tr>\n",
       "      <th>84549287</th>\n",
       "      <td>NaN</td>\n",
       "      <td>NaN</td>\n",
       "      <td>NaN</td>\n",
       "      <td>NaN</td>\n",
       "      <td>NaN</td>\n",
       "      <td>NaN</td>\n",
       "      <td>NaN</td>\n",
       "      <td>NaN</td>\n",
       "      <td>NaN</td>\n",
       "      <td>NaN</td>\n",
       "      <td>...</td>\n",
       "      <td>NaN</td>\n",
       "      <td>NaN</td>\n",
       "      <td>NaN</td>\n",
       "      <td>NaN</td>\n",
       "      <td>NaN</td>\n",
       "      <td>NaN</td>\n",
       "      <td>NaN</td>\n",
       "      <td>NaN</td>\n",
       "      <td>NaN</td>\n",
       "      <td>NaN</td>\n",
       "    </tr>\n",
       "    <tr>\n",
       "      <th>84549639</th>\n",
       "      <td>NaN</td>\n",
       "      <td>NaN</td>\n",
       "      <td>NaN</td>\n",
       "      <td>NaN</td>\n",
       "      <td>NaN</td>\n",
       "      <td>NaN</td>\n",
       "      <td>NaN</td>\n",
       "      <td>NaN</td>\n",
       "      <td>NaN</td>\n",
       "      <td>NaN</td>\n",
       "      <td>...</td>\n",
       "      <td>NaN</td>\n",
       "      <td>NaN</td>\n",
       "      <td>NaN</td>\n",
       "      <td>NaN</td>\n",
       "      <td>NaN</td>\n",
       "      <td>NaN</td>\n",
       "      <td>NaN</td>\n",
       "      <td>NaN</td>\n",
       "      <td>NaN</td>\n",
       "      <td>NaN</td>\n",
       "    </tr>\n",
       "  </tbody>\n",
       "</table>\n",
       "<p>10 rows × 29 columns</p>\n",
       "</div>"
      ],
      "text/plain": [
       "            650  462  496  616.10  646.83  622.11  622.10  648.93  795.00  \\\n",
       "patient_id                                                                  \n",
       "84548607    NaN  NaN  NaN     NaN     NaN     NaN     NaN     NaN     NaN   \n",
       "84548626    NaN    1  NaN       1     NaN     NaN     NaN     NaN     NaN   \n",
       "84548666    NaN  NaN  NaN     NaN     NaN     NaN     NaN     NaN     NaN   \n",
       "84548805    NaN  NaN  NaN       1     NaN     NaN     NaN     NaN     NaN   \n",
       "84548821    NaN  NaN  NaN       1     NaN     NaN     NaN     NaN     NaN   \n",
       "84549017    NaN    1  NaN     NaN     NaN     NaN     NaN       1     NaN   \n",
       "84549151    NaN    1  NaN       1     NaN       1     NaN     NaN     NaN   \n",
       "84549169    NaN    1    1     NaN     NaN     NaN     NaN     NaN     NaN   \n",
       "84549287    NaN  NaN  NaN     NaN     NaN     NaN     NaN     NaN     NaN   \n",
       "84549639    NaN  NaN  NaN     NaN     NaN     NaN     NaN     NaN     NaN   \n",
       "\n",
       "            620.2  ...    625.3  V70.0  V22.1  V74.5  V27.0  V22.2  V28.3  \\\n",
       "patient_id         ...                                                      \n",
       "84548607      NaN  ...      NaN    NaN    NaN    NaN    NaN    NaN    NaN   \n",
       "84548626      NaN  ...      NaN      1    NaN    NaN    NaN    NaN    NaN   \n",
       "84548666      NaN  ...      NaN      1    NaN    NaN    NaN    NaN    NaN   \n",
       "84548805      NaN  ...      NaN      1      1      1      1    NaN    NaN   \n",
       "84548821      NaN  ...      NaN      1    NaN    NaN    NaN    NaN    NaN   \n",
       "84549017      NaN  ...      NaN      1    NaN    NaN    NaN    NaN    NaN   \n",
       "84549151      NaN  ...      NaN    NaN    NaN    NaN    NaN    NaN    NaN   \n",
       "84549169        1  ...      NaN      1    NaN    NaN    NaN    NaN    NaN   \n",
       "84549287      NaN  ...      NaN    NaN    NaN    NaN    NaN    NaN    NaN   \n",
       "84549639      NaN  ...      NaN    NaN    NaN    NaN    NaN    NaN    NaN   \n",
       "\n",
       "            V22.0  V25.2  V24.2  \n",
       "patient_id                       \n",
       "84548607      NaN    NaN    NaN  \n",
       "84548626      NaN    NaN    NaN  \n",
       "84548666      NaN    NaN    NaN  \n",
       "84548805        1    NaN    NaN  \n",
       "84548821      NaN    NaN    NaN  \n",
       "84549017      NaN    NaN    NaN  \n",
       "84549151      NaN    NaN    NaN  \n",
       "84549169      NaN    NaN    NaN  \n",
       "84549287      NaN    NaN    NaN  \n",
       "84549639      NaN    NaN    NaN  \n",
       "\n",
       "[10 rows x 29 columns]"
      ]
     },
     "execution_count": 388,
     "metadata": {},
     "output_type": "execute_result"
    }
   ],
   "source": [
    "dffd[:10]"
   ]
  },
  {
   "cell_type": "code",
   "execution_count": 389,
   "metadata": {
    "collapsed": false
   },
   "outputs": [
    {
     "data": {
      "text/plain": [
       "(1157817, 48)"
      ]
     },
     "execution_count": 389,
     "metadata": {},
     "output_type": "execute_result"
    }
   ],
   "source": [
    "bigte = big_table_encoded[cols].merge(dffd,left_index=True, right_index=True, how='left')\n",
    "bigte.shape"
   ]
  },
  {
   "cell_type": "code",
   "execution_count": 390,
   "metadata": {
    "collapsed": false
   },
   "outputs": [
    {
     "data": {
      "text/html": [
       "<div>\n",
       "<table border=\"1\" class=\"dataframe\">\n",
       "  <thead>\n",
       "    <tr style=\"text-align: right;\">\n",
       "      <th></th>\n",
       "      <th>patient_age_group</th>\n",
       "      <th>patient_state</th>\n",
       "      <th>ethinicity</th>\n",
       "      <th>household_income</th>\n",
       "      <th>education_level</th>\n",
       "      <th>is_screener</th>\n",
       "      <th>visits</th>\n",
       "      <th>cbsa</th>\n",
       "      <th>num_visits</th>\n",
       "      <th>num_procedures</th>\n",
       "      <th>...</th>\n",
       "      <th>625.3</th>\n",
       "      <th>V70.0</th>\n",
       "      <th>V22.1</th>\n",
       "      <th>V74.5</th>\n",
       "      <th>V27.0</th>\n",
       "      <th>V22.2</th>\n",
       "      <th>V28.3</th>\n",
       "      <th>V22.0</th>\n",
       "      <th>V25.2</th>\n",
       "      <th>V24.2</th>\n",
       "    </tr>\n",
       "    <tr>\n",
       "      <th>patient_id</th>\n",
       "      <th></th>\n",
       "      <th></th>\n",
       "      <th></th>\n",
       "      <th></th>\n",
       "      <th></th>\n",
       "      <th></th>\n",
       "      <th></th>\n",
       "      <th></th>\n",
       "      <th></th>\n",
       "      <th></th>\n",
       "      <th></th>\n",
       "      <th></th>\n",
       "      <th></th>\n",
       "      <th></th>\n",
       "      <th></th>\n",
       "      <th></th>\n",
       "      <th></th>\n",
       "      <th></th>\n",
       "      <th></th>\n",
       "      <th></th>\n",
       "      <th></th>\n",
       "    </tr>\n",
       "  </thead>\n",
       "  <tbody>\n",
       "    <tr>\n",
       "      <th>336201912</th>\n",
       "      <td>10</td>\n",
       "      <td>41</td>\n",
       "      <td>1</td>\n",
       "      <td>0</td>\n",
       "      <td>3</td>\n",
       "      <td>1</td>\n",
       "      <td>37</td>\n",
       "      <td>43940</td>\n",
       "      <td>8</td>\n",
       "      <td>49</td>\n",
       "      <td>...</td>\n",
       "      <td>NaN</td>\n",
       "      <td>NaN</td>\n",
       "      <td>NaN</td>\n",
       "      <td>NaN</td>\n",
       "      <td>NaN</td>\n",
       "      <td>NaN</td>\n",
       "      <td>NaN</td>\n",
       "      <td>NaN</td>\n",
       "      <td>NaN</td>\n",
       "      <td>NaN</td>\n",
       "    </tr>\n",
       "    <tr>\n",
       "      <th>94237712</th>\n",
       "      <td>5</td>\n",
       "      <td>29</td>\n",
       "      <td>1</td>\n",
       "      <td>0</td>\n",
       "      <td>3</td>\n",
       "      <td>1</td>\n",
       "      <td>129</td>\n",
       "      <td>36540</td>\n",
       "      <td>20</td>\n",
       "      <td>247</td>\n",
       "      <td>...</td>\n",
       "      <td>NaN</td>\n",
       "      <td>1</td>\n",
       "      <td>1</td>\n",
       "      <td>NaN</td>\n",
       "      <td>1</td>\n",
       "      <td>NaN</td>\n",
       "      <td>1</td>\n",
       "      <td>NaN</td>\n",
       "      <td>NaN</td>\n",
       "      <td>NaN</td>\n",
       "    </tr>\n",
       "    <tr>\n",
       "      <th>186124512</th>\n",
       "      <td>1</td>\n",
       "      <td>4</td>\n",
       "      <td>1</td>\n",
       "      <td>0</td>\n",
       "      <td>3</td>\n",
       "      <td>0</td>\n",
       "      <td>26</td>\n",
       "      <td>31080</td>\n",
       "      <td>5</td>\n",
       "      <td>18</td>\n",
       "      <td>...</td>\n",
       "      <td>NaN</td>\n",
       "      <td>NaN</td>\n",
       "      <td>NaN</td>\n",
       "      <td>NaN</td>\n",
       "      <td>NaN</td>\n",
       "      <td>NaN</td>\n",
       "      <td>NaN</td>\n",
       "      <td>NaN</td>\n",
       "      <td>NaN</td>\n",
       "      <td>NaN</td>\n",
       "    </tr>\n",
       "    <tr>\n",
       "      <th>767144212</th>\n",
       "      <td>2</td>\n",
       "      <td>34</td>\n",
       "      <td>1</td>\n",
       "      <td>0</td>\n",
       "      <td>3</td>\n",
       "      <td>1</td>\n",
       "      <td>2</td>\n",
       "      <td>35620</td>\n",
       "      <td>43</td>\n",
       "      <td>293</td>\n",
       "      <td>...</td>\n",
       "      <td>NaN</td>\n",
       "      <td>1</td>\n",
       "      <td>1</td>\n",
       "      <td>NaN</td>\n",
       "      <td>1</td>\n",
       "      <td>1</td>\n",
       "      <td>1</td>\n",
       "      <td>1</td>\n",
       "      <td>NaN</td>\n",
       "      <td>1</td>\n",
       "    </tr>\n",
       "    <tr>\n",
       "      <th>104743512</th>\n",
       "      <td>3</td>\n",
       "      <td>11</td>\n",
       "      <td>1</td>\n",
       "      <td>0</td>\n",
       "      <td>3</td>\n",
       "      <td>0</td>\n",
       "      <td>18</td>\n",
       "      <td>25900</td>\n",
       "      <td>6</td>\n",
       "      <td>78</td>\n",
       "      <td>...</td>\n",
       "      <td>NaN</td>\n",
       "      <td>NaN</td>\n",
       "      <td>NaN</td>\n",
       "      <td>NaN</td>\n",
       "      <td>NaN</td>\n",
       "      <td>NaN</td>\n",
       "      <td>NaN</td>\n",
       "      <td>NaN</td>\n",
       "      <td>NaN</td>\n",
       "      <td>NaN</td>\n",
       "    </tr>\n",
       "    <tr>\n",
       "      <th>127502512</th>\n",
       "      <td>3</td>\n",
       "      <td>29</td>\n",
       "      <td>1</td>\n",
       "      <td>0</td>\n",
       "      <td>3</td>\n",
       "      <td>1</td>\n",
       "      <td>162</td>\n",
       "      <td>30700</td>\n",
       "      <td>11</td>\n",
       "      <td>126</td>\n",
       "      <td>...</td>\n",
       "      <td>NaN</td>\n",
       "      <td>NaN</td>\n",
       "      <td>NaN</td>\n",
       "      <td>NaN</td>\n",
       "      <td>NaN</td>\n",
       "      <td>NaN</td>\n",
       "      <td>NaN</td>\n",
       "      <td>NaN</td>\n",
       "      <td>NaN</td>\n",
       "      <td>NaN</td>\n",
       "    </tr>\n",
       "    <tr>\n",
       "      <th>455501012</th>\n",
       "      <td>6</td>\n",
       "      <td>5</td>\n",
       "      <td>1</td>\n",
       "      <td>0</td>\n",
       "      <td>3</td>\n",
       "      <td>1</td>\n",
       "      <td>51</td>\n",
       "      <td>22660</td>\n",
       "      <td>6</td>\n",
       "      <td>111</td>\n",
       "      <td>...</td>\n",
       "      <td>NaN</td>\n",
       "      <td>1</td>\n",
       "      <td>NaN</td>\n",
       "      <td>NaN</td>\n",
       "      <td>NaN</td>\n",
       "      <td>NaN</td>\n",
       "      <td>NaN</td>\n",
       "      <td>NaN</td>\n",
       "      <td>NaN</td>\n",
       "      <td>NaN</td>\n",
       "    </tr>\n",
       "    <tr>\n",
       "      <th>378219012</th>\n",
       "      <td>3</td>\n",
       "      <td>31</td>\n",
       "      <td>1</td>\n",
       "      <td>0</td>\n",
       "      <td>3</td>\n",
       "      <td>0</td>\n",
       "      <td>52</td>\n",
       "      <td>37980</td>\n",
       "      <td>34</td>\n",
       "      <td>258</td>\n",
       "      <td>...</td>\n",
       "      <td>NaN</td>\n",
       "      <td>NaN</td>\n",
       "      <td>NaN</td>\n",
       "      <td>NaN</td>\n",
       "      <td>NaN</td>\n",
       "      <td>NaN</td>\n",
       "      <td>NaN</td>\n",
       "      <td>NaN</td>\n",
       "      <td>NaN</td>\n",
       "      <td>NaN</td>\n",
       "    </tr>\n",
       "    <tr>\n",
       "      <th>247799212</th>\n",
       "      <td>8</td>\n",
       "      <td>4</td>\n",
       "      <td>1</td>\n",
       "      <td>0</td>\n",
       "      <td>3</td>\n",
       "      <td>1</td>\n",
       "      <td>22</td>\n",
       "      <td>41860</td>\n",
       "      <td>9</td>\n",
       "      <td>72</td>\n",
       "      <td>...</td>\n",
       "      <td>NaN</td>\n",
       "      <td>NaN</td>\n",
       "      <td>NaN</td>\n",
       "      <td>NaN</td>\n",
       "      <td>NaN</td>\n",
       "      <td>NaN</td>\n",
       "      <td>NaN</td>\n",
       "      <td>NaN</td>\n",
       "      <td>NaN</td>\n",
       "      <td>NaN</td>\n",
       "    </tr>\n",
       "    <tr>\n",
       "      <th>152107712</th>\n",
       "      <td>2</td>\n",
       "      <td>38</td>\n",
       "      <td>1</td>\n",
       "      <td>0</td>\n",
       "      <td>3</td>\n",
       "      <td>1</td>\n",
       "      <td>48</td>\n",
       "      <td>35260</td>\n",
       "      <td>11</td>\n",
       "      <td>155</td>\n",
       "      <td>...</td>\n",
       "      <td>NaN</td>\n",
       "      <td>NaN</td>\n",
       "      <td>1</td>\n",
       "      <td>NaN</td>\n",
       "      <td>1</td>\n",
       "      <td>NaN</td>\n",
       "      <td>NaN</td>\n",
       "      <td>NaN</td>\n",
       "      <td>1</td>\n",
       "      <td>1</td>\n",
       "    </tr>\n",
       "  </tbody>\n",
       "</table>\n",
       "<p>10 rows × 48 columns</p>\n",
       "</div>"
      ],
      "text/plain": [
       "            patient_age_group  patient_state  ethinicity  household_income  \\\n",
       "patient_id                                                                   \n",
       "336201912                  10             41           1                 0   \n",
       "94237712                    5             29           1                 0   \n",
       "186124512                   1              4           1                 0   \n",
       "767144212                   2             34           1                 0   \n",
       "104743512                   3             11           1                 0   \n",
       "127502512                   3             29           1                 0   \n",
       "455501012                   6              5           1                 0   \n",
       "378219012                   3             31           1                 0   \n",
       "247799212                   8              4           1                 0   \n",
       "152107712                   2             38           1                 0   \n",
       "\n",
       "            education_level  is_screener  visits   cbsa  num_visits  \\\n",
       "patient_id                                                            \n",
       "336201912                 3            1      37  43940           8   \n",
       "94237712                  3            1     129  36540          20   \n",
       "186124512                 3            0      26  31080           5   \n",
       "767144212                 3            1       2  35620          43   \n",
       "104743512                 3            0      18  25900           6   \n",
       "127502512                 3            1     162  30700          11   \n",
       "455501012                 3            1      51  22660           6   \n",
       "378219012                 3            0      52  37980          34   \n",
       "247799212                 3            1      22  41860           9   \n",
       "152107712                 3            1      48  35260          11   \n",
       "\n",
       "            num_procedures  ...    625.3  V70.0  V22.1  V74.5  V27.0  V22.2  \\\n",
       "patient_id                  ...                                               \n",
       "336201912               49  ...      NaN    NaN    NaN    NaN    NaN    NaN   \n",
       "94237712               247  ...      NaN      1      1    NaN      1    NaN   \n",
       "186124512               18  ...      NaN    NaN    NaN    NaN    NaN    NaN   \n",
       "767144212              293  ...      NaN      1      1    NaN      1      1   \n",
       "104743512               78  ...      NaN    NaN    NaN    NaN    NaN    NaN   \n",
       "127502512              126  ...      NaN    NaN    NaN    NaN    NaN    NaN   \n",
       "455501012              111  ...      NaN      1    NaN    NaN    NaN    NaN   \n",
       "378219012              258  ...      NaN    NaN    NaN    NaN    NaN    NaN   \n",
       "247799212               72  ...      NaN    NaN    NaN    NaN    NaN    NaN   \n",
       "152107712              155  ...      NaN    NaN      1    NaN      1    NaN   \n",
       "\n",
       "            V28.3  V22.0  V25.2  V24.2  \n",
       "patient_id                              \n",
       "336201912     NaN    NaN    NaN    NaN  \n",
       "94237712        1    NaN    NaN    NaN  \n",
       "186124512     NaN    NaN    NaN    NaN  \n",
       "767144212       1      1    NaN      1  \n",
       "104743512     NaN    NaN    NaN    NaN  \n",
       "127502512     NaN    NaN    NaN    NaN  \n",
       "455501012     NaN    NaN    NaN    NaN  \n",
       "378219012     NaN    NaN    NaN    NaN  \n",
       "247799212     NaN    NaN    NaN    NaN  \n",
       "152107712     NaN    NaN      1      1  \n",
       "\n",
       "[10 rows x 48 columns]"
      ]
     },
     "execution_count": 390,
     "metadata": {},
     "output_type": "execute_result"
    }
   ],
   "source": [
    "bigte[:10]"
   ]
  },
  {
   "cell_type": "code",
   "execution_count": 391,
   "metadata": {
    "collapsed": true
   },
   "outputs": [],
   "source": [
    "bigte.to_csv(fdir+'train_big_table_encoded.csv')"
   ]
  },
  {
   "cell_type": "markdown",
   "metadata": {},
   "source": [
    "## Procedures"
   ]
  },
  {
   "cell_type": "code",
   "execution_count": 359,
   "metadata": {
    "collapsed": false
   },
   "outputs": [
    {
     "data": {
      "text/plain": [
       "(83273, 101)"
      ]
     },
     "execution_count": 359,
     "metadata": {},
     "output_type": "execute_result"
    }
   ],
   "source": [
    "procs = pd.read_csv(fdir+'procedure/procedure_counts_selected.csv.gz')\n",
    "procs.shape"
   ]
  },
  {
   "cell_type": "code",
   "execution_count": 361,
   "metadata": {
    "collapsed": false,
    "scrolled": true
   },
   "outputs": [
    {
     "data": {
      "text/html": [
       "<div>\n",
       "<table border=\"1\" class=\"dataframe\">\n",
       "  <thead>\n",
       "    <tr style=\"text-align: right;\">\n",
       "      <th></th>\n",
       "      <th>57454</th>\n",
       "      <th>81252</th>\n",
       "      <th>57456</th>\n",
       "      <th>57455</th>\n",
       "      <th>S4020</th>\n",
       "      <th>Q4111</th>\n",
       "      <th>S0605</th>\n",
       "      <th>23675</th>\n",
       "      <th>3303F</th>\n",
       "      <th>27756</th>\n",
       "      <th>...</th>\n",
       "      <th>28570</th>\n",
       "      <th>24350</th>\n",
       "      <th>L2190</th>\n",
       "      <th>22864</th>\n",
       "      <th>57461</th>\n",
       "      <th>61536</th>\n",
       "      <th>76642</th>\n",
       "      <th>G0122</th>\n",
       "      <th>D0460</th>\n",
       "      <th>G8698</th>\n",
       "    </tr>\n",
       "    <tr>\n",
       "      <th>patient_id</th>\n",
       "      <th></th>\n",
       "      <th></th>\n",
       "      <th></th>\n",
       "      <th></th>\n",
       "      <th></th>\n",
       "      <th></th>\n",
       "      <th></th>\n",
       "      <th></th>\n",
       "      <th></th>\n",
       "      <th></th>\n",
       "      <th></th>\n",
       "      <th></th>\n",
       "      <th></th>\n",
       "      <th></th>\n",
       "      <th></th>\n",
       "      <th></th>\n",
       "      <th></th>\n",
       "      <th></th>\n",
       "      <th></th>\n",
       "      <th></th>\n",
       "      <th></th>\n",
       "    </tr>\n",
       "  </thead>\n",
       "  <tbody>\n",
       "    <tr>\n",
       "      <th>84549453</th>\n",
       "      <td>0</td>\n",
       "      <td>0</td>\n",
       "      <td>0</td>\n",
       "      <td>0</td>\n",
       "      <td>0</td>\n",
       "      <td>0</td>\n",
       "      <td>0</td>\n",
       "      <td>0</td>\n",
       "      <td>0</td>\n",
       "      <td>0</td>\n",
       "      <td>...</td>\n",
       "      <td>0</td>\n",
       "      <td>0</td>\n",
       "      <td>0</td>\n",
       "      <td>0</td>\n",
       "      <td>0</td>\n",
       "      <td>0</td>\n",
       "      <td>0</td>\n",
       "      <td>0</td>\n",
       "      <td>0</td>\n",
       "      <td>0</td>\n",
       "    </tr>\n",
       "    <tr>\n",
       "      <th>84549821</th>\n",
       "      <td>1</td>\n",
       "      <td>0</td>\n",
       "      <td>0</td>\n",
       "      <td>0</td>\n",
       "      <td>0</td>\n",
       "      <td>0</td>\n",
       "      <td>0</td>\n",
       "      <td>0</td>\n",
       "      <td>0</td>\n",
       "      <td>0</td>\n",
       "      <td>...</td>\n",
       "      <td>0</td>\n",
       "      <td>0</td>\n",
       "      <td>0</td>\n",
       "      <td>0</td>\n",
       "      <td>0</td>\n",
       "      <td>0</td>\n",
       "      <td>0</td>\n",
       "      <td>0</td>\n",
       "      <td>0</td>\n",
       "      <td>0</td>\n",
       "    </tr>\n",
       "  </tbody>\n",
       "</table>\n",
       "<p>2 rows × 100 columns</p>\n",
       "</div>"
      ],
      "text/plain": [
       "            57454  81252  57456  57455  S4020  Q4111  S0605  23675  3303F  \\\n",
       "patient_id                                                                  \n",
       "84549453        0      0      0      0      0      0      0      0      0   \n",
       "84549821        1      0      0      0      0      0      0      0      0   \n",
       "\n",
       "            27756  ...    28570  24350  L2190  22864  57461  61536  76642  \\\n",
       "patient_id         ...                                                      \n",
       "84549453        0  ...        0      0      0      0      0      0      0   \n",
       "84549821        0  ...        0      0      0      0      0      0      0   \n",
       "\n",
       "            G0122  D0460  G8698  \n",
       "patient_id                       \n",
       "84549453        0      0      0  \n",
       "84549821        0      0      0  \n",
       "\n",
       "[2 rows x 100 columns]"
      ]
     },
     "execution_count": 361,
     "metadata": {},
     "output_type": "execute_result"
    }
   ],
   "source": [
    "procs.set_index('patient_id', inplace=True)\n",
    "procs[:2]"
   ]
  },
  {
   "cell_type": "code",
   "execution_count": 362,
   "metadata": {
    "collapsed": false,
    "scrolled": true
   },
   "outputs": [
    {
     "name": "stdout",
     "output_type": "stream",
     "text": [
      "(1157817, 79)\n"
     ]
    },
    {
     "data": {
      "text/plain": [
       "(1157817, 179)"
      ]
     },
     "execution_count": 362,
     "metadata": {},
     "output_type": "execute_result"
    }
   ],
   "source": [
    "print(bigt.shape)\n",
    "bigtp = bigt.merge(procs, left_index=True, right_index=True, how='left')\n",
    "bigtp.shape"
   ]
  },
  {
   "cell_type": "code",
   "execution_count": 363,
   "metadata": {
    "collapsed": true
   },
   "outputs": [],
   "source": [
    "bigtp.to_csv(fdir+'train_big_table.csv')"
   ]
  },
  {
   "cell_type": "code",
   "execution_count": 364,
   "metadata": {
    "collapsed": false,
    "scrolled": true
   },
   "outputs": [
    {
     "name": "stdout",
     "output_type": "stream",
     "text": [
      "(1157817, 79)\n"
     ]
    },
    {
     "data": {
      "text/plain": [
       "(1157817, 179)"
      ]
     },
     "execution_count": 364,
     "metadata": {},
     "output_type": "execute_result"
    }
   ],
   "source": [
    "print(bigte.shape)\n",
    "bigtep = bigte.merge(procs, left_index=True, right_index=True, how='left')\n",
    "bigtep.shape"
   ]
  },
  {
   "cell_type": "code",
   "execution_count": 365,
   "metadata": {
    "collapsed": true
   },
   "outputs": [],
   "source": [
    "bigtep.to_csv(fdir+'train_big_table_encoded.csv')"
   ]
  },
  {
   "cell_type": "markdown",
   "metadata": {},
   "source": [
    "## test_top"
   ]
  },
  {
   "cell_type": "code",
   "execution_count": 369,
   "metadata": {
    "collapsed": false
   },
   "outputs": [
    {
     "data": {
      "text/plain": [
       "(5247942, 3)"
      ]
     },
     "execution_count": 369,
     "metadata": {},
     "output_type": "execute_result"
    }
   ],
   "source": [
    "test_diagnosis_top = pd.read_csv('test_diagnosis_top.csv')\n",
    "test_diagnosis_top.shape"
   ]
  },
  {
   "cell_type": "code",
   "execution_count": 370,
   "metadata": {
    "collapsed": false
   },
   "outputs": [
    {
     "data": {
      "text/html": [
       "<div>\n",
       "<table border=\"1\" class=\"dataframe\">\n",
       "  <thead>\n",
       "    <tr style=\"text-align: right;\">\n",
       "      <th></th>\n",
       "      <th>patient_id</th>\n",
       "      <th>diagnosis_code</th>\n",
       "      <th>diagnosis_code_count</th>\n",
       "    </tr>\n",
       "  </thead>\n",
       "  <tbody>\n",
       "    <tr>\n",
       "      <th>0</th>\n",
       "      <td>84548780</td>\n",
       "      <td>462</td>\n",
       "      <td>2</td>\n",
       "    </tr>\n",
       "    <tr>\n",
       "      <th>1</th>\n",
       "      <td>84548780</td>\n",
       "      <td>496</td>\n",
       "      <td>3</td>\n",
       "    </tr>\n",
       "    <tr>\n",
       "      <th>2</th>\n",
       "      <td>84548780</td>\n",
       "      <td>650</td>\n",
       "      <td>1</td>\n",
       "    </tr>\n",
       "    <tr>\n",
       "      <th>3</th>\n",
       "      <td>84548841</td>\n",
       "      <td>462</td>\n",
       "      <td>3</td>\n",
       "    </tr>\n",
       "    <tr>\n",
       "      <th>4</th>\n",
       "      <td>84548841</td>\n",
       "      <td>V70.0</td>\n",
       "      <td>2</td>\n",
       "    </tr>\n",
       "  </tbody>\n",
       "</table>\n",
       "</div>"
      ],
      "text/plain": [
       "   patient_id diagnosis_code  diagnosis_code_count\n",
       "0    84548780            462                     2\n",
       "1    84548780            496                     3\n",
       "2    84548780            650                     1\n",
       "3    84548841            462                     3\n",
       "4    84548841          V70.0                     2"
      ]
     },
     "execution_count": 370,
     "metadata": {},
     "output_type": "execute_result"
    }
   ],
   "source": [
    "#test_diagnosis_top.set_index('patient_id', inplace=True)\n",
    "test_diagnosis_top[:5]"
   ]
  },
  {
   "cell_type": "code",
   "execution_count": 371,
   "metadata": {
    "collapsed": false
   },
   "outputs": [],
   "source": [
    "test_pivot = test_diagnosis_top.pivot(index='patient_id', columns='diagnosis_code', values='diagnosis_code_count')"
   ]
  },
  {
   "cell_type": "code",
   "execution_count": 372,
   "metadata": {
    "collapsed": false,
    "scrolled": true
   },
   "outputs": [
    {
     "data": {
      "text/html": [
       "<div>\n",
       "<table border=\"1\" class=\"dataframe\">\n",
       "  <thead>\n",
       "    <tr style=\"text-align: right;\">\n",
       "      <th>diagnosis_code</th>\n",
       "      <th>401.9</th>\n",
       "      <th>462</th>\n",
       "      <th>496</th>\n",
       "      <th>585.3</th>\n",
       "      <th>616.0</th>\n",
       "      <th>616.10</th>\n",
       "      <th>620.2</th>\n",
       "      <th>622.10</th>\n",
       "      <th>622.11</th>\n",
       "      <th>623.5</th>\n",
       "      <th>...</th>\n",
       "      <th>795.00</th>\n",
       "      <th>V22.0</th>\n",
       "      <th>V22.1</th>\n",
       "      <th>V22.2</th>\n",
       "      <th>V24.2</th>\n",
       "      <th>V25.2</th>\n",
       "      <th>V27.0</th>\n",
       "      <th>V28.3</th>\n",
       "      <th>V70.0</th>\n",
       "      <th>V74.5</th>\n",
       "    </tr>\n",
       "    <tr>\n",
       "      <th>patient_id</th>\n",
       "      <th></th>\n",
       "      <th></th>\n",
       "      <th></th>\n",
       "      <th></th>\n",
       "      <th></th>\n",
       "      <th></th>\n",
       "      <th></th>\n",
       "      <th></th>\n",
       "      <th></th>\n",
       "      <th></th>\n",
       "      <th></th>\n",
       "      <th></th>\n",
       "      <th></th>\n",
       "      <th></th>\n",
       "      <th></th>\n",
       "      <th></th>\n",
       "      <th></th>\n",
       "      <th></th>\n",
       "      <th></th>\n",
       "      <th></th>\n",
       "      <th></th>\n",
       "    </tr>\n",
       "  </thead>\n",
       "  <tbody>\n",
       "    <tr>\n",
       "      <th>84548780</th>\n",
       "      <td>NaN</td>\n",
       "      <td>2</td>\n",
       "      <td>3</td>\n",
       "      <td>NaN</td>\n",
       "      <td>NaN</td>\n",
       "      <td>NaN</td>\n",
       "      <td>NaN</td>\n",
       "      <td>NaN</td>\n",
       "      <td>NaN</td>\n",
       "      <td>NaN</td>\n",
       "      <td>...</td>\n",
       "      <td>NaN</td>\n",
       "      <td>NaN</td>\n",
       "      <td>NaN</td>\n",
       "      <td>NaN</td>\n",
       "      <td>NaN</td>\n",
       "      <td>NaN</td>\n",
       "      <td>NaN</td>\n",
       "      <td>NaN</td>\n",
       "      <td>NaN</td>\n",
       "      <td>NaN</td>\n",
       "    </tr>\n",
       "    <tr>\n",
       "      <th>84548841</th>\n",
       "      <td>NaN</td>\n",
       "      <td>3</td>\n",
       "      <td>NaN</td>\n",
       "      <td>NaN</td>\n",
       "      <td>NaN</td>\n",
       "      <td>NaN</td>\n",
       "      <td>NaN</td>\n",
       "      <td>NaN</td>\n",
       "      <td>NaN</td>\n",
       "      <td>NaN</td>\n",
       "      <td>...</td>\n",
       "      <td>NaN</td>\n",
       "      <td>NaN</td>\n",
       "      <td>NaN</td>\n",
       "      <td>NaN</td>\n",
       "      <td>NaN</td>\n",
       "      <td>NaN</td>\n",
       "      <td>NaN</td>\n",
       "      <td>NaN</td>\n",
       "      <td>2</td>\n",
       "      <td>NaN</td>\n",
       "    </tr>\n",
       "    <tr>\n",
       "      <th>84548915</th>\n",
       "      <td>15</td>\n",
       "      <td>NaN</td>\n",
       "      <td>1</td>\n",
       "      <td>NaN</td>\n",
       "      <td>NaN</td>\n",
       "      <td>NaN</td>\n",
       "      <td>NaN</td>\n",
       "      <td>NaN</td>\n",
       "      <td>NaN</td>\n",
       "      <td>NaN</td>\n",
       "      <td>...</td>\n",
       "      <td>NaN</td>\n",
       "      <td>NaN</td>\n",
       "      <td>NaN</td>\n",
       "      <td>NaN</td>\n",
       "      <td>NaN</td>\n",
       "      <td>NaN</td>\n",
       "      <td>NaN</td>\n",
       "      <td>NaN</td>\n",
       "      <td>NaN</td>\n",
       "      <td>NaN</td>\n",
       "    </tr>\n",
       "    <tr>\n",
       "      <th>84549024</th>\n",
       "      <td>NaN</td>\n",
       "      <td>7</td>\n",
       "      <td>NaN</td>\n",
       "      <td>NaN</td>\n",
       "      <td>NaN</td>\n",
       "      <td>NaN</td>\n",
       "      <td>2</td>\n",
       "      <td>NaN</td>\n",
       "      <td>NaN</td>\n",
       "      <td>NaN</td>\n",
       "      <td>...</td>\n",
       "      <td>NaN</td>\n",
       "      <td>NaN</td>\n",
       "      <td>2</td>\n",
       "      <td>18</td>\n",
       "      <td>NaN</td>\n",
       "      <td>NaN</td>\n",
       "      <td>2</td>\n",
       "      <td>NaN</td>\n",
       "      <td>3</td>\n",
       "      <td>NaN</td>\n",
       "    </tr>\n",
       "    <tr>\n",
       "      <th>84549114</th>\n",
       "      <td>NaN</td>\n",
       "      <td>NaN</td>\n",
       "      <td>NaN</td>\n",
       "      <td>NaN</td>\n",
       "      <td>NaN</td>\n",
       "      <td>NaN</td>\n",
       "      <td>NaN</td>\n",
       "      <td>NaN</td>\n",
       "      <td>NaN</td>\n",
       "      <td>NaN</td>\n",
       "      <td>...</td>\n",
       "      <td>NaN</td>\n",
       "      <td>NaN</td>\n",
       "      <td>NaN</td>\n",
       "      <td>NaN</td>\n",
       "      <td>NaN</td>\n",
       "      <td>NaN</td>\n",
       "      <td>NaN</td>\n",
       "      <td>NaN</td>\n",
       "      <td>NaN</td>\n",
       "      <td>2</td>\n",
       "    </tr>\n",
       "  </tbody>\n",
       "</table>\n",
       "<p>5 rows × 30 columns</p>\n",
       "</div>"
      ],
      "text/plain": [
       "diagnosis_code  401.9  462  496  585.3  616.0  616.10  620.2  622.10  622.11  \\\n",
       "patient_id                                                                     \n",
       "84548780          NaN    2    3    NaN    NaN     NaN    NaN     NaN     NaN   \n",
       "84548841          NaN    3  NaN    NaN    NaN     NaN    NaN     NaN     NaN   \n",
       "84548915           15  NaN    1    NaN    NaN     NaN    NaN     NaN     NaN   \n",
       "84549024          NaN    7  NaN    NaN    NaN     NaN      2     NaN     NaN   \n",
       "84549114          NaN  NaN  NaN    NaN    NaN     NaN    NaN     NaN     NaN   \n",
       "\n",
       "diagnosis_code  623.5  ...    795.00  V22.0  V22.1  V22.2  V24.2  V25.2  \\\n",
       "patient_id             ...                                                \n",
       "84548780          NaN  ...       NaN    NaN    NaN    NaN    NaN    NaN   \n",
       "84548841          NaN  ...       NaN    NaN    NaN    NaN    NaN    NaN   \n",
       "84548915          NaN  ...       NaN    NaN    NaN    NaN    NaN    NaN   \n",
       "84549024          NaN  ...       NaN    NaN      2     18    NaN    NaN   \n",
       "84549114          NaN  ...       NaN    NaN    NaN    NaN    NaN    NaN   \n",
       "\n",
       "diagnosis_code  V27.0  V28.3  V70.0  V74.5  \n",
       "patient_id                                  \n",
       "84548780          NaN    NaN    NaN    NaN  \n",
       "84548841          NaN    NaN      2    NaN  \n",
       "84548915          NaN    NaN    NaN    NaN  \n",
       "84549024            2    NaN      3    NaN  \n",
       "84549114          NaN    NaN    NaN      2  \n",
       "\n",
       "[5 rows x 30 columns]"
      ]
     },
     "execution_count": 372,
     "metadata": {},
     "output_type": "execute_result"
    }
   ],
   "source": [
    "test_pivot[:5]"
   ]
  },
  {
   "cell_type": "code",
   "execution_count": 393,
   "metadata": {
    "collapsed": false
   },
   "outputs": [
    {
     "data": {
      "text/plain": [
       "(1538873, 30)"
      ]
     },
     "execution_count": 393,
     "metadata": {},
     "output_type": "execute_result"
    }
   ],
   "source": [
    "test_pivot.shape"
   ]
  },
  {
   "cell_type": "code",
   "execution_count": 404,
   "metadata": {
    "collapsed": false
   },
   "outputs": [
    {
     "data": {
      "text/plain": [
       "(1701813, 18)"
      ]
     },
     "execution_count": 404,
     "metadata": {},
     "output_type": "execute_result"
    }
   ],
   "source": [
    "test_big_table = pd.read_csv(fdir+'test_big_table.csv.gz')\n",
    "test_big_table.set_index('patient_id', inplace=True)\n",
    "test_big_table = test_big_table[test_cols]\n",
    "test_big_table.shape"
   ]
  },
  {
   "cell_type": "code",
   "execution_count": 405,
   "metadata": {
    "collapsed": false,
    "scrolled": true
   },
   "outputs": [
    {
     "data": {
      "text/html": [
       "<div>\n",
       "<table border=\"1\" class=\"dataframe\">\n",
       "  <thead>\n",
       "    <tr style=\"text-align: right;\">\n",
       "      <th></th>\n",
       "      <th>patient_age_group</th>\n",
       "      <th>patient_state</th>\n",
       "      <th>ethinicity</th>\n",
       "      <th>household_income</th>\n",
       "      <th>education_level</th>\n",
       "      <th>visits</th>\n",
       "      <th>cbsa</th>\n",
       "      <th>num_visits</th>\n",
       "      <th>num_procedures</th>\n",
       "      <th>num_diagnosis</th>\n",
       "      <th>num_rx</th>\n",
       "      <th>RX_ASSISTANCE</th>\n",
       "      <th>RX_CASH</th>\n",
       "      <th>RX_COMMERCIAL</th>\n",
       "      <th>RX_MANAGED_MEDICAID</th>\n",
       "      <th>RX_MEDICAID</th>\n",
       "      <th>RX_MEDICARE</th>\n",
       "      <th>632</th>\n",
       "    </tr>\n",
       "    <tr>\n",
       "      <th>patient_id</th>\n",
       "      <th></th>\n",
       "      <th></th>\n",
       "      <th></th>\n",
       "      <th></th>\n",
       "      <th></th>\n",
       "      <th></th>\n",
       "      <th></th>\n",
       "      <th></th>\n",
       "      <th></th>\n",
       "      <th></th>\n",
       "      <th></th>\n",
       "      <th></th>\n",
       "      <th></th>\n",
       "      <th></th>\n",
       "      <th></th>\n",
       "      <th></th>\n",
       "      <th></th>\n",
       "      <th></th>\n",
       "    </tr>\n",
       "  </thead>\n",
       "  <tbody>\n",
       "    <tr>\n",
       "      <th>148341312</th>\n",
       "      <td>66-68</td>\n",
       "      <td>TX</td>\n",
       "      <td>ALL OTHER</td>\n",
       "      <td>UNKNOWN</td>\n",
       "      <td>UNKNOWN</td>\n",
       "      <td>144</td>\n",
       "      <td>19100</td>\n",
       "      <td>11</td>\n",
       "      <td>135</td>\n",
       "      <td>11</td>\n",
       "      <td>2</td>\n",
       "      <td>0</td>\n",
       "      <td>1</td>\n",
       "      <td>1</td>\n",
       "      <td>0</td>\n",
       "      <td>0</td>\n",
       "      <td>0</td>\n",
       "      <td>NaN</td>\n",
       "    </tr>\n",
       "    <tr>\n",
       "      <th>130010912</th>\n",
       "      <td>45-47</td>\n",
       "      <td>IN</td>\n",
       "      <td>ALL OTHER</td>\n",
       "      <td>UNKNOWN</td>\n",
       "      <td>UNKNOWN</td>\n",
       "      <td>92</td>\n",
       "      <td>26900</td>\n",
       "      <td>8</td>\n",
       "      <td>85</td>\n",
       "      <td>8</td>\n",
       "      <td>3</td>\n",
       "      <td>0</td>\n",
       "      <td>1</td>\n",
       "      <td>1</td>\n",
       "      <td>1</td>\n",
       "      <td>0</td>\n",
       "      <td>0</td>\n",
       "      <td>NaN</td>\n",
       "    </tr>\n",
       "    <tr>\n",
       "      <th>103994412</th>\n",
       "      <td>27-29</td>\n",
       "      <td>CA</td>\n",
       "      <td>ALL OTHER</td>\n",
       "      <td>UNKNOWN</td>\n",
       "      <td>UNKNOWN</td>\n",
       "      <td>168</td>\n",
       "      <td>31080</td>\n",
       "      <td>37</td>\n",
       "      <td>417</td>\n",
       "      <td>42</td>\n",
       "      <td>3</td>\n",
       "      <td>1</td>\n",
       "      <td>1</td>\n",
       "      <td>1</td>\n",
       "      <td>0</td>\n",
       "      <td>0</td>\n",
       "      <td>0</td>\n",
       "      <td>NaN</td>\n",
       "    </tr>\n",
       "    <tr>\n",
       "      <th>318658812</th>\n",
       "      <td>27-29</td>\n",
       "      <td>TN</td>\n",
       "      <td>ALL OTHER</td>\n",
       "      <td>UNKNOWN</td>\n",
       "      <td>UNKNOWN</td>\n",
       "      <td>72</td>\n",
       "      <td>32820</td>\n",
       "      <td>14</td>\n",
       "      <td>150</td>\n",
       "      <td>16</td>\n",
       "      <td>4</td>\n",
       "      <td>0</td>\n",
       "      <td>1</td>\n",
       "      <td>0</td>\n",
       "      <td>1</td>\n",
       "      <td>1</td>\n",
       "      <td>1</td>\n",
       "      <td>NaN</td>\n",
       "    </tr>\n",
       "  </tbody>\n",
       "</table>\n",
       "</div>"
      ],
      "text/plain": [
       "           patient_age_group patient_state ethinicity household_income  \\\n",
       "patient_id                                                               \n",
       "148341312              66-68            TX  ALL OTHER          UNKNOWN   \n",
       "130010912              45-47            IN  ALL OTHER          UNKNOWN   \n",
       "103994412              27-29            CA  ALL OTHER          UNKNOWN   \n",
       "318658812              27-29            TN  ALL OTHER          UNKNOWN   \n",
       "\n",
       "           education_level  visits   cbsa  num_visits  num_procedures  \\\n",
       "patient_id                                                              \n",
       "148341312          UNKNOWN     144  19100          11             135   \n",
       "130010912          UNKNOWN      92  26900           8              85   \n",
       "103994412          UNKNOWN     168  31080          37             417   \n",
       "318658812          UNKNOWN      72  32820          14             150   \n",
       "\n",
       "            num_diagnosis  num_rx  RX_ASSISTANCE  RX_CASH  RX_COMMERCIAL  \\\n",
       "patient_id                                                                 \n",
       "148341312              11       2              0        1              1   \n",
       "130010912               8       3              0        1              1   \n",
       "103994412              42       3              1        1              1   \n",
       "318658812              16       4              0        1              0   \n",
       "\n",
       "            RX_MANAGED_MEDICAID  RX_MEDICAID  RX_MEDICARE  632  \n",
       "patient_id                                                      \n",
       "148341312                     0            0            0  NaN  \n",
       "130010912                     1            0            0  NaN  \n",
       "103994412                     0            0            0  NaN  \n",
       "318658812                     1            1            1  NaN  "
      ]
     },
     "execution_count": 405,
     "metadata": {},
     "output_type": "execute_result"
    }
   ],
   "source": [
    "test_big_table[:4]"
   ]
  },
  {
   "cell_type": "code",
   "execution_count": 427,
   "metadata": {
    "collapsed": false
   },
   "outputs": [
    {
     "name": "stdout",
     "output_type": "stream",
     "text": [
      "<class 'pandas.core.frame.DataFrame'>\n",
      "Int64Index: 1701813 entries, 148341312 to 204245024\n",
      "Data columns (total 18 columns):\n",
      "patient_age_group      object\n",
      "patient_state          object\n",
      "ethinicity             object\n",
      "household_income       object\n",
      "education_level        object\n",
      "visits                 int64\n",
      "cbsa                   float64\n",
      "num_visits             float64\n",
      "num_procedures         int64\n",
      "num_diagnosis          float64\n",
      "num_rx                 float64\n",
      "RX_ASSISTANCE          float64\n",
      "RX_CASH                float64\n",
      "RX_COMMERCIAL          float64\n",
      "RX_MANAGED_MEDICAID    float64\n",
      "RX_MEDICAID            float64\n",
      "RX_MEDICARE            float64\n",
      "632                    float64\n",
      "dtypes: float64(11), int64(2), object(5)\n",
      "memory usage: 246.7+ MB\n"
     ]
    }
   ],
   "source": [
    "test_big_table.info()"
   ]
  },
  {
   "cell_type": "code",
   "execution_count": 406,
   "metadata": {
    "collapsed": false
   },
   "outputs": [],
   "source": [
    "test_bigt = test_big_table.merge(test_pivot, left_index=True, right_index=True, how='left')"
   ]
  },
  {
   "cell_type": "code",
   "execution_count": 407,
   "metadata": {
    "collapsed": false
   },
   "outputs": [
    {
     "data": {
      "text/plain": [
       "(1701813, 48)"
      ]
     },
     "execution_count": 407,
     "metadata": {},
     "output_type": "execute_result"
    }
   ],
   "source": [
    "test_bigt.shape"
   ]
  },
  {
   "cell_type": "code",
   "execution_count": 408,
   "metadata": {
    "collapsed": false,
    "scrolled": true
   },
   "outputs": [
    {
     "data": {
      "text/html": [
       "<div>\n",
       "<table border=\"1\" class=\"dataframe\">\n",
       "  <thead>\n",
       "    <tr style=\"text-align: right;\">\n",
       "      <th></th>\n",
       "      <th>patient_age_group</th>\n",
       "      <th>patient_state</th>\n",
       "      <th>ethinicity</th>\n",
       "      <th>household_income</th>\n",
       "      <th>education_level</th>\n",
       "      <th>visits</th>\n",
       "      <th>cbsa</th>\n",
       "      <th>num_visits</th>\n",
       "      <th>num_procedures</th>\n",
       "      <th>num_diagnosis</th>\n",
       "      <th>...</th>\n",
       "      <th>795.00</th>\n",
       "      <th>V22.0</th>\n",
       "      <th>V22.1</th>\n",
       "      <th>V22.2</th>\n",
       "      <th>V24.2</th>\n",
       "      <th>V25.2</th>\n",
       "      <th>V27.0</th>\n",
       "      <th>V28.3</th>\n",
       "      <th>V70.0</th>\n",
       "      <th>V74.5</th>\n",
       "    </tr>\n",
       "    <tr>\n",
       "      <th>patient_id</th>\n",
       "      <th></th>\n",
       "      <th></th>\n",
       "      <th></th>\n",
       "      <th></th>\n",
       "      <th></th>\n",
       "      <th></th>\n",
       "      <th></th>\n",
       "      <th></th>\n",
       "      <th></th>\n",
       "      <th></th>\n",
       "      <th></th>\n",
       "      <th></th>\n",
       "      <th></th>\n",
       "      <th></th>\n",
       "      <th></th>\n",
       "      <th></th>\n",
       "      <th></th>\n",
       "      <th></th>\n",
       "      <th></th>\n",
       "      <th></th>\n",
       "      <th></th>\n",
       "    </tr>\n",
       "  </thead>\n",
       "  <tbody>\n",
       "    <tr>\n",
       "      <th>148341312</th>\n",
       "      <td>66-68</td>\n",
       "      <td>TX</td>\n",
       "      <td>ALL OTHER</td>\n",
       "      <td>UNKNOWN</td>\n",
       "      <td>UNKNOWN</td>\n",
       "      <td>144</td>\n",
       "      <td>19100</td>\n",
       "      <td>11</td>\n",
       "      <td>135</td>\n",
       "      <td>11</td>\n",
       "      <td>...</td>\n",
       "      <td>NaN</td>\n",
       "      <td>NaN</td>\n",
       "      <td>NaN</td>\n",
       "      <td>NaN</td>\n",
       "      <td>NaN</td>\n",
       "      <td>NaN</td>\n",
       "      <td>NaN</td>\n",
       "      <td>NaN</td>\n",
       "      <td>8</td>\n",
       "      <td>NaN</td>\n",
       "    </tr>\n",
       "    <tr>\n",
       "      <th>130010912</th>\n",
       "      <td>45-47</td>\n",
       "      <td>IN</td>\n",
       "      <td>ALL OTHER</td>\n",
       "      <td>UNKNOWN</td>\n",
       "      <td>UNKNOWN</td>\n",
       "      <td>92</td>\n",
       "      <td>26900</td>\n",
       "      <td>8</td>\n",
       "      <td>85</td>\n",
       "      <td>8</td>\n",
       "      <td>...</td>\n",
       "      <td>NaN</td>\n",
       "      <td>NaN</td>\n",
       "      <td>NaN</td>\n",
       "      <td>NaN</td>\n",
       "      <td>NaN</td>\n",
       "      <td>NaN</td>\n",
       "      <td>NaN</td>\n",
       "      <td>NaN</td>\n",
       "      <td>5</td>\n",
       "      <td>NaN</td>\n",
       "    </tr>\n",
       "    <tr>\n",
       "      <th>103994412</th>\n",
       "      <td>27-29</td>\n",
       "      <td>CA</td>\n",
       "      <td>ALL OTHER</td>\n",
       "      <td>UNKNOWN</td>\n",
       "      <td>UNKNOWN</td>\n",
       "      <td>168</td>\n",
       "      <td>31080</td>\n",
       "      <td>37</td>\n",
       "      <td>417</td>\n",
       "      <td>42</td>\n",
       "      <td>...</td>\n",
       "      <td>NaN</td>\n",
       "      <td>NaN</td>\n",
       "      <td>NaN</td>\n",
       "      <td>NaN</td>\n",
       "      <td>NaN</td>\n",
       "      <td>NaN</td>\n",
       "      <td>NaN</td>\n",
       "      <td>NaN</td>\n",
       "      <td>NaN</td>\n",
       "      <td>NaN</td>\n",
       "    </tr>\n",
       "    <tr>\n",
       "      <th>318658812</th>\n",
       "      <td>27-29</td>\n",
       "      <td>TN</td>\n",
       "      <td>ALL OTHER</td>\n",
       "      <td>UNKNOWN</td>\n",
       "      <td>UNKNOWN</td>\n",
       "      <td>72</td>\n",
       "      <td>32820</td>\n",
       "      <td>14</td>\n",
       "      <td>150</td>\n",
       "      <td>16</td>\n",
       "      <td>...</td>\n",
       "      <td>NaN</td>\n",
       "      <td>NaN</td>\n",
       "      <td>5</td>\n",
       "      <td>1</td>\n",
       "      <td>NaN</td>\n",
       "      <td>NaN</td>\n",
       "      <td>3</td>\n",
       "      <td>NaN</td>\n",
       "      <td>NaN</td>\n",
       "      <td>NaN</td>\n",
       "    </tr>\n",
       "    <tr>\n",
       "      <th>93750312</th>\n",
       "      <td>54-56</td>\n",
       "      <td>AZ</td>\n",
       "      <td>ALL OTHER</td>\n",
       "      <td>UNKNOWN</td>\n",
       "      <td>UNKNOWN</td>\n",
       "      <td>118</td>\n",
       "      <td>38060</td>\n",
       "      <td>16</td>\n",
       "      <td>99</td>\n",
       "      <td>17</td>\n",
       "      <td>...</td>\n",
       "      <td>NaN</td>\n",
       "      <td>NaN</td>\n",
       "      <td>NaN</td>\n",
       "      <td>NaN</td>\n",
       "      <td>NaN</td>\n",
       "      <td>NaN</td>\n",
       "      <td>NaN</td>\n",
       "      <td>NaN</td>\n",
       "      <td>NaN</td>\n",
       "      <td>NaN</td>\n",
       "    </tr>\n",
       "  </tbody>\n",
       "</table>\n",
       "<p>5 rows × 48 columns</p>\n",
       "</div>"
      ],
      "text/plain": [
       "           patient_age_group patient_state ethinicity household_income  \\\n",
       "patient_id                                                               \n",
       "148341312              66-68            TX  ALL OTHER          UNKNOWN   \n",
       "130010912              45-47            IN  ALL OTHER          UNKNOWN   \n",
       "103994412              27-29            CA  ALL OTHER          UNKNOWN   \n",
       "318658812              27-29            TN  ALL OTHER          UNKNOWN   \n",
       "93750312               54-56            AZ  ALL OTHER          UNKNOWN   \n",
       "\n",
       "           education_level  visits   cbsa  num_visits  num_procedures  \\\n",
       "patient_id                                                              \n",
       "148341312          UNKNOWN     144  19100          11             135   \n",
       "130010912          UNKNOWN      92  26900           8              85   \n",
       "103994412          UNKNOWN     168  31080          37             417   \n",
       "318658812          UNKNOWN      72  32820          14             150   \n",
       "93750312           UNKNOWN     118  38060          16              99   \n",
       "\n",
       "            num_diagnosis  ...    795.00  V22.0  V22.1  V22.2  V24.2  V25.2  \\\n",
       "patient_id                 ...                                                \n",
       "148341312              11  ...       NaN    NaN    NaN    NaN    NaN    NaN   \n",
       "130010912               8  ...       NaN    NaN    NaN    NaN    NaN    NaN   \n",
       "103994412              42  ...       NaN    NaN    NaN    NaN    NaN    NaN   \n",
       "318658812              16  ...       NaN    NaN      5      1    NaN    NaN   \n",
       "93750312               17  ...       NaN    NaN    NaN    NaN    NaN    NaN   \n",
       "\n",
       "            V27.0  V28.3  V70.0  V74.5  \n",
       "patient_id                              \n",
       "148341312     NaN    NaN      8    NaN  \n",
       "130010912     NaN    NaN      5    NaN  \n",
       "103994412     NaN    NaN    NaN    NaN  \n",
       "318658812       3    NaN    NaN    NaN  \n",
       "93750312      NaN    NaN    NaN    NaN  \n",
       "\n",
       "[5 rows x 48 columns]"
      ]
     },
     "execution_count": 408,
     "metadata": {},
     "output_type": "execute_result"
    }
   ],
   "source": [
    "test_bigt[:5]"
   ]
  },
  {
   "cell_type": "code",
   "execution_count": 454,
   "metadata": {
    "collapsed": true
   },
   "outputs": [],
   "source": [
    "test_bigt.to_csv(fdir+'test_big_table.csv')"
   ]
  },
  {
   "cell_type": "code",
   "execution_count": 421,
   "metadata": {
    "collapsed": false
   },
   "outputs": [
    {
     "data": {
      "text/plain": [
       "(1701813, 18)"
      ]
     },
     "execution_count": 421,
     "metadata": {},
     "output_type": "execute_result"
    }
   ],
   "source": [
    "test_big_table_encoded = pd.read_csv(fdir+'test_big_table_encoded.csv.gz')\n",
    "test_big_table_encoded.set_index('patient_id', inplace=True)\n",
    "test_big_table_encoded = test_big_table_encoded[test_cols]\n",
    "test_big_table_encoded.shape"
   ]
  },
  {
   "cell_type": "code",
   "execution_count": 428,
   "metadata": {
    "collapsed": false
   },
   "outputs": [
    {
     "name": "stdout",
     "output_type": "stream",
     "text": [
      "<class 'pandas.core.frame.DataFrame'>\n",
      "Int64Index: 1701813 entries, 148341312 to 204245024\n",
      "Data columns (total 18 columns):\n",
      "patient_age_group      int64\n",
      "patient_state          int64\n",
      "ethinicity             int64\n",
      "household_income       int64\n",
      "education_level        int64\n",
      "visits                 int64\n",
      "cbsa                   float64\n",
      "num_visits             float64\n",
      "num_procedures         int64\n",
      "num_diagnosis          float64\n",
      "num_rx                 float64\n",
      "RX_ASSISTANCE          float64\n",
      "RX_CASH                float64\n",
      "RX_COMMERCIAL          float64\n",
      "RX_MANAGED_MEDICAID    float64\n",
      "RX_MEDICAID            float64\n",
      "RX_MEDICARE            float64\n",
      "632                    float64\n",
      "dtypes: float64(11), int64(7)\n",
      "memory usage: 246.7 MB\n"
     ]
    }
   ],
   "source": [
    "test_big_table_encoded.info()"
   ]
  },
  {
   "cell_type": "code",
   "execution_count": 422,
   "metadata": {
    "collapsed": false
   },
   "outputs": [
    {
     "data": {
      "text/html": [
       "<div>\n",
       "<table border=\"1\" class=\"dataframe\">\n",
       "  <thead>\n",
       "    <tr style=\"text-align: right;\">\n",
       "      <th></th>\n",
       "      <th>patient_age_group</th>\n",
       "      <th>patient_state</th>\n",
       "      <th>ethinicity</th>\n",
       "      <th>household_income</th>\n",
       "      <th>education_level</th>\n",
       "      <th>visits</th>\n",
       "      <th>cbsa</th>\n",
       "      <th>num_visits</th>\n",
       "      <th>num_procedures</th>\n",
       "      <th>num_diagnosis</th>\n",
       "      <th>num_rx</th>\n",
       "      <th>RX_ASSISTANCE</th>\n",
       "      <th>RX_CASH</th>\n",
       "      <th>RX_COMMERCIAL</th>\n",
       "      <th>RX_MANAGED_MEDICAID</th>\n",
       "      <th>RX_MEDICAID</th>\n",
       "      <th>RX_MEDICARE</th>\n",
       "      <th>632</th>\n",
       "    </tr>\n",
       "    <tr>\n",
       "      <th>patient_id</th>\n",
       "      <th></th>\n",
       "      <th></th>\n",
       "      <th></th>\n",
       "      <th></th>\n",
       "      <th></th>\n",
       "      <th></th>\n",
       "      <th></th>\n",
       "      <th></th>\n",
       "      <th></th>\n",
       "      <th></th>\n",
       "      <th></th>\n",
       "      <th></th>\n",
       "      <th></th>\n",
       "      <th></th>\n",
       "      <th></th>\n",
       "      <th></th>\n",
       "      <th></th>\n",
       "      <th></th>\n",
       "    </tr>\n",
       "  </thead>\n",
       "  <tbody>\n",
       "    <tr>\n",
       "      <th>148341312</th>\n",
       "      <td>15</td>\n",
       "      <td>43</td>\n",
       "      <td>1</td>\n",
       "      <td>0</td>\n",
       "      <td>3</td>\n",
       "      <td>144</td>\n",
       "      <td>19100</td>\n",
       "      <td>11</td>\n",
       "      <td>135</td>\n",
       "      <td>11</td>\n",
       "      <td>2</td>\n",
       "      <td>0</td>\n",
       "      <td>1</td>\n",
       "      <td>1</td>\n",
       "      <td>0</td>\n",
       "      <td>0</td>\n",
       "      <td>0</td>\n",
       "      <td>NaN</td>\n",
       "    </tr>\n",
       "    <tr>\n",
       "      <th>130010912</th>\n",
       "      <td>7</td>\n",
       "      <td>15</td>\n",
       "      <td>1</td>\n",
       "      <td>0</td>\n",
       "      <td>3</td>\n",
       "      <td>92</td>\n",
       "      <td>26900</td>\n",
       "      <td>8</td>\n",
       "      <td>85</td>\n",
       "      <td>8</td>\n",
       "      <td>3</td>\n",
       "      <td>0</td>\n",
       "      <td>1</td>\n",
       "      <td>1</td>\n",
       "      <td>1</td>\n",
       "      <td>0</td>\n",
       "      <td>0</td>\n",
       "      <td>NaN</td>\n",
       "    </tr>\n",
       "  </tbody>\n",
       "</table>\n",
       "</div>"
      ],
      "text/plain": [
       "            patient_age_group  patient_state  ethinicity  household_income  \\\n",
       "patient_id                                                                   \n",
       "148341312                  15             43           1                 0   \n",
       "130010912                   7             15           1                 0   \n",
       "\n",
       "            education_level  visits   cbsa  num_visits  num_procedures  \\\n",
       "patient_id                                                               \n",
       "148341312                 3     144  19100          11             135   \n",
       "130010912                 3      92  26900           8              85   \n",
       "\n",
       "            num_diagnosis  num_rx  RX_ASSISTANCE  RX_CASH  RX_COMMERCIAL  \\\n",
       "patient_id                                                                 \n",
       "148341312              11       2              0        1              1   \n",
       "130010912               8       3              0        1              1   \n",
       "\n",
       "            RX_MANAGED_MEDICAID  RX_MEDICAID  RX_MEDICARE  632  \n",
       "patient_id                                                      \n",
       "148341312                     0            0            0  NaN  \n",
       "130010912                     1            0            0  NaN  "
      ]
     },
     "execution_count": 422,
     "metadata": {},
     "output_type": "execute_result"
    }
   ],
   "source": [
    "test_big_table_encoded[:2]"
   ]
  },
  {
   "cell_type": "code",
   "execution_count": 412,
   "metadata": {
    "collapsed": true
   },
   "outputs": [],
   "source": [
    "test_dffd = test_pivot.copy()"
   ]
  },
  {
   "cell_type": "code",
   "execution_count": 413,
   "metadata": {
    "collapsed": true
   },
   "outputs": [],
   "source": [
    "test_dffd[test_dffd > 0] = 1"
   ]
  },
  {
   "cell_type": "code",
   "execution_count": 423,
   "metadata": {
    "collapsed": false,
    "scrolled": true
   },
   "outputs": [
    {
     "data": {
      "text/html": [
       "<div>\n",
       "<table border=\"1\" class=\"dataframe\">\n",
       "  <thead>\n",
       "    <tr style=\"text-align: right;\">\n",
       "      <th>diagnosis_code</th>\n",
       "      <th>401.9</th>\n",
       "      <th>462</th>\n",
       "      <th>496</th>\n",
       "      <th>585.3</th>\n",
       "      <th>616.0</th>\n",
       "      <th>616.10</th>\n",
       "      <th>620.2</th>\n",
       "      <th>622.10</th>\n",
       "      <th>622.11</th>\n",
       "      <th>623.5</th>\n",
       "      <th>...</th>\n",
       "      <th>795.00</th>\n",
       "      <th>V22.0</th>\n",
       "      <th>V22.1</th>\n",
       "      <th>V22.2</th>\n",
       "      <th>V24.2</th>\n",
       "      <th>V25.2</th>\n",
       "      <th>V27.0</th>\n",
       "      <th>V28.3</th>\n",
       "      <th>V70.0</th>\n",
       "      <th>V74.5</th>\n",
       "    </tr>\n",
       "    <tr>\n",
       "      <th>patient_id</th>\n",
       "      <th></th>\n",
       "      <th></th>\n",
       "      <th></th>\n",
       "      <th></th>\n",
       "      <th></th>\n",
       "      <th></th>\n",
       "      <th></th>\n",
       "      <th></th>\n",
       "      <th></th>\n",
       "      <th></th>\n",
       "      <th></th>\n",
       "      <th></th>\n",
       "      <th></th>\n",
       "      <th></th>\n",
       "      <th></th>\n",
       "      <th></th>\n",
       "      <th></th>\n",
       "      <th></th>\n",
       "      <th></th>\n",
       "      <th></th>\n",
       "      <th></th>\n",
       "    </tr>\n",
       "  </thead>\n",
       "  <tbody>\n",
       "    <tr>\n",
       "      <th>84548780</th>\n",
       "      <td>NaN</td>\n",
       "      <td>1</td>\n",
       "      <td>1</td>\n",
       "      <td>NaN</td>\n",
       "      <td>NaN</td>\n",
       "      <td>NaN</td>\n",
       "      <td>NaN</td>\n",
       "      <td>NaN</td>\n",
       "      <td>NaN</td>\n",
       "      <td>NaN</td>\n",
       "      <td>...</td>\n",
       "      <td>NaN</td>\n",
       "      <td>NaN</td>\n",
       "      <td>NaN</td>\n",
       "      <td>NaN</td>\n",
       "      <td>NaN</td>\n",
       "      <td>NaN</td>\n",
       "      <td>NaN</td>\n",
       "      <td>NaN</td>\n",
       "      <td>NaN</td>\n",
       "      <td>NaN</td>\n",
       "    </tr>\n",
       "    <tr>\n",
       "      <th>84548841</th>\n",
       "      <td>NaN</td>\n",
       "      <td>1</td>\n",
       "      <td>NaN</td>\n",
       "      <td>NaN</td>\n",
       "      <td>NaN</td>\n",
       "      <td>NaN</td>\n",
       "      <td>NaN</td>\n",
       "      <td>NaN</td>\n",
       "      <td>NaN</td>\n",
       "      <td>NaN</td>\n",
       "      <td>...</td>\n",
       "      <td>NaN</td>\n",
       "      <td>NaN</td>\n",
       "      <td>NaN</td>\n",
       "      <td>NaN</td>\n",
       "      <td>NaN</td>\n",
       "      <td>NaN</td>\n",
       "      <td>NaN</td>\n",
       "      <td>NaN</td>\n",
       "      <td>1</td>\n",
       "      <td>NaN</td>\n",
       "    </tr>\n",
       "    <tr>\n",
       "      <th>84548915</th>\n",
       "      <td>1</td>\n",
       "      <td>NaN</td>\n",
       "      <td>1</td>\n",
       "      <td>NaN</td>\n",
       "      <td>NaN</td>\n",
       "      <td>NaN</td>\n",
       "      <td>NaN</td>\n",
       "      <td>NaN</td>\n",
       "      <td>NaN</td>\n",
       "      <td>NaN</td>\n",
       "      <td>...</td>\n",
       "      <td>NaN</td>\n",
       "      <td>NaN</td>\n",
       "      <td>NaN</td>\n",
       "      <td>NaN</td>\n",
       "      <td>NaN</td>\n",
       "      <td>NaN</td>\n",
       "      <td>NaN</td>\n",
       "      <td>NaN</td>\n",
       "      <td>NaN</td>\n",
       "      <td>NaN</td>\n",
       "    </tr>\n",
       "    <tr>\n",
       "      <th>84549024</th>\n",
       "      <td>NaN</td>\n",
       "      <td>1</td>\n",
       "      <td>NaN</td>\n",
       "      <td>NaN</td>\n",
       "      <td>NaN</td>\n",
       "      <td>NaN</td>\n",
       "      <td>1</td>\n",
       "      <td>NaN</td>\n",
       "      <td>NaN</td>\n",
       "      <td>NaN</td>\n",
       "      <td>...</td>\n",
       "      <td>NaN</td>\n",
       "      <td>NaN</td>\n",
       "      <td>1</td>\n",
       "      <td>1</td>\n",
       "      <td>NaN</td>\n",
       "      <td>NaN</td>\n",
       "      <td>1</td>\n",
       "      <td>NaN</td>\n",
       "      <td>1</td>\n",
       "      <td>NaN</td>\n",
       "    </tr>\n",
       "    <tr>\n",
       "      <th>84549114</th>\n",
       "      <td>NaN</td>\n",
       "      <td>NaN</td>\n",
       "      <td>NaN</td>\n",
       "      <td>NaN</td>\n",
       "      <td>NaN</td>\n",
       "      <td>NaN</td>\n",
       "      <td>NaN</td>\n",
       "      <td>NaN</td>\n",
       "      <td>NaN</td>\n",
       "      <td>NaN</td>\n",
       "      <td>...</td>\n",
       "      <td>NaN</td>\n",
       "      <td>NaN</td>\n",
       "      <td>NaN</td>\n",
       "      <td>NaN</td>\n",
       "      <td>NaN</td>\n",
       "      <td>NaN</td>\n",
       "      <td>NaN</td>\n",
       "      <td>NaN</td>\n",
       "      <td>NaN</td>\n",
       "      <td>1</td>\n",
       "    </tr>\n",
       "    <tr>\n",
       "      <th>84549121</th>\n",
       "      <td>NaN</td>\n",
       "      <td>1</td>\n",
       "      <td>NaN</td>\n",
       "      <td>NaN</td>\n",
       "      <td>NaN</td>\n",
       "      <td>NaN</td>\n",
       "      <td>1</td>\n",
       "      <td>NaN</td>\n",
       "      <td>NaN</td>\n",
       "      <td>1</td>\n",
       "      <td>...</td>\n",
       "      <td>NaN</td>\n",
       "      <td>NaN</td>\n",
       "      <td>1</td>\n",
       "      <td>1</td>\n",
       "      <td>1</td>\n",
       "      <td>NaN</td>\n",
       "      <td>1</td>\n",
       "      <td>NaN</td>\n",
       "      <td>NaN</td>\n",
       "      <td>NaN</td>\n",
       "    </tr>\n",
       "    <tr>\n",
       "      <th>84549240</th>\n",
       "      <td>1</td>\n",
       "      <td>NaN</td>\n",
       "      <td>NaN</td>\n",
       "      <td>NaN</td>\n",
       "      <td>NaN</td>\n",
       "      <td>NaN</td>\n",
       "      <td>NaN</td>\n",
       "      <td>NaN</td>\n",
       "      <td>NaN</td>\n",
       "      <td>NaN</td>\n",
       "      <td>...</td>\n",
       "      <td>NaN</td>\n",
       "      <td>NaN</td>\n",
       "      <td>NaN</td>\n",
       "      <td>NaN</td>\n",
       "      <td>NaN</td>\n",
       "      <td>NaN</td>\n",
       "      <td>NaN</td>\n",
       "      <td>NaN</td>\n",
       "      <td>1</td>\n",
       "      <td>NaN</td>\n",
       "    </tr>\n",
       "    <tr>\n",
       "      <th>84549286</th>\n",
       "      <td>1</td>\n",
       "      <td>1</td>\n",
       "      <td>NaN</td>\n",
       "      <td>NaN</td>\n",
       "      <td>NaN</td>\n",
       "      <td>NaN</td>\n",
       "      <td>NaN</td>\n",
       "      <td>NaN</td>\n",
       "      <td>NaN</td>\n",
       "      <td>NaN</td>\n",
       "      <td>...</td>\n",
       "      <td>NaN</td>\n",
       "      <td>NaN</td>\n",
       "      <td>NaN</td>\n",
       "      <td>NaN</td>\n",
       "      <td>NaN</td>\n",
       "      <td>NaN</td>\n",
       "      <td>NaN</td>\n",
       "      <td>NaN</td>\n",
       "      <td>1</td>\n",
       "      <td>NaN</td>\n",
       "    </tr>\n",
       "    <tr>\n",
       "      <th>84549331</th>\n",
       "      <td>NaN</td>\n",
       "      <td>NaN</td>\n",
       "      <td>NaN</td>\n",
       "      <td>NaN</td>\n",
       "      <td>NaN</td>\n",
       "      <td>NaN</td>\n",
       "      <td>1</td>\n",
       "      <td>NaN</td>\n",
       "      <td>NaN</td>\n",
       "      <td>NaN</td>\n",
       "      <td>...</td>\n",
       "      <td>NaN</td>\n",
       "      <td>NaN</td>\n",
       "      <td>NaN</td>\n",
       "      <td>NaN</td>\n",
       "      <td>NaN</td>\n",
       "      <td>NaN</td>\n",
       "      <td>NaN</td>\n",
       "      <td>NaN</td>\n",
       "      <td>1</td>\n",
       "      <td>1</td>\n",
       "    </tr>\n",
       "    <tr>\n",
       "      <th>84549424</th>\n",
       "      <td>1</td>\n",
       "      <td>NaN</td>\n",
       "      <td>NaN</td>\n",
       "      <td>NaN</td>\n",
       "      <td>NaN</td>\n",
       "      <td>NaN</td>\n",
       "      <td>NaN</td>\n",
       "      <td>NaN</td>\n",
       "      <td>NaN</td>\n",
       "      <td>NaN</td>\n",
       "      <td>...</td>\n",
       "      <td>NaN</td>\n",
       "      <td>NaN</td>\n",
       "      <td>NaN</td>\n",
       "      <td>NaN</td>\n",
       "      <td>NaN</td>\n",
       "      <td>NaN</td>\n",
       "      <td>NaN</td>\n",
       "      <td>NaN</td>\n",
       "      <td>1</td>\n",
       "      <td>NaN</td>\n",
       "    </tr>\n",
       "  </tbody>\n",
       "</table>\n",
       "<p>10 rows × 30 columns</p>\n",
       "</div>"
      ],
      "text/plain": [
       "diagnosis_code  401.9  462  496  585.3  616.0  616.10  620.2  622.10  622.11  \\\n",
       "patient_id                                                                     \n",
       "84548780          NaN    1    1    NaN    NaN     NaN    NaN     NaN     NaN   \n",
       "84548841          NaN    1  NaN    NaN    NaN     NaN    NaN     NaN     NaN   \n",
       "84548915            1  NaN    1    NaN    NaN     NaN    NaN     NaN     NaN   \n",
       "84549024          NaN    1  NaN    NaN    NaN     NaN      1     NaN     NaN   \n",
       "84549114          NaN  NaN  NaN    NaN    NaN     NaN    NaN     NaN     NaN   \n",
       "84549121          NaN    1  NaN    NaN    NaN     NaN      1     NaN     NaN   \n",
       "84549240            1  NaN  NaN    NaN    NaN     NaN    NaN     NaN     NaN   \n",
       "84549286            1    1  NaN    NaN    NaN     NaN    NaN     NaN     NaN   \n",
       "84549331          NaN  NaN  NaN    NaN    NaN     NaN      1     NaN     NaN   \n",
       "84549424            1  NaN  NaN    NaN    NaN     NaN    NaN     NaN     NaN   \n",
       "\n",
       "diagnosis_code  623.5  ...    795.00  V22.0  V22.1  V22.2  V24.2  V25.2  \\\n",
       "patient_id             ...                                                \n",
       "84548780          NaN  ...       NaN    NaN    NaN    NaN    NaN    NaN   \n",
       "84548841          NaN  ...       NaN    NaN    NaN    NaN    NaN    NaN   \n",
       "84548915          NaN  ...       NaN    NaN    NaN    NaN    NaN    NaN   \n",
       "84549024          NaN  ...       NaN    NaN      1      1    NaN    NaN   \n",
       "84549114          NaN  ...       NaN    NaN    NaN    NaN    NaN    NaN   \n",
       "84549121            1  ...       NaN    NaN      1      1      1    NaN   \n",
       "84549240          NaN  ...       NaN    NaN    NaN    NaN    NaN    NaN   \n",
       "84549286          NaN  ...       NaN    NaN    NaN    NaN    NaN    NaN   \n",
       "84549331          NaN  ...       NaN    NaN    NaN    NaN    NaN    NaN   \n",
       "84549424          NaN  ...       NaN    NaN    NaN    NaN    NaN    NaN   \n",
       "\n",
       "diagnosis_code  V27.0  V28.3  V70.0  V74.5  \n",
       "patient_id                                  \n",
       "84548780          NaN    NaN    NaN    NaN  \n",
       "84548841          NaN    NaN      1    NaN  \n",
       "84548915          NaN    NaN    NaN    NaN  \n",
       "84549024            1    NaN      1    NaN  \n",
       "84549114          NaN    NaN    NaN      1  \n",
       "84549121            1    NaN    NaN    NaN  \n",
       "84549240          NaN    NaN      1    NaN  \n",
       "84549286          NaN    NaN      1    NaN  \n",
       "84549331          NaN    NaN      1      1  \n",
       "84549424          NaN    NaN      1    NaN  \n",
       "\n",
       "[10 rows x 30 columns]"
      ]
     },
     "execution_count": 423,
     "metadata": {},
     "output_type": "execute_result"
    }
   ],
   "source": [
    "test_dffd[:10]"
   ]
  },
  {
   "cell_type": "code",
   "execution_count": 424,
   "metadata": {
    "collapsed": false
   },
   "outputs": [
    {
     "data": {
      "text/plain": [
       "(1701813, 48)"
      ]
     },
     "execution_count": 424,
     "metadata": {},
     "output_type": "execute_result"
    }
   ],
   "source": [
    "test_bigte = test_big_table_encoded.merge(test_dffd,left_index=True, right_index=True, how='left')\n",
    "test_bigte.shape"
   ]
  },
  {
   "cell_type": "code",
   "execution_count": 425,
   "metadata": {
    "collapsed": false
   },
   "outputs": [
    {
     "data": {
      "text/html": [
       "<div>\n",
       "<table border=\"1\" class=\"dataframe\">\n",
       "  <thead>\n",
       "    <tr style=\"text-align: right;\">\n",
       "      <th></th>\n",
       "      <th>patient_age_group</th>\n",
       "      <th>patient_state</th>\n",
       "      <th>ethinicity</th>\n",
       "      <th>household_income</th>\n",
       "      <th>education_level</th>\n",
       "      <th>visits</th>\n",
       "      <th>cbsa</th>\n",
       "      <th>num_visits</th>\n",
       "      <th>num_procedures</th>\n",
       "      <th>num_diagnosis</th>\n",
       "      <th>...</th>\n",
       "      <th>795.00</th>\n",
       "      <th>V22.0</th>\n",
       "      <th>V22.1</th>\n",
       "      <th>V22.2</th>\n",
       "      <th>V24.2</th>\n",
       "      <th>V25.2</th>\n",
       "      <th>V27.0</th>\n",
       "      <th>V28.3</th>\n",
       "      <th>V70.0</th>\n",
       "      <th>V74.5</th>\n",
       "    </tr>\n",
       "    <tr>\n",
       "      <th>patient_id</th>\n",
       "      <th></th>\n",
       "      <th></th>\n",
       "      <th></th>\n",
       "      <th></th>\n",
       "      <th></th>\n",
       "      <th></th>\n",
       "      <th></th>\n",
       "      <th></th>\n",
       "      <th></th>\n",
       "      <th></th>\n",
       "      <th></th>\n",
       "      <th></th>\n",
       "      <th></th>\n",
       "      <th></th>\n",
       "      <th></th>\n",
       "      <th></th>\n",
       "      <th></th>\n",
       "      <th></th>\n",
       "      <th></th>\n",
       "      <th></th>\n",
       "      <th></th>\n",
       "    </tr>\n",
       "  </thead>\n",
       "  <tbody>\n",
       "    <tr>\n",
       "      <th>148341312</th>\n",
       "      <td>15</td>\n",
       "      <td>43</td>\n",
       "      <td>1</td>\n",
       "      <td>0</td>\n",
       "      <td>3</td>\n",
       "      <td>144</td>\n",
       "      <td>19100</td>\n",
       "      <td>11</td>\n",
       "      <td>135</td>\n",
       "      <td>11</td>\n",
       "      <td>...</td>\n",
       "      <td>NaN</td>\n",
       "      <td>NaN</td>\n",
       "      <td>NaN</td>\n",
       "      <td>NaN</td>\n",
       "      <td>NaN</td>\n",
       "      <td>NaN</td>\n",
       "      <td>NaN</td>\n",
       "      <td>NaN</td>\n",
       "      <td>1</td>\n",
       "      <td>NaN</td>\n",
       "    </tr>\n",
       "    <tr>\n",
       "      <th>130010912</th>\n",
       "      <td>7</td>\n",
       "      <td>15</td>\n",
       "      <td>1</td>\n",
       "      <td>0</td>\n",
       "      <td>3</td>\n",
       "      <td>92</td>\n",
       "      <td>26900</td>\n",
       "      <td>8</td>\n",
       "      <td>85</td>\n",
       "      <td>8</td>\n",
       "      <td>...</td>\n",
       "      <td>NaN</td>\n",
       "      <td>NaN</td>\n",
       "      <td>NaN</td>\n",
       "      <td>NaN</td>\n",
       "      <td>NaN</td>\n",
       "      <td>NaN</td>\n",
       "      <td>NaN</td>\n",
       "      <td>NaN</td>\n",
       "      <td>1</td>\n",
       "      <td>NaN</td>\n",
       "    </tr>\n",
       "    <tr>\n",
       "      <th>103994412</th>\n",
       "      <td>2</td>\n",
       "      <td>4</td>\n",
       "      <td>1</td>\n",
       "      <td>0</td>\n",
       "      <td>3</td>\n",
       "      <td>168</td>\n",
       "      <td>31080</td>\n",
       "      <td>37</td>\n",
       "      <td>417</td>\n",
       "      <td>42</td>\n",
       "      <td>...</td>\n",
       "      <td>NaN</td>\n",
       "      <td>NaN</td>\n",
       "      <td>NaN</td>\n",
       "      <td>NaN</td>\n",
       "      <td>NaN</td>\n",
       "      <td>NaN</td>\n",
       "      <td>NaN</td>\n",
       "      <td>NaN</td>\n",
       "      <td>NaN</td>\n",
       "      <td>NaN</td>\n",
       "    </tr>\n",
       "    <tr>\n",
       "      <th>318658812</th>\n",
       "      <td>2</td>\n",
       "      <td>42</td>\n",
       "      <td>1</td>\n",
       "      <td>0</td>\n",
       "      <td>3</td>\n",
       "      <td>72</td>\n",
       "      <td>32820</td>\n",
       "      <td>14</td>\n",
       "      <td>150</td>\n",
       "      <td>16</td>\n",
       "      <td>...</td>\n",
       "      <td>NaN</td>\n",
       "      <td>NaN</td>\n",
       "      <td>1</td>\n",
       "      <td>1</td>\n",
       "      <td>NaN</td>\n",
       "      <td>NaN</td>\n",
       "      <td>1</td>\n",
       "      <td>NaN</td>\n",
       "      <td>NaN</td>\n",
       "      <td>NaN</td>\n",
       "    </tr>\n",
       "    <tr>\n",
       "      <th>93750312</th>\n",
       "      <td>11</td>\n",
       "      <td>3</td>\n",
       "      <td>1</td>\n",
       "      <td>0</td>\n",
       "      <td>3</td>\n",
       "      <td>118</td>\n",
       "      <td>38060</td>\n",
       "      <td>16</td>\n",
       "      <td>99</td>\n",
       "      <td>17</td>\n",
       "      <td>...</td>\n",
       "      <td>NaN</td>\n",
       "      <td>NaN</td>\n",
       "      <td>NaN</td>\n",
       "      <td>NaN</td>\n",
       "      <td>NaN</td>\n",
       "      <td>NaN</td>\n",
       "      <td>NaN</td>\n",
       "      <td>NaN</td>\n",
       "      <td>NaN</td>\n",
       "      <td>NaN</td>\n",
       "    </tr>\n",
       "    <tr>\n",
       "      <th>203884512</th>\n",
       "      <td>3</td>\n",
       "      <td>35</td>\n",
       "      <td>1</td>\n",
       "      <td>0</td>\n",
       "      <td>3</td>\n",
       "      <td>12</td>\n",
       "      <td>35940</td>\n",
       "      <td>7</td>\n",
       "      <td>84</td>\n",
       "      <td>15</td>\n",
       "      <td>...</td>\n",
       "      <td>NaN</td>\n",
       "      <td>NaN</td>\n",
       "      <td>NaN</td>\n",
       "      <td>NaN</td>\n",
       "      <td>NaN</td>\n",
       "      <td>NaN</td>\n",
       "      <td>NaN</td>\n",
       "      <td>NaN</td>\n",
       "      <td>NaN</td>\n",
       "      <td>NaN</td>\n",
       "    </tr>\n",
       "    <tr>\n",
       "      <th>215512812</th>\n",
       "      <td>1</td>\n",
       "      <td>34</td>\n",
       "      <td>1</td>\n",
       "      <td>0</td>\n",
       "      <td>3</td>\n",
       "      <td>10</td>\n",
       "      <td>35620</td>\n",
       "      <td>16</td>\n",
       "      <td>238</td>\n",
       "      <td>17</td>\n",
       "      <td>...</td>\n",
       "      <td>NaN</td>\n",
       "      <td>NaN</td>\n",
       "      <td>1</td>\n",
       "      <td>NaN</td>\n",
       "      <td>NaN</td>\n",
       "      <td>NaN</td>\n",
       "      <td>NaN</td>\n",
       "      <td>NaN</td>\n",
       "      <td>1</td>\n",
       "      <td>NaN</td>\n",
       "    </tr>\n",
       "    <tr>\n",
       "      <th>197453612</th>\n",
       "      <td>5</td>\n",
       "      <td>38</td>\n",
       "      <td>1</td>\n",
       "      <td>0</td>\n",
       "      <td>3</td>\n",
       "      <td>14</td>\n",
       "      <td>37980</td>\n",
       "      <td>21</td>\n",
       "      <td>92</td>\n",
       "      <td>26</td>\n",
       "      <td>...</td>\n",
       "      <td>NaN</td>\n",
       "      <td>NaN</td>\n",
       "      <td>NaN</td>\n",
       "      <td>NaN</td>\n",
       "      <td>NaN</td>\n",
       "      <td>NaN</td>\n",
       "      <td>NaN</td>\n",
       "      <td>NaN</td>\n",
       "      <td>NaN</td>\n",
       "      <td>NaN</td>\n",
       "    </tr>\n",
       "    <tr>\n",
       "      <th>223191412</th>\n",
       "      <td>1</td>\n",
       "      <td>42</td>\n",
       "      <td>1</td>\n",
       "      <td>0</td>\n",
       "      <td>3</td>\n",
       "      <td>112</td>\n",
       "      <td>17940</td>\n",
       "      <td>11</td>\n",
       "      <td>153</td>\n",
       "      <td>19</td>\n",
       "      <td>...</td>\n",
       "      <td>NaN</td>\n",
       "      <td>NaN</td>\n",
       "      <td>1</td>\n",
       "      <td>1</td>\n",
       "      <td>1</td>\n",
       "      <td>NaN</td>\n",
       "      <td>1</td>\n",
       "      <td>NaN</td>\n",
       "      <td>NaN</td>\n",
       "      <td>1</td>\n",
       "    </tr>\n",
       "    <tr>\n",
       "      <th>135441512</th>\n",
       "      <td>3</td>\n",
       "      <td>23</td>\n",
       "      <td>1</td>\n",
       "      <td>0</td>\n",
       "      <td>3</td>\n",
       "      <td>3</td>\n",
       "      <td>33460</td>\n",
       "      <td>11</td>\n",
       "      <td>103</td>\n",
       "      <td>12</td>\n",
       "      <td>...</td>\n",
       "      <td>NaN</td>\n",
       "      <td>NaN</td>\n",
       "      <td>1</td>\n",
       "      <td>NaN</td>\n",
       "      <td>1</td>\n",
       "      <td>NaN</td>\n",
       "      <td>1</td>\n",
       "      <td>NaN</td>\n",
       "      <td>NaN</td>\n",
       "      <td>NaN</td>\n",
       "    </tr>\n",
       "  </tbody>\n",
       "</table>\n",
       "<p>10 rows × 48 columns</p>\n",
       "</div>"
      ],
      "text/plain": [
       "            patient_age_group  patient_state  ethinicity  household_income  \\\n",
       "patient_id                                                                   \n",
       "148341312                  15             43           1                 0   \n",
       "130010912                   7             15           1                 0   \n",
       "103994412                   2              4           1                 0   \n",
       "318658812                   2             42           1                 0   \n",
       "93750312                   11              3           1                 0   \n",
       "203884512                   3             35           1                 0   \n",
       "215512812                   1             34           1                 0   \n",
       "197453612                   5             38           1                 0   \n",
       "223191412                   1             42           1                 0   \n",
       "135441512                   3             23           1                 0   \n",
       "\n",
       "            education_level  visits   cbsa  num_visits  num_procedures  \\\n",
       "patient_id                                                               \n",
       "148341312                 3     144  19100          11             135   \n",
       "130010912                 3      92  26900           8              85   \n",
       "103994412                 3     168  31080          37             417   \n",
       "318658812                 3      72  32820          14             150   \n",
       "93750312                  3     118  38060          16              99   \n",
       "203884512                 3      12  35940           7              84   \n",
       "215512812                 3      10  35620          16             238   \n",
       "197453612                 3      14  37980          21              92   \n",
       "223191412                 3     112  17940          11             153   \n",
       "135441512                 3       3  33460          11             103   \n",
       "\n",
       "            num_diagnosis  ...    795.00  V22.0  V22.1  V22.2  V24.2  V25.2  \\\n",
       "patient_id                 ...                                                \n",
       "148341312              11  ...       NaN    NaN    NaN    NaN    NaN    NaN   \n",
       "130010912               8  ...       NaN    NaN    NaN    NaN    NaN    NaN   \n",
       "103994412              42  ...       NaN    NaN    NaN    NaN    NaN    NaN   \n",
       "318658812              16  ...       NaN    NaN      1      1    NaN    NaN   \n",
       "93750312               17  ...       NaN    NaN    NaN    NaN    NaN    NaN   \n",
       "203884512              15  ...       NaN    NaN    NaN    NaN    NaN    NaN   \n",
       "215512812              17  ...       NaN    NaN      1    NaN    NaN    NaN   \n",
       "197453612              26  ...       NaN    NaN    NaN    NaN    NaN    NaN   \n",
       "223191412              19  ...       NaN    NaN      1      1      1    NaN   \n",
       "135441512              12  ...       NaN    NaN      1    NaN      1    NaN   \n",
       "\n",
       "            V27.0  V28.3  V70.0  V74.5  \n",
       "patient_id                              \n",
       "148341312     NaN    NaN      1    NaN  \n",
       "130010912     NaN    NaN      1    NaN  \n",
       "103994412     NaN    NaN    NaN    NaN  \n",
       "318658812       1    NaN    NaN    NaN  \n",
       "93750312      NaN    NaN    NaN    NaN  \n",
       "203884512     NaN    NaN    NaN    NaN  \n",
       "215512812     NaN    NaN      1    NaN  \n",
       "197453612     NaN    NaN    NaN    NaN  \n",
       "223191412       1    NaN    NaN      1  \n",
       "135441512       1    NaN    NaN    NaN  \n",
       "\n",
       "[10 rows x 48 columns]"
      ]
     },
     "execution_count": 425,
     "metadata": {},
     "output_type": "execute_result"
    }
   ],
   "source": [
    "test_bigte[:10]"
   ]
  },
  {
   "cell_type": "code",
   "execution_count": 453,
   "metadata": {
    "collapsed": true
   },
   "outputs": [],
   "source": [
    "test_bigte.to_csv(fdir+'test_big_table_encoded.csv')"
   ]
  },
  {
   "cell_type": "code",
   "execution_count": 431,
   "metadata": {
    "collapsed": false
   },
   "outputs": [
    {
     "data": {
      "text/plain": [
       "(1157384, 29)"
      ]
     },
     "execution_count": 431,
     "metadata": {},
     "output_type": "execute_result"
    }
   ],
   "source": [
    "dff.shape"
   ]
  },
  {
   "cell_type": "code",
   "execution_count": 432,
   "metadata": {
    "collapsed": false
   },
   "outputs": [
    {
     "data": {
      "text/plain": [
       "(1538873, 30)"
      ]
     },
     "execution_count": 432,
     "metadata": {},
     "output_type": "execute_result"
    }
   ],
   "source": [
    "test_pivot.shape"
   ]
  },
  {
   "cell_type": "code",
   "execution_count": 437,
   "metadata": {
    "collapsed": false
   },
   "outputs": [],
   "source": [
    "sorted_cols = [u'401.9', u'462', u'496', u'585.3', u'616.0', u'616.10', u'620.2',\n",
    "       u'622.10', u'622.11', u'623.5', u'625.3', u'625.9', u'626.0', u'626.2',\n",
    "       u'626.4', u'626.8', u'646.83', u'648.93', u'650', u'795.00',\n",
    "       u'V22.0', u'V22.1', u'V22.2', u'V24.2', u'V25.2', u'V27.0', u'V28.3',\n",
    "       u'V70.0', u'V74.5']"
   ]
  },
  {
   "cell_type": "code",
   "execution_count": 439,
   "metadata": {
    "collapsed": true
   },
   "outputs": [],
   "source": [
    "dff[sorted_cols].to_csv('train_diagnosis_top.csv')"
   ]
  },
  {
   "cell_type": "code",
   "execution_count": 440,
   "metadata": {
    "collapsed": false
   },
   "outputs": [],
   "source": [
    "test_pivot.to_csv('test_diagnosis_top.csv')"
   ]
  },
  {
   "cell_type": "code",
   "execution_count": 443,
   "metadata": {
    "collapsed": false
   },
   "outputs": [
    {
     "data": {
      "text/plain": [
       "((1701813, 18), (1157817, 50))"
      ]
     },
     "execution_count": 443,
     "metadata": {},
     "output_type": "execute_result"
    }
   ],
   "source": [
    "test_big_table.shape, big_table.shape"
   ]
  },
  {
   "cell_type": "code",
   "execution_count": 449,
   "metadata": {
    "collapsed": false
   },
   "outputs": [
    {
     "data": {
      "text/plain": [
       "Index([u'patient_age_group', u'patient_state', u'ethinicity',\n",
       "       u'household_income', u'education_level', u'visits', u'cbsa',\n",
       "       u'num_visits', u'num_procedures', u'num_diagnosis', u'num_rx',\n",
       "       u'RX_ASSISTANCE', u'RX_CASH', u'RX_COMMERCIAL', u'RX_MANAGED_MEDICAID',\n",
       "       u'RX_MEDICAID', u'RX_MEDICARE', u'632_x', u'401.9', u'462', u'496',\n",
       "       u'585.3', u'616.0', u'616.10', u'620.2', u'622.10', u'622.11', u'623.5',\n",
       "       u'625.3', u'625.9', u'626.0', u'626.2', u'626.4', u'626.8', u'632_y',\n",
       "       u'646.83', u'648.93', u'650', u'795.00', u'V22.0', u'V22.1', u'V22.2',\n",
       "       u'V24.2', u'V25.2', u'V27.0', u'V28.3', u'V70.0', u'V74.5'],\n",
       "      dtype='object')"
      ]
     },
     "execution_count": 449,
     "metadata": {},
     "output_type": "execute_result"
    }
   ],
   "source": [
    "test_bigt.columns"
   ]
  },
  {
   "cell_type": "code",
   "execution_count": 446,
   "metadata": {
    "collapsed": false
   },
   "outputs": [
    {
     "data": {
      "text/plain": [
       "48"
      ]
     },
     "execution_count": 446,
     "metadata": {},
     "output_type": "execute_result"
    }
   ],
   "source": [
    "len(test_bigt.columns)"
   ]
  },
  {
   "cell_type": "code",
   "execution_count": 447,
   "metadata": {
    "collapsed": false
   },
   "outputs": [
    {
     "data": {
      "text/plain": [
       "50"
      ]
     },
     "execution_count": 447,
     "metadata": {},
     "output_type": "execute_result"
    }
   ],
   "source": [
    "len(big_table.columns)"
   ]
  },
  {
   "cell_type": "code",
   "execution_count": 451,
   "metadata": {
    "collapsed": false
   },
   "outputs": [
    {
     "data": {
      "text/plain": [
       "48"
      ]
     },
     "execution_count": 451,
     "metadata": {},
     "output_type": "execute_result"
    }
   ],
   "source": [
    "len(bigte.columns)"
   ]
  },
  {
   "cell_type": "code",
   "execution_count": 452,
   "metadata": {
    "collapsed": false
   },
   "outputs": [],
   "source": [
    "test_bigt.drop('632_y', axis=1, inplace=True)\n",
    "test_bigt.rename(columns={'632_x':'632'}, inplace=True)\n",
    "test_bigte.drop('632_y', axis=1, inplace=True)\n",
    "test_bigte.rename(columns={'632_x':'632'}, inplace=True)"
   ]
  },
  {
   "cell_type": "code",
   "execution_count": 234,
   "metadata": {
    "collapsed": true
   },
   "outputs": [],
   "source": []
  },
  {
   "cell_type": "markdown",
   "metadata": {
    "collapsed": true
   },
   "source": [
    "## physician_specialty_code"
   ]
  },
  {
   "cell_type": "markdown",
   "metadata": {},
   "source": [
    "SQL Code\n",
    "```\n",
    "\\copy (select t1.patient_id, t1.primary_practitioner_id, specialty_code from diagnosis t1 join physician t2 on (t1.primary_practitioner_id=t2.practitioner_id) join patients_train t3 on (t1.patient_id=t3.patient_id) where t2.specialty_code in ('OBG', 'GYN', 'OTO', 'FSP', 'REN', 'GO', 'PCP', 'ON', 'OCC','OBS')) to 'train_physician_specialty_code.csv' with csv header\n",
    "-- COPY 18294609\n",
    "\n",
    "\\copy (select t1.patient_id, t1.primary_practitioner_id, specialty_code from diagnosis t1 join physician t2 on (t1.primary_practitioner_id=t2.practitioner_id) join patients_test t3 on (t1.patient_id=t3.patient_id) where t2.specialty_code in ('OBG', 'GYN', 'OTO', 'FSP', 'REN', 'GO', 'PCP', 'ON', 'OCC','OBS')) to 'test_physician_specialty_code.csv' with csv header\n",
    "-- COPY 26961613\n",
    "```"
   ]
  },
  {
   "cell_type": "code",
   "execution_count": 7,
   "metadata": {
    "collapsed": false
   },
   "outputs": [
    {
     "data": {
      "text/plain": [
       "(18294609, 3)"
      ]
     },
     "execution_count": 7,
     "metadata": {},
     "output_type": "execute_result"
    }
   ],
   "source": [
    "train_physician_specialty_code = pd.read_csv(fdir+'train_physician_specialty_code.csv.gz')\n",
    "print(train_physician_specialty_code.shape)\n",
    "\n",
    "train_physician_specialty_code.drop_duplicates(['patient_id','specialty_code'], keep='first', inplace=True)\n",
    "train_physician = train_physician_specialty_code.pivot('patient_id','specialty_code','primary_practitioner_id')\n",
    "print(train_physician.shape)\n",
    "train_physician[:5]"
   ]
  },
  {
   "cell_type": "code",
   "execution_count": 14,
   "metadata": {
    "collapsed": true
   },
   "outputs": [],
   "source": [
    "train_physician.to_csv('train_physician.csv')"
   ]
  },
  {
   "cell_type": "code",
   "execution_count": 15,
   "metadata": {
    "collapsed": false
   },
   "outputs": [
    {
     "name": "stdout",
     "output_type": "stream",
     "text": [
      "(26961613, 3)\n",
      "(1218583, 9)\n"
     ]
    },
    {
     "data": {
      "text/html": [
       "<div>\n",
       "<table border=\"1\" class=\"dataframe\">\n",
       "  <thead>\n",
       "    <tr style=\"text-align: right;\">\n",
       "      <th>specialty_code</th>\n",
       "      <th>GO</th>\n",
       "      <th>GYN</th>\n",
       "      <th>OBG</th>\n",
       "      <th>OBS</th>\n",
       "      <th>OCC</th>\n",
       "      <th>ON</th>\n",
       "      <th>OTO</th>\n",
       "      <th>PCP</th>\n",
       "      <th>REN</th>\n",
       "    </tr>\n",
       "    <tr>\n",
       "      <th>patient_id</th>\n",
       "      <th></th>\n",
       "      <th></th>\n",
       "      <th></th>\n",
       "      <th></th>\n",
       "      <th></th>\n",
       "      <th></th>\n",
       "      <th></th>\n",
       "      <th></th>\n",
       "      <th></th>\n",
       "    </tr>\n",
       "  </thead>\n",
       "  <tbody>\n",
       "    <tr>\n",
       "      <th>84548780</th>\n",
       "      <td>NaN</td>\n",
       "      <td>NaN</td>\n",
       "      <td>NaN</td>\n",
       "      <td>NaN</td>\n",
       "      <td>NaN</td>\n",
       "      <td>NaN</td>\n",
       "      <td>NaN</td>\n",
       "      <td>14142454</td>\n",
       "      <td>NaN</td>\n",
       "    </tr>\n",
       "    <tr>\n",
       "      <th>84548841</th>\n",
       "      <td>NaN</td>\n",
       "      <td>NaN</td>\n",
       "      <td>NaN</td>\n",
       "      <td>NaN</td>\n",
       "      <td>NaN</td>\n",
       "      <td>NaN</td>\n",
       "      <td>30894755</td>\n",
       "      <td>NaN</td>\n",
       "      <td>NaN</td>\n",
       "    </tr>\n",
       "    <tr>\n",
       "      <th>84549024</th>\n",
       "      <td>NaN</td>\n",
       "      <td>NaN</td>\n",
       "      <td>16889406</td>\n",
       "      <td>NaN</td>\n",
       "      <td>NaN</td>\n",
       "      <td>NaN</td>\n",
       "      <td>NaN</td>\n",
       "      <td>NaN</td>\n",
       "      <td>NaN</td>\n",
       "    </tr>\n",
       "    <tr>\n",
       "      <th>84549114</th>\n",
       "      <td>NaN</td>\n",
       "      <td>NaN</td>\n",
       "      <td>12916560</td>\n",
       "      <td>NaN</td>\n",
       "      <td>NaN</td>\n",
       "      <td>NaN</td>\n",
       "      <td>NaN</td>\n",
       "      <td>NaN</td>\n",
       "      <td>NaN</td>\n",
       "    </tr>\n",
       "    <tr>\n",
       "      <th>84549121</th>\n",
       "      <td>NaN</td>\n",
       "      <td>41717741</td>\n",
       "      <td>21218575</td>\n",
       "      <td>NaN</td>\n",
       "      <td>NaN</td>\n",
       "      <td>NaN</td>\n",
       "      <td>NaN</td>\n",
       "      <td>NaN</td>\n",
       "      <td>NaN</td>\n",
       "    </tr>\n",
       "  </tbody>\n",
       "</table>\n",
       "</div>"
      ],
      "text/plain": [
       "specialty_code  GO       GYN       OBG  OBS  OCC  ON       OTO       PCP  REN\n",
       "patient_id                                                                   \n",
       "84548780       NaN       NaN       NaN  NaN  NaN NaN       NaN  14142454  NaN\n",
       "84548841       NaN       NaN       NaN  NaN  NaN NaN  30894755       NaN  NaN\n",
       "84549024       NaN       NaN  16889406  NaN  NaN NaN       NaN       NaN  NaN\n",
       "84549114       NaN       NaN  12916560  NaN  NaN NaN       NaN       NaN  NaN\n",
       "84549121       NaN  41717741  21218575  NaN  NaN NaN       NaN       NaN  NaN"
      ]
     },
     "execution_count": 15,
     "metadata": {},
     "output_type": "execute_result"
    }
   ],
   "source": [
    "test_physician_specialty_code = pd.read_csv(fdir+'test_physician_specialty_code.csv.gz')\n",
    "print(test_physician_specialty_code.shape)\n",
    "\n",
    "test_physician_specialty_code.drop_duplicates(['patient_id','specialty_code'], keep='first', inplace=True)\n",
    "test_physician = test_physician_specialty_code.pivot('patient_id','specialty_code','primary_practitioner_id')\n",
    "print(test_physician.shape)\n",
    "test_physician[:5]"
   ]
  },
  {
   "cell_type": "code",
   "execution_count": 16,
   "metadata": {
    "collapsed": true
   },
   "outputs": [],
   "source": [
    "test_physician.to_csv('test_physician.csv')"
   ]
  },
  {
   "cell_type": "markdown",
   "metadata": {},
   "source": [
    "## physician_specialty_code_family"
   ]
  },
  {
   "cell_type": "code",
   "execution_count": null,
   "metadata": {
    "collapsed": true
   },
   "outputs": [],
   "source": [
    "train_physician_specialty_code_family.csv"
   ]
  },
  {
   "cell_type": "code",
   "execution_count": 25,
   "metadata": {
    "collapsed": false,
    "scrolled": false
   },
   "outputs": [
    {
     "name": "stdout",
     "output_type": "stream",
     "text": [
      "(33749567, 3)\n",
      "(932415, 6)\n"
     ]
    },
    {
     "data": {
      "text/html": [
       "<div>\n",
       "<table border=\"1\" class=\"dataframe\">\n",
       "  <thead>\n",
       "    <tr style=\"text-align: right;\">\n",
       "      <th>specialty_code</th>\n",
       "      <th>FM</th>\n",
       "      <th>FP</th>\n",
       "      <th>FPG</th>\n",
       "      <th>FPP</th>\n",
       "      <th>FSM</th>\n",
       "      <th>PLN</th>\n",
       "    </tr>\n",
       "    <tr>\n",
       "      <th>patient_id</th>\n",
       "      <th></th>\n",
       "      <th></th>\n",
       "      <th></th>\n",
       "      <th></th>\n",
       "      <th></th>\n",
       "      <th></th>\n",
       "    </tr>\n",
       "  </thead>\n",
       "  <tbody>\n",
       "    <tr>\n",
       "      <th>84548607</th>\n",
       "      <td>13098491</td>\n",
       "      <td>NaN</td>\n",
       "      <td>NaN</td>\n",
       "      <td>NaN</td>\n",
       "      <td>NaN</td>\n",
       "      <td>NaN</td>\n",
       "    </tr>\n",
       "    <tr>\n",
       "      <th>84548626</th>\n",
       "      <td>13181786</td>\n",
       "      <td>NaN</td>\n",
       "      <td>NaN</td>\n",
       "      <td>NaN</td>\n",
       "      <td>NaN</td>\n",
       "      <td>NaN</td>\n",
       "    </tr>\n",
       "    <tr>\n",
       "      <th>84548666</th>\n",
       "      <td>24257215</td>\n",
       "      <td>29088164</td>\n",
       "      <td>NaN</td>\n",
       "      <td>NaN</td>\n",
       "      <td>NaN</td>\n",
       "      <td>NaN</td>\n",
       "    </tr>\n",
       "    <tr>\n",
       "      <th>84548805</th>\n",
       "      <td>50363169</td>\n",
       "      <td>NaN</td>\n",
       "      <td>NaN</td>\n",
       "      <td>NaN</td>\n",
       "      <td>NaN</td>\n",
       "      <td>NaN</td>\n",
       "    </tr>\n",
       "    <tr>\n",
       "      <th>84548821</th>\n",
       "      <td>33895160</td>\n",
       "      <td>25149477</td>\n",
       "      <td>NaN</td>\n",
       "      <td>NaN</td>\n",
       "      <td>NaN</td>\n",
       "      <td>NaN</td>\n",
       "    </tr>\n",
       "  </tbody>\n",
       "</table>\n",
       "</div>"
      ],
      "text/plain": [
       "specialty_code        FM        FP  FPG  FPP  FSM  PLN\n",
       "patient_id                                            \n",
       "84548607        13098491       NaN  NaN  NaN  NaN  NaN\n",
       "84548626        13181786       NaN  NaN  NaN  NaN  NaN\n",
       "84548666        24257215  29088164  NaN  NaN  NaN  NaN\n",
       "84548805        50363169       NaN  NaN  NaN  NaN  NaN\n",
       "84548821        33895160  25149477  NaN  NaN  NaN  NaN"
      ]
     },
     "execution_count": 25,
     "metadata": {},
     "output_type": "execute_result"
    }
   ],
   "source": [
    "train_physician_specialty_code_family = pd.read_csv('train_physician_specialty_code_family.csv')\n",
    "print(train_physician_specialty_code_family.shape)\n",
    "\n",
    "train_physician_specialty_code_family.drop_duplicates(['patient_id','specialty_code'], keep='first', inplace=True)\n",
    "train_physician_family = train_physician_specialty_code_family.pivot('patient_id','specialty_code','primary_practitioner_id')\n",
    "print(train_physician_family.shape)\n",
    "train_physician_family[:5]"
   ]
  },
  {
   "cell_type": "code",
   "execution_count": 29,
   "metadata": {
    "collapsed": false
   },
   "outputs": [
    {
     "data": {
      "text/plain": [
       "(329699, 6)"
      ]
     },
     "execution_count": 29,
     "metadata": {},
     "output_type": "execute_result"
    }
   ],
   "source": [
    "train_physician_family = train_physician_family.drop_duplicates()\n",
    "train_physician_family.shape"
   ]
  },
  {
   "cell_type": "code",
   "execution_count": 30,
   "metadata": {
    "collapsed": true
   },
   "outputs": [],
   "source": [
    "train_physician_family.to_csv('train_physician_family.csv')"
   ]
  },
  {
   "cell_type": "code",
   "execution_count": 31,
   "metadata": {
    "collapsed": false,
    "scrolled": true
   },
   "outputs": [
    {
     "name": "stdout",
     "output_type": "stream",
     "text": [
      "(49615264, 3)\n",
      "(1370316, 6)\n"
     ]
    },
    {
     "data": {
      "text/html": [
       "<div>\n",
       "<table border=\"1\" class=\"dataframe\">\n",
       "  <thead>\n",
       "    <tr style=\"text-align: right;\">\n",
       "      <th>specialty_code</th>\n",
       "      <th>FM</th>\n",
       "      <th>FP</th>\n",
       "      <th>FPG</th>\n",
       "      <th>FPP</th>\n",
       "      <th>FSM</th>\n",
       "      <th>PLN</th>\n",
       "    </tr>\n",
       "    <tr>\n",
       "      <th>patient_id</th>\n",
       "      <th></th>\n",
       "      <th></th>\n",
       "      <th></th>\n",
       "      <th></th>\n",
       "      <th></th>\n",
       "      <th></th>\n",
       "    </tr>\n",
       "  </thead>\n",
       "  <tbody>\n",
       "    <tr>\n",
       "      <th>84548780</th>\n",
       "      <td>47413525</td>\n",
       "      <td>NaN</td>\n",
       "      <td>NaN</td>\n",
       "      <td>NaN</td>\n",
       "      <td>35477000</td>\n",
       "      <td>NaN</td>\n",
       "    </tr>\n",
       "    <tr>\n",
       "      <th>84548841</th>\n",
       "      <td>13183196</td>\n",
       "      <td>NaN</td>\n",
       "      <td>NaN</td>\n",
       "      <td>NaN</td>\n",
       "      <td>NaN</td>\n",
       "      <td>NaN</td>\n",
       "    </tr>\n",
       "    <tr>\n",
       "      <th>84548915</th>\n",
       "      <td>42659493</td>\n",
       "      <td>NaN</td>\n",
       "      <td>NaN</td>\n",
       "      <td>NaN</td>\n",
       "      <td>NaN</td>\n",
       "      <td>NaN</td>\n",
       "    </tr>\n",
       "    <tr>\n",
       "      <th>84549024</th>\n",
       "      <td>NaN</td>\n",
       "      <td>50006719</td>\n",
       "      <td>NaN</td>\n",
       "      <td>NaN</td>\n",
       "      <td>NaN</td>\n",
       "      <td>NaN</td>\n",
       "    </tr>\n",
       "    <tr>\n",
       "      <th>84549121</th>\n",
       "      <td>12835487</td>\n",
       "      <td>46814611</td>\n",
       "      <td>NaN</td>\n",
       "      <td>NaN</td>\n",
       "      <td>NaN</td>\n",
       "      <td>NaN</td>\n",
       "    </tr>\n",
       "  </tbody>\n",
       "</table>\n",
       "</div>"
      ],
      "text/plain": [
       "specialty_code        FM        FP  FPG  FPP       FSM  PLN\n",
       "patient_id                                                 \n",
       "84548780        47413525       NaN  NaN  NaN  35477000  NaN\n",
       "84548841        13183196       NaN  NaN  NaN       NaN  NaN\n",
       "84548915        42659493       NaN  NaN  NaN       NaN  NaN\n",
       "84549024             NaN  50006719  NaN  NaN       NaN  NaN\n",
       "84549121        12835487  46814611  NaN  NaN       NaN  NaN"
      ]
     },
     "execution_count": 31,
     "metadata": {},
     "output_type": "execute_result"
    }
   ],
   "source": [
    "test_physician_specialty_code_family = pd.read_csv('test_physician_specialty_code_family.csv')\n",
    "print(test_physician_specialty_code_family.shape)\n",
    "\n",
    "test_physician_specialty_code_family.drop_duplicates(['patient_id','specialty_code'], keep='first', inplace=True)\n",
    "test_physician_family = test_physician_specialty_code_family.pivot('patient_id','specialty_code','primary_practitioner_id')\n",
    "print(test_physician_family.shape)\n",
    "test_physician_family[:5]"
   ]
  },
  {
   "cell_type": "code",
   "execution_count": 32,
   "metadata": {
    "collapsed": false
   },
   "outputs": [
    {
     "data": {
      "text/plain": [
       "(430246, 6)"
      ]
     },
     "execution_count": 32,
     "metadata": {},
     "output_type": "execute_result"
    }
   ],
   "source": [
    "test_physician_family = test_physician_family.drop_duplicates()\n",
    "test_physician_family.shape"
   ]
  },
  {
   "cell_type": "code",
   "execution_count": 33,
   "metadata": {
    "collapsed": true
   },
   "outputs": [],
   "source": [
    "test_physician_family.to_csv('test_physician_family.csv')"
   ]
  },
  {
   "cell_type": "code",
   "execution_count": null,
   "metadata": {
    "collapsed": true
   },
   "outputs": [],
   "source": []
  },
  {
   "cell_type": "code",
   "execution_count": null,
   "metadata": {
    "collapsed": true
   },
   "outputs": [],
   "source": []
  },
  {
   "cell_type": "code",
   "execution_count": null,
   "metadata": {
    "collapsed": true
   },
   "outputs": [],
   "source": []
  },
  {
   "cell_type": "markdown",
   "metadata": {},
   "source": [
    "## train_obgyn_drug"
   ]
  },
  {
   "cell_type": "code",
   "execution_count": 18,
   "metadata": {
    "collapsed": false
   },
   "outputs": [
    {
     "data": {
      "text/html": [
       "<div>\n",
       "<table border=\"1\" class=\"dataframe\">\n",
       "  <thead>\n",
       "    <tr style=\"text-align: right;\">\n",
       "      <th></th>\n",
       "      <th>patient_id</th>\n",
       "      <th>practitioner_id</th>\n",
       "      <th>specialty_code</th>\n",
       "      <th>drug_id</th>\n",
       "      <th>drug_name</th>\n",
       "    </tr>\n",
       "  </thead>\n",
       "  <tbody>\n",
       "    <tr>\n",
       "      <th>0</th>\n",
       "      <td>105100877</td>\n",
       "      <td>13284613</td>\n",
       "      <td>OBG</td>\n",
       "      <td>393476</td>\n",
       "      <td>GILDESS</td>\n",
       "    </tr>\n",
       "    <tr>\n",
       "      <th>1</th>\n",
       "      <td>169982782</td>\n",
       "      <td>30917374</td>\n",
       "      <td>GYN</td>\n",
       "      <td>400027</td>\n",
       "      <td>MINASTRIN 24 FE</td>\n",
       "    </tr>\n",
       "    <tr>\n",
       "      <th>2</th>\n",
       "      <td>111471703</td>\n",
       "      <td>12876703</td>\n",
       "      <td>OBG</td>\n",
       "      <td>312330</td>\n",
       "      <td>JUNEL</td>\n",
       "    </tr>\n",
       "    <tr>\n",
       "      <th>3</th>\n",
       "      <td>189101274</td>\n",
       "      <td>26195134</td>\n",
       "      <td>OBG</td>\n",
       "      <td>10213</td>\n",
       "      <td>ROXICET</td>\n",
       "    </tr>\n",
       "  </tbody>\n",
       "</table>\n",
       "</div>"
      ],
      "text/plain": [
       "   patient_id  practitioner_id specialty_code  drug_id        drug_name\n",
       "0   105100877         13284613            OBG   393476          GILDESS\n",
       "1   169982782         30917374            GYN   400027  MINASTRIN 24 FE\n",
       "2   111471703         12876703            OBG   312330            JUNEL\n",
       "3   189101274         26195134            OBG    10213          ROXICET"
      ]
     },
     "execution_count": 18,
     "metadata": {},
     "output_type": "execute_result"
    }
   ],
   "source": [
    "train_obgyn_drug = pd.read_csv(fdir+'train_obgyn_drug.csv')\n",
    "train_obgyn_drug[:4]"
   ]
  },
  {
   "cell_type": "code",
   "execution_count": 19,
   "metadata": {
    "collapsed": false
   },
   "outputs": [
    {
     "data": {
      "text/plain": [
       "(8861163, 5)"
      ]
     },
     "execution_count": 19,
     "metadata": {},
     "output_type": "execute_result"
    }
   ],
   "source": [
    "train_obgyn_drug.shape"
   ]
  },
  {
   "cell_type": "code",
   "execution_count": 21,
   "metadata": {
    "collapsed": false
   },
   "outputs": [
    {
     "data": {
      "text/plain": [
       "5354"
      ]
     },
     "execution_count": 21,
     "metadata": {},
     "output_type": "execute_result"
    }
   ],
   "source": [
    "len(train_obgyn_drug.drug_name.unique())"
   ]
  },
  {
   "cell_type": "code",
   "execution_count": 24,
   "metadata": {
    "collapsed": false
   },
   "outputs": [
    {
     "name": "stdout",
     "output_type": "stream",
     "text": [
      "['GILDESS' 'MINASTRIN 24 FE' 'JUNEL' 'ROXICET'\n",
      " 'MEDROXYPROGESTERONE ACETATE' 'PROMETHAZINE HCL' 'MISOPROSTOL'\n",
      " 'LO LOESTRIN FE' 'VIVELLE-DOT' 'FLUCONAZOLE' 'MICROGESTIN FE'\n",
      " 'HYDROCODONE-ACETAMINOPHEN' 'FLUOXETINE HCL' 'AVIANE'\n",
      " 'ORTHO TRI-CYCLEN LO' 'ERRIN' 'ESTRACE' 'MICROGESTIN' 'AFLURIA 2013-2014'\n",
      " 'VALACYCLOVIR']\n"
     ]
    }
   ],
   "source": [
    "print(train_obgyn_drug.drug_name.unique()[:20])"
   ]
  },
  {
   "cell_type": "code",
   "execution_count": null,
   "metadata": {
    "collapsed": true
   },
   "outputs": [],
   "source": []
  }
 ],
 "metadata": {
  "hide_input": false,
  "kernelspec": {
   "display_name": "Python 2",
   "language": "python",
   "name": "python2"
  },
  "language_info": {
   "codemirror_mode": {
    "name": "ipython",
    "version": 2
   },
   "file_extension": ".py",
   "mimetype": "text/x-python",
   "name": "python",
   "nbconvert_exporter": "python",
   "pygments_lexer": "ipython2",
   "version": "2.7.11"
  }
 },
 "nbformat": 4,
 "nbformat_minor": 0
}
