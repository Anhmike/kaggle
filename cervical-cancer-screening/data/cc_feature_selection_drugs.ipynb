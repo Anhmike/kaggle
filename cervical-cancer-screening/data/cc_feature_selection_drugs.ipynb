{
 "cells": [
  {
   "cell_type": "markdown",
   "metadata": {},
   "source": [
    "# Genentech Cervical Cancer - Feature Selection Drugs\n",
    "\n",
    "https://www.kaggle.com/c/cervical-cancer-screening/"
   ]
  },
  {
   "cell_type": "code",
   "execution_count": 2,
   "metadata": {
    "collapsed": true
   },
   "outputs": [],
   "source": [
    "# imports\n",
    "import sys # for stderr\n",
    "import numpy as np\n",
    "import pandas as pd\n",
    "import sklearn as skl\n",
    "from sklearn import metrics\n",
    "import matplotlib.pyplot as plt\n",
    "%matplotlib inline"
   ]
  },
  {
   "cell_type": "code",
   "execution_count": 3,
   "metadata": {
    "collapsed": false
   },
   "outputs": [
    {
     "name": "stdout",
     "output_type": "stream",
     "text": [
      "Logging hadn't been started.\n",
      "Activating auto-logging. Current session state plus future input saved.\n",
      "Filename       : cc_feature_selection.log\n",
      "Mode           : rotate\n",
      "Output logging : True\n",
      "Raw input log  : False\n",
      "Timestamping   : False\n",
      "State          : active\n"
     ]
    }
   ],
   "source": [
    "# settings \n",
    "%logstop\n",
    "%logstart  -o 'cc_feature_selection.log' rotate\n",
    "plt.style.use('ggplot')\n",
    "# constants\n",
    "# plt.rcParams['figure.figsize'] = (10.0, 10.0)\n",
    "# pd.set_option('display.max_rows', 50)\n",
    "# pd.set_option('display.max_columns', 50)"
   ]
  },
  {
   "cell_type": "code",
   "execution_count": 4,
   "metadata": {
    "collapsed": false
   },
   "outputs": [
    {
     "name": "stdout",
     "output_type": "stream",
     "text": [
      "2016-01-29 16:05:42.335769\n",
      "Python: 2.7.11 |Anaconda 2.4.0 (x86_64)| (default, Dec  6 2015, 18:57:58) \n",
      "[GCC 4.2.1 (Apple Inc. build 5577)]\n",
      "numpy: 1.10.2\n",
      "pandas: 0.17.1\n",
      "sklearn: 0.17\n"
     ]
    }
   ],
   "source": [
    "# versions \n",
    "import sys\n",
    "print(pd.datetime.now())\n",
    "print('Python: '+sys.version)\n",
    "print('numpy: '+np.__version__)\n",
    "print('pandas: '+pd.__version__)\n",
    "print('sklearn: '+skl.__version__)"
   ]
  },
  {
   "cell_type": "code",
   "execution_count": 4,
   "metadata": {
    "collapsed": false
   },
   "outputs": [],
   "source": [
    "from sqlalchemy import create_engine\n",
    "engine = create_engine('postgresql://paulperry:@localhost:5432/ccancer')"
   ]
  },
  {
   "cell_type": "code",
   "execution_count": 5,
   "metadata": {
    "collapsed": true
   },
   "outputs": [],
   "source": [
    "from pyace import ace"
   ]
  },
  {
   "cell_type": "markdown",
   "metadata": {},
   "source": [
    "## Load "
   ]
  },
  {
   "cell_type": "code",
   "execution_count": 6,
   "metadata": {
    "collapsed": true
   },
   "outputs": [],
   "source": [
    "fdir = './features/'"
   ]
  },
  {
   "cell_type": "code",
   "execution_count": 7,
   "metadata": {
    "collapsed": false
   },
   "outputs": [
    {
     "data": {
      "text/html": [
       "<div>\n",
       "<table border=\"1\" class=\"dataframe\">\n",
       "  <thead>\n",
       "    <tr style=\"text-align: right;\">\n",
       "      <th></th>\n",
       "      <th>patient_age_group</th>\n",
       "      <th>patient_state</th>\n",
       "      <th>ethinicity</th>\n",
       "      <th>household_income</th>\n",
       "      <th>education_level</th>\n",
       "      <th>is_screener</th>\n",
       "    </tr>\n",
       "    <tr>\n",
       "      <th>patient_id</th>\n",
       "      <th></th>\n",
       "      <th></th>\n",
       "      <th></th>\n",
       "      <th></th>\n",
       "      <th></th>\n",
       "      <th></th>\n",
       "    </tr>\n",
       "  </thead>\n",
       "  <tbody>\n",
       "    <tr>\n",
       "      <th>336201912</th>\n",
       "      <td>51-53</td>\n",
       "      <td>SD</td>\n",
       "      <td>ALL OTHER</td>\n",
       "      <td>UNKNOWN</td>\n",
       "      <td>UNKNOWN</td>\n",
       "      <td>1</td>\n",
       "    </tr>\n",
       "    <tr>\n",
       "      <th>373337412</th>\n",
       "      <td>21-23</td>\n",
       "      <td>LA</td>\n",
       "      <td>ALL OTHER</td>\n",
       "      <td>UNKNOWN</td>\n",
       "      <td>UNKNOWN</td>\n",
       "      <td>1</td>\n",
       "    </tr>\n",
       "    <tr>\n",
       "      <th>368845412</th>\n",
       "      <td>12-14</td>\n",
       "      <td>OH</td>\n",
       "      <td>ALL OTHER</td>\n",
       "      <td>UNKNOWN</td>\n",
       "      <td>UNKNOWN</td>\n",
       "      <td>0</td>\n",
       "    </tr>\n",
       "  </tbody>\n",
       "</table>\n",
       "</div>"
      ],
      "text/plain": [
       "           patient_age_group patient_state ethinicity household_income  \\\n",
       "patient_id                                                               \n",
       "336201912              51-53            SD  ALL OTHER          UNKNOWN   \n",
       "373337412              21-23            LA  ALL OTHER          UNKNOWN   \n",
       "368845412              12-14            OH  ALL OTHER          UNKNOWN   \n",
       "\n",
       "           education_level  is_screener  \n",
       "patient_id                               \n",
       "336201912          UNKNOWN            1  \n",
       "373337412          UNKNOWN            1  \n",
       "368845412          UNKNOWN            0  "
      ]
     },
     "execution_count": 7,
     "metadata": {},
     "output_type": "execute_result"
    }
   ],
   "source": [
    "train_file = './input/patients_train.csv.gz'\n",
    "train = pd.read_csv(train_file)\n",
    "train.drop('patient_gender', axis=1, inplace=True)\n",
    "train.set_index('patient_id', inplace=True)\n",
    "train[:3]"
   ]
  },
  {
   "cell_type": "markdown",
   "metadata": {},
   "source": [
    "## Run"
   ]
  },
  {
   "cell_type": "code",
   "execution_count": 8,
   "metadata": {
    "collapsed": false,
    "scrolled": true
   },
   "outputs": [
    {
     "name": "stdout",
     "output_type": "stream",
     "text": [
      "2016-01-29 07:33:32.975777\n"
     ]
    }
   ],
   "source": [
    "import datetime\n",
    "start = datetime.datetime.now()\n",
    "print(start)"
   ]
  },
  {
   "cell_type": "code",
   "execution_count": 9,
   "metadata": {
    "collapsed": false
   },
   "outputs": [
    {
     "data": {
      "text/plain": [
       "(8861163, 5)"
      ]
     },
     "execution_count": 9,
     "metadata": {},
     "output_type": "execute_result"
    }
   ],
   "source": [
    "tab = pd.read_csv(fdir+'train_obgyn_drug.csv')\n",
    "#tab.set_index('patient_id', inplace=True)\n",
    "tab.shape"
   ]
  },
  {
   "cell_type": "code",
   "execution_count": 10,
   "metadata": {
    "collapsed": false,
    "scrolled": true
   },
   "outputs": [
    {
     "data": {
      "text/plain": [
       "(3166274, 5)"
      ]
     },
     "execution_count": 10,
     "metadata": {},
     "output_type": "execute_result"
    }
   ],
   "source": [
    "tab.drop_duplicates(['patient_id','drug_id'], inplace=True)\n",
    "tab.shape"
   ]
  },
  {
   "cell_type": "code",
   "execution_count": 11,
   "metadata": {
    "collapsed": false
   },
   "outputs": [
    {
     "data": {
      "text/plain": [
       "24296"
      ]
     },
     "execution_count": 11,
     "metadata": {},
     "output_type": "execute_result"
    }
   ],
   "source": [
    "drugs = tab.drug_id.unique()\n",
    "len(drugs)"
   ]
  },
  {
   "cell_type": "code",
   "execution_count": 24,
   "metadata": {
    "collapsed": true
   },
   "outputs": [],
   "source": [
    "cat_cols = ['patient_age_group','patient_state','ethinicity','household_income','education_level']"
   ]
  },
  {
   "cell_type": "code",
   "execution_count": 14,
   "metadata": {
    "collapsed": false
   },
   "outputs": [
    {
     "name": "stdout",
     "output_type": "stream",
     "text": [
      "(529335, 1000)\n"
     ]
    },
    {
     "data": {
      "text/html": [
       "<div>\n",
       "<table border=\"1\" class=\"dataframe\">\n",
       "  <thead>\n",
       "    <tr style=\"text-align: right;\">\n",
       "      <th>drug_id</th>\n",
       "      <th>3191</th>\n",
       "      <th>4588</th>\n",
       "      <th>4635</th>\n",
       "      <th>10201</th>\n",
       "      <th>10213</th>\n",
       "      <th>15798</th>\n",
       "      <th>15855</th>\n",
       "      <th>19619</th>\n",
       "      <th>19662</th>\n",
       "      <th>19664</th>\n",
       "      <th>...</th>\n",
       "      <th>401471</th>\n",
       "      <th>401472</th>\n",
       "      <th>401473</th>\n",
       "      <th>402050</th>\n",
       "      <th>402151</th>\n",
       "      <th>402301</th>\n",
       "      <th>402829</th>\n",
       "      <th>403450</th>\n",
       "      <th>403747</th>\n",
       "      <th>403907</th>\n",
       "    </tr>\n",
       "    <tr>\n",
       "      <th>patient_id</th>\n",
       "      <th></th>\n",
       "      <th></th>\n",
       "      <th></th>\n",
       "      <th></th>\n",
       "      <th></th>\n",
       "      <th></th>\n",
       "      <th></th>\n",
       "      <th></th>\n",
       "      <th></th>\n",
       "      <th></th>\n",
       "      <th></th>\n",
       "      <th></th>\n",
       "      <th></th>\n",
       "      <th></th>\n",
       "      <th></th>\n",
       "      <th></th>\n",
       "      <th></th>\n",
       "      <th></th>\n",
       "      <th></th>\n",
       "      <th></th>\n",
       "      <th></th>\n",
       "    </tr>\n",
       "  </thead>\n",
       "  <tbody>\n",
       "    <tr>\n",
       "      <th>84548626</th>\n",
       "      <td>NaN</td>\n",
       "      <td>NaN</td>\n",
       "      <td>NaN</td>\n",
       "      <td>NaN</td>\n",
       "      <td>NaN</td>\n",
       "      <td>NaN</td>\n",
       "      <td>NaN</td>\n",
       "      <td>NaN</td>\n",
       "      <td>NaN</td>\n",
       "      <td>NaN</td>\n",
       "      <td>...</td>\n",
       "      <td>NaN</td>\n",
       "      <td>NaN</td>\n",
       "      <td>NaN</td>\n",
       "      <td>NaN</td>\n",
       "      <td>NaN</td>\n",
       "      <td>NaN</td>\n",
       "      <td>NaN</td>\n",
       "      <td>NaN</td>\n",
       "      <td>NaN</td>\n",
       "      <td>NaN</td>\n",
       "    </tr>\n",
       "    <tr>\n",
       "      <th>84548805</th>\n",
       "      <td>NaN</td>\n",
       "      <td>NaN</td>\n",
       "      <td>NaN</td>\n",
       "      <td>NaN</td>\n",
       "      <td>NaN</td>\n",
       "      <td>NaN</td>\n",
       "      <td>NaN</td>\n",
       "      <td>NaN</td>\n",
       "      <td>NaN</td>\n",
       "      <td>NaN</td>\n",
       "      <td>...</td>\n",
       "      <td>NaN</td>\n",
       "      <td>NaN</td>\n",
       "      <td>NaN</td>\n",
       "      <td>NaN</td>\n",
       "      <td>NaN</td>\n",
       "      <td>NaN</td>\n",
       "      <td>NaN</td>\n",
       "      <td>NaN</td>\n",
       "      <td>NaN</td>\n",
       "      <td>NaN</td>\n",
       "    </tr>\n",
       "    <tr>\n",
       "      <th>84548821</th>\n",
       "      <td>NaN</td>\n",
       "      <td>NaN</td>\n",
       "      <td>NaN</td>\n",
       "      <td>NaN</td>\n",
       "      <td>NaN</td>\n",
       "      <td>NaN</td>\n",
       "      <td>NaN</td>\n",
       "      <td>NaN</td>\n",
       "      <td>NaN</td>\n",
       "      <td>NaN</td>\n",
       "      <td>...</td>\n",
       "      <td>NaN</td>\n",
       "      <td>NaN</td>\n",
       "      <td>NaN</td>\n",
       "      <td>NaN</td>\n",
       "      <td>NaN</td>\n",
       "      <td>NaN</td>\n",
       "      <td>NaN</td>\n",
       "      <td>NaN</td>\n",
       "      <td>NaN</td>\n",
       "      <td>NaN</td>\n",
       "    </tr>\n",
       "    <tr>\n",
       "      <th>84549151</th>\n",
       "      <td>NaN</td>\n",
       "      <td>NaN</td>\n",
       "      <td>NaN</td>\n",
       "      <td>NaN</td>\n",
       "      <td>NaN</td>\n",
       "      <td>NaN</td>\n",
       "      <td>NaN</td>\n",
       "      <td>NaN</td>\n",
       "      <td>NaN</td>\n",
       "      <td>NaN</td>\n",
       "      <td>...</td>\n",
       "      <td>NaN</td>\n",
       "      <td>NaN</td>\n",
       "      <td>NaN</td>\n",
       "      <td>NaN</td>\n",
       "      <td>NaN</td>\n",
       "      <td>NaN</td>\n",
       "      <td>NaN</td>\n",
       "      <td>NaN</td>\n",
       "      <td>NaN</td>\n",
       "      <td>NaN</td>\n",
       "    </tr>\n",
       "    <tr>\n",
       "      <th>84549169</th>\n",
       "      <td>NaN</td>\n",
       "      <td>NaN</td>\n",
       "      <td>NaN</td>\n",
       "      <td>NaN</td>\n",
       "      <td>NaN</td>\n",
       "      <td>NaN</td>\n",
       "      <td>NaN</td>\n",
       "      <td>NaN</td>\n",
       "      <td>NaN</td>\n",
       "      <td>NaN</td>\n",
       "      <td>...</td>\n",
       "      <td>NaN</td>\n",
       "      <td>NaN</td>\n",
       "      <td>NaN</td>\n",
       "      <td>NaN</td>\n",
       "      <td>NaN</td>\n",
       "      <td>NaN</td>\n",
       "      <td>NaN</td>\n",
       "      <td>NaN</td>\n",
       "      <td>NaN</td>\n",
       "      <td>NaN</td>\n",
       "    </tr>\n",
       "    <tr>\n",
       "      <th>84550136</th>\n",
       "      <td>NaN</td>\n",
       "      <td>NaN</td>\n",
       "      <td>NaN</td>\n",
       "      <td>NaN</td>\n",
       "      <td>NaN</td>\n",
       "      <td>NaN</td>\n",
       "      <td>NaN</td>\n",
       "      <td>NaN</td>\n",
       "      <td>NaN</td>\n",
       "      <td>NaN</td>\n",
       "      <td>...</td>\n",
       "      <td>NaN</td>\n",
       "      <td>NaN</td>\n",
       "      <td>NaN</td>\n",
       "      <td>NaN</td>\n",
       "      <td>NaN</td>\n",
       "      <td>NaN</td>\n",
       "      <td>NaN</td>\n",
       "      <td>NaN</td>\n",
       "      <td>NaN</td>\n",
       "      <td>NaN</td>\n",
       "    </tr>\n",
       "    <tr>\n",
       "      <th>84550482</th>\n",
       "      <td>NaN</td>\n",
       "      <td>NaN</td>\n",
       "      <td>NaN</td>\n",
       "      <td>NaN</td>\n",
       "      <td>NaN</td>\n",
       "      <td>NaN</td>\n",
       "      <td>NaN</td>\n",
       "      <td>NaN</td>\n",
       "      <td>NaN</td>\n",
       "      <td>NaN</td>\n",
       "      <td>...</td>\n",
       "      <td>NaN</td>\n",
       "      <td>NaN</td>\n",
       "      <td>NaN</td>\n",
       "      <td>NaN</td>\n",
       "      <td>NaN</td>\n",
       "      <td>NaN</td>\n",
       "      <td>NaN</td>\n",
       "      <td>NaN</td>\n",
       "      <td>NaN</td>\n",
       "      <td>NaN</td>\n",
       "    </tr>\n",
       "    <tr>\n",
       "      <th>84550563</th>\n",
       "      <td>NaN</td>\n",
       "      <td>NaN</td>\n",
       "      <td>NaN</td>\n",
       "      <td>NaN</td>\n",
       "      <td>NaN</td>\n",
       "      <td>NaN</td>\n",
       "      <td>NaN</td>\n",
       "      <td>NaN</td>\n",
       "      <td>NaN</td>\n",
       "      <td>NaN</td>\n",
       "      <td>...</td>\n",
       "      <td>NaN</td>\n",
       "      <td>NaN</td>\n",
       "      <td>NaN</td>\n",
       "      <td>NaN</td>\n",
       "      <td>NaN</td>\n",
       "      <td>NaN</td>\n",
       "      <td>NaN</td>\n",
       "      <td>NaN</td>\n",
       "      <td>NaN</td>\n",
       "      <td>NaN</td>\n",
       "    </tr>\n",
       "    <tr>\n",
       "      <th>84550735</th>\n",
       "      <td>NaN</td>\n",
       "      <td>NaN</td>\n",
       "      <td>NaN</td>\n",
       "      <td>NaN</td>\n",
       "      <td>NaN</td>\n",
       "      <td>NaN</td>\n",
       "      <td>NaN</td>\n",
       "      <td>NaN</td>\n",
       "      <td>NaN</td>\n",
       "      <td>NaN</td>\n",
       "      <td>...</td>\n",
       "      <td>NaN</td>\n",
       "      <td>NaN</td>\n",
       "      <td>NaN</td>\n",
       "      <td>NaN</td>\n",
       "      <td>NaN</td>\n",
       "      <td>NaN</td>\n",
       "      <td>NaN</td>\n",
       "      <td>NaN</td>\n",
       "      <td>NaN</td>\n",
       "      <td>NaN</td>\n",
       "    </tr>\n",
       "    <tr>\n",
       "      <th>84550886</th>\n",
       "      <td>NaN</td>\n",
       "      <td>NaN</td>\n",
       "      <td>NaN</td>\n",
       "      <td>NaN</td>\n",
       "      <td>NaN</td>\n",
       "      <td>NaN</td>\n",
       "      <td>NaN</td>\n",
       "      <td>NaN</td>\n",
       "      <td>NaN</td>\n",
       "      <td>NaN</td>\n",
       "      <td>...</td>\n",
       "      <td>NaN</td>\n",
       "      <td>NaN</td>\n",
       "      <td>NaN</td>\n",
       "      <td>NaN</td>\n",
       "      <td>NaN</td>\n",
       "      <td>NaN</td>\n",
       "      <td>NaN</td>\n",
       "      <td>NaN</td>\n",
       "      <td>NaN</td>\n",
       "      <td>NaN</td>\n",
       "    </tr>\n",
       "  </tbody>\n",
       "</table>\n",
       "<p>10 rows × 1000 columns</p>\n",
       "</div>"
      ],
      "text/plain": [
       "drug_id     3191    4588    4635    10201   10213   15798   15855   19619   \\\n",
       "patient_id                                                                   \n",
       "84548626       NaN     NaN     NaN     NaN     NaN     NaN     NaN     NaN   \n",
       "84548805       NaN     NaN     NaN     NaN     NaN     NaN     NaN     NaN   \n",
       "84548821       NaN     NaN     NaN     NaN     NaN     NaN     NaN     NaN   \n",
       "84549151       NaN     NaN     NaN     NaN     NaN     NaN     NaN     NaN   \n",
       "84549169       NaN     NaN     NaN     NaN     NaN     NaN     NaN     NaN   \n",
       "84550136       NaN     NaN     NaN     NaN     NaN     NaN     NaN     NaN   \n",
       "84550482       NaN     NaN     NaN     NaN     NaN     NaN     NaN     NaN   \n",
       "84550563       NaN     NaN     NaN     NaN     NaN     NaN     NaN     NaN   \n",
       "84550735       NaN     NaN     NaN     NaN     NaN     NaN     NaN     NaN   \n",
       "84550886       NaN     NaN     NaN     NaN     NaN     NaN     NaN     NaN   \n",
       "\n",
       "drug_id     19662   19664    ...    401471  401472  401473  402050  402151  \\\n",
       "patient_id                   ...                                             \n",
       "84548626       NaN     NaN   ...       NaN     NaN     NaN     NaN     NaN   \n",
       "84548805       NaN     NaN   ...       NaN     NaN     NaN     NaN     NaN   \n",
       "84548821       NaN     NaN   ...       NaN     NaN     NaN     NaN     NaN   \n",
       "84549151       NaN     NaN   ...       NaN     NaN     NaN     NaN     NaN   \n",
       "84549169       NaN     NaN   ...       NaN     NaN     NaN     NaN     NaN   \n",
       "84550136       NaN     NaN   ...       NaN     NaN     NaN     NaN     NaN   \n",
       "84550482       NaN     NaN   ...       NaN     NaN     NaN     NaN     NaN   \n",
       "84550563       NaN     NaN   ...       NaN     NaN     NaN     NaN     NaN   \n",
       "84550735       NaN     NaN   ...       NaN     NaN     NaN     NaN     NaN   \n",
       "84550886       NaN     NaN   ...       NaN     NaN     NaN     NaN     NaN   \n",
       "\n",
       "drug_id     402301  402829  403450  403747  403907  \n",
       "patient_id                                          \n",
       "84548626       NaN     NaN     NaN     NaN     NaN  \n",
       "84548805       NaN     NaN     NaN     NaN     NaN  \n",
       "84548821       NaN     NaN     NaN     NaN     NaN  \n",
       "84549151       NaN     NaN     NaN     NaN     NaN  \n",
       "84549169       NaN     NaN     NaN     NaN     NaN  \n",
       "84550136       NaN     NaN     NaN     NaN     NaN  \n",
       "84550482       NaN     NaN     NaN     NaN     NaN  \n",
       "84550563       NaN     NaN     NaN     NaN     NaN  \n",
       "84550735       NaN     NaN     NaN     NaN     NaN  \n",
       "84550886       NaN     NaN     NaN     NaN     NaN  \n",
       "\n",
       "[10 rows x 1000 columns]"
      ]
     },
     "execution_count": 14,
     "metadata": {},
     "output_type": "execute_result"
    }
   ],
   "source": [
    "print(tab_pivot.shape)\n",
    "tab_pivot[:10]"
   ]
  },
  {
   "cell_type": "code",
   "execution_count": 58,
   "metadata": {
    "collapsed": true
   },
   "outputs": [],
   "source": [
    "tab_dummy = (tab_pivot[:] > 0).astype(int)\n",
    "\n",
    "# tab_dummy[tab_dummy.iloc[:,0] > 0]\n",
    "\n",
    "sums = tab_dummy.sum()\n",
    "sums.sort_values(ascending=False, inplace=True)\n",
    "tab_sub = tab_pivot.loc[:,sums[sums > 20].index] "
   ]
  },
  {
   "cell_type": "code",
   "execution_count": 79,
   "metadata": {
    "collapsed": false
   },
   "outputs": [
    {
     "name": "stdout",
     "output_type": "stream",
     "text": [
      "0\n",
      "(529335, 807) 1000\n",
      "(214411, 591) 2000\n",
      "(220643, 492) 3000\n",
      "(142642, 423) 4000\n",
      "(92028, 307) 5000\n",
      "(49442, 164) 6000\n",
      "(33629, 84) 7000\n",
      "(25010, 47) 8000\n",
      "(18508, 16) 9000\n",
      "(13998, 6) 10000\n",
      "(10614, 2) 11000\n",
      "('nothing at: ', 11000)\n",
      "12000\n",
      "('nothing at: ', 12000)\n",
      "13000\n",
      "('nothing at: ', 13000)\n",
      "14000\n",
      "('nothing at: ', 14000)\n",
      "15000\n",
      "('nothing at: ', 15000)\n",
      "16000\n",
      "('nothing at: ', 16000)\n",
      "17000\n",
      "('nothing at: ', 17000)\n",
      "18000\n",
      "('nothing at: ', 18000)\n",
      "19000\n",
      "('nothing at: ', 19000)\n",
      "20000\n",
      "('nothing at: ', 20000)\n",
      "21000\n",
      "('nothing at: ', 21000)\n",
      "22000\n",
      "('nothing at: ', 22000)\n",
      "23000\n",
      "('nothing at: ', 23000)\n",
      "24000\n",
      "('nothing at: ', 24000)\n"
     ]
    }
   ],
   "source": [
    "step = 1000\n",
    "for i in range(0,len(drugs),step):\n",
    "    print(i, i+step, ':'), \n",
    "    subset = tab[tab.drug_id.isin(drugs[i:i+step])]\n",
    "    tab_pivot = subset.pivot('patient_id','drug_id','drug_id')\n",
    "    tab_dummy = (tab_pivot[:] > 0).astype(int)\n",
    "    sums = tab_dummy.sum()\n",
    "    sums.sort_values(ascending=False, inplace=True)\n",
    "    tab_sub = tab_pivot.loc[:,sums[sums > 100].index]\n",
    "    if tab_sub.shape[1] < 1:\n",
    "        continue\n",
    "    print(tab_sub.shape)\n",
    "    dfall = pd.merge(train, tab_sub, left_index=True, right_index=True, how='left')\n",
    "    ranks = ace(dfall, 'is_screener', cat_cols=[])\n",
    "    df_ranks = pd.DataFrame(ranks, index=dfall.columns, columns=['ace','mean'])\n",
    "    df_ranks = df_ranks.sort_values(by='ace', ascending=False)\n",
    "    top_ranks = df_ranks[df_ranks.ace > 0]\n",
    "    if top_ranks.shape[0] > 5:\n",
    "        break\n",
    "    gc.collect()"
   ]
  },
  {
   "cell_type": "code",
   "execution_count": 78,
   "metadata": {
    "collapsed": false
   },
   "outputs": [
    {
     "data": {
      "text/plain": [
       "(298, 0)"
      ]
     },
     "execution_count": 78,
     "metadata": {},
     "output_type": "execute_result"
    }
   ],
   "source": [
    "tab_sub.shape"
   ]
  },
  {
   "cell_type": "code",
   "execution_count": null,
   "metadata": {
    "collapsed": true
   },
   "outputs": [],
   "source": []
  },
  {
   "cell_type": "code",
   "execution_count": null,
   "metadata": {
    "collapsed": true
   },
   "outputs": [],
   "source": [
    "nnn = 1"
   ]
  },
  {
   "cell_type": "code",
   "execution_count": null,
   "metadata": {
    "collapsed": true
   },
   "outputs": [],
   "source": [
    "break"
   ]
  },
  {
   "cell_type": "code",
   "execution_count": null,
   "metadata": {
    "collapsed": false
   },
   "outputs": [],
   "source": [
    "top_ranks.to_csv('drug_ranks_'+str(nnn)+'.csv')"
   ]
  },
  {
   "cell_type": "code",
   "execution_count": null,
   "metadata": {
    "collapsed": false
   },
   "outputs": [],
   "source": [
    "end   = datetime.datetime.now()\n",
    "print('run time: '+str(end-start)+' at: '+str(end))"
   ]
  },
  {
   "cell_type": "code",
   "execution_count": null,
   "metadata": {
    "collapsed": false
   },
   "outputs": [],
   "source": [
    "break"
   ]
  },
  {
   "cell_type": "code",
   "execution_count": null,
   "metadata": {
    "collapsed": false
   },
   "outputs": [],
   "source": [
    "top_ranks = pd.read_csv('diagnosis_ranks_15.csv')\n",
    "top_ranks.set_index('Unnamed: 0', inplace=True)\n",
    "top_ranks[:10]"
   ]
  },
  {
   "cell_type": "code",
   "execution_count": null,
   "metadata": {
    "collapsed": false
   },
   "outputs": [],
   "source": [
    "qlist = list(top_ranks[top_ranks.ace > 0.003891].index)\n",
    "for c in cat_cols: \n",
    "    qlist.remove(c)\n",
    "qlist_str = \"('\"+qlist[0]+\"'\"\n",
    "for c in qlist[1:]: \n",
    "    qlist_str=qlist_str+\",'\"+c+\"'\"\n",
    "qlist_str=qlist_str+')'\n",
    "qlist_str"
   ]
  },
  {
   "cell_type": "code",
   "execution_count": null,
   "metadata": {
    "collapsed": false
   },
   "outputs": [],
   "source": [
    "q = 'select * from diagnosis_code where diagnosis_code in '+qlist_str\n",
    "\n",
    "diag_codes = pd.read_sql_query(q, engine)\n",
    "diag_codes"
   ]
  },
  {
   "cell_type": "code",
   "execution_count": null,
   "metadata": {
    "collapsed": true
   },
   "outputs": [],
   "source": [
    "diag_codes.to_csv('diagnosis_top_codes.csv', mode='a', header=False)"
   ]
  },
  {
   "cell_type": "code",
   "execution_count": null,
   "metadata": {
    "collapsed": false
   },
   "outputs": [],
   "source": [
    "qlist"
   ]
  },
  {
   "cell_type": "code",
   "execution_count": null,
   "metadata": {
    "collapsed": false
   },
   "outputs": [],
   "source": [
    "tab[qlist].to_csv('diagnosis_top_'+str(nnn)+'.csv')"
   ]
  },
  {
   "cell_type": "markdown",
   "metadata": {
    "collapsed": true
   },
   "source": [
    "## physician codes"
   ]
  },
  {
   "cell_type": "code",
   "execution_count": 5,
   "metadata": {
    "collapsed": false
   },
   "outputs": [],
   "source": [
    "physician = ['GO','GYN','OBG','OBS','OCC','ON','OTO','PCP','REN', 'FPP', 'PLN','FPG', 'FM', 'FP']\n",
    "phy_codes = pd.read_csv('features/physician_specialty_codes.csv')"
   ]
  },
  {
   "cell_type": "code",
   "execution_count": 7,
   "metadata": {
    "collapsed": false
   },
   "outputs": [
    {
     "data": {
      "text/html": [
       "<div>\n",
       "<table border=\"1\" class=\"dataframe\">\n",
       "  <thead>\n",
       "    <tr style=\"text-align: right;\">\n",
       "      <th></th>\n",
       "      <th>specialty_code</th>\n",
       "      <th>specialty_description</th>\n",
       "    </tr>\n",
       "  </thead>\n",
       "  <tbody>\n",
       "    <tr>\n",
       "      <th>8</th>\n",
       "      <td>REN</td>\n",
       "      <td>REPRODUCTIVE ENDOCRINOLOGY</td>\n",
       "    </tr>\n",
       "    <tr>\n",
       "      <th>23</th>\n",
       "      <td>GO</td>\n",
       "      <td>GYNECOLOGICAL ONCOLOGY</td>\n",
       "    </tr>\n",
       "    <tr>\n",
       "      <th>30</th>\n",
       "      <td>FPP</td>\n",
       "      <td>FAMILY PRACTICE/PSYCHIATRY</td>\n",
       "    </tr>\n",
       "    <tr>\n",
       "      <th>32</th>\n",
       "      <td>OTO</td>\n",
       "      <td>OTOLARYNGOLOGY</td>\n",
       "    </tr>\n",
       "    <tr>\n",
       "      <th>57</th>\n",
       "      <td>PLN</td>\n",
       "      <td>FAMILY PLANNING NURSE PRACTITIONER</td>\n",
       "    </tr>\n",
       "    <tr>\n",
       "      <th>67</th>\n",
       "      <td>GYN</td>\n",
       "      <td>GYNECOLOGY</td>\n",
       "    </tr>\n",
       "    <tr>\n",
       "      <th>84</th>\n",
       "      <td>ON</td>\n",
       "      <td>ONCOLOGY MEDICAL</td>\n",
       "    </tr>\n",
       "    <tr>\n",
       "      <th>98</th>\n",
       "      <td>PCP</td>\n",
       "      <td>PATHOLOGY, CYTOPATHOLOGY</td>\n",
       "    </tr>\n",
       "    <tr>\n",
       "      <th>103</th>\n",
       "      <td>OBG</td>\n",
       "      <td>OBSTETRICS AND GYNECOLOGY</td>\n",
       "    </tr>\n",
       "    <tr>\n",
       "      <th>109</th>\n",
       "      <td>OCC</td>\n",
       "      <td>OBSTETRICS/GYNECOLOGY, CRITICAL CARE</td>\n",
       "    </tr>\n",
       "    <tr>\n",
       "      <th>120</th>\n",
       "      <td>OBS</td>\n",
       "      <td>OBSTETRICS</td>\n",
       "    </tr>\n",
       "    <tr>\n",
       "      <th>157</th>\n",
       "      <td>FPG</td>\n",
       "      <td>FAMILY PRACTICE, GERIATRIC MEDICINE</td>\n",
       "    </tr>\n",
       "    <tr>\n",
       "      <th>160</th>\n",
       "      <td>FM</td>\n",
       "      <td>FAMILY MEDICINE</td>\n",
       "    </tr>\n",
       "    <tr>\n",
       "      <th>178</th>\n",
       "      <td>FP</td>\n",
       "      <td>FAMILY PRACTICE</td>\n",
       "    </tr>\n",
       "  </tbody>\n",
       "</table>\n",
       "</div>"
      ],
      "text/plain": [
       "    specialty_code                 specialty_description\n",
       "8              REN            REPRODUCTIVE ENDOCRINOLOGY\n",
       "23              GO                GYNECOLOGICAL ONCOLOGY\n",
       "30             FPP            FAMILY PRACTICE/PSYCHIATRY\n",
       "32             OTO                        OTOLARYNGOLOGY\n",
       "57             PLN    FAMILY PLANNING NURSE PRACTITIONER\n",
       "67             GYN                            GYNECOLOGY\n",
       "84              ON                      ONCOLOGY MEDICAL\n",
       "98             PCP              PATHOLOGY, CYTOPATHOLOGY\n",
       "103            OBG             OBSTETRICS AND GYNECOLOGY\n",
       "109            OCC  OBSTETRICS/GYNECOLOGY, CRITICAL CARE\n",
       "120            OBS                            OBSTETRICS\n",
       "157            FPG   FAMILY PRACTICE, GERIATRIC MEDICINE\n",
       "160             FM                       FAMILY MEDICINE\n",
       "178             FP                       FAMILY PRACTICE"
      ]
     },
     "execution_count": 7,
     "metadata": {},
     "output_type": "execute_result"
    }
   ],
   "source": [
    "phy_codes[phy_codes.specialty_code.isin(physician)]"
   ]
  },
  {
   "cell_type": "code",
   "execution_count": null,
   "metadata": {
    "collapsed": true
   },
   "outputs": [],
   "source": [
    "FP = FP , FM, PLN\n",
    "OBG = OBG, GYN, REN, OBS\n",
    "NOT = OTO, PCP, GO, FPP, OCC, FPG, ON "
   ]
  },
  {
   "cell_type": "code",
   "execution_count": 8,
   "metadata": {
    "collapsed": false
   },
   "outputs": [
    {
     "data": {
      "text/plain": [
       "(2859610, 6)"
      ]
     },
     "execution_count": 8,
     "metadata": {},
     "output_type": "execute_result"
    }
   ],
   "source": [
    "proc_years = pd.read_csv('./features/procedure/procedure_years.csv')\n",
    "proc_years.shape"
   ]
  },
  {
   "cell_type": "code",
   "execution_count": 9,
   "metadata": {
    "collapsed": false
   },
   "outputs": [
    {
     "data": {
      "text/html": [
       "<div>\n",
       "<table border=\"1\" class=\"dataframe\">\n",
       "  <thead>\n",
       "    <tr style=\"text-align: right;\">\n",
       "      <th></th>\n",
       "      <th>patient_id</th>\n",
       "      <th>len</th>\n",
       "      <th>year_min</th>\n",
       "      <th>year_max</th>\n",
       "      <th>year_delta</th>\n",
       "      <th>year_delta_2014</th>\n",
       "    </tr>\n",
       "  </thead>\n",
       "  <tbody>\n",
       "    <tr>\n",
       "      <th>0</th>\n",
       "      <td>84548607</td>\n",
       "      <td>131</td>\n",
       "      <td>2008</td>\n",
       "      <td>2014</td>\n",
       "      <td>6</td>\n",
       "      <td>6</td>\n",
       "    </tr>\n",
       "    <tr>\n",
       "      <th>1</th>\n",
       "      <td>84548626</td>\n",
       "      <td>47</td>\n",
       "      <td>2008</td>\n",
       "      <td>2014</td>\n",
       "      <td>6</td>\n",
       "      <td>6</td>\n",
       "    </tr>\n",
       "    <tr>\n",
       "      <th>2</th>\n",
       "      <td>84548666</td>\n",
       "      <td>29</td>\n",
       "      <td>2008</td>\n",
       "      <td>2014</td>\n",
       "      <td>6</td>\n",
       "      <td>6</td>\n",
       "    </tr>\n",
       "    <tr>\n",
       "      <th>3</th>\n",
       "      <td>84548780</td>\n",
       "      <td>84</td>\n",
       "      <td>2008</td>\n",
       "      <td>2014</td>\n",
       "      <td>6</td>\n",
       "      <td>6</td>\n",
       "    </tr>\n",
       "    <tr>\n",
       "      <th>4</th>\n",
       "      <td>84548805</td>\n",
       "      <td>124</td>\n",
       "      <td>2008</td>\n",
       "      <td>2014</td>\n",
       "      <td>6</td>\n",
       "      <td>6</td>\n",
       "    </tr>\n",
       "    <tr>\n",
       "      <th>5</th>\n",
       "      <td>84548821</td>\n",
       "      <td>45</td>\n",
       "      <td>2009</td>\n",
       "      <td>2014</td>\n",
       "      <td>5</td>\n",
       "      <td>5</td>\n",
       "    </tr>\n",
       "    <tr>\n",
       "      <th>6</th>\n",
       "      <td>84548841</td>\n",
       "      <td>47</td>\n",
       "      <td>2008</td>\n",
       "      <td>2014</td>\n",
       "      <td>6</td>\n",
       "      <td>6</td>\n",
       "    </tr>\n",
       "    <tr>\n",
       "      <th>7</th>\n",
       "      <td>84548915</td>\n",
       "      <td>311</td>\n",
       "      <td>2008</td>\n",
       "      <td>2014</td>\n",
       "      <td>6</td>\n",
       "      <td>6</td>\n",
       "    </tr>\n",
       "    <tr>\n",
       "      <th>8</th>\n",
       "      <td>84549017</td>\n",
       "      <td>106</td>\n",
       "      <td>2008</td>\n",
       "      <td>2014</td>\n",
       "      <td>6</td>\n",
       "      <td>6</td>\n",
       "    </tr>\n",
       "    <tr>\n",
       "      <th>9</th>\n",
       "      <td>84549024</td>\n",
       "      <td>65</td>\n",
       "      <td>2008</td>\n",
       "      <td>2014</td>\n",
       "      <td>6</td>\n",
       "      <td>6</td>\n",
       "    </tr>\n",
       "  </tbody>\n",
       "</table>\n",
       "</div>"
      ],
      "text/plain": [
       "   patient_id  len  year_min  year_max  year_delta  year_delta_2014\n",
       "0    84548607  131      2008      2014           6                6\n",
       "1    84548626   47      2008      2014           6                6\n",
       "2    84548666   29      2008      2014           6                6\n",
       "3    84548780   84      2008      2014           6                6\n",
       "4    84548805  124      2008      2014           6                6\n",
       "5    84548821   45      2009      2014           5                5\n",
       "6    84548841   47      2008      2014           6                6\n",
       "7    84548915  311      2008      2014           6                6\n",
       "8    84549017  106      2008      2014           6                6\n",
       "9    84549024   65      2008      2014           6                6"
      ]
     },
     "execution_count": 9,
     "metadata": {},
     "output_type": "execute_result"
    }
   ],
   "source": [
    "proc_years[:10]"
   ]
  },
  {
   "cell_type": "code",
   "execution_count": 10,
   "metadata": {
    "collapsed": false
   },
   "outputs": [
    {
     "data": {
      "text/html": [
       "<div>\n",
       "<table border=\"1\" class=\"dataframe\">\n",
       "  <thead>\n",
       "    <tr style=\"text-align: right;\">\n",
       "      <th></th>\n",
       "      <th>patient_id</th>\n",
       "      <th>len</th>\n",
       "      <th>year_min</th>\n",
       "      <th>year_max</th>\n",
       "      <th>year_delta</th>\n",
       "      <th>year_delta_2014</th>\n",
       "    </tr>\n",
       "  </thead>\n",
       "  <tbody>\n",
       "    <tr>\n",
       "      <th>count</th>\n",
       "      <td>2.859610e+06</td>\n",
       "      <td>2859610.000000</td>\n",
       "      <td>2859610.000000</td>\n",
       "      <td>2859610.000000</td>\n",
       "      <td>2859610.000000</td>\n",
       "      <td>2859610.000000</td>\n",
       "    </tr>\n",
       "    <tr>\n",
       "      <th>mean</th>\n",
       "      <td>2.065658e+08</td>\n",
       "      <td>106.099882</td>\n",
       "      <td>2008.319357</td>\n",
       "      <td>2013.881815</td>\n",
       "      <td>5.562458</td>\n",
       "      <td>5.680643</td>\n",
       "    </tr>\n",
       "    <tr>\n",
       "      <th>std</th>\n",
       "      <td>1.205161e+08</td>\n",
       "      <td>141.596791</td>\n",
       "      <td>0.622024</td>\n",
       "      <td>0.343196</td>\n",
       "      <td>0.729965</td>\n",
       "      <td>0.622024</td>\n",
       "    </tr>\n",
       "    <tr>\n",
       "      <th>min</th>\n",
       "      <td>8.454861e+07</td>\n",
       "      <td>1.000000</td>\n",
       "      <td>2008.000000</td>\n",
       "      <td>2008.000000</td>\n",
       "      <td>0.000000</td>\n",
       "      <td>0.000000</td>\n",
       "    </tr>\n",
       "    <tr>\n",
       "      <th>25%</th>\n",
       "      <td>1.172777e+08</td>\n",
       "      <td>42.000000</td>\n",
       "      <td>2008.000000</td>\n",
       "      <td>2014.000000</td>\n",
       "      <td>5.000000</td>\n",
       "      <td>6.000000</td>\n",
       "    </tr>\n",
       "    <tr>\n",
       "      <th>50%</th>\n",
       "      <td>1.712824e+08</td>\n",
       "      <td>72.000000</td>\n",
       "      <td>2008.000000</td>\n",
       "      <td>2014.000000</td>\n",
       "      <td>6.000000</td>\n",
       "      <td>6.000000</td>\n",
       "    </tr>\n",
       "    <tr>\n",
       "      <th>75%</th>\n",
       "      <td>2.449437e+08</td>\n",
       "      <td>124.000000</td>\n",
       "      <td>2008.000000</td>\n",
       "      <td>2014.000000</td>\n",
       "      <td>6.000000</td>\n",
       "      <td>6.000000</td>\n",
       "    </tr>\n",
       "    <tr>\n",
       "      <th>max</th>\n",
       "      <td>8.876579e+08</td>\n",
       "      <td>7826.000000</td>\n",
       "      <td>2014.000000</td>\n",
       "      <td>2014.000000</td>\n",
       "      <td>6.000000</td>\n",
       "      <td>6.000000</td>\n",
       "    </tr>\n",
       "  </tbody>\n",
       "</table>\n",
       "</div>"
      ],
      "text/plain": [
       "         patient_id             len        year_min        year_max  \\\n",
       "count  2.859610e+06  2859610.000000  2859610.000000  2859610.000000   \n",
       "mean   2.065658e+08      106.099882     2008.319357     2013.881815   \n",
       "std    1.205161e+08      141.596791        0.622024        0.343196   \n",
       "min    8.454861e+07        1.000000     2008.000000     2008.000000   \n",
       "25%    1.172777e+08       42.000000     2008.000000     2014.000000   \n",
       "50%    1.712824e+08       72.000000     2008.000000     2014.000000   \n",
       "75%    2.449437e+08      124.000000     2008.000000     2014.000000   \n",
       "max    8.876579e+08     7826.000000     2014.000000     2014.000000   \n",
       "\n",
       "           year_delta  year_delta_2014  \n",
       "count  2859610.000000   2859610.000000  \n",
       "mean         5.562458         5.680643  \n",
       "std          0.729965         0.622024  \n",
       "min          0.000000         0.000000  \n",
       "25%          5.000000         6.000000  \n",
       "50%          6.000000         6.000000  \n",
       "75%          6.000000         6.000000  \n",
       "max          6.000000         6.000000  "
      ]
     },
     "execution_count": 10,
     "metadata": {},
     "output_type": "execute_result"
    }
   ],
   "source": [
    "proc_years.describe()"
   ]
  },
  {
   "cell_type": "code",
   "execution_count": 15,
   "metadata": {
    "collapsed": false
   },
   "outputs": [
    {
     "data": {
      "text/plain": [
       "2014"
      ]
     },
     "execution_count": 15,
     "metadata": {},
     "output_type": "execute_result"
    }
   ],
   "source": [
    "proc_years.year_min.max()"
   ]
  },
  {
   "cell_type": "code",
   "execution_count": 16,
   "metadata": {
    "collapsed": true
   },
   "outputs": [],
   "source": [
    "# avg_visits per year."
   ]
  },
  {
   "cell_type": "code",
   "execution_count": null,
   "metadata": {
    "collapsed": true
   },
   "outputs": [],
   "source": []
  }
 ],
 "metadata": {
  "hide_input": false,
  "kernelspec": {
   "display_name": "Python 2",
   "language": "python",
   "name": "python2"
  },
  "language_info": {
   "codemirror_mode": {
    "name": "ipython",
    "version": 2
   },
   "file_extension": ".py",
   "mimetype": "text/x-python",
   "name": "python",
   "nbconvert_exporter": "python",
   "pygments_lexer": "ipython2",
   "version": "2.7.11"
  }
 },
 "nbformat": 4,
 "nbformat_minor": 0
}
