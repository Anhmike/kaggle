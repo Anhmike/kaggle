{
 "cells": [
  {
   "cell_type": "markdown",
   "metadata": {},
   "source": [
    "# Ship Logs\n",
    "\n",
    "https://www.kaggle.com/kaggle/climate-data-from-ocean-ships"
   ]
  },
  {
   "cell_type": "code",
   "execution_count": 1,
   "metadata": {
    "collapsed": true
   },
   "outputs": [],
   "source": [
    "# imports\n",
    "import csv\n",
    "import numpy as np\n",
    "import pandas as pd\n",
    "import datetime as dt\n",
    "import matplotlib.pyplot as plt\n",
    "from __future__ import division\n",
    "%matplotlib inline"
   ]
  },
  {
   "cell_type": "code",
   "execution_count": 2,
   "metadata": {
    "collapsed": false
   },
   "outputs": [
    {
     "name": "stdout",
     "output_type": "stream",
     "text": [
      "Python: 3.5.2 |Anaconda custom (x86_64)| (default, Jul  2 2016, 17:52:12) \n",
      "[GCC 4.2.1 Compatible Apple LLVM 4.2 (clang-425.0.28)]\n",
      "numpy: 1.12.0\n",
      "pandas: 0.19.2\n"
     ]
    }
   ],
   "source": [
    "# versions \n",
    "import sys\n",
    "print('Python: '+sys.version)\n",
    "print('numpy: '+np.__version__)\n",
    "print('pandas: '+pd.__version__)"
   ]
  },
  {
   "cell_type": "code",
   "execution_count": 7,
   "metadata": {
    "collapsed": false
   },
   "outputs": [],
   "source": [
    "# constants\n",
    "plt.rcParams['figure.figsize'] = (10.0, 10.0)\n",
    "pd.set_option('display.max_rows', 60)\n",
    "pd.set_option('display.max_columns', 50)"
   ]
  },
  {
   "cell_type": "code",
   "execution_count": 5,
   "metadata": {
    "collapsed": false
   },
   "outputs": [],
   "source": [
    "shiplogs = pd.read_csv('./input/climate-data-from-ocean-ships/CLIWOC15.csv', low_memory=False)"
   ]
  },
  {
   "cell_type": "code",
   "execution_count": 8,
   "metadata": {
    "collapsed": false
   },
   "outputs": [
    {
     "data": {
      "text/html": [
       "<div>\n",
       "<table border=\"1\" class=\"dataframe\">\n",
       "  <thead>\n",
       "    <tr style=\"text-align: right;\">\n",
       "      <th></th>\n",
       "      <th>count</th>\n",
       "      <th>mean</th>\n",
       "      <th>std</th>\n",
       "      <th>min</th>\n",
       "      <th>25%</th>\n",
       "      <th>50%</th>\n",
       "      <th>75%</th>\n",
       "      <th>max</th>\n",
       "    </tr>\n",
       "  </thead>\n",
       "  <tbody>\n",
       "    <tr>\n",
       "      <th>RecID</th>\n",
       "      <td>280280.0</td>\n",
       "      <td>1.401405e+05</td>\n",
       "      <td>8.091001e+04</td>\n",
       "      <td>1.000000e+00</td>\n",
       "      <td>7.007075e+04</td>\n",
       "      <td>1.401405e+05</td>\n",
       "      <td>2.102102e+05</td>\n",
       "      <td>2.802800e+05</td>\n",
       "    </tr>\n",
       "    <tr>\n",
       "      <th>DASnumber</th>\n",
       "      <td>8400.0</td>\n",
       "      <td>5.078049e+03</td>\n",
       "      <td>1.750045e+03</td>\n",
       "      <td>9.772000e+02</td>\n",
       "      <td>3.984600e+03</td>\n",
       "      <td>4.600300e+03</td>\n",
       "      <td>7.327200e+03</td>\n",
       "      <td>8.296300e+03</td>\n",
       "    </tr>\n",
       "    <tr>\n",
       "      <th>VoyageIni</th>\n",
       "      <td>272305.0</td>\n",
       "      <td>1.799578e+07</td>\n",
       "      <td>3.197104e+05</td>\n",
       "      <td>1.662102e+07</td>\n",
       "      <td>1.775042e+07</td>\n",
       "      <td>1.792081e+07</td>\n",
       "      <td>1.833090e+07</td>\n",
       "      <td>1.855062e+07</td>\n",
       "    </tr>\n",
       "    <tr>\n",
       "      <th>Calendar</th>\n",
       "      <td>280280.0</td>\n",
       "      <td>1.983377e+00</td>\n",
       "      <td>1.278531e-01</td>\n",
       "      <td>1.000000e+00</td>\n",
       "      <td>2.000000e+00</td>\n",
       "      <td>2.000000e+00</td>\n",
       "      <td>2.000000e+00</td>\n",
       "      <td>2.000000e+00</td>\n",
       "    </tr>\n",
       "    <tr>\n",
       "      <th>Year</th>\n",
       "      <td>280280.0</td>\n",
       "      <td>1.799093e+03</td>\n",
       "      <td>3.196211e+01</td>\n",
       "      <td>1.662000e+03</td>\n",
       "      <td>1.774000e+03</td>\n",
       "      <td>1.792000e+03</td>\n",
       "      <td>1.832000e+03</td>\n",
       "      <td>1.855000e+03</td>\n",
       "    </tr>\n",
       "    <tr>\n",
       "      <th>Month</th>\n",
       "      <td>280280.0</td>\n",
       "      <td>6.316937e+00</td>\n",
       "      <td>3.322824e+00</td>\n",
       "      <td>1.000000e+00</td>\n",
       "      <td>4.000000e+00</td>\n",
       "      <td>6.000000e+00</td>\n",
       "      <td>9.000000e+00</td>\n",
       "      <td>1.200000e+01</td>\n",
       "    </tr>\n",
       "    <tr>\n",
       "      <th>Day</th>\n",
       "      <td>280280.0</td>\n",
       "      <td>1.572077e+01</td>\n",
       "      <td>8.774635e+00</td>\n",
       "      <td>1.000000e+00</td>\n",
       "      <td>8.000000e+00</td>\n",
       "      <td>1.600000e+01</td>\n",
       "      <td>2.300000e+01</td>\n",
       "      <td>3.100000e+01</td>\n",
       "    </tr>\n",
       "    <tr>\n",
       "      <th>TimeOB</th>\n",
       "      <td>280280.0</td>\n",
       "      <td>1.219164e+01</td>\n",
       "      <td>1.921593e+00</td>\n",
       "      <td>0.000000e+00</td>\n",
       "      <td>1.200000e+01</td>\n",
       "      <td>1.200000e+01</td>\n",
       "      <td>1.200000e+01</td>\n",
       "      <td>2.300000e+01</td>\n",
       "    </tr>\n",
       "    <tr>\n",
       "      <th>Glasses</th>\n",
       "      <td>97142.0</td>\n",
       "      <td>7.999650e+00</td>\n",
       "      <td>3.796158e-02</td>\n",
       "      <td>2.000000e+00</td>\n",
       "      <td>8.000000e+00</td>\n",
       "      <td>8.000000e+00</td>\n",
       "      <td>8.000000e+00</td>\n",
       "      <td>8.000000e+00</td>\n",
       "    </tr>\n",
       "    <tr>\n",
       "      <th>UTC</th>\n",
       "      <td>280280.0</td>\n",
       "      <td>1.799158e+09</td>\n",
       "      <td>3.196235e+07</td>\n",
       "      <td>1.662102e+09</td>\n",
       "      <td>1.774110e+09</td>\n",
       "      <td>1.792011e+09</td>\n",
       "      <td>1.832053e+09</td>\n",
       "      <td>1.855073e+09</td>\n",
       "    </tr>\n",
       "    <tr>\n",
       "      <th>ShipSpeed</th>\n",
       "      <td>37.0</td>\n",
       "      <td>1.771622e+01</td>\n",
       "      <td>1.328052e+01</td>\n",
       "      <td>3.000000e+00</td>\n",
       "      <td>6.500000e+00</td>\n",
       "      <td>1.500000e+01</td>\n",
       "      <td>2.350000e+01</td>\n",
       "      <td>5.325000e+01</td>\n",
       "    </tr>\n",
       "    <tr>\n",
       "      <th>Distance</th>\n",
       "      <td>168970.0</td>\n",
       "      <td>7.038570e+01</td>\n",
       "      <td>8.005448e+01</td>\n",
       "      <td>0.000000e+00</td>\n",
       "      <td>2.450000e+01</td>\n",
       "      <td>5.300000e+01</td>\n",
       "      <td>1.080000e+02</td>\n",
       "      <td>1.062500e+04</td>\n",
       "    </tr>\n",
       "    <tr>\n",
       "      <th>drLatDeg</th>\n",
       "      <td>155413.0</td>\n",
       "      <td>2.641237e+01</td>\n",
       "      <td>1.529035e+01</td>\n",
       "      <td>0.000000e+00</td>\n",
       "      <td>1.300000e+01</td>\n",
       "      <td>2.800000e+01</td>\n",
       "      <td>3.800000e+01</td>\n",
       "      <td>8.000000e+01</td>\n",
       "    </tr>\n",
       "    <tr>\n",
       "      <th>drLatMin</th>\n",
       "      <td>155413.0</td>\n",
       "      <td>2.918730e+01</td>\n",
       "      <td>1.732047e+01</td>\n",
       "      <td>0.000000e+00</td>\n",
       "      <td>1.400000e+01</td>\n",
       "      <td>2.900000e+01</td>\n",
       "      <td>4.400000e+01</td>\n",
       "      <td>9.200000e+01</td>\n",
       "    </tr>\n",
       "    <tr>\n",
       "      <th>drLatSec</th>\n",
       "      <td>155413.0</td>\n",
       "      <td>1.935945e+00</td>\n",
       "      <td>8.386834e+00</td>\n",
       "      <td>0.000000e+00</td>\n",
       "      <td>0.000000e+00</td>\n",
       "      <td>0.000000e+00</td>\n",
       "      <td>0.000000e+00</td>\n",
       "      <td>8.600000e+01</td>\n",
       "    </tr>\n",
       "    <tr>\n",
       "      <th>drLongDeg</th>\n",
       "      <td>150011.0</td>\n",
       "      <td>8.031266e+01</td>\n",
       "      <td>1.139974e+02</td>\n",
       "      <td>0.000000e+00</td>\n",
       "      <td>1.200000e+01</td>\n",
       "      <td>2.900000e+01</td>\n",
       "      <td>7.800000e+01</td>\n",
       "      <td>3.930000e+02</td>\n",
       "    </tr>\n",
       "    <tr>\n",
       "      <th>drLongMin</th>\n",
       "      <td>150011.0</td>\n",
       "      <td>2.914367e+01</td>\n",
       "      <td>1.740144e+01</td>\n",
       "      <td>0.000000e+00</td>\n",
       "      <td>1.400000e+01</td>\n",
       "      <td>2.900000e+01</td>\n",
       "      <td>4.400000e+01</td>\n",
       "      <td>1.320000e+02</td>\n",
       "    </tr>\n",
       "    <tr>\n",
       "      <th>drLongSec</th>\n",
       "      <td>150011.0</td>\n",
       "      <td>2.106019e+00</td>\n",
       "      <td>8.697791e+00</td>\n",
       "      <td>0.000000e+00</td>\n",
       "      <td>0.000000e+00</td>\n",
       "      <td>0.000000e+00</td>\n",
       "      <td>0.000000e+00</td>\n",
       "      <td>1.260000e+02</td>\n",
       "    </tr>\n",
       "    <tr>\n",
       "      <th>LatDeg</th>\n",
       "      <td>154284.0</td>\n",
       "      <td>2.571886e+01</td>\n",
       "      <td>1.469781e+01</td>\n",
       "      <td>0.000000e+00</td>\n",
       "      <td>1.400000e+01</td>\n",
       "      <td>2.700000e+01</td>\n",
       "      <td>3.600000e+01</td>\n",
       "      <td>1.280000e+02</td>\n",
       "    </tr>\n",
       "    <tr>\n",
       "      <th>LatMin</th>\n",
       "      <td>154284.0</td>\n",
       "      <td>2.917566e+01</td>\n",
       "      <td>1.735021e+01</td>\n",
       "      <td>0.000000e+00</td>\n",
       "      <td>1.400000e+01</td>\n",
       "      <td>2.900000e+01</td>\n",
       "      <td>4.400000e+01</td>\n",
       "      <td>2.020000e+02</td>\n",
       "    </tr>\n",
       "    <tr>\n",
       "      <th>LatSec</th>\n",
       "      <td>154284.0</td>\n",
       "      <td>1.384810e+00</td>\n",
       "      <td>7.087085e+00</td>\n",
       "      <td>0.000000e+00</td>\n",
       "      <td>0.000000e+00</td>\n",
       "      <td>0.000000e+00</td>\n",
       "      <td>0.000000e+00</td>\n",
       "      <td>1.260000e+02</td>\n",
       "    </tr>\n",
       "    <tr>\n",
       "      <th>LongDeg</th>\n",
       "      <td>122439.0</td>\n",
       "      <td>1.022579e+02</td>\n",
       "      <td>1.250238e+02</td>\n",
       "      <td>0.000000e+00</td>\n",
       "      <td>1.900000e+01</td>\n",
       "      <td>3.900000e+01</td>\n",
       "      <td>1.050000e+02</td>\n",
       "      <td>3.610000e+02</td>\n",
       "    </tr>\n",
       "    <tr>\n",
       "      <th>LongMin</th>\n",
       "      <td>122439.0</td>\n",
       "      <td>2.921496e+01</td>\n",
       "      <td>1.734323e+01</td>\n",
       "      <td>0.000000e+00</td>\n",
       "      <td>1.400000e+01</td>\n",
       "      <td>2.900000e+01</td>\n",
       "      <td>4.400000e+01</td>\n",
       "      <td>1.240000e+02</td>\n",
       "    </tr>\n",
       "    <tr>\n",
       "      <th>LongSec</th>\n",
       "      <td>122439.0</td>\n",
       "      <td>2.128521e+00</td>\n",
       "      <td>8.729805e+00</td>\n",
       "      <td>0.000000e+00</td>\n",
       "      <td>0.000000e+00</td>\n",
       "      <td>0.000000e+00</td>\n",
       "      <td>0.000000e+00</td>\n",
       "      <td>6.700000e+01</td>\n",
       "    </tr>\n",
       "    <tr>\n",
       "      <th>Lat3</th>\n",
       "      <td>257983.0</td>\n",
       "      <td>6.375537e+00</td>\n",
       "      <td>3.000051e+01</td>\n",
       "      <td>-1.290370e+02</td>\n",
       "      <td>-2.230000e+01</td>\n",
       "      <td>6.833330e+00</td>\n",
       "      <td>3.436670e+01</td>\n",
       "      <td>8.018330e+01</td>\n",
       "    </tr>\n",
       "    <tr>\n",
       "      <th>Lon3</th>\n",
       "      <td>253215.0</td>\n",
       "      <td>-4.419788e+00</td>\n",
       "      <td>4.895258e+01</td>\n",
       "      <td>-1.799830e+02</td>\n",
       "      <td>-3.206670e+01</td>\n",
       "      <td>-1.788670e+01</td>\n",
       "      <td>1.443330e+01</td>\n",
       "      <td>1.799830e+02</td>\n",
       "    </tr>\n",
       "    <tr>\n",
       "      <th>LatInd</th>\n",
       "      <td>280280.0</td>\n",
       "      <td>2.002865e+00</td>\n",
       "      <td>1.309014e+00</td>\n",
       "      <td>1.000000e+00</td>\n",
       "      <td>1.000000e+00</td>\n",
       "      <td>2.000000e+00</td>\n",
       "      <td>2.000000e+00</td>\n",
       "      <td>6.000000e+00</td>\n",
       "    </tr>\n",
       "    <tr>\n",
       "      <th>LonInd</th>\n",
       "      <td>280280.0</td>\n",
       "      <td>2.136542e+00</td>\n",
       "      <td>1.502154e+00</td>\n",
       "      <td>1.000000e+00</td>\n",
       "      <td>1.000000e+00</td>\n",
       "      <td>2.000000e+00</td>\n",
       "      <td>2.000000e+00</td>\n",
       "      <td>6.000000e+00</td>\n",
       "    </tr>\n",
       "    <tr>\n",
       "      <th>PosCoastal</th>\n",
       "      <td>280280.0</td>\n",
       "      <td>5.899814e-02</td>\n",
       "      <td>2.356216e-01</td>\n",
       "      <td>0.000000e+00</td>\n",
       "      <td>0.000000e+00</td>\n",
       "      <td>0.000000e+00</td>\n",
       "      <td>0.000000e+00</td>\n",
       "      <td>1.000000e+00</td>\n",
       "    </tr>\n",
       "    <tr>\n",
       "      <th>Anchored</th>\n",
       "      <td>280280.0</td>\n",
       "      <td>3.095833e-02</td>\n",
       "      <td>1.732051e-01</td>\n",
       "      <td>0.000000e+00</td>\n",
       "      <td>0.000000e+00</td>\n",
       "      <td>0.000000e+00</td>\n",
       "      <td>0.000000e+00</td>\n",
       "      <td>1.000000e+00</td>\n",
       "    </tr>\n",
       "    <tr>\n",
       "      <th>LMdistance1</th>\n",
       "      <td>81236.0</td>\n",
       "      <td>2.323999e+02</td>\n",
       "      <td>3.127760e+02</td>\n",
       "      <td>0.000000e+00</td>\n",
       "      <td>3.700000e+01</td>\n",
       "      <td>1.160000e+02</td>\n",
       "      <td>3.000000e+02</td>\n",
       "      <td>1.112500e+04</td>\n",
       "    </tr>\n",
       "    <tr>\n",
       "      <th>LMdistance2</th>\n",
       "      <td>4142.0</td>\n",
       "      <td>6.626234e+01</td>\n",
       "      <td>1.010827e+02</td>\n",
       "      <td>2.500000e-01</td>\n",
       "      <td>6.750000e+00</td>\n",
       "      <td>2.700000e+01</td>\n",
       "      <td>7.900000e+01</td>\n",
       "      <td>8.140000e+02</td>\n",
       "    </tr>\n",
       "    <tr>\n",
       "      <th>LMdistance3</th>\n",
       "      <td>845.0</td>\n",
       "      <td>3.010296e+01</td>\n",
       "      <td>6.286007e+01</td>\n",
       "      <td>2.500000e-01</td>\n",
       "      <td>3.500000e+00</td>\n",
       "      <td>8.000000e+00</td>\n",
       "      <td>2.775000e+01</td>\n",
       "      <td>5.725000e+02</td>\n",
       "    </tr>\n",
       "    <tr>\n",
       "      <th>WindForceScale</th>\n",
       "      <td>46166.0</td>\n",
       "      <td>4.165923e+00</td>\n",
       "      <td>1.966441e+00</td>\n",
       "      <td>0.000000e+00</td>\n",
       "      <td>3.000000e+00</td>\n",
       "      <td>4.000000e+00</td>\n",
       "      <td>5.000000e+00</td>\n",
       "      <td>1.200000e+01</td>\n",
       "    </tr>\n",
       "    <tr>\n",
       "      <th>CloudFrac</th>\n",
       "      <td>95.0</td>\n",
       "      <td>5.747368e+00</td>\n",
       "      <td>3.354795e+00</td>\n",
       "      <td>0.000000e+00</td>\n",
       "      <td>2.500000e+00</td>\n",
       "      <td>5.000000e+00</td>\n",
       "      <td>9.500000e+00</td>\n",
       "      <td>1.000000e+01</td>\n",
       "    </tr>\n",
       "    <tr>\n",
       "      <th>Gusts</th>\n",
       "      <td>280280.0</td>\n",
       "      <td>2.754745e-02</td>\n",
       "      <td>1.636725e-01</td>\n",
       "      <td>0.000000e+00</td>\n",
       "      <td>0.000000e+00</td>\n",
       "      <td>0.000000e+00</td>\n",
       "      <td>0.000000e+00</td>\n",
       "      <td>1.000000e+00</td>\n",
       "    </tr>\n",
       "    <tr>\n",
       "      <th>Rain</th>\n",
       "      <td>280280.0</td>\n",
       "      <td>7.427216e-02</td>\n",
       "      <td>2.622137e-01</td>\n",
       "      <td>0.000000e+00</td>\n",
       "      <td>0.000000e+00</td>\n",
       "      <td>0.000000e+00</td>\n",
       "      <td>0.000000e+00</td>\n",
       "      <td>1.000000e+00</td>\n",
       "    </tr>\n",
       "    <tr>\n",
       "      <th>Fog</th>\n",
       "      <td>280280.0</td>\n",
       "      <td>1.354717e-02</td>\n",
       "      <td>1.156014e-01</td>\n",
       "      <td>0.000000e+00</td>\n",
       "      <td>0.000000e+00</td>\n",
       "      <td>0.000000e+00</td>\n",
       "      <td>0.000000e+00</td>\n",
       "      <td>1.000000e+00</td>\n",
       "    </tr>\n",
       "    <tr>\n",
       "      <th>Snow</th>\n",
       "      <td>280280.0</td>\n",
       "      <td>2.351220e-03</td>\n",
       "      <td>4.843243e-02</td>\n",
       "      <td>0.000000e+00</td>\n",
       "      <td>0.000000e+00</td>\n",
       "      <td>0.000000e+00</td>\n",
       "      <td>0.000000e+00</td>\n",
       "      <td>1.000000e+00</td>\n",
       "    </tr>\n",
       "    <tr>\n",
       "      <th>Thunder</th>\n",
       "      <td>280280.0</td>\n",
       "      <td>1.845654e-02</td>\n",
       "      <td>1.345956e-01</td>\n",
       "      <td>0.000000e+00</td>\n",
       "      <td>0.000000e+00</td>\n",
       "      <td>0.000000e+00</td>\n",
       "      <td>0.000000e+00</td>\n",
       "      <td>1.000000e+00</td>\n",
       "    </tr>\n",
       "    <tr>\n",
       "      <th>Hail</th>\n",
       "      <td>280280.0</td>\n",
       "      <td>1.619809e-03</td>\n",
       "      <td>4.021431e-02</td>\n",
       "      <td>0.000000e+00</td>\n",
       "      <td>0.000000e+00</td>\n",
       "      <td>0.000000e+00</td>\n",
       "      <td>0.000000e+00</td>\n",
       "      <td>1.000000e+00</td>\n",
       "    </tr>\n",
       "    <tr>\n",
       "      <th>SeaIce</th>\n",
       "      <td>280280.0</td>\n",
       "      <td>4.509776e-03</td>\n",
       "      <td>6.700339e-02</td>\n",
       "      <td>0.000000e+00</td>\n",
       "      <td>0.000000e+00</td>\n",
       "      <td>0.000000e+00</td>\n",
       "      <td>0.000000e+00</td>\n",
       "      <td>1.000000e+00</td>\n",
       "    </tr>\n",
       "    <tr>\n",
       "      <th>Duplicate</th>\n",
       "      <td>280280.0</td>\n",
       "      <td>5.342158e-02</td>\n",
       "      <td>3.952916e-01</td>\n",
       "      <td>0.000000e+00</td>\n",
       "      <td>0.000000e+00</td>\n",
       "      <td>0.000000e+00</td>\n",
       "      <td>0.000000e+00</td>\n",
       "      <td>8.000000e+00</td>\n",
       "    </tr>\n",
       "    <tr>\n",
       "      <th>SSTReading</th>\n",
       "      <td>120.0</td>\n",
       "      <td>7.073125e+01</td>\n",
       "      <td>8.602213e+00</td>\n",
       "      <td>3.000000e+01</td>\n",
       "      <td>6.600000e+01</td>\n",
       "      <td>7.175000e+01</td>\n",
       "      <td>7.700000e+01</td>\n",
       "      <td>8.300000e+01</td>\n",
       "    </tr>\n",
       "    <tr>\n",
       "      <th>TairReading</th>\n",
       "      <td>54265.0</td>\n",
       "      <td>7.005234e+01</td>\n",
       "      <td>1.443044e+01</td>\n",
       "      <td>0.000000e+00</td>\n",
       "      <td>6.500000e+01</td>\n",
       "      <td>7.300000e+01</td>\n",
       "      <td>8.000000e+01</td>\n",
       "      <td>9.600000e+01</td>\n",
       "    </tr>\n",
       "    <tr>\n",
       "      <th>ProbTair</th>\n",
       "      <td>54267.0</td>\n",
       "      <td>2.242413e+01</td>\n",
       "      <td>5.762678e+00</td>\n",
       "      <td>-1.277780e+00</td>\n",
       "      <td>1.888890e+01</td>\n",
       "      <td>2.333330e+01</td>\n",
       "      <td>2.666670e+01</td>\n",
       "      <td>4.033330e+02</td>\n",
       "    </tr>\n",
       "    <tr>\n",
       "      <th>BaroReading</th>\n",
       "      <td>50783.0</td>\n",
       "      <td>3.033041e+04</td>\n",
       "      <td>8.774742e+04</td>\n",
       "      <td>2.740000e+01</td>\n",
       "      <td>2.990000e+01</td>\n",
       "      <td>3.017000e+01</td>\n",
       "      <td>7.661000e+02</td>\n",
       "      <td>3.008000e+05</td>\n",
       "    </tr>\n",
       "    <tr>\n",
       "      <th>BarTempReading</th>\n",
       "      <td>1243.0</td>\n",
       "      <td>3.936661e+04</td>\n",
       "      <td>1.013034e+05</td>\n",
       "      <td>2.692000e+01</td>\n",
       "      <td>2.986000e+01</td>\n",
       "      <td>3.012000e+01</td>\n",
       "      <td>7.455000e+01</td>\n",
       "      <td>3.851000e+05</td>\n",
       "    </tr>\n",
       "    <tr>\n",
       "      <th>HumReading</th>\n",
       "      <td>330.0</td>\n",
       "      <td>1.970000e+00</td>\n",
       "      <td>1.134259e+00</td>\n",
       "      <td>0.000000e+00</td>\n",
       "      <td>1.200000e+00</td>\n",
       "      <td>2.000000e+00</td>\n",
       "      <td>2.700000e+00</td>\n",
       "      <td>5.200000e+00</td>\n",
       "    </tr>\n",
       "    <tr>\n",
       "      <th>PumpWater</th>\n",
       "      <td>76.0</td>\n",
       "      <td>1.049342e+01</td>\n",
       "      <td>3.647367e+00</td>\n",
       "      <td>1.500000e+00</td>\n",
       "      <td>8.000000e+00</td>\n",
       "      <td>1.000000e+01</td>\n",
       "      <td>1.200000e+01</td>\n",
       "      <td>2.200000e+01</td>\n",
       "    </tr>\n",
       "    <tr>\n",
       "      <th>LifeOnBoard</th>\n",
       "      <td>280280.0</td>\n",
       "      <td>1.529899e-02</td>\n",
       "      <td>1.227395e-01</td>\n",
       "      <td>0.000000e+00</td>\n",
       "      <td>0.000000e+00</td>\n",
       "      <td>0.000000e+00</td>\n",
       "      <td>0.000000e+00</td>\n",
       "      <td>1.000000e+00</td>\n",
       "    </tr>\n",
       "    <tr>\n",
       "      <th>Cargo</th>\n",
       "      <td>280280.0</td>\n",
       "      <td>9.026688e-04</td>\n",
       "      <td>3.003094e-02</td>\n",
       "      <td>0.000000e+00</td>\n",
       "      <td>0.000000e+00</td>\n",
       "      <td>0.000000e+00</td>\n",
       "      <td>0.000000e+00</td>\n",
       "      <td>1.000000e+00</td>\n",
       "    </tr>\n",
       "    <tr>\n",
       "      <th>ShipAndRig</th>\n",
       "      <td>280280.0</td>\n",
       "      <td>1.573427e-02</td>\n",
       "      <td>1.244458e-01</td>\n",
       "      <td>0.000000e+00</td>\n",
       "      <td>0.000000e+00</td>\n",
       "      <td>0.000000e+00</td>\n",
       "      <td>0.000000e+00</td>\n",
       "      <td>1.000000e+00</td>\n",
       "    </tr>\n",
       "    <tr>\n",
       "      <th>Biology</th>\n",
       "      <td>280280.0</td>\n",
       "      <td>7.103611e-03</td>\n",
       "      <td>8.398318e-02</td>\n",
       "      <td>0.000000e+00</td>\n",
       "      <td>0.000000e+00</td>\n",
       "      <td>0.000000e+00</td>\n",
       "      <td>0.000000e+00</td>\n",
       "      <td>1.000000e+00</td>\n",
       "    </tr>\n",
       "    <tr>\n",
       "      <th>WarsAndFights</th>\n",
       "      <td>280280.0</td>\n",
       "      <td>4.745255e-04</td>\n",
       "      <td>2.177848e-02</td>\n",
       "      <td>0.000000e+00</td>\n",
       "      <td>0.000000e+00</td>\n",
       "      <td>0.000000e+00</td>\n",
       "      <td>0.000000e+00</td>\n",
       "      <td>1.000000e+00</td>\n",
       "    </tr>\n",
       "    <tr>\n",
       "      <th>Illustrations</th>\n",
       "      <td>280280.0</td>\n",
       "      <td>2.319109e-04</td>\n",
       "      <td>1.522688e-02</td>\n",
       "      <td>0.000000e+00</td>\n",
       "      <td>0.000000e+00</td>\n",
       "      <td>0.000000e+00</td>\n",
       "      <td>0.000000e+00</td>\n",
       "      <td>1.000000e+00</td>\n",
       "    </tr>\n",
       "    <tr>\n",
       "      <th>TrivialCorrection</th>\n",
       "      <td>280280.0</td>\n",
       "      <td>1.633723e-02</td>\n",
       "      <td>1.267690e-01</td>\n",
       "      <td>0.000000e+00</td>\n",
       "      <td>0.000000e+00</td>\n",
       "      <td>0.000000e+00</td>\n",
       "      <td>0.000000e+00</td>\n",
       "      <td>1.000000e+00</td>\n",
       "    </tr>\n",
       "  </tbody>\n",
       "</table>\n",
       "</div>"
      ],
      "text/plain": [
       "                      count          mean           std           min  \\\n",
       "RecID              280280.0  1.401405e+05  8.091001e+04  1.000000e+00   \n",
       "DASnumber            8400.0  5.078049e+03  1.750045e+03  9.772000e+02   \n",
       "VoyageIni          272305.0  1.799578e+07  3.197104e+05  1.662102e+07   \n",
       "Calendar           280280.0  1.983377e+00  1.278531e-01  1.000000e+00   \n",
       "Year               280280.0  1.799093e+03  3.196211e+01  1.662000e+03   \n",
       "Month              280280.0  6.316937e+00  3.322824e+00  1.000000e+00   \n",
       "Day                280280.0  1.572077e+01  8.774635e+00  1.000000e+00   \n",
       "TimeOB             280280.0  1.219164e+01  1.921593e+00  0.000000e+00   \n",
       "Glasses             97142.0  7.999650e+00  3.796158e-02  2.000000e+00   \n",
       "UTC                280280.0  1.799158e+09  3.196235e+07  1.662102e+09   \n",
       "ShipSpeed              37.0  1.771622e+01  1.328052e+01  3.000000e+00   \n",
       "Distance           168970.0  7.038570e+01  8.005448e+01  0.000000e+00   \n",
       "drLatDeg           155413.0  2.641237e+01  1.529035e+01  0.000000e+00   \n",
       "drLatMin           155413.0  2.918730e+01  1.732047e+01  0.000000e+00   \n",
       "drLatSec           155413.0  1.935945e+00  8.386834e+00  0.000000e+00   \n",
       "drLongDeg          150011.0  8.031266e+01  1.139974e+02  0.000000e+00   \n",
       "drLongMin          150011.0  2.914367e+01  1.740144e+01  0.000000e+00   \n",
       "drLongSec          150011.0  2.106019e+00  8.697791e+00  0.000000e+00   \n",
       "LatDeg             154284.0  2.571886e+01  1.469781e+01  0.000000e+00   \n",
       "LatMin             154284.0  2.917566e+01  1.735021e+01  0.000000e+00   \n",
       "LatSec             154284.0  1.384810e+00  7.087085e+00  0.000000e+00   \n",
       "LongDeg            122439.0  1.022579e+02  1.250238e+02  0.000000e+00   \n",
       "LongMin            122439.0  2.921496e+01  1.734323e+01  0.000000e+00   \n",
       "LongSec            122439.0  2.128521e+00  8.729805e+00  0.000000e+00   \n",
       "Lat3               257983.0  6.375537e+00  3.000051e+01 -1.290370e+02   \n",
       "Lon3               253215.0 -4.419788e+00  4.895258e+01 -1.799830e+02   \n",
       "LatInd             280280.0  2.002865e+00  1.309014e+00  1.000000e+00   \n",
       "LonInd             280280.0  2.136542e+00  1.502154e+00  1.000000e+00   \n",
       "PosCoastal         280280.0  5.899814e-02  2.356216e-01  0.000000e+00   \n",
       "Anchored           280280.0  3.095833e-02  1.732051e-01  0.000000e+00   \n",
       "LMdistance1         81236.0  2.323999e+02  3.127760e+02  0.000000e+00   \n",
       "LMdistance2          4142.0  6.626234e+01  1.010827e+02  2.500000e-01   \n",
       "LMdistance3           845.0  3.010296e+01  6.286007e+01  2.500000e-01   \n",
       "WindForceScale      46166.0  4.165923e+00  1.966441e+00  0.000000e+00   \n",
       "CloudFrac              95.0  5.747368e+00  3.354795e+00  0.000000e+00   \n",
       "Gusts              280280.0  2.754745e-02  1.636725e-01  0.000000e+00   \n",
       "Rain               280280.0  7.427216e-02  2.622137e-01  0.000000e+00   \n",
       "Fog                280280.0  1.354717e-02  1.156014e-01  0.000000e+00   \n",
       "Snow               280280.0  2.351220e-03  4.843243e-02  0.000000e+00   \n",
       "Thunder            280280.0  1.845654e-02  1.345956e-01  0.000000e+00   \n",
       "Hail               280280.0  1.619809e-03  4.021431e-02  0.000000e+00   \n",
       "SeaIce             280280.0  4.509776e-03  6.700339e-02  0.000000e+00   \n",
       "Duplicate          280280.0  5.342158e-02  3.952916e-01  0.000000e+00   \n",
       "SSTReading            120.0  7.073125e+01  8.602213e+00  3.000000e+01   \n",
       "TairReading         54265.0  7.005234e+01  1.443044e+01  0.000000e+00   \n",
       "ProbTair            54267.0  2.242413e+01  5.762678e+00 -1.277780e+00   \n",
       "BaroReading         50783.0  3.033041e+04  8.774742e+04  2.740000e+01   \n",
       "BarTempReading       1243.0  3.936661e+04  1.013034e+05  2.692000e+01   \n",
       "HumReading            330.0  1.970000e+00  1.134259e+00  0.000000e+00   \n",
       "PumpWater              76.0  1.049342e+01  3.647367e+00  1.500000e+00   \n",
       "LifeOnBoard        280280.0  1.529899e-02  1.227395e-01  0.000000e+00   \n",
       "Cargo              280280.0  9.026688e-04  3.003094e-02  0.000000e+00   \n",
       "ShipAndRig         280280.0  1.573427e-02  1.244458e-01  0.000000e+00   \n",
       "Biology            280280.0  7.103611e-03  8.398318e-02  0.000000e+00   \n",
       "WarsAndFights      280280.0  4.745255e-04  2.177848e-02  0.000000e+00   \n",
       "Illustrations      280280.0  2.319109e-04  1.522688e-02  0.000000e+00   \n",
       "TrivialCorrection  280280.0  1.633723e-02  1.267690e-01  0.000000e+00   \n",
       "\n",
       "                            25%           50%           75%           max  \n",
       "RecID              7.007075e+04  1.401405e+05  2.102102e+05  2.802800e+05  \n",
       "DASnumber          3.984600e+03  4.600300e+03  7.327200e+03  8.296300e+03  \n",
       "VoyageIni          1.775042e+07  1.792081e+07  1.833090e+07  1.855062e+07  \n",
       "Calendar           2.000000e+00  2.000000e+00  2.000000e+00  2.000000e+00  \n",
       "Year               1.774000e+03  1.792000e+03  1.832000e+03  1.855000e+03  \n",
       "Month              4.000000e+00  6.000000e+00  9.000000e+00  1.200000e+01  \n",
       "Day                8.000000e+00  1.600000e+01  2.300000e+01  3.100000e+01  \n",
       "TimeOB             1.200000e+01  1.200000e+01  1.200000e+01  2.300000e+01  \n",
       "Glasses            8.000000e+00  8.000000e+00  8.000000e+00  8.000000e+00  \n",
       "UTC                1.774110e+09  1.792011e+09  1.832053e+09  1.855073e+09  \n",
       "ShipSpeed          6.500000e+00  1.500000e+01  2.350000e+01  5.325000e+01  \n",
       "Distance           2.450000e+01  5.300000e+01  1.080000e+02  1.062500e+04  \n",
       "drLatDeg           1.300000e+01  2.800000e+01  3.800000e+01  8.000000e+01  \n",
       "drLatMin           1.400000e+01  2.900000e+01  4.400000e+01  9.200000e+01  \n",
       "drLatSec           0.000000e+00  0.000000e+00  0.000000e+00  8.600000e+01  \n",
       "drLongDeg          1.200000e+01  2.900000e+01  7.800000e+01  3.930000e+02  \n",
       "drLongMin          1.400000e+01  2.900000e+01  4.400000e+01  1.320000e+02  \n",
       "drLongSec          0.000000e+00  0.000000e+00  0.000000e+00  1.260000e+02  \n",
       "LatDeg             1.400000e+01  2.700000e+01  3.600000e+01  1.280000e+02  \n",
       "LatMin             1.400000e+01  2.900000e+01  4.400000e+01  2.020000e+02  \n",
       "LatSec             0.000000e+00  0.000000e+00  0.000000e+00  1.260000e+02  \n",
       "LongDeg            1.900000e+01  3.900000e+01  1.050000e+02  3.610000e+02  \n",
       "LongMin            1.400000e+01  2.900000e+01  4.400000e+01  1.240000e+02  \n",
       "LongSec            0.000000e+00  0.000000e+00  0.000000e+00  6.700000e+01  \n",
       "Lat3              -2.230000e+01  6.833330e+00  3.436670e+01  8.018330e+01  \n",
       "Lon3              -3.206670e+01 -1.788670e+01  1.443330e+01  1.799830e+02  \n",
       "LatInd             1.000000e+00  2.000000e+00  2.000000e+00  6.000000e+00  \n",
       "LonInd             1.000000e+00  2.000000e+00  2.000000e+00  6.000000e+00  \n",
       "PosCoastal         0.000000e+00  0.000000e+00  0.000000e+00  1.000000e+00  \n",
       "Anchored           0.000000e+00  0.000000e+00  0.000000e+00  1.000000e+00  \n",
       "LMdistance1        3.700000e+01  1.160000e+02  3.000000e+02  1.112500e+04  \n",
       "LMdistance2        6.750000e+00  2.700000e+01  7.900000e+01  8.140000e+02  \n",
       "LMdistance3        3.500000e+00  8.000000e+00  2.775000e+01  5.725000e+02  \n",
       "WindForceScale     3.000000e+00  4.000000e+00  5.000000e+00  1.200000e+01  \n",
       "CloudFrac          2.500000e+00  5.000000e+00  9.500000e+00  1.000000e+01  \n",
       "Gusts              0.000000e+00  0.000000e+00  0.000000e+00  1.000000e+00  \n",
       "Rain               0.000000e+00  0.000000e+00  0.000000e+00  1.000000e+00  \n",
       "Fog                0.000000e+00  0.000000e+00  0.000000e+00  1.000000e+00  \n",
       "Snow               0.000000e+00  0.000000e+00  0.000000e+00  1.000000e+00  \n",
       "Thunder            0.000000e+00  0.000000e+00  0.000000e+00  1.000000e+00  \n",
       "Hail               0.000000e+00  0.000000e+00  0.000000e+00  1.000000e+00  \n",
       "SeaIce             0.000000e+00  0.000000e+00  0.000000e+00  1.000000e+00  \n",
       "Duplicate          0.000000e+00  0.000000e+00  0.000000e+00  8.000000e+00  \n",
       "SSTReading         6.600000e+01  7.175000e+01  7.700000e+01  8.300000e+01  \n",
       "TairReading        6.500000e+01  7.300000e+01  8.000000e+01  9.600000e+01  \n",
       "ProbTair           1.888890e+01  2.333330e+01  2.666670e+01  4.033330e+02  \n",
       "BaroReading        2.990000e+01  3.017000e+01  7.661000e+02  3.008000e+05  \n",
       "BarTempReading     2.986000e+01  3.012000e+01  7.455000e+01  3.851000e+05  \n",
       "HumReading         1.200000e+00  2.000000e+00  2.700000e+00  5.200000e+00  \n",
       "PumpWater          8.000000e+00  1.000000e+01  1.200000e+01  2.200000e+01  \n",
       "LifeOnBoard        0.000000e+00  0.000000e+00  0.000000e+00  1.000000e+00  \n",
       "Cargo              0.000000e+00  0.000000e+00  0.000000e+00  1.000000e+00  \n",
       "ShipAndRig         0.000000e+00  0.000000e+00  0.000000e+00  1.000000e+00  \n",
       "Biology            0.000000e+00  0.000000e+00  0.000000e+00  1.000000e+00  \n",
       "WarsAndFights      0.000000e+00  0.000000e+00  0.000000e+00  1.000000e+00  \n",
       "Illustrations      0.000000e+00  0.000000e+00  0.000000e+00  1.000000e+00  \n",
       "TrivialCorrection  0.000000e+00  0.000000e+00  0.000000e+00  1.000000e+00  "
      ]
     },
     "execution_count": 8,
     "metadata": {},
     "output_type": "execute_result"
    }
   ],
   "source": [
    "shiplogs.describe().T"
   ]
  },
  {
   "cell_type": "markdown",
   "metadata": {},
   "source": [
    "What are the top shipping companies?"
   ]
  },
  {
   "cell_type": "code",
   "execution_count": 10,
   "metadata": {
    "collapsed": false
   },
   "outputs": [
    {
     "data": {
      "text/plain": [
       "RN                                    47154\n",
       "EIC                                   28451\n",
       "ADM                                   19812\n",
       "MAR                                   15938\n",
       "MCC                                   10119\n",
       "RN                                    10029\n",
       "VOC                                    8602\n",
       "MER                                    5890\n",
       "Marine                                 5236\n",
       "WHA                                    2805\n",
       "Hudson Bay Company                     2031\n",
       "Particulier                            1202\n",
       "Swedish East India Company              700\n",
       "Admiraliteit                            610\n",
       "H. v. Rijckevorsel, Rotterdam           473\n",
       "WIC                                     429\n",
       "VOC Z                                   216\n",
       "A. van Hoboken & zn. Te Rotterdam.      199\n",
       "VOC-Z                                   117\n",
       "A. Hoboken, Rotterdam                    97\n",
       "Thomas Brouw en Zn.                      95\n",
       "Hudson Bay company                       87\n",
       "Adm                                      78\n",
       "OIC                                      62\n",
       "Merchant Navy                            41\n",
       "Name: Company, dtype: int64"
      ]
     },
     "execution_count": 10,
     "metadata": {},
     "output_type": "execute_result"
    }
   ],
   "source": [
    "shiplogs.Company.value_counts()"
   ]
  },
  {
   "cell_type": "markdown",
   "metadata": {},
   "source": [
    "- RN = Royal Navy\n",
    "- EIC = East India Company\n",
    "- ADM = Admiralty\n",
    "- MAR\n",
    "- MCC = Middelburg’s Commercial Company (MCC: Middelburgsche Commercie Compagnie)\n",
    "- RN = Royal Navy\n",
    "- VOC = Dutch East India Company (VOC – Verenigde Oostindische Compagnie)\n",
    "- MER \n",
    "- Marine\n",
    "- WHA\n",
    "- WIC = West India Company (WIC: Westindische Compagnie)\n",
    "- OIC"
   ]
  },
  {
   "cell_type": "markdown",
   "metadata": {},
   "source": [
    "Which logbooks have the most entries?"
   ]
  },
  {
   "cell_type": "code",
   "execution_count": 16,
   "metadata": {
    "collapsed": false
   },
   "outputs": [
    {
     "data": {
      "text/plain": [
       "Cote - 4/JJ/23                    1738\n",
       "Extract D, Reis 1                 1730\n",
       "Extract O, Reis 7                 1571\n",
       "Cote - 4/JJ/9                     1520\n",
       "Extract B                         1300\n",
       "Cote - 4/JJ/22                    1080\n",
       "Extract B, Reis 9                  990\n",
       "NMM ADM/L/S594                     981\n",
       "VOC_152_5130                       959\n",
       "Extract L, reis 6                  957\n",
       "NIWI-F-1573                        884\n",
       "Cote - 4/JJ/39                     789\n",
       "Extract B, Reis 11                 762\n",
       "GAA_Bibliotheek_M165               753\n",
       "ADM_177_1203                       731\n",
       "NMM ADM/L/F59                      728\n",
       "Extract M, reis 39, pp159-183      725\n",
       "Extract C, reis 17, pp.209-237     713\n",
       "Cote - 4/JJ/13                     700\n",
       "Extract B, Reis 4                  690\n",
       "Cote - 4/JJ/35                     670\n",
       "Extract C, reis 08, p.115-142      667\n",
       "NIWI-F-1576                        659\n",
       "Extract P, reis 13a, p.227-257     655\n",
       "Extract P, Reis 9a, pp 110-118     643\n",
       "Extract C, Reis 1                  642\n",
       "CORREOS, 192A R1                   638\n",
       "MAR_D23905_1158                    623\n",
       "ADM_177_3374                       622\n",
       "Extract L, Reis 3                  618\n",
       "                                  ... \n",
       "NMM ADM/L/L155                      12\n",
       "NMM ADM/L/R381                      12\n",
       "MS. 272 DOC 12                      12\n",
       "NMM ADM/L/J5                        11\n",
       "NMM ADM/L/L214                      11\n",
       "MS. 111 DOC 2 (2)                   11\n",
       "BL L/MAR/B/575A                     11\n",
       "NMM ADM/L/A262                      10\n",
       "MS. 2506_014                        10\n",
       "NMM ADM/L/A56                        9\n",
       "BL L/MAR/B/478C                      9\n",
       "NMM ADM/L/H156                       9\n",
       "NMM ADM/L/S29                        8\n",
       "NMM ADM/L/L178                       8\n",
       "MS. 320_007                          8\n",
       "NMM ADM/L/G25                        7\n",
       "NMM ADM/L/N189                       6\n",
       "Extract X, Reis 4                    6\n",
       "Extract X, Reis 3                    5\n",
       "NMM ADM/L/E99                        4\n",
       "MS. 176 DOC24(2)                     4\n",
       "NMM ADM/L/G154                       3\n",
       "MS. 176/DOC3(3)                      2\n",
       "NMM ADM/L/C224                       1\n",
       "NMM ADM/L/C220                       1\n",
       "NMM ADM/L/C221                       1\n",
       "NMM ADM/L/C223                       1\n",
       "NMM ADM/L/C226                       1\n",
       "MS. 176/DOC9                         1\n",
       "NMM ADM/L/C225                       1\n",
       "dtype: int64"
      ]
     },
     "execution_count": 16,
     "metadata": {},
     "output_type": "execute_result"
    }
   ],
   "source": [
    "shiplogs.LogbookIdent.value_counts()"
   ]
  },
  {
   "cell_type": "markdown",
   "metadata": {},
   "source": [
    "Which ships have the most entries?"
   ]
  },
  {
   "cell_type": "code",
   "execution_count": 17,
   "metadata": {
    "collapsed": false
   },
   "outputs": [
    {
     "data": {
      "text/plain": [
       "PRINCIPE                       2825\n",
       "LA PRINCESA                    2487\n",
       "Anthony                        2377\n",
       "EL REY                         2309\n",
       "Infanta                        2270\n",
       "Magdalena                      2226\n",
       "Batavia                        2118\n",
       "Bellona                        2078\n",
       "EL COLON                       1932\n",
       "Dordrecht                      1882\n",
       "CORTES                         1754\n",
       "San Fernando                   1736\n",
       "Ternate                        1708\n",
       "Stad Utrecht                   1665\n",
       "Inglis                         1619\n",
       "La Cantabria                   1616\n",
       "Lucipara's                     1552\n",
       "EL PIZARRO                     1529\n",
       "EL AGUILA                      1528\n",
       "Rotterdams Welvaren            1502\n",
       "Walvisch                       1495\n",
       "Argo                           1448\n",
       "Admiraal Jan Evertsen          1427\n",
       "Vliegende Faam                 1402\n",
       "Boreas                         1397\n",
       "Prince Rupert                  1349\n",
       "EL GRIMALDI                    1347\n",
       "Castor                         1304\n",
       "Rotterdam                      1281\n",
       "El Patagon                     1270\n",
       "                               ... \n",
       "Iphigenia                        24\n",
       "Surpize                          23\n",
       "LA JUNO                          23\n",
       "Sara Johanna                     23\n",
       "Zeemercuur                       23\n",
       "LA SUERTE (SAN FCO JAVIER)       20\n",
       "DESCONOCIDO-22                   18\n",
       "EL RAYO                          18\n",
       "Ambarawa                         17\n",
       "Royal George                     16\n",
       "SANTA TERESA (ALIAS DRAGON)      16\n",
       "Superb                           15\n",
       "Morning Star                     14\n",
       "ASUNCIÓN                         13\n",
       "Montreal                         12\n",
       "DESCONOCIDO-01                   12\n",
       "Lowestoffe                       11\n",
       "Senegal                          11\n",
       "Prince George                    11\n",
       "SAN ISIDORO                      10\n",
       "SANTA LUCIA                       8\n",
       "Ludlow Castle                     8\n",
       "Lizard                            8\n",
       "SANTO CRISTO DEL CALVARIO         7\n",
       "Lynn                              7\n",
       "DESCONOCIDO-08                    7\n",
       "DESCONOCIDO-19                    4\n",
       "Emerald                           4\n",
       "DESCONOCIDO-21                    2\n",
       "DESCONOCIDO-11                    1\n",
       "dtype: int64"
      ]
     },
     "execution_count": 17,
     "metadata": {},
     "output_type": "execute_result"
    }
   ],
   "source": [
    "shiplogs.ShipName.value_counts()"
   ]
  },
  {
   "cell_type": "code",
   "execution_count": null,
   "metadata": {
    "collapsed": true
   },
   "outputs": [],
   "source": []
  },
  {
   "cell_type": "code",
   "execution_count": 11,
   "metadata": {
    "collapsed": false,
    "scrolled": false
   },
   "outputs": [
    {
     "data": {
      "text/plain": [
       "array([ 18270509.,  18271008.,  18271010.])"
      ]
     },
     "execution_count": 11,
     "metadata": {},
     "output_type": "execute_result"
    }
   ],
   "source": [
    "shiplogs[shiplogs.ShipName == 'Waterloo'].VoyageIni.unique()"
   ]
  },
  {
   "cell_type": "markdown",
   "metadata": {},
   "source": [
    "How many different ships are there?"
   ]
  },
  {
   "cell_type": "code",
   "execution_count": 13,
   "metadata": {
    "collapsed": false
   },
   "outputs": [
    {
     "data": {
      "text/plain": [
       "949"
      ]
     },
     "execution_count": 13,
     "metadata": {},
     "output_type": "execute_result"
    }
   ],
   "source": [
    "len(shiplogs.ShipName.unique())"
   ]
  },
  {
   "cell_type": "markdown",
   "metadata": {},
   "source": [
    "What are the different ship types?"
   ]
  },
  {
   "cell_type": "code",
   "execution_count": 19,
   "metadata": {
    "collapsed": false
   },
   "outputs": [
    {
     "data": {
      "text/plain": [
       "array(['FRAGATA', 'PAQUEBOTE', 'CORVETA', 'NAVIO', 'Fragata correo',\n",
       "       'Fragata Correo', 'Paquebot', 'MISTICO', 'BERGANTIN', nan, 'Sloop',\n",
       "       'Brig', '6th Rate', '4th Rate', 'Frigate', '3rd Rate', '4th rate',\n",
       "       '5th Rate', 'Snow', 'Cutter', 'Sloop (?)', 'Armed Storeship',\n",
       "       'Bark', 'Storeship', '6th rate', '5th rate', '3rd rate',\n",
       "       'Brigsloop', 'storeship', 'Packet ship', 'brig sloop', 'brig',\n",
       "       'packet ship', '2nd rate', 'PAQUEBOTES', 'sloop', 'troopship',\n",
       "       'BERGANTÍN', 'FALUCHO', '3rd rate ', '6th rate  ', 'Corvette',\n",
       "       'Gabarre', 'brig/sloop', 'Oorlogsschip', 'Steamer', 'Fregat',\n",
       "       'Korvet', 'Oorlogssnauw', 'Brik', 'oorlogssnauw', 'Korvet v Oorlog',\n",
       "       'Linieschip', 'Whaler', 'Corvet', 'Galjoot', 'Snauw', 'Advijsjagt',\n",
       "       'Snaauw', 'Cotter', 'Kotter', 'Bargentijn', 'Schoener', 'Paketboot',\n",
       "       'Transportschip', 'Vrachtschip', 'stoompacket', 'NAVÍO',\n",
       "       'DESCONOCIDA', 'Stoomschip', 'Schoenerbrik', 'Ship o.t. Line',\n",
       "       'Fregatschip', 'Brigantijn', 'CORBETA', 'Pink', 'Hoekerschip',\n",
       "       'Chialoup', 'POLACRA', 'JABEQUE', 'CORBETAS', '6th Rate Frigat',\n",
       "       'DESCONOCIDO', 'GOLETA GUARDA C', 'CHAMBEQUÍN', 'Zeilschip',\n",
       "       '2nd Rate', 'Sloep', 'BALANDRA', 'BUQUE', 'NAVÍO DE LA REA',\n",
       "       'FRAGATA DE GUER', 'GOLETA', 'special vessel', 'Koopvaarder',\n",
       "       'Brig-Sloop', 'merchant brig', 'fireship', '3rd rate  ', '7th Rate',\n",
       "       '8th Rate', 'O.I. Schip', 'Fregatte', 'Fregate', 'Flute', \"L'aviso\",\n",
       "       'Fragate', 'Brick', 'FRAGATA/ CORREO'], dtype=object)"
      ]
     },
     "execution_count": 19,
     "metadata": {},
     "output_type": "execute_result"
    }
   ],
   "source": [
    "shiplogs.ShipType.unique()"
   ]
  },
  {
   "cell_type": "markdown",
   "metadata": {},
   "source": [
    "How many ship logs have a memo about cargo?"
   ]
  },
  {
   "cell_type": "code",
   "execution_count": 27,
   "metadata": {
    "collapsed": false
   },
   "outputs": [
    {
     "data": {
      "text/plain": [
       "253"
      ]
     },
     "execution_count": 27,
     "metadata": {},
     "output_type": "execute_result"
    }
   ],
   "source": [
    "len(shiplogs[shiplogs.Cargo > 0].CargoMemo)"
   ]
  },
  {
   "cell_type": "code",
   "execution_count": 67,
   "metadata": {
    "collapsed": false
   },
   "outputs": [
    {
     "data": {
      "text/plain": [
       "13276     Found in the Spirit room and coal room a pipe ...\n",
       "72078     haalden 2 chaloupe met water van de kapitein D...\n",
       "72240                              smeedkolen (bij de pomp)\n",
       "72252                              smeedkolen (bij de pomp)\n",
       "72261                              smeedkolen (bij de pomp)\n",
       "72278                Keerden het kruit. Keerden de chaloup?\n",
       "72307             Manden de kogels van voren naar achteren.\n",
       "72433                      29 halve varkens water aan boord\n",
       "72435              9 halve varkens water aan boord gehaald.\n",
       "72438                    haalden 23 varkens water aan boord\n",
       "72440               Haalden 2 hele en 8 halve varkens water\n",
       "72458               haalden 7 hele en 7 halve varkens water\n",
       "72460              haalden 7 hele en 5 halve varkens water.\n",
       "72463                   Haalden 16 halve varkens aan boord.\n",
       "72465                              Haalden 9 halve varkens.\n",
       "72466                             Haalden 16 varkens water.\n",
       "72468                       Haalden 16 halve varkens water.\n",
       "72469                        Haalden een chaloup met water.\n",
       "72470                       Haalden 10 halve varkens water.\n",
       "72495             Haalden 2 boots met vers water aan boord.\n",
       "72500             haalden 29 hele en 11 halve varkens water\n",
       "72501               haalden 2 hele en 6 halve varkens water\n",
       "72502                              haalden 14 varkens water\n",
       "72537     kregen 8 hele en 4 halve varkens water aan boord.\n",
       "72539              Haalden 9 halve varkens water aan boord.\n",
       "72540                    Keerden kruit en vilden cardoezen.\n",
       "72541             24 halve varkens water aan boord gehaald.\n",
       "75470     niet meer als een legger water in 't schip en ...\n",
       "75829     'visiteerden de kaaskamer, de kaas voor 't gro...\n",
       "75910     zagen de victualy na en vonden veel van dezeel...\n",
       "                                ...                        \n",
       "225356                      Een manslaaf overleden, no. 38.\n",
       "225357    Een vrouwslaaf en een manslaaf overleden, no. ...\n",
       "225358                    Een vrouwslaaf overleden, no. 41.\n",
       "225364                    Een vrouwslaaf overleden, no. 42.\n",
       "225365                 Twee manslaven overleden, no. 43-44.\n",
       "225366                      Een manslaaf overleden, no. 45.\n",
       "225368               Twee vrouwslaven overleden, no. 46-47.\n",
       "225370                      Een manslaaf overleden, no. 51.\n",
       "225371                    Een vrouwslaaf overleden, no. 53.\n",
       "225372                      Een manslaaf overleden, no. 54.\n",
       "225373                      Een manslaaf overleden, no. 55.\n",
       "225633                    Een vrouwslaaf overleden, no. 17.\n",
       "225634                  Een meisjesslaaf overleden, no. 18.\n",
       "225642                    Een vrouwslaaf overleden, no. 19.\n",
       "225644                    Een vrouwslaaf overleden, no. 20.\n",
       "225652    Een vrouwslaaf en een manslaaf overleden, no. ...\n",
       "225653                     Een vrouwslaaf overleden, no. 23\n",
       "225654                    Een vrouwslaaf overleden, no. 24.\n",
       "225655                      Een manslaaf overleden, no. 25.\n",
       "225665     Een man- en een vrouwslaaf overleden, no. 26-27.\n",
       "225666                  Een jongensslaaf overleden, no. 28.\n",
       "225669                    Een vrouwslaaf overleden, no. 29.\n",
       "236704    Kochten koffie, suiker en katoen in Rio de Jan...\n",
       "236809                      Kochten voornamelijk koffie in.\n",
       "246564    Losten jenever en jeneverbessen. Losten ook wi...\n",
       "247021    Namen als lading confituren, nootmuskaat en fo...\n",
       "255114                                           242 slaven\n",
       "255140                                           239 slaven\n",
       "255266                                           240 slaven\n",
       "255294                                           241 slaven\n",
       "Name: CargoMemo, dtype: object"
      ]
     },
     "execution_count": 67,
     "metadata": {},
     "output_type": "execute_result"
    }
   ],
   "source": [
    "shiplogs[shiplogs.Cargo > 0].CargoMemo"
   ]
  },
  {
   "cell_type": "code",
   "execution_count": 36,
   "metadata": {
    "collapsed": false
   },
   "outputs": [
    {
     "data": {
      "text/plain": [
       "13473"
      ]
     },
     "execution_count": 36,
     "metadata": {},
     "output_type": "execute_result"
    }
   ],
   "source": [
    "len(shiplogs[shiplogs.ImageNumber.notnull()].ImageNumber.unique())"
   ]
  },
  {
   "cell_type": "code",
   "execution_count": 61,
   "metadata": {
    "collapsed": false
   },
   "outputs": [
    {
     "data": {
      "text/plain": [
       "array(['VOC_152_6644_0057', 'ADM_177_2396_0463', 'ADM_177_2396_0464', ...,\n",
       "       'MAR_D23905_146_0073', 'MAR_D23905_146_0074', 'MAR_D23905_146_0075'], dtype=object)"
      ]
     },
     "execution_count": 61,
     "metadata": {},
     "output_type": "execute_result"
    }
   ],
   "source": [
    "shiplogs[shiplogs.ImageNumber.notnull()].ImageNumber.unique()"
   ]
  },
  {
   "cell_type": "code",
   "execution_count": 41,
   "metadata": {
    "collapsed": false
   },
   "outputs": [
    {
     "data": {
      "text/plain": [
       "array(['Catharine Ward', 'Ellie Gatrill-Smith', 'Simon Bailey',\n",
       "       'Ellie Smith-Gatrill', 'Dennis Wheeler',\n",
       "       'Catharine Ward, Ellie Gatrill-Smith', 'Catherine and Ellie',\n",
       "       'Elly Gathrill-Smith', 'Eric Verlinde', 'Florie Barnhoorn',\n",
       "       'Esther Balkestein', 'Howard Sahinoer', 'Frank Boekhorst',\n",
       "       'Bruni Oehlers', 'Toni Spek-Font Pallares', 'Inge Hickmann',\n",
       "       'Tineke Tegelaers', 'Esther Balkestein ', 'Tineke Tegelaers ',\n",
       "       'Frank Boekhorst ', 'Theo Tieken', 'Denise Berck',\n",
       "       'René Snoey Kiewit', 'Chantal Dekker & Tineke Tegelaers',\n",
       "       'Chantal Dekker', 'Rob de Rooij', 'Renate Meijer',\n",
       "       'Pauline Beckers', 'Bruni Oehlers ', 'Chantal Dekker ',\n",
       "       'Florie Barnhoorn ', 'Rolf de Weijert', 'Roel Huttenga',\n",
       "       'Maarten Koek', 'Niels Hupkes', 'Ronald Schurink', 'Simone Pathuis',\n",
       "       'Marja Segers', 'Jolanthe Schretlen', 'Pim Vente',\n",
       "       'Ronald Schurinck', 'Bruni Oehlers/Chantal Dekker',\n",
       "       'Eric Verlinde ', 'Toni Spek-Font Pallares & Renate Meijer',\n",
       "       'Frits Koek'], dtype=object)"
      ]
     },
     "execution_count": 41,
     "metadata": {},
     "output_type": "execute_result"
    }
   ],
   "source": [
    "shiplogs[shiplogs.EnteredBy.notnull()].EnteredBy.unique()"
   ]
  },
  {
   "cell_type": "code",
   "execution_count": 47,
   "metadata": {
    "collapsed": false
   },
   "outputs": [],
   "source": [
    "# shiplogs.OtherShipInformation.unique()"
   ]
  },
  {
   "cell_type": "code",
   "execution_count": 45,
   "metadata": {
    "collapsed": false
   },
   "outputs": [
    {
     "data": {
      "text/plain": [
       "array(['COMANDANTE DE DIVISION', 'TENIENTE DE NAVIO', 'ALFEREZ DE FRAGATA',\n",
       "       'CAPITAN DE FRAGATA', 'COMANDANTE', nan, 'TENIENTE DE FRAGATA',\n",
       "       'CAPITAN', 'Capitan', 'Captain', 'Author', 'Rear Admiral',\n",
       "       'CAPITAN DE NAVIO', 'PILOTO', 'Commandante', 'TENIE NTE DE FRAGATA',\n",
       "       'JEFE DE ESCUADRA', 'Cdt.', 'Cdt,', 'Cdt', 'Lt', 'cdt.',\n",
       "       'CAPITAN Y PILOTO', 'TENIENTE', 'Kapitein', 'Luitenant ter Zee',\n",
       "       'Kapitein ter Zee', 'Ltz.', 'Stuurman', 'LtZ-1', 'Schrijver',\n",
       "       'KLtZ', 'Luitenant 2e kl.', 'Ltz', 'eerste schrijver', 'KtZ',\n",
       "       'Officier', 'schipheer', 'KLtz', 'Commandeur', 'Derde Waak',\n",
       "       'Onderkoopman', 'KltZ', 'Schipper', 'Commandant',\n",
       "       'Kapitein-Commandeur', 'LtZ 1e Klas', 'Raad Just.', 'LtZ',\n",
       "       'Luitenant', 'Opperstuurman', 'Adelborst', 'Luitenant Kolonel',\n",
       "       'Schout bij nacht', '1e Luitenant', 'Commandant eskader',\n",
       "       'commandant', 'Captijn Luitenant ter Zee', 'Ktz', 'Gezaghebber',\n",
       "       'Ltz 1e kl', 'Chirurgijn', 'kapitein-luitenant', '3e waak',\n",
       "       'Gezagvoerder', 'LtZ 1e klasse', '1e schrijver', 'Vice Admiraal',\n",
       "       'ALMIRANTE', 'BRIGADIER DE MARINA', '1e Officier', 'Kltz',\n",
       "       'Commandant kolonel', 'KtZ.', 'Lt ter Zee', 'Ltz. 1e kl.',\n",
       "       'Ltz. 2e kl.', 'BRIGADIER', 'Journaalhouder', 'TENIENTE DE NAVÍO',\n",
       "       'sous-luitenant', 'ALFÉREZ DE FRAGATA', 'COMANDANTE Y CAPITÁN',\n",
       "       'CAPITÁN DE FRAGATA', 'CAPITÁN', 'CAPITAN Y MAESTRE',\n",
       "       'Captain (Author)', 'Luijtenant', 'officier/gezagvoerder/pas',\n",
       "       'Adelborst 2e klas', 'ALFEREZ DE NAVIO', 'MANUEL MIÑÁN', 'ALFÉREZ',\n",
       "       'ALFÉREZ DE NAVÍO', 'LtZ 2', 'Ltz. 1e klas',\n",
       "       'TENIENTE GENERAL Y COMAND', 'ALFÉREZ DE NAVÍO DE LA RE', 'Clerk',\n",
       "       'CAPITAN DE MAR Y GUERRA', 'COMANDANTE (BRIGADIER DE '], dtype=object)"
      ]
     },
     "execution_count": 45,
     "metadata": {},
     "output_type": "execute_result"
    }
   ],
   "source": [
    "shiplogs.Rank1.unique()"
   ]
  },
  {
   "cell_type": "code",
   "execution_count": 50,
   "metadata": {
    "collapsed": false
   },
   "outputs": [
    {
     "data": {
      "text/plain": [
       "1372"
      ]
     },
     "execution_count": 50,
     "metadata": {},
     "output_type": "execute_result"
    }
   ],
   "source": [
    "len(shiplogs.Name1.unique())"
   ]
  },
  {
   "cell_type": "code",
   "execution_count": 53,
   "metadata": {
    "collapsed": false
   },
   "outputs": [
    {
     "data": {
      "text/plain": [
       "1002"
      ]
     },
     "execution_count": 53,
     "metadata": {},
     "output_type": "execute_result"
    }
   ],
   "source": [
    "len(shiplogs.VoyageFrom.unique())"
   ]
  },
  {
   "cell_type": "code",
   "execution_count": 54,
   "metadata": {
    "collapsed": false
   },
   "outputs": [
    {
     "data": {
      "text/plain": [
       "1019"
      ]
     },
     "execution_count": 54,
     "metadata": {},
     "output_type": "execute_result"
    }
   ],
   "source": [
    "len(shiplogs.VoyageTo.unique())"
   ]
  },
  {
   "cell_type": "code",
   "execution_count": 120,
   "metadata": {
    "collapsed": false
   },
   "outputs": [
    {
     "data": {
      "text/plain": [
       "Batavia                                               31484\n",
       "La Coruña                                              8761\n",
       "Montevideo                                             8688\n",
       "Nieuwediep                                             8500\n",
       "CÁDIZ                                                  8413\n",
       "LA HABANA                                              8124\n",
       "Rotterdam                                              7165\n",
       "Nederland                                              6964\n",
       "Madras                                                 6787\n",
       "Spithead                                               6615\n",
       "LA CORUÑA                                              6160\n",
       "St Helena                                              5987\n",
       "Hellevoetsluis                                         4625\n",
       "Texel                                                  4624\n",
       "Suriname                                               4609\n",
       "Downs                                                  4028\n",
       "Kaap de Goede Hoop                                     3756\n",
       "Bombay                                                 3601\n",
       "UK                                                     3571\n",
       "Table Bay                                              2900\n",
       "Barbados                                               2788\n",
       "Java                                                   2481\n",
       "Amsterdam                                              2433\n",
       "Rio de Janeiro                                         2412\n",
       "Middelburg                                             2357\n",
       "Plymouth                                               1997\n",
       "Ceylon                                                 1945\n",
       "Paramaribo                                             1672\n",
       "Brouwershaven                                          1632\n",
       "CADIZ                                                  1555\n",
       "                                                      ...  \n",
       "LEVANTE Y TORREVIEJA Y VUELTA                             3\n",
       "Saldanne baaij                                            3\n",
       "Baros                                                     3\n",
       "Maregat                                                   3\n",
       "St Johns                                                  3\n",
       "Cadise                                                    3\n",
       "Semarang                                                  2\n",
       "SACRAMENTO                                                2\n",
       "Amboina                                                   2\n",
       "Manzanilla de Cuba                                        2\n",
       "Palliacatte                                               2\n",
       "Maxim                                                     2\n",
       "STA. CATAL. Y MONTEV.                                     2\n",
       "Bay of Bengal                                             2\n",
       "Sinkel                                                    2\n",
       "Anjer                                                     2\n",
       "SAN LORENZO DE NUCA Y VUELTA                              1\n",
       "MONTEVIDEO (PRIMERO VAN A STA. CATALINA, BRASIL)          1\n",
       "Maldonado, River Plate                                    1\n",
       "ALIC.?                                                    1\n",
       "St. Thomee                                                1\n",
       "YSLA DE SANTA CATHALINAYSLA DE SANTA CATHALINA            1\n",
       "Fercera, near St Michaels                                 1\n",
       "STA. CATAL Y MONTEV.                                      1\n",
       "YA VEREMOS                                                1\n",
       "Baroes                                                    1\n",
       "Hellevoetsluis via Kaap de Goede Hoop en Noorwegen        1\n",
       "Bretts Harbour                                            1\n",
       "ISLA SANTA CATALINA (BRASIL)Y VUELTA                      1\n",
       "STA. CATALINA Y MONTEVID.                                 1\n",
       "dtype: int64"
      ]
     },
     "execution_count": 120,
     "metadata": {},
     "output_type": "execute_result"
    }
   ],
   "source": [
    "shiplogs.VoyageTo.value_counts()"
   ]
  },
  {
   "cell_type": "code",
   "execution_count": 62,
   "metadata": {
    "collapsed": false
   },
   "outputs": [
    {
     "data": {
      "text/plain": [
       "Batavia                                    25920\n",
       "Rotterdam                                   9757\n",
       "Nederland                                   8697\n",
       "Montevideo                                  8680\n",
       "La Coruña                                   8463\n",
       "Spithead                                    8298\n",
       "LA HABANA                                   7906\n",
       "LA CORUÑA                                   7657\n",
       "CÁDIZ                                       7522\n",
       "Nieuwediep                                  6713\n",
       "Texel                                       6445\n",
       "Java Head                                   4505\n",
       "Hellevoetsluis                              4451\n",
       "Downs                                       4242\n",
       "Plymouth                                    3979\n",
       "Table Bay                                   3974\n",
       "St Helena                                   3672\n",
       "Portsmouth                                  3606\n",
       "Middelburg                                  3270\n",
       "Suriname                                    3154\n",
       "Curacao                                     3049\n",
       "MONTEVIDEO                                  2945\n",
       "Rio de Janeiro                              2832\n",
       "Amsterdam                                   2491\n",
       "Madras                                      2448\n",
       "Gravesend                                   2215\n",
       "Madeira                                     2128\n",
       "Rammekens                                   1822\n",
       "Banjoewangie                                1800\n",
       "Brest                                       1730\n",
       "                                           ...  \n",
       "Cape Blanco                                    5\n",
       "Soincij Baai                                   5\n",
       "Omoa                                           5\n",
       "Schapeneiland                                  4\n",
       "Baai Jacomel                                   4\n",
       "Banda                                          4\n",
       "Aguadilla                                      4\n",
       "Tapanolie                                      4\n",
       "Port Desire                                    4\n",
       "Bergen                                         4\n",
       "CÁDIZ?                                         4\n",
       "Pasgeroeang                                    4\n",
       "Start                                          3\n",
       "PLYMOUTH                                       3\n",
       "Mirabelle                                      3\n",
       "Maneter                                        2\n",
       "St Paulo                                       2\n",
       "La Guaijra                                     2\n",
       "Laguaijra                                      2\n",
       "Kingston                                       2\n",
       "St Augustin Bay                                2\n",
       "Semarang                                       2\n",
       "Mountsbaai                                     2\n",
       "Funchall Road                                  2\n",
       "Bretts Harbour                                 1\n",
       "Benkuleu                                       1\n",
       "St George d'Elmina\\n.St George d'Elmina        1\n",
       "Baaij Falso                                    1\n",
       "Middellandse Zee                               1\n",
       "Saldanne baaij                                 1\n",
       "dtype: int64"
      ]
     },
     "execution_count": 62,
     "metadata": {},
     "output_type": "execute_result"
    }
   ],
   "source": [
    "shiplogs.VoyageFrom.value_counts()"
   ]
  },
  {
   "cell_type": "code",
   "execution_count": 64,
   "metadata": {
    "collapsed": false
   },
   "outputs": [
    {
     "data": {
      "text/plain": [
       "2151                                        ECLIPSE DE LUNA\n",
       "5933      HACEN UNA OBSERVACION APROVECHANDO UN ECLIPSE ...\n",
       "6297      A LAS 6:24 SALIO LA LUNA CON 4 DIGITOS ECLIPSA...\n",
       "6453                                several drifts of weed.\n",
       "7248                        Kelp spotted southward 19 miles\n",
       "7249                          Kelp spotted southward 7miles\n",
       "9495      The sea in the night sparkles as if we sailed ...\n",
       "10610                               Saw 2 penguins !!!!!!!!\n",
       "11716     great multitudes of dolphins and Bonitas aroun...\n",
       "13990                a great number of birds about the ship\n",
       "14003             Saw a very large whale following the ship\n",
       "14004     Whale still following the ship, ship going 10 ...\n",
       "14021                Saw St Hellana Pigeons and other birds\n",
       "14143                   great number of fish about the ship\n",
       "16701                                     3 whales in sight\n",
       "20106     At 1am it cleared saw the moon eclipsed about ...\n",
       "21205                                 Saw gulf weed at noon\n",
       "23731                                         lunar eclipse\n",
       "24573                                Sight a sea serpent!!!\n",
       "39515                          Passed by a great many weeds\n",
       "39572                          Forenoon saw some gulf weeds\n",
       "39573                                    A great many weeds\n",
       "39575               Still a great many weeds about the ship\n",
       "39577               Still a great many weeds about the ship\n",
       "43852                      rather more gulf weed seen today\n",
       "43853                                        gulf weed seen\n",
       "43854                                 not so much gulf weed\n",
       "43855                  a little of the gulf weed seen today\n",
       "43856                  a few pieces of gulf weed seen today\n",
       "43857               a little of the gulf weed seen this day\n",
       "                                ...                        \n",
       "256587               ' zien vele velden van kroos drijven.'\n",
       "256588                          zagen vele velden van kroos\n",
       "256608                              Veel vis bij het schip.\n",
       "256758                               Veel vis bij het schip\n",
       "256864                                            vee kroos\n",
       "256871                               veel vis bij het schip\n",
       "256949                              Vingen een kleine haai.\n",
       "259300    zagen menigte bonte meeuwen, veel vis, enkele ...\n",
       "259778                      verkleuring water / licht groen\n",
       "259780                                         helder water\n",
       "273681                     Sage een trompet voorbij drijven\n",
       "273682    Saagen verschijden zeequallen en veuijligheed ...\n",
       "273753                                 sagen een pijlstaart\n",
       "273760                 zagen een schildpad voorbij drijven.\n",
       "273761                  sagen een schilpadt voorbij drijven\n",
       "273786                  Sagen verschijde besaantjes drijven\n",
       "273788    zagen een malleviet en verscheidene andere vog...\n",
       "273789    Sagen een Malevit en verschijde andre gevogelt...\n",
       "273877                           zagen verschijde boscoppen\n",
       "280000                                    zagen bruinvissen\n",
       "280038    Zagen een groot aantal boeren met hun varkens,...\n",
       "280048        Zagen groot aantal bruinvissen en cachelotten\n",
       "280052                                  zagen kroos drijven\n",
       "280054                                  zagen kroos drijven\n",
       "280059                             zagen een Witte Walvisch\n",
       "280061         zagen een groot aantal bruinvissen en vogels\n",
       "280072                                   zagen wier drijven\n",
       "280080              zagen kroost drijven en vliegende visch\n",
       "280141           Zagen een zeer mooie regenboog van de maan\n",
       "280154                             zagen een witte walvisch\n",
       "Name: BiologyMemo, dtype: object"
      ]
     },
     "execution_count": 64,
     "metadata": {},
     "output_type": "execute_result"
    }
   ],
   "source": [
    "shiplogs[shiplogs.BiologyMemo.notnull()].BiologyMemo"
   ]
  },
  {
   "cell_type": "code",
   "execution_count": 66,
   "metadata": {
    "collapsed": false
   },
   "outputs": [
    {
     "data": {
      "text/plain": [
       "A.P. Klein                        2226\n",
       "Manuel de Abona                   1394\n",
       "Andrés Vélez                      1379\n",
       "C. Visman                         1335\n",
       "F. Schut                          1276\n",
       "C.P. Kuiper                       1246\n",
       "José de Merino                    1235\n",
       "B. van der Tak                    1225\n",
       "F.J. Hoffman                      1209\n",
       "D. Ochtman                        1207\n",
       "P. Vis                            1174\n",
       "Cayetano Antunez                  1147\n",
       "DESCONOCIDO                       1142\n",
       "J.A. Pronk                        1138\n",
       "Dugald Macdougall                 1078\n",
       "Roger Mainwaring                  1078\n",
       "A. Schaap                         1065\n",
       "Francisco de Llanos               1048\n",
       "John Raynor                       1022\n",
       "J. Bougue                          992\n",
       "Elmer M. Mooij                     978\n",
       "John Allen                         934\n",
       "J.A. de Maas                       923\n",
       "L.J. Rotgans                       919\n",
       "J. Menkenveld                      907\n",
       "Juan Antonio González              897\n",
       "James Cook                         887\n",
       "C. van der Hart                    884\n",
       "J.F.G. de la Perouse               884\n",
       "F.H.J. Taski                       872\n",
       "                                  ... \n",
       "Francis Banks                       10\n",
       "Issac Smith                          9\n",
       "C Burrows                            9\n",
       "VICENTE TOFIÑO                       8\n",
       "FCO. SANTISTEBAN                     8\n",
       "Nathaniel Bateman                    8\n",
       "FCO. GIL Y LEMOS                     8\n",
       "Captain Walter Stirling              7\n",
       "John Hallwall                        7\n",
       "JUAN PUJADAS                         7\n",
       "Juan Manuel de las Cagigas           6\n",
       "G.C. Zoutman                         5\n",
       "JOSE DE JULIÁN                       5\n",
       "John Jervis                          5\n",
       "Thomas Frognall                      4\n",
       "R Roddman                            4\n",
       "John Moutray (author)                4\n",
       "Christpher Rigby                     3\n",
       "FRANCISCO MELGAREJO                  2\n",
       "José Antonio Llanos                  1\n",
       "John Okes (Edward Clarke dead)       1\n",
       "U(lke) Baarends(z)                   1\n",
       "FRANCISCO DE MEDINA                  1\n",
       "ANTONIO DE MONTES                    1\n",
       "ANTONIO MAESIA                       1\n",
       "Juan António González                1\n",
       "ANDRÉS VIEZMA                        1\n",
       "MR. LOTHE                            1\n",
       "ANDRÉS DE VIEDMA                     1\n",
       "De Medine                            1\n",
       "dtype: int64"
      ]
     },
     "execution_count": 66,
     "metadata": {},
     "output_type": "execute_result"
    }
   ],
   "source": [
    "shiplogs.Name1.value_counts()"
   ]
  },
  {
   "cell_type": "code",
   "execution_count": 78,
   "metadata": {
    "collapsed": false
   },
   "outputs": [
    {
     "data": {
      "text/plain": [
       "array(['Richard Howe', 'Sir John Hamilton ', 'Robert Digby',\n",
       "       'George Heming', 'Josiah Pryce', 'William Parker', 'Ulke Barendsz',\n",
       "       'Lodewijk Grave van Bijland', 'P. van Hoogwerf', 'J.H. Forleij',\n",
       "       'Zuirijn Dabenis', 'L.H. van Oijen', 'W.L. Veerman', 'J.F. Meijer',\n",
       "       'Johan Hendrik van Ourijk', 'Cornelis van de Stam', 'Delvos',\n",
       "       'W. van der Beets', 'Jacob Rijzik van den Briel',\n",
       "       'Johannes Jansen Eije', 'C. Eeg', 'J.J. van Hoeij', nan,\n",
       "       'Van Helsdinge', 'Cornelis van der Stam', 'Ewout van Haeftent',\n",
       "       'Van der Gon', 'Godfried Wargijn', 'A. Hijne', 'Martoelet',\n",
       "       'C. de Jong', 'Jan Bloem', 'G. T. Hinxt', 'C. de Cerf', 'T. Groot',\n",
       "       'Volmer Knollaert', 'Jan van Kerkhoven', 'Hendrik Santleven',\n",
       "       'L.L. Spengler', 'John Lloyd', 'Cornelis Van Kakom',\n",
       "       \"Cornelus D' Wit\", 'Sampson Salt', 'MANUEL FELIPE DE LOYGORRI (?)',\n",
       "       'J. Boelen', 'A.A. Buyskes', 'J.P.D. Scheidius', 'D. Buijs',\n",
       "       'Jacobus Arkenbout', 'Bolken'], dtype=object)"
      ]
     },
     "execution_count": 78,
     "metadata": {},
     "output_type": "execute_result"
    }
   ],
   "source": [
    "shiplogs[shiplogs.WarsAndFightsMemo.notnull()].Name1.unique()"
   ]
  },
  {
   "cell_type": "code",
   "execution_count": 80,
   "metadata": {
    "collapsed": false
   },
   "outputs": [
    {
     "data": {
      "text/plain": [
       "array(['British', 'Dutch', 'Spanish', 'French', 'Danish'], dtype=object)"
      ]
     },
     "execution_count": 80,
     "metadata": {},
     "output_type": "execute_result"
    }
   ],
   "source": [
    "shiplogs[shiplogs.WarsAndFightsMemo.notnull()].Nationality.unique()"
   ]
  },
  {
   "cell_type": "code",
   "execution_count": 83,
   "metadata": {
    "collapsed": false
   },
   "outputs": [
    {
     "data": {
      "text/plain": [
       "Maarsen                 11\n",
       "Wassenaar                9\n",
       "DESCONOCIDO-15           6\n",
       "Mentor                   6\n",
       "Jerusalem                5\n",
       "Schiedam                 5\n",
       "Jason                    4\n",
       "Dordregt                 4\n",
       "Ceres                    4\n",
       "Dunkirk                  4\n",
       "Zephyr                   4\n",
       "Sirene                   3\n",
       "Delphina                 3\n",
       "Boreas                   3\n",
       "Admiraal Evertsen        3\n",
       "Pollux                   3\n",
       "Rotterdam                2\n",
       "Vlietlust                2\n",
       "Noordbeveland            2\n",
       "Grenadier                2\n",
       "Newcastle                2\n",
       "Princes Louisa           2\n",
       "Hornet                   2\n",
       "Irene                    2\n",
       "Vliegende Visch          2\n",
       "Hector                   2\n",
       "Nymphe                   1\n",
       "Bos en Hoven             1\n",
       "Scipio                   1\n",
       "Kroonprincesse Maria     1\n",
       "Princes Carolina         1\n",
       "Maria Reigersbergen      1\n",
       "Princes Maria Louisa     1\n",
       "Earl Spencer             1\n",
       "Serpent                  1\n",
       "Adder                    1\n",
       "Akerendam                1\n",
       "Vrouwe Johanna Cores     1\n",
       "Kemphaan                 1\n",
       "Royal Charlotte          1\n",
       "Goede Trouw              1\n",
       "Amazon                   1\n",
       "Zwaluw                   1\n",
       "Juno                     1\n",
       "Cadmus                   1\n",
       "Haast U Langzaam         1\n",
       "Havick                   1\n",
       "Panter                   1\n",
       "dtype: int64"
      ]
     },
     "execution_count": 83,
     "metadata": {},
     "output_type": "execute_result"
    }
   ],
   "source": [
    "shiplogs[shiplogs.WarsAndFightsMemo.notnull()].ShipName.value_counts()"
   ]
  },
  {
   "cell_type": "code",
   "execution_count": 131,
   "metadata": {
    "collapsed": false
   },
   "outputs": [
    {
     "data": {
      "text/plain": [
       "Series([], Name: ShipName, dtype: object)"
      ]
     },
     "execution_count": 131,
     "metadata": {},
     "output_type": "execute_result"
    }
   ],
   "source": [
    "shiplogs[shiplogs.ShipName.str.contains('NORDEN') == True].ShipName"
   ]
  },
  {
   "cell_type": "code",
   "execution_count": 84,
   "metadata": {
    "collapsed": true
   },
   "outputs": [],
   "source": [
    "# how long does it take to get from A to B?"
   ]
  },
  {
   "cell_type": "code",
   "execution_count": null,
   "metadata": {
    "collapsed": true
   },
   "outputs": [],
   "source": []
  }
 ],
 "metadata": {
  "anaconda-cloud": {},
  "hide_input": false,
  "kernelspec": {
   "display_name": "Python [default]",
   "language": "python",
   "name": "python3"
  },
  "language_info": {
   "codemirror_mode": {
    "name": "ipython",
    "version": 3
   },
   "file_extension": ".py",
   "mimetype": "text/x-python",
   "name": "python",
   "nbconvert_exporter": "python",
   "pygments_lexer": "ipython3",
   "version": "3.5.2"
  }
 },
 "nbformat": 4,
 "nbformat_minor": 0
}
