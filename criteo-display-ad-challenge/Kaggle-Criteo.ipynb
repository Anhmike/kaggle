{
 "metadata": {
  "name": ""
 },
 "nbformat": 3,
 "nbformat_minor": 0,
 "worksheets": [
  {
   "cells": [
    {
     "cell_type": "code",
     "collapsed": false,
     "input": [
      "import csv \n",
      "import random\n",
      "import math\n",
      "import numpy as np\n",
      "import pandas as pd\n",
      "import matplotlib.pyplot as plt\n",
      "%pylab inline"
     ],
     "language": "python",
     "metadata": {},
     "outputs": [
      {
       "output_type": "stream",
       "stream": "stdout",
       "text": [
        "Populating the interactive namespace from numpy and matplotlib\n"
       ]
      },
      {
       "output_type": "stream",
       "stream": "stderr",
       "text": [
        "WARNING: pylab import has clobbered these variables: ['random']\n",
        "`%pylab --no-import-all` prevents importing * from pylab and numpy\n"
       ]
      }
     ],
     "prompt_number": 1
    },
    {
     "cell_type": "code",
     "collapsed": false,
     "input": [
      "%cd 'Desktop/criteo/'"
     ],
     "language": "python",
     "metadata": {},
     "outputs": [
      {
       "output_type": "stream",
       "stream": "stdout",
       "text": [
        "/Users/Paul/Desktop/criteo\n"
       ]
      }
     ],
     "prompt_number": 2
    },
    {
     "cell_type": "code",
     "collapsed": false,
     "input": [
      "df_pred1 = pd.read_csv(\"Criteo_small_AVG_Blender_(18+19+21)_64_Informative_Features_test_aa.csv\")\n",
      "df_pred2 = pd.read_csv(\"Criteo_small_AVG_Blender_(18+19+21)_64_Informative_Features_test_ab.csv\")\n",
      "df_pred3 = pd.read_csv(\"Criteo_small_AVG_Blender_(18+19+21)_64_Informative_Features_test_ac.csv\")\n",
      "df_pred4 = pd.read_csv(\"Criteo_small_AVG_Blender_(18+19+21)_64_Informative_Features_test_ad.csv\")\n",
      "df_pred5 = pd.read_csv(\"Criteo_small_AVG_Blender_(18+19+21)_64_Informative_Features_test_ae.csv\")\n",
      "df_pred6 = pd.read_csv(\"Criteo_small_AVG_Blender_(18+19+21)_64_Informative_Features_test_af.csv\")\n",
      "df_pred7 = pd.read_csv(\"Criteo_small_AVG_Blender_(18+19+21)_64_Informative_Features_test_ag.csv\")\n",
      "df_pred8 = pd.read_csv(\"Criteo_small_AVG_Blender_(18+19+21)_64_Informative_Features_test_ah.csv\")\n",
      "df_pred9 = pd.read_csv(\"Criteo_small_AVG_Blender_(18+19+21)_64_Informative_Features_test_ai.csv\")"
     ],
     "language": "python",
     "metadata": {},
     "outputs": [],
     "prompt_number": 17
    },
    {
     "cell_type": "code",
     "collapsed": false,
     "input": [
      "df_pred = pd.concat([df_pred1, df_pred2, df_pred3, df_pred4, df_pred5, df_pred6, df_pred7, df_pred8, df_pred9], \n",
      "                    ignore_index=True)\n",
      "len(df_pred)"
     ],
     "language": "python",
     "metadata": {},
     "outputs": [
      {
       "metadata": {},
       "output_type": "pyout",
       "prompt_number": 30,
       "text": [
        "6042135"
       ]
      }
     ],
     "prompt_number": 30
    },
    {
     "cell_type": "code",
     "collapsed": false,
     "input": [
      "df_pred[:3]"
     ],
     "language": "python",
     "metadata": {},
     "outputs": [
      {
       "html": [
        "<div style=\"max-height:1000px;max-width:1500px;overflow:auto;\">\n",
        "<table border=\"1\" class=\"dataframe\">\n",
        "  <thead>\n",
        "    <tr style=\"text-align: right;\">\n",
        "      <th></th>\n",
        "      <th>RowId</th>\n",
        "      <th>Prediction</th>\n",
        "    </tr>\n",
        "  </thead>\n",
        "  <tbody>\n",
        "    <tr>\n",
        "      <th>0</th>\n",
        "      <td> 1</td>\n",
        "      <td> 0.090291</td>\n",
        "    </tr>\n",
        "    <tr>\n",
        "      <th>1</th>\n",
        "      <td> 2</td>\n",
        "      <td> 0.202952</td>\n",
        "    </tr>\n",
        "    <tr>\n",
        "      <th>2</th>\n",
        "      <td> 3</td>\n",
        "      <td> 0.335071</td>\n",
        "    </tr>\n",
        "  </tbody>\n",
        "</table>\n",
        "<p>3 rows \u00d7 2 columns</p>\n",
        "</div>"
       ],
       "metadata": {},
       "output_type": "pyout",
       "prompt_number": 20,
       "text": [
        "   RowId  Prediction\n",
        "0      1    0.090291\n",
        "1      2    0.202952\n",
        "2      3    0.335071\n",
        "\n",
        "[3 rows x 2 columns]"
       ]
      }
     ],
     "prompt_number": 20
    },
    {
     "cell_type": "code",
     "collapsed": false,
     "input": [
      "df_sample_submit = pd.read_csv(\"random_submission.csv\")\n",
      "len(df_sample_submit.index)"
     ],
     "language": "python",
     "metadata": {},
     "outputs": [
      {
       "metadata": {},
       "output_type": "pyout",
       "prompt_number": 7,
       "text": [
        "6042135"
       ]
      }
     ],
     "prompt_number": 7
    },
    {
     "cell_type": "code",
     "collapsed": false,
     "input": [
      "df_sample_submit[:4]"
     ],
     "language": "python",
     "metadata": {},
     "outputs": [
      {
       "html": [
        "<div style=\"max-height:1000px;max-width:1500px;overflow:auto;\">\n",
        "<table border=\"1\" class=\"dataframe\">\n",
        "  <thead>\n",
        "    <tr style=\"text-align: right;\">\n",
        "      <th></th>\n",
        "      <th>Id</th>\n",
        "      <th>Predicted</th>\n",
        "    </tr>\n",
        "  </thead>\n",
        "  <tbody>\n",
        "    <tr>\n",
        "      <th>0</th>\n",
        "      <td> 60000000</td>\n",
        "      <td> 0.361366</td>\n",
        "    </tr>\n",
        "    <tr>\n",
        "      <th>1</th>\n",
        "      <td> 60000001</td>\n",
        "      <td> 0.619944</td>\n",
        "    </tr>\n",
        "    <tr>\n",
        "      <th>2</th>\n",
        "      <td> 60000002</td>\n",
        "      <td> 0.101475</td>\n",
        "    </tr>\n",
        "    <tr>\n",
        "      <th>3</th>\n",
        "      <td> 60000003</td>\n",
        "      <td> 0.463491</td>\n",
        "    </tr>\n",
        "  </tbody>\n",
        "</table>\n",
        "<p>4 rows \u00d7 2 columns</p>\n",
        "</div>"
       ],
       "metadata": {},
       "output_type": "pyout",
       "prompt_number": 19,
       "text": [
        "         Id  Predicted\n",
        "0  60000000   0.361366\n",
        "1  60000001   0.619944\n",
        "2  60000002   0.101475\n",
        "3  60000003   0.463491\n",
        "\n",
        "[4 rows x 2 columns]"
       ]
      }
     ],
     "prompt_number": 19
    },
    {
     "cell_type": "code",
     "collapsed": false,
     "input": [
      "df_pred['Id'] = df_sample_submit.Id\n",
      "df_pred[:2]"
     ],
     "language": "python",
     "metadata": {},
     "outputs": [
      {
       "html": [
        "<div style=\"max-height:1000px;max-width:1500px;overflow:auto;\">\n",
        "<table border=\"1\" class=\"dataframe\">\n",
        "  <thead>\n",
        "    <tr style=\"text-align: right;\">\n",
        "      <th></th>\n",
        "      <th>RowId</th>\n",
        "      <th>Prediction</th>\n",
        "      <th>Id</th>\n",
        "    </tr>\n",
        "  </thead>\n",
        "  <tbody>\n",
        "    <tr>\n",
        "      <th>0</th>\n",
        "      <td> 1</td>\n",
        "      <td> 0.090291</td>\n",
        "      <td> 60000000</td>\n",
        "    </tr>\n",
        "    <tr>\n",
        "      <th>1</th>\n",
        "      <td> 2</td>\n",
        "      <td> 0.202952</td>\n",
        "      <td> 60000001</td>\n",
        "    </tr>\n",
        "  </tbody>\n",
        "</table>\n",
        "<p>2 rows \u00d7 3 columns</p>\n",
        "</div>"
       ],
       "metadata": {},
       "output_type": "pyout",
       "prompt_number": 21,
       "text": [
        "   RowId  Prediction        Id\n",
        "0      1    0.090291  60000000\n",
        "1      2    0.202952  60000001\n",
        "\n",
        "[2 rows x 3 columns]"
       ]
      }
     ],
     "prompt_number": 21
    },
    {
     "cell_type": "code",
     "collapsed": false,
     "input": [
      "df_pred_small = df_pred[['Id','Prediction']]\n",
      "df_pred_small[:2]"
     ],
     "language": "python",
     "metadata": {},
     "outputs": [
      {
       "html": [
        "<div style=\"max-height:1000px;max-width:1500px;overflow:auto;\">\n",
        "<table border=\"1\" class=\"dataframe\">\n",
        "  <thead>\n",
        "    <tr style=\"text-align: right;\">\n",
        "      <th></th>\n",
        "      <th>Id</th>\n",
        "      <th>Prediction</th>\n",
        "    </tr>\n",
        "  </thead>\n",
        "  <tbody>\n",
        "    <tr>\n",
        "      <th>0</th>\n",
        "      <td> 60000000</td>\n",
        "      <td> 0.090291</td>\n",
        "    </tr>\n",
        "    <tr>\n",
        "      <th>1</th>\n",
        "      <td> 60000001</td>\n",
        "      <td> 0.202952</td>\n",
        "    </tr>\n",
        "  </tbody>\n",
        "</table>\n",
        "<p>2 rows \u00d7 2 columns</p>\n",
        "</div>"
       ],
       "metadata": {},
       "output_type": "pyout",
       "prompt_number": 22,
       "text": [
        "         Id  Prediction\n",
        "0  60000000    0.090291\n",
        "1  60000001    0.202952\n",
        "\n",
        "[2 rows x 2 columns]"
       ]
      }
     ],
     "prompt_number": 22
    },
    {
     "cell_type": "code",
     "collapsed": false,
     "input": [
      "df_pred_small.columns = ['id', 'Predicted']\n",
      "df_pred_small[:2]"
     ],
     "language": "python",
     "metadata": {},
     "outputs": [
      {
       "html": [
        "<div style=\"max-height:1000px;max-width:1500px;overflow:auto;\">\n",
        "<table border=\"1\" class=\"dataframe\">\n",
        "  <thead>\n",
        "    <tr style=\"text-align: right;\">\n",
        "      <th></th>\n",
        "      <th>id</th>\n",
        "      <th>Predicted</th>\n",
        "    </tr>\n",
        "  </thead>\n",
        "  <tbody>\n",
        "    <tr>\n",
        "      <th>0</th>\n",
        "      <td> 60000000</td>\n",
        "      <td> 0.090291</td>\n",
        "    </tr>\n",
        "    <tr>\n",
        "      <th>1</th>\n",
        "      <td> 60000001</td>\n",
        "      <td> 0.202952</td>\n",
        "    </tr>\n",
        "  </tbody>\n",
        "</table>\n",
        "<p>2 rows \u00d7 2 columns</p>\n",
        "</div>"
       ],
       "metadata": {},
       "output_type": "pyout",
       "prompt_number": 24,
       "text": [
        "         id  Predicted\n",
        "0  60000000   0.090291\n",
        "1  60000001   0.202952\n",
        "\n",
        "[2 rows x 2 columns]"
       ]
      }
     ],
     "prompt_number": 24
    },
    {
     "cell_type": "code",
     "collapsed": false,
     "input": [
      "df_pred_small.to_csv(\"kaggle_small_AVG.csv\", index=False, mode='wb')"
     ],
     "language": "python",
     "metadata": {},
     "outputs": [],
     "prompt_number": 26
    },
    {
     "cell_type": "markdown",
     "metadata": {},
     "source": [
      "## Predicted BIG"
     ]
    },
    {
     "cell_type": "code",
     "collapsed": false,
     "input": [
      "df_big1 = pd.read_csv(\"Criteo_big_GLM_Blender_(18+19+20+21)_100_Informative_Features_test_aa.csv\")\n",
      "df_big2 = pd.read_csv(\"Criteo_big_GLM_Blender_(18+19+20+21)_100_Informative_Features_test_ab.csv\")\n",
      "df_big3 = pd.read_csv(\"Criteo_big_GLM_Blender_(18+19+20+21)_100_Informative_Features_test_ac.csv\")\n",
      "df_big4 = pd.read_csv(\"Criteo_big_GLM_Blender_(18+19+20+21)_100_Informative_Features_test_ad.csv\")\n",
      "df_big5 = pd.read_csv(\"Criteo_big_GLM_Blender_(18+19+20+21)_100_Informative_Features_test_ae.csv\")\n",
      "df_big6 = pd.read_csv(\"Criteo_big_GLM_Blender_(18+19+20+21)_100_Informative_Features_test_af.csv\")\n",
      "df_big7 = pd.read_csv(\"Criteo_big_GLM_Blender_(18+19+20+21)_100_Informative_Features_test_ag.csv\")\n",
      "df_big8 = pd.read_csv(\"Criteo_big_GLM_Blender_(18+19+20+21)_100_Informative_Features_test_ah.csv\")\n",
      "df_big9 = pd.read_csv(\"Criteo_big_GLM_Blender_(18+19+20+21)_100_Informative_Features_test_ai.csv\")"
     ],
     "language": "python",
     "metadata": {},
     "outputs": [],
     "prompt_number": 27
    },
    {
     "cell_type": "code",
     "collapsed": false,
     "input": [
      "df_big = pd.concat([df_big1, df_big2, df_big3, df_big4, df_big5, df_big6, df_big7, df_big8, df_big9], \n",
      "                    ignore_index=True)\n",
      "len(df_big)"
     ],
     "language": "python",
     "metadata": {},
     "outputs": [
      {
       "metadata": {},
       "output_type": "pyout",
       "prompt_number": 29,
       "text": [
        "6042135"
       ]
      }
     ],
     "prompt_number": 29
    },
    {
     "cell_type": "code",
     "collapsed": false,
     "input": [
      "df_big['Id'] = df_sample_submit.Id\n",
      "df_big = df_big[['Id','Prediction']]\n",
      "df_big.columns = ['id', 'Predicted']\n",
      "df_big[:4]"
     ],
     "language": "python",
     "metadata": {},
     "outputs": [
      {
       "html": [
        "<div style=\"max-height:1000px;max-width:1500px;overflow:auto;\">\n",
        "<table border=\"1\" class=\"dataframe\">\n",
        "  <thead>\n",
        "    <tr style=\"text-align: right;\">\n",
        "      <th></th>\n",
        "      <th>id</th>\n",
        "      <th>Predicted</th>\n",
        "    </tr>\n",
        "  </thead>\n",
        "  <tbody>\n",
        "    <tr>\n",
        "      <th>0</th>\n",
        "      <td> 60000000</td>\n",
        "      <td> 0.074419</td>\n",
        "    </tr>\n",
        "    <tr>\n",
        "      <th>1</th>\n",
        "      <td> 60000001</td>\n",
        "      <td> 0.103595</td>\n",
        "    </tr>\n",
        "    <tr>\n",
        "      <th>2</th>\n",
        "      <td> 60000002</td>\n",
        "      <td> 0.271905</td>\n",
        "    </tr>\n",
        "    <tr>\n",
        "      <th>3</th>\n",
        "      <td> 60000003</td>\n",
        "      <td> 0.429725</td>\n",
        "    </tr>\n",
        "  </tbody>\n",
        "</table>\n",
        "<p>4 rows \u00d7 2 columns</p>\n",
        "</div>"
       ],
       "metadata": {},
       "output_type": "pyout",
       "prompt_number": 31,
       "text": [
        "         id  Predicted\n",
        "0  60000000   0.074419\n",
        "1  60000001   0.103595\n",
        "2  60000002   0.271905\n",
        "3  60000003   0.429725\n",
        "\n",
        "[4 rows x 2 columns]"
       ]
      }
     ],
     "prompt_number": 31
    },
    {
     "cell_type": "code",
     "collapsed": false,
     "input": [
      "len(df_big.index)"
     ],
     "language": "python",
     "metadata": {},
     "outputs": [
      {
       "metadata": {},
       "output_type": "pyout",
       "prompt_number": 33,
       "text": [
        "6042135"
       ]
      }
     ],
     "prompt_number": 33
    },
    {
     "cell_type": "code",
     "collapsed": false,
     "input": [
      "df_big.to_csv(\"kaggle_big_GLM.csv\", index=False, mode='wb')"
     ],
     "language": "python",
     "metadata": {},
     "outputs": [],
     "prompt_number": 34
    },
    {
     "cell_type": "markdown",
     "metadata": {},
     "source": [
      "## Criteo__big_Regularized_Logistic_Regression_\\(L2\\)_\\(19\\)_100_Informative_Features_test_a* ."
     ]
    },
    {
     "cell_type": "code",
     "collapsed": false,
     "input": [
      "df_LR1 = pd.read_csv(\"Criteo_big_Regularized_Logistic_Regression_(L2)_(19)_100_Informative_Features_test_aa.csv\")\n",
      "df_LR2 = pd.read_csv(\"Criteo_big_Regularized_Logistic_Regression_(L2)_(19)_100_Informative_Features_test_ab.csv\")\n",
      "df_LR3 = pd.read_csv(\"Criteo_big_Regularized_Logistic_Regression_(L2)_(19)_100_Informative_Features_test_ac.csv\")\n",
      "df_LR4 = pd.read_csv(\"Criteo_big_Regularized_Logistic_Regression_(L2)_(19)_100_Informative_Features_test_ad.csv\")\n",
      "df_LR5 = pd.read_csv(\"Criteo_big_Regularized_Logistic_Regression_(L2)_(19)_100_Informative_Features_test_ae.csv\")\n",
      "df_LR6 = pd.read_csv(\"Criteo_big_Regularized_Logistic_Regression_(L2)_(19)_100_Informative_Features_test_af.csv\")\n",
      "df_LR7 = pd.read_csv(\"Criteo_big_Regularized_Logistic_Regression_(L2)_(19)_100_Informative_Features_test_ag.csv\")\n",
      "df_LR8 = pd.read_csv(\"Criteo_big_Regularized_Logistic_Regression_(L2)_(19)_100_Informative_Features_test_ah.csv\")\n",
      "df_LR9 = pd.read_csv(\"Criteo_big_Regularized_Logistic_Regression_(L2)_(19)_100_Informative_Features_test_ai.csv\")"
     ],
     "language": "python",
     "metadata": {},
     "outputs": [],
     "prompt_number": 37
    },
    {
     "cell_type": "code",
     "collapsed": false,
     "input": [
      "df_LR = pd.concat([df_LR1, df_LR2, df_LR3, df_LR4, df_LR5, df_LR6, df_LR7, df_LR8, df_LR9], ignore_index=True)\n",
      "len(df_LR)"
     ],
     "language": "python",
     "metadata": {},
     "outputs": [
      {
       "metadata": {},
       "output_type": "pyout",
       "prompt_number": 39,
       "text": [
        "6042135"
       ]
      }
     ],
     "prompt_number": 39
    },
    {
     "cell_type": "code",
     "collapsed": false,
     "input": [
      "df_LR['Id'] = df_sample_submit.Id\n",
      "df_LR = df_LR[['Id','Prediction']]\n",
      "df_LR.columns = ['id', 'Predicted']\n",
      "df_LR[:4]"
     ],
     "language": "python",
     "metadata": {},
     "outputs": [
      {
       "html": [
        "<div style=\"max-height:1000px;max-width:1500px;overflow:auto;\">\n",
        "<table border=\"1\" class=\"dataframe\">\n",
        "  <thead>\n",
        "    <tr style=\"text-align: right;\">\n",
        "      <th></th>\n",
        "      <th>id</th>\n",
        "      <th>Predicted</th>\n",
        "    </tr>\n",
        "  </thead>\n",
        "  <tbody>\n",
        "    <tr>\n",
        "      <th>0</th>\n",
        "      <td> 60000000</td>\n",
        "      <td> 0.073507</td>\n",
        "    </tr>\n",
        "    <tr>\n",
        "      <th>1</th>\n",
        "      <td> 60000001</td>\n",
        "      <td> 0.105654</td>\n",
        "    </tr>\n",
        "    <tr>\n",
        "      <th>2</th>\n",
        "      <td> 60000002</td>\n",
        "      <td> 0.273128</td>\n",
        "    </tr>\n",
        "    <tr>\n",
        "      <th>3</th>\n",
        "      <td> 60000003</td>\n",
        "      <td> 0.440906</td>\n",
        "    </tr>\n",
        "  </tbody>\n",
        "</table>\n",
        "<p>4 rows \u00d7 2 columns</p>\n",
        "</div>"
       ],
       "metadata": {},
       "output_type": "pyout",
       "prompt_number": 40,
       "text": [
        "         id  Predicted\n",
        "0  60000000   0.073507\n",
        "1  60000001   0.105654\n",
        "2  60000002   0.273128\n",
        "3  60000003   0.440906\n",
        "\n",
        "[4 rows x 2 columns]"
       ]
      }
     ],
     "prompt_number": 40
    },
    {
     "cell_type": "code",
     "collapsed": false,
     "input": [
      "df_LR.to_csv(\"kaggle_big_LR.csv\", index=False, mode='wb')"
     ],
     "language": "python",
     "metadata": {},
     "outputs": [],
     "prompt_number": 41
    },
    {
     "cell_type": "markdown",
     "metadata": {},
     "source": [
      "## Criteo__big_Advanced_GLM_Blender_\\(13+16+17+18+19+20+21+25\\)_64_Informative_Features_test_a"
     ]
    },
    {
     "cell_type": "code",
     "collapsed": false,
     "input": [
      "df_AGLM1 = pd.read_csv(\"Criteo_big_Advanced_GLM_Blender_(13+16+17+18+19+20+21+25)_64_Informative_Features_test_aa.csv\")\n",
      "df_AGLM2 = pd.read_csv(\"Criteo_big_Advanced_GLM_Blender_(13+16+17+18+19+20+21+25)_64_Informative_Features_test_ab.csv\")\n",
      "df_AGLM3 = pd.read_csv(\"Criteo_big_Advanced_GLM_Blender_(13+16+17+18+19+20+21+25)_64_Informative_Features_test_ac.csv\")\n",
      "df_AGLM4 = pd.read_csv(\"Criteo_big_Advanced_GLM_Blender_(13+16+17+18+19+20+21+25)_64_Informative_Features_test_ad.csv\")\n",
      "df_AGLM5 = pd.read_csv(\"Criteo_big_Advanced_GLM_Blender_(13+16+17+18+19+20+21+25)_64_Informative_Features_test_ae.csv\")\n",
      "df_AGLM6 = pd.read_csv(\"Criteo_big_Advanced_GLM_Blender_(13+16+17+18+19+20+21+25)_64_Informative_Features_test_af.csv\")\n",
      "df_AGLM7 = pd.read_csv(\"Criteo_big_Advanced_GLM_Blender_(13+16+17+18+19+20+21+25)_64_Informative_Features_test_ag.csv\")\n",
      "df_AGLM8 = pd.read_csv(\"Criteo_big_Advanced_GLM_Blender_(13+16+17+18+19+20+21+25)_64_Informative_Features_test_ah.csv\")\n",
      "df_AGLM9 = pd.read_csv(\"Criteo_big_Advanced_GLM_Blender_(13+16+17+18+19+20+21+25)_64_Informative_Features_test_ai.csv\")"
     ],
     "language": "python",
     "metadata": {},
     "outputs": [],
     "prompt_number": 44
    },
    {
     "cell_type": "code",
     "collapsed": false,
     "input": [
      "df_AGLM = pd.concat([df_AGLM1, df_AGLM2, df_AGLM3, df_AGLM4, df_AGLM5, df_AGLM6, df_AGLM7, df_AGLM8 ,df_AGLM9], \n",
      "                  ignore_index=True)\n",
      "len(df_AGLM)"
     ],
     "language": "python",
     "metadata": {},
     "outputs": [
      {
       "metadata": {},
       "output_type": "pyout",
       "prompt_number": 45,
       "text": [
        "6042135"
       ]
      }
     ],
     "prompt_number": 45
    },
    {
     "cell_type": "code",
     "collapsed": false,
     "input": [
      "df_AGLM['Id'] = df_sample_submit.Id\n",
      "df_AGLM = df_AGLM[['Id','Prediction']]\n",
      "df_AGLM.columns = ['id', 'Predicted']\n",
      "df_AGLM[:4]"
     ],
     "language": "python",
     "metadata": {},
     "outputs": [
      {
       "html": [
        "<div style=\"max-height:1000px;max-width:1500px;overflow:auto;\">\n",
        "<table border=\"1\" class=\"dataframe\">\n",
        "  <thead>\n",
        "    <tr style=\"text-align: right;\">\n",
        "      <th></th>\n",
        "      <th>id</th>\n",
        "      <th>Predicted</th>\n",
        "    </tr>\n",
        "  </thead>\n",
        "  <tbody>\n",
        "    <tr>\n",
        "      <th>0</th>\n",
        "      <td> 60000000</td>\n",
        "      <td> 0.088169</td>\n",
        "    </tr>\n",
        "    <tr>\n",
        "      <th>1</th>\n",
        "      <td> 60000001</td>\n",
        "      <td> 0.085536</td>\n",
        "    </tr>\n",
        "    <tr>\n",
        "      <th>2</th>\n",
        "      <td> 60000002</td>\n",
        "      <td> 0.333106</td>\n",
        "    </tr>\n",
        "    <tr>\n",
        "      <th>3</th>\n",
        "      <td> 60000003</td>\n",
        "      <td> 0.493558</td>\n",
        "    </tr>\n",
        "  </tbody>\n",
        "</table>\n",
        "<p>4 rows \u00d7 2 columns</p>\n",
        "</div>"
       ],
       "metadata": {},
       "output_type": "pyout",
       "prompt_number": 46,
       "text": [
        "         id  Predicted\n",
        "0  60000000   0.088169\n",
        "1  60000001   0.085536\n",
        "2  60000002   0.333106\n",
        "3  60000003   0.493558\n",
        "\n",
        "[4 rows x 2 columns]"
       ]
      }
     ],
     "prompt_number": 46
    },
    {
     "cell_type": "code",
     "collapsed": false,
     "input": [
      "df_AGLM.to_csv(\"kaggle_big_AGLM.csv\", index=False, mode='wb')"
     ],
     "language": "python",
     "metadata": {},
     "outputs": [],
     "prompt_number": 47
    }
   ],
   "metadata": {}
  }
 ]
}