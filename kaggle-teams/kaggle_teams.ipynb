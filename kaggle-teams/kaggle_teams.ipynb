{
 "cells": [
  {
   "cell_type": "markdown",
   "metadata": {},
   "source": [
    "# Kaggle Teams in 2016"
   ]
  },
  {
   "cell_type": "markdown",
   "metadata": {},
   "source": [
    "### Who do you team with on Kaggle?\n",
    "\n",
    "Data for this analysis comes from the Kaggle Leaderboard as of February 17, 2016. The data was extracted by web-scraping Kaggle’s leaderboard web pages. Source code for web-scraping and data pre-processing can be found at this [github repository](https://github.com/jimthompson5802/kaggle-RScript).  This analysis builds on previous analysis of Kaggle teams [by country](https://www.kaggle.com/jimthompson/introducing-kaggle-scripts/kaggle-competition-medal-count-analysis), [by team structure](https://www.kaggle.com/jimthompson/introducing-kaggle-scripts/visualizing-kaggle-team-structures), [by profile](http://notesofdabbler.github.io/201412_exploreKaggle/exploreKaggleUsers.html), and [over time](https://www.kaggle.com/jeffhebert/d/kaggle/meta-kaggle/kaggle-competitions-over-time).\n",
    "\n",
    "As of February 17, 2016 there were 200 completed and 13 incomplete competitions. Of the completed ones, we were able to scrape 199 competitions (failing to scrape one).  From this set, this analysis focused on competitions with a cash prize, excluding competitions listed as Jobs, Knowledge, Kudos, Private and Swag. This subselection resulted in 151 candidate competitions, of which 133 had teams.\n",
    "\n",
    "Of the candidate competitions, 14 did not contain Leaderboard information and were excluded from the analysis. This resulted in 122 competitions for analysis."
   ]
  },
  {
   "cell_type": "code",
   "execution_count": 303,
   "metadata": {
    "collapsed": true
   },
   "outputs": [],
   "source": [
    "# imports\n",
    "import sys # for stderr\n",
    "import numpy as np\n",
    "import pandas as pd\n",
    "import sklearn as skl\n",
    "from sklearn import metrics\n",
    "import matplotlib as mpl\n",
    "import matplotlib.pyplot as plt\n",
    "%matplotlib inline"
   ]
  },
  {
   "cell_type": "code",
   "execution_count": 2,
   "metadata": {},
   "outputs": [
    {
     "name": "stdout",
     "output_type": "stream",
     "text": [
      "2016-02-18 10:27:40.500000\n",
      "Python: 3.3.5 |Anaconda 2.2.0 (x86_64)| (default, Sep  2 2014, 13:57:31) \n",
      "[GCC 4.2.1 (Apple Inc. build 5577)]\n",
      "numpy: 1.10.4\n",
      "pandas: 0.17.1\n",
      "sklearn: 0.16.1\n"
     ]
    }
   ],
   "source": [
    "# versions \n",
    "import sys\n",
    "print(pd.datetime.now())\n",
    "print('Python: '+sys.version)\n",
    "print('numpy: '+np.__version__)\n",
    "print('pandas: '+pd.__version__)\n",
    "print('sklearn: '+skl.__version__)"
   ]
  },
  {
   "cell_type": "code",
   "execution_count": 305,
   "metadata": {
    "collapsed": true
   },
   "outputs": [],
   "source": [
    "# settings \n",
    "inline_rc = dict(mpl.rcParams)\n",
    "plt.style.use('ggplot')\n",
    "plt.rcParams['figure.figsize'] = (12.0, 8.0)\n",
    "# pd.set_option('display.max_rows', 50)\n",
    "# pd.set_option('display.max_columns', 50)"
   ]
  },
  {
   "cell_type": "markdown",
   "metadata": {},
   "source": [
    "## Competitions"
   ]
  },
  {
   "cell_type": "code",
   "execution_count": 4,
   "metadata": {},
   "outputs": [
    {
     "data": {
      "text/plain": [
       "(199, 8)"
      ]
     },
     "execution_count": 4,
     "metadata": {},
     "output_type": "execute_result"
    }
   ],
   "source": [
    "competitions = pd.read_csv('./comps.csv')\n",
    "competitions.shape"
   ]
  },
  {
   "cell_type": "code",
   "execution_count": 5,
   "metadata": {},
   "outputs": [
    {
     "data": {
      "text/html": [
       "<div>\n",
       "<table border=\"1\" class=\"dataframe\">\n",
       "  <thead>\n",
       "    <tr style=\"text-align: right;\">\n",
       "      <th></th>\n",
       "      <th>competition_name</th>\n",
       "      <th>competition_url</th>\n",
       "      <th>competition_type</th>\n",
       "      <th>prize_amount</th>\n",
       "      <th>number_of_teams</th>\n",
       "      <th>deadline</th>\n",
       "      <th>start_date</th>\n",
       "      <th>end_date</th>\n",
       "    </tr>\n",
       "  </thead>\n",
       "  <tbody>\n",
       "    <tr>\n",
       "      <th>0</th>\n",
       "      <td>Heritage Health Prize</td>\n",
       "      <td>//www.heritagehealthprize.com/c/hhp</td>\n",
       "      <td>standard</td>\n",
       "      <td>500000</td>\n",
       "      <td>1353</td>\n",
       "      <td>2 years ago</td>\n",
       "      <td>2011-04-04 17:03:00</td>\n",
       "      <td>2013-04-04 07:00:00</td>\n",
       "    </tr>\n",
       "    <tr>\n",
       "      <th>1</th>\n",
       "      <td>GE Flight Quest</td>\n",
       "      <td>//www.gequest.com/c/flight</td>\n",
       "      <td>standard</td>\n",
       "      <td>250000</td>\n",
       "      <td>173</td>\n",
       "      <td>2 years ago</td>\n",
       "      <td>2012-11-28 18:36:00</td>\n",
       "      <td>2013-03-11 23:59:00</td>\n",
       "    </tr>\n",
       "    <tr>\n",
       "      <th>2</th>\n",
       "      <td>Flight Quest 2: Flight Optimization, Milestone...</td>\n",
       "      <td>//www.gequest.com/c/flight2-milestone</td>\n",
       "      <td>standard</td>\n",
       "      <td>250000</td>\n",
       "      <td>129</td>\n",
       "      <td>2 years ago</td>\n",
       "      <td>2013-08-06 03:44:00</td>\n",
       "      <td>2013-09-25 23:59:00</td>\n",
       "    </tr>\n",
       "    <tr>\n",
       "      <th>3</th>\n",
       "      <td>Flight Quest 2: Flight Optimization, Main Phase</td>\n",
       "      <td>//www.gequest.com/c/flight2-main</td>\n",
       "      <td>standard</td>\n",
       "      <td>220000</td>\n",
       "      <td>121</td>\n",
       "      <td>2 years ago</td>\n",
       "      <td>2013-09-26 16:46:00</td>\n",
       "      <td>2014-01-18 23:59:00</td>\n",
       "    </tr>\n",
       "    <tr>\n",
       "      <th>4</th>\n",
       "      <td>Flight Quest 2: Flight Optimization, Final Phase</td>\n",
       "      <td>//www.gequest.com/c/flight2-final</td>\n",
       "      <td>standard</td>\n",
       "      <td>220000</td>\n",
       "      <td>33</td>\n",
       "      <td>24 months ago</td>\n",
       "      <td>2014-01-19 00:00:00</td>\n",
       "      <td>2014-02-23 23:59:00</td>\n",
       "    </tr>\n",
       "  </tbody>\n",
       "</table>\n",
       "</div>"
      ],
      "text/plain": [
       "                                    competition_name  \\\n",
       "0                              Heritage Health Prize   \n",
       "1                                    GE Flight Quest   \n",
       "2  Flight Quest 2: Flight Optimization, Milestone...   \n",
       "3    Flight Quest 2: Flight Optimization, Main Phase   \n",
       "4   Flight Quest 2: Flight Optimization, Final Phase   \n",
       "\n",
       "                         competition_url competition_type  prize_amount  \\\n",
       "0    //www.heritagehealthprize.com/c/hhp         standard        500000   \n",
       "1             //www.gequest.com/c/flight         standard        250000   \n",
       "2  //www.gequest.com/c/flight2-milestone         standard        250000   \n",
       "3       //www.gequest.com/c/flight2-main         standard        220000   \n",
       "4      //www.gequest.com/c/flight2-final         standard        220000   \n",
       "\n",
       "   number_of_teams       deadline           start_date             end_date  \n",
       "0             1353    2 years ago  2011-04-04 17:03:00  2013-04-04 07:00:00  \n",
       "1              173    2 years ago  2012-11-28 18:36:00  2013-03-11 23:59:00  \n",
       "2              129    2 years ago  2013-08-06 03:44:00  2013-09-25 23:59:00  \n",
       "3              121    2 years ago  2013-09-26 16:46:00  2014-01-18 23:59:00  \n",
       "4               33  24 months ago  2014-01-19 00:00:00  2014-02-23 23:59:00  "
      ]
     },
     "execution_count": 5,
     "metadata": {},
     "output_type": "execute_result"
    }
   ],
   "source": [
    "competitions[:5]"
   ]
  },
  {
   "cell_type": "code",
   "execution_count": 6,
   "metadata": {},
   "outputs": [
    {
     "data": {
      "text/plain": [
       "<matplotlib.axes._subplots.AxesSubplot at 0x10c204150>"
      ]
     },
     "execution_count": 6,
     "metadata": {},
     "output_type": "execute_result"
    },
    {
     "data": {
      "image/png": "[encoded data removed]",
      "text/plain": [
       "<matplotlib.figure.Figure at 0x107140710>"
      ]
     },
     "metadata": {},
     "output_type": "display_data"
    }
   ],
   "source": [
    "competitions.prize_amount.plot.hist()"
   ]
  },
  {
   "cell_type": "markdown",
   "metadata": {},
   "source": [
    "### How many competitions?"
   ]
  },
  {
   "cell_type": "code",
   "execution_count": 7,
   "metadata": {},
   "outputs": [
    {
     "data": {
      "text/html": [
       "<div>\n",
       "<table border=\"1\" class=\"dataframe\">\n",
       "  <thead>\n",
       "    <tr style=\"text-align: right;\">\n",
       "      <th></th>\n",
       "      <th>competition_type</th>\n",
       "    </tr>\n",
       "  </thead>\n",
       "  <tbody>\n",
       "    <tr>\n",
       "      <th>standard</th>\n",
       "      <td>151</td>\n",
       "    </tr>\n",
       "    <tr>\n",
       "      <th>Knowledge</th>\n",
       "      <td>16</td>\n",
       "    </tr>\n",
       "    <tr>\n",
       "      <th>Private</th>\n",
       "      <td>11</td>\n",
       "    </tr>\n",
       "    <tr>\n",
       "      <th>Swag</th>\n",
       "      <td>9</td>\n",
       "    </tr>\n",
       "    <tr>\n",
       "      <th>Jobs</th>\n",
       "      <td>9</td>\n",
       "    </tr>\n",
       "    <tr>\n",
       "      <th>Kudos</th>\n",
       "      <td>3</td>\n",
       "    </tr>\n",
       "  </tbody>\n",
       "</table>\n",
       "</div>"
      ],
      "text/plain": [
       "           competition_type\n",
       "standard                151\n",
       "Knowledge                16\n",
       "Private                  11\n",
       "Swag                      9\n",
       "Jobs                      9\n",
       "Kudos                     3"
      ]
     },
     "execution_count": 7,
     "metadata": {},
     "output_type": "execute_result"
    }
   ],
   "source": [
    "competitions.competition_type.value_counts().to_frame()"
   ]
  },
  {
   "cell_type": "code",
   "execution_count": 8,
   "metadata": {},
   "outputs": [
    {
     "data": {
      "text/plain": [
       "<matplotlib.axes._subplots.AxesSubplot at 0x10c2eb9d0>"
      ]
     },
     "execution_count": 8,
     "metadata": {},
     "output_type": "execute_result"
    },
    {
     "data": {
      "image/png": "[encoded data removed]",
      "text/plain": [
       "<matplotlib.figure.Figure at 0x10c295210>"
      ]
     },
     "metadata": {},
     "output_type": "display_data"
    }
   ],
   "source": [
    "competitions.number_of_teams.plot.hist(title='Distribution of # of competitor(s) per competition')"
   ]
  },
  {
   "cell_type": "markdown",
   "metadata": {},
   "source": [
    "## Teams"
   ]
  },
  {
   "cell_type": "code",
   "execution_count": 83,
   "metadata": {},
   "outputs": [
    {
     "data": {
      "text/plain": [
       "75679"
      ]
     },
     "execution_count": 83,
     "metadata": {},
     "output_type": "execute_result"
    }
   ],
   "source": [
    "# How many members in all competitions?\n",
    "team_members = pd.read_csv('teams.csv')\n",
    "team_members.shape[0]"
   ]
  },
  {
   "cell_type": "code",
   "execution_count": 84,
   "metadata": {},
   "outputs": [
    {
     "data": {
      "text/html": [
       "<div>\n",
       "<table border=\"1\" class=\"dataframe\">\n",
       "  <thead>\n",
       "    <tr style=\"text-align: right;\">\n",
       "      <th></th>\n",
       "      <th>competition_name</th>\n",
       "      <th>team_type</th>\n",
       "      <th>team_place</th>\n",
       "      <th>team_name</th>\n",
       "      <th>member_name</th>\n",
       "      <th>member_url</th>\n",
       "    </tr>\n",
       "  </thead>\n",
       "  <tbody>\n",
       "    <tr>\n",
       "      <th>0</th>\n",
       "      <td>Heritage Health Prize</td>\n",
       "      <td>team-link team-player</td>\n",
       "      <td>1</td>\n",
       "      <td>POWERDOT</td>\n",
       "      <td>David Vogel</td>\n",
       "      <td>/dvmodeler</td>\n",
       "    </tr>\n",
       "    <tr>\n",
       "      <th>1</th>\n",
       "      <td>Heritage Health Prize</td>\n",
       "      <td>team-link team-player</td>\n",
       "      <td>1</td>\n",
       "      <td>POWERDOT</td>\n",
       "      <td>Sali Mali</td>\n",
       "      <td>/salimali</td>\n",
       "    </tr>\n",
       "    <tr>\n",
       "      <th>2</th>\n",
       "      <td>Heritage Health Prize</td>\n",
       "      <td>team-link team-player</td>\n",
       "      <td>1</td>\n",
       "      <td>POWERDOT</td>\n",
       "      <td>Randy</td>\n",
       "      <td>/users/10634/randy</td>\n",
       "    </tr>\n",
       "    <tr>\n",
       "      <th>3</th>\n",
       "      <td>Heritage Health Prize</td>\n",
       "      <td>team-link team-player</td>\n",
       "      <td>1</td>\n",
       "      <td>POWERDOT</td>\n",
       "      <td>Edward</td>\n",
       "      <td>/users/6395/edward</td>\n",
       "    </tr>\n",
       "    <tr>\n",
       "      <th>4</th>\n",
       "      <td>Heritage Health Prize</td>\n",
       "      <td>team-link team-player</td>\n",
       "      <td>1</td>\n",
       "      <td>POWERDOT</td>\n",
       "      <td>Willem Mestrom</td>\n",
       "      <td>/wmestrom</td>\n",
       "    </tr>\n",
       "  </tbody>\n",
       "</table>\n",
       "</div>"
      ],
      "text/plain": [
       "        competition_name              team_type  team_place team_name  \\\n",
       "0  Heritage Health Prize  team-link team-player           1  POWERDOT   \n",
       "1  Heritage Health Prize  team-link team-player           1  POWERDOT   \n",
       "2  Heritage Health Prize  team-link team-player           1  POWERDOT   \n",
       "3  Heritage Health Prize  team-link team-player           1  POWERDOT   \n",
       "4  Heritage Health Prize  team-link team-player           1  POWERDOT   \n",
       "\n",
       "      member_name          member_url  \n",
       "0     David Vogel          /dvmodeler  \n",
       "1       Sali Mali           /salimali  \n",
       "2           Randy  /users/10634/randy  \n",
       "3          Edward  /users/6395/edward  \n",
       "4  Willem Mestrom           /wmestrom  "
      ]
     },
     "execution_count": 84,
     "metadata": {},
     "output_type": "execute_result"
    }
   ],
   "source": [
    "team_members[:5]"
   ]
  },
  {
   "cell_type": "code",
   "execution_count": 85,
   "metadata": {},
   "outputs": [
    {
     "data": {
      "text/plain": [
       "team-link single-player    60538\n",
       "team-link team-player      14998\n",
       "anonymous-type               143\n",
       "Name: team_type, dtype: int64"
      ]
     },
     "execution_count": 85,
     "metadata": {},
     "output_type": "execute_result"
    }
   ],
   "source": [
    "# How many teams by type?\n",
    "team_members.team_type.value_counts()"
   ]
  },
  {
   "cell_type": "code",
   "execution_count": 24,
   "metadata": {
    "scrolled": false
   },
   "outputs": [
    {
     "data": {
      "text/plain": [
       "14998"
      ]
     },
     "execution_count": 24,
     "metadata": {},
     "output_type": "execute_result"
    }
   ],
   "source": [
    "# How many members were on teams ?\n",
    "teams = team_members[team_members.team_type == 'team-link team-player']\n",
    "teams.shape[0]"
   ]
  },
  {
   "cell_type": "code",
   "execution_count": null,
   "metadata": {
    "collapsed": true
   },
   "outputs": [],
   "source": [
    "#ts = team_members.groupby('member_url')"
   ]
  },
  {
   "cell_type": "code",
   "execution_count": 50,
   "metadata": {},
   "outputs": [
    {
     "data": {
      "text/html": [
       "<div>\n",
       "<table border=\"1\" class=\"dataframe\">\n",
       "  <thead>\n",
       "    <tr style=\"text-align: right;\">\n",
       "      <th></th>\n",
       "      <th></th>\n",
       "      <th>member_count</th>\n",
       "    </tr>\n",
       "    <tr>\n",
       "      <th>competition_name</th>\n",
       "      <th>team_name</th>\n",
       "      <th></th>\n",
       "    </tr>\n",
       "  </thead>\n",
       "  <tbody>\n",
       "    <tr>\n",
       "      <th rowspan=\"5\" valign=\"top\">AMS 2013-2014 Solar Energy Prediction Contest</th>\n",
       "      <th>1907 Chicago Cubs</th>\n",
       "      <td>3</td>\n",
       "    </tr>\n",
       "    <tr>\n",
       "      <th>BS Man &amp; Paul Duan</th>\n",
       "      <td>2</td>\n",
       "    </tr>\n",
       "    <tr>\n",
       "      <th>Carma Pack</th>\n",
       "      <td>2</td>\n",
       "    </tr>\n",
       "    <tr>\n",
       "      <th>Chocolate Moose</th>\n",
       "      <td>4</td>\n",
       "    </tr>\n",
       "    <tr>\n",
       "      <th>Cyberport</th>\n",
       "      <td>3</td>\n",
       "    </tr>\n",
       "  </tbody>\n",
       "</table>\n",
       "</div>"
      ],
      "text/plain": [
       "                                                                  member_count\n",
       "competition_name                              team_name                       \n",
       "AMS 2013-2014 Solar Energy Prediction Contest 1907 Chicago Cubs              3\n",
       "                                              BS Man & Paul Duan             2\n",
       "                                              Carma Pack                     2\n",
       "                                              Chocolate Moose                4\n",
       "                                              Cyberport                      3"
      ]
     },
     "execution_count": 50,
     "metadata": {},
     "output_type": "execute_result"
    }
   ],
   "source": [
    "\n",
    "member_count = teams.groupby(['competition_name','team_name']).count().team_type.to_frame()\n",
    "member_count.columns = ['member_count']\n",
    "member_count[:5]"
   ]
  },
  {
   "cell_type": "code",
   "execution_count": 89,
   "metadata": {},
   "outputs": [
    {
     "data": {
      "text/plain": [
       "0"
      ]
     },
     "execution_count": 89,
     "metadata": {},
     "output_type": "execute_result"
    }
   ],
   "source": [
    "# There are times when there are more than one team with the same name in the same competition\n",
    "# but that only happens once for a team of type 'single-player'\n",
    "# I did check that 'single-player' teams are in fact always single member\n",
    "# and that 'team-player' teams always have more than one member\n",
    "(member_count.member_count < 2).sum()"
   ]
  },
  {
   "cell_type": "code",
   "execution_count": 65,
   "metadata": {},
   "outputs": [
    {
     "data": {
      "text/html": [
       "<div>\n",
       "<table border=\"1\" class=\"dataframe\">\n",
       "  <thead>\n",
       "    <tr style=\"text-align: right;\">\n",
       "      <th></th>\n",
       "      <th>member_count</th>\n",
       "    </tr>\n",
       "  </thead>\n",
       "  <tbody>\n",
       "    <tr>\n",
       "      <th>2</th>\n",
       "      <td>3436</td>\n",
       "    </tr>\n",
       "    <tr>\n",
       "      <th>3</th>\n",
       "      <td>1205</td>\n",
       "    </tr>\n",
       "    <tr>\n",
       "      <th>4</th>\n",
       "      <td>483</td>\n",
       "    </tr>\n",
       "    <tr>\n",
       "      <th>5</th>\n",
       "      <td>193</td>\n",
       "    </tr>\n",
       "    <tr>\n",
       "      <th>6</th>\n",
       "      <td>92</td>\n",
       "    </tr>\n",
       "    <tr>\n",
       "      <th>7</th>\n",
       "      <td>37</td>\n",
       "    </tr>\n",
       "    <tr>\n",
       "      <th>8</th>\n",
       "      <td>19</td>\n",
       "    </tr>\n",
       "    <tr>\n",
       "      <th>9</th>\n",
       "      <td>7</td>\n",
       "    </tr>\n",
       "    <tr>\n",
       "      <th>10</th>\n",
       "      <td>9</td>\n",
       "    </tr>\n",
       "    <tr>\n",
       "      <th>11</th>\n",
       "      <td>9</td>\n",
       "    </tr>\n",
       "    <tr>\n",
       "      <th>12</th>\n",
       "      <td>5</td>\n",
       "    </tr>\n",
       "    <tr>\n",
       "      <th>13</th>\n",
       "      <td>3</td>\n",
       "    </tr>\n",
       "    <tr>\n",
       "      <th>14</th>\n",
       "      <td>1</td>\n",
       "    </tr>\n",
       "    <tr>\n",
       "      <th>15</th>\n",
       "      <td>2</td>\n",
       "    </tr>\n",
       "    <tr>\n",
       "      <th>16</th>\n",
       "      <td>1</td>\n",
       "    </tr>\n",
       "    <tr>\n",
       "      <th>18</th>\n",
       "      <td>2</td>\n",
       "    </tr>\n",
       "    <tr>\n",
       "      <th>22</th>\n",
       "      <td>2</td>\n",
       "    </tr>\n",
       "    <tr>\n",
       "      <th>23</th>\n",
       "      <td>2</td>\n",
       "    </tr>\n",
       "    <tr>\n",
       "      <th>24</th>\n",
       "      <td>3</td>\n",
       "    </tr>\n",
       "    <tr>\n",
       "      <th>40</th>\n",
       "      <td>1</td>\n",
       "    </tr>\n",
       "  </tbody>\n",
       "</table>\n",
       "</div>"
      ],
      "text/plain": [
       "    member_count\n",
       "2           3436\n",
       "3           1205\n",
       "4            483\n",
       "5            193\n",
       "6             92\n",
       "7             37\n",
       "8             19\n",
       "9              7\n",
       "10             9\n",
       "11             9\n",
       "12             5\n",
       "13             3\n",
       "14             1\n",
       "15             2\n",
       "16             1\n",
       "18             2\n",
       "22             2\n",
       "23             2\n",
       "24             3\n",
       "40             1"
      ]
     },
     "execution_count": 65,
     "metadata": {},
     "output_type": "execute_result"
    }
   ],
   "source": [
    "member_count.member_count.value_counts().sort_index().to_frame()"
   ]
  },
  {
   "cell_type": "code",
   "execution_count": 64,
   "metadata": {},
   "outputs": [
    {
     "data": {
      "text/plain": [
       "<matplotlib.axes._subplots.AxesSubplot at 0x11007ba50>"
      ]
     },
     "execution_count": 64,
     "metadata": {},
     "output_type": "execute_result"
    },
    {
     "data": {
      "image/png": "[encoded data removed]",
      "text/plain": [
       "<matplotlib.figure.Figure at 0x110537310>"
      ]
     },
     "metadata": {},
     "output_type": "display_data"
    }
   ],
   "source": [
    "member_count.member_count.value_counts().sort_index().plot.bar()"
   ]
  },
  {
   "cell_type": "code",
   "execution_count": 51,
   "metadata": {},
   "outputs": [
    {
     "data": {
      "text/plain": [
       "37580"
      ]
     },
     "execution_count": 51,
     "metadata": {},
     "output_type": "execute_result"
    }
   ],
   "source": [
    "# Number of unique members over all competitions\n",
    "len(team_members.member_url.unique())"
   ]
  },
  {
   "cell_type": "code",
   "execution_count": 52,
   "metadata": {},
   "outputs": [
    {
     "data": {
      "text/plain": [
       "11213"
      ]
     },
     "execution_count": 52,
     "metadata": {},
     "output_type": "execute_result"
    }
   ],
   "source": [
    "# Number of unique team members over all compatitions\n",
    "teams.member_url.unique().shape[0]"
   ]
  },
  {
   "cell_type": "code",
   "execution_count": 53,
   "metadata": {},
   "outputs": [
    {
     "data": {
      "text/plain": [
       "10948"
      ]
     },
     "execution_count": 53,
     "metadata": {},
     "output_type": "execute_result"
    }
   ],
   "source": [
    "# Using N different team names\n",
    "teams.member_name.unique().shape[0]"
   ]
  },
  {
   "cell_type": "code",
   "execution_count": null,
   "metadata": {
    "collapsed": true
   },
   "outputs": [],
   "source": [
    "# Of which N were active in the last year\n"
   ]
  },
  {
   "cell_type": "code",
   "execution_count": 67,
   "metadata": {},
   "outputs": [
    {
     "data": {
      "text/html": [
       "<div>\n",
       "<table border=\"1\" class=\"dataframe\">\n",
       "  <thead>\n",
       "    <tr style=\"text-align: right;\">\n",
       "      <th></th>\n",
       "      <th>team_counts</th>\n",
       "    </tr>\n",
       "    <tr>\n",
       "      <th>competition_name</th>\n",
       "      <th></th>\n",
       "    </tr>\n",
       "  </thead>\n",
       "  <tbody>\n",
       "    <tr>\n",
       "      <th>Rossmann Store Sales</th>\n",
       "      <td>267</td>\n",
       "    </tr>\n",
       "    <tr>\n",
       "      <th>Otto Group Product Classification Challenge</th>\n",
       "      <td>227</td>\n",
       "    </tr>\n",
       "    <tr>\n",
       "      <th>Driver Telematics Analysis</th>\n",
       "      <td>186</td>\n",
       "    </tr>\n",
       "    <tr>\n",
       "      <th>Springleaf Marketing Response</th>\n",
       "      <td>165</td>\n",
       "    </tr>\n",
       "    <tr>\n",
       "      <th>Heritage Health Prize</th>\n",
       "      <td>160</td>\n",
       "    </tr>\n",
       "    <tr>\n",
       "      <th>Click-Through Rate Prediction</th>\n",
       "      <td>157</td>\n",
       "    </tr>\n",
       "    <tr>\n",
       "      <th>Allstate Purchase Prediction Challenge</th>\n",
       "      <td>152</td>\n",
       "    </tr>\n",
       "    <tr>\n",
       "      <th>Restaurant Revenue Prediction</th>\n",
       "      <td>141</td>\n",
       "    </tr>\n",
       "    <tr>\n",
       "      <th>National Data Science Bowl</th>\n",
       "      <td>134</td>\n",
       "    </tr>\n",
       "    <tr>\n",
       "      <th>Higgs Boson Machine Learning Challenge</th>\n",
       "      <td>121</td>\n",
       "    </tr>\n",
       "  </tbody>\n",
       "</table>\n",
       "</div>"
      ],
      "text/plain": [
       "                                             team_counts\n",
       "competition_name                                        \n",
       "Rossmann Store Sales                                 267\n",
       "Otto Group Product Classification Challenge          227\n",
       "Driver Telematics Analysis                           186\n",
       "Springleaf Marketing Response                        165\n",
       "Heritage Health Prize                                160\n",
       "Click-Through Rate Prediction                        157\n",
       "Allstate Purchase Prediction Challenge               152\n",
       "Restaurant Revenue Prediction                        141\n",
       "National Data Science Bowl                           134\n",
       "Higgs Boson Machine Learning Challenge               121"
      ]
     },
     "execution_count": 67,
     "metadata": {},
     "output_type": "execute_result"
    }
   ],
   "source": [
    "# Which competitions had the most teams?\n",
    "team_counts = member_count.reset_index().groupby('competition_name').count().team_name.to_frame().sort_values(by='team_name', ascending=False)\n",
    "team_counts.columns = ['team_counts']\n",
    "team_counts[:10]"
   ]
  },
  {
   "cell_type": "code",
   "execution_count": 69,
   "metadata": {},
   "outputs": [
    {
     "data": {
      "text/plain": [
       "133"
      ]
     },
     "execution_count": 69,
     "metadata": {},
     "output_type": "execute_result"
    }
   ],
   "source": [
    "# How many competitions had teams?\n",
    "team_counts.shape[0]"
   ]
  },
  {
   "cell_type": "code",
   "execution_count": null,
   "metadata": {
    "collapsed": true
   },
   "outputs": [],
   "source": [
    "# Which team name won the most competitions?\n"
   ]
  },
  {
   "cell_type": "code",
   "execution_count": null,
   "metadata": {
    "collapsed": true
   },
   "outputs": [],
   "source": [
    "# Which team came in the top ten the most?\n"
   ]
  },
  {
   "cell_type": "code",
   "execution_count": null,
   "metadata": {
    "collapsed": true
   },
   "outputs": [],
   "source": [
    "# Which team members won the most when on a team?\n"
   ]
  },
  {
   "cell_type": "markdown",
   "metadata": {},
   "source": [
    "### Which are the largest teams?"
   ]
  },
  {
   "cell_type": "code",
   "execution_count": 224,
   "metadata": {},
   "outputs": [
    {
     "data": {
      "text/html": [
       "<div>\n",
       "<table border=\"1\" class=\"dataframe\">\n",
       "  <thead>\n",
       "    <tr style=\"text-align: right;\">\n",
       "      <th></th>\n",
       "      <th></th>\n",
       "      <th>num_members</th>\n",
       "    </tr>\n",
       "    <tr>\n",
       "      <th>competition_name</th>\n",
       "      <th>team_name</th>\n",
       "      <th></th>\n",
       "    </tr>\n",
       "  </thead>\n",
       "  <tbody>\n",
       "    <tr>\n",
       "      <th>Algorithmic Trading Challenge</th>\n",
       "      <th>Concrete Narwhal</th>\n",
       "      <td>40</td>\n",
       "    </tr>\n",
       "    <tr>\n",
       "      <th>KDD Cup 2013 - Author Disambiguation Challenge (Track 2)</th>\n",
       "      <th>Algorithm @ National Taiwan University</th>\n",
       "      <td>24</td>\n",
       "    </tr>\n",
       "    <tr>\n",
       "      <th>Loan Default Prediction - Imperial College London</th>\n",
       "      <th>Delicious Food</th>\n",
       "      <td>24</td>\n",
       "    </tr>\n",
       "    <tr>\n",
       "      <th>KDD Cup 2013 - Author-Paper Identification Challenge (Track 1)</th>\n",
       "      <th>Algorithm @ National Taiwan University</th>\n",
       "      <td>24</td>\n",
       "    </tr>\n",
       "    <tr>\n",
       "      <th>KDD Cup 2012, Track 1</th>\n",
       "      <th>Catch up</th>\n",
       "      <td>23</td>\n",
       "    </tr>\n",
       "    <tr>\n",
       "      <th>KDD Cup 2012, Track 2</th>\n",
       "      <th>Catch up @ National Taiwan University</th>\n",
       "      <td>23</td>\n",
       "    </tr>\n",
       "    <tr>\n",
       "      <th>CONNECTOMICS</th>\n",
       "      <th>Harvard Stat 183</th>\n",
       "      <td>22</td>\n",
       "    </tr>\n",
       "    <tr>\n",
       "      <th>Acquire Valued Shoppers Challenge</th>\n",
       "      <th>Delicious Food</th>\n",
       "      <td>22</td>\n",
       "    </tr>\n",
       "    <tr>\n",
       "      <th>Caterpillar Tube Pricing</th>\n",
       "      <th>PointSeerPH</th>\n",
       "      <td>18</td>\n",
       "    </tr>\n",
       "    <tr>\n",
       "      <th>Amazon.com - Employee Access Challenge</th>\n",
       "      <th>ULjubljana</th>\n",
       "      <td>18</td>\n",
       "    </tr>\n",
       "  </tbody>\n",
       "</table>\n",
       "</div>"
      ],
      "text/plain": [
       "                                                                                           num_members\n",
       "competition_name                                   team_name                                          \n",
       "Algorithmic Trading Challenge                      Concrete Narwhal                                 40\n",
       "KDD Cup 2013 - Author Disambiguation Challenge ... Algorithm @ National Taiwan University           24\n",
       "Loan Default Prediction - Imperial College London  Delicious Food                                   24\n",
       "KDD Cup 2013 - Author-Paper Identification Chal... Algorithm @ National Taiwan University           24\n",
       "KDD Cup 2012, Track 1                              Catch up                                         23\n",
       "KDD Cup 2012, Track 2                              Catch up @ National Taiwan University            23\n",
       "CONNECTOMICS                                       Harvard Stat 183                                 22\n",
       "Acquire Valued Shoppers Challenge                  Delicious Food                                   22\n",
       "Caterpillar Tube Pricing                           PointSeerPH                                      18\n",
       "Amazon.com - Employee Access Challenge             ULjubljana                                       18"
      ]
     },
     "execution_count": 224,
     "metadata": {},
     "output_type": "execute_result"
    }
   ],
   "source": [
    "teams_size = teams.groupby(['competition_name','team_name']).count()\n",
    "teams_size = teams_size.member_name.sort_values(ascending=False).to_frame()\n",
    "teams_size.columns = ['num_members']\n",
    "teams_size[:10]"
   ]
  },
  {
   "cell_type": "markdown",
   "metadata": {},
   "source": [
    "### Who has teamed up the most ?"
   ]
  },
  {
   "cell_type": "code",
   "execution_count": 222,
   "metadata": {},
   "outputs": [
    {
     "data": {
      "text/html": [
       "<div>\n",
       "<table border=\"1\" class=\"dataframe\">\n",
       "  <thead>\n",
       "    <tr style=\"text-align: right;\">\n",
       "      <th></th>\n",
       "      <th>num_teams</th>\n",
       "    </tr>\n",
       "    <tr>\n",
       "      <th>member_url</th>\n",
       "      <th></th>\n",
       "    </tr>\n",
       "  </thead>\n",
       "  <tbody>\n",
       "    <tr>\n",
       "      <th>/jiweiliu</th>\n",
       "      <td>34</td>\n",
       "    </tr>\n",
       "    <tr>\n",
       "      <th>/kazanova</th>\n",
       "      <td>32</td>\n",
       "    </tr>\n",
       "    <tr>\n",
       "      <th>/konradb</th>\n",
       "      <td>29</td>\n",
       "    </tr>\n",
       "    <tr>\n",
       "      <th>/abhishek</th>\n",
       "      <td>28</td>\n",
       "    </tr>\n",
       "    <tr>\n",
       "      <th>/xueerchen</th>\n",
       "      <td>27</td>\n",
       "    </tr>\n",
       "    <tr>\n",
       "      <th>/leustagos</th>\n",
       "      <td>26</td>\n",
       "    </tr>\n",
       "    <tr>\n",
       "      <th>/mlandry</th>\n",
       "      <td>24</td>\n",
       "    </tr>\n",
       "    <tr>\n",
       "      <th>/titericz</th>\n",
       "      <td>22</td>\n",
       "    </tr>\n",
       "    <tr>\n",
       "      <th>/thakurrajanand</th>\n",
       "      <td>22</td>\n",
       "    </tr>\n",
       "    <tr>\n",
       "      <th>/sudalairajkumar</th>\n",
       "      <td>20</td>\n",
       "    </tr>\n",
       "  </tbody>\n",
       "</table>\n",
       "</div>"
      ],
      "text/plain": [
       "                  num_teams\n",
       "member_url                 \n",
       "/jiweiliu                34\n",
       "/kazanova                32\n",
       "/konradb                 29\n",
       "/abhishek                28\n",
       "/xueerchen               27\n",
       "/leustagos               26\n",
       "/mlandry                 24\n",
       "/titericz                22\n",
       "/thakurrajanand          22\n",
       "/sudalairajkumar         20"
      ]
     },
     "execution_count": 222,
     "metadata": {},
     "output_type": "execute_result"
    }
   ],
   "source": [
    "num_teams = teams.groupby('member_url').count()\n",
    "num_teams = num_teams.member_name.sort_values(ascending=False).to_frame()\n",
    "num_teams.columns = ['num_teams']\n",
    "num_teams[:10]"
   ]
  },
  {
   "cell_type": "code",
   "execution_count": 105,
   "metadata": {},
   "outputs": [],
   "source": [
    "# do members change their name?\n",
    "# teams.groupby(['member_url','member_name']).?"
   ]
  },
  {
   "cell_type": "markdown",
   "metadata": {},
   "source": [
    "### Who has teamed up with the most (distinct) people ?"
   ]
  },
  {
   "cell_type": "code",
   "execution_count": 134,
   "metadata": {},
   "outputs": [],
   "source": [
    "ttr = pd.DataFrame({'count' : team_members.groupby(['competition_name','team_name']).size()}).reset_index()"
   ]
  },
  {
   "cell_type": "code",
   "execution_count": 145,
   "metadata": {},
   "outputs": [
    {
     "data": {
      "text/html": [
       "<div>\n",
       "<table border=\"1\" class=\"dataframe\">\n",
       "  <thead>\n",
       "    <tr style=\"text-align: right;\">\n",
       "      <th></th>\n",
       "      <th></th>\n",
       "      <th></th>\n",
       "      <th>team_type</th>\n",
       "      <th>member_name</th>\n",
       "      <th>member_url</th>\n",
       "    </tr>\n",
       "    <tr>\n",
       "      <th>competition_name</th>\n",
       "      <th>team_name</th>\n",
       "      <th>team_place</th>\n",
       "      <th></th>\n",
       "      <th></th>\n",
       "      <th></th>\n",
       "    </tr>\n",
       "  </thead>\n",
       "  <tbody>\n",
       "    <tr>\n",
       "      <th rowspan=\"10\" valign=\"top\">Heritage Health Prize</th>\n",
       "      <th rowspan=\"7\" valign=\"top\">POWERDOT</th>\n",
       "      <th>1</th>\n",
       "      <td>team-link team-player</td>\n",
       "      <td>David Vogel</td>\n",
       "      <td>/dvmodeler</td>\n",
       "    </tr>\n",
       "    <tr>\n",
       "      <th>1</th>\n",
       "      <td>team-link team-player</td>\n",
       "      <td>Sali Mali</td>\n",
       "      <td>/salimali</td>\n",
       "    </tr>\n",
       "    <tr>\n",
       "      <th>1</th>\n",
       "      <td>team-link team-player</td>\n",
       "      <td>Randy</td>\n",
       "      <td>/users/10634/randy</td>\n",
       "    </tr>\n",
       "    <tr>\n",
       "      <th>1</th>\n",
       "      <td>team-link team-player</td>\n",
       "      <td>Edward</td>\n",
       "      <td>/users/6395/edward</td>\n",
       "    </tr>\n",
       "    <tr>\n",
       "      <th>1</th>\n",
       "      <td>team-link team-player</td>\n",
       "      <td>Willem Mestrom</td>\n",
       "      <td>/wmestrom</td>\n",
       "    </tr>\n",
       "    <tr>\n",
       "      <th>1</th>\n",
       "      <td>team-link team-player</td>\n",
       "      <td>infty</td>\n",
       "      <td>/users/36878/infty</td>\n",
       "    </tr>\n",
       "    <tr>\n",
       "      <th>1</th>\n",
       "      <td>team-link team-player</td>\n",
       "      <td>random modeler</td>\n",
       "      <td>/users/36885/random-modeler</td>\n",
       "    </tr>\n",
       "    <tr>\n",
       "      <th rowspan=\"3\" valign=\"top\">EXL Analytics</th>\n",
       "      <th>2</th>\n",
       "      <td>team-link team-player</td>\n",
       "      <td>Sassoon Kosian</td>\n",
       "      <td>/users/11687/sassoon-kosian</td>\n",
       "    </tr>\n",
       "    <tr>\n",
       "      <th>2</th>\n",
       "      <td>team-link team-player</td>\n",
       "      <td>DanB</td>\n",
       "      <td>/dansbecker</td>\n",
       "    </tr>\n",
       "    <tr>\n",
       "      <th>2</th>\n",
       "      <td>team-link team-player</td>\n",
       "      <td>B Yang</td>\n",
       "      <td>/byang1</td>\n",
       "    </tr>\n",
       "  </tbody>\n",
       "</table>\n",
       "</div>"
      ],
      "text/plain": [
       "                                                            team_type  \\\n",
       "competition_name      team_name     team_place                          \n",
       "Heritage Health Prize POWERDOT      1           team-link team-player   \n",
       "                                    1           team-link team-player   \n",
       "                                    1           team-link team-player   \n",
       "                                    1           team-link team-player   \n",
       "                                    1           team-link team-player   \n",
       "                                    1           team-link team-player   \n",
       "                                    1           team-link team-player   \n",
       "                      EXL Analytics 2           team-link team-player   \n",
       "                                    2           team-link team-player   \n",
       "                                    2           team-link team-player   \n",
       "\n",
       "                                                   member_name  \\\n",
       "competition_name      team_name     team_place                   \n",
       "Heritage Health Prize POWERDOT      1              David Vogel   \n",
       "                                    1                Sali Mali   \n",
       "                                    1                    Randy   \n",
       "                                    1                   Edward   \n",
       "                                    1           Willem Mestrom   \n",
       "                                    1                    infty   \n",
       "                                    1           random modeler   \n",
       "                      EXL Analytics 2           Sassoon Kosian   \n",
       "                                    2                     DanB   \n",
       "                                    2                   B Yang   \n",
       "\n",
       "                                                                 member_url  \n",
       "competition_name      team_name     team_place                               \n",
       "Heritage Health Prize POWERDOT      1                            /dvmodeler  \n",
       "                                    1                             /salimali  \n",
       "                                    1                    /users/10634/randy  \n",
       "                                    1                    /users/6395/edward  \n",
       "                                    1                             /wmestrom  \n",
       "                                    1                    /users/36878/infty  \n",
       "                                    1           /users/36885/random-modeler  \n",
       "                      EXL Analytics 2           /users/11687/sassoon-kosian  \n",
       "                                    2                           /dansbecker  \n",
       "                                    2                               /byang1  "
      ]
     },
     "execution_count": 145,
     "metadata": {},
     "output_type": "execute_result"
    }
   ],
   "source": [
    "ttr = team_members.copy()\n",
    "ttr.set_index(['competition_name','team_name','team_place','team_type'], inplace=True)\n",
    "ttr.reset_index(level=3, inplace=True)\n",
    "ttr.iloc[:10]"
   ]
  },
  {
   "cell_type": "code",
   "execution_count": 184,
   "metadata": {},
   "outputs": [
    {
     "data": {
      "text/plain": [
       "'1.9.1'"
      ]
     },
     "execution_count": 184,
     "metadata": {},
     "output_type": "execute_result"
    }
   ],
   "source": [
    "import networkx as nx\n",
    "from itertools import combinations\n",
    "nx.__version__"
   ]
  },
  {
   "cell_type": "code",
   "execution_count": 280,
   "metadata": {},
   "outputs": [],
   "source": [
    "# TODO: really should use team_url as a unique key, not team_name, to create the graph.\n",
    "# I'm sure we can do this with apply\n",
    "G=nx.Graph()\n",
    "for name, group in teams.groupby(['competition_name','team_name']):\n",
    "    G.add_edges_from(list(combinations(list(group.member_name), 2)))"
   ]
  },
  {
   "cell_type": "code",
   "execution_count": 281,
   "metadata": {},
   "outputs": [
    {
     "data": {
      "text/plain": [
       "10946"
      ]
     },
     "execution_count": 281,
     "metadata": {},
     "output_type": "execute_result"
    }
   ],
   "source": [
    " G.number_of_nodes()"
   ]
  },
  {
   "cell_type": "code",
   "execution_count": 282,
   "metadata": {},
   "outputs": [
    {
     "data": {
      "text/plain": [
       "16659"
      ]
     },
     "execution_count": 282,
     "metadata": {},
     "output_type": "execute_result"
    }
   ],
   "source": [
    "G.number_of_edges()"
   ]
  },
  {
   "cell_type": "code",
   "execution_count": 283,
   "metadata": {},
   "outputs": [],
   "source": [
    "member_degree = pd.DataFrame(columns=['degree'], index=nx.degree(G).keys())\n",
    "member_degree.degree = nx.degree(G).values()"
   ]
  },
  {
   "cell_type": "code",
   "execution_count": 284,
   "metadata": {},
   "outputs": [
    {
     "data": {
      "text/html": [
       "<div>\n",
       "<table border=\"1\" class=\"dataframe\">\n",
       "  <thead>\n",
       "    <tr style=\"text-align: right;\">\n",
       "      <th></th>\n",
       "      <th>degree</th>\n",
       "    </tr>\n",
       "  </thead>\n",
       "  <tbody>\n",
       "    <tr>\n",
       "      <th>Mariahbarrio</th>\n",
       "      <td>49</td>\n",
       "    </tr>\n",
       "    <tr>\n",
       "      <th>JMY!!</th>\n",
       "      <td>45</td>\n",
       "    </tr>\n",
       "    <tr>\n",
       "      <th>SYY</th>\n",
       "      <td>45</td>\n",
       "    </tr>\n",
       "    <tr>\n",
       "      <th>r44</th>\n",
       "      <td>45</td>\n",
       "    </tr>\n",
       "    <tr>\n",
       "      <th>Cristina</th>\n",
       "      <td>44</td>\n",
       "    </tr>\n",
       "    <tr>\n",
       "      <th>hypertext</th>\n",
       "      <td>43</td>\n",
       "    </tr>\n",
       "    <tr>\n",
       "      <th>BigOld</th>\n",
       "      <td>43</td>\n",
       "    </tr>\n",
       "    <tr>\n",
       "      <th>msla</th>\n",
       "      <td>43</td>\n",
       "    </tr>\n",
       "    <tr>\n",
       "      <th>Ankit_Arya</th>\n",
       "      <td>42</td>\n",
       "    </tr>\n",
       "    <tr>\n",
       "      <th>Sunny</th>\n",
       "      <td>40</td>\n",
       "    </tr>\n",
       "    <tr>\n",
       "      <th>UrfTheManatee</th>\n",
       "      <td>40</td>\n",
       "    </tr>\n",
       "    <tr>\n",
       "      <th>sbalajis</th>\n",
       "      <td>40</td>\n",
       "    </tr>\n",
       "    <tr>\n",
       "      <th>nikosf</th>\n",
       "      <td>39</td>\n",
       "    </tr>\n",
       "    <tr>\n",
       "      <th>snuderl</th>\n",
       "      <td>39</td>\n",
       "    </tr>\n",
       "    <tr>\n",
       "      <th>Luffy</th>\n",
       "      <td>39</td>\n",
       "    </tr>\n",
       "    <tr>\n",
       "      <th>Herbert</th>\n",
       "      <td>39</td>\n",
       "    </tr>\n",
       "    <tr>\n",
       "      <th>Primatebuddy</th>\n",
       "      <td>39</td>\n",
       "    </tr>\n",
       "    <tr>\n",
       "      <th>moana</th>\n",
       "      <td>39</td>\n",
       "    </tr>\n",
       "    <tr>\n",
       "      <th>jpollard</th>\n",
       "      <td>39</td>\n",
       "    </tr>\n",
       "    <tr>\n",
       "      <th>mahdiiix</th>\n",
       "      <td>39</td>\n",
       "    </tr>\n",
       "    <tr>\n",
       "      <th>Bogdan</th>\n",
       "      <td>39</td>\n",
       "    </tr>\n",
       "    <tr>\n",
       "      <th>Bull</th>\n",
       "      <td>39</td>\n",
       "    </tr>\n",
       "    <tr>\n",
       "      <th>seemsArtless</th>\n",
       "      <td>39</td>\n",
       "    </tr>\n",
       "    <tr>\n",
       "      <th>Abinaya</th>\n",
       "      <td>39</td>\n",
       "    </tr>\n",
       "    <tr>\n",
       "      <th>Younes</th>\n",
       "      <td>39</td>\n",
       "    </tr>\n",
       "    <tr>\n",
       "      <th>Sidd</th>\n",
       "      <td>39</td>\n",
       "    </tr>\n",
       "    <tr>\n",
       "      <th>ejohn</th>\n",
       "      <td>39</td>\n",
       "    </tr>\n",
       "    <tr>\n",
       "      <th>radq</th>\n",
       "      <td>39</td>\n",
       "    </tr>\n",
       "    <tr>\n",
       "      <th>AIBrisbane</th>\n",
       "      <td>39</td>\n",
       "    </tr>\n",
       "    <tr>\n",
       "      <th>udayj</th>\n",
       "      <td>39</td>\n",
       "    </tr>\n",
       "    <tr>\n",
       "      <th>...</th>\n",
       "      <td>...</td>\n",
       "    </tr>\n",
       "    <tr>\n",
       "      <th>danielzu</th>\n",
       "      <td>1</td>\n",
       "    </tr>\n",
       "    <tr>\n",
       "      <th>Emm Kay</th>\n",
       "      <td>1</td>\n",
       "    </tr>\n",
       "    <tr>\n",
       "      <th>Manu</th>\n",
       "      <td>1</td>\n",
       "    </tr>\n",
       "    <tr>\n",
       "      <th>Shantanu Pal</th>\n",
       "      <td>1</td>\n",
       "    </tr>\n",
       "    <tr>\n",
       "      <th>Kamil Dębowski</th>\n",
       "      <td>1</td>\n",
       "    </tr>\n",
       "    <tr>\n",
       "      <th>VovaTeleport</th>\n",
       "      <td>1</td>\n",
       "    </tr>\n",
       "    <tr>\n",
       "      <th>csapatnév</th>\n",
       "      <td>1</td>\n",
       "    </tr>\n",
       "    <tr>\n",
       "      <th>Clint Irvin</th>\n",
       "      <td>1</td>\n",
       "    </tr>\n",
       "    <tr>\n",
       "      <th>Madhu</th>\n",
       "      <td>1</td>\n",
       "    </tr>\n",
       "    <tr>\n",
       "      <th>Green Ensemble</th>\n",
       "      <td>1</td>\n",
       "    </tr>\n",
       "    <tr>\n",
       "      <th>Mojtaba</th>\n",
       "      <td>1</td>\n",
       "    </tr>\n",
       "    <tr>\n",
       "      <th>abishek_s</th>\n",
       "      <td>1</td>\n",
       "    </tr>\n",
       "    <tr>\n",
       "      <th>rjj940221</th>\n",
       "      <td>1</td>\n",
       "    </tr>\n",
       "    <tr>\n",
       "      <th>Abdel Lhm</th>\n",
       "      <td>1</td>\n",
       "    </tr>\n",
       "    <tr>\n",
       "      <th>☝</th>\n",
       "      <td>1</td>\n",
       "    </tr>\n",
       "    <tr>\n",
       "      <th>Sami Atiq</th>\n",
       "      <td>1</td>\n",
       "    </tr>\n",
       "    <tr>\n",
       "      <th>amrutskumar</th>\n",
       "      <td>1</td>\n",
       "    </tr>\n",
       "    <tr>\n",
       "      <th>Jonathan Scanlan</th>\n",
       "      <td>1</td>\n",
       "    </tr>\n",
       "    <tr>\n",
       "      <th>ALBERT</th>\n",
       "      <td>1</td>\n",
       "    </tr>\n",
       "    <tr>\n",
       "      <th>S. Gholami</th>\n",
       "      <td>1</td>\n",
       "    </tr>\n",
       "    <tr>\n",
       "      <th>corroy</th>\n",
       "      <td>1</td>\n",
       "    </tr>\n",
       "    <tr>\n",
       "      <th>Saturnina2000</th>\n",
       "      <td>1</td>\n",
       "    </tr>\n",
       "    <tr>\n",
       "      <th>musicmilif</th>\n",
       "      <td>1</td>\n",
       "    </tr>\n",
       "    <tr>\n",
       "      <th>anhgemus</th>\n",
       "      <td>1</td>\n",
       "    </tr>\n",
       "    <tr>\n",
       "      <th>GuillaumeBogdanovic</th>\n",
       "      <td>1</td>\n",
       "    </tr>\n",
       "    <tr>\n",
       "      <th>Z Rff</th>\n",
       "      <td>1</td>\n",
       "    </tr>\n",
       "    <tr>\n",
       "      <th>En-Shuo Hsu</th>\n",
       "      <td>1</td>\n",
       "    </tr>\n",
       "    <tr>\n",
       "      <th>grec</th>\n",
       "      <td>1</td>\n",
       "    </tr>\n",
       "    <tr>\n",
       "      <th>greg</th>\n",
       "      <td>1</td>\n",
       "    </tr>\n",
       "    <tr>\n",
       "      <th>anajuoh</th>\n",
       "      <td>1</td>\n",
       "    </tr>\n",
       "  </tbody>\n",
       "</table>\n",
       "<p>10946 rows × 1 columns</p>\n",
       "</div>"
      ],
      "text/plain": [
       "                     degree\n",
       "Mariahbarrio             49\n",
       "JMY!!                    45\n",
       "SYY                      45\n",
       "r44                      45\n",
       "Cristina                 44\n",
       "hypertext                43\n",
       "BigOld                   43\n",
       "msla                     43\n",
       "Ankit_Arya               42\n",
       "Sunny                    40\n",
       "UrfTheManatee            40\n",
       "sbalajis                 40\n",
       "nikosf                   39\n",
       "snuderl                  39\n",
       "Luffy                    39\n",
       "Herbert                  39\n",
       "Primatebuddy             39\n",
       "moana                    39\n",
       "jpollard                 39\n",
       "mahdiiix                 39\n",
       "Bogdan                   39\n",
       "Bull                     39\n",
       "seemsArtless             39\n",
       "Abinaya                  39\n",
       "Younes                   39\n",
       "Sidd                     39\n",
       "ejohn                    39\n",
       "radq                     39\n",
       "AIBrisbane               39\n",
       "udayj                    39\n",
       "...                     ...\n",
       "danielzu                  1\n",
       "Emm Kay                   1\n",
       "Manu                      1\n",
       "Shantanu Pal              1\n",
       "Kamil Dębowski            1\n",
       "VovaTeleport              1\n",
       "csapatnév                 1\n",
       "Clint Irvin               1\n",
       "Madhu                     1\n",
       "Green Ensemble            1\n",
       "Mojtaba                   1\n",
       "abishek_s                 1\n",
       "rjj940221                 1\n",
       "Abdel Lhm                 1\n",
       "☝                         1\n",
       "Sami Atiq                 1\n",
       "amrutskumar               1\n",
       "Jonathan Scanlan          1\n",
       "ALBERT                    1\n",
       "S. Gholami                1\n",
       "corroy                    1\n",
       "Saturnina2000             1\n",
       "musicmilif                1\n",
       "anhgemus                  1\n",
       "GuillaumeBogdanovic       1\n",
       "Z Rff                     1\n",
       "En-Shuo Hsu               1\n",
       "grec                      1\n",
       "greg                      1\n",
       "anajuoh                   1\n",
       "\n",
       "[10946 rows x 1 columns]"
      ]
     },
     "execution_count": 284,
     "metadata": {},
     "output_type": "execute_result"
    }
   ],
   "source": [
    "member_degree.degree.sort_values(ascending=False).to_frame()"
   ]
  },
  {
   "cell_type": "code",
   "execution_count": 249,
   "metadata": {},
   "outputs": [
    {
     "data": {
      "image/png": "[encoded data removed]",
      "text/plain": [
       "<matplotlib.figure.Figure at 0x1176bc090>"
      ]
     },
     "metadata": {},
     "output_type": "display_data"
    }
   ],
   "source": [
    "ax = plt.bar(list(range(len(nx.degree_histogram(G)))), nx.degree_histogram(G))\n",
    "plt.title('Degree Historgram')\n",
    "plt.show()"
   ]
  },
  {
   "cell_type": "code",
   "execution_count": 285,
   "metadata": {},
   "outputs": [
    {
     "data": {
      "text/plain": [
       "['Yousuf',\n",
       " 'pkamalaruban',\n",
       " 'Sunny',\n",
       " 'zhouxc',\n",
       " 'Vikram Jha',\n",
       " 'Olomana',\n",
       " 'sbalajis',\n",
       " 'argod',\n",
       " 'Sidd',\n",
       " 'dil_212000',\n",
       " 'Ankit_Arya',\n",
       " 'Burnrate',\n",
       " 'aiamateur',\n",
       " 'likethesky',\n",
       " 'mleclerc',\n",
       " 'wknb',\n",
       " 'octonion',\n",
       " 'Luffy',\n",
       " 'Bogdan',\n",
       " 'ejohn',\n",
       " 'Cristina',\n",
       " 'emantos',\n",
       " 'radq',\n",
       " 'Mansi',\n",
       " 'nikosf',\n",
       " 'Bull',\n",
       " 'Rohan',\n",
       " 'Sudip_Jerry',\n",
       " 'udayj',\n",
       " 'Herbert',\n",
       " 'Younes',\n",
       " 'Sourangsu',\n",
       " 'ritesh',\n",
       " 'dibsonmuad',\n",
       " 'UrfTheManatee',\n",
       " 'Noureldin',\n",
       " 'mtaylor',\n",
       " 'AIBrisbane',\n",
       " 'mahdiiix',\n",
       " 'Primatebuddy',\n",
       " 'teja',\n",
       " 'seemsArtless',\n",
       " 'moana',\n",
       " 'Jo-fai Chow',\n",
       " 'jpollard',\n",
       " 'Ivo Danihelka',\n",
       " 'mohit',\n",
       " 'Abinaya',\n",
       " 'snuderl']"
      ]
     },
     "execution_count": 285,
     "metadata": {},
     "output_type": "execute_result"
    }
   ],
   "source": [
    "G.neighbors('Mariahbarrio')"
   ]
  },
  {
   "cell_type": "code",
   "execution_count": 194,
   "metadata": {
    "collapsed": true
   },
   "outputs": [],
   "source": [
    "# mariahbarrio was on a large team of 40 members: https://www.kaggle.com/t/9021/concrete-narwhal"
   ]
  },
  {
   "cell_type": "code",
   "execution_count": 232,
   "metadata": {},
   "outputs": [
    {
     "data": {
      "text/plain": [
       "3392"
      ]
     },
     "execution_count": 232,
     "metadata": {},
     "output_type": "execute_result"
    }
   ],
   "source": [
    "len(list(nx.connected_components(G)))"
   ]
  },
  {
   "cell_type": "code",
   "execution_count": 234,
   "metadata": {},
   "outputs": [
    {
     "data": {
      "text/plain": [
       "11211"
      ]
     },
     "execution_count": 234,
     "metadata": {},
     "output_type": "execute_result"
    }
   ],
   "source": [
    "len(nx.clustering(G))"
   ]
  },
  {
   "cell_type": "code",
   "execution_count": 286,
   "metadata": {},
   "outputs": [
    {
     "data": {
      "text/plain": [
       "Mariahbarrio    0.004477\n",
       "r44             0.004111\n",
       "SYY             0.004111\n",
       "JMY!!           0.004111\n",
       "Cristina        0.004020\n",
       "dtype: float64"
      ]
     },
     "execution_count": 286,
     "metadata": {},
     "output_type": "execute_result"
    }
   ],
   "source": [
    "degree_centrality = pd.Series(nx.degree_centrality(G))\n",
    "degree_centrality.sort_values(ascending=False, inplace=True)\n",
    "degree_centrality[:5]"
   ]
  },
  {
   "cell_type": "code",
   "execution_count": 287,
   "metadata": {},
   "outputs": [
    {
     "data": {
      "text/plain": [
       "jpollard                      0.003563\n",
       "ejohn                         0.003563\n",
       "argod                         0.003563\n",
       "udayj                         0.003563\n",
       "Herbert                       0.003563\n",
       "Sidd                          0.003563\n",
       "pkamalaruban                  0.003563\n",
       "Abhishek                      0.003381\n",
       "Michael                       0.003289\n",
       "David                         0.002924\n",
       "SteveV                        0.002741\n",
       "Aleksej Jurca                 0.002741\n",
       "Jure Zbontar                  0.002650\n",
       "Shize Su                      0.002558\n",
       "cory.lanker                   0.002558\n",
       "Μαριος Μιχαηλιδης KazAnova    0.002467\n",
       "rabbit125                     0.002467\n",
       "hahaha                        0.002376\n",
       "mlandry                       0.002376\n",
       "lithio                        0.002284\n",
       "Rex Ju                        0.002284\n",
       "whengraduate                  0.002284\n",
       "lctsai                        0.002193\n",
       "Ian Lin                       0.002193\n",
       "plliao                        0.002193\n",
       "cebrusfs                      0.002193\n",
       "guestwalk                     0.002193\n",
       "ugrpvhyckd                    0.002193\n",
       "李揚                            0.002193\n",
       "Jia-Yun Jiang                 0.002193\n",
       "Yen-chi Chen                  0.002193\n",
       "kckuo920248                   0.002193\n",
       "myutwo150                     0.002193\n",
       "psyphh                        0.002193\n",
       "mengmengyong                  0.002193\n",
       "Hogan                         0.002193\n",
       "Jhihming                      0.002193\n",
       "galaxy321                     0.002193\n",
       "lintsou                       0.002193\n",
       "Yen.                          0.002193\n",
       "dtype: float64"
      ]
     },
     "execution_count": 287,
     "metadata": {},
     "output_type": "execute_result"
    }
   ],
   "source": [
    "degree_centrality[40:80]"
   ]
  },
  {
   "cell_type": "code",
   "execution_count": 295,
   "metadata": {
    "collapsed": true
   },
   "outputs": [],
   "source": [
    "top_graph = G.subgraph(list(profiles[:100].member_name))"
   ]
  },
  {
   "cell_type": "code",
   "execution_count": 323,
   "metadata": {},
   "outputs": [
    {
     "data": {
      "image/png": "[encoded data removed]",
      "text/plain": [
       "<matplotlib.figure.Figure at 0x1174663d0>"
      ]
     },
     "metadata": {},
     "output_type": "display_data"
    }
   ],
   "source": [
    "with plt.style.context('ggplot'):\n",
    "    # mpl.rcParams.update(inline_rc)\n",
    "    plt.axis('off')\n",
    "    plt.rcParams['figure.figsize'] = (20, 20)\n",
    "    pos = nx.spring_layout(top_graph)\n",
    "    nx.draw_networkx(top_graph, pos, node_size=10, with_labels=True, edge_color='lightblue')"
   ]
  },
  {
   "cell_type": "code",
   "execution_count": 93,
   "metadata": {
    "collapsed": true
   },
   "outputs": [],
   "source": [
    "# Who has been a team captain the most ?\n"
   ]
  },
  {
   "cell_type": "code",
   "execution_count": null,
   "metadata": {
    "collapsed": true
   },
   "outputs": [],
   "source": [
    "# What are the circles of the top players?\n",
    "# http://i.stanford.edu/~julian/pdfs/nips2012.pdf\n",
    "# https://www.kaggle.com/c/learning-social-circles\n",
    "# http://inventingsituations.net/2014/11/09/kaggle-social-networks-competition/"
   ]
  },
  {
   "cell_type": "code",
   "execution_count": null,
   "metadata": {
    "collapsed": true
   },
   "outputs": [],
   "source": [
    "# Who is influential ?\n",
    "# https://www.kaggle.com/c/predict-who-is-more-influential-in-a-social-network\n"
   ]
  },
  {
   "cell_type": "markdown",
   "metadata": {},
   "source": [
    "## Member Profiles"
   ]
  },
  {
   "cell_type": "code",
   "execution_count": null,
   "metadata": {
    "collapsed": true
   },
   "outputs": [],
   "source": [
    "# What are the skills of the top players?\n"
   ]
  },
  {
   "cell_type": "code",
   "execution_count": 292,
   "metadata": {
    "collapsed": true
   },
   "outputs": [],
   "source": [
    "# Do teams cluster based on skills?\n"
   ]
  },
  {
   "cell_type": "code",
   "execution_count": 195,
   "metadata": {},
   "outputs": [
    {
     "data": {
      "text/plain": [
       "(1200, 5)"
      ]
     },
     "execution_count": 195,
     "metadata": {},
     "output_type": "execute_result"
    }
   ],
   "source": [
    "profiles = pd.read_csv('./profiles.csv')\n",
    "profiles.shape"
   ]
  },
  {
   "cell_type": "code",
   "execution_count": 196,
   "metadata": {},
   "outputs": [
    {
     "data": {
      "text/html": [
       "<div>\n",
       "<table border=\"1\" class=\"dataframe\">\n",
       "  <thead>\n",
       "    <tr style=\"text-align: right;\">\n",
       "      <th></th>\n",
       "      <th>member_url</th>\n",
       "      <th>member_name</th>\n",
       "      <th>rank</th>\n",
       "      <th>num_comp</th>\n",
       "      <th>country</th>\n",
       "    </tr>\n",
       "  </thead>\n",
       "  <tbody>\n",
       "    <tr>\n",
       "      <th>0</th>\n",
       "      <td>/kazanova</td>\n",
       "      <td>Μαριος Μιχαηλιδης KazAnova</td>\n",
       "      <td>1</td>\n",
       "      <td>70</td>\n",
       "      <td>Greece</td>\n",
       "    </tr>\n",
       "    <tr>\n",
       "      <th>1</th>\n",
       "      <td>/titericz</td>\n",
       "      <td>Gilberto Titericz Junior</td>\n",
       "      <td>2</td>\n",
       "      <td>62</td>\n",
       "      <td>Brazil</td>\n",
       "    </tr>\n",
       "    <tr>\n",
       "      <th>2</th>\n",
       "      <td>/stasg7</td>\n",
       "      <td>Stanislav Semenov</td>\n",
       "      <td>3</td>\n",
       "      <td>28</td>\n",
       "      <td>Russia</td>\n",
       "    </tr>\n",
       "    <tr>\n",
       "      <th>3</th>\n",
       "      <td>/owenzhang1</td>\n",
       "      <td>Owen</td>\n",
       "      <td>4</td>\n",
       "      <td>42</td>\n",
       "      <td>United States</td>\n",
       "    </tr>\n",
       "    <tr>\n",
       "      <th>4</th>\n",
       "      <td>/aguschin</td>\n",
       "      <td>Alexander Guschin</td>\n",
       "      <td>5</td>\n",
       "      <td>20</td>\n",
       "      <td>Russia</td>\n",
       "    </tr>\n",
       "    <tr>\n",
       "      <th>5</th>\n",
       "      <td>/abhishek</td>\n",
       "      <td>Abhishek</td>\n",
       "      <td>6</td>\n",
       "      <td>96</td>\n",
       "      <td>Germany</td>\n",
       "    </tr>\n",
       "    <tr>\n",
       "      <th>6</th>\n",
       "      <td>/leustagos</td>\n",
       "      <td>Leustagos</td>\n",
       "      <td>7</td>\n",
       "      <td>44</td>\n",
       "      <td>Brazil</td>\n",
       "    </tr>\n",
       "    <tr>\n",
       "      <th>7</th>\n",
       "      <td>/chaiml</td>\n",
       "      <td>Cardal</td>\n",
       "      <td>8</td>\n",
       "      <td>4</td>\n",
       "      <td>Israel</td>\n",
       "    </tr>\n",
       "    <tr>\n",
       "      <th>8</th>\n",
       "      <td>/confirm</td>\n",
       "      <td>Kohei Ozaki</td>\n",
       "      <td>9</td>\n",
       "      <td>67</td>\n",
       "      <td>Japan</td>\n",
       "    </tr>\n",
       "    <tr>\n",
       "      <th>9</th>\n",
       "      <td>/gertjac</td>\n",
       "      <td>Gert</td>\n",
       "      <td>10</td>\n",
       "      <td>24</td>\n",
       "      <td>The Netherlands</td>\n",
       "    </tr>\n",
       "  </tbody>\n",
       "</table>\n",
       "</div>"
      ],
      "text/plain": [
       "    member_url                 member_name  rank  num_comp          country\n",
       "0    /kazanova  Μαριος Μιχαηλιδης KazAnova     1        70           Greece\n",
       "1    /titericz    Gilberto Titericz Junior     2        62           Brazil\n",
       "2      /stasg7           Stanislav Semenov     3        28           Russia\n",
       "3  /owenzhang1                        Owen     4        42    United States\n",
       "4    /aguschin           Alexander Guschin     5        20           Russia\n",
       "5    /abhishek                    Abhishek     6        96          Germany\n",
       "6   /leustagos                   Leustagos     7        44           Brazil\n",
       "7      /chaiml                      Cardal     8         4           Israel\n",
       "8     /confirm                 Kohei Ozaki     9        67            Japan\n",
       "9     /gertjac                        Gert    10        24  The Netherlands"
      ]
     },
     "execution_count": 196,
     "metadata": {},
     "output_type": "execute_result"
    }
   ],
   "source": [
    "profiles[:10]"
   ]
  },
  {
   "cell_type": "code",
   "execution_count": 198,
   "metadata": {},
   "outputs": [
    {
     "data": {
      "text/plain": [
       "<matplotlib.axes._subplots.AxesSubplot at 0x116649950>"
      ]
     },
     "execution_count": 198,
     "metadata": {},
     "output_type": "execute_result"
    },
    {
     "data": {
      "image/png": "[encoded data removed]",
      "text/plain": [
       "<matplotlib.figure.Figure at 0x116650c50>"
      ]
     },
     "metadata": {},
     "output_type": "display_data"
    }
   ],
   "source": [
    "profiles.plot.scatter(x='rank',y='num_comp', title='Rank vs. Number of Competitions')"
   ]
  },
  {
   "cell_type": "code",
   "execution_count": 199,
   "metadata": {},
   "outputs": [
    {
     "data": {
      "text/plain": [
       "(75, 1)"
      ]
     },
     "execution_count": 199,
     "metadata": {},
     "output_type": "execute_result"
    }
   ],
   "source": [
    "num_countries = profiles.groupby('country').num_comp.count().sort_values(ascending=False).to_frame()\n",
    "num_countries.columns = ['num_countries']\n",
    "num_countries.shape"
   ]
  },
  {
   "cell_type": "code",
   "execution_count": 200,
   "metadata": {
    "scrolled": false
   },
   "outputs": [
    {
     "data": {
      "text/html": [
       "<div>\n",
       "<table border=\"1\" class=\"dataframe\">\n",
       "  <thead>\n",
       "    <tr style=\"text-align: right;\">\n",
       "      <th></th>\n",
       "      <th>num_countries</th>\n",
       "    </tr>\n",
       "    <tr>\n",
       "      <th>country</th>\n",
       "      <th></th>\n",
       "    </tr>\n",
       "  </thead>\n",
       "  <tbody>\n",
       "    <tr>\n",
       "      <th>unknown</th>\n",
       "      <td>270</td>\n",
       "    </tr>\n",
       "    <tr>\n",
       "      <th>United States</th>\n",
       "      <td>237</td>\n",
       "    </tr>\n",
       "    <tr>\n",
       "      <th>Russia</th>\n",
       "      <td>74</td>\n",
       "    </tr>\n",
       "    <tr>\n",
       "      <th>India</th>\n",
       "      <td>70</td>\n",
       "    </tr>\n",
       "    <tr>\n",
       "      <th>United Kingdom</th>\n",
       "      <td>45</td>\n",
       "    </tr>\n",
       "    <tr>\n",
       "      <th>France</th>\n",
       "      <td>44</td>\n",
       "    </tr>\n",
       "    <tr>\n",
       "      <th>Germany</th>\n",
       "      <td>39</td>\n",
       "    </tr>\n",
       "    <tr>\n",
       "      <th>China</th>\n",
       "      <td>38</td>\n",
       "    </tr>\n",
       "    <tr>\n",
       "      <th>Japan</th>\n",
       "      <td>31</td>\n",
       "    </tr>\n",
       "    <tr>\n",
       "      <th>Canada</th>\n",
       "      <td>28</td>\n",
       "    </tr>\n",
       "    <tr>\n",
       "      <th>Spain</th>\n",
       "      <td>25</td>\n",
       "    </tr>\n",
       "    <tr>\n",
       "      <th>Singapore</th>\n",
       "      <td>24</td>\n",
       "    </tr>\n",
       "    <tr>\n",
       "      <th>Australia</th>\n",
       "      <td>20</td>\n",
       "    </tr>\n",
       "    <tr>\n",
       "      <th>Ukraine</th>\n",
       "      <td>18</td>\n",
       "    </tr>\n",
       "    <tr>\n",
       "      <th>Brazil</th>\n",
       "      <td>17</td>\n",
       "    </tr>\n",
       "    <tr>\n",
       "      <th>Poland</th>\n",
       "      <td>16</td>\n",
       "    </tr>\n",
       "    <tr>\n",
       "      <th>Italy</th>\n",
       "      <td>15</td>\n",
       "    </tr>\n",
       "    <tr>\n",
       "      <th>Netherlands</th>\n",
       "      <td>13</td>\n",
       "    </tr>\n",
       "    <tr>\n",
       "      <th>Switzerland</th>\n",
       "      <td>12</td>\n",
       "    </tr>\n",
       "    <tr>\n",
       "      <th>Belgium</th>\n",
       "      <td>11</td>\n",
       "    </tr>\n",
       "    <tr>\n",
       "      <th>Israel</th>\n",
       "      <td>10</td>\n",
       "    </tr>\n",
       "    <tr>\n",
       "      <th>Finland</th>\n",
       "      <td>8</td>\n",
       "    </tr>\n",
       "    <tr>\n",
       "      <th>Greece</th>\n",
       "      <td>7</td>\n",
       "    </tr>\n",
       "    <tr>\n",
       "      <th>Hungary</th>\n",
       "      <td>7</td>\n",
       "    </tr>\n",
       "    <tr>\n",
       "      <th>Austria</th>\n",
       "      <td>7</td>\n",
       "    </tr>\n",
       "    <tr>\n",
       "      <th>Czech Republic</th>\n",
       "      <td>6</td>\n",
       "    </tr>\n",
       "    <tr>\n",
       "      <th>South Africa</th>\n",
       "      <td>6</td>\n",
       "    </tr>\n",
       "    <tr>\n",
       "      <th>Egypt</th>\n",
       "      <td>5</td>\n",
       "    </tr>\n",
       "    <tr>\n",
       "      <th>Hong Kong</th>\n",
       "      <td>5</td>\n",
       "    </tr>\n",
       "    <tr>\n",
       "      <th>The Netherlands</th>\n",
       "      <td>5</td>\n",
       "    </tr>\n",
       "  </tbody>\n",
       "</table>\n",
       "</div>"
      ],
      "text/plain": [
       "                 num_countries\n",
       "country                       \n",
       "unknown                    270\n",
       "United States              237\n",
       "Russia                      74\n",
       "India                       70\n",
       "United Kingdom              45\n",
       "France                      44\n",
       "Germany                     39\n",
       "China                       38\n",
       "Japan                       31\n",
       "Canada                      28\n",
       "Spain                       25\n",
       "Singapore                   24\n",
       "Australia                   20\n",
       "Ukraine                     18\n",
       "Brazil                      17\n",
       "Poland                      16\n",
       "Italy                       15\n",
       "Netherlands                 13\n",
       "Switzerland                 12\n",
       "Belgium                     11\n",
       "Israel                      10\n",
       "Finland                      8\n",
       "Greece                       7\n",
       "Hungary                      7\n",
       "Austria                      7\n",
       "Czech Republic               6\n",
       "South Africa                 6\n",
       "Egypt                        5\n",
       "Hong Kong                    5\n",
       "The Netherlands              5"
      ]
     },
     "execution_count": 200,
     "metadata": {},
     "output_type": "execute_result"
    }
   ],
   "source": [
    "num_countries[:30]"
   ]
  },
  {
   "cell_type": "code",
   "execution_count": 201,
   "metadata": {
    "collapsed": true
   },
   "outputs": [],
   "source": [
    "# profiles.to_csv('./profiles.csv', index=False)"
   ]
  },
  {
   "cell_type": "code",
   "execution_count": 202,
   "metadata": {},
   "outputs": [],
   "source": [
    "# profiles.loc[profiles.country == '中国','country'] = 'China'"
   ]
  },
  {
   "cell_type": "code",
   "execution_count": 203,
   "metadata": {
    "collapsed": true
   },
   "outputs": [],
   "source": [
    "pros = profiles.join(num_teams, on='member_url', how='left')"
   ]
  },
  {
   "cell_type": "code",
   "execution_count": 204,
   "metadata": {},
   "outputs": [],
   "source": [
    "pros['team_pct'] = pros.num_teams / pros.num_comp"
   ]
  },
  {
   "cell_type": "code",
   "execution_count": 205,
   "metadata": {},
   "outputs": [
    {
     "data": {
      "image/png": "[encoded data removed]",
      "text/plain": [
       "<matplotlib.figure.Figure at 0x116654d10>"
      ]
     },
     "metadata": {},
     "output_type": "display_data"
    }
   ],
   "source": [
    "# \n",
    "ax = pros.plot.scatter(x='rank', y='team_pct', title='Rank vs. Percentage of times member teams up')"
   ]
  },
  {
   "cell_type": "code",
   "execution_count": 210,
   "metadata": {},
   "outputs": [],
   "source": [
    "pros = pd.merge(pros, member_degree, left_on='member_url', right_index=True, how='left')"
   ]
  },
  {
   "cell_type": "code",
   "execution_count": 213,
   "metadata": {},
   "outputs": [
    {
     "data": {
      "text/html": [
       "<div>\n",
       "<table border=\"1\" class=\"dataframe\">\n",
       "  <thead>\n",
       "    <tr style=\"text-align: right;\">\n",
       "      <th></th>\n",
       "      <th>member_url</th>\n",
       "      <th>member_name</th>\n",
       "      <th>rank</th>\n",
       "      <th>num_comp</th>\n",
       "      <th>country</th>\n",
       "      <th>num_teams</th>\n",
       "      <th>team_pct</th>\n",
       "      <th>degree</th>\n",
       "    </tr>\n",
       "  </thead>\n",
       "  <tbody>\n",
       "    <tr>\n",
       "      <th>0</th>\n",
       "      <td>/kazanova</td>\n",
       "      <td>Μαριος Μιχαηλιδης KazAnova</td>\n",
       "      <td>1</td>\n",
       "      <td>70</td>\n",
       "      <td>Greece</td>\n",
       "      <td>32</td>\n",
       "      <td>0.457143</td>\n",
       "      <td>27</td>\n",
       "    </tr>\n",
       "    <tr>\n",
       "      <th>1</th>\n",
       "      <td>/titericz</td>\n",
       "      <td>Gilberto Titericz Junior</td>\n",
       "      <td>2</td>\n",
       "      <td>62</td>\n",
       "      <td>Brazil</td>\n",
       "      <td>22</td>\n",
       "      <td>0.354839</td>\n",
       "      <td>16</td>\n",
       "    </tr>\n",
       "    <tr>\n",
       "      <th>2</th>\n",
       "      <td>/stasg7</td>\n",
       "      <td>Stanislav Semenov</td>\n",
       "      <td>3</td>\n",
       "      <td>28</td>\n",
       "      <td>Russia</td>\n",
       "      <td>11</td>\n",
       "      <td>0.392857</td>\n",
       "      <td>14</td>\n",
       "    </tr>\n",
       "    <tr>\n",
       "      <th>3</th>\n",
       "      <td>/owenzhang1</td>\n",
       "      <td>Owen</td>\n",
       "      <td>4</td>\n",
       "      <td>42</td>\n",
       "      <td>United States</td>\n",
       "      <td>8</td>\n",
       "      <td>0.190476</td>\n",
       "      <td>8</td>\n",
       "    </tr>\n",
       "    <tr>\n",
       "      <th>4</th>\n",
       "      <td>/aguschin</td>\n",
       "      <td>Alexander Guschin</td>\n",
       "      <td>5</td>\n",
       "      <td>20</td>\n",
       "      <td>Russia</td>\n",
       "      <td>4</td>\n",
       "      <td>0.200000</td>\n",
       "      <td>7</td>\n",
       "    </tr>\n",
       "    <tr>\n",
       "      <th>5</th>\n",
       "      <td>/abhishek</td>\n",
       "      <td>Abhishek</td>\n",
       "      <td>6</td>\n",
       "      <td>96</td>\n",
       "      <td>Germany</td>\n",
       "      <td>28</td>\n",
       "      <td>0.291667</td>\n",
       "      <td>31</td>\n",
       "    </tr>\n",
       "    <tr>\n",
       "      <th>6</th>\n",
       "      <td>/leustagos</td>\n",
       "      <td>Leustagos</td>\n",
       "      <td>7</td>\n",
       "      <td>44</td>\n",
       "      <td>Brazil</td>\n",
       "      <td>26</td>\n",
       "      <td>0.590909</td>\n",
       "      <td>19</td>\n",
       "    </tr>\n",
       "    <tr>\n",
       "      <th>7</th>\n",
       "      <td>/chaiml</td>\n",
       "      <td>Cardal</td>\n",
       "      <td>8</td>\n",
       "      <td>4</td>\n",
       "      <td>Israel</td>\n",
       "      <td>NaN</td>\n",
       "      <td>NaN</td>\n",
       "      <td>NaN</td>\n",
       "    </tr>\n",
       "    <tr>\n",
       "      <th>8</th>\n",
       "      <td>/confirm</td>\n",
       "      <td>Kohei Ozaki</td>\n",
       "      <td>9</td>\n",
       "      <td>67</td>\n",
       "      <td>Japan</td>\n",
       "      <td>7</td>\n",
       "      <td>0.104478</td>\n",
       "      <td>10</td>\n",
       "    </tr>\n",
       "    <tr>\n",
       "      <th>9</th>\n",
       "      <td>/gertjac</td>\n",
       "      <td>Gert</td>\n",
       "      <td>10</td>\n",
       "      <td>24</td>\n",
       "      <td>The Netherlands</td>\n",
       "      <td>8</td>\n",
       "      <td>0.333333</td>\n",
       "      <td>9</td>\n",
       "    </tr>\n",
       "    <tr>\n",
       "      <th>10</th>\n",
       "      <td>/clustifier</td>\n",
       "      <td>clustifier</td>\n",
       "      <td>11</td>\n",
       "      <td>53</td>\n",
       "      <td>Israel</td>\n",
       "      <td>8</td>\n",
       "      <td>0.150943</td>\n",
       "      <td>12</td>\n",
       "    </tr>\n",
       "    <tr>\n",
       "      <th>11</th>\n",
       "      <td>/utility</td>\n",
       "      <td>utility</td>\n",
       "      <td>12</td>\n",
       "      <td>14</td>\n",
       "      <td>Russia</td>\n",
       "      <td>6</td>\n",
       "      <td>0.428571</td>\n",
       "      <td>9</td>\n",
       "    </tr>\n",
       "    <tr>\n",
       "      <th>12</th>\n",
       "      <td>/mikeskim</td>\n",
       "      <td>Mike Kim</td>\n",
       "      <td>13</td>\n",
       "      <td>46</td>\n",
       "      <td>United States</td>\n",
       "      <td>10</td>\n",
       "      <td>0.217391</td>\n",
       "      <td>21</td>\n",
       "    </tr>\n",
       "    <tr>\n",
       "      <th>13</th>\n",
       "      <td>/efimov</td>\n",
       "      <td>Dmitry Efimov</td>\n",
       "      <td>14</td>\n",
       "      <td>36</td>\n",
       "      <td>Russia</td>\n",
       "      <td>17</td>\n",
       "      <td>0.472222</td>\n",
       "      <td>11</td>\n",
       "    </tr>\n",
       "    <tr>\n",
       "      <th>14</th>\n",
       "      <td>/sushize</td>\n",
       "      <td>Shize Su</td>\n",
       "      <td>15</td>\n",
       "      <td>37</td>\n",
       "      <td>United States</td>\n",
       "      <td>18</td>\n",
       "      <td>0.486486</td>\n",
       "      <td>28</td>\n",
       "    </tr>\n",
       "    <tr>\n",
       "      <th>15</th>\n",
       "      <td>/sudalairajkumar</td>\n",
       "      <td>SRK</td>\n",
       "      <td>16</td>\n",
       "      <td>48</td>\n",
       "      <td>India</td>\n",
       "      <td>20</td>\n",
       "      <td>0.416667</td>\n",
       "      <td>23</td>\n",
       "    </tr>\n",
       "    <tr>\n",
       "      <th>16</th>\n",
       "      <td>/blindape</td>\n",
       "      <td>José A. Guerrero</td>\n",
       "      <td>18</td>\n",
       "      <td>45</td>\n",
       "      <td>Spain</td>\n",
       "      <td>3</td>\n",
       "      <td>0.066667</td>\n",
       "      <td>3</td>\n",
       "    </tr>\n",
       "    <tr>\n",
       "      <th>17</th>\n",
       "      <td>/psilogram</td>\n",
       "      <td>Silogram</td>\n",
       "      <td>19</td>\n",
       "      <td>42</td>\n",
       "      <td>Switzerland</td>\n",
       "      <td>5</td>\n",
       "      <td>0.119048</td>\n",
       "      <td>10</td>\n",
       "    </tr>\n",
       "    <tr>\n",
       "      <th>18</th>\n",
       "      <td>/jeongyoonlee</td>\n",
       "      <td>Jeong-Yoon Lee</td>\n",
       "      <td>20</td>\n",
       "      <td>54</td>\n",
       "      <td>United States</td>\n",
       "      <td>17</td>\n",
       "      <td>0.314815</td>\n",
       "      <td>19</td>\n",
       "    </tr>\n",
       "    <tr>\n",
       "      <th>19</th>\n",
       "      <td>/tyi2000</td>\n",
       "      <td>y</td>\n",
       "      <td>21</td>\n",
       "      <td>53</td>\n",
       "      <td>South Korea</td>\n",
       "      <td>2</td>\n",
       "      <td>0.037736</td>\n",
       "      <td>2</td>\n",
       "    </tr>\n",
       "    <tr>\n",
       "      <th>20</th>\n",
       "      <td>/jiweiliu</td>\n",
       "      <td>rcarson</td>\n",
       "      <td>22</td>\n",
       "      <td>45</td>\n",
       "      <td>China</td>\n",
       "      <td>34</td>\n",
       "      <td>0.755556</td>\n",
       "      <td>17</td>\n",
       "    </tr>\n",
       "    <tr>\n",
       "      <th>21</th>\n",
       "      <td>/alexxanderlarko</td>\n",
       "      <td>Alexander  Larko</td>\n",
       "      <td>23</td>\n",
       "      <td>89</td>\n",
       "      <td>Russia</td>\n",
       "      <td>10</td>\n",
       "      <td>0.112360</td>\n",
       "      <td>4</td>\n",
       "    </tr>\n",
       "    <tr>\n",
       "      <th>22</th>\n",
       "      <td>/mmueller</td>\n",
       "      <td>Faron</td>\n",
       "      <td>24</td>\n",
       "      <td>9</td>\n",
       "      <td>Germany</td>\n",
       "      <td>4</td>\n",
       "      <td>0.444444</td>\n",
       "      <td>5</td>\n",
       "    </tr>\n",
       "    <tr>\n",
       "      <th>23</th>\n",
       "      <td>/qwang88</td>\n",
       "      <td>Qingchen</td>\n",
       "      <td>25</td>\n",
       "      <td>10</td>\n",
       "      <td>The Netherlands</td>\n",
       "      <td>4</td>\n",
       "      <td>0.400000</td>\n",
       "      <td>11</td>\n",
       "    </tr>\n",
       "    <tr>\n",
       "      <th>24</th>\n",
       "      <td>/mjahrer</td>\n",
       "      <td>Michael Jahrer</td>\n",
       "      <td>26</td>\n",
       "      <td>44</td>\n",
       "      <td>Austria</td>\n",
       "      <td>12</td>\n",
       "      <td>0.272727</td>\n",
       "      <td>16</td>\n",
       "    </tr>\n",
       "    <tr>\n",
       "      <th>25</th>\n",
       "      <td>/skylibrary</td>\n",
       "      <td>SkyLibrary</td>\n",
       "      <td>27</td>\n",
       "      <td>24</td>\n",
       "      <td>United States</td>\n",
       "      <td>4</td>\n",
       "      <td>0.166667</td>\n",
       "      <td>2</td>\n",
       "    </tr>\n",
       "    <tr>\n",
       "      <th>26</th>\n",
       "      <td>/ccccat</td>\n",
       "      <td>Sergey Yurgenson</td>\n",
       "      <td>28</td>\n",
       "      <td>45</td>\n",
       "      <td>United States</td>\n",
       "      <td>13</td>\n",
       "      <td>0.288889</td>\n",
       "      <td>16</td>\n",
       "    </tr>\n",
       "    <tr>\n",
       "      <th>27</th>\n",
       "      <td>/chenglongchen</td>\n",
       "      <td>Chenglong Chen</td>\n",
       "      <td>29</td>\n",
       "      <td>27</td>\n",
       "      <td>China</td>\n",
       "      <td>1</td>\n",
       "      <td>0.037037</td>\n",
       "      <td>3</td>\n",
       "    </tr>\n",
       "    <tr>\n",
       "      <th>28</th>\n",
       "      <td>/pengyan</td>\n",
       "      <td>Eureka</td>\n",
       "      <td>30</td>\n",
       "      <td>16</td>\n",
       "      <td>China</td>\n",
       "      <td>7</td>\n",
       "      <td>0.437500</td>\n",
       "      <td>12</td>\n",
       "    </tr>\n",
       "    <tr>\n",
       "      <th>29</th>\n",
       "      <td>/ashhafez</td>\n",
       "      <td>ash hafez</td>\n",
       "      <td>31</td>\n",
       "      <td>21</td>\n",
       "      <td>United States</td>\n",
       "      <td>4</td>\n",
       "      <td>0.190476</td>\n",
       "      <td>6</td>\n",
       "    </tr>\n",
       "    <tr>\n",
       "      <th>...</th>\n",
       "      <td>...</td>\n",
       "      <td>...</td>\n",
       "      <td>...</td>\n",
       "      <td>...</td>\n",
       "      <td>...</td>\n",
       "      <td>...</td>\n",
       "      <td>...</td>\n",
       "      <td>...</td>\n",
       "    </tr>\n",
       "    <tr>\n",
       "      <th>1170</th>\n",
       "      <td>/goutam</td>\n",
       "      <td>Goutam</td>\n",
       "      <td>1269</td>\n",
       "      <td>12</td>\n",
       "      <td>India</td>\n",
       "      <td>NaN</td>\n",
       "      <td>NaN</td>\n",
       "      <td>NaN</td>\n",
       "    </tr>\n",
       "    <tr>\n",
       "      <th>1171</th>\n",
       "      <td>/grjhuard</td>\n",
       "      <td>Guillaume Huard</td>\n",
       "      <td>1270</td>\n",
       "      <td>3</td>\n",
       "      <td>unknown</td>\n",
       "      <td>1</td>\n",
       "      <td>0.333333</td>\n",
       "      <td>1</td>\n",
       "    </tr>\n",
       "    <tr>\n",
       "      <th>1172</th>\n",
       "      <td>/karakan</td>\n",
       "      <td>Ada Adamczak</td>\n",
       "      <td>1271</td>\n",
       "      <td>5</td>\n",
       "      <td>Poland</td>\n",
       "      <td>2</td>\n",
       "      <td>0.400000</td>\n",
       "      <td>1</td>\n",
       "    </tr>\n",
       "    <tr>\n",
       "      <th>1173</th>\n",
       "      <td>/littlekid</td>\n",
       "      <td>littlekid</td>\n",
       "      <td>1273</td>\n",
       "      <td>5</td>\n",
       "      <td>China</td>\n",
       "      <td>NaN</td>\n",
       "      <td>NaN</td>\n",
       "      <td>NaN</td>\n",
       "    </tr>\n",
       "    <tr>\n",
       "      <th>1174</th>\n",
       "      <td>/vinhnguyen</td>\n",
       "      <td>Vinh Nguyen</td>\n",
       "      <td>1274</td>\n",
       "      <td>7</td>\n",
       "      <td>Australia</td>\n",
       "      <td>NaN</td>\n",
       "      <td>NaN</td>\n",
       "      <td>NaN</td>\n",
       "    </tr>\n",
       "    <tr>\n",
       "      <th>1175</th>\n",
       "      <td>/felixthecat</td>\n",
       "      <td>FelixtheCat</td>\n",
       "      <td>1275</td>\n",
       "      <td>1</td>\n",
       "      <td>United Kingdom</td>\n",
       "      <td>NaN</td>\n",
       "      <td>NaN</td>\n",
       "      <td>NaN</td>\n",
       "    </tr>\n",
       "    <tr>\n",
       "      <th>1176</th>\n",
       "      <td>/khaledfayed</td>\n",
       "      <td>Khaled Fayed</td>\n",
       "      <td>1276</td>\n",
       "      <td>13</td>\n",
       "      <td>Egypt</td>\n",
       "      <td>NaN</td>\n",
       "      <td>NaN</td>\n",
       "      <td>NaN</td>\n",
       "    </tr>\n",
       "    <tr>\n",
       "      <th>1177</th>\n",
       "      <td>/tanayz</td>\n",
       "      <td>Tanay</td>\n",
       "      <td>1277</td>\n",
       "      <td>14</td>\n",
       "      <td>United States</td>\n",
       "      <td>NaN</td>\n",
       "      <td>NaN</td>\n",
       "      <td>NaN</td>\n",
       "    </tr>\n",
       "    <tr>\n",
       "      <th>1178</th>\n",
       "      <td>/cerealcorrelation</td>\n",
       "      <td>Booster</td>\n",
       "      <td>1278</td>\n",
       "      <td>7</td>\n",
       "      <td>unknown</td>\n",
       "      <td>NaN</td>\n",
       "      <td>NaN</td>\n",
       "      <td>NaN</td>\n",
       "    </tr>\n",
       "    <tr>\n",
       "      <th>1179</th>\n",
       "      <td>/itaysh</td>\n",
       "      <td>Itay</td>\n",
       "      <td>1279</td>\n",
       "      <td>3</td>\n",
       "      <td>Israel</td>\n",
       "      <td>NaN</td>\n",
       "      <td>NaN</td>\n",
       "      <td>NaN</td>\n",
       "    </tr>\n",
       "    <tr>\n",
       "      <th>1180</th>\n",
       "      <td>/hansolo</td>\n",
       "      <td>ZepplinRules</td>\n",
       "      <td>1280</td>\n",
       "      <td>7</td>\n",
       "      <td>United States</td>\n",
       "      <td>NaN</td>\n",
       "      <td>NaN</td>\n",
       "      <td>NaN</td>\n",
       "    </tr>\n",
       "    <tr>\n",
       "      <th>1181</th>\n",
       "      <td>/centsoft</td>\n",
       "      <td>centsoft</td>\n",
       "      <td>1281</td>\n",
       "      <td>9</td>\n",
       "      <td>New Zealand</td>\n",
       "      <td>NaN</td>\n",
       "      <td>NaN</td>\n",
       "      <td>NaN</td>\n",
       "    </tr>\n",
       "    <tr>\n",
       "      <th>1182</th>\n",
       "      <td>/kkrishnachaitanya</td>\n",
       "      <td>Krishna Chaitanya</td>\n",
       "      <td>1282</td>\n",
       "      <td>7</td>\n",
       "      <td>India</td>\n",
       "      <td>1</td>\n",
       "      <td>0.142857</td>\n",
       "      <td>1</td>\n",
       "    </tr>\n",
       "    <tr>\n",
       "      <th>1183</th>\n",
       "      <td>/users/206125/zisheng-zhang</td>\n",
       "      <td>Zisheng Zhang</td>\n",
       "      <td>1283</td>\n",
       "      <td>2</td>\n",
       "      <td>United States</td>\n",
       "      <td>2</td>\n",
       "      <td>1.000000</td>\n",
       "      <td>1</td>\n",
       "    </tr>\n",
       "    <tr>\n",
       "      <th>1184</th>\n",
       "      <td>/users/212708/keshab-k-parhi</td>\n",
       "      <td>Keshab K. Parhi</td>\n",
       "      <td>1284</td>\n",
       "      <td>2</td>\n",
       "      <td>United States</td>\n",
       "      <td>2</td>\n",
       "      <td>1.000000</td>\n",
       "      <td>1</td>\n",
       "    </tr>\n",
       "    <tr>\n",
       "      <th>1185</th>\n",
       "      <td>/rc95401</td>\n",
       "      <td>rc95401</td>\n",
       "      <td>1285</td>\n",
       "      <td>5</td>\n",
       "      <td>unknown</td>\n",
       "      <td>NaN</td>\n",
       "      <td>NaN</td>\n",
       "      <td>NaN</td>\n",
       "    </tr>\n",
       "    <tr>\n",
       "      <th>1186</th>\n",
       "      <td>/ohiojoe</td>\n",
       "      <td>Joe</td>\n",
       "      <td>1286</td>\n",
       "      <td>6</td>\n",
       "      <td>United States</td>\n",
       "      <td>NaN</td>\n",
       "      <td>NaN</td>\n",
       "      <td>NaN</td>\n",
       "    </tr>\n",
       "    <tr>\n",
       "      <th>1187</th>\n",
       "      <td>/shiva90</td>\n",
       "      <td>ShivaRajendran</td>\n",
       "      <td>1287</td>\n",
       "      <td>9</td>\n",
       "      <td>India</td>\n",
       "      <td>1</td>\n",
       "      <td>0.111111</td>\n",
       "      <td>1</td>\n",
       "    </tr>\n",
       "    <tr>\n",
       "      <th>1188</th>\n",
       "      <td>/novosma</td>\n",
       "      <td>novosma</td>\n",
       "      <td>1288</td>\n",
       "      <td>15</td>\n",
       "      <td>Switzerland</td>\n",
       "      <td>NaN</td>\n",
       "      <td>NaN</td>\n",
       "      <td>NaN</td>\n",
       "    </tr>\n",
       "    <tr>\n",
       "      <th>1189</th>\n",
       "      <td>/ericcouto</td>\n",
       "      <td>Eric Couto</td>\n",
       "      <td>1289</td>\n",
       "      <td>12</td>\n",
       "      <td>Brazil</td>\n",
       "      <td>1</td>\n",
       "      <td>0.083333</td>\n",
       "      <td>1</td>\n",
       "    </tr>\n",
       "    <tr>\n",
       "      <th>1190</th>\n",
       "      <td>/kaggler79055</td>\n",
       "      <td>Pascal Westring</td>\n",
       "      <td>1290</td>\n",
       "      <td>12</td>\n",
       "      <td>Belgium</td>\n",
       "      <td>NaN</td>\n",
       "      <td>NaN</td>\n",
       "      <td>NaN</td>\n",
       "    </tr>\n",
       "    <tr>\n",
       "      <th>1191</th>\n",
       "      <td>/ipasechnik</td>\n",
       "      <td>Igor Pasechnik</td>\n",
       "      <td>1292</td>\n",
       "      <td>2</td>\n",
       "      <td>Russia</td>\n",
       "      <td>NaN</td>\n",
       "      <td>NaN</td>\n",
       "      <td>NaN</td>\n",
       "    </tr>\n",
       "    <tr>\n",
       "      <th>1192</th>\n",
       "      <td>/aikinogard</td>\n",
       "      <td>Li Li</td>\n",
       "      <td>1293</td>\n",
       "      <td>3</td>\n",
       "      <td>United States</td>\n",
       "      <td>NaN</td>\n",
       "      <td>NaN</td>\n",
       "      <td>NaN</td>\n",
       "    </tr>\n",
       "    <tr>\n",
       "      <th>1193</th>\n",
       "      <td>/pikquu</td>\n",
       "      <td>Pikqu</td>\n",
       "      <td>1294</td>\n",
       "      <td>5</td>\n",
       "      <td>Lithuania</td>\n",
       "      <td>NaN</td>\n",
       "      <td>NaN</td>\n",
       "      <td>NaN</td>\n",
       "    </tr>\n",
       "    <tr>\n",
       "      <th>1194</th>\n",
       "      <td>/allexius</td>\n",
       "      <td>Alexander Bauer</td>\n",
       "      <td>1295</td>\n",
       "      <td>2</td>\n",
       "      <td>Germany</td>\n",
       "      <td>NaN</td>\n",
       "      <td>NaN</td>\n",
       "      <td>NaN</td>\n",
       "    </tr>\n",
       "    <tr>\n",
       "      <th>1195</th>\n",
       "      <td>/alexpirozhenko</td>\n",
       "      <td>Alex Pirozhenko</td>\n",
       "      <td>1296</td>\n",
       "      <td>7</td>\n",
       "      <td>United States</td>\n",
       "      <td>5</td>\n",
       "      <td>0.714286</td>\n",
       "      <td>4</td>\n",
       "    </tr>\n",
       "    <tr>\n",
       "      <th>1196</th>\n",
       "      <td>/luthfianto</td>\n",
       "      <td>rilut</td>\n",
       "      <td>1297</td>\n",
       "      <td>12</td>\n",
       "      <td>Indonesia</td>\n",
       "      <td>NaN</td>\n",
       "      <td>NaN</td>\n",
       "      <td>NaN</td>\n",
       "    </tr>\n",
       "    <tr>\n",
       "      <th>1197</th>\n",
       "      <td>/pavitrakumar78</td>\n",
       "      <td>Pavitrakumar</td>\n",
       "      <td>1298</td>\n",
       "      <td>10</td>\n",
       "      <td>India</td>\n",
       "      <td>NaN</td>\n",
       "      <td>NaN</td>\n",
       "      <td>NaN</td>\n",
       "    </tr>\n",
       "    <tr>\n",
       "      <th>1198</th>\n",
       "      <td>/vladdy</td>\n",
       "      <td>Vlad Artamonov</td>\n",
       "      <td>1299</td>\n",
       "      <td>17</td>\n",
       "      <td>unknown</td>\n",
       "      <td>NaN</td>\n",
       "      <td>NaN</td>\n",
       "      <td>NaN</td>\n",
       "    </tr>\n",
       "    <tr>\n",
       "      <th>1199</th>\n",
       "      <td>/dithyrambe</td>\n",
       "      <td>Dithyrambe</td>\n",
       "      <td>1300</td>\n",
       "      <td>5</td>\n",
       "      <td>France</td>\n",
       "      <td>NaN</td>\n",
       "      <td>NaN</td>\n",
       "      <td>NaN</td>\n",
       "    </tr>\n",
       "  </tbody>\n",
       "</table>\n",
       "<p>1200 rows × 8 columns</p>\n",
       "</div>"
      ],
      "text/plain": [
       "                        member_url                 member_name  rank  \\\n",
       "0                        /kazanova  Μαριος Μιχαηλιδης KazAnova     1   \n",
       "1                        /titericz    Gilberto Titericz Junior     2   \n",
       "2                          /stasg7           Stanislav Semenov     3   \n",
       "3                      /owenzhang1                        Owen     4   \n",
       "4                        /aguschin           Alexander Guschin     5   \n",
       "5                        /abhishek                    Abhishek     6   \n",
       "6                       /leustagos                   Leustagos     7   \n",
       "7                          /chaiml                      Cardal     8   \n",
       "8                         /confirm                 Kohei Ozaki     9   \n",
       "9                         /gertjac                        Gert    10   \n",
       "10                     /clustifier                  clustifier    11   \n",
       "11                        /utility                     utility    12   \n",
       "12                       /mikeskim                    Mike Kim    13   \n",
       "13                         /efimov               Dmitry Efimov    14   \n",
       "14                        /sushize                    Shize Su    15   \n",
       "15                /sudalairajkumar                         SRK    16   \n",
       "16                       /blindape            José A. Guerrero    18   \n",
       "17                      /psilogram                    Silogram    19   \n",
       "18                   /jeongyoonlee              Jeong-Yoon Lee    20   \n",
       "19                        /tyi2000                           y    21   \n",
       "20                       /jiweiliu                     rcarson    22   \n",
       "21                /alexxanderlarko            Alexander  Larko    23   \n",
       "22                       /mmueller                       Faron    24   \n",
       "23                        /qwang88                    Qingchen    25   \n",
       "24                        /mjahrer              Michael Jahrer    26   \n",
       "25                     /skylibrary                  SkyLibrary    27   \n",
       "26                         /ccccat            Sergey Yurgenson    28   \n",
       "27                  /chenglongchen              Chenglong Chen    29   \n",
       "28                        /pengyan                      Eureka    30   \n",
       "29                       /ashhafez                   ash hafez    31   \n",
       "...                            ...                         ...   ...   \n",
       "1170                       /goutam                      Goutam  1269   \n",
       "1171                     /grjhuard             Guillaume Huard  1270   \n",
       "1172                      /karakan                Ada Adamczak  1271   \n",
       "1173                    /littlekid                   littlekid  1273   \n",
       "1174                   /vinhnguyen                 Vinh Nguyen  1274   \n",
       "1175                  /felixthecat                 FelixtheCat  1275   \n",
       "1176                  /khaledfayed                Khaled Fayed  1276   \n",
       "1177                       /tanayz                       Tanay  1277   \n",
       "1178            /cerealcorrelation                     Booster  1278   \n",
       "1179                       /itaysh                        Itay  1279   \n",
       "1180                      /hansolo                ZepplinRules  1280   \n",
       "1181                     /centsoft                    centsoft  1281   \n",
       "1182            /kkrishnachaitanya           Krishna Chaitanya  1282   \n",
       "1183   /users/206125/zisheng-zhang               Zisheng Zhang  1283   \n",
       "1184  /users/212708/keshab-k-parhi             Keshab K. Parhi  1284   \n",
       "1185                      /rc95401                     rc95401  1285   \n",
       "1186                      /ohiojoe                         Joe  1286   \n",
       "1187                      /shiva90              ShivaRajendran  1287   \n",
       "1188                      /novosma                     novosma  1288   \n",
       "1189                    /ericcouto                  Eric Couto  1289   \n",
       "1190                 /kaggler79055             Pascal Westring  1290   \n",
       "1191                   /ipasechnik              Igor Pasechnik  1292   \n",
       "1192                   /aikinogard                       Li Li  1293   \n",
       "1193                       /pikquu                       Pikqu  1294   \n",
       "1194                     /allexius             Alexander Bauer  1295   \n",
       "1195               /alexpirozhenko             Alex Pirozhenko  1296   \n",
       "1196                   /luthfianto                       rilut  1297   \n",
       "1197               /pavitrakumar78                Pavitrakumar  1298   \n",
       "1198                       /vladdy              Vlad Artamonov  1299   \n",
       "1199                   /dithyrambe                  Dithyrambe  1300   \n",
       "\n",
       "      num_comp          country  num_teams  team_pct  degree  \n",
       "0           70           Greece         32  0.457143      27  \n",
       "1           62           Brazil         22  0.354839      16  \n",
       "2           28           Russia         11  0.392857      14  \n",
       "3           42    United States          8  0.190476       8  \n",
       "4           20           Russia          4  0.200000       7  \n",
       "5           96          Germany         28  0.291667      31  \n",
       "6           44           Brazil         26  0.590909      19  \n",
       "7            4           Israel        NaN       NaN     NaN  \n",
       "8           67            Japan          7  0.104478      10  \n",
       "9           24  The Netherlands          8  0.333333       9  \n",
       "10          53           Israel          8  0.150943      12  \n",
       "11          14           Russia          6  0.428571       9  \n",
       "12          46    United States         10  0.217391      21  \n",
       "13          36           Russia         17  0.472222      11  \n",
       "14          37    United States         18  0.486486      28  \n",
       "15          48            India         20  0.416667      23  \n",
       "16          45            Spain          3  0.066667       3  \n",
       "17          42      Switzerland          5  0.119048      10  \n",
       "18          54    United States         17  0.314815      19  \n",
       "19          53      South Korea          2  0.037736       2  \n",
       "20          45            China         34  0.755556      17  \n",
       "21          89           Russia         10  0.112360       4  \n",
       "22           9          Germany          4  0.444444       5  \n",
       "23          10  The Netherlands          4  0.400000      11  \n",
       "24          44          Austria         12  0.272727      16  \n",
       "25          24    United States          4  0.166667       2  \n",
       "26          45    United States         13  0.288889      16  \n",
       "27          27            China          1  0.037037       3  \n",
       "28          16            China          7  0.437500      12  \n",
       "29          21    United States          4  0.190476       6  \n",
       "...        ...              ...        ...       ...     ...  \n",
       "1170        12            India        NaN       NaN     NaN  \n",
       "1171         3          unknown          1  0.333333       1  \n",
       "1172         5           Poland          2  0.400000       1  \n",
       "1173         5            China        NaN       NaN     NaN  \n",
       "1174         7        Australia        NaN       NaN     NaN  \n",
       "1175         1   United Kingdom        NaN       NaN     NaN  \n",
       "1176        13            Egypt        NaN       NaN     NaN  \n",
       "1177        14    United States        NaN       NaN     NaN  \n",
       "1178         7          unknown        NaN       NaN     NaN  \n",
       "1179         3           Israel        NaN       NaN     NaN  \n",
       "1180         7    United States        NaN       NaN     NaN  \n",
       "1181         9      New Zealand        NaN       NaN     NaN  \n",
       "1182         7            India          1  0.142857       1  \n",
       "1183         2    United States          2  1.000000       1  \n",
       "1184         2    United States          2  1.000000       1  \n",
       "1185         5          unknown        NaN       NaN     NaN  \n",
       "1186         6    United States        NaN       NaN     NaN  \n",
       "1187         9            India          1  0.111111       1  \n",
       "1188        15      Switzerland        NaN       NaN     NaN  \n",
       "1189        12           Brazil          1  0.083333       1  \n",
       "1190        12          Belgium        NaN       NaN     NaN  \n",
       "1191         2           Russia        NaN       NaN     NaN  \n",
       "1192         3    United States        NaN       NaN     NaN  \n",
       "1193         5        Lithuania        NaN       NaN     NaN  \n",
       "1194         2          Germany        NaN       NaN     NaN  \n",
       "1195         7    United States          5  0.714286       4  \n",
       "1196        12        Indonesia        NaN       NaN     NaN  \n",
       "1197        10            India        NaN       NaN     NaN  \n",
       "1198        17          unknown        NaN       NaN     NaN  \n",
       "1199         5           France        NaN       NaN     NaN  \n",
       "\n",
       "[1200 rows x 8 columns]"
      ]
     },
     "execution_count": 213,
     "metadata": {},
     "output_type": "execute_result"
    }
   ],
   "source": [
    "pros"
   ]
  },
  {
   "cell_type": "code",
   "execution_count": 229,
   "metadata": {},
   "outputs": [
    {
     "data": {
      "image/png": "[encoded data removed]",
      "text/plain": [
       "<matplotlib.figure.Figure at 0x111189810>"
      ]
     },
     "metadata": {},
     "output_type": "display_data"
    }
   ],
   "source": [
    "ax = pros.plot.scatter(x='rank', y='degree', title='Rank vs. Degree of members')\n",
    "ax = pros[:10].plot.scatter(x='rank', y='degree', c='r', ax=ax, label='top 10')"
   ]
  },
  {
   "cell_type": "code",
   "execution_count": null,
   "metadata": {
    "collapsed": true
   },
   "outputs": [],
   "source": [
    "plt.scatter(subset_b.col1, subset_b.col2, s=60, c='r', label='col3 <= 300')"
   ]
  },
  {
   "cell_type": "code",
   "execution_count": 94,
   "metadata": {
    "collapsed": true
   },
   "outputs": [],
   "source": [
    "# do teams form based on the languages and tools they use?\n"
   ]
  },
  {
   "cell_type": "code",
   "execution_count": 95,
   "metadata": {
    "collapsed": true
   },
   "outputs": [],
   "source": [
    "# do people team differently on structured vs unstructured data competitions?\n"
   ]
  },
  {
   "cell_type": "code",
   "execution_count": null,
   "metadata": {
    "collapsed": true
   },
   "outputs": [],
   "source": []
  }
 ],
 "metadata": {
  "anaconda-cloud": {},
  "hide_input": false,
  "kernelspec": {
   "display_name": "Python 3",
   "language": "python",
   "name": "python3"
  },
  "language_info": {
   "codemirror_mode": {
    "name": "ipython",
    "version": 3
   },
   "file_extension": ".py",
   "mimetype": "text/x-python",
   "name": "python",
   "nbconvert_exporter": "python",
   "pygments_lexer": "ipython3",
   "version": "3.6.4"
  }
 },
 "nbformat": 4,
 "nbformat_minor": 2
}
