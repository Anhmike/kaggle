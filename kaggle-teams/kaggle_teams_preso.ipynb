{
 "cells": [
  {
   "cell_type": "markdown",
   "metadata": {
    "slideshow": {
     "slide_type": "slide"
    }
   },
   "source": [
    "# Kaggle Teams !!!\n",
    "[![Kaggle](./images/kaggle.jpg \"Kaggle\")](https://kaggle.com \"Kaggle\" target=\"_blank\")\n",
    "## A quantitative and qualitative look at Kaggle team performance: 2012-2016\n",
    "## How they form, perform, and work"
   ]
  },
  {
   "cell_type": "markdown",
   "metadata": {
    "slideshow": {
     "slide_type": "slide"
    }
   },
   "source": [
    "# What's the goal?\n",
    "\n",
    "- Strategizing to become a Master?\n",
    "- Is it better to join a team or go it alone?\n",
    "- Wondering who, where, and what goes in to a winning team?\n",
    "- Wondering how to get invited to a team?\n",
    "- Wondering how to create a team?\n",
    "- What are the best tools, stacks?\n",
    "- How to achieve top results?"
   ]
  },
  {
   "cell_type": "markdown",
   "metadata": {
    "slideshow": {
     "slide_type": "slide"
    }
   },
   "source": [
    "# Me - [paulperry](https://www.kaggle.com/paulperry)\n",
    "\n",
    "[https://www.kaggle.com/paulperry](https://www.kaggle.com/paulperry)\n",
    "\n",
    "[![Paul](./images/pop.png \"\")](https://www.kaggle.com/paulperry \"paulperry\" target=\"_blank\") \n",
    "\n"
   ]
  },
  {
   "cell_type": "markdown",
   "metadata": {
    "slideshow": {
     "slide_type": "slide"
    }
   },
   "source": [
    "# Strategizing to become a Master\n",
    "- **Don't chase the leaderboard**: You are at risk of overfiting.\n",
    "- **Don't chase rank** Don't be a lazy kaggler and chase rank by submitting other people's scripts. \n",
    "- **Read the Forums**: seems obvious but every little nugget counts.\n",
    "- **Share some scripts**: scripts do provide great opportunities for code sharing and learning, but beat those scripts\n",
    "- **[How long does it take to place first?](https://www.kaggle.com/shujian/how-long-it-takes-to-win-1st-on-kaggle)** About a year.\n"
   ]
  },
  {
   "cell_type": "markdown",
   "metadata": {
    "slideshow": {
     "slide_type": "subslide"
    }
   },
   "source": [
    "# [Scripty McScriptface the Lazy Kaggler](https://www.kaggle.com/dvasyukova/scripty-mcscriptface-the-lazy-kaggler)\n",
    "\n",
    "[![Scripty](./images/scripty.png \"\")](https://www.kaggle.com/dvasyukova/scripty-medals \"\" target=\"_blank\")"
   ]
  },
  {
   "cell_type": "markdown",
   "metadata": {
    "slideshow": {
     "slide_type": "slide"
    }
   },
   "source": [
    "# Are you better off solo?\n",
    "\n",
    "**[solo wins are rare](https://www.kaggle.com/reaces/are-you-better-of-solo/output \"solo wins\")**, and only after a lot of submissions\n",
    "\n",
    "[![Team vs. Solo](./images/team_v_solo.png)](https://www.kaggle.com/rachelsunny/do-teams-perform-better-than-soloists)"
   ]
  },
  {
   "cell_type": "markdown",
   "metadata": {
    "slideshow": {
     "slide_type": "slide"
    }
   },
   "source": [
    "# Kagglers are teaming up more\n",
    "[![No. of Teams](./images/team_no.png \"number of teams\")](https://www.kaggle.com/jeongyoonlee/kaggle-competitions-over-time-w-updated-data/notebook \"Number of Teams Competiting in Kaggle Competitions\")\n",
    "\n",
    "* Credit [Jeong-Yoon Lee](https://www.kaggle.com/jeongyoonlee)\n",
    "\n"
   ]
  },
  {
   "cell_type": "markdown",
   "metadata": {
    "slideshow": {
     "slide_type": "slide"
    }
   },
   "source": [
    "# And teams are winning more\n",
    "- In [May 13, 2015](http://blog.kaggle.com/2015/05/13/improved-kaggle-rankings/ \"\" target=\"_blank\"), Kaggle updated the ranking system to penalize teams less than before. \n",
    "- Recent competitions (after May 15, 2015) feature big and rich data sets conducive to blending has meant increased team-ups in the top of the leaderboard.\n",
    "- [TL;DR: New masters are still being made](https://www.kaggle.com/willieliao/making-the-master-tier-top-10-version?scriptVersionId=399231). Keep learning, climb the leaderboard, and team up.\n",
    "\n",
    "[![Increased teamups](./images/teamups.png \"Increased Teamups\")](https://www.kaggle.com/willieliao/making-the-master-tier-top-10-version?scriptVersionId=399231 \"\" target=\"_blank\")"
   ]
  },
  {
   "cell_type": "markdown",
   "metadata": {
    "slideshow": {
     "slide_type": "slide"
    }
   },
   "source": [
    "# When do you team up?\n",
    "\n",
    "- There is a lot to learn from the top data science practitioners. \n",
    " - They have dedicated a lot of time to develop their workflows, \n",
    " - have great intuition of what methods are likely to work, \n",
    " - and are efficient in their use of time.\n",
    "- “strategic” teaming: somewhere after 1/3 of the competition. \n",
    " - You plan to work together, learn, cooperate. \n",
    " - You may select teammates based on complimentary strengths. \n",
    " - You also can see if potential teammate actively participates in the competition and will not be a ballast. \n",
    " - Also by then you know if you want to dedicate time to competition yourself. \n",
    "- “tactical” teaming: Just before teaming deadline\n",
    " - Not much time to cooperate, but lets blend our models. \n",
    " - Makes sense for people close to each other on leaderboard especially near some threshold (teams 4 and 5 hoping to jump to second place after teaming-up) or near gold medal threshold\n",
    "\n",
    "2. “Grandmaster problem” - needs individual gold medal. \n",
    "- Easy to do during recruiting competitions when teams are not allowed and scripts are limited.\n"
   ]
  },
  {
   "cell_type": "markdown",
   "metadata": {
    "slideshow": {
     "slide_type": "slide"
    }
   },
   "source": [
    "# Who do you team up with?\n",
    "\n",
    "- user ranking in current competition\n",
    "- user ranking in previous competition\n",
    "- someone with a different solution than yours:\n",
    "> \"I usually ask the potential member about the solution and I try to figure out if its relatively different from my current solution. One thing that makes you win is diversity of solutions. Remember that blending 2 solution with low correlation is much better that blend 0.999 correlated solutions.\"\n",
    " [Titericz](https://www.kaggle.com/titericz) (aka giba1) [ref](https://docs.google.com/spreadsheets/d/19CBOB0a2HaGORDOBep0F8sltWr_Vv-h8Z0zAayqJGcY/edit#gid=95630921)\n",
    "- availability for the competition\n",
    "- user computer resources\n",
    "- someone who is active in the forums and who shares kernels\n",
    "- Someone with some experience, good work ethic, and positive attitude\n",
    "> \"There has been exceptions, but in general would like someone that has played at least a few kaggle competitions . This is mainly to ensure that he/she understands the rules well, will not attempt cheating or do something funny by mistake . \n",
    "> I like a good work ethic. Good communications with positive attitude. There is no other requirement. In general I don't see a collaboration as a business thing. I am much more happy if after a potential merge we can be friends and long-lasting teammates with the group.\" [Kazanova](https://www.kaggle.com/kazanova)"
   ]
  },
  {
   "cell_type": "markdown",
   "metadata": {
    "slideshow": {
     "slide_type": "slide"
    }
   },
   "source": [
    "# How do you find team members?\n",
    "- [Top 100 Users with Most Team Memberships](https://www.kaggle.com/mlandry/top-100-users-with-most-team-memberships/code)\n",
    "- [Common Colloaborators](https://www.kaggle.com/mlandry/in-progress/code)\n",
    "- [Who are the most connected Kagglers?](https://www.kaggle.com/lbronchal/who-are-the-most-connected-kagglers)"
   ]
  },
  {
   "cell_type": "markdown",
   "metadata": {
    "slideshow": {
     "slide_type": "slide"
    }
   },
   "source": [
    "# The Kaggle Social Graph of Top Players\n",
    "![The Kaggle Social Graph of Top Players](./images/kaggle_teams.png)"
   ]
  },
  {
   "cell_type": "markdown",
   "metadata": {
    "slideshow": {
     "slide_type": "slide"
    }
   },
   "source": [
    "# How does the team organize their work?\n",
    "\n",
    "Kaggle team interview questions: What works? What doesn't work?\n",
    "\n",
    "1. How do you select who you want to team with?\n",
    "- How do you communicate? Email, chat, video chat?\n",
    "- How do you share data (or features)?\n",
    "- Do you share code? If so, how?\n",
    "- Do you share code frameworks?\n",
    "- How do you decide to divide the work?\n",
    "- How do you avoid duplicative work? Or repeated work?\n",
    "- How do you avoid team members finding the same stuff?\n",
    "- How do you keep track of model performance?\n",
    "- How do you decide who gets to submit what on each day?\n",
    "- Who picks and and how do you pick the final submissions?\n",
    "- If you wanted to learn what worked on other Kaggle teams, what questions would you ask?\n"
   ]
  },
  {
   "cell_type": "markdown",
   "metadata": {
    "slideshow": {
     "slide_type": "slide"
    }
   },
   "source": [
    "# Interview with Lucas Eustaquio da Silva (Leustagos) 2/29/2016\n",
    "\n",
    "1. How do you communicate? Email, chat, video chat? - **chat**\n",
    "- How do you share code? - **usually we don't, but when we do, its on dropbox**\n",
    "- How do you share data (or features)? - **csv on dropbox**\n",
    "- Do you share code frameworks? - **people don't like much to mess with another code**\n",
    "- How do you decide to divide the work? - **chat, but we usually have some slightly different approaches. its rare but we can suggest each other based on availability which ideas we can pursue first. Usually telling what i will do prevent others from doing the same**\n",
    "- How do you avoid duplicative work? Or repeated work? - **we don't avoid, but its not a big issue. i don't team up from the start so we can have distinct approaches when merging teams**\n",
    "- How do you avoid team members finding the same stuff? - **we don't**\n",
    "- How do you keep track of model performance? - **each one is responsible for keeping its versioning. i use git, some just duplicate and enumerate files. on each submission we describe which models we used to generate it**\n",
    "- How do you decide who gets to submit what on each day? - **common sense. we divide eauqly the number of submissions, but if someones need more he asks**\n",
    "- Who picks and and how do you pick the final submissions? - **the leader picks it. its a consensus. i never had any trouble to do it. with the right reasons its very easy to choose. Of course some times i don't agree and we just go with the majority. just don't be very picky and it will go smoothly.  its very rare for me to not pick my best submission. except on some competitions that are too random.**\n",
    "\n",
    "Lucas\n"
   ]
  },
  {
   "cell_type": "markdown",
   "metadata": {
    "slideshow": {
     "slide_type": "slide"
    }
   },
   "source": [
    "# A proposed hierarchy of Kaggle team cooperation\n",
    "\n",
    "First, forget [\"team camarderie\"](http://analyticscosm.com/how-to-form-great-teams-of-data-scientists/).  This is your last priority. \n",
    "\n",
    "1. Agree on how and when to communicate: Slack, Discord, etc\n",
    "- Share ideas\n",
    "- Keep track of model performance across the team\n",
    "- Share resultsets\n",
    "- Agree on a CV strategy (fix fold indexes) \n",
    "- Ensemble model results: Usually one team member I responsible to keep the stack ensembling working. \n",
    "- Have a way to compare models\n",
    "- Share derived features\n",
    "- Share code fragments"
   ]
  },
  {
   "cell_type": "markdown",
   "metadata": {
    "slideshow": {
     "slide_type": "slide"
    }
   },
   "source": [
    "# DO: What teams could do better\n",
    "\n",
    "1. Share code frameworks\n",
    "- Share cloud infrastructure\n",
    "- Share workload (split feature generation)\n",
    "- Review each other's work. Point to any obvious errors or omissions.\n",
    "- Share a computing instance\n",
    "- Share code platform\n",
    "- Develop a framework !\n"
   ]
  },
  {
   "cell_type": "markdown",
   "metadata": {
    "slideshow": {
     "slide_type": "slide"
    }
   },
   "source": [
    "# DON'T: What teams want to avoid\n",
    "\n",
    "1.  Avoid sharing too many ideas to the point every team member is building exactly the same solution"
   ]
  }
 ],
 "metadata": {
  "anaconda-cloud": {},
  "celltoolbar": "Slideshow",
  "hide_input": false,
  "kernelspec": {
   "display_name": "Python 3",
   "language": "python",
   "name": "python3"
  },
  "language_info": {
   "codemirror_mode": {
    "name": "ipython",
    "version": 3
   },
   "file_extension": ".py",
   "mimetype": "text/x-python",
   "name": "python",
   "nbconvert_exporter": "python",
   "pygments_lexer": "ipython3",
   "version": "3.6.4"
  }
 },
 "nbformat": 4,
 "nbformat_minor": 2
}
