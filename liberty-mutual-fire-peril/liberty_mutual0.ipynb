{
 "metadata": {
  "name": "",
  "signature": "sha256:f900ea84a4da4d8519177441e7fb6a080f267cc5c898af3e1b5a39c3a18e9180"
 },
 "nbformat": 3,
 "nbformat_minor": 0,
 "worksheets": [
  {
   "cells": [
    {
     "cell_type": "markdown",
     "metadata": {},
     "source": [
      "# Kaggle Libery Mutual Group - Fire Peril Loss Cost"
     ]
    },
    {
     "cell_type": "markdown",
     "metadata": {},
     "source": [
      "# Predict expected fire losses for insurance policies\n",
      "\n",
      "A Fortune 100 company, Liberty Mutual Insurance has provided a wide range of insurance products and services designed to meet our customers' ever-changing needs for over 100 years.\n",
      "\n",
      "Within the business insurance industry, fire losses account for a significant portion of total property losses. High severity and low frequency, fire losses are inherently volatile, which makes modeling them difficult. In this challenge, your task is to predict the target, a transformed ratio of loss to total insured value, using the provided information. This will enable more accurate identification of each policyholder\u2019s risk exposure and the ability to tailor the insurance coverage for their specific operation.\n",
      "\n",
      "Because we seek to tap innovation both inside and outside the company, certain eligible Liberty Mutual employees are encouraged to participate in this challenge for development purposes. Refer to the competition rules for the full details.\n",
      "\n",
      "## The Data\n",
      "\n",
      "This data represents almost a million insurance records and the task is to predict a transformed ratio of loss to total insured value (called \"target\" within the data set). The provided features contain policy characteristics, information on crime rate, geodemographics, and weather.\n",
      "\n",
      "The train and test sets are split randomly. For each id in the test set, you must predict the target using the provided features.\n",
      "\n",
      "Data Fields\n",
      "\n",
      "__id__ : A unique identifier of the data set\n",
      "\n",
      "__target__ : The transformed ratio of loss to total insured value\n",
      "\n",
      "__dummy__ : Nuisance variable used to control the model, but not working as a predictor\n",
      "\n",
      "__var1 \u2013 var17__ : A set of normalized variables representing policy characteristics (note: var11 is the weight used in the weighted gini score calculation)\n",
      "\n",
      "__crimeVar1__ \u2013 crimeVar9: A set of normalized Crime Rate variables\n",
      "\n",
      "__geodemVar1__ \u2013 geodemVar37 : A set of normalized geodemographic variables\n",
      "\n",
      "__weatherVar1__ \u2013 weatherVar236 : A set of normalized weather station variables\n",
      "\n",
      "Data Type\n",
      "\n",
      "Categorical Variable Name | Variable Type | Possible Values\n",
      "--------------------------|---------------|----------------\n",
      "var1 | Ordinal | 2, 3, 4, 5, Z*\n",
      "var2 | Nominal | A, B, C, Z*\n",
      "var3 | Ordinal | 1, 2, 3, 4, 5, 6, Z*\n",
      "var4+ | Nominal | A1, B1, C1, D1, D2, D3, D4, E1, E2, E3, E4, E5, E6, F1, G1, G2, H1, H2, H3, I1, J1, J2, J3, J4, J5, J6, K1, L1, M1, N1, O1, O2, P1, R1, R2, R3, R4, R5, R6, R7, R8, S1, Z*\n",
      "var5 | Nominal | A, B, C, D, E, F, Z*\n",
      "var6 | Nominal | A, B, C, Z*\n",
      "var7 | Ordinal | 1, 2, 3, 4, 5, 6, 7, 8, Z*\n",
      "var8 | Ordinal | 1, 2, 3, 4, 5, 6, Z*\n",
      "var9 | Nominal | A, B, Z*\n",
      "dummy | Nominal | A, B\n",
      "\n",
      "* : Level \"Z\" in these variable represents a missing value. Missing values elsewhere in the data are denoted with NA\n",
      "\n",
      "+: Levels for var4 are in a hierarchical structure. The letter represents higher level and the number following the letter represents lower level nested within the higher level.\n",
      "\n",
      "Numeric Variable Name | Variable Type\n",
      "----------------------|--------------\n",
      "target | Continuous\n",
      "id | Discrete\n",
      "var10 | Continuous\n",
      "var11 | Continuous\n",
      "var12 | Continuous\n",
      "var13 | Continuous\n",
      "var14 | Continuous\n",
      "var15 | Continuous\n",
      "var16 | Continuous\n",
      "var17 | Continuous\n",
      "crimeVar1 \u2013 crimeVar9 | Continuous\n",
      "geoDemVar1 \u2013 geoDemVar37 | Continuous\n",
      "weatherVar1 \u2013 weatherVar236 | Continuous\n"
     ]
    },
    {
     "cell_type": "code",
     "collapsed": false,
     "input": [
      "import pandas as pd\n",
      "import csv \n",
      "import matplotlib.pyplot as plt\n",
      "%pylab inline"
     ],
     "language": "python",
     "metadata": {},
     "outputs": [
      {
       "output_type": "stream",
       "stream": "stdout",
       "text": [
        "Populating the interactive namespace from numpy and matplotlib\n"
       ]
      }
     ],
     "prompt_number": 1
    },
    {
     "cell_type": "code",
     "collapsed": false,
     "input": [
      "df_train = pd.read_csv(\"train.csv\", na_values='Z')"
     ],
     "language": "python",
     "metadata": {},
     "outputs": [],
     "prompt_number": 2
    },
    {
     "cell_type": "code",
     "collapsed": false,
     "input": [
      "df_train.to_csv(\"train_clean.csv\", index=False, na_rep='?', mode='wb')"
     ],
     "language": "python",
     "metadata": {},
     "outputs": [],
     "prompt_number": 5
    },
    {
     "cell_type": "code",
     "collapsed": false,
     "input": [
      "columns = ['id','target','var1','var2','var3','var4','var5','var6','var7','var8','var9','var10','var11','var12','var13','var14','var15','var16','var17','dummy','crimeVar1','crimeVar2','crimeVar3','crimeVar4','crimeVar5','crimeVar6','crimeVar7','crimeVar8','crimeVar9','geodemVar1','geodemVar2','geodemVar3','geodemVar4','geodemVar5','geodemVar6','geodemVar7','geodemVar8','geodemVar9','geodemVar10','geodemVar11','geodemVar12','geodemVar13','geodemVar14','geodemVar15','geodemVar16','geodemVar17','geodemVar18','geodemVar19','geodemVar20','geodemVar21','geodemVar22','geodemVar23','geodemVar24','geodemVar25','geodemVar26','geodemVar27','geodemVar28','geodemVar29','geodemVar30','geodemVar31','geodemVar32','geodemVar33','geodemVar34','geodemVar35','geodemVar36','geodemVar37','weatherVar1','weatherVar2','weatherVar3','weatherVar4','weatherVar5','weatherVar6','weatherVar7','weatherVar8','weatherVar9','weatherVar10','weatherVar11','weatherVar12','weatherVar13','weatherVar14','weatherVar15','weatherVar16','weatherVar17','weatherVar18','weatherVar19','weatherVar20','weatherVar21','weatherVar22','weatherVar23','weatherVar24','weatherVar25','weatherVar26','weatherVar27','weatherVar28','weatherVar29','weatherVar30','weatherVar31','weatherVar32','weatherVar33','weatherVar34','weatherVar35','weatherVar36','weatherVar37','weatherVar38','weatherVar39','weatherVar40','weatherVar41','weatherVar42','weatherVar43','weatherVar44','weatherVar45','weatherVar46','weatherVar47','weatherVar48','weatherVar49','weatherVar50','weatherVar51','weatherVar52','weatherVar53','weatherVar54','weatherVar55','weatherVar56','weatherVar57','weatherVar58','weatherVar59','weatherVar60','weatherVar61','weatherVar62','weatherVar63','weatherVar64','weatherVar65','weatherVar66','weatherVar67','weatherVar68','weatherVar69','weatherVar70','weatherVar71','weatherVar72','weatherVar73','weatherVar74','weatherVar75','weatherVar76','weatherVar77','weatherVar78','weatherVar79','weatherVar80','weatherVar81','weatherVar82','weatherVar83','weatherVar84','weatherVar85','weatherVar86','weatherVar87','weatherVar88','weatherVar89','weatherVar90','weatherVar91','weatherVar92','weatherVar93','weatherVar94','weatherVar95','weatherVar96','weatherVar97','weatherVar98','weatherVar99','weatherVar100','weatherVar101','weatherVar102','weatherVar103','weatherVar104','weatherVar105','weatherVar106','weatherVar107','weatherVar108','weatherVar109','weatherVar110','weatherVar111','weatherVar112','weatherVar113','weatherVar114','weatherVar115','weatherVar116','weatherVar117','weatherVar118','weatherVar119','weatherVar120','weatherVar121','weatherVar122','weatherVar123','weatherVar124','weatherVar125','weatherVar126','weatherVar127','weatherVar128','weatherVar129','weatherVar130','weatherVar131','weatherVar132','weatherVar133','weatherVar134','weatherVar135','weatherVar136','weatherVar137','weatherVar138','weatherVar139','weatherVar140','weatherVar141','weatherVar142','weatherVar143','weatherVar144','weatherVar145','weatherVar146','weatherVar147','weatherVar148','weatherVar149','weatherVar150','weatherVar151','weatherVar152','weatherVar153','weatherVar154','weatherVar155','weatherVar156','weatherVar157','weatherVar158','weatherVar159','weatherVar160','weatherVar161','weatherVar162','weatherVar163','weatherVar164','weatherVar165','weatherVar166','weatherVar167','weatherVar168','weatherVar169','weatherVar170','weatherVar171','weatherVar172','weatherVar173','weatherVar174','weatherVar175','weatherVar176','weatherVar177','weatherVar178','weatherVar179','weatherVar180','weatherVar181','weatherVar182','weatherVar183','weatherVar184','weatherVar185','weatherVar186','weatherVar187','weatherVar188','weatherVar189','weatherVar190','weatherVar191','weatherVar192','weatherVar193','weatherVar194','weatherVar195','weatherVar196','weatherVar197','weatherVar198','weatherVar199','weatherVar200','weatherVar201','weatherVar202','weatherVar203','weatherVar204','weatherVar205','weatherVar206','weatherVar207','weatherVar208','weatherVar209','weatherVar210','weatherVar211','weatherVar212','weatherVar213','weatherVar214','weatherVar215','weatherVar216','weatherVar217','weatherVar218','weatherVar219','weatherVar220','weatherVar221','weatherVar222','weatherVar223','weatherVar224','weatherVar225','weatherVar226','weatherVar227','weatherVar228','weatherVar229','weatherVar230','weatherVar231','weatherVar232','weatherVar233','weatherVar234','weatherVar235','weatherVar236'\n",
      "]"
     ],
     "language": "python",
     "metadata": {},
     "outputs": [],
     "prompt_number": 22
    },
    {
     "cell_type": "code",
     "collapsed": false,
     "input": [
      "len(df_test.index)"
     ],
     "language": "python",
     "metadata": {},
     "outputs": [
      {
       "metadata": {},
       "output_type": "pyout",
       "prompt_number": 69,
       "text": [
        "450728"
       ]
      }
     ],
     "prompt_number": 69
    },
    {
     "cell_type": "code",
     "collapsed": false,
     "input": [
      "summary = df_train.describe()"
     ],
     "language": "python",
     "metadata": {},
     "outputs": [],
     "prompt_number": 34
    },
    {
     "cell_type": "code",
     "collapsed": false,
     "input": [
      "summary"
     ],
     "language": "python",
     "metadata": {},
     "outputs": [
      {
       "html": [
        "<div style=\"max-height:1000px;max-width:1500px;overflow:auto;\">\n",
        "<table border=\"1\" class=\"dataframe\">\n",
        "  <thead>\n",
        "    <tr style=\"text-align: right;\">\n",
        "      <th></th>\n",
        "      <th>id</th>\n",
        "      <th>target</th>\n",
        "      <th>var1</th>\n",
        "      <th>var3</th>\n",
        "      <th>var7</th>\n",
        "      <th>var8</th>\n",
        "      <th>var10</th>\n",
        "      <th>var11</th>\n",
        "      <th>var12</th>\n",
        "      <th>var13</th>\n",
        "      <th>var14</th>\n",
        "      <th>var15</th>\n",
        "      <th>var16</th>\n",
        "      <th>var17</th>\n",
        "      <th>crimeVar1</th>\n",
        "      <th>crimeVar2</th>\n",
        "      <th>crimeVar3</th>\n",
        "      <th>crimeVar4</th>\n",
        "      <th>crimeVar5</th>\n",
        "      <th>crimeVar6</th>\n",
        "      <th></th>\n",
        "    </tr>\n",
        "  </thead>\n",
        "  <tbody>\n",
        "    <tr>\n",
        "      <th>count</th>\n",
        "      <td> 452061.000000</td>\n",
        "      <td> 452061.000000</td>\n",
        "      <td> 114096.000000</td>\n",
        "      <td> 57027.000000</td>\n",
        "      <td> 451205.000000</td>\n",
        "      <td> 444606.000000</td>\n",
        "      <td> 452061.000000</td>\n",
        "      <td> 452061.000000</td>\n",
        "      <td> 97019.000000</td>\n",
        "      <td> 452061.000000</td>\n",
        "      <td> 161595.000000</td>\n",
        "      <td> 353205.000000</td>\n",
        "      <td> 90368.000000</td>\n",
        "      <td> 452061.000000</td>\n",
        "      <td> 342073.000000</td>\n",
        "      <td> 337508.000000</td>\n",
        "      <td> 342073.000000</td>\n",
        "      <td> 339263.000000</td>\n",
        "      <td> 341406.000000</td>\n",
        "      <td> 342073.000000</td>\n",
        "      <td>...</td>\n",
        "    </tr>\n",
        "    <tr>\n",
        "      <th>mean</th>\n",
        "      <td> 451070.861853</td>\n",
        "      <td>      0.007234</td>\n",
        "      <td>      2.860547</td>\n",
        "      <td>     3.472688</td>\n",
        "      <td>      3.733722</td>\n",
        "      <td>      2.644389</td>\n",
        "      <td>      4.127975</td>\n",
        "      <td>   1317.632371</td>\n",
        "      <td>     3.099522</td>\n",
        "      <td>      1.301104</td>\n",
        "      <td>      0.224294</td>\n",
        "      <td>     31.190926</td>\n",
        "      <td>    73.423978</td>\n",
        "      <td>     68.670198</td>\n",
        "      <td>      1.030203</td>\n",
        "      <td>      0.985531</td>\n",
        "      <td>      0.986128</td>\n",
        "      <td>      0.981546</td>\n",
        "      <td>      1.047476</td>\n",
        "      <td>      0.999939</td>\n",
        "      <td>...</td>\n",
        "    </tr>\n",
        "    <tr>\n",
        "      <th>std</th>\n",
        "      <td> 260818.512155</td>\n",
        "      <td>      0.219688</td>\n",
        "      <td>      0.730702</td>\n",
        "      <td>     1.033326</td>\n",
        "      <td>      1.558711</td>\n",
        "      <td>      1.252695</td>\n",
        "      <td>      0.310939</td>\n",
        "      <td>   1087.728082</td>\n",
        "      <td>     0.288517</td>\n",
        "      <td>      0.815758</td>\n",
        "      <td>      0.429743</td>\n",
        "      <td>     25.445245</td>\n",
        "      <td>    43.330728</td>\n",
        "      <td>     37.236025</td>\n",
        "      <td>      0.456583</td>\n",
        "      <td>      0.415699</td>\n",
        "      <td>      0.398162</td>\n",
        "      <td>      0.264466</td>\n",
        "      <td>      0.507184</td>\n",
        "      <td>      0.500096</td>\n",
        "      <td>...</td>\n",
        "    </tr>\n",
        "    <tr>\n",
        "      <th>min</th>\n",
        "      <td>      1.000000</td>\n",
        "      <td>      0.000000</td>\n",
        "      <td>      1.000000</td>\n",
        "      <td>     1.000000</td>\n",
        "      <td>      1.000000</td>\n",
        "      <td>      1.000000</td>\n",
        "      <td>      3.742477</td>\n",
        "      <td>    500.000000</td>\n",
        "      <td>     0.000000</td>\n",
        "      <td>      0.000000</td>\n",
        "      <td>      0.000000</td>\n",
        "      <td>      0.000000</td>\n",
        "      <td>     0.000000</td>\n",
        "      <td>      0.000000</td>\n",
        "      <td>      0.083394</td>\n",
        "      <td>      0.327155</td>\n",
        "      <td>      0.040040</td>\n",
        "      <td>      0.400622</td>\n",
        "      <td>      0.121572</td>\n",
        "      <td>      0.000000</td>\n",
        "      <td>...</td>\n",
        "    </tr>\n",
        "    <tr>\n",
        "      <th>25%</th>\n",
        "      <td> 224901.000000</td>\n",
        "      <td>      0.000000</td>\n",
        "      <td>      2.000000</td>\n",
        "      <td>     3.000000</td>\n",
        "      <td>      3.000000</td>\n",
        "      <td>      2.000000</td>\n",
        "      <td>      3.898949</td>\n",
        "      <td>    681.909085</td>\n",
        "      <td>     2.937775</td>\n",
        "      <td>      0.832555</td>\n",
        "      <td>      0.000000</td>\n",
        "      <td>     13.000000</td>\n",
        "      <td>     9.000000</td>\n",
        "      <td>     50.000000</td>\n",
        "      <td>      0.711440</td>\n",
        "      <td>      0.625186</td>\n",
        "      <td>      0.698881</td>\n",
        "      <td>      0.739102</td>\n",
        "      <td>      0.572656</td>\n",
        "      <td>      0.727214</td>\n",
        "      <td>...</td>\n",
        "    </tr>\n",
        "    <tr>\n",
        "      <th>50%</th>\n",
        "      <td> 451349.000000</td>\n",
        "      <td>      0.000000</td>\n",
        "      <td>      3.000000</td>\n",
        "      <td>     3.000000</td>\n",
        "      <td>      3.000000</td>\n",
        "      <td>      3.000000</td>\n",
        "      <td>      4.039930</td>\n",
        "      <td>    940.212742</td>\n",
        "      <td>     3.095465</td>\n",
        "      <td>      1.394959</td>\n",
        "      <td>      0.000000</td>\n",
        "      <td>     26.000000</td>\n",
        "      <td>   100.000000</td>\n",
        "      <td>     85.971597</td>\n",
        "      <td>      0.919645</td>\n",
        "      <td>      0.910459</td>\n",
        "      <td>      0.924562</td>\n",
        "      <td>      0.945046</td>\n",
        "      <td>      1.035717</td>\n",
        "      <td>      1.030220</td>\n",
        "      <td>...</td>\n",
        "    </tr>\n",
        "    <tr>\n",
        "      <th>75%</th>\n",
        "      <td> 676883.000000</td>\n",
        "      <td>      0.000000</td>\n",
        "      <td>      3.000000</td>\n",
        "      <td>     4.000000</td>\n",
        "      <td>      5.000000</td>\n",
        "      <td>      4.000000</td>\n",
        "      <td>      4.314082</td>\n",
        "      <td>   1499.909331</td>\n",
        "      <td>     3.273289</td>\n",
        "      <td>      1.939381</td>\n",
        "      <td>      0.000000</td>\n",
        "      <td>     42.000000</td>\n",
        "      <td>   100.000000</td>\n",
        "      <td>    100.000000</td>\n",
        "      <td>      1.209807</td>\n",
        "      <td>      1.328313</td>\n",
        "      <td>      1.190282</td>\n",
        "      <td>      1.147865</td>\n",
        "      <td>      1.322650</td>\n",
        "      <td>      1.191823</td>\n",
        "      <td>...</td>\n",
        "    </tr>\n",
        "    <tr>\n",
        "      <th>max</th>\n",
        "      <td> 902789.000000</td>\n",
        "      <td>     25.920138</td>\n",
        "      <td>      5.000000</td>\n",
        "      <td>     6.000000</td>\n",
        "      <td>      8.000000</td>\n",
        "      <td>      6.000000</td>\n",
        "      <td>      5.677710</td>\n",
        "      <td>  14104.377707</td>\n",
        "      <td>     4.210413</td>\n",
        "      <td>      2.894981</td>\n",
        "      <td>      2.168059</td>\n",
        "      <td>    440.500000</td>\n",
        "      <td>   100.000000</td>\n",
        "      <td>    100.000000</td>\n",
        "      <td>      3.077587</td>\n",
        "      <td>      2.970605</td>\n",
        "      <td>      5.933211</td>\n",
        "      <td>      2.041274</td>\n",
        "      <td>      2.391149</td>\n",
        "      <td>      5.252100</td>\n",
        "      <td>...</td>\n",
        "    </tr>\n",
        "  </tbody>\n",
        "</table>\n",
        "<p>8 rows \u00d7 296 columns</p>\n",
        "</div>"
       ],
       "metadata": {},
       "output_type": "pyout",
       "prompt_number": 35,
       "text": [
        "                  id         target           var1          var3  \\\n",
        "count  452061.000000  452061.000000  114096.000000  57027.000000   \n",
        "mean   451070.861853       0.007234       2.860547      3.472688   \n",
        "std    260818.512155       0.219688       0.730702      1.033326   \n",
        "min         1.000000       0.000000       1.000000      1.000000   \n",
        "25%    224901.000000       0.000000       2.000000      3.000000   \n",
        "50%    451349.000000       0.000000       3.000000      3.000000   \n",
        "75%    676883.000000       0.000000       3.000000      4.000000   \n",
        "max    902789.000000      25.920138       5.000000      6.000000   \n",
        "\n",
        "                var7           var8          var10          var11  \\\n",
        "count  451205.000000  444606.000000  452061.000000  452061.000000   \n",
        "mean        3.733722       2.644389       4.127975    1317.632371   \n",
        "std         1.558711       1.252695       0.310939    1087.728082   \n",
        "min         1.000000       1.000000       3.742477     500.000000   \n",
        "25%         3.000000       2.000000       3.898949     681.909085   \n",
        "50%         3.000000       3.000000       4.039930     940.212742   \n",
        "75%         5.000000       4.000000       4.314082    1499.909331   \n",
        "max         8.000000       6.000000       5.677710   14104.377707   \n",
        "\n",
        "              var12          var13          var14          var15  \\\n",
        "count  97019.000000  452061.000000  161595.000000  353205.000000   \n",
        "mean       3.099522       1.301104       0.224294      31.190926   \n",
        "std        0.288517       0.815758       0.429743      25.445245   \n",
        "min        0.000000       0.000000       0.000000       0.000000   \n",
        "25%        2.937775       0.832555       0.000000      13.000000   \n",
        "50%        3.095465       1.394959       0.000000      26.000000   \n",
        "75%        3.273289       1.939381       0.000000      42.000000   \n",
        "max        4.210413       2.894981       2.168059     440.500000   \n",
        "\n",
        "              var16          var17      crimeVar1      crimeVar2  \\\n",
        "count  90368.000000  452061.000000  342073.000000  337508.000000   \n",
        "mean      73.423978      68.670198       1.030203       0.985531   \n",
        "std       43.330728      37.236025       0.456583       0.415699   \n",
        "min        0.000000       0.000000       0.083394       0.327155   \n",
        "25%        9.000000      50.000000       0.711440       0.625186   \n",
        "50%      100.000000      85.971597       0.919645       0.910459   \n",
        "75%      100.000000     100.000000       1.209807       1.328313   \n",
        "max      100.000000     100.000000       3.077587       2.970605   \n",
        "\n",
        "           crimeVar3      crimeVar4      crimeVar5      crimeVar6      \n",
        "count  342073.000000  339263.000000  341406.000000  342073.000000 ...  \n",
        "mean        0.986128       0.981546       1.047476       0.999939 ...  \n",
        "std         0.398162       0.264466       0.507184       0.500096 ...  \n",
        "min         0.040040       0.400622       0.121572       0.000000 ...  \n",
        "25%         0.698881       0.739102       0.572656       0.727214 ...  \n",
        "50%         0.924562       0.945046       1.035717       1.030220 ...  \n",
        "75%         1.190282       1.147865       1.322650       1.191823 ...  \n",
        "max         5.933211       2.041274       2.391149       5.252100 ...  \n",
        "\n",
        "[8 rows x 296 columns]"
       ]
      }
     ],
     "prompt_number": 35
    },
    {
     "cell_type": "code",
     "collapsed": false,
     "input": [
      "s_target = df_train.target.order(ascending=False)\n",
      "s_target[:100].plot(use_index=False)"
     ],
     "language": "python",
     "metadata": {},
     "outputs": [
      {
       "metadata": {},
       "output_type": "pyout",
       "prompt_number": 36,
       "text": [
        "<matplotlib.axes.AxesSubplot at 0x7fc090438f10>"
       ]
      },
      {
       "metadata": {},
       "output_type": "display_data",
       "png": "[encoded data removed]",
       "text": [
        "<matplotlib.figure.Figure at 0x7fc0906d1a10>"
       ]
      }
     ],
     "prompt_number": 36
    },
    {
     "cell_type": "code",
     "collapsed": false,
     "input": [
      "df_train[df_train.target > 0].id.count()"
     ],
     "language": "python",
     "metadata": {},
     "outputs": [
      {
       "metadata": {},
       "output_type": "pyout",
       "prompt_number": 38,
       "text": [
        "1188"
       ]
      }
     ],
     "prompt_number": 38
    },
    {
     "cell_type": "code",
     "collapsed": false,
     "input": [
      "s_target[:10]"
     ],
     "language": "python",
     "metadata": {},
     "outputs": [
      {
       "metadata": {},
       "output_type": "pyout",
       "prompt_number": 39,
       "text": [
        "185888    25.920138\n",
        "13164     18.985234\n",
        "205731    16.446141\n",
        "408622    15.305251\n",
        "400154    15.036644\n",
        "374195    14.631485\n",
        "157955    14.617254\n",
        "234774    14.600170\n",
        "259778    14.282471\n",
        "327845    14.149207\n",
        "Name: target, dtype: float64"
       ]
      }
     ],
     "prompt_number": 39
    },
    {
     "cell_type": "code",
     "collapsed": false,
     "input": [
      "s_weight = df_train.var11.order(ascending=False)\n",
      "s_weight.plot(use_index=False)"
     ],
     "language": "python",
     "metadata": {},
     "outputs": [
      {
       "metadata": {},
       "output_type": "pyout",
       "prompt_number": 44,
       "text": [
        "<matplotlib.axes.AxesSubplot at 0x7fc0835fc690>"
       ]
      },
      {
       "metadata": {},
       "output_type": "display_data",
       "png": "[encoded data removed]",
       "text": [
        "<matplotlib.figure.Figure at 0x7fc0837f4d90>"
       ]
      }
     ],
     "prompt_number": 44
    },
    {
     "cell_type": "code",
     "collapsed": false,
     "input": [
      "s_weight[100000:200000].plot(use_index=False)"
     ],
     "language": "python",
     "metadata": {},
     "outputs": [
      {
       "metadata": {},
       "output_type": "pyout",
       "prompt_number": 45,
       "text": [
        "<matplotlib.axes.AxesSubplot at 0x7fc083530490>"
       ]
      },
      {
       "metadata": {},
       "output_type": "display_data",
       "png": "[encoded data removed]",
       "text": [
        "<matplotlib.figure.Figure at 0x7fc09042a9d0>"
       ]
      }
     ],
     "prompt_number": 45
    },
    {
     "cell_type": "code",
     "collapsed": false,
     "input": [
      "df_fires = df_train[df_train.target > 0]\n",
      "df_fires.id.count()"
     ],
     "language": "python",
     "metadata": {},
     "outputs": [
      {
       "metadata": {},
       "output_type": "pyout",
       "prompt_number": 3,
       "text": [
        "1188"
       ]
      }
     ],
     "prompt_number": 3
    },
    {
     "cell_type": "code",
     "collapsed": false,
     "input": [
      "df_weights = df_train[df_train.var11 > 1600 ]\n",
      "df_weights.id.count()"
     ],
     "language": "python",
     "metadata": {},
     "outputs": [
      {
       "metadata": {},
       "output_type": "pyout",
       "prompt_number": 46,
       "text": [
        "102450"
       ]
      }
     ],
     "prompt_number": 46
    },
    {
     "cell_type": "code",
     "collapsed": false,
     "input": [
      "import random\n",
      "sample_rows = random.sample((df_weights.index - df_fires.index), len(df_weights.index)/10)\n",
      "df_sample = df_train.ix[sample_rows]\n",
      "len(df_sample.index)"
     ],
     "language": "python",
     "metadata": {},
     "outputs": [
      {
       "metadata": {},
       "output_type": "pyout",
       "prompt_number": 48,
       "text": [
        "10245"
       ]
      }
     ],
     "prompt_number": 48
    },
    {
     "cell_type": "code",
     "collapsed": false,
     "input": [
      "df_sample[df_sample.target > 0].id.count()"
     ],
     "language": "python",
     "metadata": {},
     "outputs": [
      {
       "metadata": {},
       "output_type": "pyout",
       "prompt_number": 50,
       "text": [
        "0"
       ]
      }
     ],
     "prompt_number": 50
    },
    {
     "cell_type": "code",
     "collapsed": false,
     "input": [
      "df_out = pd.concat([df_sample, df_fires])"
     ],
     "language": "python",
     "metadata": {},
     "outputs": [],
     "prompt_number": 52
    },
    {
     "cell_type": "code",
     "collapsed": false,
     "input": [
      "df_out.to_csv('train_sample.csv', index=False, mode='wb')"
     ],
     "language": "python",
     "metadata": {},
     "outputs": [],
     "prompt_number": 61
    },
    {
     "cell_type": "code",
     "collapsed": false,
     "input": [
      "len(df_out.columns)"
     ],
     "language": "python",
     "metadata": {},
     "outputs": [
      {
       "metadata": {},
       "output_type": "pyout",
       "prompt_number": 62,
       "text": [
        "302"
       ]
      }
     ],
     "prompt_number": 62
    },
    {
     "cell_type": "code",
     "collapsed": false,
     "input": [
      "df_out[:2]"
     ],
     "language": "python",
     "metadata": {},
     "outputs": [
      {
       "html": [
        "<div style=\"max-height:1000px;max-width:1500px;overflow:auto;\">\n",
        "<table border=\"1\" class=\"dataframe\">\n",
        "  <thead>\n",
        "    <tr style=\"text-align: right;\">\n",
        "      <th></th>\n",
        "      <th>id</th>\n",
        "      <th>target</th>\n",
        "      <th>var1</th>\n",
        "      <th>var2</th>\n",
        "      <th>var3</th>\n",
        "      <th>var4</th>\n",
        "      <th>var5</th>\n",
        "      <th>var6</th>\n",
        "      <th>var7</th>\n",
        "      <th>var8</th>\n",
        "      <th>var9</th>\n",
        "      <th>var10</th>\n",
        "      <th>var11</th>\n",
        "      <th>var12</th>\n",
        "      <th>var13</th>\n",
        "      <th>var14</th>\n",
        "      <th>var15</th>\n",
        "      <th>var16</th>\n",
        "      <th>var17</th>\n",
        "      <th>dummy</th>\n",
        "      <th></th>\n",
        "    </tr>\n",
        "  </thead>\n",
        "  <tbody>\n",
        "    <tr>\n",
        "      <th>296385</th>\n",
        "      <td> 592049</td>\n",
        "      <td> 0</td>\n",
        "      <td>NaN</td>\n",
        "      <td> NaN</td>\n",
        "      <td>NaN</td>\n",
        "      <td> O2</td>\n",
        "      <td> NaN</td>\n",
        "      <td> NaN</td>\n",
        "      <td> 6</td>\n",
        "      <td> 4</td>\n",
        "      <td> A</td>\n",
        "      <td> 4.171214</td>\n",
        "      <td> 4402.834428</td>\n",
        "      <td>NaN</td>\n",
        "      <td> 1.815444</td>\n",
        "      <td>NaN</td>\n",
        "      <td> 53</td>\n",
        "      <td>NaN</td>\n",
        "      <td> 87.301883</td>\n",
        "      <td> A</td>\n",
        "      <td>...</td>\n",
        "    </tr>\n",
        "    <tr>\n",
        "      <th>327359</th>\n",
        "      <td> 653720</td>\n",
        "      <td> 0</td>\n",
        "      <td>NaN</td>\n",
        "      <td> NaN</td>\n",
        "      <td>NaN</td>\n",
        "      <td> H2</td>\n",
        "      <td> NaN</td>\n",
        "      <td> NaN</td>\n",
        "      <td> 5</td>\n",
        "      <td> 4</td>\n",
        "      <td> A</td>\n",
        "      <td> 3.898949</td>\n",
        "      <td> 1655.736694</td>\n",
        "      <td>NaN</td>\n",
        "      <td> 0.832555</td>\n",
        "      <td>NaN</td>\n",
        "      <td> 10</td>\n",
        "      <td>NaN</td>\n",
        "      <td> 87.399194</td>\n",
        "      <td> A</td>\n",
        "      <td>...</td>\n",
        "    </tr>\n",
        "  </tbody>\n",
        "</table>\n",
        "<p>2 rows \u00d7 302 columns</p>\n",
        "</div>"
       ],
       "metadata": {},
       "output_type": "pyout",
       "prompt_number": 63,
       "text": [
        "            id  target  var1 var2  var3 var4 var5 var6  var7  var8 var9  \\\n",
        "296385  592049       0   NaN  NaN   NaN   O2  NaN  NaN     6     4    A   \n",
        "327359  653720       0   NaN  NaN   NaN   H2  NaN  NaN     5     4    A   \n",
        "\n",
        "           var10        var11  var12     var13  var14  var15  var16  \\\n",
        "296385  4.171214  4402.834428    NaN  1.815444    NaN     53    NaN   \n",
        "327359  3.898949  1655.736694    NaN  0.832555    NaN     10    NaN   \n",
        "\n",
        "            var17 dummy      \n",
        "296385  87.301883     A ...  \n",
        "327359  87.399194     A ...  \n",
        "\n",
        "[2 rows x 302 columns]"
       ]
      }
     ],
     "prompt_number": 63
    },
    {
     "cell_type": "code",
     "collapsed": false,
     "input": [
      "ace_features = ['var11','var4','cat','var10','var13','var8','weatherVar65','weatherVar60','weatherVar148','weatherVar47','weatherVar161','weatherVar5','weatherVar18','weatherVar128','weatherVar23','weatherVar69','weatherVar28','weatherVar163','var17','weatherVar58','weatherVar44','weatherVar57','weatherVar164','weatherVar171','weatherVar61','weatherVar48','weatherVar109','weatherVar153','weatherVar20','weatherVar27','weatherVar21','weatherVar166','weatherVar38','weatherVar51','weatherVar155','geodemVar20','geodemVar16','weatherVar49','weatherVar106','weatherVar83','weatherVar74','weatherVar62','var9','var15','weatherVar24','weatherVar1','weatherVar11','weatherVar89','weatherVar71','geodemVar18','weatherVar10','weatherVar198','weatherVar68','weatherVar135','weatherVar53','weatherVar72','weatherVar14','weatherVar226','weatherVar227','weatherVar100','geodemVar15','weatherVar130','weatherVar52','weatherVar234','weatherVar16','weatherVar42','weatherVar93','weatherVar195','geodemVar32','weatherVar12','weatherVar217','weatherVar35','weatherVar40','geodemVar10','geodemVar23','geodemVar19','weatherVar188','weatherVar127','weatherVar141','geodemVar7','weatherVar232','weatherVar200','weatherVar119','weatherVar142','weatherVar213','weatherVar205','weatherVar176','weatherVar124','weatherVar159','weatherVar193','weatherVar6','weatherVar64','weatherVar139','weatherVar126','weatherVar75','weatherVar121','weatherVar134','weatherVar84','weatherVar236','weatherVar79']"
     ],
     "language": "python",
     "metadata": {},
     "outputs": [],
     "prompt_number": 32
    },
    {
     "cell_type": "code",
     "collapsed": false,
     "input": [
      "df_out_ace = df_train_subset[['target'] + ace_features]"
     ],
     "language": "python",
     "metadata": {},
     "outputs": [],
     "prompt_number": 54
    },
    {
     "cell_type": "code",
     "collapsed": false,
     "input": [
      "df_out_ace.to_csv('train_subset.csv', index_label='id', na_rep='?', header=False, mode='wb')"
     ],
     "language": "python",
     "metadata": {},
     "outputs": [],
     "prompt_number": 60
    },
    {
     "cell_type": "code",
     "collapsed": false,
     "input": [
      "df_outliers = pd.read_csv(\"outliers.csv\")\n",
      "df_outliers[:2]"
     ],
     "language": "python",
     "metadata": {},
     "outputs": [
      {
       "html": [
        "<div style=\"max-height:1000px;max-width:1500px;overflow:auto;\">\n",
        "<table border=\"1\" class=\"dataframe\">\n",
        "  <thead>\n",
        "    <tr style=\"text-align: right;\">\n",
        "      <th></th>\n",
        "      <th>outliers</th>\n",
        "    </tr>\n",
        "  </thead>\n",
        "  <tbody>\n",
        "    <tr>\n",
        "      <th>0</th>\n",
        "      <td>  26</td>\n",
        "    </tr>\n",
        "    <tr>\n",
        "      <th>1</th>\n",
        "      <td> 416</td>\n",
        "    </tr>\n",
        "  </tbody>\n",
        "</table>\n",
        "<p>2 rows \u00d7 1 columns</p>\n",
        "</div>"
       ],
       "metadata": {},
       "output_type": "pyout",
       "prompt_number": 5,
       "text": [
        "   outliers\n",
        "0        26\n",
        "1       416\n",
        "\n",
        "[2 rows x 1 columns]"
       ]
      }
     ],
     "prompt_number": 5
    },
    {
     "cell_type": "code",
     "collapsed": false,
     "input": [
      "df_train[:2]"
     ],
     "language": "python",
     "metadata": {},
     "outputs": [
      {
       "html": [
        "<div style=\"max-height:1000px;max-width:1500px;overflow:auto;\">\n",
        "<table border=\"1\" class=\"dataframe\">\n",
        "  <thead>\n",
        "    <tr style=\"text-align: right;\">\n",
        "      <th></th>\n",
        "      <th>id</th>\n",
        "      <th>target</th>\n",
        "      <th>var1</th>\n",
        "      <th>var2</th>\n",
        "      <th>var3</th>\n",
        "      <th>var4</th>\n",
        "      <th>var5</th>\n",
        "      <th>var6</th>\n",
        "      <th>var7</th>\n",
        "      <th>var8</th>\n",
        "      <th>var9</th>\n",
        "      <th>var10</th>\n",
        "      <th>var11</th>\n",
        "      <th>var12</th>\n",
        "      <th>var13</th>\n",
        "      <th>var14</th>\n",
        "      <th>var15</th>\n",
        "      <th>var16</th>\n",
        "      <th>var17</th>\n",
        "      <th>dummy</th>\n",
        "      <th></th>\n",
        "    </tr>\n",
        "  </thead>\n",
        "  <tbody>\n",
        "    <tr>\n",
        "      <th>0</th>\n",
        "      <td> 1</td>\n",
        "      <td> 0</td>\n",
        "      <td>NaN</td>\n",
        "      <td> NaN</td>\n",
        "      <td>NaN</td>\n",
        "      <td> N1</td>\n",
        "      <td> NaN</td>\n",
        "      <td> NaN</td>\n",
        "      <td> 3</td>\n",
        "      <td> 1</td>\n",
        "      <td> A</td>\n",
        "      <td> 3.898949</td>\n",
        "      <td> 705.907218</td>\n",
        "      <td>NaN</td>\n",
        "      <td> 0.000000</td>\n",
        "      <td>  0</td>\n",
        "      <td> 29</td>\n",
        "      <td>NaN</td>\n",
        "      <td>  84.337349</td>\n",
        "      <td> A</td>\n",
        "      <td>...</td>\n",
        "    </tr>\n",
        "    <tr>\n",
        "      <th>1</th>\n",
        "      <td> 2</td>\n",
        "      <td> 0</td>\n",
        "      <td>NaN</td>\n",
        "      <td> NaN</td>\n",
        "      <td>NaN</td>\n",
        "      <td> C1</td>\n",
        "      <td> NaN</td>\n",
        "      <td> NaN</td>\n",
        "      <td> 3</td>\n",
        "      <td> 2</td>\n",
        "      <td> A</td>\n",
        "      <td> 3.898949</td>\n",
        "      <td> 778.939664</td>\n",
        "      <td>NaN</td>\n",
        "      <td> 1.268636</td>\n",
        "      <td>NaN</td>\n",
        "      <td> 23</td>\n",
        "      <td>NaN</td>\n",
        "      <td> 100.000000</td>\n",
        "      <td> A</td>\n",
        "      <td>...</td>\n",
        "    </tr>\n",
        "  </tbody>\n",
        "</table>\n",
        "<p>2 rows \u00d7 302 columns</p>\n",
        "</div>"
       ],
       "metadata": {},
       "output_type": "pyout",
       "prompt_number": 6,
       "text": [
        "   id  target  var1 var2  var3 var4 var5 var6  var7  var8 var9     var10  \\\n",
        "0   1       0   NaN  NaN   NaN   N1  NaN  NaN     3     1    A  3.898949   \n",
        "1   2       0   NaN  NaN   NaN   C1  NaN  NaN     3     2    A  3.898949   \n",
        "\n",
        "        var11  var12     var13  var14  var15  var16       var17 dummy      \n",
        "0  705.907218    NaN  0.000000      0     29    NaN   84.337349     A ...  \n",
        "1  778.939664    NaN  1.268636    NaN     23    NaN  100.000000     A ...  \n",
        "\n",
        "[2 rows x 302 columns]"
       ]
      }
     ],
     "prompt_number": 6
    },
    {
     "cell_type": "code",
     "collapsed": false,
     "input": [
      "df_train_ix = df_train.set_index(\"id\")\n",
      "df_train_ix[:2]"
     ],
     "language": "python",
     "metadata": {},
     "outputs": [
      {
       "html": [
        "<div style=\"max-height:1000px;max-width:1500px;overflow:auto;\">\n",
        "<table border=\"1\" class=\"dataframe\">\n",
        "  <thead>\n",
        "    <tr style=\"text-align: right;\">\n",
        "      <th></th>\n",
        "      <th>target</th>\n",
        "      <th>var1</th>\n",
        "      <th>var2</th>\n",
        "      <th>var3</th>\n",
        "      <th>var4</th>\n",
        "      <th>var5</th>\n",
        "      <th>var6</th>\n",
        "      <th>var7</th>\n",
        "      <th>var8</th>\n",
        "      <th>var9</th>\n",
        "      <th>var10</th>\n",
        "      <th>var11</th>\n",
        "      <th>var12</th>\n",
        "      <th>var13</th>\n",
        "      <th>var14</th>\n",
        "      <th>var15</th>\n",
        "      <th>var16</th>\n",
        "      <th>var17</th>\n",
        "      <th>dummy</th>\n",
        "      <th>crimeVar1</th>\n",
        "      <th></th>\n",
        "    </tr>\n",
        "    <tr>\n",
        "      <th>id</th>\n",
        "      <th></th>\n",
        "      <th></th>\n",
        "      <th></th>\n",
        "      <th></th>\n",
        "      <th></th>\n",
        "      <th></th>\n",
        "      <th></th>\n",
        "      <th></th>\n",
        "      <th></th>\n",
        "      <th></th>\n",
        "      <th></th>\n",
        "      <th></th>\n",
        "      <th></th>\n",
        "      <th></th>\n",
        "      <th></th>\n",
        "      <th></th>\n",
        "      <th></th>\n",
        "      <th></th>\n",
        "      <th></th>\n",
        "      <th></th>\n",
        "    </tr>\n",
        "  </thead>\n",
        "  <tbody>\n",
        "    <tr>\n",
        "      <th>1</th>\n",
        "      <td> 0</td>\n",
        "      <td>NaN</td>\n",
        "      <td> NaN</td>\n",
        "      <td>NaN</td>\n",
        "      <td> N1</td>\n",
        "      <td> NaN</td>\n",
        "      <td> NaN</td>\n",
        "      <td> 3</td>\n",
        "      <td> 1</td>\n",
        "      <td> A</td>\n",
        "      <td> 3.898949</td>\n",
        "      <td> 705.907218</td>\n",
        "      <td>NaN</td>\n",
        "      <td> 0.000000</td>\n",
        "      <td>  0</td>\n",
        "      <td> 29</td>\n",
        "      <td>NaN</td>\n",
        "      <td>  84.337349</td>\n",
        "      <td> A</td>\n",
        "      <td> 0.868651</td>\n",
        "      <td>...</td>\n",
        "    </tr>\n",
        "    <tr>\n",
        "      <th>2</th>\n",
        "      <td> 0</td>\n",
        "      <td>NaN</td>\n",
        "      <td> NaN</td>\n",
        "      <td>NaN</td>\n",
        "      <td> C1</td>\n",
        "      <td> NaN</td>\n",
        "      <td> NaN</td>\n",
        "      <td> 3</td>\n",
        "      <td> 2</td>\n",
        "      <td> A</td>\n",
        "      <td> 3.898949</td>\n",
        "      <td> 778.939664</td>\n",
        "      <td>NaN</td>\n",
        "      <td> 1.268636</td>\n",
        "      <td>NaN</td>\n",
        "      <td> 23</td>\n",
        "      <td>NaN</td>\n",
        "      <td> 100.000000</td>\n",
        "      <td> A</td>\n",
        "      <td> 1.049803</td>\n",
        "      <td>...</td>\n",
        "    </tr>\n",
        "  </tbody>\n",
        "</table>\n",
        "<p>2 rows \u00d7 301 columns</p>\n",
        "</div>"
       ],
       "metadata": {},
       "output_type": "pyout",
       "prompt_number": 7,
       "text": [
        "    target  var1 var2  var3 var4 var5 var6  var7  var8 var9     var10  \\\n",
        "id                                                                      \n",
        "1        0   NaN  NaN   NaN   N1  NaN  NaN     3     1    A  3.898949   \n",
        "2        0   NaN  NaN   NaN   C1  NaN  NaN     3     2    A  3.898949   \n",
        "\n",
        "         var11  var12     var13  var14  var15  var16       var17 dummy  \\\n",
        "id                                                                       \n",
        "1   705.907218    NaN  0.000000      0     29    NaN   84.337349     A   \n",
        "2   778.939664    NaN  1.268636    NaN     23    NaN  100.000000     A   \n",
        "\n",
        "    crimeVar1      \n",
        "id                 \n",
        "1    0.868651 ...  \n",
        "2    1.049803 ...  \n",
        "\n",
        "[2 rows x 301 columns]"
       ]
      }
     ],
     "prompt_number": 7
    },
    {
     "cell_type": "code",
     "collapsed": false,
     "input": [
      "s_subset = list(set(df_train.id) - set(df_outliers.outliers))\n",
      "print len(df_train.id) \n",
      "print len(df_outliers.outliers) \n",
      "print len(s_subset)"
     ],
     "language": "python",
     "metadata": {},
     "outputs": [
      {
       "output_type": "stream",
       "stream": "stdout",
       "text": [
        "452061\n",
        "1537\n",
        "451282\n"
       ]
      }
     ],
     "prompt_number": 13
    },
    {
     "cell_type": "code",
     "collapsed": false,
     "input": [
      "df_outliers[1535:1537]"
     ],
     "language": "python",
     "metadata": {},
     "outputs": [
      {
       "html": [
        "<div style=\"max-height:1000px;max-width:1500px;overflow:auto;\">\n",
        "<table border=\"1\" class=\"dataframe\">\n",
        "  <thead>\n",
        "    <tr style=\"text-align: right;\">\n",
        "      <th></th>\n",
        "      <th>outliers</th>\n",
        "    </tr>\n",
        "  </thead>\n",
        "  <tbody>\n",
        "    <tr>\n",
        "      <th>1535</th>\n",
        "      <td> 450015</td>\n",
        "    </tr>\n",
        "    <tr>\n",
        "      <th>1536</th>\n",
        "      <td> 450688</td>\n",
        "    </tr>\n",
        "  </tbody>\n",
        "</table>\n",
        "<p>2 rows \u00d7 1 columns</p>\n",
        "</div>"
       ],
       "metadata": {},
       "output_type": "pyout",
       "prompt_number": 19,
       "text": [
        "      outliers\n",
        "1535    450015\n",
        "1536    450688\n",
        "\n",
        "[2 rows x 1 columns]"
       ]
      }
     ],
     "prompt_number": 19
    },
    {
     "cell_type": "code",
     "collapsed": false,
     "input": [
      "s_subset[:2]"
     ],
     "language": "python",
     "metadata": {},
     "outputs": [
      {
       "metadata": {},
       "output_type": "pyout",
       "prompt_number": 20,
       "text": [
        "[1, 2]"
       ]
      }
     ],
     "prompt_number": 20
    },
    {
     "cell_type": "code",
     "collapsed": false,
     "input": [
      "df_train_subset = df_train.ix[s_subset]\n",
      "len(df_train_subset.id)"
     ],
     "language": "python",
     "metadata": {},
     "outputs": [
      {
       "metadata": {},
       "output_type": "pyout",
       "prompt_number": 21,
       "text": [
        "451282"
       ]
      }
     ],
     "prompt_number": 21
    },
    {
     "cell_type": "code",
     "collapsed": false,
     "input": [
      "df_train_subset['cat'] = [s[0] if s is not NaN else NaN for s in df_train_subset.var4]"
     ],
     "language": "python",
     "metadata": {},
     "outputs": [],
     "prompt_number": 28
    },
    {
     "cell_type": "code",
     "collapsed": false,
     "input": [
      "df_train_subset['cat'][:20]"
     ],
     "language": "python",
     "metadata": {},
     "outputs": [
      {
       "metadata": {},
       "output_type": "pyout",
       "prompt_number": 31,
       "text": [
        "1     C\n",
        "2     J\n",
        "3     H\n",
        "4     H\n",
        "5     A\n",
        "6     H\n",
        "7     E\n",
        "8     M\n",
        "9     R\n",
        "12    J\n",
        "13    D\n",
        "15    R\n",
        "17    F\n",
        "18    M\n",
        "19    H\n",
        "22    R\n",
        "23    R\n",
        "25    H\n",
        "28    N\n",
        "29    E\n",
        "Name: cat, dtype: object"
       ]
      }
     ],
     "prompt_number": 31
    },
    {
     "cell_type": "code",
     "collapsed": false,
     "input": [],
     "language": "python",
     "metadata": {},
     "outputs": []
    },
    {
     "cell_type": "markdown",
     "metadata": {},
     "source": [
      "## Test Data"
     ]
    },
    {
     "cell_type": "code",
     "collapsed": false,
     "input": [
      "df_test = pd.read_csv(\"test.csv\", na_values='Z')"
     ],
     "language": "python",
     "metadata": {},
     "outputs": [],
     "prompt_number": 43
    },
    {
     "cell_type": "code",
     "collapsed": false,
     "input": [
      "df_test_ix = df_test.set_index('id')\n",
      "df_test_ix[:2]"
     ],
     "language": "python",
     "metadata": {},
     "outputs": [
      {
       "html": [
        "<div style=\"max-height:1000px;max-width:1500px;overflow:auto;\">\n",
        "<table border=\"1\" class=\"dataframe\">\n",
        "  <thead>\n",
        "    <tr style=\"text-align: right;\">\n",
        "      <th></th>\n",
        "      <th>var1</th>\n",
        "      <th>var2</th>\n",
        "      <th>var3</th>\n",
        "      <th>var4</th>\n",
        "      <th>var5</th>\n",
        "      <th>var6</th>\n",
        "      <th>var7</th>\n",
        "      <th>var8</th>\n",
        "      <th>var9</th>\n",
        "      <th>var10</th>\n",
        "      <th>var11</th>\n",
        "      <th>var12</th>\n",
        "      <th>var13</th>\n",
        "      <th>var14</th>\n",
        "      <th>var15</th>\n",
        "      <th>var16</th>\n",
        "      <th>var17</th>\n",
        "      <th>dummy</th>\n",
        "      <th>crimeVar1</th>\n",
        "      <th>crimeVar2</th>\n",
        "      <th></th>\n",
        "    </tr>\n",
        "    <tr>\n",
        "      <th>id</th>\n",
        "      <th></th>\n",
        "      <th></th>\n",
        "      <th></th>\n",
        "      <th></th>\n",
        "      <th></th>\n",
        "      <th></th>\n",
        "      <th></th>\n",
        "      <th></th>\n",
        "      <th></th>\n",
        "      <th></th>\n",
        "      <th></th>\n",
        "      <th></th>\n",
        "      <th></th>\n",
        "      <th></th>\n",
        "      <th></th>\n",
        "      <th></th>\n",
        "      <th></th>\n",
        "      <th></th>\n",
        "      <th></th>\n",
        "      <th></th>\n",
        "    </tr>\n",
        "  </thead>\n",
        "  <tbody>\n",
        "    <tr>\n",
        "      <th>10</th>\n",
        "      <td>NaN</td>\n",
        "      <td> NaN</td>\n",
        "      <td>NaN</td>\n",
        "      <td> N1</td>\n",
        "      <td> NaN</td>\n",
        "      <td> NaN</td>\n",
        "      <td> 4</td>\n",
        "      <td> 2</td>\n",
        "      <td> A</td>\n",
        "      <td> 4.171214</td>\n",
        "      <td>  774.596669</td>\n",
        "      <td>NaN</td>\n",
        "      <td> 1.048147</td>\n",
        "      <td>NaN</td>\n",
        "      <td> 38</td>\n",
        "      <td>NaN</td>\n",
        "      <td> 100.000000</td>\n",
        "      <td> A</td>\n",
        "      <td> 1.79476</td>\n",
        "      <td> 0.936809</td>\n",
        "      <td>...</td>\n",
        "    </tr>\n",
        "    <tr>\n",
        "      <th>11</th>\n",
        "      <td>NaN</td>\n",
        "      <td> NaN</td>\n",
        "      <td>NaN</td>\n",
        "      <td> O2</td>\n",
        "      <td> NaN</td>\n",
        "      <td> NaN</td>\n",
        "      <td> 6</td>\n",
        "      <td> 4</td>\n",
        "      <td> A</td>\n",
        "      <td> 4.039930</td>\n",
        "      <td> 3504.665319</td>\n",
        "      <td>NaN</td>\n",
        "      <td> 1.700109</td>\n",
        "      <td>NaN</td>\n",
        "      <td>  9</td>\n",
        "      <td>NaN</td>\n",
        "      <td>  93.623766</td>\n",
        "      <td> A</td>\n",
        "      <td>     NaN</td>\n",
        "      <td>      NaN</td>\n",
        "      <td>...</td>\n",
        "    </tr>\n",
        "  </tbody>\n",
        "</table>\n",
        "<p>2 rows \u00d7 300 columns</p>\n",
        "</div>"
       ],
       "metadata": {},
       "output_type": "pyout",
       "prompt_number": 46,
       "text": [
        "    var1 var2  var3 var4 var5 var6  var7  var8 var9     var10        var11  \\\n",
        "id                                                                           \n",
        "10   NaN  NaN   NaN   N1  NaN  NaN     4     2    A  4.171214   774.596669   \n",
        "11   NaN  NaN   NaN   O2  NaN  NaN     6     4    A  4.039930  3504.665319   \n",
        "\n",
        "    var12     var13  var14  var15  var16       var17 dummy  crimeVar1  \\\n",
        "id                                                                      \n",
        "10    NaN  1.048147    NaN     38    NaN  100.000000     A    1.79476   \n",
        "11    NaN  1.700109    NaN      9    NaN   93.623766     A        NaN   \n",
        "\n",
        "    crimeVar2      \n",
        "id                 \n",
        "10   0.936809 ...  \n",
        "11        NaN ...  \n",
        "\n",
        "[2 rows x 300 columns]"
       ]
      }
     ],
     "prompt_number": 46
    },
    {
     "cell_type": "code",
     "collapsed": false,
     "input": [
      "df_test_ix['target'] = 0"
     ],
     "language": "python",
     "metadata": {},
     "outputs": [],
     "prompt_number": 47
    },
    {
     "cell_type": "code",
     "collapsed": false,
     "input": [
      "df_test_ix['cat'] = [s[0] if s is not NaN else NaN for s in df_test_ix.var4]"
     ],
     "language": "python",
     "metadata": {},
     "outputs": [],
     "prompt_number": 49
    },
    {
     "cell_type": "code",
     "collapsed": false,
     "input": [
      "l_test_subset_ix = list(set(df_test_ix.index) - set(df_outliers.outliers))\n",
      "print len(df_test.id) \n",
      "print len(df_outliers.outliers) \n",
      "print len(l_test_subset_ix)"
     ],
     "language": "python",
     "metadata": {},
     "outputs": [
      {
       "output_type": "stream",
       "stream": "stdout",
       "text": [
        "450728\n",
        "1537\n",
        "449971\n"
       ]
      }
     ],
     "prompt_number": 51
    },
    {
     "cell_type": "code",
     "collapsed": false,
     "input": [
      "df_test_subset = df_test_ix.ix[l_test_subset_ix]\n",
      "len(df_test_subset.index)"
     ],
     "language": "python",
     "metadata": {},
     "outputs": [
      {
       "metadata": {},
       "output_type": "pyout",
       "prompt_number": 57,
       "text": [
        "449971"
       ]
      }
     ],
     "prompt_number": 57
    },
    {
     "cell_type": "code",
     "collapsed": false,
     "input": [
      "df_test_ace = df_test_subset[['target'] + ace_features]"
     ],
     "language": "python",
     "metadata": {},
     "outputs": [],
     "prompt_number": 58
    },
    {
     "cell_type": "code",
     "collapsed": false,
     "input": [
      "df_test_ace.to_csv('test_subset.csv', index_label='id', na_rep='?', header=False, mode='wb')"
     ],
     "language": "python",
     "metadata": {},
     "outputs": [],
     "prompt_number": 61
    },
    {
     "cell_type": "code",
     "collapsed": false,
     "input": [
      "df_test_ace = df_test[['id'] + ace_features]"
     ],
     "language": "python",
     "metadata": {},
     "outputs": [],
     "prompt_number": 85
    },
    {
     "cell_type": "code",
     "collapsed": false,
     "input": [
      "df_test_ace.to_csv('test_ace.csv', index=False, mode='wb')"
     ],
     "language": "python",
     "metadata": {},
     "outputs": [],
     "prompt_number": 86
    },
    {
     "cell_type": "code",
     "collapsed": false,
     "input": [
      "df_train.target[:100]"
     ],
     "language": "python",
     "metadata": {},
     "outputs": [
      {
       "metadata": {},
       "output_type": "pyout",
       "prompt_number": 87,
       "text": [
        "0     0\n",
        "1     0\n",
        "2     0\n",
        "3     0\n",
        "4     0\n",
        "5     0\n",
        "6     0\n",
        "7     0\n",
        "8     0\n",
        "9     0\n",
        "10    0\n",
        "11    0\n",
        "12    0\n",
        "13    0\n",
        "14    0\n",
        "...\n",
        "85    0\n",
        "86    0\n",
        "87    0\n",
        "88    0\n",
        "89    0\n",
        "90    0\n",
        "91    0\n",
        "92    0\n",
        "93    0\n",
        "94    0\n",
        "95    0\n",
        "96    0\n",
        "97    0\n",
        "98    0\n",
        "99    0\n",
        "Name: target, Length: 100, dtype: float64"
       ]
      }
     ],
     "prompt_number": 87
    },
    {
     "cell_type": "code",
     "collapsed": false,
     "input": [
      "df_test.to_csv(\"test_clean.csv\", cols=columns, index=False, na_rep='?', mode='wb')"
     ],
     "language": "python",
     "metadata": {},
     "outputs": [],
     "prompt_number": 75
    },
    {
     "cell_type": "code",
     "collapsed": false,
     "input": [
      "type(df_anomalies.cases)"
     ],
     "language": "python",
     "metadata": {},
     "outputs": [
      {
       "metadata": {},
       "output_type": "pyout",
       "prompt_number": 45,
       "text": [
        "pandas.core.series.Series"
       ]
      }
     ],
     "prompt_number": 45
    },
    {
     "cell_type": "code",
     "collapsed": false,
     "input": [
      "type(s_anomalies)"
     ],
     "language": "python",
     "metadata": {},
     "outputs": [
      {
       "metadata": {},
       "output_type": "pyout",
       "prompt_number": 10,
       "text": [
        "pandas.core.frame.DataFrame"
       ]
      }
     ],
     "prompt_number": 10
    },
    {
     "cell_type": "code",
     "collapsed": false,
     "input": [
      "(df_train.loc[df_anomalies.cases].target > 0).astype(int).sum()"
     ],
     "language": "python",
     "metadata": {},
     "outputs": [
      {
       "metadata": {},
       "output_type": "pyout",
       "prompt_number": 52,
       "text": [
        "1"
       ]
      }
     ],
     "prompt_number": 52
    },
    {
     "cell_type": "code",
     "collapsed": false,
     "input": [
      "df_train.set_index('id',inplace=True)\n",
      "df_train[:2]"
     ],
     "language": "python",
     "metadata": {},
     "outputs": [
      {
       "html": [
        "<div style=\"max-height:1000px;max-width:1500px;overflow:auto;\">\n",
        "<table border=\"1\" class=\"dataframe\">\n",
        "  <thead>\n",
        "    <tr style=\"text-align: right;\">\n",
        "      <th></th>\n",
        "      <th>target</th>\n",
        "      <th>var1</th>\n",
        "      <th>var2</th>\n",
        "      <th>var3</th>\n",
        "      <th>var4</th>\n",
        "      <th>var5</th>\n",
        "      <th>var6</th>\n",
        "      <th>var7</th>\n",
        "      <th>var8</th>\n",
        "      <th>var9</th>\n",
        "      <th>var10</th>\n",
        "      <th>var11</th>\n",
        "      <th>var12</th>\n",
        "      <th>var13</th>\n",
        "      <th>var14</th>\n",
        "      <th>var15</th>\n",
        "      <th>var16</th>\n",
        "      <th>var17</th>\n",
        "      <th>dummy</th>\n",
        "      <th>crimeVar1</th>\n",
        "      <th></th>\n",
        "    </tr>\n",
        "    <tr>\n",
        "      <th>id</th>\n",
        "      <th></th>\n",
        "      <th></th>\n",
        "      <th></th>\n",
        "      <th></th>\n",
        "      <th></th>\n",
        "      <th></th>\n",
        "      <th></th>\n",
        "      <th></th>\n",
        "      <th></th>\n",
        "      <th></th>\n",
        "      <th></th>\n",
        "      <th></th>\n",
        "      <th></th>\n",
        "      <th></th>\n",
        "      <th></th>\n",
        "      <th></th>\n",
        "      <th></th>\n",
        "      <th></th>\n",
        "      <th></th>\n",
        "      <th></th>\n",
        "    </tr>\n",
        "  </thead>\n",
        "  <tbody>\n",
        "    <tr>\n",
        "      <th>1</th>\n",
        "      <td> 0</td>\n",
        "      <td>NaN</td>\n",
        "      <td> NaN</td>\n",
        "      <td>NaN</td>\n",
        "      <td> N1</td>\n",
        "      <td> NaN</td>\n",
        "      <td> NaN</td>\n",
        "      <td> 3</td>\n",
        "      <td> 1</td>\n",
        "      <td> A</td>\n",
        "      <td> 3.898949</td>\n",
        "      <td> 705.907218</td>\n",
        "      <td>NaN</td>\n",
        "      <td> 0.000000</td>\n",
        "      <td>  0</td>\n",
        "      <td> 29</td>\n",
        "      <td>NaN</td>\n",
        "      <td>  84.337349</td>\n",
        "      <td> A</td>\n",
        "      <td> 0.868651</td>\n",
        "      <td>...</td>\n",
        "    </tr>\n",
        "    <tr>\n",
        "      <th>2</th>\n",
        "      <td> 0</td>\n",
        "      <td>NaN</td>\n",
        "      <td> NaN</td>\n",
        "      <td>NaN</td>\n",
        "      <td> C1</td>\n",
        "      <td> NaN</td>\n",
        "      <td> NaN</td>\n",
        "      <td> 3</td>\n",
        "      <td> 2</td>\n",
        "      <td> A</td>\n",
        "      <td> 3.898949</td>\n",
        "      <td> 778.939664</td>\n",
        "      <td>NaN</td>\n",
        "      <td> 1.268636</td>\n",
        "      <td>NaN</td>\n",
        "      <td> 23</td>\n",
        "      <td>NaN</td>\n",
        "      <td> 100.000000</td>\n",
        "      <td> A</td>\n",
        "      <td> 1.049803</td>\n",
        "      <td>...</td>\n",
        "    </tr>\n",
        "  </tbody>\n",
        "</table>\n",
        "<p>2 rows \u00d7 301 columns</p>\n",
        "</div>"
       ],
       "metadata": {},
       "output_type": "pyout",
       "prompt_number": 38,
       "text": [
        "    target  var1 var2  var3 var4 var5 var6  var7  var8 var9     var10  \\\n",
        "id                                                                      \n",
        "1        0   NaN  NaN   NaN   N1  NaN  NaN     3     1    A  3.898949   \n",
        "2        0   NaN  NaN   NaN   C1  NaN  NaN     3     2    A  3.898949   \n",
        "\n",
        "         var11  var12     var13  var14  var15  var16       var17 dummy  \\\n",
        "id                                                                       \n",
        "1   705.907218    NaN  0.000000      0     29    NaN   84.337349     A   \n",
        "2   778.939664    NaN  1.268636    NaN     23    NaN  100.000000     A   \n",
        "\n",
        "    crimeVar1      \n",
        "id                 \n",
        "1    0.868651 ...  \n",
        "2    1.049803 ...  \n",
        "\n",
        "[2 rows x 301 columns]"
       ]
      }
     ],
     "prompt_number": 38
    },
    {
     "cell_type": "code",
     "collapsed": false,
     "input": [
      "df_train.ix[902302]"
     ],
     "language": "python",
     "metadata": {},
     "outputs": [
      {
       "metadata": {},
       "output_type": "pyout",
       "prompt_number": 39,
       "text": [
        "target           0\n",
        "var1           NaN\n",
        "var2           NaN\n",
        "var3           NaN\n",
        "var4            O1\n",
        "var5           NaN\n",
        "var6           NaN\n",
        "var7             7\n",
        "var8             3\n",
        "var9             A\n",
        "var10     3.824453\n",
        "var11     535.1785\n",
        "var12          NaN\n",
        "var13     1.744856\n",
        "var14          NaN\n",
        "...\n",
        "weatherVar222       2.19012\n",
        "weatherVar223      4.942563\n",
        "weatherVar224             0\n",
        "weatherVar225      1.380741\n",
        "weatherVar226      4.409974\n",
        "weatherVar227     0.9688698\n",
        "weatherVar228             0\n",
        "weatherVar229             0\n",
        "weatherVar230             0\n",
        "weatherVar231     0.1294495\n",
        "weatherVar232      1.070349\n",
        "weatherVar233      1.252813\n",
        "weatherVar234      1.392026\n",
        "weatherVar235      1.387389\n",
        "weatherVar236    0.09116367\n",
        "Name: 902302, Length: 301, dtype: object"
       ]
      }
     ],
     "prompt_number": 39
    },
    {
     "cell_type": "code",
     "collapsed": false,
     "input": [
      "pd_anomalies.describe()"
     ],
     "language": "python",
     "metadata": {},
     "outputs": [
      {
       "html": [
        "<div style=\"max-height:1000px;max-width:1500px;overflow:auto;\">\n",
        "<table border=\"1\" class=\"dataframe\">\n",
        "  <thead>\n",
        "    <tr style=\"text-align: right;\">\n",
        "      <th></th>\n",
        "      <th>cases</th>\n",
        "    </tr>\n",
        "  </thead>\n",
        "  <tbody>\n",
        "    <tr>\n",
        "      <th>count</th>\n",
        "      <td>   1263.000000</td>\n",
        "    </tr>\n",
        "    <tr>\n",
        "      <th>mean</th>\n",
        "      <td> 450530.991291</td>\n",
        "    </tr>\n",
        "    <tr>\n",
        "      <th>std</th>\n",
        "      <td> 262482.251877</td>\n",
        "    </tr>\n",
        "    <tr>\n",
        "      <th>min</th>\n",
        "      <td>    168.000000</td>\n",
        "    </tr>\n",
        "    <tr>\n",
        "      <th>25%</th>\n",
        "      <td> 215781.500000</td>\n",
        "    </tr>\n",
        "    <tr>\n",
        "      <th>50%</th>\n",
        "      <td> 451960.000000</td>\n",
        "    </tr>\n",
        "    <tr>\n",
        "      <th>75%</th>\n",
        "      <td> 675876.500000</td>\n",
        "    </tr>\n",
        "    <tr>\n",
        "      <th>max</th>\n",
        "      <td> 902302.000000</td>\n",
        "    </tr>\n",
        "  </tbody>\n",
        "</table>\n",
        "<p>8 rows \u00d7 1 columns</p>\n",
        "</div>"
       ],
       "metadata": {},
       "output_type": "pyout",
       "prompt_number": 18,
       "text": [
        "               cases\n",
        "count    1263.000000\n",
        "mean   450530.991291\n",
        "std    262482.251877\n",
        "min       168.000000\n",
        "25%    215781.500000\n",
        "50%    451960.000000\n",
        "75%    675876.500000\n",
        "max    902302.000000\n",
        "\n",
        "[8 rows x 1 columns]"
       ]
      }
     ],
     "prompt_number": 18
    },
    {
     "cell_type": "code",
     "collapsed": false,
     "input": [
      "pd.version.version"
     ],
     "language": "python",
     "metadata": {},
     "outputs": [
      {
       "metadata": {},
       "output_type": "pyout",
       "prompt_number": 67,
       "text": [
        "'0.13.1'"
       ]
      }
     ],
     "prompt_number": 67
    },
    {
     "cell_type": "code",
     "collapsed": false,
     "input": [
      "df_train.id.describe()"
     ],
     "language": "python",
     "metadata": {},
     "outputs": [
      {
       "metadata": {},
       "output_type": "pyout",
       "prompt_number": 20,
       "text": [
        "count    452061.000000\n",
        "mean     451070.861853\n",
        "std      260818.512155\n",
        "min           1.000000\n",
        "25%      224901.000000\n",
        "50%      451349.000000\n",
        "75%      676883.000000\n",
        "max      902789.000000\n",
        "Name: id, dtype: float64"
       ]
      }
     ],
     "prompt_number": 20
    }
   ],
   "metadata": {}
  }
 ]
}