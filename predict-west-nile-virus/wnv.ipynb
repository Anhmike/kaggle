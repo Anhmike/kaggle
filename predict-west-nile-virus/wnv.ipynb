{
 "cells": [
  {
   "cell_type": "markdown",
   "metadata": {},
   "source": [
    "# predict west nile virus\n",
    "- https://www.kaggle.com/c/predict-west-nile-virus"
   ]
  },
  {
   "cell_type": "code",
   "execution_count": 2,
   "metadata": {
    "collapsed": true
   },
   "outputs": [],
   "source": [
    "import numpy as np\n",
    "import pandas as pd\n",
    "import matplotlib.pyplot as plt\n",
    "%matplotlib inline\n",
    "plt.rcParams['figure.figsize'] = (10,10)"
   ]
  },
  {
   "cell_type": "code",
   "execution_count": 3,
   "metadata": {
    "collapsed": false
   },
   "outputs": [],
   "source": [
    "y2008_start = pd.datetime(2008,1,1)\n",
    "y2008_stop = pd.datetime(2008,12,31)\n",
    "y2010_start = pd.datetime(2010,1,1)\n",
    "y2010_stop = pd.datetime(2010,12,31)\n",
    "y2012_start = pd.datetime(2012,1,1)\n",
    "y2012_stop = pd.datetime(2012,12,31)\n",
    "y2014_start = pd.datetime(2014,1,1)"
   ]
  },
  {
   "cell_type": "code",
   "execution_count": 10,
   "metadata": {
    "collapsed": false
   },
   "outputs": [
    {
     "data": {
      "text/html": [
       "<div>\n",
       "<table border=\"1\" class=\"dataframe\">\n",
       "  <thead>\n",
       "    <tr style=\"text-align: right;\">\n",
       "      <th></th>\n",
       "      <th>Date</th>\n",
       "      <th>Address</th>\n",
       "      <th>Species</th>\n",
       "      <th>Block</th>\n",
       "      <th>Street</th>\n",
       "      <th>Trap</th>\n",
       "      <th>AddressNumberAndStreet</th>\n",
       "      <th>Latitude</th>\n",
       "      <th>Longitude</th>\n",
       "      <th>AddressAccuracy</th>\n",
       "    </tr>\n",
       "    <tr>\n",
       "      <th>Id</th>\n",
       "      <th></th>\n",
       "      <th></th>\n",
       "      <th></th>\n",
       "      <th></th>\n",
       "      <th></th>\n",
       "      <th></th>\n",
       "      <th></th>\n",
       "      <th></th>\n",
       "      <th></th>\n",
       "      <th></th>\n",
       "    </tr>\n",
       "  </thead>\n",
       "  <tbody>\n",
       "    <tr>\n",
       "      <th>1</th>\n",
       "      <td>2008-06-11</td>\n",
       "      <td>4100 North Oak Park Avenue, Chicago, IL 60634,...</td>\n",
       "      <td>CULEX PIPIENS/RESTUANS</td>\n",
       "      <td>41</td>\n",
       "      <td>N OAK PARK AVE</td>\n",
       "      <td>T002</td>\n",
       "      <td>4100  N OAK PARK AVE, Chicago, IL</td>\n",
       "      <td>41.95469</td>\n",
       "      <td>-87.800991</td>\n",
       "      <td>9</td>\n",
       "    </tr>\n",
       "    <tr>\n",
       "      <th>2</th>\n",
       "      <td>2008-06-11</td>\n",
       "      <td>4100 North Oak Park Avenue, Chicago, IL 60634,...</td>\n",
       "      <td>CULEX RESTUANS</td>\n",
       "      <td>41</td>\n",
       "      <td>N OAK PARK AVE</td>\n",
       "      <td>T002</td>\n",
       "      <td>4100  N OAK PARK AVE, Chicago, IL</td>\n",
       "      <td>41.95469</td>\n",
       "      <td>-87.800991</td>\n",
       "      <td>9</td>\n",
       "    </tr>\n",
       "    <tr>\n",
       "      <th>3</th>\n",
       "      <td>2008-06-11</td>\n",
       "      <td>4100 North Oak Park Avenue, Chicago, IL 60634,...</td>\n",
       "      <td>CULEX PIPIENS</td>\n",
       "      <td>41</td>\n",
       "      <td>N OAK PARK AVE</td>\n",
       "      <td>T002</td>\n",
       "      <td>4100  N OAK PARK AVE, Chicago, IL</td>\n",
       "      <td>41.95469</td>\n",
       "      <td>-87.800991</td>\n",
       "      <td>9</td>\n",
       "    </tr>\n",
       "    <tr>\n",
       "      <th>4</th>\n",
       "      <td>2008-06-11</td>\n",
       "      <td>4100 North Oak Park Avenue, Chicago, IL 60634,...</td>\n",
       "      <td>CULEX SALINARIUS</td>\n",
       "      <td>41</td>\n",
       "      <td>N OAK PARK AVE</td>\n",
       "      <td>T002</td>\n",
       "      <td>4100  N OAK PARK AVE, Chicago, IL</td>\n",
       "      <td>41.95469</td>\n",
       "      <td>-87.800991</td>\n",
       "      <td>9</td>\n",
       "    </tr>\n",
       "    <tr>\n",
       "      <th>5</th>\n",
       "      <td>2008-06-11</td>\n",
       "      <td>4100 North Oak Park Avenue, Chicago, IL 60634,...</td>\n",
       "      <td>CULEX TERRITANS</td>\n",
       "      <td>41</td>\n",
       "      <td>N OAK PARK AVE</td>\n",
       "      <td>T002</td>\n",
       "      <td>4100  N OAK PARK AVE, Chicago, IL</td>\n",
       "      <td>41.95469</td>\n",
       "      <td>-87.800991</td>\n",
       "      <td>9</td>\n",
       "    </tr>\n",
       "  </tbody>\n",
       "</table>\n",
       "</div>"
      ],
      "text/plain": [
       "         Date                                            Address  \\\n",
       "Id                                                                 \n",
       "1  2008-06-11  4100 North Oak Park Avenue, Chicago, IL 60634,...   \n",
       "2  2008-06-11  4100 North Oak Park Avenue, Chicago, IL 60634,...   \n",
       "3  2008-06-11  4100 North Oak Park Avenue, Chicago, IL 60634,...   \n",
       "4  2008-06-11  4100 North Oak Park Avenue, Chicago, IL 60634,...   \n",
       "5  2008-06-11  4100 North Oak Park Avenue, Chicago, IL 60634,...   \n",
       "\n",
       "                   Species  Block           Street  Trap  \\\n",
       "Id                                                         \n",
       "1   CULEX PIPIENS/RESTUANS     41   N OAK PARK AVE  T002   \n",
       "2           CULEX RESTUANS     41   N OAK PARK AVE  T002   \n",
       "3            CULEX PIPIENS     41   N OAK PARK AVE  T002   \n",
       "4         CULEX SALINARIUS     41   N OAK PARK AVE  T002   \n",
       "5          CULEX TERRITANS     41   N OAK PARK AVE  T002   \n",
       "\n",
       "               AddressNumberAndStreet  Latitude  Longitude  AddressAccuracy  \n",
       "Id                                                                           \n",
       "1   4100  N OAK PARK AVE, Chicago, IL  41.95469 -87.800991                9  \n",
       "2   4100  N OAK PARK AVE, Chicago, IL  41.95469 -87.800991                9  \n",
       "3   4100  N OAK PARK AVE, Chicago, IL  41.95469 -87.800991                9  \n",
       "4   4100  N OAK PARK AVE, Chicago, IL  41.95469 -87.800991                9  \n",
       "5   4100  N OAK PARK AVE, Chicago, IL  41.95469 -87.800991                9  "
      ]
     },
     "execution_count": 10,
     "metadata": {},
     "output_type": "execute_result"
    }
   ],
   "source": [
    "test = pd.read_csv('test.csv')\n",
    "test.set_index('Id', inplace=True)\n",
    "test.Date = pd.to_datetime(test.Date)\n",
    "test[:5]"
   ]
  },
  {
   "cell_type": "code",
   "execution_count": 2,
   "metadata": {
    "collapsed": false
   },
   "outputs": [
    {
     "data": {
      "text/html": [
       "<div style=\"max-height:1000px;max-width:1500px;overflow:auto;\">\n",
       "<table border=\"1\" class=\"dataframe\">\n",
       "  <thead>\n",
       "    <tr style=\"text-align: right;\">\n",
       "      <th></th>\n",
       "      <th>Id</th>\n",
       "      <th>WnvPresent</th>\n",
       "    </tr>\n",
       "  </thead>\n",
       "  <tbody>\n",
       "    <tr>\n",
       "      <th>0</th>\n",
       "      <td>1</td>\n",
       "      <td>0.000008</td>\n",
       "    </tr>\n",
       "    <tr>\n",
       "      <th>1</th>\n",
       "      <td>2</td>\n",
       "      <td>0.000002</td>\n",
       "    </tr>\n",
       "    <tr>\n",
       "      <th>2</th>\n",
       "      <td>3</td>\n",
       "      <td>0.000006</td>\n",
       "    </tr>\n",
       "    <tr>\n",
       "      <th>3</th>\n",
       "      <td>4</td>\n",
       "      <td>0.000000</td>\n",
       "    </tr>\n",
       "  </tbody>\n",
       "</table>\n",
       "</div>"
      ],
      "text/plain": [
       "   Id  WnvPresent\n",
       "0   1    0.000008\n",
       "1   2    0.000002\n",
       "2   3    0.000006\n",
       "3   4    0.000000"
      ]
     },
     "execution_count": 2,
     "metadata": {},
     "output_type": "execute_result"
    }
   ],
   "source": [
    "sol = pd.read_csv('west_nile_v55_04.csv')\n",
    "sol[:4]"
   ]
  },
  {
   "cell_type": "code",
   "execution_count": 7,
   "metadata": {
    "collapsed": false
   },
   "outputs": [
    {
     "data": {
      "text/html": [
       "<div style=\"max-height:1000px;max-width:1500px;overflow:auto;\">\n",
       "<table border=\"1\" class=\"dataframe\">\n",
       "  <thead>\n",
       "    <tr style=\"text-align: right;\">\n",
       "      <th></th>\n",
       "      <th>WnvPresent</th>\n",
       "    </tr>\n",
       "    <tr>\n",
       "      <th>Id</th>\n",
       "      <th></th>\n",
       "    </tr>\n",
       "  </thead>\n",
       "  <tbody>\n",
       "    <tr>\n",
       "      <th>1</th>\n",
       "      <td>0.000008</td>\n",
       "    </tr>\n",
       "    <tr>\n",
       "      <th>2</th>\n",
       "      <td>0.000002</td>\n",
       "    </tr>\n",
       "  </tbody>\n",
       "</table>\n",
       "</div>"
      ],
      "text/plain": [
       "    WnvPresent\n",
       "Id            \n",
       "1     0.000008\n",
       "2     0.000002"
      ]
     },
     "execution_count": 7,
     "metadata": {},
     "output_type": "execute_result"
    }
   ],
   "source": [
    "sol.set_index('Id', inplace=True)\n",
    "sol[:2]"
   ]
  },
  {
   "cell_type": "code",
   "execution_count": 34,
   "metadata": {
    "collapsed": false
   },
   "outputs": [
    {
     "data": {
      "text/html": [
       "<div style=\"max-height:1000px;max-width:1500px;overflow:auto;\">\n",
       "<table border=\"1\" class=\"dataframe\">\n",
       "  <thead>\n",
       "    <tr style=\"text-align: right;\">\n",
       "      <th></th>\n",
       "      <th>WnvPresent</th>\n",
       "    </tr>\n",
       "    <tr>\n",
       "      <th>Id</th>\n",
       "      <th></th>\n",
       "    </tr>\n",
       "  </thead>\n",
       "  <tbody>\n",
       "    <tr>\n",
       "      <th>1</th>\n",
       "      <td>7.803044e-06</td>\n",
       "    </tr>\n",
       "    <tr>\n",
       "      <th>2</th>\n",
       "      <td>1.683694e-06</td>\n",
       "    </tr>\n",
       "    <tr>\n",
       "      <th>3</th>\n",
       "      <td>5.999032e-06</td>\n",
       "    </tr>\n",
       "    <tr>\n",
       "      <th>4</th>\n",
       "      <td>2.151363e-07</td>\n",
       "    </tr>\n",
       "    <tr>\n",
       "      <th>5</th>\n",
       "      <td>9.970123e-09</td>\n",
       "    </tr>\n",
       "  </tbody>\n",
       "</table>\n",
       "</div>"
      ],
      "text/plain": [
       "      WnvPresent\n",
       "Id              \n",
       "1   7.803044e-06\n",
       "2   1.683694e-06\n",
       "3   5.999032e-06\n",
       "4   2.151363e-07\n",
       "5   9.970123e-09"
      ]
     },
     "execution_count": 34,
     "metadata": {},
     "output_type": "execute_result"
    }
   ],
   "source": [
    "sol2 = sol.copy()\n",
    "for i in test.index:\n",
    "    if test.Date[i] > y2012_start and test.Date[i] < y2012_stop:\n",
    "        sol2.WnvPresent[i]  = sol2.WnvPresent[i] + (sol2.WnvPresent[i] * 0.05)\n",
    "sol2[:5]"
   ]
  },
  {
   "cell_type": "code",
   "execution_count": 35,
   "metadata": {
    "collapsed": true
   },
   "outputs": [],
   "source": [
    "sol2.to_csv('wnv_up2012.csv')"
   ]
  },
  {
   "cell_type": "code",
   "execution_count": 36,
   "metadata": {
    "collapsed": true
   },
   "outputs": [],
   "source": [
    "sol3 = sol.copy()\n",
    "for i in test.index:\n",
    "    if test.Date[i] > y2012_start and test.Date[i] < y2012_stop:\n",
    "        val = sol3.WnvPresent[i] + (sol3.WnvPresent[i] * 0.1)\n",
    "        if val < 1.0:\n",
    "            sol3.WnvPresent[i]  = val\n",
    "        else:\n",
    "            sol3.WnvPresent[i]  = 0.99"
   ]
  },
  {
   "cell_type": "code",
   "execution_count": 38,
   "metadata": {
    "collapsed": true
   },
   "outputs": [],
   "source": [
    "sol3.to_csv('wnv_up10_2012.csv')"
   ]
  },
  {
   "cell_type": "code",
   "execution_count": 40,
   "metadata": {
    "collapsed": true
   },
   "outputs": [],
   "source": [
    "sol4 = sol.copy()\n",
    "for i in test.index:\n",
    "    if test.Date[i] > y2012_start and test.Date[i] < y2012_stop:\n",
    "        val = sol4.WnvPresent[i] + (sol4.WnvPresent[i] * 0.2)\n",
    "        if val < 1.0:\n",
    "            sol4.WnvPresent[i]  = val\n",
    "        else:\n",
    "            sol4.WnvPresent[i]  = 0.99\n",
    "sol3.to_csv('wnv_up20_2012.csv')"
   ]
  },
  {
   "cell_type": "code",
   "execution_count": 41,
   "metadata": {
    "collapsed": true
   },
   "outputs": [],
   "source": [
    "sol5 = sol.copy()\n",
    "for i in test.index:\n",
    "    if test.Date[i] > y2012_start and test.Date[i] < y2012_stop:\n",
    "        val = sol5.WnvPresent[i] + (sol5.WnvPresent[i] * 2.0)\n",
    "        if val < 1.0:\n",
    "            sol5.WnvPresent[i]  = val\n",
    "        else:\n",
    "            sol5.WnvPresent[i]  = 0.99\n",
    "sol3.to_csv('wnv_up2_2012.csv')"
   ]
  },
  {
   "cell_type": "code",
   "execution_count": 45,
   "metadata": {
    "collapsed": false
   },
   "outputs": [
    {
     "data": {
      "text/html": [
       "<div style=\"max-height:1000px;max-width:1500px;overflow:auto;\">\n",
       "<table border=\"1\" class=\"dataframe\">\n",
       "  <thead>\n",
       "    <tr style=\"text-align: right;\">\n",
       "      <th></th>\n",
       "      <th>WnvPresent</th>\n",
       "    </tr>\n",
       "    <tr>\n",
       "      <th>Id</th>\n",
       "      <th></th>\n",
       "    </tr>\n",
       "  </thead>\n",
       "  <tbody>\n",
       "    <tr>\n",
       "      <th>1</th>\n",
       "      <td>0.000129</td>\n",
       "    </tr>\n",
       "    <tr>\n",
       "      <th>2</th>\n",
       "      <td>0.000038</td>\n",
       "    </tr>\n",
       "    <tr>\n",
       "      <th>3</th>\n",
       "      <td>0.000095</td>\n",
       "    </tr>\n",
       "    <tr>\n",
       "      <th>4</th>\n",
       "      <td>0.000006</td>\n",
       "    </tr>\n",
       "    <tr>\n",
       "      <th>5</th>\n",
       "      <td>0.000000</td>\n",
       "    </tr>\n",
       "  </tbody>\n",
       "</table>\n",
       "</div>"
      ],
      "text/plain": [
       "    WnvPresent\n",
       "Id            \n",
       "1     0.000129\n",
       "2     0.000038\n",
       "3     0.000095\n",
       "4     0.000006\n",
       "5     0.000000"
      ]
     },
     "execution_count": 45,
     "metadata": {},
     "output_type": "execute_result"
    }
   ],
   "source": [
    "sol_2 = pd.read_csv('west_nile_v55044_2.csv')\n",
    "sol_2.set_index('Id', inplace=True)\n",
    "sol_2[:5]"
   ]
  },
  {
   "cell_type": "code",
   "execution_count": 46,
   "metadata": {
    "collapsed": false
   },
   "outputs": [],
   "source": [
    "sol_2_2 = sol_2.copy()\n",
    "sol = sol_2_2\n",
    "for i in test.index:\n",
    "    if test.Date[i] > y2012_start and test.Date[i] < y2012_stop:\n",
    "        val = sol.WnvPresent[i] + (sol.WnvPresent[i] * 0.1)\n",
    "        if val < 1.0:\n",
    "            sol.WnvPresent[i]  = val\n",
    "        else:\n",
    "            sol.WnvPresent[i]  = 0.99\n",
    "sol.to_csv('wnv_v2_up10_2012.csv')"
   ]
  },
  {
   "cell_type": "code",
   "execution_count": 12,
   "metadata": {
    "collapsed": false
   },
   "outputs": [],
   "source": [
    "lasagne_enhanced = pd.read_csv('enhanced_final_opt.csv')\n",
    "lasagne_enhanced.set_index('Id', inplace=True)\n",
    "sol = lasagne_enhanced\n",
    "for i in test.index:\n",
    "    if test.Date[i] > y2012_start and test.Date[i] < y2012_stop:\n",
    "        val = sol.WnvPresent[i] * 1.75\n",
    "        if val < 1.0:\n",
    "            sol.WnvPresent[i]  = val\n",
    "        else:\n",
    "            sol.WnvPresent[i]  = 0.999\n",
    "sol.to_csv('enhanced_up75_2012.csv')"
   ]
  },
  {
   "cell_type": "code",
   "execution_count": 17,
   "metadata": {
    "collapsed": false
   },
   "outputs": [],
   "source": [
    "lasagne_enhanced = pd.read_csv('enhanced_final_opt.csv')\n",
    "lasagne_enhanced.set_index('Id', inplace=True)\n",
    "sol = lasagne_enhanced\n",
    "for i in test.index:\n",
    "    if test.Date[i] > y2012_start and test.Date[i] < y2012_stop:\n",
    "        val = sol.WnvPresent[i] * 1.75\n",
    "    elif test.Date[i] >= y2014_start:\n",
    "        val = sol.WnvPresent[i] * 0.9\n",
    "    if val < 1.0:\n",
    "        sol.WnvPresent[i]  = val\n",
    "    else:\n",
    "        sol.WnvPresent[i]  = 0.999\n",
    "\n",
    "sol.to_csv('enhanced_dn10_2014.csv')"
   ]
  },
  {
   "cell_type": "code",
   "execution_count": 18,
   "metadata": {
    "collapsed": true
   },
   "outputs": [],
   "source": [
    "wnv6 = pd.read_csv('west_nile_v6.csv')\n",
    "wnv6.set_index('Id', inplace=True)\n",
    "sol = wnv6\n",
    "for i in test.index:\n",
    "    if test.Date[i] > y2012_start and test.Date[i] < y2012_stop:\n",
    "        val = sol.WnvPresent[i] * 1.75\n",
    "        if val < 1.0:\n",
    "            sol.WnvPresent[i]  = val\n",
    "        else:\n",
    "            sol.WnvPresent[i]  = 0.999\n",
    "sol.to_csv('LNN_spray_up75_2012.csv')"
   ]
  },
  {
   "cell_type": "code",
   "execution_count": 20,
   "metadata": {
    "collapsed": true
   },
   "outputs": [],
   "source": [
    "up2010 = pd.read_csv('enhanced_up75_2012.csv')\n",
    "up2010.set_index('Id', inplace=True)\n",
    "sol = up2010\n",
    "for i in test.index:\n",
    "    if test.Date[i] > y2010_start and test.Date[i] < y2010_stop:\n",
    "        val = sol.WnvPresent[i] * 1.01\n",
    "        if val < 1.0:\n",
    "            sol.WnvPresent[i]  = val\n",
    "        else:\n",
    "            sol.WnvPresent[i]  = 0.999\n",
    "sol.to_csv('LNN_up01_2010.csv')"
   ]
  },
  {
   "cell_type": "code",
   "execution_count": 22,
   "metadata": {
    "collapsed": true
   },
   "outputs": [],
   "source": [
    "up2010 = pd.read_csv('enhanced_up75_2012.csv')\n",
    "up2010.set_index('Id', inplace=True)\n",
    "sol = up2010\n",
    "for i in test.index:\n",
    "    if test.Date[i] > y2010_start and test.Date[i] < y2010_stop:\n",
    "        val = sol.WnvPresent[i] * 0.90\n",
    "        if val < 1.0:\n",
    "            sol.WnvPresent[i]  = val\n",
    "        else:\n",
    "            sol.WnvPresent[i]  = 0.99999\n",
    "sol.to_csv('LNN_dn10_2010.csv')"
   ]
  },
  {
   "cell_type": "code",
   "execution_count": 13,
   "metadata": {
    "collapsed": false
   },
   "outputs": [],
   "source": [
    "dn2010 = pd.read_csv('enhanced_up75_2012.csv')\n",
    "dn2010.set_index('Id', inplace=True)\n",
    "sol = dn2010\n",
    "for i in test.index:\n",
    "    if test.Date[i] > y2010_start and test.Date[i] < y2010_stop:\n",
    "        val = sol.WnvPresent[i] * 0.75\n",
    "        if val < 1.0:\n",
    "            sol.WnvPresent[i]  = val\n",
    "        else:\n",
    "            sol.WnvPresent[i]  = 0.99999\n",
    "sol.to_csv('LNN_dn75_2010.csv')\n",
    "LNN_dn75_2010 = sol"
   ]
  },
  {
   "cell_type": "code",
   "execution_count": 7,
   "metadata": {
    "collapsed": true
   },
   "outputs": [],
   "source": [
    "dn2010 = pd.read_csv('enhanced_up75_2012.csv')\n",
    "dn2010.set_index('Id', inplace=True)\n",
    "sol = dn2010\n",
    "for i in test.index:\n",
    "    if test.Date[i] > y2010_start and test.Date[i] < y2010_stop:\n",
    "        val = sol.WnvPresent[i] * 0.25\n",
    "        if val < 1.0:\n",
    "            sol.WnvPresent[i]  = val\n",
    "        else:\n",
    "            sol.WnvPresent[i]  = 0.99999\n",
    "sol.to_csv('LNN_dn25_2010.csv')"
   ]
  },
  {
   "cell_type": "code",
   "execution_count": 8,
   "metadata": {
    "collapsed": true
   },
   "outputs": [],
   "source": [
    "dn2010 = pd.read_csv('enhanced_up75_2012.csv')\n",
    "dn2010.set_index('Id', inplace=True)\n",
    "sol = dn2010\n",
    "for i in test.index:\n",
    "    if test.Date[i] > y2010_start and test.Date[i] < y2010_stop:\n",
    "        val = sol.WnvPresent[i] * 0.50\n",
    "        if val < 1.0:\n",
    "            sol.WnvPresent[i]  = val\n",
    "        else:\n",
    "            sol.WnvPresent[i]  = 0.99999\n",
    "sol.to_csv('LNN_dn50_2010.csv')"
   ]
  },
  {
   "cell_type": "code",
   "execution_count": 10,
   "metadata": {
    "collapsed": true
   },
   "outputs": [],
   "source": [
    "dn2008 = pd.read_csv('LNN_dn75_2010.csv')\n",
    "dn2008.set_index('Id', inplace=True)\n",
    "sol = dn2008\n",
    "for i in test.index:\n",
    "    if test.Date[i] > y2008_start and test.Date[i] < y2008_stop:\n",
    "        val = sol.WnvPresent[i] * 0.75\n",
    "        if val < 1.0:\n",
    "            sol.WnvPresent[i]  = val\n",
    "        else:\n",
    "            sol.WnvPresent[i]  = 0.99999\n",
    "sol.to_csv('LNN_dn75_2008.csv')"
   ]
  },
  {
   "cell_type": "code",
   "execution_count": 6,
   "metadata": {
    "collapsed": false
   },
   "outputs": [],
   "source": [
    "dn2008 = pd.read_csv('LNN_dn75_2010.csv')\n",
    "dn2008.set_index('Id', inplace=True)\n",
    "sol = dn2008\n",
    "for i in test.index:\n",
    "    if test.Date[i] > y2008_start and test.Date[i] < y2008_stop:\n",
    "        val = sol.WnvPresent[i] * 0.90\n",
    "        if val < 1.0:\n",
    "            sol.WnvPresent[i]  = val\n",
    "        else:\n",
    "            sol.WnvPresent[i]  = 0.99999\n",
    "sol.to_csv('LNN_dn10_2008.csv')"
   ]
  },
  {
   "cell_type": "code",
   "execution_count": 7,
   "metadata": {
    "collapsed": true
   },
   "outputs": [],
   "source": [
    "dn2008 = pd.read_csv('LNN_dn75_2010.csv')\n",
    "dn2008.set_index('Id', inplace=True)\n",
    "sol = dn2008\n",
    "for i in test.index:\n",
    "    if test.Date[i] > y2008_start and test.Date[i] < y2008_stop:\n",
    "        val = sol.WnvPresent[i] * 1.1\n",
    "        if val < 1.0:\n",
    "            sol.WnvPresent[i]  = val\n",
    "        else:\n",
    "            sol.WnvPresent[i]  = 0.99999\n",
    "sol.to_csv('LNN_up10_2008.csv')"
   ]
  },
  {
   "cell_type": "code",
   "execution_count": 8,
   "metadata": {
    "collapsed": true
   },
   "outputs": [],
   "source": [
    "LNN = pd.read_csv('submission_final_opt_v5.csv')\n",
    "LNN.set_index('Id', inplace=True)\n",
    "sol = LNN\n",
    "for i in test.index:\n",
    "    val = sol.WnvPresent[i] \n",
    "    if test.Date[i] > y2010_start and test.Date[i] < y2010_stop:\n",
    "        val = val * 0.75\n",
    "    elif test.Date[i] > y2012_start and test.Date[i] < y2012_stop:\n",
    "        val = val * 1.75\n",
    "        \n",
    "    if val > 0.9999999:\n",
    "        sol.WnvPresent[i]  = 0.99999\n",
    "        \n",
    "sol.to_csv('LNN_final_v5.csv')\n",
    "LNN_mod = sol"
   ]
  },
  {
   "cell_type": "code",
   "execution_count": 12,
   "metadata": {
    "collapsed": true
   },
   "outputs": [],
   "source": [
    "LNN_mod = sol"
   ]
  },
  {
   "cell_type": "code",
   "execution_count": 9,
   "metadata": {
    "collapsed": false
   },
   "outputs": [
    {
     "name": "stdout",
     "output_type": "stream",
     "text": [
      "Populating the interactive namespace from numpy and matplotlib\n"
     ]
    },
    {
     "name": "stderr",
     "output_type": "stream",
     "text": [
      "WARNING: pylab import has clobbered these variables: ['test']\n",
      "`%matplotlib` prevents importing * from pylab and numpy\n"
     ]
    }
   ],
   "source": [
    "import matplotlib.pyplot as plt\n",
    "%pylab inline\n",
    "plt.rcParams['figure.figsize'] = (10,10)"
   ]
  },
  {
   "cell_type": "code",
   "execution_count": 31,
   "metadata": {
    "collapsed": false
   },
   "outputs": [],
   "source": [
    "def plot_compare(x, xlabel, y, ylabel):\n",
    "    x = np.array(x)\n",
    "    y = np.array(y)\n",
    "    m, b = np.polyfit(x, y, 1)\n",
    "    fig = plt.figure()\n",
    "    ax = fig.add_subplot(1,1,1) # one row, one column, first plot\n",
    "    ax.scatter(x, y, s=1)\n",
    "    ax.set_xlabel(xlabel)\n",
    "    ax.set_ylabel(ylabel)\n",
    "    ax.set_title(\"Comparing\")\n",
    "    plt.plot(x, m*x + b, '-')\n",
    "    print(m)\n",
    "    plt.show()\n",
    "    return ax, m, b"
   ]
  },
  {
   "cell_type": "code",
   "execution_count": 38,
   "metadata": {
    "collapsed": false
   },
   "outputs": [
    {
     "name": "stdout",
     "output_type": "stream",
     "text": [
      "1.20489423847\n"
     ]
    },
    {
     "data": {
      "image/png": "[encoded data removed]",
      "text/plain": [
       "<matplotlib.figure.Figure at 0x110ba70d0>"
      ]
     },
     "metadata": {},
     "output_type": "display_data"
    }
   ],
   "source": [
    "ax, m, b = plot_compare(LNN_mod.WnvPresent, \"LNN_mod\", LNN_dn75_2010.WnvPresent, \"LNN_dn75_2010\")"
   ]
  },
  {
   "cell_type": "code",
   "execution_count": 39,
   "metadata": {
    "collapsed": false
   },
   "outputs": [
    {
     "data": {
      "text/plain": [
       "1.2048942384704204"
      ]
     },
     "execution_count": 39,
     "metadata": {},
     "output_type": "execute_result"
    }
   ],
   "source": [
    "m"
   ]
  },
  {
   "cell_type": "code",
   "execution_count": 51,
   "metadata": {
    "collapsed": false
   },
   "outputs": [],
   "source": [
    "LNN_mod_2 = LNN_mod * m\n",
    "for i in LNN_mod_2.index:\n",
    "    if LNN_mod_2.WnvPresent[i] > 0.99999:\n",
    "        LNN_mod_2.WnvPresent[i] = 0.99999"
   ]
  },
  {
   "cell_type": "code",
   "execution_count": 41,
   "metadata": {
    "collapsed": false
   },
   "outputs": [
    {
     "name": "stdout",
     "output_type": "stream",
     "text": [
      "1.0\n"
     ]
    },
    {
     "data": {
      "image/png": "[encoded data removed]",
      "text/plain": [
       "<matplotlib.figure.Figure at 0x1096aae90>"
      ]
     },
     "metadata": {},
     "output_type": "display_data"
    },
    {
     "data": {
      "text/plain": [
       "(<matplotlib.axes._subplots.AxesSubplot at 0x113280150>,\n",
       " 0.99999999999999989,\n",
       " 0.0058669761795514192)"
      ]
     },
     "execution_count": 41,
     "metadata": {},
     "output_type": "execute_result"
    }
   ],
   "source": [
    "plot_compare(LNN_mod_2.WnvPresent, \"LNN_mod_2\", LNN_dn75_2010.WnvPresent, \"LNN_dn75_2010\")"
   ]
  },
  {
   "cell_type": "code",
   "execution_count": 52,
   "metadata": {
    "collapsed": true
   },
   "outputs": [],
   "source": [
    "LNN_mod_2.to_csv('LNN_final_v6.csv')"
   ]
  },
  {
   "cell_type": "code",
   "execution_count": 50,
   "metadata": {
    "collapsed": false
   },
   "outputs": [
    {
     "name": "stdout",
     "output_type": "stream",
     "text": [
      "1.03593860054\n",
      "1.03593860054\n",
      "1.05319098249\n"
     ]
    }
   ],
   "source": [
    "for i in LNN_mod_2.index:\n",
    "    if LNN_mod_2.WnvPresent[i] > 0.99999:\n",
    "        print LNN_mod_2.WnvPresent[i] "
   ]
  },
  {
   "cell_type": "code",
   "execution_count": null,
   "metadata": {
    "collapsed": true
   },
   "outputs": [],
   "source": []
  }
 ],
 "metadata": {
  "anaconda-cloud": {},
  "hide_input": false,
  "kernelspec": {
   "display_name": "Python 2",
   "language": "python",
   "name": "python2"
  },
  "language_info": {
   "codemirror_mode": {
    "name": "ipython",
    "version": 2
   },
   "file_extension": ".py",
   "mimetype": "text/x-python",
   "name": "python",
   "nbconvert_exporter": "python",
   "pygments_lexer": "ipython2",
   "version": "2.7.10"
  }
 },
 "nbformat": 4,
 "nbformat_minor": 0
}
